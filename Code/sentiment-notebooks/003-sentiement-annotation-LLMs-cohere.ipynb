{
 "cells": [
  {
   "cell_type": "code",
   "execution_count": 1,
   "id": "20274818-1e65-49e1-a417-116dcfc2b537",
   "metadata": {
    "tags": []
   },
   "outputs": [],
   "source": [
    "from rich import print\n",
    "import json\n",
    "from tqdm import tqdm\n",
    "from dotenv import load_dotenv, find_dotenv\n",
    "import os\n",
    "from openai import OpenAI\n",
    "import cohere\n",
    "import pandas as pd\n",
    "from tqdm import tqdm\n",
    "import time"
   ]
  },
  {
   "cell_type": "code",
   "execution_count": 2,
   "id": "def3e58f-c41d-4248-b8e4-645d636ad979",
   "metadata": {
    "tags": []
   },
   "outputs": [],
   "source": [
    "_ = load_dotenv(find_dotenv())\n",
    "api_key = os.environ['OPENAI_API_KEY']\n",
    "\n",
    "# base_url = os.environ['OPENAI_BASE_URL']\n",
    "co = cohere.Client()"
   ]
  },
  {
   "cell_type": "code",
   "execution_count": 3,
   "id": "03d002c3-36b9-4c9f-950c-5ae16365ab44",
   "metadata": {
    "tags": []
   },
   "outputs": [
    {
     "data": {
      "text/plain": [
       "'/notebooks/ABSA/notebooks/sentiment-notebooks'"
      ]
     },
     "execution_count": 3,
     "metadata": {},
     "output_type": "execute_result"
    }
   ],
   "source": [
    "pwd"
   ]
  },
  {
   "cell_type": "code",
   "execution_count": 4,
   "id": "05330e9b-d272-4c66-b9d0-978129843a11",
   "metadata": {
    "tags": []
   },
   "outputs": [],
   "source": [
    "example1 = \"المحتوى أكثر من رائع\""
   ]
  },
  {
   "cell_type": "code",
   "execution_count": 5,
   "id": "b7d4c52e-d31f-4417-bbcf-a184ab71c020",
   "metadata": {
    "tags": []
   },
   "outputs": [],
   "source": [
    "system_message = \"\"\"\n",
    "You will receive a review about educational services, and your task is to classify its sentiment as positive, neutral, or negative.\n",
    "The review may be in English language, in Arabic language ,or both.\n",
    "The only allowed output options are [positive, neutral, negative]\n",
    "\"\"\""
   ]
  },
  {
   "cell_type": "code",
   "execution_count": 6,
   "id": "d8af00df-d992-46d3-a43d-8ece6bd1c4d7",
   "metadata": {
    "tags": []
   },
   "outputs": [],
   "source": [
    "user_template = \"\"\"\n",
    "In context of sentiment analysis, you have to classify the sentiment of the following review into positive, neutral, or negative.\n",
    "\n",
    "review:\n",
    "###\n",
    "{}\n",
    "###\n",
    "\n",
    "output: \n",
    "\"\"\""
   ]
  },
  {
   "cell_type": "code",
   "execution_count": 7,
   "id": "9eadf9de-615d-4103-8efc-45aa27181e41",
   "metadata": {
    "tags": []
   },
   "outputs": [],
   "source": [
    "def format_user_message(template, text):\n",
    "    return template.format(text)\n"
   ]
  },
  {
   "cell_type": "code",
   "execution_count": 8,
   "id": "fdd7a40c-e0fe-4350-8048-0865bc510ed1",
   "metadata": {
    "tags": []
   },
   "outputs": [],
   "source": [
    "def format_one_example(review):\n",
    "    return {\n",
    "        \"messages\": [\n",
    "            {\n",
    "                \"role\": \"system\",\n",
    "                \"content\": system_message\n",
    "            },\n",
    "            {\n",
    "                \"role\": \"user\",\n",
    "                \"content\": format_user_message(user_template, review)\n",
    "            }\n",
    "        ]\n",
    "    }"
   ]
  },
  {
   "cell_type": "code",
   "execution_count": 9,
   "id": "1ddf2a75-c8f8-4275-bf8e-bb26c0ddfb99",
   "metadata": {
    "tags": []
   },
   "outputs": [
    {
     "data": {
      "text/html": [
       "<pre style=\"white-space:pre;overflow-x:auto;line-height:normal;font-family:Menlo,'DejaVu Sans Mono',consolas,'Courier New',monospace\">\n",
       "In context of sentiment analysis, you have to classify the sentiment of the following review into positive, \n",
       "neutral, or negative.\n",
       "\n",
       "review:\n",
       "###\n",
       "المحتوى أكثر من رائع\n",
       "###\n",
       "\n",
       "output: \n",
       "\n",
       "</pre>\n"
      ],
      "text/plain": [
       "\n",
       "In context of sentiment analysis, you have to classify the sentiment of the following review into positive, \n",
       "neutral, or negative.\n",
       "\n",
       "review:\n",
       "###\n",
       "المحتوى أكثر من رائع\n",
       "###\n",
       "\n",
       "output: \n",
       "\n"
      ]
     },
     "metadata": {},
     "output_type": "display_data"
    }
   ],
   "source": [
    "print(format_one_example(example1)['messages'][1]['content'])"
   ]
  },
  {
   "cell_type": "code",
   "execution_count": 10,
   "id": "b48847b7-dca0-45a5-8d2c-a26100516a97",
   "metadata": {
    "tags": []
   },
   "outputs": [],
   "source": [
    "# model_name = 'meta-llama/Meta-Llama-3-70B-Instruct'\n",
    "# model_name = 'meta-llama/Meta-Llama-3-70B-Instruct'\n",
    "# model_name = 'gpt-4o'\n",
    "model_name = 'command-r-plus'\n",
    "def get_completion(review, model_name):\n",
    "    completion = co.chat(\n",
    "        model=model_name, preamble=format_one_example(review)['messages'][0]['content'], \n",
    "        temperature=0.0, message=format_one_example(review)['messages'][1]['content'],\n",
    "        chat_history = [{'role': 'SYSTEM', 'message': system_message}]\n",
    "    )\n",
    "    \n",
    "    return completion"
   ]
  },
  {
   "cell_type": "code",
   "execution_count": 11,
   "id": "338c81e9-7aa0-4673-894b-0c072bed597f",
   "metadata": {
    "tags": []
   },
   "outputs": [],
   "source": [
    "def predict_gpt(item, model_name=model_name, interval=1):\n",
    "    label = get_completion(item, model_name)\n",
    "    # result = json.loads(completion)\n",
    "    # pred_labels = [result.get(token, 'O') for token in item['tokens']]\n",
    "    # pred_labels = [v for k, v in result.items()]\n",
    "    # organizations = result['Organizations']\n",
    "    time.sleep(interval)\n",
    "    return label.text"
   ]
  },
  {
   "cell_type": "code",
   "execution_count": 12,
   "id": "4378114d-338a-4d21-82c1-d5c12b3acb7e",
   "metadata": {
    "tags": []
   },
   "outputs": [],
   "source": [
    "example1 = \"the doctor is very helpful\""
   ]
  },
  {
   "cell_type": "code",
   "execution_count": 13,
   "id": "09919ccf-8a9f-4c71-86bd-1bfece285a43",
   "metadata": {
    "tags": []
   },
   "outputs": [
    {
     "data": {
      "text/html": [
       "<pre style=\"white-space:pre;overflow-x:auto;line-height:normal;font-family:Menlo,'DejaVu Sans Mono',consolas,'Courier New',monospace\"><span style=\"color: #800080; text-decoration-color: #800080; font-weight: bold\">NonStreamedChatResponse</span><span style=\"font-weight: bold\">(</span>\n",
       "    <span style=\"color: #808000; text-decoration-color: #808000\">text</span>=<span style=\"color: #008000; text-decoration-color: #008000\">'positive'</span>,\n",
       "    <span style=\"color: #808000; text-decoration-color: #808000\">generation_id</span>=<span style=\"color: #008000; text-decoration-color: #008000\">'11407caa-f741-459e-aca7-c62e21ad8bdb'</span>,\n",
       "    <span style=\"color: #808000; text-decoration-color: #808000\">citations</span>=<span style=\"color: #800080; text-decoration-color: #800080; font-style: italic\">None</span>,\n",
       "    <span style=\"color: #808000; text-decoration-color: #808000\">documents</span>=<span style=\"color: #800080; text-decoration-color: #800080; font-style: italic\">None</span>,\n",
       "    <span style=\"color: #808000; text-decoration-color: #808000\">is_search_required</span>=<span style=\"color: #800080; text-decoration-color: #800080; font-style: italic\">None</span>,\n",
       "    <span style=\"color: #808000; text-decoration-color: #808000\">search_queries</span>=<span style=\"color: #800080; text-decoration-color: #800080; font-style: italic\">None</span>,\n",
       "    <span style=\"color: #808000; text-decoration-color: #808000\">search_results</span>=<span style=\"color: #800080; text-decoration-color: #800080; font-style: italic\">None</span>,\n",
       "    <span style=\"color: #808000; text-decoration-color: #808000\">finish_reason</span>=<span style=\"color: #008000; text-decoration-color: #008000\">'COMPLETE'</span>,\n",
       "    <span style=\"color: #808000; text-decoration-color: #808000\">tool_calls</span>=<span style=\"color: #800080; text-decoration-color: #800080; font-style: italic\">None</span>,\n",
       "    <span style=\"color: #808000; text-decoration-color: #808000\">chat_history</span>=<span style=\"font-weight: bold\">[</span>\n",
       "        <span style=\"color: #800080; text-decoration-color: #800080; font-weight: bold\">Message_System</span><span style=\"font-weight: bold\">(</span>\n",
       "            <span style=\"color: #808000; text-decoration-color: #808000\">message</span>=<span style=\"color: #008000; text-decoration-color: #008000\">'\\nYou will receive a review about educational services, and your task is to classify its </span>\n",
       "<span style=\"color: #008000; text-decoration-color: #008000\">sentiment as positive, neutral, or negative.\\nThe review may be in English language, in Arabic language ,or </span>\n",
       "<span style=\"color: #008000; text-decoration-color: #008000\">both.\\nThe only allowed output options are [positive, neutral, negative]\\n'</span>,\n",
       "            <span style=\"color: #808000; text-decoration-color: #808000\">tool_calls</span>=<span style=\"color: #800080; text-decoration-color: #800080; font-style: italic\">None</span>,\n",
       "            <span style=\"color: #808000; text-decoration-color: #808000\">role</span>=<span style=\"color: #008000; text-decoration-color: #008000\">'SYSTEM'</span>\n",
       "        <span style=\"font-weight: bold\">)</span>,\n",
       "        <span style=\"color: #800080; text-decoration-color: #800080; font-weight: bold\">Message_User</span><span style=\"font-weight: bold\">(</span>\n",
       "            <span style=\"color: #808000; text-decoration-color: #808000\">message</span>=<span style=\"color: #008000; text-decoration-color: #008000\">'\\nIn context of sentiment analysis, you have to classify the sentiment of the following review</span>\n",
       "<span style=\"color: #008000; text-decoration-color: #008000\">into positive, neutral, or negative.\\n\\nreview:\\n###\\nthe doctor is very helpful\\n###\\n\\noutput: \\n'</span>,\n",
       "            <span style=\"color: #808000; text-decoration-color: #808000\">tool_calls</span>=<span style=\"color: #800080; text-decoration-color: #800080; font-style: italic\">None</span>,\n",
       "            <span style=\"color: #808000; text-decoration-color: #808000\">role</span>=<span style=\"color: #008000; text-decoration-color: #008000\">'USER'</span>\n",
       "        <span style=\"font-weight: bold\">)</span>,\n",
       "        <span style=\"color: #800080; text-decoration-color: #800080; font-weight: bold\">Message_Chatbot</span><span style=\"font-weight: bold\">(</span><span style=\"color: #808000; text-decoration-color: #808000\">message</span>=<span style=\"color: #008000; text-decoration-color: #008000\">'positive'</span>, <span style=\"color: #808000; text-decoration-color: #808000\">tool_calls</span>=<span style=\"color: #800080; text-decoration-color: #800080; font-style: italic\">None</span>, <span style=\"color: #808000; text-decoration-color: #808000\">role</span>=<span style=\"color: #008000; text-decoration-color: #008000\">'CHATBOT'</span><span style=\"font-weight: bold\">)</span>\n",
       "    <span style=\"font-weight: bold\">]</span>,\n",
       "    <span style=\"color: #808000; text-decoration-color: #808000\">prompt</span>=<span style=\"color: #800080; text-decoration-color: #800080; font-style: italic\">None</span>,\n",
       "    <span style=\"color: #808000; text-decoration-color: #808000\">meta</span>=<span style=\"color: #800080; text-decoration-color: #800080; font-weight: bold\">ApiMeta</span><span style=\"font-weight: bold\">(</span>\n",
       "        <span style=\"color: #808000; text-decoration-color: #808000\">api_version</span>=<span style=\"color: #800080; text-decoration-color: #800080; font-weight: bold\">ApiMetaApiVersion</span><span style=\"font-weight: bold\">(</span><span style=\"color: #808000; text-decoration-color: #808000\">version</span>=<span style=\"color: #008000; text-decoration-color: #008000\">'1'</span>, <span style=\"color: #808000; text-decoration-color: #808000\">is_deprecated</span>=<span style=\"color: #800080; text-decoration-color: #800080; font-style: italic\">None</span>, <span style=\"color: #808000; text-decoration-color: #808000\">is_experimental</span>=<span style=\"color: #800080; text-decoration-color: #800080; font-style: italic\">None</span><span style=\"font-weight: bold\">)</span>,\n",
       "        <span style=\"color: #808000; text-decoration-color: #808000\">billed_units</span>=<span style=\"color: #800080; text-decoration-color: #800080; font-weight: bold\">ApiMetaBilledUnits</span><span style=\"font-weight: bold\">(</span>\n",
       "            <span style=\"color: #808000; text-decoration-color: #808000\">input_tokens</span>=<span style=\"color: #008080; text-decoration-color: #008080; font-weight: bold\">158</span>,\n",
       "            <span style=\"color: #808000; text-decoration-color: #808000\">output_tokens</span>=<span style=\"color: #008080; text-decoration-color: #008080; font-weight: bold\">1</span>,\n",
       "            <span style=\"color: #808000; text-decoration-color: #808000\">search_units</span>=<span style=\"color: #800080; text-decoration-color: #800080; font-style: italic\">None</span>,\n",
       "            <span style=\"color: #808000; text-decoration-color: #808000\">classifications</span>=<span style=\"color: #800080; text-decoration-color: #800080; font-style: italic\">None</span>\n",
       "        <span style=\"font-weight: bold\">)</span>,\n",
       "        <span style=\"color: #808000; text-decoration-color: #808000\">tokens</span>=<span style=\"color: #800080; text-decoration-color: #800080; font-weight: bold\">ApiMetaTokens</span><span style=\"font-weight: bold\">(</span><span style=\"color: #808000; text-decoration-color: #808000\">input_tokens</span>=<span style=\"color: #008080; text-decoration-color: #008080; font-weight: bold\">168</span>, <span style=\"color: #808000; text-decoration-color: #808000\">output_tokens</span>=<span style=\"color: #008080; text-decoration-color: #008080; font-weight: bold\">1</span><span style=\"font-weight: bold\">)</span>,\n",
       "        <span style=\"color: #808000; text-decoration-color: #808000\">warnings</span>=<span style=\"color: #800080; text-decoration-color: #800080; font-style: italic\">None</span>\n",
       "    <span style=\"font-weight: bold\">)</span>,\n",
       "    <span style=\"color: #808000; text-decoration-color: #808000\">response_id</span>=<span style=\"color: #008000; text-decoration-color: #008000\">'6c97aabc-a1ea-41d0-afb1-62b352422419'</span>\n",
       "<span style=\"font-weight: bold\">)</span>\n",
       "</pre>\n"
      ],
      "text/plain": [
       "\u001b[1;35mNonStreamedChatResponse\u001b[0m\u001b[1m(\u001b[0m\n",
       "    \u001b[33mtext\u001b[0m=\u001b[32m'positive'\u001b[0m,\n",
       "    \u001b[33mgeneration_id\u001b[0m=\u001b[32m'11407caa-f741-459e-aca7-c62e21ad8bdb'\u001b[0m,\n",
       "    \u001b[33mcitations\u001b[0m=\u001b[3;35mNone\u001b[0m,\n",
       "    \u001b[33mdocuments\u001b[0m=\u001b[3;35mNone\u001b[0m,\n",
       "    \u001b[33mis_search_required\u001b[0m=\u001b[3;35mNone\u001b[0m,\n",
       "    \u001b[33msearch_queries\u001b[0m=\u001b[3;35mNone\u001b[0m,\n",
       "    \u001b[33msearch_results\u001b[0m=\u001b[3;35mNone\u001b[0m,\n",
       "    \u001b[33mfinish_reason\u001b[0m=\u001b[32m'COMPLETE'\u001b[0m,\n",
       "    \u001b[33mtool_calls\u001b[0m=\u001b[3;35mNone\u001b[0m,\n",
       "    \u001b[33mchat_history\u001b[0m=\u001b[1m[\u001b[0m\n",
       "        \u001b[1;35mMessage_System\u001b[0m\u001b[1m(\u001b[0m\n",
       "            \u001b[33mmessage\u001b[0m=\u001b[32m'\\nYou will receive a review about educational services, and your task is to classify its \u001b[0m\n",
       "\u001b[32msentiment as positive, neutral, or negative.\\nThe review may be in English language, in Arabic language ,or \u001b[0m\n",
       "\u001b[32mboth.\\nThe only allowed output options are \u001b[0m\u001b[32m[\u001b[0m\u001b[32mpositive, neutral, negative\u001b[0m\u001b[32m]\u001b[0m\u001b[32m\\n'\u001b[0m,\n",
       "            \u001b[33mtool_calls\u001b[0m=\u001b[3;35mNone\u001b[0m,\n",
       "            \u001b[33mrole\u001b[0m=\u001b[32m'SYSTEM'\u001b[0m\n",
       "        \u001b[1m)\u001b[0m,\n",
       "        \u001b[1;35mMessage_User\u001b[0m\u001b[1m(\u001b[0m\n",
       "            \u001b[33mmessage\u001b[0m=\u001b[32m'\\nIn context of sentiment analysis, you have to classify the sentiment of the following review\u001b[0m\n",
       "\u001b[32minto positive, neutral, or negative.\\n\\nreview:\\n###\\nthe doctor is very helpful\\n###\\n\\noutput: \\n'\u001b[0m,\n",
       "            \u001b[33mtool_calls\u001b[0m=\u001b[3;35mNone\u001b[0m,\n",
       "            \u001b[33mrole\u001b[0m=\u001b[32m'USER'\u001b[0m\n",
       "        \u001b[1m)\u001b[0m,\n",
       "        \u001b[1;35mMessage_Chatbot\u001b[0m\u001b[1m(\u001b[0m\u001b[33mmessage\u001b[0m=\u001b[32m'positive'\u001b[0m, \u001b[33mtool_calls\u001b[0m=\u001b[3;35mNone\u001b[0m, \u001b[33mrole\u001b[0m=\u001b[32m'CHATBOT'\u001b[0m\u001b[1m)\u001b[0m\n",
       "    \u001b[1m]\u001b[0m,\n",
       "    \u001b[33mprompt\u001b[0m=\u001b[3;35mNone\u001b[0m,\n",
       "    \u001b[33mmeta\u001b[0m=\u001b[1;35mApiMeta\u001b[0m\u001b[1m(\u001b[0m\n",
       "        \u001b[33mapi_version\u001b[0m=\u001b[1;35mApiMetaApiVersion\u001b[0m\u001b[1m(\u001b[0m\u001b[33mversion\u001b[0m=\u001b[32m'1'\u001b[0m, \u001b[33mis_deprecated\u001b[0m=\u001b[3;35mNone\u001b[0m, \u001b[33mis_experimental\u001b[0m=\u001b[3;35mNone\u001b[0m\u001b[1m)\u001b[0m,\n",
       "        \u001b[33mbilled_units\u001b[0m=\u001b[1;35mApiMetaBilledUnits\u001b[0m\u001b[1m(\u001b[0m\n",
       "            \u001b[33minput_tokens\u001b[0m=\u001b[1;36m158\u001b[0m,\n",
       "            \u001b[33moutput_tokens\u001b[0m=\u001b[1;36m1\u001b[0m,\n",
       "            \u001b[33msearch_units\u001b[0m=\u001b[3;35mNone\u001b[0m,\n",
       "            \u001b[33mclassifications\u001b[0m=\u001b[3;35mNone\u001b[0m\n",
       "        \u001b[1m)\u001b[0m,\n",
       "        \u001b[33mtokens\u001b[0m=\u001b[1;35mApiMetaTokens\u001b[0m\u001b[1m(\u001b[0m\u001b[33minput_tokens\u001b[0m=\u001b[1;36m168\u001b[0m, \u001b[33moutput_tokens\u001b[0m=\u001b[1;36m1\u001b[0m\u001b[1m)\u001b[0m,\n",
       "        \u001b[33mwarnings\u001b[0m=\u001b[3;35mNone\u001b[0m\n",
       "    \u001b[1m)\u001b[0m,\n",
       "    \u001b[33mresponse_id\u001b[0m=\u001b[32m'6c97aabc-a1ea-41d0-afb1-62b352422419'\u001b[0m\n",
       "\u001b[1m)\u001b[0m\n"
      ]
     },
     "metadata": {},
     "output_type": "display_data"
    }
   ],
   "source": [
    "print(get_completion(example1, model_name))"
   ]
  },
  {
   "cell_type": "code",
   "execution_count": 14,
   "id": "69f42510-908d-438b-bd49-16ae52c2ec34",
   "metadata": {
    "tags": []
   },
   "outputs": [],
   "source": [
    "train_data_path = '../../data/result/train_df.csv'\n",
    "test_data_path = '../../data/result/test_df.csv'\n",
    "train_data = pd.read_csv(train_data_path)\n",
    "test_data = pd.read_csv(test_data_path)"
   ]
  },
  {
   "cell_type": "code",
   "execution_count": 15,
   "id": "f8c81a00-be1e-402f-b8f3-65ce8f9878a7",
   "metadata": {
    "tags": []
   },
   "outputs": [
    {
     "data": {
      "text/html": [
       "<div>\n",
       "<style scoped>\n",
       "    .dataframe tbody tr th:only-of-type {\n",
       "        vertical-align: middle;\n",
       "    }\n",
       "\n",
       "    .dataframe tbody tr th {\n",
       "        vertical-align: top;\n",
       "    }\n",
       "\n",
       "    .dataframe thead th {\n",
       "        text-align: right;\n",
       "    }\n",
       "</style>\n",
       "<table border=\"1\" class=\"dataframe\">\n",
       "  <thead>\n",
       "    <tr style=\"text-align: right;\">\n",
       "      <th></th>\n",
       "      <th>column</th>\n",
       "      <th>text</th>\n",
       "      <th>topic_id</th>\n",
       "      <th>topic_name</th>\n",
       "    </tr>\n",
       "  </thead>\n",
       "  <tbody>\n",
       "    <tr>\n",
       "      <th>0</th>\n",
       "      <td>like</td>\n",
       "      <td>أكثر ما أعجبني: التطبيق العملي المحدث والمشابه...</td>\n",
       "      <td>3</td>\n",
       "      <td>موازنة الجزء العملي مع الجزء النظري</td>\n",
       "    </tr>\n",
       "    <tr>\n",
       "      <th>1</th>\n",
       "      <td>improve_course</td>\n",
       "      <td>اقتراحاتي للتحسين: التطبيق والبعد عن التدريس ا...</td>\n",
       "      <td>3</td>\n",
       "      <td>موازنة الجزء العملي مع الجزء النظري</td>\n",
       "    </tr>\n",
       "    <tr>\n",
       "      <th>2</th>\n",
       "      <td>like</td>\n",
       "      <td>أكثر ما أعجبني: the content</td>\n",
       "      <td>0</td>\n",
       "      <td>محتوى ومعلومات المقرر</td>\n",
       "    </tr>\n",
       "    <tr>\n",
       "      <th>3</th>\n",
       "      <td>improve_course</td>\n",
       "      <td>اقتراحاتي للتحسين: provide more new books</td>\n",
       "      <td>3</td>\n",
       "      <td>موازنة الجزء العملي مع الجزء النظري</td>\n",
       "    </tr>\n",
       "    <tr>\n",
       "      <th>4</th>\n",
       "      <td>improve_course</td>\n",
       "      <td>اقتراحاتي للتحسين: زيادة ساعات العملي</td>\n",
       "      <td>8</td>\n",
       "      <td>الوقت و الجدول</td>\n",
       "    </tr>\n",
       "  </tbody>\n",
       "</table>\n",
       "</div>"
      ],
      "text/plain": [
       "           column                                               text  \\\n",
       "0            like  أكثر ما أعجبني: التطبيق العملي المحدث والمشابه...   \n",
       "1  improve_course  اقتراحاتي للتحسين: التطبيق والبعد عن التدريس ا...   \n",
       "2            like                        أكثر ما أعجبني: the content   \n",
       "3  improve_course          اقتراحاتي للتحسين: provide more new books   \n",
       "4  improve_course              اقتراحاتي للتحسين: زيادة ساعات العملي   \n",
       "\n",
       "   topic_id                           topic_name  \n",
       "0         3  موازنة الجزء العملي مع الجزء النظري  \n",
       "1         3  موازنة الجزء العملي مع الجزء النظري  \n",
       "2         0                محتوى ومعلومات المقرر  \n",
       "3         3  موازنة الجزء العملي مع الجزء النظري  \n",
       "4         8                       الوقت و الجدول  "
      ]
     },
     "execution_count": 15,
     "metadata": {},
     "output_type": "execute_result"
    }
   ],
   "source": [
    "train_data.head()"
   ]
  },
  {
   "cell_type": "code",
   "execution_count": 16,
   "id": "ee64b804-602c-4512-91b1-2819b52d0e8e",
   "metadata": {
    "tags": []
   },
   "outputs": [],
   "source": [
    "sentiment_labels = []"
   ]
  },
  {
   "cell_type": "code",
   "execution_count": 17,
   "id": "dd00b080-b459-45c5-ab8c-b06f36ed35c9",
   "metadata": {
    "tags": []
   },
   "outputs": [
    {
     "data": {
      "text/html": [
       "<pre style=\"white-space:pre;overflow-x:auto;line-height:normal;font-family:Menlo,'DejaVu Sans Mono',consolas,'Courier New',monospace\"><span style=\"color: #008080; text-decoration-color: #008080; font-weight: bold\">0</span>\n",
       "</pre>\n"
      ],
      "text/plain": [
       "\u001b[1;36m0\u001b[0m\n"
      ]
     },
     "metadata": {},
     "output_type": "display_data"
    },
    {
     "name": "stderr",
     "output_type": "stream",
     "text": [
      "100%|██████████| 951/951 [1:42:37<00:00,  6.47s/it]\n"
     ]
    }
   ],
   "source": [
    "tqdm.pandas()\n",
    "interval = 6.1\n",
    "print(len(sentiment_labels))\n",
    "for t in tqdm(train_data['text'][len(sentiment_labels): ]):\n",
    "    sentiment_labels.append(predict_gpt(t, model_name=model_name, interval=interval))"
   ]
  },
  {
   "cell_type": "code",
   "execution_count": 18,
   "id": "bca26422-d891-4819-a26b-00386a64f7ec",
   "metadata": {
    "tags": []
   },
   "outputs": [],
   "source": [
    "train_data['sentiment'] = sentiment_labels"
   ]
  },
  {
   "cell_type": "code",
   "execution_count": 19,
   "id": "a8bbc71b-b083-4175-99da-0335ff8a446e",
   "metadata": {
    "tags": []
   },
   "outputs": [
    {
     "data": {
      "text/html": [
       "<div>\n",
       "<style scoped>\n",
       "    .dataframe tbody tr th:only-of-type {\n",
       "        vertical-align: middle;\n",
       "    }\n",
       "\n",
       "    .dataframe tbody tr th {\n",
       "        vertical-align: top;\n",
       "    }\n",
       "\n",
       "    .dataframe thead th {\n",
       "        text-align: right;\n",
       "    }\n",
       "</style>\n",
       "<table border=\"1\" class=\"dataframe\">\n",
       "  <thead>\n",
       "    <tr style=\"text-align: right;\">\n",
       "      <th></th>\n",
       "      <th>column</th>\n",
       "      <th>text</th>\n",
       "      <th>topic_id</th>\n",
       "      <th>topic_name</th>\n",
       "      <th>sentiment</th>\n",
       "    </tr>\n",
       "  </thead>\n",
       "  <tbody>\n",
       "    <tr>\n",
       "      <th>0</th>\n",
       "      <td>like</td>\n",
       "      <td>أكثر ما أعجبني: التطبيق العملي المحدث والمشابه...</td>\n",
       "      <td>3</td>\n",
       "      <td>موازنة الجزء العملي مع الجزء النظري</td>\n",
       "      <td>positive</td>\n",
       "    </tr>\n",
       "    <tr>\n",
       "      <th>1</th>\n",
       "      <td>improve_course</td>\n",
       "      <td>اقتراحاتي للتحسين: التطبيق والبعد عن التدريس ا...</td>\n",
       "      <td>3</td>\n",
       "      <td>موازنة الجزء العملي مع الجزء النظري</td>\n",
       "      <td>neutral</td>\n",
       "    </tr>\n",
       "    <tr>\n",
       "      <th>2</th>\n",
       "      <td>like</td>\n",
       "      <td>أكثر ما أعجبني: the content</td>\n",
       "      <td>0</td>\n",
       "      <td>محتوى ومعلومات المقرر</td>\n",
       "      <td>positive</td>\n",
       "    </tr>\n",
       "    <tr>\n",
       "      <th>3</th>\n",
       "      <td>improve_course</td>\n",
       "      <td>اقتراحاتي للتحسين: provide more new books</td>\n",
       "      <td>3</td>\n",
       "      <td>موازنة الجزء العملي مع الجزء النظري</td>\n",
       "      <td>neutral</td>\n",
       "    </tr>\n",
       "    <tr>\n",
       "      <th>4</th>\n",
       "      <td>improve_course</td>\n",
       "      <td>اقتراحاتي للتحسين: زيادة ساعات العملي</td>\n",
       "      <td>8</td>\n",
       "      <td>الوقت و الجدول</td>\n",
       "      <td>neutral</td>\n",
       "    </tr>\n",
       "  </tbody>\n",
       "</table>\n",
       "</div>"
      ],
      "text/plain": [
       "           column                                               text  \\\n",
       "0            like  أكثر ما أعجبني: التطبيق العملي المحدث والمشابه...   \n",
       "1  improve_course  اقتراحاتي للتحسين: التطبيق والبعد عن التدريس ا...   \n",
       "2            like                        أكثر ما أعجبني: the content   \n",
       "3  improve_course          اقتراحاتي للتحسين: provide more new books   \n",
       "4  improve_course              اقتراحاتي للتحسين: زيادة ساعات العملي   \n",
       "\n",
       "   topic_id                           topic_name sentiment  \n",
       "0         3  موازنة الجزء العملي مع الجزء النظري  positive  \n",
       "1         3  موازنة الجزء العملي مع الجزء النظري   neutral  \n",
       "2         0                محتوى ومعلومات المقرر  positive  \n",
       "3         3  موازنة الجزء العملي مع الجزء النظري   neutral  \n",
       "4         8                       الوقت و الجدول   neutral  "
      ]
     },
     "execution_count": 19,
     "metadata": {},
     "output_type": "execute_result"
    }
   ],
   "source": [
    "train_data.head()"
   ]
  },
  {
   "cell_type": "code",
   "execution_count": 20,
   "id": "154165dd-3702-4735-a5ab-da09a8a99a0a",
   "metadata": {
    "tags": []
   },
   "outputs": [
    {
     "data": {
      "text/plain": [
       "array(['positive', 'neutral', 'negative', 'Positive', 'Negative'],\n",
       "      dtype=object)"
      ]
     },
     "execution_count": 20,
     "metadata": {},
     "output_type": "execute_result"
    }
   ],
   "source": [
    "train_data['sentiment'].unique()"
   ]
  },
  {
   "cell_type": "code",
   "execution_count": 22,
   "id": "d4683f4c-dcaa-484b-9c86-5fa894f3f118",
   "metadata": {
    "tags": []
   },
   "outputs": [
    {
     "name": "stderr",
     "output_type": "stream",
     "text": [
      "100%|██████████| 951/951 [00:00<00:00, 268785.92it/s]\n"
     ]
    }
   ],
   "source": [
    "train_data['sentiment'] = train_data['sentiment'].progress_apply(str.capitalize)"
   ]
  },
  {
   "cell_type": "code",
   "execution_count": 24,
   "id": "957badee-da33-4362-b916-f84c5ba76b92",
   "metadata": {
    "tags": []
   },
   "outputs": [
    {
     "data": {
      "text/plain": [
       "array(['Positive', 'Neutral', 'Negative'], dtype=object)"
      ]
     },
     "execution_count": 24,
     "metadata": {},
     "output_type": "execute_result"
    }
   ],
   "source": [
    "train_data['sentiment'].unique()"
   ]
  },
  {
   "cell_type": "code",
   "execution_count": 25,
   "id": "f0c5a8da-de38-4d85-b787-d16e078f4c43",
   "metadata": {
    "tags": []
   },
   "outputs": [
    {
     "data": {
      "text/plain": [
       "Positive    0.557308\n",
       "Neutral     0.283912\n",
       "Negative    0.158780\n",
       "Name: sentiment, dtype: float64"
      ]
     },
     "execution_count": 25,
     "metadata": {},
     "output_type": "execute_result"
    }
   ],
   "source": [
    "train_data['sentiment'].value_counts() / len(train_data)"
   ]
  },
  {
   "cell_type": "code",
   "execution_count": 27,
   "id": "cfd1c58d-4a17-47b9-aaaf-8e039845b37c",
   "metadata": {
    "tags": []
   },
   "outputs": [
    {
     "data": {
      "text/html": [
       "<pre style=\"white-space:pre;overflow-x:auto;line-height:normal;font-family:Menlo,'DejaVu Sans Mono',consolas,'Courier New',monospace\">Saving to ..<span style=\"color: #800080; text-decoration-color: #800080\">/../data/result/</span><span style=\"color: #ff00ff; text-decoration-color: #ff00ff\">train_with_sentiment_df_llm_command_r_plus.csv...</span>\n",
       "</pre>\n"
      ],
      "text/plain": [
       "Saving to ..\u001b[35m/../data/result/\u001b[0m\u001b[95mtrain_with_sentiment_df_llm_command_r_plus.csv...\u001b[0m\n"
      ]
     },
     "metadata": {},
     "output_type": "display_data"
    }
   ],
   "source": [
    "train_save_path = '../../data/result/train_with_sentiment_df_llm_command_r_plus.csv'\n",
    "# test_save_path = '../../data/result/test_with_sentiment_df_llm_command_r_plus.csv'\n",
    "\n",
    "if os.path.exists(train_save_path):\n",
    "    print('The path exists!')\n",
    "else:\n",
    "    print(f'Saving to {train_save_path}...')\n",
    "    train_data.to_csv(train_save_path, index=False)"
   ]
  },
  {
   "cell_type": "code",
   "execution_count": null,
   "id": "19b84481-6933-43dc-9f40-59d4b52f5dce",
   "metadata": {},
   "outputs": [],
   "source": []
  }
 ],
 "metadata": {
  "kernelspec": {
   "display_name": "Python 3 (ipykernel)",
   "language": "python",
   "name": "python3"
  },
  "language_info": {
   "codemirror_mode": {
    "name": "ipython",
    "version": 3
   },
   "file_extension": ".py",
   "mimetype": "text/x-python",
   "name": "python",
   "nbconvert_exporter": "python",
   "pygments_lexer": "ipython3",
   "version": "3.11.7"
  }
 },
 "nbformat": 4,
 "nbformat_minor": 5
}
