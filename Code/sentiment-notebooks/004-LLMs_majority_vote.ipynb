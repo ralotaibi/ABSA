{
 "cells": [
  {
   "cell_type": "markdown",
   "id": "aacbd3e2-1579-43d8-bf15-71826279abe6",
   "metadata": {},
   "source": [
    "### In this notebook, we annotated topics data using majority vote, with preferring gpt4o labels"
   ]
  },
  {
   "cell_type": "code",
   "execution_count": 2,
   "id": "cd7e6284-fed5-4bf3-a1eb-22d9c42fb8b9",
   "metadata": {
    "tags": []
   },
   "outputs": [],
   "source": [
    "import os\n",
    "import pandas as pd\n",
    "from typing import List, Dict\n",
    "from rich import print\n",
    "from collections import Counter"
   ]
  },
  {
   "cell_type": "code",
   "execution_count": 5,
   "id": "5ba93533-653f-4660-9b0a-5b1f1ce091a7",
   "metadata": {
    "tags": []
   },
   "outputs": [],
   "source": [
    "train_gpt4o = pd.read_csv('../../data/result/train_with_sentiment_df_llm_gpt4o.csv')\n",
    "test_gpt4o = pd.read_csv('../../data/result/test_with_sentiment_df_llm_gpt4o.csv')\n",
    "\n",
    "train_command = pd.read_csv('../../data/result/train_with_sentiment_df_llm_command_r_plus.csv')\n",
    "test_command = pd.read_csv('../../data/result/test_with_sentiment_df_llm_command_r_plus.csv')\n",
    "\n",
    "train_llama3 = pd.read_csv('../../data/result/train_with_sentiment_df_llm_llama_3.csv')\n",
    "test_llama3 = pd.read_csv('../../data/result/test_with_sentiment_df_llm_llama_3.csv')"
   ]
  },
  {
   "cell_type": "code",
   "execution_count": 6,
   "id": "b39d5f52-6591-44a9-a334-46db17af6dfc",
   "metadata": {
    "tags": []
   },
   "outputs": [],
   "source": [
    "def majority_vote(labels_dict: Dict, labels_list: List[str], break_tie: List):\n",
    "    \"\"\"\n",
    "    Determines the majority vote from multiple annotators' labels for a given example.\n",
    "\n",
    "    Parameters:\n",
    "    -----------\n",
    "    labels_dict : dict\n",
    "        A dictionary with annotator names as keys and their corresponding labels as values.\n",
    "    labels_list : list\n",
    "        A list containing all possible labels.\n",
    "    break_tie : str\n",
    "        The annotator whose label should be favored in case of a tie. If `break_tie` is not a key in `labels_dict`, its value will be preferred if it is in `labels_list`.\n",
    "\n",
    "    Returns:\n",
    "    --------\n",
    "    str\n",
    "        The label that represents the majority vote.\n",
    "    bool\n",
    "        If there is a tie or not.\n",
    "    \"\"\"\n",
    "    labels = list(labels_dict.values())\n",
    "    \n",
    "    tie = False\n",
    "    # break tie\n",
    "    if len(set(labels)) == len(labels):\n",
    "        label = labels_dict.get(break_tie, break_tie)\n",
    "        tie = True\n",
    "        if label not in labels_list:\n",
    "            raise ValueError(f\"The label '{label}' is not in the list of possible labels.\")\n",
    "    \n",
    "    else:\n",
    "        label = Counter(labels).most_common()[0][0]\n",
    "\n",
    "    return label, tie"
   ]
  },
  {
   "cell_type": "code",
   "execution_count": 7,
   "id": "aac362ec-4862-4a92-855e-e133eb20d2f3",
   "metadata": {
    "tags": []
   },
   "outputs": [
    {
     "data": {
      "text/html": [
       "<div>\n",
       "<style scoped>\n",
       "    .dataframe tbody tr th:only-of-type {\n",
       "        vertical-align: middle;\n",
       "    }\n",
       "\n",
       "    .dataframe tbody tr th {\n",
       "        vertical-align: top;\n",
       "    }\n",
       "\n",
       "    .dataframe thead th {\n",
       "        text-align: right;\n",
       "    }\n",
       "</style>\n",
       "<table border=\"1\" class=\"dataframe\">\n",
       "  <thead>\n",
       "    <tr style=\"text-align: right;\">\n",
       "      <th></th>\n",
       "      <th>column</th>\n",
       "      <th>text</th>\n",
       "      <th>topic_id</th>\n",
       "      <th>topic_name</th>\n",
       "      <th>sentiment</th>\n",
       "    </tr>\n",
       "  </thead>\n",
       "  <tbody>\n",
       "    <tr>\n",
       "      <th>0</th>\n",
       "      <td>like</td>\n",
       "      <td>أكثر ما أعجبني: المقرر ساعدني جدا في فهم نظام ...</td>\n",
       "      <td>1</td>\n",
       "      <td>دكتور المقرر</td>\n",
       "      <td>Positive</td>\n",
       "    </tr>\n",
       "    <tr>\n",
       "      <th>1</th>\n",
       "      <td>dislike</td>\n",
       "      <td>أكثر ما لم يعجبني: المقرر يحتوي على مواضيع ساب...</td>\n",
       "      <td>6</td>\n",
       "      <td>طريقة تدريس و تقديم المادة</td>\n",
       "      <td>Negative</td>\n",
       "    </tr>\n",
       "    <tr>\n",
       "      <th>2</th>\n",
       "      <td>dislike</td>\n",
       "      <td>أكثر ما لم يعجبني: أسلوب شرح المقرر</td>\n",
       "      <td>5</td>\n",
       "      <td>المتطلبات و المهام و الدرجات</td>\n",
       "      <td>Negative</td>\n",
       "    </tr>\n",
       "    <tr>\n",
       "      <th>3</th>\n",
       "      <td>add_suggestions</td>\n",
       "      <td>اقتراحاتي للإضافة: everything is spectacular a...</td>\n",
       "      <td>2</td>\n",
       "      <td>None</td>\n",
       "      <td>Positive</td>\n",
       "    </tr>\n",
       "    <tr>\n",
       "      <th>4</th>\n",
       "      <td>like</td>\n",
       "      <td>أكثر ما أعجبني: معلمة المادة متمكنة وتستجيب عل...</td>\n",
       "      <td>1</td>\n",
       "      <td>دكتور المقرر</td>\n",
       "      <td>Positive</td>\n",
       "    </tr>\n",
       "  </tbody>\n",
       "</table>\n",
       "</div>"
      ],
      "text/plain": [
       "            column                                               text  \\\n",
       "0             like  أكثر ما أعجبني: المقرر ساعدني جدا في فهم نظام ...   \n",
       "1          dislike  أكثر ما لم يعجبني: المقرر يحتوي على مواضيع ساب...   \n",
       "2          dislike                أكثر ما لم يعجبني: أسلوب شرح المقرر   \n",
       "3  add_suggestions  اقتراحاتي للإضافة: everything is spectacular a...   \n",
       "4             like  أكثر ما أعجبني: معلمة المادة متمكنة وتستجيب عل...   \n",
       "\n",
       "   topic_id                    topic_name sentiment  \n",
       "0         1                  دكتور المقرر  Positive  \n",
       "1         6    طريقة تدريس و تقديم المادة  Negative  \n",
       "2         5  المتطلبات و المهام و الدرجات  Negative  \n",
       "3         2                          None  Positive  \n",
       "4         1                  دكتور المقرر  Positive  "
      ]
     },
     "execution_count": 7,
     "metadata": {},
     "output_type": "execute_result"
    }
   ],
   "source": [
    "test_command.head()"
   ]
  },
  {
   "cell_type": "code",
   "execution_count": 8,
   "id": "a042a700-b9e2-41c2-8891-35773d84df19",
   "metadata": {
    "tags": []
   },
   "outputs": [],
   "source": [
    "# labels_list = list(train_gpt4o['topic_name'].apply(lambda x: \"غير محدد\" if x == 'None' else x).unique())"
   ]
  },
  {
   "cell_type": "code",
   "execution_count": 9,
   "id": "0889f1d0-f8c3-48ab-a5e8-8ae076f4c73c",
   "metadata": {
    "tags": []
   },
   "outputs": [
    {
     "data": {
      "text/html": [
       "<pre style=\"white-space:pre;overflow-x:auto;line-height:normal;font-family:Menlo,'DejaVu Sans Mono',consolas,'Courier New',monospace\"><span style=\"font-weight: bold\">[</span><span style=\"color: #008000; text-decoration-color: #008000\">'Positive'</span>, <span style=\"color: #008000; text-decoration-color: #008000\">'Negative'</span>, <span style=\"color: #008000; text-decoration-color: #008000\">'Neutral'</span><span style=\"font-weight: bold\">]</span>\n",
       "</pre>\n"
      ],
      "text/plain": [
       "\u001b[1m[\u001b[0m\u001b[32m'Positive'\u001b[0m, \u001b[32m'Negative'\u001b[0m, \u001b[32m'Neutral'\u001b[0m\u001b[1m]\u001b[0m\n"
      ]
     },
     "metadata": {},
     "output_type": "display_data"
    }
   ],
   "source": [
    "labels_list = list(test_command['sentiment'].unique())\n",
    "print(labels_list)"
   ]
  },
  {
   "cell_type": "code",
   "execution_count": 10,
   "id": "ea92a61b-71bb-4436-8b32-76639e8b2ba8",
   "metadata": {
    "tags": []
   },
   "outputs": [],
   "source": [
    "def get_label(label_cols: List[List[str]], break_tie: str, labels_list: List[str]):\n",
    "    labels = []\n",
    "    ties = []\n",
    "    for i, (gpt_label, llama_label, command_label) in enumerate(zip(*label_cols)):\n",
    "        labels_dict = {}\n",
    "        labels_dict['gpt'] = gpt_label\n",
    "        labels_dict['llama3'] = llama_label\n",
    "        labels_dict['command'] = command_label\n",
    "\n",
    "        label, tie = majority_vote(labels_dict, labels_list, break_tie=break_tie)\n",
    "\n",
    "        labels.append(label)\n",
    "        ties.append(tie)\n",
    "    \n",
    "    return labels, ties"
   ]
  },
  {
   "cell_type": "code",
   "execution_count": 12,
   "id": "5274719d-5660-49ff-8e3b-14351fce74d2",
   "metadata": {
    "tags": []
   },
   "outputs": [],
   "source": [
    "train_gpt_labels = train_gpt4o['sentiment']\n",
    "train_llama_labels = train_llama3['sentiment']\n",
    "train_command_labels = train_command['sentiment']\n",
    "\n",
    "test_gpt_labels = test_gpt4o['sentiment']\n",
    "test_llama_labels = test_llama3['sentiment']\n",
    "test_command_labels = test_command['sentiment']"
   ]
  },
  {
   "cell_type": "code",
   "execution_count": 13,
   "id": "68eeaec3-bbb0-4570-afb3-6948ea4896b0",
   "metadata": {
    "tags": []
   },
   "outputs": [],
   "source": [
    "train_labels, train_ties = get_label([train_gpt_labels, train_llama_labels, train_command_labels], break_tie='gpt', labels_list=labels_list)"
   ]
  },
  {
   "cell_type": "code",
   "execution_count": 14,
   "id": "b6b96079-5d2f-433f-a0fa-75dbe8b63dd5",
   "metadata": {
    "tags": []
   },
   "outputs": [],
   "source": [
    "test_labels, test_ties = get_label([test_gpt_labels, test_llama_labels, test_command_labels], break_tie='gpt', labels_list=labels_list)"
   ]
  },
  {
   "cell_type": "code",
   "execution_count": 15,
   "id": "e58aab64-f3c8-4090-96d2-3b0cd912133b",
   "metadata": {
    "tags": []
   },
   "outputs": [
    {
     "data": {
      "text/html": [
       "<div>\n",
       "<style scoped>\n",
       "    .dataframe tbody tr th:only-of-type {\n",
       "        vertical-align: middle;\n",
       "    }\n",
       "\n",
       "    .dataframe tbody tr th {\n",
       "        vertical-align: top;\n",
       "    }\n",
       "\n",
       "    .dataframe thead th {\n",
       "        text-align: right;\n",
       "    }\n",
       "</style>\n",
       "<table border=\"1\" class=\"dataframe\">\n",
       "  <thead>\n",
       "    <tr style=\"text-align: right;\">\n",
       "      <th></th>\n",
       "      <th>column</th>\n",
       "      <th>text</th>\n",
       "      <th>topic_id</th>\n",
       "      <th>topic_name</th>\n",
       "      <th>sentiment</th>\n",
       "    </tr>\n",
       "  </thead>\n",
       "  <tbody>\n",
       "    <tr>\n",
       "      <th>0</th>\n",
       "      <td>like</td>\n",
       "      <td>أكثر ما أعجبني: المقرر ساعدني جدا في فهم نظام ...</td>\n",
       "      <td>1</td>\n",
       "      <td>دكتور المقرر</td>\n",
       "      <td>Positive</td>\n",
       "    </tr>\n",
       "    <tr>\n",
       "      <th>1</th>\n",
       "      <td>dislike</td>\n",
       "      <td>أكثر ما لم يعجبني: المقرر يحتوي على مواضيع ساب...</td>\n",
       "      <td>6</td>\n",
       "      <td>طريقة تدريس و تقديم المادة</td>\n",
       "      <td>Negative</td>\n",
       "    </tr>\n",
       "    <tr>\n",
       "      <th>2</th>\n",
       "      <td>dislike</td>\n",
       "      <td>أكثر ما لم يعجبني: أسلوب شرح المقرر</td>\n",
       "      <td>5</td>\n",
       "      <td>المتطلبات و المهام و الدرجات</td>\n",
       "      <td>Negative</td>\n",
       "    </tr>\n",
       "    <tr>\n",
       "      <th>3</th>\n",
       "      <td>add_suggestions</td>\n",
       "      <td>اقتراحاتي للإضافة: everything is spectacular a...</td>\n",
       "      <td>2</td>\n",
       "      <td>None</td>\n",
       "      <td>Positive</td>\n",
       "    </tr>\n",
       "    <tr>\n",
       "      <th>4</th>\n",
       "      <td>like</td>\n",
       "      <td>أكثر ما أعجبني: معلمة المادة متمكنة وتستجيب عل...</td>\n",
       "      <td>1</td>\n",
       "      <td>دكتور المقرر</td>\n",
       "      <td>Positive</td>\n",
       "    </tr>\n",
       "  </tbody>\n",
       "</table>\n",
       "</div>"
      ],
      "text/plain": [
       "            column                                               text  \\\n",
       "0             like  أكثر ما أعجبني: المقرر ساعدني جدا في فهم نظام ...   \n",
       "1          dislike  أكثر ما لم يعجبني: المقرر يحتوي على مواضيع ساب...   \n",
       "2          dislike                أكثر ما لم يعجبني: أسلوب شرح المقرر   \n",
       "3  add_suggestions  اقتراحاتي للإضافة: everything is spectacular a...   \n",
       "4             like  أكثر ما أعجبني: معلمة المادة متمكنة وتستجيب عل...   \n",
       "\n",
       "   topic_id                    topic_name sentiment  \n",
       "0         1                  دكتور المقرر  Positive  \n",
       "1         6    طريقة تدريس و تقديم المادة  Negative  \n",
       "2         5  المتطلبات و المهام و الدرجات  Negative  \n",
       "3         2                          None  Positive  \n",
       "4         1                  دكتور المقرر  Positive  "
      ]
     },
     "execution_count": 15,
     "metadata": {},
     "output_type": "execute_result"
    }
   ],
   "source": [
    "test_gpt4o.head()"
   ]
  },
  {
   "cell_type": "code",
   "execution_count": 16,
   "id": "d4e699ae-10f6-4a07-b7c4-f8d603e148e3",
   "metadata": {
    "tags": []
   },
   "outputs": [],
   "source": [
    "train_gpt4o['majority_vote'] = train_labels\n",
    "train_gpt4o['tie'] = train_ties"
   ]
  },
  {
   "cell_type": "code",
   "execution_count": 17,
   "id": "411eb873-7f0b-4c7b-a933-a969612592f7",
   "metadata": {
    "tags": []
   },
   "outputs": [],
   "source": [
    "test_gpt4o['majority_vote'] = test_labels\n",
    "test_gpt4o['tie'] = test_ties"
   ]
  },
  {
   "cell_type": "code",
   "execution_count": 18,
   "id": "5f8434b3-9773-4b8f-bf53-1b05b81ff340",
   "metadata": {
    "tags": []
   },
   "outputs": [
    {
     "data": {
      "text/html": [
       "<div>\n",
       "<style scoped>\n",
       "    .dataframe tbody tr th:only-of-type {\n",
       "        vertical-align: middle;\n",
       "    }\n",
       "\n",
       "    .dataframe tbody tr th {\n",
       "        vertical-align: top;\n",
       "    }\n",
       "\n",
       "    .dataframe thead th {\n",
       "        text-align: right;\n",
       "    }\n",
       "</style>\n",
       "<table border=\"1\" class=\"dataframe\">\n",
       "  <thead>\n",
       "    <tr style=\"text-align: right;\">\n",
       "      <th></th>\n",
       "      <th>column</th>\n",
       "      <th>text</th>\n",
       "      <th>topic_id</th>\n",
       "      <th>topic_name</th>\n",
       "      <th>sentiment</th>\n",
       "      <th>majority_vote</th>\n",
       "      <th>tie</th>\n",
       "    </tr>\n",
       "  </thead>\n",
       "  <tbody>\n",
       "    <tr>\n",
       "      <th>0</th>\n",
       "      <td>like</td>\n",
       "      <td>أكثر ما أعجبني: التطبيق العملي المحدث والمشابه...</td>\n",
       "      <td>3</td>\n",
       "      <td>موازنة الجزء العملي مع الجزء النظري</td>\n",
       "      <td>Positive</td>\n",
       "      <td>Positive</td>\n",
       "      <td>False</td>\n",
       "    </tr>\n",
       "    <tr>\n",
       "      <th>1</th>\n",
       "      <td>improve_course</td>\n",
       "      <td>اقتراحاتي للتحسين: التطبيق والبعد عن التدريس ا...</td>\n",
       "      <td>3</td>\n",
       "      <td>موازنة الجزء العملي مع الجزء النظري</td>\n",
       "      <td>Neutral</td>\n",
       "      <td>Neutral</td>\n",
       "      <td>False</td>\n",
       "    </tr>\n",
       "    <tr>\n",
       "      <th>2</th>\n",
       "      <td>like</td>\n",
       "      <td>أكثر ما أعجبني: the content</td>\n",
       "      <td>0</td>\n",
       "      <td>محتوى ومعلومات المقرر</td>\n",
       "      <td>Positive</td>\n",
       "      <td>Positive</td>\n",
       "      <td>False</td>\n",
       "    </tr>\n",
       "    <tr>\n",
       "      <th>3</th>\n",
       "      <td>improve_course</td>\n",
       "      <td>اقتراحاتي للتحسين: provide more new books</td>\n",
       "      <td>3</td>\n",
       "      <td>موازنة الجزء العملي مع الجزء النظري</td>\n",
       "      <td>Neutral</td>\n",
       "      <td>Neutral</td>\n",
       "      <td>False</td>\n",
       "    </tr>\n",
       "    <tr>\n",
       "      <th>4</th>\n",
       "      <td>improve_course</td>\n",
       "      <td>اقتراحاتي للتحسين: زيادة ساعات العملي</td>\n",
       "      <td>8</td>\n",
       "      <td>الوقت و الجدول</td>\n",
       "      <td>Neutral</td>\n",
       "      <td>Neutral</td>\n",
       "      <td>False</td>\n",
       "    </tr>\n",
       "  </tbody>\n",
       "</table>\n",
       "</div>"
      ],
      "text/plain": [
       "           column                                               text  \\\n",
       "0            like  أكثر ما أعجبني: التطبيق العملي المحدث والمشابه...   \n",
       "1  improve_course  اقتراحاتي للتحسين: التطبيق والبعد عن التدريس ا...   \n",
       "2            like                        أكثر ما أعجبني: the content   \n",
       "3  improve_course          اقتراحاتي للتحسين: provide more new books   \n",
       "4  improve_course              اقتراحاتي للتحسين: زيادة ساعات العملي   \n",
       "\n",
       "   topic_id                           topic_name sentiment majority_vote  \\\n",
       "0         3  موازنة الجزء العملي مع الجزء النظري  Positive      Positive   \n",
       "1         3  موازنة الجزء العملي مع الجزء النظري   Neutral       Neutral   \n",
       "2         0                محتوى ومعلومات المقرر  Positive      Positive   \n",
       "3         3  موازنة الجزء العملي مع الجزء النظري   Neutral       Neutral   \n",
       "4         8                       الوقت و الجدول   Neutral       Neutral   \n",
       "\n",
       "     tie  \n",
       "0  False  \n",
       "1  False  \n",
       "2  False  \n",
       "3  False  \n",
       "4  False  "
      ]
     },
     "execution_count": 18,
     "metadata": {},
     "output_type": "execute_result"
    }
   ],
   "source": [
    "train_gpt4o.head()"
   ]
  },
  {
   "cell_type": "code",
   "execution_count": 19,
   "id": "eef3ab7f-f951-4eb2-959a-d77ab4eebc9b",
   "metadata": {
    "tags": []
   },
   "outputs": [
    {
     "data": {
      "text/html": [
       "<div>\n",
       "<style scoped>\n",
       "    .dataframe tbody tr th:only-of-type {\n",
       "        vertical-align: middle;\n",
       "    }\n",
       "\n",
       "    .dataframe tbody tr th {\n",
       "        vertical-align: top;\n",
       "    }\n",
       "\n",
       "    .dataframe thead th {\n",
       "        text-align: right;\n",
       "    }\n",
       "</style>\n",
       "<table border=\"1\" class=\"dataframe\">\n",
       "  <thead>\n",
       "    <tr style=\"text-align: right;\">\n",
       "      <th></th>\n",
       "      <th>column</th>\n",
       "      <th>text</th>\n",
       "      <th>topic_id</th>\n",
       "      <th>topic_name</th>\n",
       "      <th>sentiment</th>\n",
       "      <th>majority_vote</th>\n",
       "      <th>tie</th>\n",
       "    </tr>\n",
       "  </thead>\n",
       "  <tbody>\n",
       "    <tr>\n",
       "      <th>0</th>\n",
       "      <td>like</td>\n",
       "      <td>أكثر ما أعجبني: المقرر ساعدني جدا في فهم نظام ...</td>\n",
       "      <td>1</td>\n",
       "      <td>دكتور المقرر</td>\n",
       "      <td>Positive</td>\n",
       "      <td>Positive</td>\n",
       "      <td>False</td>\n",
       "    </tr>\n",
       "    <tr>\n",
       "      <th>1</th>\n",
       "      <td>dislike</td>\n",
       "      <td>أكثر ما لم يعجبني: المقرر يحتوي على مواضيع ساب...</td>\n",
       "      <td>6</td>\n",
       "      <td>طريقة تدريس و تقديم المادة</td>\n",
       "      <td>Negative</td>\n",
       "      <td>Negative</td>\n",
       "      <td>False</td>\n",
       "    </tr>\n",
       "    <tr>\n",
       "      <th>2</th>\n",
       "      <td>dislike</td>\n",
       "      <td>أكثر ما لم يعجبني: أسلوب شرح المقرر</td>\n",
       "      <td>5</td>\n",
       "      <td>المتطلبات و المهام و الدرجات</td>\n",
       "      <td>Negative</td>\n",
       "      <td>Negative</td>\n",
       "      <td>False</td>\n",
       "    </tr>\n",
       "    <tr>\n",
       "      <th>3</th>\n",
       "      <td>add_suggestions</td>\n",
       "      <td>اقتراحاتي للإضافة: everything is spectacular a...</td>\n",
       "      <td>2</td>\n",
       "      <td>None</td>\n",
       "      <td>Positive</td>\n",
       "      <td>Positive</td>\n",
       "      <td>False</td>\n",
       "    </tr>\n",
       "    <tr>\n",
       "      <th>4</th>\n",
       "      <td>like</td>\n",
       "      <td>أكثر ما أعجبني: معلمة المادة متمكنة وتستجيب عل...</td>\n",
       "      <td>1</td>\n",
       "      <td>دكتور المقرر</td>\n",
       "      <td>Positive</td>\n",
       "      <td>Positive</td>\n",
       "      <td>False</td>\n",
       "    </tr>\n",
       "  </tbody>\n",
       "</table>\n",
       "</div>"
      ],
      "text/plain": [
       "            column                                               text  \\\n",
       "0             like  أكثر ما أعجبني: المقرر ساعدني جدا في فهم نظام ...   \n",
       "1          dislike  أكثر ما لم يعجبني: المقرر يحتوي على مواضيع ساب...   \n",
       "2          dislike                أكثر ما لم يعجبني: أسلوب شرح المقرر   \n",
       "3  add_suggestions  اقتراحاتي للإضافة: everything is spectacular a...   \n",
       "4             like  أكثر ما أعجبني: معلمة المادة متمكنة وتستجيب عل...   \n",
       "\n",
       "   topic_id                    topic_name sentiment majority_vote    tie  \n",
       "0         1                  دكتور المقرر  Positive      Positive  False  \n",
       "1         6    طريقة تدريس و تقديم المادة  Negative      Negative  False  \n",
       "2         5  المتطلبات و المهام و الدرجات  Negative      Negative  False  \n",
       "3         2                          None  Positive      Positive  False  \n",
       "4         1                  دكتور المقرر  Positive      Positive  False  "
      ]
     },
     "execution_count": 19,
     "metadata": {},
     "output_type": "execute_result"
    }
   ],
   "source": [
    "test_gpt4o.head()"
   ]
  },
  {
   "cell_type": "code",
   "execution_count": 20,
   "id": "88eb997f-68eb-47ef-93e7-b5620266be06",
   "metadata": {
    "tags": []
   },
   "outputs": [
    {
     "data": {
      "text/plain": [
       "(7, 2)"
      ]
     },
     "execution_count": 20,
     "metadata": {},
     "output_type": "execute_result"
    }
   ],
   "source": [
    "# ties len\n",
    "sum(train_ties), sum(test_ties)"
   ]
  },
  {
   "cell_type": "code",
   "execution_count": 21,
   "id": "a95e0869-9b12-4636-b8bd-7f0f613f7e3b",
   "metadata": {
    "tags": []
   },
   "outputs": [
    {
     "data": {
      "text/html": [
       "<pre style=\"white-space:pre;overflow-x:auto;line-height:normal;font-family:Menlo,'DejaVu Sans Mono',consolas,'Courier New',monospace\">Saving to ..<span style=\"color: #800080; text-decoration-color: #800080\">/../data/result/</span><span style=\"color: #ff00ff; text-decoration-color: #ff00ff\">train_with_sentiment_df_majority_vote_gpt4o_preferred.csv...</span>\n",
       "</pre>\n"
      ],
      "text/plain": [
       "Saving to ..\u001b[35m/../data/result/\u001b[0m\u001b[95mtrain_with_sentiment_df_majority_vote_gpt4o_preferred.csv...\u001b[0m\n"
      ]
     },
     "metadata": {},
     "output_type": "display_data"
    },
    {
     "data": {
      "text/html": [
       "<pre style=\"white-space:pre;overflow-x:auto;line-height:normal;font-family:Menlo,'DejaVu Sans Mono',consolas,'Courier New',monospace\">The path exists!\n",
       "</pre>\n"
      ],
      "text/plain": [
       "The path exists!\n"
      ]
     },
     "metadata": {},
     "output_type": "display_data"
    }
   ],
   "source": [
    "train_save_path = '../../data/result/train_with_sentiment_df_majority_vote_gpt4o_preferred.csv'\n",
    "if os.path.exists(train_save_path):\n",
    "    print('The path exists!')\n",
    "else:\n",
    "    print(f'Saving to {train_save_path}...')\n",
    "    train_gpt4o.to_csv(train_save_path, index=False)\n",
    "\n",
    "\n",
    "test_save_path = '../../data/result/test_with_sentiment_df_majority_vote_gpt4o_preferred.csv'\n",
    "if os.path.exists(test_save_path):\n",
    "    print('The path exists!')\n",
    "else:\n",
    "    print(f'Saving to {test_save_path}...')\n",
    "    test_gpt4o.to_csv(test_save_path, index=False)"
   ]
  },
  {
   "cell_type": "code",
   "execution_count": 22,
   "id": "300aebcc-79e1-4bfd-96ae-020c9f215d18",
   "metadata": {
    "tags": []
   },
   "outputs": [
    {
     "data": {
      "text/plain": [
       "Positive    506\n",
       "Neutral     233\n",
       "Negative    212\n",
       "Name: majority_vote, dtype: int64"
      ]
     },
     "execution_count": 22,
     "metadata": {},
     "output_type": "execute_result"
    }
   ],
   "source": [
    "train_gpt4o['majority_vote'].value_counts()"
   ]
  },
  {
   "cell_type": "markdown",
   "id": "afb0714f-2a18-45c2-87ea-611fb8eb36e4",
   "metadata": {},
   "source": [
    "# Convert to HF dataset"
   ]
  },
  {
   "cell_type": "code",
   "execution_count": 23,
   "id": "e64fef5c-6407-4f46-bfe7-2fe064f5b083",
   "metadata": {
    "tags": []
   },
   "outputs": [],
   "source": [
    "from datasets import Dataset, Value, ClassLabel, Features, DatasetDict, load_dataset, load_from_disk"
   ]
  },
  {
   "cell_type": "code",
   "execution_count": 24,
   "id": "81cc08c8-da0f-4b8d-a89a-51a56bcd8753",
   "metadata": {
    "tags": []
   },
   "outputs": [],
   "source": [
    "import pandas as pd\n",
    "\n",
    "train_path = '../../data/result/train_with_sentiment_df_majority_vote_gpt4o_preferred.csv'\n",
    "\n",
    "data = pd.read_csv(train_path)"
   ]
  },
  {
   "cell_type": "code",
   "execution_count": 25,
   "id": "4194c16e-6674-4d76-971f-6ced9e88e33c",
   "metadata": {
    "tags": []
   },
   "outputs": [
    {
     "data": {
      "text/html": [
       "<div>\n",
       "<style scoped>\n",
       "    .dataframe tbody tr th:only-of-type {\n",
       "        vertical-align: middle;\n",
       "    }\n",
       "\n",
       "    .dataframe tbody tr th {\n",
       "        vertical-align: top;\n",
       "    }\n",
       "\n",
       "    .dataframe thead th {\n",
       "        text-align: right;\n",
       "    }\n",
       "</style>\n",
       "<table border=\"1\" class=\"dataframe\">\n",
       "  <thead>\n",
       "    <tr style=\"text-align: right;\">\n",
       "      <th></th>\n",
       "      <th>column</th>\n",
       "      <th>text</th>\n",
       "      <th>topic_id</th>\n",
       "      <th>topic_name</th>\n",
       "      <th>sentiment</th>\n",
       "      <th>majority_vote</th>\n",
       "      <th>tie</th>\n",
       "    </tr>\n",
       "  </thead>\n",
       "  <tbody>\n",
       "    <tr>\n",
       "      <th>0</th>\n",
       "      <td>like</td>\n",
       "      <td>أكثر ما أعجبني: التطبيق العملي المحدث والمشابه...</td>\n",
       "      <td>3</td>\n",
       "      <td>موازنة الجزء العملي مع الجزء النظري</td>\n",
       "      <td>Positive</td>\n",
       "      <td>Positive</td>\n",
       "      <td>False</td>\n",
       "    </tr>\n",
       "    <tr>\n",
       "      <th>1</th>\n",
       "      <td>improve_course</td>\n",
       "      <td>اقتراحاتي للتحسين: التطبيق والبعد عن التدريس ا...</td>\n",
       "      <td>3</td>\n",
       "      <td>موازنة الجزء العملي مع الجزء النظري</td>\n",
       "      <td>Neutral</td>\n",
       "      <td>Neutral</td>\n",
       "      <td>False</td>\n",
       "    </tr>\n",
       "    <tr>\n",
       "      <th>2</th>\n",
       "      <td>like</td>\n",
       "      <td>أكثر ما أعجبني: the content</td>\n",
       "      <td>0</td>\n",
       "      <td>محتوى ومعلومات المقرر</td>\n",
       "      <td>Positive</td>\n",
       "      <td>Positive</td>\n",
       "      <td>False</td>\n",
       "    </tr>\n",
       "    <tr>\n",
       "      <th>3</th>\n",
       "      <td>improve_course</td>\n",
       "      <td>اقتراحاتي للتحسين: provide more new books</td>\n",
       "      <td>3</td>\n",
       "      <td>موازنة الجزء العملي مع الجزء النظري</td>\n",
       "      <td>Neutral</td>\n",
       "      <td>Neutral</td>\n",
       "      <td>False</td>\n",
       "    </tr>\n",
       "    <tr>\n",
       "      <th>4</th>\n",
       "      <td>improve_course</td>\n",
       "      <td>اقتراحاتي للتحسين: زيادة ساعات العملي</td>\n",
       "      <td>8</td>\n",
       "      <td>الوقت و الجدول</td>\n",
       "      <td>Neutral</td>\n",
       "      <td>Neutral</td>\n",
       "      <td>False</td>\n",
       "    </tr>\n",
       "  </tbody>\n",
       "</table>\n",
       "</div>"
      ],
      "text/plain": [
       "           column                                               text  \\\n",
       "0            like  أكثر ما أعجبني: التطبيق العملي المحدث والمشابه...   \n",
       "1  improve_course  اقتراحاتي للتحسين: التطبيق والبعد عن التدريس ا...   \n",
       "2            like                        أكثر ما أعجبني: the content   \n",
       "3  improve_course          اقتراحاتي للتحسين: provide more new books   \n",
       "4  improve_course              اقتراحاتي للتحسين: زيادة ساعات العملي   \n",
       "\n",
       "   topic_id                           topic_name sentiment majority_vote  \\\n",
       "0         3  موازنة الجزء العملي مع الجزء النظري  Positive      Positive   \n",
       "1         3  موازنة الجزء العملي مع الجزء النظري   Neutral       Neutral   \n",
       "2         0                محتوى ومعلومات المقرر  Positive      Positive   \n",
       "3         3  موازنة الجزء العملي مع الجزء النظري   Neutral       Neutral   \n",
       "4         8                       الوقت و الجدول   Neutral       Neutral   \n",
       "\n",
       "     tie  \n",
       "0  False  \n",
       "1  False  \n",
       "2  False  \n",
       "3  False  \n",
       "4  False  "
      ]
     },
     "execution_count": 25,
     "metadata": {},
     "output_type": "execute_result"
    }
   ],
   "source": [
    "data.head()"
   ]
  },
  {
   "cell_type": "code",
   "execution_count": 26,
   "id": "6d7c49a6-1fb7-4e7e-bc93-adc2ea9bd1c3",
   "metadata": {
    "tags": []
   },
   "outputs": [
    {
     "data": {
      "text/plain": [
       "['Negative', 'Neutral', 'Positive']"
      ]
     },
     "execution_count": 26,
     "metadata": {},
     "output_type": "execute_result"
    }
   ],
   "source": [
    "label_names = sorted(data['majority_vote'].unique().tolist())\n",
    "label_names"
   ]
  },
  {
   "cell_type": "code",
   "execution_count": 27,
   "id": "67e2f83d-cf36-4f9f-aa85-165d705a8a4c",
   "metadata": {
    "tags": []
   },
   "outputs": [
    {
     "data": {
      "text/plain": [
       "['Positive', 'Negative', 'Neutral']"
      ]
     },
     "execution_count": 27,
     "metadata": {},
     "output_type": "execute_result"
    }
   ],
   "source": [
    "labels_list"
   ]
  },
  {
   "cell_type": "code",
   "execution_count": 28,
   "id": "8986f418-e99e-43ce-9e36-c505837cf09d",
   "metadata": {
    "tags": []
   },
   "outputs": [
    {
     "data": {
      "text/html": [
       "<pre style=\"white-space:pre;overflow-x:auto;line-height:normal;font-family:Menlo,'DejaVu Sans Mono',consolas,'Courier New',monospace\"><span style=\"font-weight: bold\">{</span>\n",
       "    <span style=\"color: #008000; text-decoration-color: #008000\">'id'</span>: <span style=\"color: #800080; text-decoration-color: #800080; font-weight: bold\">Value</span><span style=\"font-weight: bold\">(</span><span style=\"color: #808000; text-decoration-color: #808000\">dtype</span>=<span style=\"color: #008000; text-decoration-color: #008000\">'string'</span>, <span style=\"color: #808000; text-decoration-color: #808000\">id</span>=<span style=\"color: #800080; text-decoration-color: #800080; font-style: italic\">None</span><span style=\"font-weight: bold\">)</span>,\n",
       "    <span style=\"color: #008000; text-decoration-color: #008000\">'text'</span>: <span style=\"color: #800080; text-decoration-color: #800080; font-weight: bold\">Value</span><span style=\"font-weight: bold\">(</span><span style=\"color: #808000; text-decoration-color: #808000\">dtype</span>=<span style=\"color: #008000; text-decoration-color: #008000\">'string'</span>, <span style=\"color: #808000; text-decoration-color: #808000\">id</span>=<span style=\"color: #800080; text-decoration-color: #800080; font-style: italic\">None</span><span style=\"font-weight: bold\">)</span>,\n",
       "    <span style=\"color: #008000; text-decoration-color: #008000\">'labels'</span>: <span style=\"color: #800080; text-decoration-color: #800080; font-weight: bold\">ClassLabel</span><span style=\"font-weight: bold\">(</span><span style=\"color: #808000; text-decoration-color: #808000\">names</span>=<span style=\"font-weight: bold\">[</span><span style=\"color: #008000; text-decoration-color: #008000\">'Negative'</span>, <span style=\"color: #008000; text-decoration-color: #008000\">'Neutral'</span>, <span style=\"color: #008000; text-decoration-color: #008000\">'Positive'</span><span style=\"font-weight: bold\">]</span>, <span style=\"color: #808000; text-decoration-color: #808000\">id</span>=<span style=\"color: #800080; text-decoration-color: #800080; font-style: italic\">None</span><span style=\"font-weight: bold\">)</span>\n",
       "<span style=\"font-weight: bold\">}</span>\n",
       "</pre>\n"
      ],
      "text/plain": [
       "\u001b[1m{\u001b[0m\n",
       "    \u001b[32m'id'\u001b[0m: \u001b[1;35mValue\u001b[0m\u001b[1m(\u001b[0m\u001b[33mdtype\u001b[0m=\u001b[32m'string'\u001b[0m, \u001b[33mid\u001b[0m=\u001b[3;35mNone\u001b[0m\u001b[1m)\u001b[0m,\n",
       "    \u001b[32m'text'\u001b[0m: \u001b[1;35mValue\u001b[0m\u001b[1m(\u001b[0m\u001b[33mdtype\u001b[0m=\u001b[32m'string'\u001b[0m, \u001b[33mid\u001b[0m=\u001b[3;35mNone\u001b[0m\u001b[1m)\u001b[0m,\n",
       "    \u001b[32m'labels'\u001b[0m: \u001b[1;35mClassLabel\u001b[0m\u001b[1m(\u001b[0m\u001b[33mnames\u001b[0m=\u001b[1m[\u001b[0m\u001b[32m'Negative'\u001b[0m, \u001b[32m'Neutral'\u001b[0m, \u001b[32m'Positive'\u001b[0m\u001b[1m]\u001b[0m, \u001b[33mid\u001b[0m=\u001b[3;35mNone\u001b[0m\u001b[1m)\u001b[0m\n",
       "\u001b[1m}\u001b[0m\n"
      ]
     },
     "metadata": {},
     "output_type": "display_data"
    }
   ],
   "source": [
    "features = Features(\n",
    "    {\n",
    "        'id': Value(dtype='string'),\n",
    "        'text': Value(dtype='string'),\n",
    "        'labels': ClassLabel(names=label_names, num_classes=len(label_names), id=None)\n",
    "    }\n",
    ")\n",
    "\n",
    "print(features)"
   ]
  },
  {
   "cell_type": "code",
   "execution_count": 29,
   "id": "a4519b9e-af29-4e62-9477-920d8b326124",
   "metadata": {
    "tags": []
   },
   "outputs": [],
   "source": [
    "hf_dataset = DatasetDict({\n",
    "    'train': Dataset.from_dict(\n",
    "        {\n",
    "            'id': list(data.index.astype(str)),\n",
    "            'text': list(data['text']),\n",
    "            'labels': list(data['majority_vote'])\n",
    "        },\n",
    "        features=features\n",
    "    )\n",
    "})"
   ]
  },
  {
   "cell_type": "code",
   "execution_count": 30,
   "id": "bb77253e-fa3f-43d6-af05-c09f9ec394d3",
   "metadata": {
    "tags": []
   },
   "outputs": [],
   "source": [
    "hf_path = '../../data/result/sentiment_hf_dataset'"
   ]
  },
  {
   "cell_type": "code",
   "execution_count": 31,
   "id": "73b4712f-bc86-4d5f-b887-c0b35e5ef7f5",
   "metadata": {
    "tags": []
   },
   "outputs": [
    {
     "data": {
      "application/vnd.jupyter.widget-view+json": {
       "model_id": "34945b8cfa374d50a1f116240be5dce7",
       "version_major": 2,
       "version_minor": 0
      },
      "text/plain": [
       "Saving the dataset (0/1 shards):   0%|          | 0/951 [00:00<?, ? examples/s]"
      ]
     },
     "metadata": {},
     "output_type": "display_data"
    }
   ],
   "source": [
    "hf_dataset.save_to_disk(hf_path)"
   ]
  },
  {
   "cell_type": "code",
   "execution_count": null,
   "id": "774bbe6f-f7a1-49c4-b234-8482d83f5d59",
   "metadata": {},
   "outputs": [],
   "source": []
  }
 ],
 "metadata": {
  "kernelspec": {
   "display_name": "Python 3 (ipykernel)",
   "language": "python",
   "name": "python3"
  },
  "language_info": {
   "codemirror_mode": {
    "name": "ipython",
    "version": 3
   },
   "file_extension": ".py",
   "mimetype": "text/x-python",
   "name": "python",
   "nbconvert_exporter": "python",
   "pygments_lexer": "ipython3",
   "version": "3.11.7"
  }
 },
 "nbformat": 4,
 "nbformat_minor": 5
}
