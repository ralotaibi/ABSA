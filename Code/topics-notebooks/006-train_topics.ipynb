{
 "cells": [
  {
   "cell_type": "code",
   "execution_count": 1,
   "metadata": {
    "id": "LP1URqrdyUAw",
    "tags": []
   },
   "outputs": [
    {
     "name": "stderr",
     "output_type": "stream",
     "text": [
      "2024-08-11 01:37:40.988874: E external/local_xla/xla/stream_executor/cuda/cuda_dnn.cc:9261] Unable to register cuDNN factory: Attempting to register factory for plugin cuDNN when one has already been registered\n",
      "2024-08-11 01:37:40.988952: E external/local_xla/xla/stream_executor/cuda/cuda_fft.cc:607] Unable to register cuFFT factory: Attempting to register factory for plugin cuFFT when one has already been registered\n",
      "2024-08-11 01:37:40.990383: E external/local_xla/xla/stream_executor/cuda/cuda_blas.cc:1515] Unable to register cuBLAS factory: Attempting to register factory for plugin cuBLAS when one has already been registered\n",
      "2024-08-11 01:37:40.999678: I tensorflow/core/platform/cpu_feature_guard.cc:182] This TensorFlow binary is optimized to use available CPU instructions in performance-critical operations.\n",
      "To enable the following instructions: AVX2 FMA, in other operations, rebuild TensorFlow with the appropriate compiler flags.\n",
      "2024-08-11 01:37:42.206018: W tensorflow/compiler/tf2tensorrt/utils/py_utils.cc:38] TF-TRT Warning: Could not find TensorRT\n"
     ]
    }
   ],
   "source": [
    "import numpy as np\n",
    "import random\n",
    "import torch\n",
    "from torch import nn\n",
    "import transformers\n",
    "from sklearn.metrics import classification_report, confusion_matrix, ConfusionMatrixDisplay\n",
    "from sklearn.utils.class_weight import compute_class_weight\n",
    "from datasets import load_from_disk\n",
    "from transformers import AutoTokenizer, AutoModelForSequenceClassification, DataCollatorWithPadding, Trainer, TrainingArguments\n",
    "from rich import print\n",
    "import pandas as pd\n",
    "from datasets import Dataset, Value, ClassLabel, Features, DatasetDict, load_dataset, load_from_disk"
   ]
  },
  {
   "cell_type": "code",
   "execution_count": 2,
   "metadata": {
    "id": "7Ty--9iIzQ3h",
    "tags": []
   },
   "outputs": [],
   "source": [
    "data_path = '../../data/result/final_topic_hf_dataseet_full_augmentation_balanced1/'\n",
    "data = load_from_disk(data_path)"
   ]
  },
  {
   "cell_type": "code",
   "execution_count": 3,
   "metadata": {
    "tags": []
   },
   "outputs": [
    {
     "data": {
      "text/html": [
       "<pre style=\"white-space:pre;overflow-x:auto;line-height:normal;font-family:Menlo,'DejaVu Sans Mono',consolas,'Courier New',monospace\">Example from the training data:\n",
       "</pre>\n"
      ],
      "text/plain": [
       "Example from the training data:\n"
      ]
     },
     "metadata": {},
     "output_type": "display_data"
    },
    {
     "data": {
      "text/html": [
       "<pre style=\"white-space:pre;overflow-x:auto;line-height:normal;font-family:Menlo,'DejaVu Sans Mono',consolas,'Courier New',monospace\">ما أعجبني حقًا هو أنه جديد في السوق ويعملون على استخدامه.\n",
       "</pre>\n"
      ],
      "text/plain": [
       "ما أعجبني حقًا هو أنه جديد في السوق ويعملون على استخدامه.\n"
      ]
     },
     "metadata": {},
     "output_type": "display_data"
    }
   ],
   "source": [
    "print('Example from the training data:')\n",
    "print(data['train']['text'][0])"
   ]
  },
  {
   "cell_type": "code",
   "execution_count": 4,
   "metadata": {
    "tags": []
   },
   "outputs": [
    {
     "data": {
      "text/html": [
       "<pre style=\"white-space:pre;overflow-x:auto;line-height:normal;font-family:Menlo,'DejaVu Sans Mono',consolas,'Courier New',monospace\">Training data length: <span style=\"color: #008080; text-decoration-color: #008080; font-weight: bold\">1954</span>\n",
       "</pre>\n"
      ],
      "text/plain": [
       "Training data length: \u001b[1;36m1954\u001b[0m\n"
      ]
     },
     "metadata": {},
     "output_type": "display_data"
    }
   ],
   "source": [
    "print('Training data length:', len(data['train']))"
   ]
  },
  {
   "cell_type": "code",
   "execution_count": 5,
   "metadata": {
    "tags": []
   },
   "outputs": [],
   "source": [
    "test_path = '../../data/test_gold_labels/topics_llms_human_annotation.csv'\n",
    "test_df = pd.read_csv(test_path)\n",
    "test_df['topic_name'] = test_df['topic_name'].apply(lambda x: \"غير محدد\" if x == 'None' else x)"
   ]
  },
  {
   "cell_type": "code",
   "execution_count": 6,
   "metadata": {
    "tags": []
   },
   "outputs": [
    {
     "data": {
      "text/html": [
       "<div>\n",
       "<style scoped>\n",
       "    .dataframe tbody tr th:only-of-type {\n",
       "        vertical-align: middle;\n",
       "    }\n",
       "\n",
       "    .dataframe tbody tr th {\n",
       "        vertical-align: top;\n",
       "    }\n",
       "\n",
       "    .dataframe thead th {\n",
       "        text-align: right;\n",
       "    }\n",
       "</style>\n",
       "<table border=\"1\" class=\"dataframe\">\n",
       "  <thead>\n",
       "    <tr style=\"text-align: right;\">\n",
       "      <th></th>\n",
       "      <th>text</th>\n",
       "      <th>suggested_label</th>\n",
       "      <th>topic_name</th>\n",
       "    </tr>\n",
       "  </thead>\n",
       "  <tbody>\n",
       "    <tr>\n",
       "      <th>0</th>\n",
       "      <td>أكثر ما أعجبني: المقرر ساعدني جدا في فهم نظام ...</td>\n",
       "      <td>موازنة الجزء العملي مع الجزء النظري</td>\n",
       "      <td>موازنة الجزء العملي مع الجزء النظري</td>\n",
       "    </tr>\n",
       "    <tr>\n",
       "      <th>1</th>\n",
       "      <td>أكثر ما لم يعجبني: المقرر يحتوي على مواضيع ساب...</td>\n",
       "      <td>المتطلبات و المهام و الدرجات</td>\n",
       "      <td>المتطلبات و المهام و الدرجات</td>\n",
       "    </tr>\n",
       "    <tr>\n",
       "      <th>2</th>\n",
       "      <td>أكثر ما لم يعجبني: أسلوب شرح المقرر</td>\n",
       "      <td>طريقة تدريس و تقديم المادة</td>\n",
       "      <td>طريقة تدريس و تقديم المادة</td>\n",
       "    </tr>\n",
       "    <tr>\n",
       "      <th>3</th>\n",
       "      <td>اقتراحاتي للإضافة: everything is spectacular a...</td>\n",
       "      <td>غير محدد</td>\n",
       "      <td>غير محدد</td>\n",
       "    </tr>\n",
       "    <tr>\n",
       "      <th>4</th>\n",
       "      <td>أكثر ما أعجبني: معلمة المادة متمكنة وتستجيب عل...</td>\n",
       "      <td>دكتور المقرر</td>\n",
       "      <td>دكتور المقرر</td>\n",
       "    </tr>\n",
       "  </tbody>\n",
       "</table>\n",
       "</div>"
      ],
      "text/plain": [
       "                                                text  \\\n",
       "0  أكثر ما أعجبني: المقرر ساعدني جدا في فهم نظام ...   \n",
       "1  أكثر ما لم يعجبني: المقرر يحتوي على مواضيع ساب...   \n",
       "2                أكثر ما لم يعجبني: أسلوب شرح المقرر   \n",
       "3  اقتراحاتي للإضافة: everything is spectacular a...   \n",
       "4  أكثر ما أعجبني: معلمة المادة متمكنة وتستجيب عل...   \n",
       "\n",
       "                       suggested_label                           topic_name  \n",
       "0  موازنة الجزء العملي مع الجزء النظري  موازنة الجزء العملي مع الجزء النظري  \n",
       "1         المتطلبات و المهام و الدرجات         المتطلبات و المهام و الدرجات  \n",
       "2           طريقة تدريس و تقديم المادة           طريقة تدريس و تقديم المادة  \n",
       "3                             غير محدد                             غير محدد  \n",
       "4                         دكتور المقرر                         دكتور المقرر  "
      ]
     },
     "execution_count": 6,
     "metadata": {},
     "output_type": "execute_result"
    }
   ],
   "source": [
    "test_df.head()"
   ]
  },
  {
   "cell_type": "code",
   "execution_count": 7,
   "metadata": {
    "tags": []
   },
   "outputs": [],
   "source": [
    "topic_names = sorted(data['train'].features['labels'].names)\n",
    "\n",
    "features = Features(\n",
    "    {\n",
    "        'id': Value(dtype='string'),\n",
    "        'text': Value(dtype='string'),\n",
    "        'labels': ClassLabel(names=topic_names, num_classes=len(topic_names), id=None)\n",
    "    }\n",
    ")\n",
    "#########################################################################################\n",
    "test_hf = Dataset.from_dict(\n",
    "        {\n",
    "            'id': list(test_df.index.astype(str)),\n",
    "            'text': list(test_df['text']),\n",
    "            'labels': list(test_df['topic_name'])\n",
    "        },\n",
    "        features=features\n",
    "    )\n",
    "##########################################################################################\n",
    "random_state = 42\n",
    "temp_data = test_hf.train_test_split(test_size=0.5, seed=random_state, stratify_by_column='labels')"
   ]
  },
  {
   "cell_type": "code",
   "execution_count": 8,
   "metadata": {
    "tags": []
   },
   "outputs": [
    {
     "data": {
      "text/plain": [
       "DatasetDict({\n",
       "    train: Dataset({\n",
       "        features: ['id', 'text', 'labels'],\n",
       "        num_rows: 1954\n",
       "    })\n",
       "})"
      ]
     },
     "execution_count": 8,
     "metadata": {},
     "output_type": "execute_result"
    }
   ],
   "source": [
    "data"
   ]
  },
  {
   "cell_type": "code",
   "execution_count": 9,
   "metadata": {
    "colab": {
     "base_uri": "https://localhost:8080/"
    },
    "id": "FAQMxQyRzVmE",
    "outputId": "31aa9169-b37d-4427-e464-d1f57baeddf8",
    "tags": []
   },
   "outputs": [
    {
     "data": {
      "text/html": [
       "<pre style=\"white-space:pre;overflow-x:auto;line-height:normal;font-family:Menlo,'DejaVu Sans Mono',consolas,'Courier New',monospace\">Example:\n",
       "<span style=\"font-weight: bold\">{</span><span style=\"color: #008000; text-decoration-color: #008000\">'id'</span>: <span style=\"color: #008000; text-decoration-color: #008000\">'1617'</span>, <span style=\"color: #008000; text-decoration-color: #008000\">'text'</span>: <span style=\"color: #008000; text-decoration-color: #008000\">'ما أعجبني حقًا هو أنه جديد في السوق ويعملون على استخدامه.'</span>, <span style=\"color: #008000; text-decoration-color: #008000\">'labels'</span>: <span style=\"color: #008080; text-decoration-color: #008080; font-weight: bold\">4</span><span style=\"font-weight: bold\">}</span>\n",
       "</pre>\n"
      ],
      "text/plain": [
       "Example:\n",
       "\u001b[1m{\u001b[0m\u001b[32m'id'\u001b[0m: \u001b[32m'1617'\u001b[0m, \u001b[32m'text'\u001b[0m: \u001b[32m'ما أعجبني حقًا هو أنه جديد في السوق ويعملون على استخدامه.'\u001b[0m, \u001b[32m'labels'\u001b[0m: \u001b[1;36m4\u001b[0m\u001b[1m}\u001b[0m\n"
      ]
     },
     "metadata": {},
     "output_type": "display_data"
    }
   ],
   "source": [
    "print(f'Example:\\n{data[\"train\"][0]}')"
   ]
  },
  {
   "cell_type": "code",
   "execution_count": 10,
   "metadata": {
    "tags": []
   },
   "outputs": [],
   "source": [
    "data['validation'] = temp_data['train']\n",
    "data['test'] = temp_data['test']"
   ]
  },
  {
   "cell_type": "code",
   "execution_count": 11,
   "metadata": {
    "tags": []
   },
   "outputs": [
    {
     "data": {
      "text/html": [
       "<pre style=\"white-space:pre;overflow-x:auto;line-height:normal;font-family:Menlo,'DejaVu Sans Mono',consolas,'Courier New',monospace\"><span style=\"color: #800080; text-decoration-color: #800080; font-weight: bold\">DatasetDict</span><span style=\"font-weight: bold\">({</span>\n",
       "    train: <span style=\"color: #800080; text-decoration-color: #800080; font-weight: bold\">Dataset</span><span style=\"font-weight: bold\">({</span>\n",
       "        features: <span style=\"font-weight: bold\">[</span><span style=\"color: #008000; text-decoration-color: #008000\">'id'</span>, <span style=\"color: #008000; text-decoration-color: #008000\">'text'</span>, <span style=\"color: #008000; text-decoration-color: #008000\">'labels'</span><span style=\"font-weight: bold\">]</span>,\n",
       "        num_rows: <span style=\"color: #008080; text-decoration-color: #008080; font-weight: bold\">1954</span>\n",
       "    <span style=\"font-weight: bold\">})</span>\n",
       "    validation: <span style=\"color: #800080; text-decoration-color: #800080; font-weight: bold\">Dataset</span><span style=\"font-weight: bold\">({</span>\n",
       "        features: <span style=\"font-weight: bold\">[</span><span style=\"color: #008000; text-decoration-color: #008000\">'id'</span>, <span style=\"color: #008000; text-decoration-color: #008000\">'text'</span>, <span style=\"color: #008000; text-decoration-color: #008000\">'labels'</span><span style=\"font-weight: bold\">]</span>,\n",
       "        num_rows: <span style=\"color: #008080; text-decoration-color: #008080; font-weight: bold\">317</span>\n",
       "    <span style=\"font-weight: bold\">})</span>\n",
       "    test: <span style=\"color: #800080; text-decoration-color: #800080; font-weight: bold\">Dataset</span><span style=\"font-weight: bold\">({</span>\n",
       "        features: <span style=\"font-weight: bold\">[</span><span style=\"color: #008000; text-decoration-color: #008000\">'id'</span>, <span style=\"color: #008000; text-decoration-color: #008000\">'text'</span>, <span style=\"color: #008000; text-decoration-color: #008000\">'labels'</span><span style=\"font-weight: bold\">]</span>,\n",
       "        num_rows: <span style=\"color: #008080; text-decoration-color: #008080; font-weight: bold\">317</span>\n",
       "    <span style=\"font-weight: bold\">})</span>\n",
       "<span style=\"font-weight: bold\">})</span>\n",
       "</pre>\n"
      ],
      "text/plain": [
       "\u001b[1;35mDatasetDict\u001b[0m\u001b[1m(\u001b[0m\u001b[1m{\u001b[0m\n",
       "    train: \u001b[1;35mDataset\u001b[0m\u001b[1m(\u001b[0m\u001b[1m{\u001b[0m\n",
       "        features: \u001b[1m[\u001b[0m\u001b[32m'id'\u001b[0m, \u001b[32m'text'\u001b[0m, \u001b[32m'labels'\u001b[0m\u001b[1m]\u001b[0m,\n",
       "        num_rows: \u001b[1;36m1954\u001b[0m\n",
       "    \u001b[1m}\u001b[0m\u001b[1m)\u001b[0m\n",
       "    validation: \u001b[1;35mDataset\u001b[0m\u001b[1m(\u001b[0m\u001b[1m{\u001b[0m\n",
       "        features: \u001b[1m[\u001b[0m\u001b[32m'id'\u001b[0m, \u001b[32m'text'\u001b[0m, \u001b[32m'labels'\u001b[0m\u001b[1m]\u001b[0m,\n",
       "        num_rows: \u001b[1;36m317\u001b[0m\n",
       "    \u001b[1m}\u001b[0m\u001b[1m)\u001b[0m\n",
       "    test: \u001b[1;35mDataset\u001b[0m\u001b[1m(\u001b[0m\u001b[1m{\u001b[0m\n",
       "        features: \u001b[1m[\u001b[0m\u001b[32m'id'\u001b[0m, \u001b[32m'text'\u001b[0m, \u001b[32m'labels'\u001b[0m\u001b[1m]\u001b[0m,\n",
       "        num_rows: \u001b[1;36m317\u001b[0m\n",
       "    \u001b[1m}\u001b[0m\u001b[1m)\u001b[0m\n",
       "\u001b[1m}\u001b[0m\u001b[1m)\u001b[0m\n"
      ]
     },
     "metadata": {},
     "output_type": "display_data"
    }
   ],
   "source": [
    "print(data)"
   ]
  },
  {
   "cell_type": "code",
   "execution_count": 12,
   "metadata": {
    "tags": []
   },
   "outputs": [
    {
     "data": {
      "text/html": [
       "<pre style=\"white-space:pre;overflow-x:auto;line-height:normal;font-family:Menlo,'DejaVu Sans Mono',consolas,'Courier New',monospace\"><span style=\"font-weight: bold\">[</span>\n",
       "    <span style=\"color: #008000; text-decoration-color: #008000\">'الجانب البحثي و الأوراق البحثية'</span>,\n",
       "    <span style=\"color: #008000; text-decoration-color: #008000\">'المتطلبات و المهام و الدرجات'</span>,\n",
       "    <span style=\"color: #008000; text-decoration-color: #008000\">'الوقت و الجدول'</span>,\n",
       "    <span style=\"color: #008000; text-decoration-color: #008000\">'دكتور المقرر'</span>,\n",
       "    <span style=\"color: #008000; text-decoration-color: #008000\">'سوق العمل'</span>,\n",
       "    <span style=\"color: #008000; text-decoration-color: #008000\">'طريقة تدريس و تقديم المادة'</span>,\n",
       "    <span style=\"color: #008000; text-decoration-color: #008000\">'غير محدد'</span>,\n",
       "    <span style=\"color: #008000; text-decoration-color: #008000\">'محتوى ومعلومات المقرر'</span>,\n",
       "    <span style=\"color: #008000; text-decoration-color: #008000\">'موازنة الجزء العملي مع الجزء النظري'</span>\n",
       "<span style=\"font-weight: bold\">]</span>\n",
       "</pre>\n"
      ],
      "text/plain": [
       "\u001b[1m[\u001b[0m\n",
       "    \u001b[32m'الجانب البحثي و الأوراق البحثية'\u001b[0m,\n",
       "    \u001b[32m'المتطلبات و المهام و الدرجات'\u001b[0m,\n",
       "    \u001b[32m'الوقت و الجدول'\u001b[0m,\n",
       "    \u001b[32m'دكتور المقرر'\u001b[0m,\n",
       "    \u001b[32m'سوق العمل'\u001b[0m,\n",
       "    \u001b[32m'طريقة تدريس و تقديم المادة'\u001b[0m,\n",
       "    \u001b[32m'غير محدد'\u001b[0m,\n",
       "    \u001b[32m'محتوى ومعلومات المقرر'\u001b[0m,\n",
       "    \u001b[32m'موازنة الجزء العملي مع الجزء النظري'\u001b[0m\n",
       "\u001b[1m]\u001b[0m\n"
      ]
     },
     "metadata": {},
     "output_type": "display_data"
    },
    {
     "data": {
      "text/html": [
       "<pre style=\"white-space:pre;overflow-x:auto;line-height:normal;font-family:Menlo,'DejaVu Sans Mono',consolas,'Courier New',monospace\"><span style=\"font-weight: bold\">[</span>\n",
       "    <span style=\"color: #008000; text-decoration-color: #008000\">'الجانب البحثي و الأوراق البحثية'</span>,\n",
       "    <span style=\"color: #008000; text-decoration-color: #008000\">'المتطلبات و المهام و الدرجات'</span>,\n",
       "    <span style=\"color: #008000; text-decoration-color: #008000\">'الوقت و الجدول'</span>,\n",
       "    <span style=\"color: #008000; text-decoration-color: #008000\">'دكتور المقرر'</span>,\n",
       "    <span style=\"color: #008000; text-decoration-color: #008000\">'سوق العمل'</span>,\n",
       "    <span style=\"color: #008000; text-decoration-color: #008000\">'طريقة تدريس و تقديم المادة'</span>,\n",
       "    <span style=\"color: #008000; text-decoration-color: #008000\">'غير محدد'</span>,\n",
       "    <span style=\"color: #008000; text-decoration-color: #008000\">'محتوى ومعلومات المقرر'</span>,\n",
       "    <span style=\"color: #008000; text-decoration-color: #008000\">'موازنة الجزء العملي مع الجزء النظري'</span>\n",
       "<span style=\"font-weight: bold\">]</span>\n",
       "</pre>\n"
      ],
      "text/plain": [
       "\u001b[1m[\u001b[0m\n",
       "    \u001b[32m'الجانب البحثي و الأوراق البحثية'\u001b[0m,\n",
       "    \u001b[32m'المتطلبات و المهام و الدرجات'\u001b[0m,\n",
       "    \u001b[32m'الوقت و الجدول'\u001b[0m,\n",
       "    \u001b[32m'دكتور المقرر'\u001b[0m,\n",
       "    \u001b[32m'سوق العمل'\u001b[0m,\n",
       "    \u001b[32m'طريقة تدريس و تقديم المادة'\u001b[0m,\n",
       "    \u001b[32m'غير محدد'\u001b[0m,\n",
       "    \u001b[32m'محتوى ومعلومات المقرر'\u001b[0m,\n",
       "    \u001b[32m'موازنة الجزء العملي مع الجزء النظري'\u001b[0m\n",
       "\u001b[1m]\u001b[0m\n"
      ]
     },
     "metadata": {},
     "output_type": "display_data"
    },
    {
     "data": {
      "text/html": [
       "<pre style=\"white-space:pre;overflow-x:auto;line-height:normal;font-family:Menlo,'DejaVu Sans Mono',consolas,'Courier New',monospace\"><span style=\"font-weight: bold\">[</span>\n",
       "    <span style=\"color: #008000; text-decoration-color: #008000\">'الجانب البحثي و الأوراق البحثية'</span>,\n",
       "    <span style=\"color: #008000; text-decoration-color: #008000\">'المتطلبات و المهام و الدرجات'</span>,\n",
       "    <span style=\"color: #008000; text-decoration-color: #008000\">'الوقت و الجدول'</span>,\n",
       "    <span style=\"color: #008000; text-decoration-color: #008000\">'دكتور المقرر'</span>,\n",
       "    <span style=\"color: #008000; text-decoration-color: #008000\">'سوق العمل'</span>,\n",
       "    <span style=\"color: #008000; text-decoration-color: #008000\">'طريقة تدريس و تقديم المادة'</span>,\n",
       "    <span style=\"color: #008000; text-decoration-color: #008000\">'غير محدد'</span>,\n",
       "    <span style=\"color: #008000; text-decoration-color: #008000\">'محتوى ومعلومات المقرر'</span>,\n",
       "    <span style=\"color: #008000; text-decoration-color: #008000\">'موازنة الجزء العملي مع الجزء النظري'</span>\n",
       "<span style=\"font-weight: bold\">]</span>\n",
       "</pre>\n"
      ],
      "text/plain": [
       "\u001b[1m[\u001b[0m\n",
       "    \u001b[32m'الجانب البحثي و الأوراق البحثية'\u001b[0m,\n",
       "    \u001b[32m'المتطلبات و المهام و الدرجات'\u001b[0m,\n",
       "    \u001b[32m'الوقت و الجدول'\u001b[0m,\n",
       "    \u001b[32m'دكتور المقرر'\u001b[0m,\n",
       "    \u001b[32m'سوق العمل'\u001b[0m,\n",
       "    \u001b[32m'طريقة تدريس و تقديم المادة'\u001b[0m,\n",
       "    \u001b[32m'غير محدد'\u001b[0m,\n",
       "    \u001b[32m'محتوى ومعلومات المقرر'\u001b[0m,\n",
       "    \u001b[32m'موازنة الجزء العملي مع الجزء النظري'\u001b[0m\n",
       "\u001b[1m]\u001b[0m\n"
      ]
     },
     "metadata": {},
     "output_type": "display_data"
    }
   ],
   "source": [
    "print(data['train'].features['labels'].int2str(list(range(len(topic_names)))))\n",
    "print(data['test'].features['labels'].int2str(list(range(len(topic_names)))))\n",
    "print(data['validation'].features['labels'].int2str(list(range(len(topic_names)))))"
   ]
  },
  {
   "cell_type": "code",
   "execution_count": 13,
   "metadata": {
    "id": "8nkcD_Wdz1Zq",
    "tags": []
   },
   "outputs": [],
   "source": [
    "model_checkpoint = 'FacebookAI/xlm-roberta-large'"
   ]
  },
  {
   "cell_type": "code",
   "execution_count": 14,
   "metadata": {
    "colab": {
     "base_uri": "https://localhost:8080/"
    },
    "id": "aprqpDlq0TAi",
    "outputId": "dac02534-0e49-44fe-947a-c08a106269de",
    "tags": []
   },
   "outputs": [],
   "source": [
    "tokenizer = AutoTokenizer.from_pretrained(model_checkpoint)\n",
    "data_collator = DataCollatorWithPadding(tokenizer=tokenizer)"
   ]
  },
  {
   "cell_type": "code",
   "execution_count": 15,
   "metadata": {
    "colab": {
     "base_uri": "https://localhost:8080/"
    },
    "id": "LYPXb4Lv0Vpl",
    "outputId": "3b3c744f-06f0-463c-f52f-8ad8bc1a721c",
    "tags": []
   },
   "outputs": [
    {
     "data": {
      "text/html": [
       "<pre style=\"white-space:pre;overflow-x:auto;line-height:normal;font-family:Menlo,'DejaVu Sans Mono',consolas,'Courier New',monospace\"><span style=\"font-weight: bold\">[</span>\n",
       "    <span style=\"color: #008000; text-decoration-color: #008000\">'الجانب البحثي و الأوراق البحثية'</span>,\n",
       "    <span style=\"color: #008000; text-decoration-color: #008000\">'المتطلبات و المهام و الدرجات'</span>,\n",
       "    <span style=\"color: #008000; text-decoration-color: #008000\">'الوقت و الجدول'</span>,\n",
       "    <span style=\"color: #008000; text-decoration-color: #008000\">'دكتور المقرر'</span>,\n",
       "    <span style=\"color: #008000; text-decoration-color: #008000\">'سوق العمل'</span>,\n",
       "    <span style=\"color: #008000; text-decoration-color: #008000\">'طريقة تدريس و تقديم المادة'</span>,\n",
       "    <span style=\"color: #008000; text-decoration-color: #008000\">'غير محدد'</span>,\n",
       "    <span style=\"color: #008000; text-decoration-color: #008000\">'محتوى ومعلومات المقرر'</span>,\n",
       "    <span style=\"color: #008000; text-decoration-color: #008000\">'موازنة الجزء العملي مع الجزء النظري'</span>\n",
       "<span style=\"font-weight: bold\">]</span>\n",
       "</pre>\n"
      ],
      "text/plain": [
       "\u001b[1m[\u001b[0m\n",
       "    \u001b[32m'الجانب البحثي و الأوراق البحثية'\u001b[0m,\n",
       "    \u001b[32m'المتطلبات و المهام و الدرجات'\u001b[0m,\n",
       "    \u001b[32m'الوقت و الجدول'\u001b[0m,\n",
       "    \u001b[32m'دكتور المقرر'\u001b[0m,\n",
       "    \u001b[32m'سوق العمل'\u001b[0m,\n",
       "    \u001b[32m'طريقة تدريس و تقديم المادة'\u001b[0m,\n",
       "    \u001b[32m'غير محدد'\u001b[0m,\n",
       "    \u001b[32m'محتوى ومعلومات المقرر'\u001b[0m,\n",
       "    \u001b[32m'موازنة الجزء العملي مع الجزء النظري'\u001b[0m\n",
       "\u001b[1m]\u001b[0m\n"
      ]
     },
     "metadata": {},
     "output_type": "display_data"
    }
   ],
   "source": [
    "label_feature = data['train'].features['labels']\n",
    "label_names = label_feature.names\n",
    "print(label_names)"
   ]
  },
  {
   "cell_type": "code",
   "execution_count": 16,
   "metadata": {
    "id": "J_vXEMaC0dwM",
    "tags": []
   },
   "outputs": [],
   "source": [
    "label2id = {label: label_feature.str2int(label) for label in label_names}\n",
    "id2label = {v: k for k, v in label2id.items()}"
   ]
  },
  {
   "cell_type": "code",
   "execution_count": 17,
   "metadata": {
    "colab": {
     "base_uri": "https://localhost:8080/"
    },
    "id": "6y8NP4Mu0hQp",
    "outputId": "cbb210f7-eeb2-4c31-eeb1-fdfa6fb06d88",
    "tags": []
   },
   "outputs": [
    {
     "data": {
      "text/html": [
       "<pre style=\"white-space:pre;overflow-x:auto;line-height:normal;font-family:Menlo,'DejaVu Sans Mono',consolas,'Courier New',monospace\"><span style=\"font-weight: bold\">{</span>\n",
       "    <span style=\"color: #008000; text-decoration-color: #008000\">'الجانب البحثي و الأوراق البحثية'</span>: <span style=\"color: #008080; text-decoration-color: #008080; font-weight: bold\">0</span>,\n",
       "    <span style=\"color: #008000; text-decoration-color: #008000\">'المتطلبات و المهام و الدرجات'</span>: <span style=\"color: #008080; text-decoration-color: #008080; font-weight: bold\">1</span>,\n",
       "    <span style=\"color: #008000; text-decoration-color: #008000\">'الوقت و الجدول'</span>: <span style=\"color: #008080; text-decoration-color: #008080; font-weight: bold\">2</span>,\n",
       "    <span style=\"color: #008000; text-decoration-color: #008000\">'دكتور المقرر'</span>: <span style=\"color: #008080; text-decoration-color: #008080; font-weight: bold\">3</span>,\n",
       "    <span style=\"color: #008000; text-decoration-color: #008000\">'سوق العمل'</span>: <span style=\"color: #008080; text-decoration-color: #008080; font-weight: bold\">4</span>,\n",
       "    <span style=\"color: #008000; text-decoration-color: #008000\">'طريقة تدريس و تقديم المادة'</span>: <span style=\"color: #008080; text-decoration-color: #008080; font-weight: bold\">5</span>,\n",
       "    <span style=\"color: #008000; text-decoration-color: #008000\">'غير محدد'</span>: <span style=\"color: #008080; text-decoration-color: #008080; font-weight: bold\">6</span>,\n",
       "    <span style=\"color: #008000; text-decoration-color: #008000\">'محتوى ومعلومات المقرر'</span>: <span style=\"color: #008080; text-decoration-color: #008080; font-weight: bold\">7</span>,\n",
       "    <span style=\"color: #008000; text-decoration-color: #008000\">'موازنة الجزء العملي مع الجزء النظري'</span>: <span style=\"color: #008080; text-decoration-color: #008080; font-weight: bold\">8</span>\n",
       "<span style=\"font-weight: bold\">}</span>\n",
       "</pre>\n"
      ],
      "text/plain": [
       "\u001b[1m{\u001b[0m\n",
       "    \u001b[32m'الجانب البحثي و الأوراق البحثية'\u001b[0m: \u001b[1;36m0\u001b[0m,\n",
       "    \u001b[32m'المتطلبات و المهام و الدرجات'\u001b[0m: \u001b[1;36m1\u001b[0m,\n",
       "    \u001b[32m'الوقت و الجدول'\u001b[0m: \u001b[1;36m2\u001b[0m,\n",
       "    \u001b[32m'دكتور المقرر'\u001b[0m: \u001b[1;36m3\u001b[0m,\n",
       "    \u001b[32m'سوق العمل'\u001b[0m: \u001b[1;36m4\u001b[0m,\n",
       "    \u001b[32m'طريقة تدريس و تقديم المادة'\u001b[0m: \u001b[1;36m5\u001b[0m,\n",
       "    \u001b[32m'غير محدد'\u001b[0m: \u001b[1;36m6\u001b[0m,\n",
       "    \u001b[32m'محتوى ومعلومات المقرر'\u001b[0m: \u001b[1;36m7\u001b[0m,\n",
       "    \u001b[32m'موازنة الجزء العملي مع الجزء النظري'\u001b[0m: \u001b[1;36m8\u001b[0m\n",
       "\u001b[1m}\u001b[0m\n"
      ]
     },
     "metadata": {},
     "output_type": "display_data"
    },
    {
     "data": {
      "text/html": [
       "<pre style=\"white-space:pre;overflow-x:auto;line-height:normal;font-family:Menlo,'DejaVu Sans Mono',consolas,'Courier New',monospace\"><span style=\"font-weight: bold\">{</span>\n",
       "    <span style=\"color: #008080; text-decoration-color: #008080; font-weight: bold\">0</span>: <span style=\"color: #008000; text-decoration-color: #008000\">'الجانب البحثي و الأوراق البحثية'</span>,\n",
       "    <span style=\"color: #008080; text-decoration-color: #008080; font-weight: bold\">1</span>: <span style=\"color: #008000; text-decoration-color: #008000\">'المتطلبات و المهام و الدرجات'</span>,\n",
       "    <span style=\"color: #008080; text-decoration-color: #008080; font-weight: bold\">2</span>: <span style=\"color: #008000; text-decoration-color: #008000\">'الوقت و الجدول'</span>,\n",
       "    <span style=\"color: #008080; text-decoration-color: #008080; font-weight: bold\">3</span>: <span style=\"color: #008000; text-decoration-color: #008000\">'دكتور المقرر'</span>,\n",
       "    <span style=\"color: #008080; text-decoration-color: #008080; font-weight: bold\">4</span>: <span style=\"color: #008000; text-decoration-color: #008000\">'سوق العمل'</span>,\n",
       "    <span style=\"color: #008080; text-decoration-color: #008080; font-weight: bold\">5</span>: <span style=\"color: #008000; text-decoration-color: #008000\">'طريقة تدريس و تقديم المادة'</span>,\n",
       "    <span style=\"color: #008080; text-decoration-color: #008080; font-weight: bold\">6</span>: <span style=\"color: #008000; text-decoration-color: #008000\">'غير محدد'</span>,\n",
       "    <span style=\"color: #008080; text-decoration-color: #008080; font-weight: bold\">7</span>: <span style=\"color: #008000; text-decoration-color: #008000\">'محتوى ومعلومات المقرر'</span>,\n",
       "    <span style=\"color: #008080; text-decoration-color: #008080; font-weight: bold\">8</span>: <span style=\"color: #008000; text-decoration-color: #008000\">'موازنة الجزء العملي مع الجزء النظري'</span>\n",
       "<span style=\"font-weight: bold\">}</span>\n",
       "</pre>\n"
      ],
      "text/plain": [
       "\u001b[1m{\u001b[0m\n",
       "    \u001b[1;36m0\u001b[0m: \u001b[32m'الجانب البحثي و الأوراق البحثية'\u001b[0m,\n",
       "    \u001b[1;36m1\u001b[0m: \u001b[32m'المتطلبات و المهام و الدرجات'\u001b[0m,\n",
       "    \u001b[1;36m2\u001b[0m: \u001b[32m'الوقت و الجدول'\u001b[0m,\n",
       "    \u001b[1;36m3\u001b[0m: \u001b[32m'دكتور المقرر'\u001b[0m,\n",
       "    \u001b[1;36m4\u001b[0m: \u001b[32m'سوق العمل'\u001b[0m,\n",
       "    \u001b[1;36m5\u001b[0m: \u001b[32m'طريقة تدريس و تقديم المادة'\u001b[0m,\n",
       "    \u001b[1;36m6\u001b[0m: \u001b[32m'غير محدد'\u001b[0m,\n",
       "    \u001b[1;36m7\u001b[0m: \u001b[32m'محتوى ومعلومات المقرر'\u001b[0m,\n",
       "    \u001b[1;36m8\u001b[0m: \u001b[32m'موازنة الجزء العملي مع الجزء النظري'\u001b[0m\n",
       "\u001b[1m}\u001b[0m\n"
      ]
     },
     "metadata": {},
     "output_type": "display_data"
    }
   ],
   "source": [
    "print(label2id)\n",
    "print(id2label)"
   ]
  },
  {
   "cell_type": "code",
   "execution_count": 18,
   "metadata": {
    "id": "jTst-QTR0Zbh",
    "tags": []
   },
   "outputs": [],
   "source": [
    "def tokenize_function(example):\n",
    "    return tokenizer(example['text'], truncation=True)"
   ]
  },
  {
   "cell_type": "code",
   "execution_count": 19,
   "metadata": {
    "colab": {
     "base_uri": "https://localhost:8080/",
     "height": 81,
     "referenced_widgets": [
      "a79d73b9e4194bc4b02f845c24858827",
      "e35a5eec199c4fd087074774c5c63ba5",
      "a4ef94a8ab404db098912bf80d39a18c",
      "9d2ad030130a4cdc92b9f928ffd241a8",
      "b901264a25b842e1bd46a1b6a84ba704",
      "34be08734334443e904efd3ffdafd940",
      "d087bf32b4834f05aaca907bd0631b07",
      "3acf3d4864c94b088078df2d5766550a",
      "f162757d83634fe1acb2d49e684fe956",
      "79584fb5ace743e195de7318bf507a45",
      "e132e4d9107c478ea20655df44383a4f",
      "2e17ca8e2ac24a98a088677f682f7bf1",
      "e9489ba20d474fa2bbb7636b6b37fe9c",
      "c7017335c8f94531a18ee9535740a10d",
      "5b4dfc903bcc4279b97211c02513e61a",
      "578e8825838c4051ae8f10a725530e51",
      "764e0f4be6424b13a8efe5bda2a484ad",
      "e41c49353a2f4f8d86ae6946c4bd162f",
      "e6615893fe844e888e88d4257c39c28f",
      "67f88e55fc69484c972b2d67379e9934",
      "f716b1dd917e4b6d974a859e96eb9763",
      "a702f1e370f34f13af4b4b4701053f32"
     ]
    },
    "id": "INJmp43j035E",
    "outputId": "3cee86e0-485c-4a72-9732-b24f2b29b183",
    "tags": []
   },
   "outputs": [
    {
     "data": {
      "application/vnd.jupyter.widget-view+json": {
       "model_id": "5f5af71b71ef47a8b680e5a0a2a25522",
       "version_major": 2,
       "version_minor": 0
      },
      "text/plain": [
       "Map:   0%|          | 0/317 [00:00<?, ? examples/s]"
      ]
     },
     "metadata": {},
     "output_type": "display_data"
    },
    {
     "data": {
      "application/vnd.jupyter.widget-view+json": {
       "model_id": "1b617cad75ac4cffabb2ecb0a24fbbd8",
       "version_major": 2,
       "version_minor": 0
      },
      "text/plain": [
       "Map:   0%|          | 0/317 [00:00<?, ? examples/s]"
      ]
     },
     "metadata": {},
     "output_type": "display_data"
    }
   ],
   "source": [
    "tokenized_dataset = data.map(tokenize_function, batched=True, remove_columns=['text'])"
   ]
  },
  {
   "cell_type": "code",
   "execution_count": 20,
   "metadata": {
    "colab": {
     "base_uri": "https://localhost:8080/"
    },
    "id": "zJKSgGdl0_YG",
    "outputId": "85d8baf2-bbd1-411e-fa41-d2da6c71d9ed",
    "tags": []
   },
   "outputs": [
    {
     "data": {
      "text/html": [
       "<pre style=\"white-space:pre;overflow-x:auto;line-height:normal;font-family:Menlo,'DejaVu Sans Mono',consolas,'Courier New',monospace\"><span style=\"color: #800080; text-decoration-color: #800080; font-weight: bold\">DatasetDict</span><span style=\"font-weight: bold\">({</span>\n",
       "    train: <span style=\"color: #800080; text-decoration-color: #800080; font-weight: bold\">Dataset</span><span style=\"font-weight: bold\">({</span>\n",
       "        features: <span style=\"font-weight: bold\">[</span><span style=\"color: #008000; text-decoration-color: #008000\">'id'</span>, <span style=\"color: #008000; text-decoration-color: #008000\">'labels'</span>, <span style=\"color: #008000; text-decoration-color: #008000\">'input_ids'</span>, <span style=\"color: #008000; text-decoration-color: #008000\">'attention_mask'</span><span style=\"font-weight: bold\">]</span>,\n",
       "        num_rows: <span style=\"color: #008080; text-decoration-color: #008080; font-weight: bold\">1954</span>\n",
       "    <span style=\"font-weight: bold\">})</span>\n",
       "    validation: <span style=\"color: #800080; text-decoration-color: #800080; font-weight: bold\">Dataset</span><span style=\"font-weight: bold\">({</span>\n",
       "        features: <span style=\"font-weight: bold\">[</span><span style=\"color: #008000; text-decoration-color: #008000\">'id'</span>, <span style=\"color: #008000; text-decoration-color: #008000\">'labels'</span>, <span style=\"color: #008000; text-decoration-color: #008000\">'input_ids'</span>, <span style=\"color: #008000; text-decoration-color: #008000\">'attention_mask'</span><span style=\"font-weight: bold\">]</span>,\n",
       "        num_rows: <span style=\"color: #008080; text-decoration-color: #008080; font-weight: bold\">317</span>\n",
       "    <span style=\"font-weight: bold\">})</span>\n",
       "    test: <span style=\"color: #800080; text-decoration-color: #800080; font-weight: bold\">Dataset</span><span style=\"font-weight: bold\">({</span>\n",
       "        features: <span style=\"font-weight: bold\">[</span><span style=\"color: #008000; text-decoration-color: #008000\">'id'</span>, <span style=\"color: #008000; text-decoration-color: #008000\">'labels'</span>, <span style=\"color: #008000; text-decoration-color: #008000\">'input_ids'</span>, <span style=\"color: #008000; text-decoration-color: #008000\">'attention_mask'</span><span style=\"font-weight: bold\">]</span>,\n",
       "        num_rows: <span style=\"color: #008080; text-decoration-color: #008080; font-weight: bold\">317</span>\n",
       "    <span style=\"font-weight: bold\">})</span>\n",
       "<span style=\"font-weight: bold\">})</span>\n",
       "</pre>\n"
      ],
      "text/plain": [
       "\u001b[1;35mDatasetDict\u001b[0m\u001b[1m(\u001b[0m\u001b[1m{\u001b[0m\n",
       "    train: \u001b[1;35mDataset\u001b[0m\u001b[1m(\u001b[0m\u001b[1m{\u001b[0m\n",
       "        features: \u001b[1m[\u001b[0m\u001b[32m'id'\u001b[0m, \u001b[32m'labels'\u001b[0m, \u001b[32m'input_ids'\u001b[0m, \u001b[32m'attention_mask'\u001b[0m\u001b[1m]\u001b[0m,\n",
       "        num_rows: \u001b[1;36m1954\u001b[0m\n",
       "    \u001b[1m}\u001b[0m\u001b[1m)\u001b[0m\n",
       "    validation: \u001b[1;35mDataset\u001b[0m\u001b[1m(\u001b[0m\u001b[1m{\u001b[0m\n",
       "        features: \u001b[1m[\u001b[0m\u001b[32m'id'\u001b[0m, \u001b[32m'labels'\u001b[0m, \u001b[32m'input_ids'\u001b[0m, \u001b[32m'attention_mask'\u001b[0m\u001b[1m]\u001b[0m,\n",
       "        num_rows: \u001b[1;36m317\u001b[0m\n",
       "    \u001b[1m}\u001b[0m\u001b[1m)\u001b[0m\n",
       "    test: \u001b[1;35mDataset\u001b[0m\u001b[1m(\u001b[0m\u001b[1m{\u001b[0m\n",
       "        features: \u001b[1m[\u001b[0m\u001b[32m'id'\u001b[0m, \u001b[32m'labels'\u001b[0m, \u001b[32m'input_ids'\u001b[0m, \u001b[32m'attention_mask'\u001b[0m\u001b[1m]\u001b[0m,\n",
       "        num_rows: \u001b[1;36m317\u001b[0m\n",
       "    \u001b[1m}\u001b[0m\u001b[1m)\u001b[0m\n",
       "\u001b[1m}\u001b[0m\u001b[1m)\u001b[0m\n"
      ]
     },
     "metadata": {},
     "output_type": "display_data"
    }
   ],
   "source": [
    "print(tokenized_dataset)"
   ]
  },
  {
   "cell_type": "code",
   "execution_count": 21,
   "metadata": {
    "id": "dF2dOaZO1EIb",
    "tags": []
   },
   "outputs": [],
   "source": [
    "tokenized_train = tokenized_dataset['train']\n",
    "tokenized_validation = tokenized_dataset['validation']\n",
    "tokenized_test = tokenized_dataset['test']"
   ]
  },
  {
   "cell_type": "code",
   "execution_count": 22,
   "metadata": {
    "id": "gT70t1ZH1Q86",
    "tags": []
   },
   "outputs": [],
   "source": [
    "def model_init():\n",
    "    model = AutoModelForSequenceClassification.from_pretrained(\n",
    "        model_checkpoint,\n",
    "        id2label=id2label,\n",
    "        label2id=label2id\n",
    "    )\n",
    "\n",
    "    return model"
   ]
  },
  {
   "cell_type": "code",
   "execution_count": 23,
   "metadata": {
    "id": "jLrAQl_h1U50",
    "tags": []
   },
   "outputs": [],
   "source": [
    "def compute_metrics(eval_preds):\n",
    "    logits, labels = eval_preds\n",
    "    predictions = np.argmax(logits, axis=-1)\n",
    "    result = classification_report(labels, predictions, output_dict=True, zero_division=0)\n",
    "    metrics = {f'{id2label[int(k)]} f1-score': v['f1-score'] for k, v in result.items() if k.isdigit()}\n",
    "    metrics['Accuracy'] = result['accuracy']\n",
    "    metrics['Macro f1-score'] = result['macro avg']['f1-score']\n",
    "    return metrics"
   ]
  },
  {
   "cell_type": "code",
   "execution_count": 24,
   "metadata": {
    "tags": []
   },
   "outputs": [
    {
     "data": {
      "text/plain": [
       "device(type='cuda', index=0)"
      ]
     },
     "execution_count": 24,
     "metadata": {},
     "output_type": "execute_result"
    }
   ],
   "source": [
    "device = torch.device(\"cuda:0\" if torch.cuda.is_available() else \"cpu\")\n",
    "device"
   ]
  },
  {
   "cell_type": "code",
   "execution_count": 25,
   "metadata": {
    "tags": []
   },
   "outputs": [],
   "source": [
    "class CustomTrainer(Trainer):\n",
    "    def compute_loss(self, model, inputs, return_outputs=False):\n",
    "        labels = inputs.get(\"labels\")\n",
    "        # forward pass\n",
    "        outputs = model(**inputs)\n",
    "        logits = outputs.get('logits')\n",
    "        # compute custom loss\n",
    "        y = self.train_dataset['labels']\n",
    "        class_weights = compute_class_weight(class_weight='balanced', classes=np.unique(y), y=np.array(y))\n",
    "        class_weights = torch.tensor(class_weights).float().to(device)\n",
    "        loss_fct = nn.CrossEntropyLoss(weight=class_weights)\n",
    "        loss = loss_fct(logits.view(-1, self.model.config.num_labels), labels.view(-1))\n",
    "        return (loss, outputs) if return_outputs else loss"
   ]
  },
  {
   "cell_type": "code",
   "execution_count": 26,
   "metadata": {
    "id": "iNyuFtD51hxo",
    "tags": []
   },
   "outputs": [],
   "source": [
    "batch_size = 8\n",
    "num_epochs = 5"
   ]
  },
  {
   "cell_type": "code",
   "execution_count": 27,
   "metadata": {
    "id": "tvZX6GP61lRw",
    "tags": []
   },
   "outputs": [],
   "source": [
    "random.seed(random_state)\n",
    "np.random.seed(random_state)\n",
    "torch.manual_seed(random_state)\n",
    "torch.cuda.manual_seed(random_state)\n",
    "transformers.set_seed(random_state)\n",
    "torch.cuda.manual_seed_all(random_state)\n",
    "torch.backends.cudnn.deterministic = True\n",
    "torch.backends.cudnn.benchmark = False"
   ]
  },
  {
   "cell_type": "code",
   "execution_count": 28,
   "metadata": {
    "colab": {
     "base_uri": "https://localhost:8080/"
    },
    "id": "m5PHBdqH1rho",
    "outputId": "f7f228d6-2585-4de9-c251-a31bdda27a7b",
    "tags": []
   },
   "outputs": [
    {
     "name": "stderr",
     "output_type": "stream",
     "text": [
      "Some weights of XLMRobertaForSequenceClassification were not initialized from the model checkpoint at FacebookAI/xlm-roberta-large and are newly initialized: ['classifier.dense.weight', 'classifier.dense.bias', 'classifier.out_proj.weight', 'classifier.out_proj.bias']\n",
      "You should probably TRAIN this model on a down-stream task to be able to use it for predictions and inference.\n"
     ]
    }
   ],
   "source": [
    "args = TrainingArguments(\n",
    "    f'../../models/model_topic',\n",
    "    overwrite_output_dir=True,\n",
    "    num_train_epochs=num_epochs,\n",
    "    evaluation_strategy='epoch',\n",
    "    save_strategy='epoch',\n",
    "    seed=random_state,\n",
    "    data_seed=random_state,\n",
    "    per_device_train_batch_size=batch_size,\n",
    "    per_device_eval_batch_size=batch_size,\n",
    "    learning_rate=1e-5,\n",
    "    weight_decay=0.001,\n",
    "    load_best_model_at_end=True,\n",
    "    save_total_limit=1,\n",
    "    report_to='none'\n",
    ")\n",
    "\n",
    "trainer = CustomTrainer(\n",
    "    args=args,\n",
    "    train_dataset=tokenized_train,\n",
    "    eval_dataset=tokenized_validation,\n",
    "    data_collator=data_collator,\n",
    "    tokenizer=tokenizer,\n",
    "    model_init=model_init,\n",
    "    compute_metrics=compute_metrics\n",
    ")"
   ]
  },
  {
   "cell_type": "code",
   "execution_count": 29,
   "metadata": {
    "colab": {
     "base_uri": "https://localhost:8080/",
     "height": 374
    },
    "id": "n6OMkVRX18iV",
    "outputId": "693d213e-870d-4c36-e183-c3a6c5895417",
    "tags": []
   },
   "outputs": [
    {
     "name": "stderr",
     "output_type": "stream",
     "text": [
      "Some weights of XLMRobertaForSequenceClassification were not initialized from the model checkpoint at FacebookAI/xlm-roberta-large and are newly initialized: ['classifier.dense.weight', 'classifier.dense.bias', 'classifier.out_proj.weight', 'classifier.out_proj.bias']\n",
      "You should probably TRAIN this model on a down-stream task to be able to use it for predictions and inference.\n",
      "You're using a XLMRobertaTokenizerFast tokenizer. Please note that with a fast tokenizer, using the `__call__` method is faster than using a method to encode the text followed by a call to the `pad` method to get a padded encoding.\n"
     ]
    },
    {
     "data": {
      "text/html": [
       "\n",
       "    <div>\n",
       "      \n",
       "      <progress value='1225' max='1225' style='width:300px; height:20px; vertical-align: middle;'></progress>\n",
       "      [1225/1225 09:17, Epoch 5/5]\n",
       "    </div>\n",
       "    <table border=\"1\" class=\"dataframe\">\n",
       "  <thead>\n",
       " <tr style=\"text-align: left;\">\n",
       "      <th>Epoch</th>\n",
       "      <th>Training Loss</th>\n",
       "      <th>Validation Loss</th>\n",
       "      <th>الجانب البحثي و الأوراق البحثية f1-score</th>\n",
       "      <th>المتطلبات و المهام و الدرجات f1-score</th>\n",
       "      <th>الوقت و الجدول f1-score</th>\n",
       "      <th>دكتور المقرر f1-score</th>\n",
       "      <th>سوق العمل f1-score</th>\n",
       "      <th>طريقة تدريس و تقديم المادة f1-score</th>\n",
       "      <th>غير محدد f1-score</th>\n",
       "      <th>محتوى ومعلومات المقرر f1-score</th>\n",
       "      <th>موازنة الجزء العملي مع الجزء النظري f1-score</th>\n",
       "      <th>Accuracy</th>\n",
       "      <th>Macro f1-score</th>\n",
       "    </tr>\n",
       "  </thead>\n",
       "  <tbody>\n",
       "    <tr>\n",
       "      <td>1</td>\n",
       "      <td>No log</td>\n",
       "      <td>1.537686</td>\n",
       "      <td>0.740741</td>\n",
       "      <td>0.586207</td>\n",
       "      <td>0.500000</td>\n",
       "      <td>0.686747</td>\n",
       "      <td>0.500000</td>\n",
       "      <td>0.153846</td>\n",
       "      <td>0.392157</td>\n",
       "      <td>0.575000</td>\n",
       "      <td>0.469136</td>\n",
       "      <td>0.552050</td>\n",
       "      <td>0.511537</td>\n",
       "    </tr>\n",
       "    <tr>\n",
       "      <td>2</td>\n",
       "      <td>No log</td>\n",
       "      <td>0.731212</td>\n",
       "      <td>0.800000</td>\n",
       "      <td>0.784314</td>\n",
       "      <td>0.687500</td>\n",
       "      <td>0.936508</td>\n",
       "      <td>0.516129</td>\n",
       "      <td>0.434783</td>\n",
       "      <td>0.800000</td>\n",
       "      <td>0.804878</td>\n",
       "      <td>0.658228</td>\n",
       "      <td>0.763407</td>\n",
       "      <td>0.713593</td>\n",
       "    </tr>\n",
       "    <tr>\n",
       "      <td>3</td>\n",
       "      <td>1.511900</td>\n",
       "      <td>0.690016</td>\n",
       "      <td>0.800000</td>\n",
       "      <td>0.800000</td>\n",
       "      <td>0.687500</td>\n",
       "      <td>0.921875</td>\n",
       "      <td>0.842105</td>\n",
       "      <td>0.478261</td>\n",
       "      <td>0.696970</td>\n",
       "      <td>0.780488</td>\n",
       "      <td>0.828283</td>\n",
       "      <td>0.785489</td>\n",
       "      <td>0.759498</td>\n",
       "    </tr>\n",
       "    <tr>\n",
       "      <td>4</td>\n",
       "      <td>1.511900</td>\n",
       "      <td>0.656655</td>\n",
       "      <td>0.814815</td>\n",
       "      <td>0.833333</td>\n",
       "      <td>0.787879</td>\n",
       "      <td>0.951613</td>\n",
       "      <td>0.736842</td>\n",
       "      <td>0.666667</td>\n",
       "      <td>0.746269</td>\n",
       "      <td>0.819876</td>\n",
       "      <td>0.816327</td>\n",
       "      <td>0.820189</td>\n",
       "      <td>0.797069</td>\n",
       "    </tr>\n",
       "    <tr>\n",
       "      <td>5</td>\n",
       "      <td>0.349600</td>\n",
       "      <td>0.720927</td>\n",
       "      <td>0.857143</td>\n",
       "      <td>0.844444</td>\n",
       "      <td>0.812500</td>\n",
       "      <td>0.951613</td>\n",
       "      <td>0.736842</td>\n",
       "      <td>0.679245</td>\n",
       "      <td>0.782609</td>\n",
       "      <td>0.831325</td>\n",
       "      <td>0.816327</td>\n",
       "      <td>0.832808</td>\n",
       "      <td>0.812450</td>\n",
       "    </tr>\n",
       "  </tbody>\n",
       "</table><p>"
      ],
      "text/plain": [
       "<IPython.core.display.HTML object>"
      ]
     },
     "metadata": {},
     "output_type": "display_data"
    },
    {
     "data": {
      "text/plain": [
       "TrainOutput(global_step=1225, training_loss=0.7888229930644133, metrics={'train_runtime': 558.3801, 'train_samples_per_second': 17.497, 'train_steps_per_second': 2.194, 'total_flos': 946475132007132.0, 'train_loss': 0.7888229930644133, 'epoch': 5.0})"
      ]
     },
     "execution_count": 29,
     "metadata": {},
     "output_type": "execute_result"
    }
   ],
   "source": [
    "trainer.train()"
   ]
  },
  {
   "cell_type": "code",
   "execution_count": 30,
   "metadata": {
    "colab": {
     "base_uri": "https://localhost:8080/",
     "height": 17
    },
    "id": "SvOayVe624po",
    "outputId": "5cb907c0-9796-4383-b84f-0359811e9f7a",
    "tags": []
   },
   "outputs": [
    {
     "data": {
      "text/html": [],
      "text/plain": [
       "<IPython.core.display.HTML object>"
      ]
     },
     "metadata": {},
     "output_type": "display_data"
    }
   ],
   "source": [
    "predictions = trainer.predict(tokenized_test)"
   ]
  },
  {
   "cell_type": "code",
   "execution_count": 31,
   "metadata": {
    "tags": []
   },
   "outputs": [],
   "source": [
    "true_labels, preds = predictions.label_ids, predictions.predictions\n",
    "pred_labels = np.argmax(preds, axis=-1)"
   ]
  },
  {
   "cell_type": "code",
   "execution_count": 32,
   "metadata": {
    "tags": []
   },
   "outputs": [],
   "source": [
    "###########################################################################\n",
    "## These English pseudo label names are just for demonstration purposes. ##\n",
    "###########################################################################\n",
    "en_label_names = [\n",
    "    \"Research\",\n",
    "    \"Tasks\",\n",
    "    \"Time Table\",\n",
    "    \"Doctor\",\n",
    "    \"Labor Market\",\n",
    "    \"Teaching Methods\",\n",
    "    \"None\",\n",
    "    \"Curriculum\",\n",
    "    \"Practical\"\n",
    "]"
   ]
  },
  {
   "cell_type": "code",
   "execution_count": 33,
   "metadata": {
    "tags": []
   },
   "outputs": [
    {
     "data": {
      "text/html": [
       "<pre style=\"white-space:pre;overflow-x:auto;line-height:normal;font-family:Menlo,'DejaVu Sans Mono',consolas,'Courier New',monospace\">                  precision    recall  f1-score   support\n",
       "\n",
       "        Research       <span style=\"color: #008080; text-decoration-color: #008080; font-weight: bold\">0.86</span>      <span style=\"color: #008080; text-decoration-color: #008080; font-weight: bold\">1.00</span>      <span style=\"color: #008080; text-decoration-color: #008080; font-weight: bold\">0.92</span>        <span style=\"color: #008080; text-decoration-color: #008080; font-weight: bold\">12</span>\n",
       "           Tasks       <span style=\"color: #008080; text-decoration-color: #008080; font-weight: bold\">0.81</span>      <span style=\"color: #008080; text-decoration-color: #008080; font-weight: bold\">0.84</span>      <span style=\"color: #008080; text-decoration-color: #008080; font-weight: bold\">0.82</span>        <span style=\"color: #008080; text-decoration-color: #008080; font-weight: bold\">25</span>\n",
       "      Time Table       <span style=\"color: #008080; text-decoration-color: #008080; font-weight: bold\">0.83</span>      <span style=\"color: #008080; text-decoration-color: #008080; font-weight: bold\">0.71</span>      <span style=\"color: #008080; text-decoration-color: #008080; font-weight: bold\">0.77</span>        <span style=\"color: #008080; text-decoration-color: #008080; font-weight: bold\">14</span>\n",
       "          Doctor       <span style=\"color: #008080; text-decoration-color: #008080; font-weight: bold\">0.86</span>      <span style=\"color: #008080; text-decoration-color: #008080; font-weight: bold\">0.98</span>      <span style=\"color: #008080; text-decoration-color: #008080; font-weight: bold\">0.91</span>        <span style=\"color: #008080; text-decoration-color: #008080; font-weight: bold\">60</span>\n",
       "    Labor Market       <span style=\"color: #008080; text-decoration-color: #008080; font-weight: bold\">0.88</span>      <span style=\"color: #008080; text-decoration-color: #008080; font-weight: bold\">0.64</span>      <span style=\"color: #008080; text-decoration-color: #008080; font-weight: bold\">0.74</span>        <span style=\"color: #008080; text-decoration-color: #008080; font-weight: bold\">11</span>\n",
       "Teaching Methods       <span style=\"color: #008080; text-decoration-color: #008080; font-weight: bold\">0.67</span>      <span style=\"color: #008080; text-decoration-color: #008080; font-weight: bold\">0.64</span>      <span style=\"color: #008080; text-decoration-color: #008080; font-weight: bold\">0.65</span>        <span style=\"color: #008080; text-decoration-color: #008080; font-weight: bold\">28</span>\n",
       "            <span style=\"color: #800080; text-decoration-color: #800080; font-style: italic\">None</span>       <span style=\"color: #008080; text-decoration-color: #008080; font-weight: bold\">0.82</span>      <span style=\"color: #008080; text-decoration-color: #008080; font-weight: bold\">0.73</span>      <span style=\"color: #008080; text-decoration-color: #008080; font-weight: bold\">0.77</span>        <span style=\"color: #008080; text-decoration-color: #008080; font-weight: bold\">37</span>\n",
       "      Curriculum       <span style=\"color: #008080; text-decoration-color: #008080; font-weight: bold\">0.76</span>      <span style=\"color: #008080; text-decoration-color: #008080; font-weight: bold\">0.77</span>      <span style=\"color: #008080; text-decoration-color: #008080; font-weight: bold\">0.76</span>        <span style=\"color: #008080; text-decoration-color: #008080; font-weight: bold\">81</span>\n",
       "       Practical       <span style=\"color: #008080; text-decoration-color: #008080; font-weight: bold\">0.89</span>      <span style=\"color: #008080; text-decoration-color: #008080; font-weight: bold\">0.84</span>      <span style=\"color: #008080; text-decoration-color: #008080; font-weight: bold\">0.86</span>        <span style=\"color: #008080; text-decoration-color: #008080; font-weight: bold\">49</span>\n",
       "\n",
       "        accuracy                           <span style=\"color: #008080; text-decoration-color: #008080; font-weight: bold\">0.81</span>       <span style=\"color: #008080; text-decoration-color: #008080; font-weight: bold\">317</span>\n",
       "       macro avg       <span style=\"color: #008080; text-decoration-color: #008080; font-weight: bold\">0.82</span>      <span style=\"color: #008080; text-decoration-color: #008080; font-weight: bold\">0.79</span>      <span style=\"color: #008080; text-decoration-color: #008080; font-weight: bold\">0.80</span>       <span style=\"color: #008080; text-decoration-color: #008080; font-weight: bold\">317</span>\n",
       "    weighted avg       <span style=\"color: #008080; text-decoration-color: #008080; font-weight: bold\">0.81</span>      <span style=\"color: #008080; text-decoration-color: #008080; font-weight: bold\">0.81</span>      <span style=\"color: #008080; text-decoration-color: #008080; font-weight: bold\">0.81</span>       <span style=\"color: #008080; text-decoration-color: #008080; font-weight: bold\">317</span>\n",
       "\n",
       "</pre>\n"
      ],
      "text/plain": [
       "                  precision    recall  f1-score   support\n",
       "\n",
       "        Research       \u001b[1;36m0.86\u001b[0m      \u001b[1;36m1.00\u001b[0m      \u001b[1;36m0.92\u001b[0m        \u001b[1;36m12\u001b[0m\n",
       "           Tasks       \u001b[1;36m0.81\u001b[0m      \u001b[1;36m0.84\u001b[0m      \u001b[1;36m0.82\u001b[0m        \u001b[1;36m25\u001b[0m\n",
       "      Time Table       \u001b[1;36m0.83\u001b[0m      \u001b[1;36m0.71\u001b[0m      \u001b[1;36m0.77\u001b[0m        \u001b[1;36m14\u001b[0m\n",
       "          Doctor       \u001b[1;36m0.86\u001b[0m      \u001b[1;36m0.98\u001b[0m      \u001b[1;36m0.91\u001b[0m        \u001b[1;36m60\u001b[0m\n",
       "    Labor Market       \u001b[1;36m0.88\u001b[0m      \u001b[1;36m0.64\u001b[0m      \u001b[1;36m0.74\u001b[0m        \u001b[1;36m11\u001b[0m\n",
       "Teaching Methods       \u001b[1;36m0.67\u001b[0m      \u001b[1;36m0.64\u001b[0m      \u001b[1;36m0.65\u001b[0m        \u001b[1;36m28\u001b[0m\n",
       "            \u001b[3;35mNone\u001b[0m       \u001b[1;36m0.82\u001b[0m      \u001b[1;36m0.73\u001b[0m      \u001b[1;36m0.77\u001b[0m        \u001b[1;36m37\u001b[0m\n",
       "      Curriculum       \u001b[1;36m0.76\u001b[0m      \u001b[1;36m0.77\u001b[0m      \u001b[1;36m0.76\u001b[0m        \u001b[1;36m81\u001b[0m\n",
       "       Practical       \u001b[1;36m0.89\u001b[0m      \u001b[1;36m0.84\u001b[0m      \u001b[1;36m0.86\u001b[0m        \u001b[1;36m49\u001b[0m\n",
       "\n",
       "        accuracy                           \u001b[1;36m0.81\u001b[0m       \u001b[1;36m317\u001b[0m\n",
       "       macro avg       \u001b[1;36m0.82\u001b[0m      \u001b[1;36m0.79\u001b[0m      \u001b[1;36m0.80\u001b[0m       \u001b[1;36m317\u001b[0m\n",
       "    weighted avg       \u001b[1;36m0.81\u001b[0m      \u001b[1;36m0.81\u001b[0m      \u001b[1;36m0.81\u001b[0m       \u001b[1;36m317\u001b[0m\n",
       "\n"
      ]
     },
     "metadata": {},
     "output_type": "display_data"
    }
   ],
   "source": [
    "print(classification_report(true_labels, pred_labels, target_names=en_label_names))"
   ]
  },
  {
   "cell_type": "code",
   "execution_count": 34,
   "metadata": {
    "tags": []
   },
   "outputs": [
    {
     "data": {
      "text/plain": [
       "<sklearn.metrics._plot.confusion_matrix.ConfusionMatrixDisplay at 0x7f086c128590>"
      ]
     },
     "execution_count": 34,
     "metadata": {},
     "output_type": "execute_result"
    },
    {
     "data": {
      "image/png": "[encoded data removed]",
      "text/plain": [
       "<Figure size 640x480 with 2 Axes>"
      ]
     },
     "metadata": {},
     "output_type": "display_data"
    }
   ],
   "source": [
    "cm = confusion_matrix(true_labels, pred_labels)\n",
    "disp = ConfusionMatrixDisplay(confusion_matrix=cm, display_labels=en_label_names)\n",
    "disp.plot(cmap=\"Blues\", colorbar=True, xticks_rotation='vertical')"
   ]
  },
  {
   "cell_type": "code",
   "execution_count": 35,
   "metadata": {
    "id": "j3da58H_9qV8",
    "jupyter": {
     "source_hidden": true
    },
    "tags": []
   },
   "outputs": [
    {
     "data": {
      "text/html": [
       "<pre style=\"white-space:pre;overflow-x:auto;line-height:normal;font-family:Menlo,'DejaVu Sans Mono',consolas,'Courier New',monospace\">\n",
       "</pre>\n"
      ],
      "text/plain": [
       "\n"
      ]
     },
     "metadata": {},
     "output_type": "display_data"
    }
   ],
   "source": [
    "{\n",
    "    'test_loss': 1.7518649101257324,\n",
    "    'test_موازنة الجزء العملي مع الجزء النظري f1-score': 0.6222222222222222,\n",
    "    'test_محتوى ومعلومات المقرر f1-score': 0.5510204081632653,\n",
    "    'test_الوقت و الجدول f1-score': 0.0,\n",
    "    'test_دكتور المقرر f1-score': 0.6432748538011696,\n",
    "    'test_طريقة تدريس و تقديم المادة f1-score': 0.2647058823529412,\n",
    "    'test_غير محدد f1-score': 0.4210526315789474,\n",
    "    'test_سوق العمل f1-score': 0.0,\n",
    "    'test_المتطلبات و المهام و الدرجات f1-score': 0.0,\n",
    "    'test_الجانب البحثي و الأوراق البحثية f1-score': 0.0,\n",
    "    'test_Accuracy': 0.49842271293375395,\n",
    "    'test_Macro f1-score': 0.2780306664576162,\n",
    "    'test_runtime': 0.6648,\n",
    "    'test_samples_per_second': 476.805,\n",
    "    'test_steps_per_second': 120.329\n",
    "}\n",
    "\n",
    "# after first iteration of cleansing on p5000 \n",
    "{\n",
    "    'test_loss': 1.5336387157440186,\n",
    "    'test_موازنة الجزء العملي مع الجزء النظري f1-score': 0.627906976744186,\n",
    "    'test_محتوى ومعلومات المقرر f1-score': 0.6477732793522267,\n",
    "    'test_الوقت و الجدول f1-score': 0.0,\n",
    "    'test_دكتور المقرر f1-score': 0.7656250000000001,\n",
    "    'test_طريقة تدريس و تقديم المادة f1-score': 0.18666666666666668,\n",
    "    'test_غير محدد f1-score': 0.7391304347826088,\n",
    "    'test_سوق العمل f1-score': 0.0,\n",
    "    'test_المتطلبات و المهام و الدرجات f1-score': 0.0,\n",
    "    'test_الجانب البحثي و الأوراق البحثية f1-score': 0.0,\n",
    "    'test_Accuracy': 0.5678233438485805,\n",
    "    'test_Macro f1-score': 0.3296780397272987,\n",
    "    'test_runtime': 1.9832,\n",
    "    'test_samples_per_second': 159.845,\n",
    "    'test_steps_per_second': 40.339\n",
    "}\n",
    "\n",
    "# after first iteration of cleansing on A4000\n",
    "{\n",
    "    'test_loss': 1.5463141202926636,\n",
    "    'test_موازنة الجزء العملي مع الجزء النظري f1-score': 0.6666666666666666,\n",
    "    'test_محتوى ومعلومات المقرر f1-score': 0.6297872340425533,\n",
    "    'test_الوقت و الجدول f1-score': 0.0,\n",
    "    'test_دكتور المقرر f1-score': 0.7297297297297296,\n",
    "    'test_طريقة تدريس و تقديم المادة f1-score': 0.2222222222222222,\n",
    "    'test_غير محدد f1-score': 0.6538461538461537,\n",
    "    'test_سوق العمل f1-score': 0.0,\n",
    "    'test_المتطلبات و المهام و الدرجات f1-score': 0.0,\n",
    "    'test_الجانب البحثي و الأوراق البحثية f1-score': 0.0,\n",
    "    'test_Accuracy': 0.5615141955835962,\n",
    "    'test_Macro f1-score': 0.32247244516748064,\n",
    "    'test_runtime': 0.6359,\n",
    "    'test_samples_per_second': 498.477,\n",
    "    'test_steps_per_second': 125.798\n",
    "}\n",
    "\n",
    "## llama 3 annotation performance on dr reem annotated test data\n",
    "{\n",
    "    'test_loss': 0.9754232168197632,\n",
    "    'test_موازنة الجزء العملي مع الجزء النظري f1-score': 0.7397260273972601,\n",
    "    'test_طريقة تدريس و تقديم المادة f1-score': 0.33999999999999997,\n",
    "    'test_محتوى ومعلومات المقرر f1-score': 0.7555555555555556,\n",
    "    'test_دكتور المقرر f1-score': 0.8739495798319328,\n",
    "    'test_غير محدد f1-score': 0.8372093023255814,\n",
    "    'test_الجانب البحثي و الأوراق البحثية f1-score': 0.0,\n",
    "    'test_المتطلبات و المهام و الدرجات f1-score': 0.5909090909090909,\n",
    "    'test_سوق العمل f1-score': 0.0,\n",
    "    'test_الوقت و الجدول f1-score': 0.5,\n",
    "    'test_Accuracy': 0.6845425867507886,\n",
    "    'test_Macro f1-score': 0.5152610617799357,\n",
    "    'test_runtime': 1.3045,\n",
    "    'test_samples_per_second': 243.012,\n",
    "    'test_steps_per_second': 61.328\n",
    "}\n",
    "\n",
    "## llama 3 annotation performance on llama 3 test annotated data\n",
    "\n",
    "{\n",
    "    'test_loss': 1.2718727588653564,\n",
    "    'test_موازنة الجزء العملي مع الجزء النظري f1-score': 0.6373626373626374,\n",
    "    'test_طريقة تدريس و تقديم المادة f1-score': 0.2926829268292683,\n",
    "    'test_محتوى ومعلومات المقرر f1-score': 0.6403162055335968,\n",
    "    'test_دكتور المقرر f1-score': 0.7702702702702704,\n",
    "    'test_غير محدد f1-score': 0.8333333333333334,\n",
    "    'test_الجانب البحثي و الأوراق البحثية f1-score': 0.0,\n",
    "    'test_المتطلبات و المهام و الدرجات f1-score': 0.0,\n",
    "    'test_سوق العمل f1-score': 0.0,\n",
    "    'test_الوقت و الجدول f1-score': 0.7500000000000001,\n",
    "    'test_Accuracy': 0.637223974763407,\n",
    "    'test_Macro f1-score': 0.435996152592123,\n",
    "    'test_runtime': 1.3771,\n",
    "    'test_samples_per_second': 230.195,\n",
    "    'test_steps_per_second': 58.093\n",
    "}\n",
    "\n",
    "## gpt4o annotation performance on dr reem annotated test set\n",
    "{\n",
    "    'test_loss': 1.1878654956817627,\n",
    "    'test_موازنة الجزء العملي مع الجزء النظري f1-score': 0.6464646464646465,\n",
    "    'test_طريقة تدريس و تقديم المادة f1-score': 0.3018867924528302,\n",
    "    'test_محتوى ومعلومات المقرر f1-score': 0.7575757575757576,\n",
    "    'test_دكتور المقرر f1-score': 0.9133858267716536,\n",
    "    'test_غير محدد f1-score': 0.6909090909090908,\n",
    "    'test_الجانب البحثي و الأوراق البحثية f1-score': 0.5384615384615385,\n",
    "    'test_المتطلبات و المهام و الدرجات f1-score': 0.6538461538461537,\n",
    "    'test_سوق العمل f1-score': 0.5,\n",
    "    'test_الوقت و الجدول f1-score': 0.6,\n",
    "    'test_Accuracy': 0.7034700315457413,\n",
    "    'test_Macro f1-score': 0.6225033118312967,\n",
    "    'test_runtime': 1.6649,\n",
    "    'test_samples_per_second': 190.397,\n",
    "    'test_steps_per_second': 48.05\n",
    "}\n",
    "\n",
    "# majority llm vote performance on llms_human test set (remove_prefix:yes, augment:yes, drop_duplicates:yes)\n",
    "{\n",
    "    'test_loss': 1.4566463232040405,\n",
    "    'test_موازنة الجزء العملي مع الجزء النظري f1-score': 0.7317073170731708,\n",
    "    'test_طريقة تدريس و تقديم المادة f1-score': 0.22857142857142854,\n",
    "    'test_محتوى ومعلومات المقرر f1-score': 0.6666666666666666,\n",
    "    'test_دكتور المقرر f1-score': 0.8103448275862069,\n",
    "    'test_غير محدد f1-score': 0.7428571428571429,\n",
    "    'test_الجانب البحثي و الأوراق البحثية f1-score': 0.7199999999999999,\n",
    "    'test_المتطلبات و المهام و الدرجات f1-score': 0.4727272727272728,\n",
    "    'test_سوق العمل f1-score': 0.5882352941176471,\n",
    "    'test_الوقت و الجدول f1-score': 0.56,\n",
    "    'test_Accuracy': 0.6403785488958991,\n",
    "    'test_Macro f1-score': 0.6134566610666151,\n",
    "    'test_runtime': 1.7727,\n",
    "    'test_samples_per_second': 178.828,\n",
    "    'test_steps_per_second': 45.13\n",
    "}\n",
    "\n",
    "# majority llm vote performance on llms_human test set (remove_prefix:no, augment:yes, drop_duplicates:yes)\n",
    "{\n",
    "    'test_loss': 1.5563527345657349,\n",
    "    'test_موازنة الجزء العملي مع الجزء النظري f1-score': 0.7142857142857143,\n",
    "    'test_طريقة تدريس و تقديم المادة f1-score': 0.23880597014925373,\n",
    "    'test_محتوى ومعلومات المقرر f1-score': 0.7023809523809522,\n",
    "    'test_دكتور المقرر f1-score': 0.8034188034188033,\n",
    "    'test_غير محدد f1-score': 0.7272727272727273,\n",
    "    'test_الجانب البحثي و الأوراق البحثية f1-score': 0.8,\n",
    "    'test_المتطلبات و المهام و الدرجات f1-score': 0.44067796610169496,\n",
    "    'test_سوق العمل f1-score': 0.6666666666666665,\n",
    "    'test_الوقت و الجدول f1-score': 0.39999999999999997,\n",
    "    'test_Accuracy': 0.6403785488958991,\n",
    "    'test_Macro f1-score': 0.6103898666973125,\n",
    "    'test_runtime': 1.9864,\n",
    "    'test_samples_per_second': 159.589,\n",
    "    'test_steps_per_second': 40.275\n",
    "}\n",
    "\n",
    "# majority llm vote performance on llms_human test set (remove_prefix:no, augment:no, drop_duplicates:yes)\n",
    "{\n",
    "    'test_loss': 1.0261039733886719,\n",
    "    'test_موازنة الجزء العملي مع الجزء النظري f1-score': 0.686868686868687,\n",
    "    'test_طريقة تدريس و تقديم المادة f1-score': 0.18181818181818182,\n",
    "    'test_محتوى ومعلومات المقرر f1-score': 0.7956989247311829,\n",
    "    'test_دكتور المقرر f1-score': 0.9032258064516129,\n",
    "    'test_غير محدد f1-score': 0.8266666666666665,\n",
    "    'test_الجانب البحثي و الأوراق البحثية f1-score': 0.6956521739130435,\n",
    "    'test_المتطلبات و المهام و الدرجات f1-score': 0.5937499999999999,\n",
    "    'test_سوق العمل f1-score': 0.16666666666666669,\n",
    "    'test_الوقت و الجدول f1-score': 0.4444444444444445,\n",
    "    'test_Accuracy': 0.7255520504731862,\n",
    "    'test_Macro f1-score': 0.5883101723956096,\n",
    "    'test_runtime': 2.0741,\n",
    "    'test_samples_per_second': 152.836,\n",
    "    'test_steps_per_second': 38.57\n",
    "}\n",
    "\n",
    "# majority llm vote with gpt4o augmentation performance on llms_human test set (remove_prefix: no)\n",
    "{\n",
    "    'test_loss': 1.0483810901641846,\n",
    "    'test_الجانب البحثي و الأوراق البحثية f1-score': 0.8148148148148148,\n",
    "    'test_المتطلبات و المهام و الدرجات f1-score': 0.6461538461538462,\n",
    "    'test_الوقت و الجدول f1-score': 0.6470588235294117,\n",
    "    'test_دكتور المقرر f1-score': 0.8524590163934426,\n",
    "    'test_سوق العمل f1-score': 0.6,\n",
    "    'test_طريقة تدريس و تقديم المادة f1-score': 0.43750000000000006,\n",
    "    'test_غير محدد f1-score': 0.7567567567567567,\n",
    "    'test_محتوى ومعلومات المقرر f1-score': 0.6466165413533835,\n",
    "    'test_موازنة الجزء العملي مع الجزء النظري f1-score': 0.8,\n",
    "    'test_Accuracy': 0.7066246056782335,\n",
    "    'test_Macro f1-score': 0.6890399776668505,\n",
    "    'test_runtime': 1.3802,\n",
    "    'test_samples_per_second': 229.67,\n",
    "    'test_steps_per_second': 57.961\n",
    "}\n",
    "\n",
    "\n",
    "# majority llm vote with gpt4o 3 examples on minority classes augmentation performance on llms_human test set (remove_prefix: no, batch_size=8, trainer)\n",
    "{\n",
    "    'test_loss': 0.8945626616477966,\n",
    "    'test_الجانب البحثي و الأوراق البحثية f1-score': 0.8799999999999999,\n",
    "    'test_المتطلبات و المهام و الدرجات f1-score': 0.7234042553191491,\n",
    "    'test_الوقت و الجدول f1-score': 0.6250000000000001,\n",
    "    'test_دكتور المقرر f1-score': 0.8739495798319329,\n",
    "    'test_سوق العمل f1-score': 0.6086956521739131,\n",
    "    'test_طريقة تدريس و تقديم المادة f1-score': 0.4857142857142857,\n",
    "    'test_غير محدد f1-score': 0.7761194029850748,\n",
    "    'test_محتوى ومعلومات المقرر f1-score': 0.735483870967742,\n",
    "    'test_موازنة الجزء العملي مع الجزء النظري f1-score': 0.7708333333333333,\n",
    "    'test_Accuracy': 0.7381703470031545,\n",
    "    'test_Macro f1-score': 0.7199111533694924,\n",
    "    'test_runtime': 1.1083,\n",
    "    'test_samples_per_second': 286.03,\n",
    "    'test_steps_per_second': 36.092\n",
    "}\n",
    "\n",
    "# majority llm vote with gpt4o 3 examples on minority classes augmentation performance on llms_human test set (remove_prefix: no, batch_size=8, custom_trainer)\n",
    "\n",
    "{\n",
    "    'test_loss': 0.9001050591468811,\n",
    "    'test_الجانب البحثي و الأوراق البحثية f1-score': 0.7586206896551724,\n",
    "    'test_المتطلبات و المهام و الدرجات f1-score': 0.6956521739130435,\n",
    "    'test_الوقت و الجدول f1-score': 0.6153846153846153,\n",
    "    'test_دكتور المقرر f1-score': 0.8411214953271028,\n",
    "    'test_سوق العمل f1-score': 0.5714285714285713,\n",
    "    'test_طريقة تدريس و تقديم المادة f1-score': 0.5000000000000001,\n",
    "    'test_غير محدد f1-score': 0.7647058823529411,\n",
    "    'test_محتوى ومعلومات المقرر f1-score': 0.7590361445783134,\n",
    "    'test_موازنة الجزء العملي مع الجزء النظري f1-score': 0.7676767676767676,\n",
    "    'test_Accuracy': 0.7287066246056783,\n",
    "    'test_Macro f1-score': 0.697069593368503,\n",
    "    'test_runtime': 1.1432,\n",
    "    'test_samples_per_second': 277.295,\n",
    "    'test_steps_per_second': 34.99\n",
    "}\n",
    "\n",
    "\n",
    "# majority llm vote with gpt4o 3 examples on minority classes augmentation performance on llms_human test set (remove_prefix: no, batch_size=8, trainer)\n",
    "\n",
    "{\n",
    "    'test_loss': 0.8945626616477966,\n",
    "    'test_الجانب البحثي و الأوراق البحثية f1-score': 0.8799999999999999,\n",
    "    'test_المتطلبات و المهام و الدرجات f1-score': 0.7234042553191491,\n",
    "    'test_الوقت و الجدول f1-score': 0.6250000000000001,\n",
    "    'test_دكتور المقرر f1-score': 0.8739495798319329,\n",
    "    'test_سوق العمل f1-score': 0.6086956521739131,\n",
    "    'test_طريقة تدريس و تقديم المادة f1-score': 0.4857142857142857,\n",
    "    'test_غير محدد f1-score': 0.7761194029850748,\n",
    "    'test_محتوى ومعلومات المقرر f1-score': 0.735483870967742,\n",
    "    'test_موازنة الجزء العملي مع الجزء النظري f1-score': 0.7708333333333333,\n",
    "    'test_Accuracy': 0.7381703470031545,\n",
    "    'test_Macro f1-score': 0.7199111533694924,\n",
    "    'test_runtime': 1.1097,\n",
    "    'test_samples_per_second': 285.652,\n",
    "    'test_steps_per_second': 36.044\n",
    "}\n",
    "\n",
    "# ../../data/result/hf_dataset_aug_gpt4o, roberta base custom trainer batchsize:8\n",
    "{\n",
    "    'test_loss': 0.7793468236923218,\n",
    "    'test_الجانب البحثي و الأوراق البحثية f1-score': 0.9166666666666666,\n",
    "    'test_المتطلبات و المهام و الدرجات f1-score': 0.7083333333333334,\n",
    "    'test_الوقت و الجدول f1-score': 0.6451612903225806,\n",
    "    'test_دكتور المقرر f1-score': 0.90625,\n",
    "    'test_سوق العمل f1-score': 0.6,\n",
    "    'test_طريقة تدريس و تقديم المادة f1-score': 0.5818181818181818,\n",
    "    'test_غير محدد f1-score': 0.7647058823529411,\n",
    "    'test_محتوى ومعلومات المقرر f1-score': 0.7160493827160493,\n",
    "    'test_موازنة الجزء العملي مع الجزء النظري f1-score': 0.8163265306122449,\n",
    "    'test_Accuracy': 0.7634069400630915,\n",
    "    'test_Macro f1-score': 0.7394790297579997,\n",
    "    'test_runtime': 0.9954,\n",
    "    'test_samples_per_second': 318.468,\n",
    "    'test_steps_per_second': 40.185\n",
    "}\n",
    "\n",
    "print()"
   ]
  },
  {
   "cell_type": "code",
   "execution_count": null,
   "metadata": {},
   "outputs": [],
   "source": []
  }
 ],
 "metadata": {
  "accelerator": "GPU",
  "colab": {
   "gpuType": "T4",
   "provenance": []
  },
  "kernelspec": {
   "display_name": "Python 3 (ipykernel)",
   "language": "python",
   "name": "python3"
  },
  "language_info": {
   "codemirror_mode": {
    "name": "ipython",
    "version": 3
   },
   "file_extension": ".py",
   "mimetype": "text/x-python",
   "name": "python",
   "nbconvert_exporter": "python",
   "pygments_lexer": "ipython3",
   "version": "3.11.7"
  },
  "widgets": {
   "application/vnd.jupyter.widget-state+json": {
    "2e17ca8e2ac24a98a088677f682f7bf1": {
     "model_module": "@jupyter-widgets/controls",
     "model_module_version": "1.5.0",
     "model_name": "HBoxModel",
     "state": {
      "_dom_classes": [],
      "_model_module": "@jupyter-widgets/controls",
      "_model_module_version": "1.5.0",
      "_model_name": "HBoxModel",
      "_view_count": null,
      "_view_module": "@jupyter-widgets/controls",
      "_view_module_version": "1.5.0",
      "_view_name": "HBoxView",
      "box_style": "",
      "children": [
       "IPY_MODEL_e9489ba20d474fa2bbb7636b6b37fe9c",
       "IPY_MODEL_c7017335c8f94531a18ee9535740a10d",
       "IPY_MODEL_5b4dfc903bcc4279b97211c02513e61a"
      ],
      "layout": "IPY_MODEL_578e8825838c4051ae8f10a725530e51"
     }
    },
    "34be08734334443e904efd3ffdafd940": {
     "model_module": "@jupyter-widgets/base",
     "model_module_version": "1.2.0",
     "model_name": "LayoutModel",
     "state": {
      "_model_module": "@jupyter-widgets/base",
      "_model_module_version": "1.2.0",
      "_model_name": "LayoutModel",
      "_view_count": null,
      "_view_module": "@jupyter-widgets/base",
      "_view_module_version": "1.2.0",
      "_view_name": "LayoutView",
      "align_content": null,
      "align_items": null,
      "align_self": null,
      "border": null,
      "bottom": null,
      "display": null,
      "flex": null,
      "flex_flow": null,
      "grid_area": null,
      "grid_auto_columns": null,
      "grid_auto_flow": null,
      "grid_auto_rows": null,
      "grid_column": null,
      "grid_gap": null,
      "grid_row": null,
      "grid_template_areas": null,
      "grid_template_columns": null,
      "grid_template_rows": null,
      "height": null,
      "justify_content": null,
      "justify_items": null,
      "left": null,
      "margin": null,
      "max_height": null,
      "max_width": null,
      "min_height": null,
      "min_width": null,
      "object_fit": null,
      "object_position": null,
      "order": null,
      "overflow": null,
      "overflow_x": null,
      "overflow_y": null,
      "padding": null,
      "right": null,
      "top": null,
      "visibility": null,
      "width": null
     }
    },
    "3acf3d4864c94b088078df2d5766550a": {
     "model_module": "@jupyter-widgets/base",
     "model_module_version": "1.2.0",
     "model_name": "LayoutModel",
     "state": {
      "_model_module": "@jupyter-widgets/base",
      "_model_module_version": "1.2.0",
      "_model_name": "LayoutModel",
      "_view_count": null,
      "_view_module": "@jupyter-widgets/base",
      "_view_module_version": "1.2.0",
      "_view_name": "LayoutView",
      "align_content": null,
      "align_items": null,
      "align_self": null,
      "border": null,
      "bottom": null,
      "display": null,
      "flex": null,
      "flex_flow": null,
      "grid_area": null,
      "grid_auto_columns": null,
      "grid_auto_flow": null,
      "grid_auto_rows": null,
      "grid_column": null,
      "grid_gap": null,
      "grid_row": null,
      "grid_template_areas": null,
      "grid_template_columns": null,
      "grid_template_rows": null,
      "height": null,
      "justify_content": null,
      "justify_items": null,
      "left": null,
      "margin": null,
      "max_height": null,
      "max_width": null,
      "min_height": null,
      "min_width": null,
      "object_fit": null,
      "object_position": null,
      "order": null,
      "overflow": null,
      "overflow_x": null,
      "overflow_y": null,
      "padding": null,
      "right": null,
      "top": null,
      "visibility": null,
      "width": null
     }
    },
    "578e8825838c4051ae8f10a725530e51": {
     "model_module": "@jupyter-widgets/base",
     "model_module_version": "1.2.0",
     "model_name": "LayoutModel",
     "state": {
      "_model_module": "@jupyter-widgets/base",
      "_model_module_version": "1.2.0",
      "_model_name": "LayoutModel",
      "_view_count": null,
      "_view_module": "@jupyter-widgets/base",
      "_view_module_version": "1.2.0",
      "_view_name": "LayoutView",
      "align_content": null,
      "align_items": null,
      "align_self": null,
      "border": null,
      "bottom": null,
      "display": null,
      "flex": null,
      "flex_flow": null,
      "grid_area": null,
      "grid_auto_columns": null,
      "grid_auto_flow": null,
      "grid_auto_rows": null,
      "grid_column": null,
      "grid_gap": null,
      "grid_row": null,
      "grid_template_areas": null,
      "grid_template_columns": null,
      "grid_template_rows": null,
      "height": null,
      "justify_content": null,
      "justify_items": null,
      "left": null,
      "margin": null,
      "max_height": null,
      "max_width": null,
      "min_height": null,
      "min_width": null,
      "object_fit": null,
      "object_position": null,
      "order": null,
      "overflow": null,
      "overflow_x": null,
      "overflow_y": null,
      "padding": null,
      "right": null,
      "top": null,
      "visibility": null,
      "width": null
     }
    },
    "5b4dfc903bcc4279b97211c02513e61a": {
     "model_module": "@jupyter-widgets/controls",
     "model_module_version": "1.5.0",
     "model_name": "HTMLModel",
     "state": {
      "_dom_classes": [],
      "_model_module": "@jupyter-widgets/controls",
      "_model_module_version": "1.5.0",
      "_model_name": "HTMLModel",
      "_view_count": null,
      "_view_module": "@jupyter-widgets/controls",
      "_view_module_version": "1.5.0",
      "_view_name": "HTMLView",
      "description": "",
      "description_tooltip": null,
      "layout": "IPY_MODEL_f716b1dd917e4b6d974a859e96eb9763",
      "placeholder": "​",
      "style": "IPY_MODEL_a702f1e370f34f13af4b4b4701053f32",
      "value": " 286/286 [00:00&lt;00:00, 2094.72 examples/s]"
     }
    },
    "67f88e55fc69484c972b2d67379e9934": {
     "model_module": "@jupyter-widgets/controls",
     "model_module_version": "1.5.0",
     "model_name": "ProgressStyleModel",
     "state": {
      "_model_module": "@jupyter-widgets/controls",
      "_model_module_version": "1.5.0",
      "_model_name": "ProgressStyleModel",
      "_view_count": null,
      "_view_module": "@jupyter-widgets/base",
      "_view_module_version": "1.2.0",
      "_view_name": "StyleView",
      "bar_color": null,
      "description_width": ""
     }
    },
    "764e0f4be6424b13a8efe5bda2a484ad": {
     "model_module": "@jupyter-widgets/base",
     "model_module_version": "1.2.0",
     "model_name": "LayoutModel",
     "state": {
      "_model_module": "@jupyter-widgets/base",
      "_model_module_version": "1.2.0",
      "_model_name": "LayoutModel",
      "_view_count": null,
      "_view_module": "@jupyter-widgets/base",
      "_view_module_version": "1.2.0",
      "_view_name": "LayoutView",
      "align_content": null,
      "align_items": null,
      "align_self": null,
      "border": null,
      "bottom": null,
      "display": null,
      "flex": null,
      "flex_flow": null,
      "grid_area": null,
      "grid_auto_columns": null,
      "grid_auto_flow": null,
      "grid_auto_rows": null,
      "grid_column": null,
      "grid_gap": null,
      "grid_row": null,
      "grid_template_areas": null,
      "grid_template_columns": null,
      "grid_template_rows": null,
      "height": null,
      "justify_content": null,
      "justify_items": null,
      "left": null,
      "margin": null,
      "max_height": null,
      "max_width": null,
      "min_height": null,
      "min_width": null,
      "object_fit": null,
      "object_position": null,
      "order": null,
      "overflow": null,
      "overflow_x": null,
      "overflow_y": null,
      "padding": null,
      "right": null,
      "top": null,
      "visibility": null,
      "width": null
     }
    },
    "79584fb5ace743e195de7318bf507a45": {
     "model_module": "@jupyter-widgets/base",
     "model_module_version": "1.2.0",
     "model_name": "LayoutModel",
     "state": {
      "_model_module": "@jupyter-widgets/base",
      "_model_module_version": "1.2.0",
      "_model_name": "LayoutModel",
      "_view_count": null,
      "_view_module": "@jupyter-widgets/base",
      "_view_module_version": "1.2.0",
      "_view_name": "LayoutView",
      "align_content": null,
      "align_items": null,
      "align_self": null,
      "border": null,
      "bottom": null,
      "display": null,
      "flex": null,
      "flex_flow": null,
      "grid_area": null,
      "grid_auto_columns": null,
      "grid_auto_flow": null,
      "grid_auto_rows": null,
      "grid_column": null,
      "grid_gap": null,
      "grid_row": null,
      "grid_template_areas": null,
      "grid_template_columns": null,
      "grid_template_rows": null,
      "height": null,
      "justify_content": null,
      "justify_items": null,
      "left": null,
      "margin": null,
      "max_height": null,
      "max_width": null,
      "min_height": null,
      "min_width": null,
      "object_fit": null,
      "object_position": null,
      "order": null,
      "overflow": null,
      "overflow_x": null,
      "overflow_y": null,
      "padding": null,
      "right": null,
      "top": null,
      "visibility": null,
      "width": null
     }
    },
    "9d2ad030130a4cdc92b9f928ffd241a8": {
     "model_module": "@jupyter-widgets/controls",
     "model_module_version": "1.5.0",
     "model_name": "HTMLModel",
     "state": {
      "_dom_classes": [],
      "_model_module": "@jupyter-widgets/controls",
      "_model_module_version": "1.5.0",
      "_model_name": "HTMLModel",
      "_view_count": null,
      "_view_module": "@jupyter-widgets/controls",
      "_view_module_version": "1.5.0",
      "_view_name": "HTMLView",
      "description": "",
      "description_tooltip": null,
      "layout": "IPY_MODEL_79584fb5ace743e195de7318bf507a45",
      "placeholder": "​",
      "style": "IPY_MODEL_e132e4d9107c478ea20655df44383a4f",
      "value": " 665/665 [00:00&lt;00:00, 2037.25 examples/s]"
     }
    },
    "a4ef94a8ab404db098912bf80d39a18c": {
     "model_module": "@jupyter-widgets/controls",
     "model_module_version": "1.5.0",
     "model_name": "FloatProgressModel",
     "state": {
      "_dom_classes": [],
      "_model_module": "@jupyter-widgets/controls",
      "_model_module_version": "1.5.0",
      "_model_name": "FloatProgressModel",
      "_view_count": null,
      "_view_module": "@jupyter-widgets/controls",
      "_view_module_version": "1.5.0",
      "_view_name": "ProgressView",
      "bar_style": "success",
      "description": "",
      "description_tooltip": null,
      "layout": "IPY_MODEL_3acf3d4864c94b088078df2d5766550a",
      "max": 665,
      "min": 0,
      "orientation": "horizontal",
      "style": "IPY_MODEL_f162757d83634fe1acb2d49e684fe956",
      "value": 665
     }
    },
    "a702f1e370f34f13af4b4b4701053f32": {
     "model_module": "@jupyter-widgets/controls",
     "model_module_version": "1.5.0",
     "model_name": "DescriptionStyleModel",
     "state": {
      "_model_module": "@jupyter-widgets/controls",
      "_model_module_version": "1.5.0",
      "_model_name": "DescriptionStyleModel",
      "_view_count": null,
      "_view_module": "@jupyter-widgets/base",
      "_view_module_version": "1.2.0",
      "_view_name": "StyleView",
      "description_width": ""
     }
    },
    "a79d73b9e4194bc4b02f845c24858827": {
     "model_module": "@jupyter-widgets/controls",
     "model_module_version": "1.5.0",
     "model_name": "HBoxModel",
     "state": {
      "_dom_classes": [],
      "_model_module": "@jupyter-widgets/controls",
      "_model_module_version": "1.5.0",
      "_model_name": "HBoxModel",
      "_view_count": null,
      "_view_module": "@jupyter-widgets/controls",
      "_view_module_version": "1.5.0",
      "_view_name": "HBoxView",
      "box_style": "",
      "children": [
       "IPY_MODEL_e35a5eec199c4fd087074774c5c63ba5",
       "IPY_MODEL_a4ef94a8ab404db098912bf80d39a18c",
       "IPY_MODEL_9d2ad030130a4cdc92b9f928ffd241a8"
      ],
      "layout": "IPY_MODEL_b901264a25b842e1bd46a1b6a84ba704"
     }
    },
    "b901264a25b842e1bd46a1b6a84ba704": {
     "model_module": "@jupyter-widgets/base",
     "model_module_version": "1.2.0",
     "model_name": "LayoutModel",
     "state": {
      "_model_module": "@jupyter-widgets/base",
      "_model_module_version": "1.2.0",
      "_model_name": "LayoutModel",
      "_view_count": null,
      "_view_module": "@jupyter-widgets/base",
      "_view_module_version": "1.2.0",
      "_view_name": "LayoutView",
      "align_content": null,
      "align_items": null,
      "align_self": null,
      "border": null,
      "bottom": null,
      "display": null,
      "flex": null,
      "flex_flow": null,
      "grid_area": null,
      "grid_auto_columns": null,
      "grid_auto_flow": null,
      "grid_auto_rows": null,
      "grid_column": null,
      "grid_gap": null,
      "grid_row": null,
      "grid_template_areas": null,
      "grid_template_columns": null,
      "grid_template_rows": null,
      "height": null,
      "justify_content": null,
      "justify_items": null,
      "left": null,
      "margin": null,
      "max_height": null,
      "max_width": null,
      "min_height": null,
      "min_width": null,
      "object_fit": null,
      "object_position": null,
      "order": null,
      "overflow": null,
      "overflow_x": null,
      "overflow_y": null,
      "padding": null,
      "right": null,
      "top": null,
      "visibility": null,
      "width": null
     }
    },
    "c7017335c8f94531a18ee9535740a10d": {
     "model_module": "@jupyter-widgets/controls",
     "model_module_version": "1.5.0",
     "model_name": "FloatProgressModel",
     "state": {
      "_dom_classes": [],
      "_model_module": "@jupyter-widgets/controls",
      "_model_module_version": "1.5.0",
      "_model_name": "FloatProgressModel",
      "_view_count": null,
      "_view_module": "@jupyter-widgets/controls",
      "_view_module_version": "1.5.0",
      "_view_name": "ProgressView",
      "bar_style": "success",
      "description": "",
      "description_tooltip": null,
      "layout": "IPY_MODEL_e6615893fe844e888e88d4257c39c28f",
      "max": 286,
      "min": 0,
      "orientation": "horizontal",
      "style": "IPY_MODEL_67f88e55fc69484c972b2d67379e9934",
      "value": 286
     }
    },
    "d087bf32b4834f05aaca907bd0631b07": {
     "model_module": "@jupyter-widgets/controls",
     "model_module_version": "1.5.0",
     "model_name": "DescriptionStyleModel",
     "state": {
      "_model_module": "@jupyter-widgets/controls",
      "_model_module_version": "1.5.0",
      "_model_name": "DescriptionStyleModel",
      "_view_count": null,
      "_view_module": "@jupyter-widgets/base",
      "_view_module_version": "1.2.0",
      "_view_name": "StyleView",
      "description_width": ""
     }
    },
    "e132e4d9107c478ea20655df44383a4f": {
     "model_module": "@jupyter-widgets/controls",
     "model_module_version": "1.5.0",
     "model_name": "DescriptionStyleModel",
     "state": {
      "_model_module": "@jupyter-widgets/controls",
      "_model_module_version": "1.5.0",
      "_model_name": "DescriptionStyleModel",
      "_view_count": null,
      "_view_module": "@jupyter-widgets/base",
      "_view_module_version": "1.2.0",
      "_view_name": "StyleView",
      "description_width": ""
     }
    },
    "e35a5eec199c4fd087074774c5c63ba5": {
     "model_module": "@jupyter-widgets/controls",
     "model_module_version": "1.5.0",
     "model_name": "HTMLModel",
     "state": {
      "_dom_classes": [],
      "_model_module": "@jupyter-widgets/controls",
      "_model_module_version": "1.5.0",
      "_model_name": "HTMLModel",
      "_view_count": null,
      "_view_module": "@jupyter-widgets/controls",
      "_view_module_version": "1.5.0",
      "_view_name": "HTMLView",
      "description": "",
      "description_tooltip": null,
      "layout": "IPY_MODEL_34be08734334443e904efd3ffdafd940",
      "placeholder": "​",
      "style": "IPY_MODEL_d087bf32b4834f05aaca907bd0631b07",
      "value": "Map: 100%"
     }
    },
    "e41c49353a2f4f8d86ae6946c4bd162f": {
     "model_module": "@jupyter-widgets/controls",
     "model_module_version": "1.5.0",
     "model_name": "DescriptionStyleModel",
     "state": {
      "_model_module": "@jupyter-widgets/controls",
      "_model_module_version": "1.5.0",
      "_model_name": "DescriptionStyleModel",
      "_view_count": null,
      "_view_module": "@jupyter-widgets/base",
      "_view_module_version": "1.2.0",
      "_view_name": "StyleView",
      "description_width": ""
     }
    },
    "e6615893fe844e888e88d4257c39c28f": {
     "model_module": "@jupyter-widgets/base",
     "model_module_version": "1.2.0",
     "model_name": "LayoutModel",
     "state": {
      "_model_module": "@jupyter-widgets/base",
      "_model_module_version": "1.2.0",
      "_model_name": "LayoutModel",
      "_view_count": null,
      "_view_module": "@jupyter-widgets/base",
      "_view_module_version": "1.2.0",
      "_view_name": "LayoutView",
      "align_content": null,
      "align_items": null,
      "align_self": null,
      "border": null,
      "bottom": null,
      "display": null,
      "flex": null,
      "flex_flow": null,
      "grid_area": null,
      "grid_auto_columns": null,
      "grid_auto_flow": null,
      "grid_auto_rows": null,
      "grid_column": null,
      "grid_gap": null,
      "grid_row": null,
      "grid_template_areas": null,
      "grid_template_columns": null,
      "grid_template_rows": null,
      "height": null,
      "justify_content": null,
      "justify_items": null,
      "left": null,
      "margin": null,
      "max_height": null,
      "max_width": null,
      "min_height": null,
      "min_width": null,
      "object_fit": null,
      "object_position": null,
      "order": null,
      "overflow": null,
      "overflow_x": null,
      "overflow_y": null,
      "padding": null,
      "right": null,
      "top": null,
      "visibility": null,
      "width": null
     }
    },
    "e9489ba20d474fa2bbb7636b6b37fe9c": {
     "model_module": "@jupyter-widgets/controls",
     "model_module_version": "1.5.0",
     "model_name": "HTMLModel",
     "state": {
      "_dom_classes": [],
      "_model_module": "@jupyter-widgets/controls",
      "_model_module_version": "1.5.0",
      "_model_name": "HTMLModel",
      "_view_count": null,
      "_view_module": "@jupyter-widgets/controls",
      "_view_module_version": "1.5.0",
      "_view_name": "HTMLView",
      "description": "",
      "description_tooltip": null,
      "layout": "IPY_MODEL_764e0f4be6424b13a8efe5bda2a484ad",
      "placeholder": "​",
      "style": "IPY_MODEL_e41c49353a2f4f8d86ae6946c4bd162f",
      "value": "Map: 100%"
     }
    },
    "f162757d83634fe1acb2d49e684fe956": {
     "model_module": "@jupyter-widgets/controls",
     "model_module_version": "1.5.0",
     "model_name": "ProgressStyleModel",
     "state": {
      "_model_module": "@jupyter-widgets/controls",
      "_model_module_version": "1.5.0",
      "_model_name": "ProgressStyleModel",
      "_view_count": null,
      "_view_module": "@jupyter-widgets/base",
      "_view_module_version": "1.2.0",
      "_view_name": "StyleView",
      "bar_color": null,
      "description_width": ""
     }
    },
    "f716b1dd917e4b6d974a859e96eb9763": {
     "model_module": "@jupyter-widgets/base",
     "model_module_version": "1.2.0",
     "model_name": "LayoutModel",
     "state": {
      "_model_module": "@jupyter-widgets/base",
      "_model_module_version": "1.2.0",
      "_model_name": "LayoutModel",
      "_view_count": null,
      "_view_module": "@jupyter-widgets/base",
      "_view_module_version": "1.2.0",
      "_view_name": "LayoutView",
      "align_content": null,
      "align_items": null,
      "align_self": null,
      "border": null,
      "bottom": null,
      "display": null,
      "flex": null,
      "flex_flow": null,
      "grid_area": null,
      "grid_auto_columns": null,
      "grid_auto_flow": null,
      "grid_auto_rows": null,
      "grid_column": null,
      "grid_gap": null,
      "grid_row": null,
      "grid_template_areas": null,
      "grid_template_columns": null,
      "grid_template_rows": null,
      "height": null,
      "justify_content": null,
      "justify_items": null,
      "left": null,
      "margin": null,
      "max_height": null,
      "max_width": null,
      "min_height": null,
      "min_width": null,
      "object_fit": null,
      "object_position": null,
      "order": null,
      "overflow": null,
      "overflow_x": null,
      "overflow_y": null,
      "padding": null,
      "right": null,
      "top": null,
      "visibility": null,
      "width": null
     }
    }
   }
  }
 },
 "nbformat": 4,
 "nbformat_minor": 4
}
