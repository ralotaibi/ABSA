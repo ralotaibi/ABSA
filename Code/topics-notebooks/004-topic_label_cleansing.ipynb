{
 "cells": [
  {
   "cell_type": "code",
   "execution_count": 1,
   "metadata": {
    "tags": []
   },
   "outputs": [],
   "source": [
    "import re\n",
    "import os\n",
    "import string\n",
    "import pandas as pd\n",
    "import numpy as np\n",
    "from sklearn.metrics import accuracy_score\n",
    "from sklearn.model_selection import train_test_split, cross_val_predict\n",
    "from sklearn.preprocessing import LabelEncoder\n",
    "from sklearn.linear_model import LogisticRegression\n",
    "from sklearn.utils.class_weight import compute_class_weight\n",
    "from sentence_transformers import SentenceTransformer\n",
    "\n",
    "from cleanlab.classification import CleanLearning\n",
    "from rich import print\n",
    "\n",
    "pd.set_option('display.max_colwidth', None)"
   ]
  },
  {
   "cell_type": "code",
   "execution_count": 2,
   "metadata": {
    "tags": []
   },
   "outputs": [],
   "source": [
    "data_path = '../../data/result/train_with_topic_df_majority_vote_gpt4o_preferred.csv'"
   ]
  },
  {
   "cell_type": "code",
   "execution_count": 3,
   "metadata": {
    "tags": []
   },
   "outputs": [],
   "source": [
    "data = pd.read_csv(data_path)\n",
    "data.rename(columns={'topic_id': 'old_topic_id'}, inplace=True)"
   ]
  },
  {
   "cell_type": "code",
   "execution_count": 4,
   "metadata": {
    "tags": []
   },
   "outputs": [
    {
     "data": {
      "text/html": [
       "<div>\n",
       "<style scoped>\n",
       "    .dataframe tbody tr th:only-of-type {\n",
       "        vertical-align: middle;\n",
       "    }\n",
       "\n",
       "    .dataframe tbody tr th {\n",
       "        vertical-align: top;\n",
       "    }\n",
       "\n",
       "    .dataframe thead th {\n",
       "        text-align: right;\n",
       "    }\n",
       "</style>\n",
       "<table border=\"1\" class=\"dataframe\">\n",
       "  <thead>\n",
       "    <tr style=\"text-align: right;\">\n",
       "      <th></th>\n",
       "      <th>column</th>\n",
       "      <th>text</th>\n",
       "      <th>old_topic_id</th>\n",
       "      <th>topic_name</th>\n",
       "      <th>topic_llm</th>\n",
       "      <th>majority_vote</th>\n",
       "      <th>tie</th>\n",
       "    </tr>\n",
       "  </thead>\n",
       "  <tbody>\n",
       "    <tr>\n",
       "      <th>0</th>\n",
       "      <td>like</td>\n",
       "      <td>أكثر ما أعجبني: التطبيق العملي المحدث والمشابه للعمل والقضايا الواقعية لتحليل الأدلة الجنائية التقنية</td>\n",
       "      <td>3</td>\n",
       "      <td>موازنة الجزء العملي مع الجزء النظري</td>\n",
       "      <td>موازنة الجزء العملي مع الجزء النظري</td>\n",
       "      <td>موازنة الجزء العملي مع الجزء النظري</td>\n",
       "      <td>False</td>\n",
       "    </tr>\n",
       "    <tr>\n",
       "      <th>1</th>\n",
       "      <td>improve_course</td>\n",
       "      <td>اقتراحاتي للتحسين: التطبيق والبعد عن التدريس الأكاديمي</td>\n",
       "      <td>3</td>\n",
       "      <td>موازنة الجزء العملي مع الجزء النظري</td>\n",
       "      <td>طريقة تدريس و تقديم المادة</td>\n",
       "      <td>طريقة تدريس و تقديم المادة</td>\n",
       "      <td>False</td>\n",
       "    </tr>\n",
       "    <tr>\n",
       "      <th>2</th>\n",
       "      <td>like</td>\n",
       "      <td>أكثر ما أعجبني: the content</td>\n",
       "      <td>0</td>\n",
       "      <td>محتوى ومعلومات المقرر</td>\n",
       "      <td>محتوى ومعلومات المقرر</td>\n",
       "      <td>محتوى ومعلومات المقرر</td>\n",
       "      <td>False</td>\n",
       "    </tr>\n",
       "    <tr>\n",
       "      <th>3</th>\n",
       "      <td>improve_course</td>\n",
       "      <td>اقتراحاتي للتحسين: provide more new books</td>\n",
       "      <td>3</td>\n",
       "      <td>موازنة الجزء العملي مع الجزء النظري</td>\n",
       "      <td>محتوى ومعلومات المقرر</td>\n",
       "      <td>محتوى ومعلومات المقرر</td>\n",
       "      <td>False</td>\n",
       "    </tr>\n",
       "    <tr>\n",
       "      <th>4</th>\n",
       "      <td>improve_course</td>\n",
       "      <td>اقتراحاتي للتحسين: زيادة ساعات العملي</td>\n",
       "      <td>8</td>\n",
       "      <td>الوقت و الجدول</td>\n",
       "      <td>موازنة الجزء العملي مع الجزء النظري</td>\n",
       "      <td>موازنة الجزء العملي مع الجزء النظري</td>\n",
       "      <td>False</td>\n",
       "    </tr>\n",
       "  </tbody>\n",
       "</table>\n",
       "</div>"
      ],
      "text/plain": [
       "           column  \\\n",
       "0            like   \n",
       "1  improve_course   \n",
       "2            like   \n",
       "3  improve_course   \n",
       "4  improve_course   \n",
       "\n",
       "                                                                                                    text  \\\n",
       "0  أكثر ما أعجبني: التطبيق العملي المحدث والمشابه للعمل والقضايا الواقعية لتحليل الأدلة الجنائية التقنية   \n",
       "1                                                 اقتراحاتي للتحسين: التطبيق والبعد عن التدريس الأكاديمي   \n",
       "2                                                                            أكثر ما أعجبني: the content   \n",
       "3                                                              اقتراحاتي للتحسين: provide more new books   \n",
       "4                                                                  اقتراحاتي للتحسين: زيادة ساعات العملي   \n",
       "\n",
       "   old_topic_id                           topic_name  \\\n",
       "0             3  موازنة الجزء العملي مع الجزء النظري   \n",
       "1             3  موازنة الجزء العملي مع الجزء النظري   \n",
       "2             0                محتوى ومعلومات المقرر   \n",
       "3             3  موازنة الجزء العملي مع الجزء النظري   \n",
       "4             8                       الوقت و الجدول   \n",
       "\n",
       "                             topic_llm                        majority_vote  \\\n",
       "0  موازنة الجزء العملي مع الجزء النظري  موازنة الجزء العملي مع الجزء النظري   \n",
       "1           طريقة تدريس و تقديم المادة           طريقة تدريس و تقديم المادة   \n",
       "2                محتوى ومعلومات المقرر                محتوى ومعلومات المقرر   \n",
       "3                محتوى ومعلومات المقرر                محتوى ومعلومات المقرر   \n",
       "4  موازنة الجزء العملي مع الجزء النظري  موازنة الجزء العملي مع الجزء النظري   \n",
       "\n",
       "     tie  \n",
       "0  False  \n",
       "1  False  \n",
       "2  False  \n",
       "3  False  \n",
       "4  False  "
      ]
     },
     "execution_count": 4,
     "metadata": {},
     "output_type": "execute_result"
    }
   ],
   "source": [
    "data.head()"
   ]
  },
  {
   "cell_type": "code",
   "execution_count": 5,
   "metadata": {
    "tags": []
   },
   "outputs": [],
   "source": [
    "data = data.drop(columns=['old_topic_id', 'column', 'topic_llm', 'tie', 'topic_name'])"
   ]
  },
  {
   "cell_type": "code",
   "execution_count": 6,
   "metadata": {
    "tags": []
   },
   "outputs": [],
   "source": [
    "data = data.rename(columns={'majority_vote': 'topic_name'})"
   ]
  },
  {
   "cell_type": "code",
   "execution_count": 7,
   "metadata": {
    "tags": []
   },
   "outputs": [
    {
     "data": {
      "text/html": [
       "<div>\n",
       "<style scoped>\n",
       "    .dataframe tbody tr th:only-of-type {\n",
       "        vertical-align: middle;\n",
       "    }\n",
       "\n",
       "    .dataframe tbody tr th {\n",
       "        vertical-align: top;\n",
       "    }\n",
       "\n",
       "    .dataframe thead th {\n",
       "        text-align: right;\n",
       "    }\n",
       "</style>\n",
       "<table border=\"1\" class=\"dataframe\">\n",
       "  <thead>\n",
       "    <tr style=\"text-align: right;\">\n",
       "      <th></th>\n",
       "      <th>text</th>\n",
       "      <th>topic_name</th>\n",
       "    </tr>\n",
       "  </thead>\n",
       "  <tbody>\n",
       "    <tr>\n",
       "      <th>0</th>\n",
       "      <td>أكثر ما أعجبني: التطبيق العملي المحدث والمشابه للعمل والقضايا الواقعية لتحليل الأدلة الجنائية التقنية</td>\n",
       "      <td>موازنة الجزء العملي مع الجزء النظري</td>\n",
       "    </tr>\n",
       "    <tr>\n",
       "      <th>1</th>\n",
       "      <td>اقتراحاتي للتحسين: التطبيق والبعد عن التدريس الأكاديمي</td>\n",
       "      <td>طريقة تدريس و تقديم المادة</td>\n",
       "    </tr>\n",
       "    <tr>\n",
       "      <th>2</th>\n",
       "      <td>أكثر ما أعجبني: the content</td>\n",
       "      <td>محتوى ومعلومات المقرر</td>\n",
       "    </tr>\n",
       "    <tr>\n",
       "      <th>3</th>\n",
       "      <td>اقتراحاتي للتحسين: provide more new books</td>\n",
       "      <td>محتوى ومعلومات المقرر</td>\n",
       "    </tr>\n",
       "    <tr>\n",
       "      <th>4</th>\n",
       "      <td>اقتراحاتي للتحسين: زيادة ساعات العملي</td>\n",
       "      <td>موازنة الجزء العملي مع الجزء النظري</td>\n",
       "    </tr>\n",
       "  </tbody>\n",
       "</table>\n",
       "</div>"
      ],
      "text/plain": [
       "                                                                                                    text  \\\n",
       "0  أكثر ما أعجبني: التطبيق العملي المحدث والمشابه للعمل والقضايا الواقعية لتحليل الأدلة الجنائية التقنية   \n",
       "1                                                 اقتراحاتي للتحسين: التطبيق والبعد عن التدريس الأكاديمي   \n",
       "2                                                                            أكثر ما أعجبني: the content   \n",
       "3                                                              اقتراحاتي للتحسين: provide more new books   \n",
       "4                                                                  اقتراحاتي للتحسين: زيادة ساعات العملي   \n",
       "\n",
       "                            topic_name  \n",
       "0  موازنة الجزء العملي مع الجزء النظري  \n",
       "1           طريقة تدريس و تقديم المادة  \n",
       "2                محتوى ومعلومات المقرر  \n",
       "3                محتوى ومعلومات المقرر  \n",
       "4  موازنة الجزء العملي مع الجزء النظري  "
      ]
     },
     "execution_count": 7,
     "metadata": {},
     "output_type": "execute_result"
    }
   ],
   "source": [
    "data.head()"
   ]
  },
  {
   "cell_type": "code",
   "execution_count": 8,
   "metadata": {
    "tags": []
   },
   "outputs": [],
   "source": [
    "# prev_iteration_path = '../../data/cleansed_data/topics/first_iteration/label_issues_topics_majority_vote_first_iteration_logistic_regression(solved).csv'\n",
    "# prev_iteration = pd.read_csv(prev_iteration_path)"
   ]
  },
  {
   "cell_type": "code",
   "execution_count": 9,
   "metadata": {
    "tags": []
   },
   "outputs": [],
   "source": [
    "# prev_iteration.head()"
   ]
  },
  {
   "cell_type": "code",
   "execution_count": 10,
   "metadata": {
    "tags": []
   },
   "outputs": [],
   "source": [
    "# data['topic_name'] = prev_iteration['updated_label']"
   ]
  },
  {
   "cell_type": "code",
   "execution_count": 11,
   "metadata": {
    "tags": []
   },
   "outputs": [],
   "source": [
    "# data['topic_name'] = data['topic_name'].apply(lambda x: \"غير محدد\" if x == 'None' else x)"
   ]
  },
  {
   "cell_type": "code",
   "execution_count": 12,
   "metadata": {
    "tags": []
   },
   "outputs": [],
   "source": [
    "def remove_prefix(x):\n",
    "    prefix_list = [\n",
    "        \"أكثر ما أعجبني:\",\n",
    "        \"أكثر ما لم يعجبني:\",\n",
    "        \"اقتراحاتي للتحسين:\",\n",
    "        \"اقتراحاتي للإضافة:\"\n",
    "    ]\n",
    "\n",
    "    for p in prefix_list:\n",
    "        x = x.replace(p, '').strip()\n",
    "\n",
    "    return x"
   ]
  },
  {
   "cell_type": "code",
   "execution_count": 13,
   "metadata": {
    "tags": []
   },
   "outputs": [],
   "source": [
    "# data['text'] = data['text'].apply(remove_prefix)"
   ]
  },
  {
   "cell_type": "code",
   "execution_count": 14,
   "metadata": {
    "tags": []
   },
   "outputs": [
    {
     "data": {
      "text/html": [
       "<div>\n",
       "<style scoped>\n",
       "    .dataframe tbody tr th:only-of-type {\n",
       "        vertical-align: middle;\n",
       "    }\n",
       "\n",
       "    .dataframe tbody tr th {\n",
       "        vertical-align: top;\n",
       "    }\n",
       "\n",
       "    .dataframe thead th {\n",
       "        text-align: right;\n",
       "    }\n",
       "</style>\n",
       "<table border=\"1\" class=\"dataframe\">\n",
       "  <thead>\n",
       "    <tr style=\"text-align: right;\">\n",
       "      <th></th>\n",
       "      <th>text</th>\n",
       "      <th>topic_name</th>\n",
       "    </tr>\n",
       "  </thead>\n",
       "  <tbody>\n",
       "    <tr>\n",
       "      <th>0</th>\n",
       "      <td>أكثر ما أعجبني: التطبيق العملي المحدث والمشابه للعمل والقضايا الواقعية لتحليل الأدلة الجنائية التقنية</td>\n",
       "      <td>موازنة الجزء العملي مع الجزء النظري</td>\n",
       "    </tr>\n",
       "    <tr>\n",
       "      <th>1</th>\n",
       "      <td>اقتراحاتي للتحسين: التطبيق والبعد عن التدريس الأكاديمي</td>\n",
       "      <td>طريقة تدريس و تقديم المادة</td>\n",
       "    </tr>\n",
       "    <tr>\n",
       "      <th>2</th>\n",
       "      <td>أكثر ما أعجبني: the content</td>\n",
       "      <td>محتوى ومعلومات المقرر</td>\n",
       "    </tr>\n",
       "    <tr>\n",
       "      <th>3</th>\n",
       "      <td>اقتراحاتي للتحسين: provide more new books</td>\n",
       "      <td>محتوى ومعلومات المقرر</td>\n",
       "    </tr>\n",
       "    <tr>\n",
       "      <th>4</th>\n",
       "      <td>اقتراحاتي للتحسين: زيادة ساعات العملي</td>\n",
       "      <td>موازنة الجزء العملي مع الجزء النظري</td>\n",
       "    </tr>\n",
       "    <tr>\n",
       "      <th>5</th>\n",
       "      <td>أكثر ما أعجبني: شرح البروفيسور ممتاز ومعرفة شاملة عن المادة</td>\n",
       "      <td>دكتور المقرر</td>\n",
       "    </tr>\n",
       "    <tr>\n",
       "      <th>6</th>\n",
       "      <td>أكثر ما أعجبني: تفاعل و تعاون الأستاذ اضافه الكثير من المعلومات الهامه جدا فيما يتعلق بالتخصص</td>\n",
       "      <td>دكتور المقرر</td>\n",
       "    </tr>\n",
       "    <tr>\n",
       "      <th>7</th>\n",
       "      <td>اقتراحاتي للإضافة: د. اعتماد من الدكاتره المحترمين لكن للاسف بنفس الوقت من الدكاتره التي لا أرغب في أخذ اي مقرر معها نهائي لانها مع احترامي لها عشوائية بالتدريس لاتلتزم بالخطة فهي دايم تضغطنا في نهاية الفصل بجميع التكاليف والواجبات مع العلمانناكننا نطلب منها إرسال الواجبات بعد نهاية كل فصل حتى يكون لدينا متسع من الوقت لكن بدون جدوى كمااننا لانعرف درجاتنا الا في نهاية الفصل توزيعنا في البيبرات بمجموعات قد يتضمن طالبات لايعملون عند عرض بعض المراجع الخارجيه عليها كانت ترفض وتقول ان بيني وبينكم الكتاب فقط عند حل الواجبات معها كانت تستخدم المانيوال ولما نستفسر عن طريقة حل بعض الأسئلة كانت لاتعرف أتمنى عدم تدريسها لاي مقرر شاكره لكم</td>\n",
       "      <td>دكتور المقرر</td>\n",
       "    </tr>\n",
       "    <tr>\n",
       "      <th>8</th>\n",
       "      <td>أكثر ما لم يعجبني: noting</td>\n",
       "      <td>غير محدد</td>\n",
       "    </tr>\n",
       "    <tr>\n",
       "      <th>9</th>\n",
       "      <td>أكثر ما لم يعجبني: التعمق في جزء الإحصاء بشكل كبير جدا</td>\n",
       "      <td>محتوى ومعلومات المقرر</td>\n",
       "    </tr>\n",
       "  </tbody>\n",
       "</table>\n",
       "</div>"
      ],
      "text/plain": [
       "                                                                                                                                                                                                                                                                                                                                                                                                                                                                                                                                                                                                                                                         text  \\\n",
       "0                                                                                                                                                                                                                                                                                                                                                                                                                                                                                                                                                       أكثر ما أعجبني: التطبيق العملي المحدث والمشابه للعمل والقضايا الواقعية لتحليل الأدلة الجنائية التقنية   \n",
       "1                                                                                                                                                                                                                                                                                                                                                                                                                                                                                                                                                                                                      اقتراحاتي للتحسين: التطبيق والبعد عن التدريس الأكاديمي   \n",
       "2                                                                                                                                                                                                                                                                                                                                                                                                                                                                                                                                                                                                                                 أكثر ما أعجبني: the content   \n",
       "3                                                                                                                                                                                                                                                                                                                                                                                                                                                                                                                                                                                                                   اقتراحاتي للتحسين: provide more new books   \n",
       "4                                                                                                                                                                                                                                                                                                                                                                                                                                                                                                                                                                                                                       اقتراحاتي للتحسين: زيادة ساعات العملي   \n",
       "5                                                                                                                                                                                                                                                                                                                                                                                                                                                                                                                                                                                                 أكثر ما أعجبني: شرح البروفيسور ممتاز ومعرفة شاملة عن المادة   \n",
       "6                                                                                                                                                                                                                                                                                                                                                                                                                                                                                                                                                               أكثر ما أعجبني: تفاعل و تعاون الأستاذ اضافه الكثير من المعلومات الهامه جدا فيما يتعلق بالتخصص   \n",
       "7  اقتراحاتي للإضافة: د. اعتماد من الدكاتره المحترمين لكن للاسف بنفس الوقت من الدكاتره التي لا أرغب في أخذ اي مقرر معها نهائي لانها مع احترامي لها عشوائية بالتدريس لاتلتزم بالخطة فهي دايم تضغطنا في نهاية الفصل بجميع التكاليف والواجبات مع العلمانناكننا نطلب منها إرسال الواجبات بعد نهاية كل فصل حتى يكون لدينا متسع من الوقت لكن بدون جدوى كمااننا لانعرف درجاتنا الا في نهاية الفصل توزيعنا في البيبرات بمجموعات قد يتضمن طالبات لايعملون عند عرض بعض المراجع الخارجيه عليها كانت ترفض وتقول ان بيني وبينكم الكتاب فقط عند حل الواجبات معها كانت تستخدم المانيوال ولما نستفسر عن طريقة حل بعض الأسئلة كانت لاتعرف أتمنى عدم تدريسها لاي مقرر شاكره لكم   \n",
       "8                                                                                                                                                                                                                                                                                                                                                                                                                                                                                                                                                                                                                                   أكثر ما لم يعجبني: noting   \n",
       "9                                                                                                                                                                                                                                                                                                                                                                                                                                                                                                                                                                                                      أكثر ما لم يعجبني: التعمق في جزء الإحصاء بشكل كبير جدا   \n",
       "\n",
       "                            topic_name  \n",
       "0  موازنة الجزء العملي مع الجزء النظري  \n",
       "1           طريقة تدريس و تقديم المادة  \n",
       "2                محتوى ومعلومات المقرر  \n",
       "3                محتوى ومعلومات المقرر  \n",
       "4  موازنة الجزء العملي مع الجزء النظري  \n",
       "5                         دكتور المقرر  \n",
       "6                         دكتور المقرر  \n",
       "7                         دكتور المقرر  \n",
       "8                             غير محدد  \n",
       "9                محتوى ومعلومات المقرر  "
      ]
     },
     "execution_count": 14,
     "metadata": {},
     "output_type": "execute_result"
    }
   ],
   "source": [
    "data.head(10)"
   ]
  },
  {
   "cell_type": "code",
   "execution_count": 15,
   "metadata": {
    "tags": []
   },
   "outputs": [],
   "source": [
    "text = data['text'].values\n",
    "labels = data['topic_name'].values"
   ]
  },
  {
   "cell_type": "code",
   "execution_count": 16,
   "metadata": {
    "tags": []
   },
   "outputs": [],
   "source": [
    "# test_size = 0.2\n",
    "# raw_train_texts, raw_test_texts, raw_train_labels, raw_test_labels = train_test_split(text, labels, test_size=test_size)\n",
    "raw_train_texts, raw_train_labels = text.copy(), labels.copy()"
   ]
  },
  {
   "cell_type": "code",
   "execution_count": 17,
   "metadata": {
    "tags": []
   },
   "outputs": [
    {
     "data": {
      "text/html": [
       "<pre style=\"white-space:pre;overflow-x:auto;line-height:normal;font-family:Menlo,'DejaVu Sans Mono',consolas,'Courier New',monospace\">This dataset has <span style=\"color: #008080; text-decoration-color: #008080; font-weight: bold\">9</span> classes.\n",
       "</pre>\n"
      ],
      "text/plain": [
       "This dataset has \u001b[1;36m9\u001b[0m classes.\n"
      ]
     },
     "metadata": {},
     "output_type": "display_data"
    },
    {
     "data": {
      "text/html": [
       "<pre style=\"white-space:pre;overflow-x:auto;line-height:normal;font-family:Menlo,'DejaVu Sans Mono',consolas,'Courier New',monospace\">Classes:\n",
       "<span style=\"font-weight: bold\">{</span><span style=\"color: #008000; text-decoration-color: #008000\">'سوق العمل'</span>, <span style=\"color: #008000; text-decoration-color: #008000\">'المتطلبات و المهام و الدرجات'</span>, <span style=\"color: #008000; text-decoration-color: #008000\">'دكتور المقرر'</span>, <span style=\"color: #008000; text-decoration-color: #008000\">'محتوى ومعلومات المقرر'</span>, <span style=\"color: #008000; text-decoration-color: #008000\">'غير محدد'</span>, <span style=\"color: #008000; text-decoration-color: #008000\">'الجانب البحثي و</span>\n",
       "<span style=\"color: #008000; text-decoration-color: #008000\">الأوراق البحثية'</span>, <span style=\"color: #008000; text-decoration-color: #008000\">'طريقة تدريس و تقديم المادة'</span>, <span style=\"color: #008000; text-decoration-color: #008000\">'الوقت و الجدول'</span>, <span style=\"color: #008000; text-decoration-color: #008000\">'موازنة الجزء العملي مع الجزء النظري'</span><span style=\"font-weight: bold\">}</span>\n",
       "</pre>\n"
      ],
      "text/plain": [
       "Classes:\n",
       "\u001b[1m{\u001b[0m\u001b[32m'سوق العمل'\u001b[0m, \u001b[32m'المتطلبات و المهام و الدرجات'\u001b[0m, \u001b[32m'دكتور المقرر'\u001b[0m, \u001b[32m'محتوى ومعلومات المقرر'\u001b[0m, \u001b[32m'غير محدد'\u001b[0m, \u001b[32m'الجانب البحثي و\u001b[0m\n",
       "\u001b[32mالأوراق البحثية'\u001b[0m, \u001b[32m'طريقة تدريس و تقديم المادة'\u001b[0m, \u001b[32m'الوقت و الجدول'\u001b[0m, \u001b[32m'موازنة الجزء العملي مع الجزء النظري'\u001b[0m\u001b[1m}\u001b[0m\n"
      ]
     },
     "metadata": {},
     "output_type": "display_data"
    }
   ],
   "source": [
    "num_classes = len(set(raw_train_labels))\n",
    "\n",
    "print(f\"This dataset has {num_classes} classes.\")\n",
    "print(f\"Classes:\\n{set(raw_train_labels)}\")"
   ]
  },
  {
   "cell_type": "code",
   "execution_count": 18,
   "metadata": {
    "tags": []
   },
   "outputs": [],
   "source": [
    "label_encoder = LabelEncoder()\n",
    "label_encoder.fit(raw_train_labels)\n",
    "\n",
    "train_labels = label_encoder.transform(raw_train_labels)\n",
    "# test_labels = label_encoder.transform(raw_test_labels)"
   ]
  },
  {
   "cell_type": "code",
   "execution_count": 19,
   "metadata": {
    "tags": []
   },
   "outputs": [
    {
     "data": {
      "text/plain": [
       "array([8, 5])"
      ]
     },
     "execution_count": 19,
     "metadata": {},
     "output_type": "execute_result"
    }
   ],
   "source": [
    "train_labels[:2]"
   ]
  },
  {
   "cell_type": "code",
   "execution_count": 20,
   "metadata": {
    "tags": []
   },
   "outputs": [
    {
     "data": {
      "application/vnd.jupyter.widget-view+json": {
       "model_id": "05a1f49bddff48369685a4dbeabafdc4",
       "version_major": 2,
       "version_minor": 0
      },
      "text/plain": [
       "modules.json:   0%|          | 0.00/349 [00:00<?, ?B/s]"
      ]
     },
     "metadata": {},
     "output_type": "display_data"
    },
    {
     "data": {
      "application/vnd.jupyter.widget-view+json": {
       "model_id": "fed8440680854c8e81c8f0b832393de6",
       "version_major": 2,
       "version_minor": 0
      },
      "text/plain": [
       "config_sentence_transformers.json:   0%|          | 0.00/122 [00:00<?, ?B/s]"
      ]
     },
     "metadata": {},
     "output_type": "display_data"
    },
    {
     "data": {
      "application/vnd.jupyter.widget-view+json": {
       "model_id": "81597297646e4788bf19d8e52270cdca",
       "version_major": 2,
       "version_minor": 0
      },
      "text/plain": [
       "README.md:   0%|          | 0.00/1.89k [00:00<?, ?B/s]"
      ]
     },
     "metadata": {},
     "output_type": "display_data"
    },
    {
     "data": {
      "application/vnd.jupyter.widget-view+json": {
       "model_id": "68331da28e684b70b43601c38aaa2606",
       "version_major": 2,
       "version_minor": 0
      },
      "text/plain": [
       "sentence_bert_config.json:   0%|          | 0.00/53.0 [00:00<?, ?B/s]"
      ]
     },
     "metadata": {},
     "output_type": "display_data"
    },
    {
     "data": {
      "application/vnd.jupyter.widget-view+json": {
       "model_id": "72833b4eb4a74b889299242bde3e6bfd",
       "version_major": 2,
       "version_minor": 0
      },
      "text/plain": [
       "config.json:   0%|          | 0.00/804 [00:00<?, ?B/s]"
      ]
     },
     "metadata": {},
     "output_type": "display_data"
    },
    {
     "data": {
      "application/vnd.jupyter.widget-view+json": {
       "model_id": "a52a7c800c004d6791b007c9843e7dfe",
       "version_major": 2,
       "version_minor": 0
      },
      "text/plain": [
       "model.safetensors:   0%|          | 0.00/1.89G [00:00<?, ?B/s]"
      ]
     },
     "metadata": {},
     "output_type": "display_data"
    },
    {
     "name": "stderr",
     "output_type": "stream",
     "text": [
      "Some weights of the model checkpoint at sentence-transformers/use-cmlm-multilingual were not used when initializing BertModel: ['cls.predictions.transform.LayerNorm.weight', 'cls.predictions.transform.dense.weight', 'cls.predictions.transform.LayerNorm.bias', 'cls.predictions.transform.dense.bias', 'cls.seq_relationship.weight', 'cls.seq_relationship.bias', 'cls.predictions.bias']\n",
      "- This IS expected if you are initializing BertModel from the checkpoint of a model trained on another task or with another architecture (e.g. initializing a BertForSequenceClassification model from a BertForPreTraining model).\n",
      "- This IS NOT expected if you are initializing BertModel from the checkpoint of a model that you expect to be exactly identical (initializing a BertForSequenceClassification model from a BertForSequenceClassification model).\n"
     ]
    },
    {
     "data": {
      "application/vnd.jupyter.widget-view+json": {
       "model_id": "31871a99debe48d58a2dc676d5280de6",
       "version_major": 2,
       "version_minor": 0
      },
      "text/plain": [
       "tokenizer_config.json:   0%|          | 0.00/411 [00:00<?, ?B/s]"
      ]
     },
     "metadata": {},
     "output_type": "display_data"
    },
    {
     "data": {
      "application/vnd.jupyter.widget-view+json": {
       "model_id": "e6c68b36ffb944aa82be65a7259cd004",
       "version_major": 2,
       "version_minor": 0
      },
      "text/plain": [
       "vocab.txt:   0%|          | 0.00/5.22M [00:00<?, ?B/s]"
      ]
     },
     "metadata": {},
     "output_type": "display_data"
    },
    {
     "data": {
      "application/vnd.jupyter.widget-view+json": {
       "model_id": "ece6e5f908474de8a8dbc128c3cc4d72",
       "version_major": 2,
       "version_minor": 0
      },
      "text/plain": [
       "tokenizer.json:   0%|          | 0.00/9.62M [00:00<?, ?B/s]"
      ]
     },
     "metadata": {},
     "output_type": "display_data"
    },
    {
     "data": {
      "application/vnd.jupyter.widget-view+json": {
       "model_id": "74356b3fd1d042c28820643e677ac1b3",
       "version_major": 2,
       "version_minor": 0
      },
      "text/plain": [
       "special_tokens_map.json:   0%|          | 0.00/112 [00:00<?, ?B/s]"
      ]
     },
     "metadata": {},
     "output_type": "display_data"
    },
    {
     "data": {
      "application/vnd.jupyter.widget-view+json": {
       "model_id": "d266aae6619a464fac977638789be540",
       "version_major": 2,
       "version_minor": 0
      },
      "text/plain": [
       "1_Pooling/config.json:   0%|          | 0.00/191 [00:00<?, ?B/s]"
      ]
     },
     "metadata": {},
     "output_type": "display_data"
    }
   ],
   "source": [
    "model_path = 'sentence-transformers/use-cmlm-multilingual'\n",
    "embedding_model = SentenceTransformer(model_path)"
   ]
  },
  {
   "cell_type": "code",
   "execution_count": 21,
   "metadata": {
    "tags": []
   },
   "outputs": [
    {
     "data": {
      "application/vnd.jupyter.widget-view+json": {
       "model_id": "c07e6dc8b07e454081aaf38abdd51576",
       "version_major": 2,
       "version_minor": 0
      },
      "text/plain": [
       "Batches:   0%|          | 0/30 [00:00<?, ?it/s]"
      ]
     },
     "metadata": {},
     "output_type": "display_data"
    }
   ],
   "source": [
    "train_texts = embedding_model.encode(raw_train_texts, show_progress_bar=True)\n",
    "# test_texts = embedding_model.encode(raw_test_texts)"
   ]
  },
  {
   "cell_type": "code",
   "execution_count": 22,
   "metadata": {
    "tags": []
   },
   "outputs": [],
   "source": [
    "class_weights = compute_class_weight(class_weight='balanced', classes=np.unique(train_labels), y=train_labels)"
   ]
  },
  {
   "cell_type": "code",
   "execution_count": 23,
   "metadata": {
    "tags": []
   },
   "outputs": [
    {
     "data": {
      "text/plain": [
       "numpy.ndarray"
      ]
     },
     "execution_count": 23,
     "metadata": {},
     "output_type": "execute_result"
    }
   ],
   "source": [
    "type(class_weights)"
   ]
  },
  {
   "cell_type": "code",
   "execution_count": 24,
   "metadata": {
    "tags": []
   },
   "outputs": [],
   "source": [
    "class_weights_dict = {i: w for i, w in enumerate(class_weights)}"
   ]
  },
  {
   "cell_type": "code",
   "execution_count": 25,
   "metadata": {
    "tags": []
   },
   "outputs": [
    {
     "data": {
      "text/html": [
       "<pre style=\"white-space:pre;overflow-x:auto;line-height:normal;font-family:Menlo,'DejaVu Sans Mono',consolas,'Courier New',monospace\"><span style=\"font-weight: bold\">{</span>\n",
       "    <span style=\"color: #008080; text-decoration-color: #008080; font-weight: bold\">0</span>: <span style=\"color: #008080; text-decoration-color: #008080; font-weight: bold\">3.019047619047619</span>,\n",
       "    <span style=\"color: #008080; text-decoration-color: #008080; font-weight: bold\">1</span>: <span style=\"color: #008080; text-decoration-color: #008080; font-weight: bold\">1.427927927927928</span>,\n",
       "    <span style=\"color: #008080; text-decoration-color: #008080; font-weight: bold\">2</span>: <span style=\"color: #008080; text-decoration-color: #008080; font-weight: bold\">2.7094017094017095</span>,\n",
       "    <span style=\"color: #008080; text-decoration-color: #008080; font-weight: bold\">3</span>: <span style=\"color: #008080; text-decoration-color: #008080; font-weight: bold\">0.6003787878787878</span>,\n",
       "    <span style=\"color: #008080; text-decoration-color: #008080; font-weight: bold\">4</span>: <span style=\"color: #008080; text-decoration-color: #008080; font-weight: bold\">3.4086021505376345</span>,\n",
       "    <span style=\"color: #008080; text-decoration-color: #008080; font-weight: bold\">5</span>: <span style=\"color: #008080; text-decoration-color: #008080; font-weight: bold\">1.447488584474886</span>,\n",
       "    <span style=\"color: #008080; text-decoration-color: #008080; font-weight: bold\">6</span>: <span style=\"color: #008080; text-decoration-color: #008080; font-weight: bold\">0.806615776081425</span>,\n",
       "    <span style=\"color: #008080; text-decoration-color: #008080; font-weight: bold\">7</span>: <span style=\"color: #008080; text-decoration-color: #008080; font-weight: bold\">0.46755162241887904</span>,\n",
       "    <span style=\"color: #008080; text-decoration-color: #008080; font-weight: bold\">8</span>: <span style=\"color: #008080; text-decoration-color: #008080; font-weight: bold\">0.6365461847389559</span>\n",
       "<span style=\"font-weight: bold\">}</span>\n",
       "</pre>\n"
      ],
      "text/plain": [
       "\u001b[1m{\u001b[0m\n",
       "    \u001b[1;36m0\u001b[0m: \u001b[1;36m3.019047619047619\u001b[0m,\n",
       "    \u001b[1;36m1\u001b[0m: \u001b[1;36m1.427927927927928\u001b[0m,\n",
       "    \u001b[1;36m2\u001b[0m: \u001b[1;36m2.7094017094017095\u001b[0m,\n",
       "    \u001b[1;36m3\u001b[0m: \u001b[1;36m0.6003787878787878\u001b[0m,\n",
       "    \u001b[1;36m4\u001b[0m: \u001b[1;36m3.4086021505376345\u001b[0m,\n",
       "    \u001b[1;36m5\u001b[0m: \u001b[1;36m1.447488584474886\u001b[0m,\n",
       "    \u001b[1;36m6\u001b[0m: \u001b[1;36m0.806615776081425\u001b[0m,\n",
       "    \u001b[1;36m7\u001b[0m: \u001b[1;36m0.46755162241887904\u001b[0m,\n",
       "    \u001b[1;36m8\u001b[0m: \u001b[1;36m0.6365461847389559\u001b[0m\n",
       "\u001b[1m}\u001b[0m\n"
      ]
     },
     "metadata": {},
     "output_type": "display_data"
    }
   ],
   "source": [
    "print(class_weights_dict)"
   ]
  },
  {
   "cell_type": "code",
   "execution_count": 26,
   "metadata": {
    "tags": []
   },
   "outputs": [
    {
     "data": {
      "text/html": [
       "<pre style=\"white-space:pre;overflow-x:auto;line-height:normal;font-family:Menlo,'DejaVu Sans Mono',consolas,'Courier New',monospace\"><span style=\"font-weight: bold\">[</span><span style=\"color: #008000; text-decoration-color: #008000\">'الجانب البحثي و الأوراق البحثية'</span> <span style=\"color: #008000; text-decoration-color: #008000\">'المتطلبات و المهام و الدرجات'</span>\n",
       " <span style=\"color: #008000; text-decoration-color: #008000\">'الوقت و الجدول'</span> <span style=\"color: #008000; text-decoration-color: #008000\">'دكتور المقرر'</span> <span style=\"color: #008000; text-decoration-color: #008000\">'سوق العمل'</span> <span style=\"color: #008000; text-decoration-color: #008000\">'طريقة تدريس و تقديم المادة'</span>\n",
       " <span style=\"color: #008000; text-decoration-color: #008000\">'غير محدد'</span> <span style=\"color: #008000; text-decoration-color: #008000\">'محتوى ومعلومات المقرر'</span> <span style=\"color: #008000; text-decoration-color: #008000\">'موازنة الجزء العملي مع الجزء النظري'</span><span style=\"font-weight: bold\">]</span>\n",
       "</pre>\n"
      ],
      "text/plain": [
       "\u001b[1m[\u001b[0m\u001b[32m'الجانب البحثي و الأوراق البحثية'\u001b[0m \u001b[32m'المتطلبات و المهام و الدرجات'\u001b[0m\n",
       " \u001b[32m'الوقت و الجدول'\u001b[0m \u001b[32m'دكتور المقرر'\u001b[0m \u001b[32m'سوق العمل'\u001b[0m \u001b[32m'طريقة تدريس و تقديم المادة'\u001b[0m\n",
       " \u001b[32m'غير محدد'\u001b[0m \u001b[32m'محتوى ومعلومات المقرر'\u001b[0m \u001b[32m'موازنة الجزء العملي مع الجزء النظري'\u001b[0m\u001b[1m]\u001b[0m\n"
      ]
     },
     "metadata": {},
     "output_type": "display_data"
    }
   ],
   "source": [
    "print(label_encoder.inverse_transform(list(range(9))))"
   ]
  },
  {
   "cell_type": "code",
   "execution_count": 27,
   "metadata": {
    "tags": []
   },
   "outputs": [],
   "source": [
    "epochs = 500\n",
    "model = LogisticRegression(max_iter=epochs, class_weight=class_weights_dict)"
   ]
  },
  {
   "cell_type": "code",
   "execution_count": 28,
   "metadata": {
    "tags": []
   },
   "outputs": [],
   "source": [
    "cv_n_folds = 5 \n",
    "random_state = 42\n",
    "cl = CleanLearning(model, cv_n_folds=cv_n_folds, verbose=True, seed=random_state)"
   ]
  },
  {
   "cell_type": "code",
   "execution_count": 29,
   "metadata": {
    "tags": []
   },
   "outputs": [
    {
     "name": "stderr",
     "output_type": "stream",
     "text": [
      "2024-08-05 04:06:50.601365: E external/local_xla/xla/stream_executor/cuda/cuda_dnn.cc:9261] Unable to register cuDNN factory: Attempting to register factory for plugin cuDNN when one has already been registered\n",
      "2024-08-05 04:06:50.601444: E external/local_xla/xla/stream_executor/cuda/cuda_fft.cc:607] Unable to register cuFFT factory: Attempting to register factory for plugin cuFFT when one has already been registered\n",
      "2024-08-05 04:06:50.602874: E external/local_xla/xla/stream_executor/cuda/cuda_blas.cc:1515] Unable to register cuBLAS factory: Attempting to register factory for plugin cuBLAS when one has already been registered\n",
      "2024-08-05 04:06:50.611805: I tensorflow/core/platform/cpu_feature_guard.cc:182] This TensorFlow binary is optimized to use available CPU instructions in performance-critical operations.\n",
      "To enable the following instructions: AVX2 FMA, in other operations, rebuild TensorFlow with the appropriate compiler flags.\n",
      "2024-08-05 04:06:52.005756: W tensorflow/compiler/tf2tensorrt/utils/py_utils.cc:38] TF-TRT Warning: Could not find TensorRT\n"
     ]
    },
    {
     "name": "stdout",
     "output_type": "stream",
     "text": [
      "Computing out of sample predicted probabilities via 5-fold cross validation. May take a while ...\n",
      "Using predicted probabilities to identify label issues ...\n"
     ]
    },
    {
     "name": "stderr",
     "output_type": "stream",
     "text": [
      "huggingface/tokenizers: The current process just got forked, after parallelism has already been used. Disabling parallelism to avoid deadlocks...\n",
      "To disable this warning, you can either:\n",
      "\t- Avoid using `tokenizers` before the fork if possible\n",
      "\t- Explicitly set the environment variable TOKENIZERS_PARALLELISM=(true | false)\n",
      "huggingface/tokenizers: The current process just got forked, after parallelism has already been used. Disabling parallelism to avoid deadlocks...\n",
      "To disable this warning, you can either:\n",
      "\t- Avoid using `tokenizers` before the fork if possible\n",
      "\t- Explicitly set the environment variable TOKENIZERS_PARALLELISM=(true | false)\n",
      "huggingface/tokenizers: The current process just got forked, after parallelism has already been used. Disabling parallelism to avoid deadlocks...\n",
      "To disable this warning, you can either:\n",
      "\t- Avoid using `tokenizers` before the fork if possible\n",
      "\t- Explicitly set the environment variable TOKENIZERS_PARALLELISM=(true | false)\n",
      "huggingface/tokenizers: The current process just got forked, after parallelism has already been used. Disabling parallelism to avoid deadlocks...\n",
      "To disable this warning, you can either:\n",
      "\t- Avoid using `tokenizers` before the fork if possible\n",
      "\t- Explicitly set the environment variable TOKENIZERS_PARALLELISM=(true | false)\n",
      "huggingface/tokenizers: The current process just got forked, after parallelism has already been used. Disabling parallelism to avoid deadlocks...\n",
      "To disable this warning, you can either:\n",
      "\t- Avoid using `tokenizers` before the fork if possible\n",
      "\t- Explicitly set the environment variable TOKENIZERS_PARALLELISM=(true | false)\n",
      "huggingface/tokenizers: The current process just got forked, after parallelism has already been used. Disabling parallelism to avoid deadlocks...\n",
      "To disable this warning, you can either:\n",
      "\t- Avoid using `tokenizers` before the fork if possible\n",
      "\t- Explicitly set the environment variable TOKENIZERS_PARALLELISM=(true | false)\n",
      "huggingface/tokenizers: The current process just got forked, after parallelism has already been used. Disabling parallelism to avoid deadlocks...\n",
      "To disable this warning, you can either:\n",
      "\t- Avoid using `tokenizers` before the fork if possible\n",
      "\t- Explicitly set the environment variable TOKENIZERS_PARALLELISM=(true | false)\n",
      "huggingface/tokenizers: The current process just got forked, after parallelism has already been used. Disabling parallelism to avoid deadlocks...\n",
      "To disable this warning, you can either:\n",
      "\t- Avoid using `tokenizers` before the fork if possible\n",
      "\t- Explicitly set the environment variable TOKENIZERS_PARALLELISM=(true | false)\n"
     ]
    },
    {
     "name": "stdout",
     "output_type": "stream",
     "text": [
      "Identified 93 examples with label issues.\n"
     ]
    }
   ],
   "source": [
    "label_issues = cl.find_label_issues(X=train_texts, labels=train_labels)"
   ]
  },
  {
   "cell_type": "code",
   "execution_count": 30,
   "metadata": {
    "tags": []
   },
   "outputs": [
    {
     "data": {
      "text/plain": [
       "93"
      ]
     },
     "execution_count": 30,
     "metadata": {},
     "output_type": "execute_result"
    }
   ],
   "source": [
    "len(label_issues[label_issues['is_label_issue']==True])"
   ]
  },
  {
   "cell_type": "code",
   "execution_count": 31,
   "metadata": {
    "tags": []
   },
   "outputs": [
    {
     "data": {
      "text/plain": [
       "951"
      ]
     },
     "execution_count": 31,
     "metadata": {},
     "output_type": "execute_result"
    }
   ],
   "source": [
    "len(label_issues)"
   ]
  },
  {
   "cell_type": "code",
   "execution_count": 32,
   "metadata": {
    "tags": []
   },
   "outputs": [
    {
     "data": {
      "text/html": [
       "<div>\n",
       "<style scoped>\n",
       "    .dataframe tbody tr th:only-of-type {\n",
       "        vertical-align: middle;\n",
       "    }\n",
       "\n",
       "    .dataframe tbody tr th {\n",
       "        vertical-align: top;\n",
       "    }\n",
       "\n",
       "    .dataframe thead th {\n",
       "        text-align: right;\n",
       "    }\n",
       "</style>\n",
       "<table border=\"1\" class=\"dataframe\">\n",
       "  <thead>\n",
       "    <tr style=\"text-align: right;\">\n",
       "      <th></th>\n",
       "      <th>is_label_issue</th>\n",
       "      <th>label_quality</th>\n",
       "      <th>given_label</th>\n",
       "      <th>predicted_label</th>\n",
       "    </tr>\n",
       "  </thead>\n",
       "  <tbody>\n",
       "    <tr>\n",
       "      <th>0</th>\n",
       "      <td>False</td>\n",
       "      <td>0.468037</td>\n",
       "      <td>8</td>\n",
       "      <td>8</td>\n",
       "    </tr>\n",
       "    <tr>\n",
       "      <th>1</th>\n",
       "      <td>False</td>\n",
       "      <td>0.224766</td>\n",
       "      <td>5</td>\n",
       "      <td>8</td>\n",
       "    </tr>\n",
       "    <tr>\n",
       "      <th>2</th>\n",
       "      <td>False</td>\n",
       "      <td>0.541209</td>\n",
       "      <td>7</td>\n",
       "      <td>7</td>\n",
       "    </tr>\n",
       "    <tr>\n",
       "      <th>3</th>\n",
       "      <td>False</td>\n",
       "      <td>0.160496</td>\n",
       "      <td>7</td>\n",
       "      <td>6</td>\n",
       "    </tr>\n",
       "    <tr>\n",
       "      <th>4</th>\n",
       "      <td>False</td>\n",
       "      <td>0.212089</td>\n",
       "      <td>8</td>\n",
       "      <td>2</td>\n",
       "    </tr>\n",
       "  </tbody>\n",
       "</table>\n",
       "</div>"
      ],
      "text/plain": [
       "   is_label_issue  label_quality  given_label  predicted_label\n",
       "0           False       0.468037            8                8\n",
       "1           False       0.224766            5                8\n",
       "2           False       0.541209            7                7\n",
       "3           False       0.160496            7                6\n",
       "4           False       0.212089            8                2"
      ]
     },
     "execution_count": 32,
     "metadata": {},
     "output_type": "execute_result"
    }
   ],
   "source": [
    "label_issues.head()"
   ]
  },
  {
   "cell_type": "code",
   "execution_count": 33,
   "metadata": {
    "tags": []
   },
   "outputs": [],
   "source": [
    "label_issues['text'] = text"
   ]
  },
  {
   "cell_type": "code",
   "execution_count": 34,
   "metadata": {
    "tags": []
   },
   "outputs": [],
   "source": [
    "# label_issues = label_issues[label_issues[\"is_label_issue\"] == True]\n",
    "# label_issues.sort_values(by='label_quality', ascending=True, inplace=True)"
   ]
  },
  {
   "cell_type": "code",
   "execution_count": 35,
   "metadata": {
    "tags": []
   },
   "outputs": [],
   "source": [
    "label_issues['given_label_str'] = label_encoder.inverse_transform(label_issues['given_label'].values)\n",
    "label_issues['predicted_label_str'] = label_encoder.inverse_transform(label_issues['predicted_label'].values)"
   ]
  },
  {
   "cell_type": "code",
   "execution_count": 36,
   "metadata": {
    "tags": []
   },
   "outputs": [
    {
     "data": {
      "text/html": [
       "<div>\n",
       "<style scoped>\n",
       "    .dataframe tbody tr th:only-of-type {\n",
       "        vertical-align: middle;\n",
       "    }\n",
       "\n",
       "    .dataframe tbody tr th {\n",
       "        vertical-align: top;\n",
       "    }\n",
       "\n",
       "    .dataframe thead th {\n",
       "        text-align: right;\n",
       "    }\n",
       "</style>\n",
       "<table border=\"1\" class=\"dataframe\">\n",
       "  <thead>\n",
       "    <tr style=\"text-align: right;\">\n",
       "      <th></th>\n",
       "      <th>is_label_issue</th>\n",
       "      <th>label_quality</th>\n",
       "      <th>given_label</th>\n",
       "      <th>predicted_label</th>\n",
       "      <th>text</th>\n",
       "      <th>given_label_str</th>\n",
       "      <th>predicted_label_str</th>\n",
       "    </tr>\n",
       "  </thead>\n",
       "  <tbody>\n",
       "    <tr>\n",
       "      <th>0</th>\n",
       "      <td>False</td>\n",
       "      <td>0.468037</td>\n",
       "      <td>8</td>\n",
       "      <td>8</td>\n",
       "      <td>أكثر ما أعجبني: التطبيق العملي المحدث والمشابه للعمل والقضايا الواقعية لتحليل الأدلة الجنائية التقنية</td>\n",
       "      <td>موازنة الجزء العملي مع الجزء النظري</td>\n",
       "      <td>موازنة الجزء العملي مع الجزء النظري</td>\n",
       "    </tr>\n",
       "    <tr>\n",
       "      <th>1</th>\n",
       "      <td>False</td>\n",
       "      <td>0.224766</td>\n",
       "      <td>5</td>\n",
       "      <td>8</td>\n",
       "      <td>اقتراحاتي للتحسين: التطبيق والبعد عن التدريس الأكاديمي</td>\n",
       "      <td>طريقة تدريس و تقديم المادة</td>\n",
       "      <td>موازنة الجزء العملي مع الجزء النظري</td>\n",
       "    </tr>\n",
       "    <tr>\n",
       "      <th>2</th>\n",
       "      <td>False</td>\n",
       "      <td>0.541209</td>\n",
       "      <td>7</td>\n",
       "      <td>7</td>\n",
       "      <td>أكثر ما أعجبني: the content</td>\n",
       "      <td>محتوى ومعلومات المقرر</td>\n",
       "      <td>محتوى ومعلومات المقرر</td>\n",
       "    </tr>\n",
       "    <tr>\n",
       "      <th>3</th>\n",
       "      <td>False</td>\n",
       "      <td>0.160496</td>\n",
       "      <td>7</td>\n",
       "      <td>6</td>\n",
       "      <td>اقتراحاتي للتحسين: provide more new books</td>\n",
       "      <td>محتوى ومعلومات المقرر</td>\n",
       "      <td>غير محدد</td>\n",
       "    </tr>\n",
       "    <tr>\n",
       "      <th>4</th>\n",
       "      <td>False</td>\n",
       "      <td>0.212089</td>\n",
       "      <td>8</td>\n",
       "      <td>2</td>\n",
       "      <td>اقتراحاتي للتحسين: زيادة ساعات العملي</td>\n",
       "      <td>موازنة الجزء العملي مع الجزء النظري</td>\n",
       "      <td>الوقت و الجدول</td>\n",
       "    </tr>\n",
       "    <tr>\n",
       "      <th>...</th>\n",
       "      <td>...</td>\n",
       "      <td>...</td>\n",
       "      <td>...</td>\n",
       "      <td>...</td>\n",
       "      <td>...</td>\n",
       "      <td>...</td>\n",
       "      <td>...</td>\n",
       "    </tr>\n",
       "    <tr>\n",
       "      <th>946</th>\n",
       "      <td>False</td>\n",
       "      <td>0.396413</td>\n",
       "      <td>6</td>\n",
       "      <td>6</td>\n",
       "      <td>اقتراحاتي للتحسين: الشكر الجزيل لكل من ساهم في إنجاح هذ البرنامج</td>\n",
       "      <td>غير محدد</td>\n",
       "      <td>غير محدد</td>\n",
       "    </tr>\n",
       "    <tr>\n",
       "      <th>947</th>\n",
       "      <td>False</td>\n",
       "      <td>0.620421</td>\n",
       "      <td>2</td>\n",
       "      <td>2</td>\n",
       "      <td>اقتراحاتي للتحسين: تحسين وقت المحاضرات</td>\n",
       "      <td>الوقت و الجدول</td>\n",
       "      <td>الوقت و الجدول</td>\n",
       "    </tr>\n",
       "    <tr>\n",
       "      <th>948</th>\n",
       "      <td>False</td>\n",
       "      <td>0.829286</td>\n",
       "      <td>6</td>\n",
       "      <td>6</td>\n",
       "      <td>اقتراحاتي للإضافة: nothing i can think of</td>\n",
       "      <td>غير محدد</td>\n",
       "      <td>غير محدد</td>\n",
       "    </tr>\n",
       "    <tr>\n",
       "      <th>949</th>\n",
       "      <td>False</td>\n",
       "      <td>0.603333</td>\n",
       "      <td>1</td>\n",
       "      <td>1</td>\n",
       "      <td>أكثر ما لم يعجبني: أسئلة الواجب ليس واضح</td>\n",
       "      <td>المتطلبات و المهام و الدرجات</td>\n",
       "      <td>المتطلبات و المهام و الدرجات</td>\n",
       "    </tr>\n",
       "    <tr>\n",
       "      <th>950</th>\n",
       "      <td>False</td>\n",
       "      <td>0.293233</td>\n",
       "      <td>1</td>\n",
       "      <td>2</td>\n",
       "      <td>أكثر ما لم يعجبني: الاعتماد على مشروع واحد خلال الفصل كامل</td>\n",
       "      <td>المتطلبات و المهام و الدرجات</td>\n",
       "      <td>الوقت و الجدول</td>\n",
       "    </tr>\n",
       "  </tbody>\n",
       "</table>\n",
       "<p>951 rows × 7 columns</p>\n",
       "</div>"
      ],
      "text/plain": [
       "     is_label_issue  label_quality  given_label  predicted_label  \\\n",
       "0             False       0.468037            8                8   \n",
       "1             False       0.224766            5                8   \n",
       "2             False       0.541209            7                7   \n",
       "3             False       0.160496            7                6   \n",
       "4             False       0.212089            8                2   \n",
       "..              ...            ...          ...              ...   \n",
       "946           False       0.396413            6                6   \n",
       "947           False       0.620421            2                2   \n",
       "948           False       0.829286            6                6   \n",
       "949           False       0.603333            1                1   \n",
       "950           False       0.293233            1                2   \n",
       "\n",
       "                                                                                                      text  \\\n",
       "0    أكثر ما أعجبني: التطبيق العملي المحدث والمشابه للعمل والقضايا الواقعية لتحليل الأدلة الجنائية التقنية   \n",
       "1                                                   اقتراحاتي للتحسين: التطبيق والبعد عن التدريس الأكاديمي   \n",
       "2                                                                              أكثر ما أعجبني: the content   \n",
       "3                                                                اقتراحاتي للتحسين: provide more new books   \n",
       "4                                                                    اقتراحاتي للتحسين: زيادة ساعات العملي   \n",
       "..                                                                                                     ...   \n",
       "946                                       اقتراحاتي للتحسين: الشكر الجزيل لكل من ساهم في إنجاح هذ البرنامج   \n",
       "947                                                                 اقتراحاتي للتحسين: تحسين وقت المحاضرات   \n",
       "948                                                              اقتراحاتي للإضافة: nothing i can think of   \n",
       "949                                                               أكثر ما لم يعجبني: أسئلة الواجب ليس واضح   \n",
       "950                                             أكثر ما لم يعجبني: الاعتماد على مشروع واحد خلال الفصل كامل   \n",
       "\n",
       "                         given_label_str                  predicted_label_str  \n",
       "0    موازنة الجزء العملي مع الجزء النظري  موازنة الجزء العملي مع الجزء النظري  \n",
       "1             طريقة تدريس و تقديم المادة  موازنة الجزء العملي مع الجزء النظري  \n",
       "2                  محتوى ومعلومات المقرر                محتوى ومعلومات المقرر  \n",
       "3                  محتوى ومعلومات المقرر                             غير محدد  \n",
       "4    موازنة الجزء العملي مع الجزء النظري                       الوقت و الجدول  \n",
       "..                                   ...                                  ...  \n",
       "946                             غير محدد                             غير محدد  \n",
       "947                       الوقت و الجدول                       الوقت و الجدول  \n",
       "948                             غير محدد                             غير محدد  \n",
       "949         المتطلبات و المهام و الدرجات         المتطلبات و المهام و الدرجات  \n",
       "950         المتطلبات و المهام و الدرجات                       الوقت و الجدول  \n",
       "\n",
       "[951 rows x 7 columns]"
      ]
     },
     "execution_count": 36,
     "metadata": {},
     "output_type": "execute_result"
    }
   ],
   "source": [
    "label_issues"
   ]
  },
  {
   "cell_type": "code",
   "execution_count": 37,
   "metadata": {
    "tags": []
   },
   "outputs": [
    {
     "data": {
      "text/plain": [
       "93"
      ]
     },
     "execution_count": 37,
     "metadata": {},
     "output_type": "execute_result"
    }
   ],
   "source": [
    "len(label_issues[label_issues['is_label_issue']==True])"
   ]
  },
  {
   "cell_type": "code",
   "execution_count": null,
   "metadata": {
    "tags": []
   },
   "outputs": [],
   "source": []
  },
  {
   "cell_type": "code",
   "execution_count": 39,
   "metadata": {
    "tags": []
   },
   "outputs": [
    {
     "data": {
      "text/plain": [
       "'../../data/result/train_with_topic_df_majority_vote_gpt4o_preferred.csv'"
      ]
     },
     "execution_count": 39,
     "metadata": {},
     "output_type": "execute_result"
    }
   ],
   "source": [
    "data_path"
   ]
  },
  {
   "cell_type": "code",
   "execution_count": 40,
   "metadata": {
    "tags": []
   },
   "outputs": [],
   "source": [
    "save_path = '../../data/result/label_issues_topics_majority_vote_first_iteration_logistic_regression.csv'\n",
    "if os.path.exists(save_path):\n",
    "    print('Path already exists!')\n",
    "\n",
    "else:\n",
    "    label_issues.to_csv(save_path, index=False)"
   ]
  },
  {
   "cell_type": "code",
   "execution_count": 42,
   "metadata": {
    "tags": []
   },
   "outputs": [],
   "source": [
    "# topics_save_path = '../../data/result/train_with_topic_df_majority_vote_gpt4o_preferred_after_first_iteration.csv'\n",
    "\n",
    "# data.to_csv(topics_save_path, index=False)"
   ]
  },
  {
   "cell_type": "code",
   "execution_count": null,
   "metadata": {},
   "outputs": [],
   "source": []
  }
 ],
 "metadata": {
  "kernelspec": {
   "display_name": "Python 3 (ipykernel)",
   "language": "python",
   "name": "python3"
  },
  "language_info": {
   "codemirror_mode": {
    "name": "ipython",
    "version": 3
   },
   "file_extension": ".py",
   "mimetype": "text/x-python",
   "name": "python",
   "nbconvert_exporter": "python",
   "pygments_lexer": "ipython3",
   "version": "3.11.7"
  }
 },
 "nbformat": 4,
 "nbformat_minor": 4
}
