{
 "cells": [
  {
   "cell_type": "markdown",
   "id": "aacbd3e2-1579-43d8-bf15-71826279abe6",
   "metadata": {},
   "source": [
    "### In this notebook, we annotated topics data using majority vote, with preferring gpt4o labels"
   ]
  },
  {
   "cell_type": "code",
   "execution_count": 1,
   "id": "cd7e6284-fed5-4bf3-a1eb-22d9c42fb8b9",
   "metadata": {
    "tags": []
   },
   "outputs": [],
   "source": [
    "import os\n",
    "import pandas as pd\n",
    "from typing import List, Dict\n",
    "from rich import print\n",
    "from collections import Counter"
   ]
  },
  {
   "cell_type": "code",
   "execution_count": 2,
   "id": "5ba93533-653f-4660-9b0a-5b1f1ce091a7",
   "metadata": {
    "tags": []
   },
   "outputs": [],
   "source": [
    "train_gpt4o = pd.read_csv('../../data/result/train_with_topic_df_llm_gpt4o.csv')\n",
    "test_gpt4o = pd.read_csv('../../data/result/test_with_topic_df_llm_gpt4o.csv')\n",
    "\n",
    "train_command = pd.read_csv('../../data/result/train_with_topic_df_llm_command_r_plus.csv')\n",
    "test_command = pd.read_csv('../../data/result/test_with_topic_df_llm_command_r_plus.csv')\n",
    "\n",
    "train_llama3 = pd.read_csv('../../data/result/train_with_topic_df_llm_llama_3.csv')\n",
    "test_llama3 = pd.read_csv('../../data/result/test_with_topic_df_llm_llama_3.csv')"
   ]
  },
  {
   "cell_type": "code",
   "execution_count": 3,
   "id": "b39d5f52-6591-44a9-a334-46db17af6dfc",
   "metadata": {
    "tags": []
   },
   "outputs": [],
   "source": [
    "def majority_vote(labels_dict: Dict, labels_list: List[str], break_tie: List):\n",
    "    \"\"\"\n",
    "    Determines the majority vote from multiple annotators' labels for a given example.\n",
    "\n",
    "    Parameters:\n",
    "    -----------\n",
    "    labels_dict : dict\n",
    "        A dictionary with annotator names as keys and their corresponding labels as values.\n",
    "    labels_list : list\n",
    "        A list containing all possible labels.\n",
    "    break_tie : str\n",
    "        The annotator whose label should be favored in case of a tie. If `break_tie` is not a key in `labels_dict`, its value will be preferred if it is in `labels_list`.\n",
    "\n",
    "    Returns:\n",
    "    --------\n",
    "    str\n",
    "        The label that represents the majority vote.\n",
    "    bool\n",
    "        If there is a tie or not.\n",
    "    \"\"\"\n",
    "    labels = list(labels_dict.values())\n",
    "    \n",
    "    tie = False\n",
    "    # break tie\n",
    "    if len(set(labels)) == len(labels):\n",
    "        label = labels_dict.get(break_tie, break_tie)\n",
    "        tie = True\n",
    "        if label not in labels_list:\n",
    "            raise ValueError(f\"The label '{label}' is not in the list of possible labels.\")\n",
    "    \n",
    "    else:\n",
    "        label = Counter(labels).most_common()[0][0]\n",
    "\n",
    "    return label, tie"
   ]
  },
  {
   "cell_type": "code",
   "execution_count": 4,
   "id": "aac362ec-4862-4a92-855e-e133eb20d2f3",
   "metadata": {
    "tags": []
   },
   "outputs": [
    {
     "data": {
      "text/html": [
       "<div>\n",
       "<style scoped>\n",
       "    .dataframe tbody tr th:only-of-type {\n",
       "        vertical-align: middle;\n",
       "    }\n",
       "\n",
       "    .dataframe tbody tr th {\n",
       "        vertical-align: top;\n",
       "    }\n",
       "\n",
       "    .dataframe thead th {\n",
       "        text-align: right;\n",
       "    }\n",
       "</style>\n",
       "<table border=\"1\" class=\"dataframe\">\n",
       "  <thead>\n",
       "    <tr style=\"text-align: right;\">\n",
       "      <th></th>\n",
       "      <th>column</th>\n",
       "      <th>text</th>\n",
       "      <th>topic_id</th>\n",
       "      <th>topic_name</th>\n",
       "      <th>topic_llm</th>\n",
       "    </tr>\n",
       "  </thead>\n",
       "  <tbody>\n",
       "    <tr>\n",
       "      <th>0</th>\n",
       "      <td>like</td>\n",
       "      <td>أكثر ما أعجبني: التطبيق العملي المحدث والمشابه...</td>\n",
       "      <td>3</td>\n",
       "      <td>موازنة الجزء العملي مع الجزء النظري</td>\n",
       "      <td>موازنة الجزء العملي مع الجزء النظري</td>\n",
       "    </tr>\n",
       "    <tr>\n",
       "      <th>1</th>\n",
       "      <td>improve_course</td>\n",
       "      <td>اقتراحاتي للتحسين: التطبيق والبعد عن التدريس ا...</td>\n",
       "      <td>3</td>\n",
       "      <td>موازنة الجزء العملي مع الجزء النظري</td>\n",
       "      <td>طريقة تدريس و تقديم المادة</td>\n",
       "    </tr>\n",
       "    <tr>\n",
       "      <th>2</th>\n",
       "      <td>like</td>\n",
       "      <td>أكثر ما أعجبني: the content</td>\n",
       "      <td>0</td>\n",
       "      <td>محتوى ومعلومات المقرر</td>\n",
       "      <td>محتوى ومعلومات المقرر</td>\n",
       "    </tr>\n",
       "    <tr>\n",
       "      <th>3</th>\n",
       "      <td>improve_course</td>\n",
       "      <td>اقتراحاتي للتحسين: provide more new books</td>\n",
       "      <td>3</td>\n",
       "      <td>موازنة الجزء العملي مع الجزء النظري</td>\n",
       "      <td>غير محدد</td>\n",
       "    </tr>\n",
       "    <tr>\n",
       "      <th>4</th>\n",
       "      <td>improve_course</td>\n",
       "      <td>اقتراحاتي للتحسين: زيادة ساعات العملي</td>\n",
       "      <td>8</td>\n",
       "      <td>الوقت و الجدول</td>\n",
       "      <td>موازنة الجزء العملي مع الجزء النظري</td>\n",
       "    </tr>\n",
       "  </tbody>\n",
       "</table>\n",
       "</div>"
      ],
      "text/plain": [
       "           column                                               text  \\\n",
       "0            like  أكثر ما أعجبني: التطبيق العملي المحدث والمشابه...   \n",
       "1  improve_course  اقتراحاتي للتحسين: التطبيق والبعد عن التدريس ا...   \n",
       "2            like                        أكثر ما أعجبني: the content   \n",
       "3  improve_course          اقتراحاتي للتحسين: provide more new books   \n",
       "4  improve_course              اقتراحاتي للتحسين: زيادة ساعات العملي   \n",
       "\n",
       "   topic_id                           topic_name  \\\n",
       "0         3  موازنة الجزء العملي مع الجزء النظري   \n",
       "1         3  موازنة الجزء العملي مع الجزء النظري   \n",
       "2         0                محتوى ومعلومات المقرر   \n",
       "3         3  موازنة الجزء العملي مع الجزء النظري   \n",
       "4         8                       الوقت و الجدول   \n",
       "\n",
       "                             topic_llm  \n",
       "0  موازنة الجزء العملي مع الجزء النظري  \n",
       "1           طريقة تدريس و تقديم المادة  \n",
       "2                محتوى ومعلومات المقرر  \n",
       "3                             غير محدد  \n",
       "4  موازنة الجزء العملي مع الجزء النظري  "
      ]
     },
     "execution_count": 4,
     "metadata": {},
     "output_type": "execute_result"
    }
   ],
   "source": [
    "train_command.head()"
   ]
  },
  {
   "cell_type": "code",
   "execution_count": 5,
   "id": "a042a700-b9e2-41c2-8891-35773d84df19",
   "metadata": {
    "tags": []
   },
   "outputs": [],
   "source": [
    "labels_list = list(train_gpt4o['topic_name'].apply(lambda x: \"غير محدد\" if x == 'None' else x).unique())"
   ]
  },
  {
   "cell_type": "code",
   "execution_count": 6,
   "id": "0889f1d0-f8c3-48ab-a5e8-8ae076f4c73c",
   "metadata": {
    "tags": []
   },
   "outputs": [
    {
     "data": {
      "text/html": [
       "<pre style=\"white-space:pre;overflow-x:auto;line-height:normal;font-family:Menlo,'DejaVu Sans Mono',consolas,'Courier New',monospace\"><span style=\"font-weight: bold\">[</span>\n",
       "    <span style=\"color: #008000; text-decoration-color: #008000\">'موازنة الجزء العملي مع الجزء النظري'</span>,\n",
       "    <span style=\"color: #008000; text-decoration-color: #008000\">'محتوى ومعلومات المقرر'</span>,\n",
       "    <span style=\"color: #008000; text-decoration-color: #008000\">'الوقت و الجدول'</span>,\n",
       "    <span style=\"color: #008000; text-decoration-color: #008000\">'دكتور المقرر'</span>,\n",
       "    <span style=\"color: #008000; text-decoration-color: #008000\">'طريقة تدريس و تقديم المادة'</span>,\n",
       "    <span style=\"color: #008000; text-decoration-color: #008000\">'غير محدد'</span>,\n",
       "    <span style=\"color: #008000; text-decoration-color: #008000\">'سوق العمل'</span>,\n",
       "    <span style=\"color: #008000; text-decoration-color: #008000\">'المتطلبات و المهام و الدرجات'</span>,\n",
       "    <span style=\"color: #008000; text-decoration-color: #008000\">'الجانب البحثي و الأوراق البحثية'</span>\n",
       "<span style=\"font-weight: bold\">]</span>\n",
       "</pre>\n"
      ],
      "text/plain": [
       "\u001b[1m[\u001b[0m\n",
       "    \u001b[32m'موازنة الجزء العملي مع الجزء النظري'\u001b[0m,\n",
       "    \u001b[32m'محتوى ومعلومات المقرر'\u001b[0m,\n",
       "    \u001b[32m'الوقت و الجدول'\u001b[0m,\n",
       "    \u001b[32m'دكتور المقرر'\u001b[0m,\n",
       "    \u001b[32m'طريقة تدريس و تقديم المادة'\u001b[0m,\n",
       "    \u001b[32m'غير محدد'\u001b[0m,\n",
       "    \u001b[32m'سوق العمل'\u001b[0m,\n",
       "    \u001b[32m'المتطلبات و المهام و الدرجات'\u001b[0m,\n",
       "    \u001b[32m'الجانب البحثي و الأوراق البحثية'\u001b[0m\n",
       "\u001b[1m]\u001b[0m\n"
      ]
     },
     "metadata": {},
     "output_type": "display_data"
    }
   ],
   "source": [
    "print(labels_list)"
   ]
  },
  {
   "cell_type": "code",
   "execution_count": 7,
   "id": "ea92a61b-71bb-4436-8b32-76639e8b2ba8",
   "metadata": {
    "tags": []
   },
   "outputs": [],
   "source": [
    "def get_label(label_cols: List[List[str]], break_tie: str, labels_list: List[str]):\n",
    "    labels = []\n",
    "    ties = []\n",
    "    for i, (gpt_label, llama_label, command_label) in enumerate(zip(*label_cols)):\n",
    "        labels_dict = {}\n",
    "        labels_dict['gpt'] = gpt_label\n",
    "        labels_dict['llama3'] = llama_label\n",
    "        labels_dict['command'] = command_label\n",
    "\n",
    "        label, tie = majority_vote(labels_dict, labels_list, break_tie=break_tie)\n",
    "\n",
    "        labels.append(label)\n",
    "        ties.append(tie)\n",
    "    \n",
    "    return labels, ties"
   ]
  },
  {
   "cell_type": "code",
   "execution_count": 8,
   "id": "5274719d-5660-49ff-8e3b-14351fce74d2",
   "metadata": {
    "tags": []
   },
   "outputs": [],
   "source": [
    "train_gpt_labels = train_gpt4o['topic_llm']\n",
    "train_llama_labels = train_llama3['topic_llm']\n",
    "train_command_labels = train_command['topic_llm']\n",
    "\n",
    "test_gpt_labels = test_gpt4o['topic_llm']\n",
    "test_llama_labels = test_llama3['topic_llm']\n",
    "test_command_labels = test_command['topic_llm']"
   ]
  },
  {
   "cell_type": "code",
   "execution_count": 9,
   "id": "68eeaec3-bbb0-4570-afb3-6948ea4896b0",
   "metadata": {
    "tags": []
   },
   "outputs": [],
   "source": [
    "train_labels, train_ties = get_label([train_gpt_labels, train_llama_labels, train_command_labels], break_tie='gpt', labels_list=labels_list)"
   ]
  },
  {
   "cell_type": "code",
   "execution_count": 10,
   "id": "b6b96079-5d2f-433f-a0fa-75dbe8b63dd5",
   "metadata": {
    "tags": []
   },
   "outputs": [],
   "source": [
    "test_labels, test_ties = get_label([test_gpt_labels, test_llama_labels, test_command_labels], break_tie='gpt', labels_list=labels_list)"
   ]
  },
  {
   "cell_type": "code",
   "execution_count": 11,
   "id": "e58aab64-f3c8-4090-96d2-3b0cd912133b",
   "metadata": {
    "tags": []
   },
   "outputs": [
    {
     "data": {
      "text/html": [
       "<div>\n",
       "<style scoped>\n",
       "    .dataframe tbody tr th:only-of-type {\n",
       "        vertical-align: middle;\n",
       "    }\n",
       "\n",
       "    .dataframe tbody tr th {\n",
       "        vertical-align: top;\n",
       "    }\n",
       "\n",
       "    .dataframe thead th {\n",
       "        text-align: right;\n",
       "    }\n",
       "</style>\n",
       "<table border=\"1\" class=\"dataframe\">\n",
       "  <thead>\n",
       "    <tr style=\"text-align: right;\">\n",
       "      <th></th>\n",
       "      <th>column</th>\n",
       "      <th>text</th>\n",
       "      <th>topic_id</th>\n",
       "      <th>topic_name</th>\n",
       "      <th>topic_llm</th>\n",
       "    </tr>\n",
       "  </thead>\n",
       "  <tbody>\n",
       "    <tr>\n",
       "      <th>0</th>\n",
       "      <td>like</td>\n",
       "      <td>أكثر ما أعجبني: التطبيق العملي المحدث والمشابه...</td>\n",
       "      <td>3</td>\n",
       "      <td>موازنة الجزء العملي مع الجزء النظري</td>\n",
       "      <td>موازنة الجزء العملي مع الجزء النظري</td>\n",
       "    </tr>\n",
       "    <tr>\n",
       "      <th>1</th>\n",
       "      <td>improve_course</td>\n",
       "      <td>اقتراحاتي للتحسين: التطبيق والبعد عن التدريس ا...</td>\n",
       "      <td>3</td>\n",
       "      <td>موازنة الجزء العملي مع الجزء النظري</td>\n",
       "      <td>طريقة تدريس و تقديم المادة</td>\n",
       "    </tr>\n",
       "    <tr>\n",
       "      <th>2</th>\n",
       "      <td>like</td>\n",
       "      <td>أكثر ما أعجبني: the content</td>\n",
       "      <td>0</td>\n",
       "      <td>محتوى ومعلومات المقرر</td>\n",
       "      <td>محتوى ومعلومات المقرر</td>\n",
       "    </tr>\n",
       "    <tr>\n",
       "      <th>3</th>\n",
       "      <td>improve_course</td>\n",
       "      <td>اقتراحاتي للتحسين: provide more new books</td>\n",
       "      <td>3</td>\n",
       "      <td>موازنة الجزء العملي مع الجزء النظري</td>\n",
       "      <td>محتوى ومعلومات المقرر</td>\n",
       "    </tr>\n",
       "    <tr>\n",
       "      <th>4</th>\n",
       "      <td>improve_course</td>\n",
       "      <td>اقتراحاتي للتحسين: زيادة ساعات العملي</td>\n",
       "      <td>8</td>\n",
       "      <td>الوقت و الجدول</td>\n",
       "      <td>موازنة الجزء العملي مع الجزء النظري</td>\n",
       "    </tr>\n",
       "  </tbody>\n",
       "</table>\n",
       "</div>"
      ],
      "text/plain": [
       "           column                                               text  \\\n",
       "0            like  أكثر ما أعجبني: التطبيق العملي المحدث والمشابه...   \n",
       "1  improve_course  اقتراحاتي للتحسين: التطبيق والبعد عن التدريس ا...   \n",
       "2            like                        أكثر ما أعجبني: the content   \n",
       "3  improve_course          اقتراحاتي للتحسين: provide more new books   \n",
       "4  improve_course              اقتراحاتي للتحسين: زيادة ساعات العملي   \n",
       "\n",
       "   topic_id                           topic_name  \\\n",
       "0         3  موازنة الجزء العملي مع الجزء النظري   \n",
       "1         3  موازنة الجزء العملي مع الجزء النظري   \n",
       "2         0                محتوى ومعلومات المقرر   \n",
       "3         3  موازنة الجزء العملي مع الجزء النظري   \n",
       "4         8                       الوقت و الجدول   \n",
       "\n",
       "                             topic_llm  \n",
       "0  موازنة الجزء العملي مع الجزء النظري  \n",
       "1           طريقة تدريس و تقديم المادة  \n",
       "2                محتوى ومعلومات المقرر  \n",
       "3                محتوى ومعلومات المقرر  \n",
       "4  موازنة الجزء العملي مع الجزء النظري  "
      ]
     },
     "execution_count": 11,
     "metadata": {},
     "output_type": "execute_result"
    }
   ],
   "source": [
    "train_gpt4o.head()"
   ]
  },
  {
   "cell_type": "code",
   "execution_count": 12,
   "id": "d4e699ae-10f6-4a07-b7c4-f8d603e148e3",
   "metadata": {
    "tags": []
   },
   "outputs": [],
   "source": [
    "train_gpt4o['majority_vote'] = train_labels\n",
    "train_gpt4o['tie'] = train_ties"
   ]
  },
  {
   "cell_type": "code",
   "execution_count": 13,
   "id": "411eb873-7f0b-4c7b-a933-a969612592f7",
   "metadata": {
    "tags": []
   },
   "outputs": [],
   "source": [
    "test_gpt4o['majority_vote'] = test_labels\n",
    "test_gpt4o['tie'] = test_ties"
   ]
  },
  {
   "cell_type": "code",
   "execution_count": 14,
   "id": "5f8434b3-9773-4b8f-bf53-1b05b81ff340",
   "metadata": {
    "tags": []
   },
   "outputs": [
    {
     "data": {
      "text/html": [
       "<div>\n",
       "<style scoped>\n",
       "    .dataframe tbody tr th:only-of-type {\n",
       "        vertical-align: middle;\n",
       "    }\n",
       "\n",
       "    .dataframe tbody tr th {\n",
       "        vertical-align: top;\n",
       "    }\n",
       "\n",
       "    .dataframe thead th {\n",
       "        text-align: right;\n",
       "    }\n",
       "</style>\n",
       "<table border=\"1\" class=\"dataframe\">\n",
       "  <thead>\n",
       "    <tr style=\"text-align: right;\">\n",
       "      <th></th>\n",
       "      <th>column</th>\n",
       "      <th>text</th>\n",
       "      <th>topic_id</th>\n",
       "      <th>topic_name</th>\n",
       "      <th>topic_llm</th>\n",
       "      <th>majority_vote</th>\n",
       "      <th>tie</th>\n",
       "    </tr>\n",
       "  </thead>\n",
       "  <tbody>\n",
       "    <tr>\n",
       "      <th>0</th>\n",
       "      <td>like</td>\n",
       "      <td>أكثر ما أعجبني: التطبيق العملي المحدث والمشابه...</td>\n",
       "      <td>3</td>\n",
       "      <td>موازنة الجزء العملي مع الجزء النظري</td>\n",
       "      <td>موازنة الجزء العملي مع الجزء النظري</td>\n",
       "      <td>موازنة الجزء العملي مع الجزء النظري</td>\n",
       "      <td>False</td>\n",
       "    </tr>\n",
       "    <tr>\n",
       "      <th>1</th>\n",
       "      <td>improve_course</td>\n",
       "      <td>اقتراحاتي للتحسين: التطبيق والبعد عن التدريس ا...</td>\n",
       "      <td>3</td>\n",
       "      <td>موازنة الجزء العملي مع الجزء النظري</td>\n",
       "      <td>طريقة تدريس و تقديم المادة</td>\n",
       "      <td>طريقة تدريس و تقديم المادة</td>\n",
       "      <td>False</td>\n",
       "    </tr>\n",
       "    <tr>\n",
       "      <th>2</th>\n",
       "      <td>like</td>\n",
       "      <td>أكثر ما أعجبني: the content</td>\n",
       "      <td>0</td>\n",
       "      <td>محتوى ومعلومات المقرر</td>\n",
       "      <td>محتوى ومعلومات المقرر</td>\n",
       "      <td>محتوى ومعلومات المقرر</td>\n",
       "      <td>False</td>\n",
       "    </tr>\n",
       "    <tr>\n",
       "      <th>3</th>\n",
       "      <td>improve_course</td>\n",
       "      <td>اقتراحاتي للتحسين: provide more new books</td>\n",
       "      <td>3</td>\n",
       "      <td>موازنة الجزء العملي مع الجزء النظري</td>\n",
       "      <td>محتوى ومعلومات المقرر</td>\n",
       "      <td>محتوى ومعلومات المقرر</td>\n",
       "      <td>False</td>\n",
       "    </tr>\n",
       "    <tr>\n",
       "      <th>4</th>\n",
       "      <td>improve_course</td>\n",
       "      <td>اقتراحاتي للتحسين: زيادة ساعات العملي</td>\n",
       "      <td>8</td>\n",
       "      <td>الوقت و الجدول</td>\n",
       "      <td>موازنة الجزء العملي مع الجزء النظري</td>\n",
       "      <td>موازنة الجزء العملي مع الجزء النظري</td>\n",
       "      <td>False</td>\n",
       "    </tr>\n",
       "  </tbody>\n",
       "</table>\n",
       "</div>"
      ],
      "text/plain": [
       "           column                                               text  \\\n",
       "0            like  أكثر ما أعجبني: التطبيق العملي المحدث والمشابه...   \n",
       "1  improve_course  اقتراحاتي للتحسين: التطبيق والبعد عن التدريس ا...   \n",
       "2            like                        أكثر ما أعجبني: the content   \n",
       "3  improve_course          اقتراحاتي للتحسين: provide more new books   \n",
       "4  improve_course              اقتراحاتي للتحسين: زيادة ساعات العملي   \n",
       "\n",
       "   topic_id                           topic_name  \\\n",
       "0         3  موازنة الجزء العملي مع الجزء النظري   \n",
       "1         3  موازنة الجزء العملي مع الجزء النظري   \n",
       "2         0                محتوى ومعلومات المقرر   \n",
       "3         3  موازنة الجزء العملي مع الجزء النظري   \n",
       "4         8                       الوقت و الجدول   \n",
       "\n",
       "                             topic_llm                        majority_vote  \\\n",
       "0  موازنة الجزء العملي مع الجزء النظري  موازنة الجزء العملي مع الجزء النظري   \n",
       "1           طريقة تدريس و تقديم المادة           طريقة تدريس و تقديم المادة   \n",
       "2                محتوى ومعلومات المقرر                محتوى ومعلومات المقرر   \n",
       "3                محتوى ومعلومات المقرر                محتوى ومعلومات المقرر   \n",
       "4  موازنة الجزء العملي مع الجزء النظري  موازنة الجزء العملي مع الجزء النظري   \n",
       "\n",
       "     tie  \n",
       "0  False  \n",
       "1  False  \n",
       "2  False  \n",
       "3  False  \n",
       "4  False  "
      ]
     },
     "execution_count": 14,
     "metadata": {},
     "output_type": "execute_result"
    }
   ],
   "source": [
    "train_gpt4o.head()"
   ]
  },
  {
   "cell_type": "code",
   "execution_count": 15,
   "id": "eef3ab7f-f951-4eb2-959a-d77ab4eebc9b",
   "metadata": {
    "tags": []
   },
   "outputs": [
    {
     "data": {
      "text/html": [
       "<div>\n",
       "<style scoped>\n",
       "    .dataframe tbody tr th:only-of-type {\n",
       "        vertical-align: middle;\n",
       "    }\n",
       "\n",
       "    .dataframe tbody tr th {\n",
       "        vertical-align: top;\n",
       "    }\n",
       "\n",
       "    .dataframe thead th {\n",
       "        text-align: right;\n",
       "    }\n",
       "</style>\n",
       "<table border=\"1\" class=\"dataframe\">\n",
       "  <thead>\n",
       "    <tr style=\"text-align: right;\">\n",
       "      <th></th>\n",
       "      <th>column</th>\n",
       "      <th>text</th>\n",
       "      <th>topic_id</th>\n",
       "      <th>topic_name</th>\n",
       "      <th>topic_llm</th>\n",
       "      <th>majority_vote</th>\n",
       "      <th>tie</th>\n",
       "    </tr>\n",
       "  </thead>\n",
       "  <tbody>\n",
       "    <tr>\n",
       "      <th>0</th>\n",
       "      <td>like</td>\n",
       "      <td>أكثر ما أعجبني: المقرر ساعدني جدا في فهم نظام ...</td>\n",
       "      <td>1</td>\n",
       "      <td>دكتور المقرر</td>\n",
       "      <td>موازنة الجزء العملي مع الجزء النظري</td>\n",
       "      <td>موازنة الجزء العملي مع الجزء النظري</td>\n",
       "      <td>False</td>\n",
       "    </tr>\n",
       "    <tr>\n",
       "      <th>1</th>\n",
       "      <td>dislike</td>\n",
       "      <td>أكثر ما لم يعجبني: المقرر يحتوي على مواضيع ساب...</td>\n",
       "      <td>6</td>\n",
       "      <td>طريقة تدريس و تقديم المادة</td>\n",
       "      <td>المتطلبات و المهام و الدرجات</td>\n",
       "      <td>المتطلبات و المهام و الدرجات</td>\n",
       "      <td>False</td>\n",
       "    </tr>\n",
       "    <tr>\n",
       "      <th>2</th>\n",
       "      <td>dislike</td>\n",
       "      <td>أكثر ما لم يعجبني: أسلوب شرح المقرر</td>\n",
       "      <td>5</td>\n",
       "      <td>المتطلبات و المهام و الدرجات</td>\n",
       "      <td>طريقة تدريس و تقديم المادة</td>\n",
       "      <td>طريقة تدريس و تقديم المادة</td>\n",
       "      <td>False</td>\n",
       "    </tr>\n",
       "    <tr>\n",
       "      <th>3</th>\n",
       "      <td>add_suggestions</td>\n",
       "      <td>اقتراحاتي للإضافة: everything is spectacular a...</td>\n",
       "      <td>2</td>\n",
       "      <td>None</td>\n",
       "      <td>غير محدد</td>\n",
       "      <td>غير محدد</td>\n",
       "      <td>False</td>\n",
       "    </tr>\n",
       "    <tr>\n",
       "      <th>4</th>\n",
       "      <td>like</td>\n",
       "      <td>أكثر ما أعجبني: معلمة المادة متمكنة وتستجيب عل...</td>\n",
       "      <td>1</td>\n",
       "      <td>دكتور المقرر</td>\n",
       "      <td>دكتور المقرر</td>\n",
       "      <td>دكتور المقرر</td>\n",
       "      <td>False</td>\n",
       "    </tr>\n",
       "  </tbody>\n",
       "</table>\n",
       "</div>"
      ],
      "text/plain": [
       "            column                                               text  \\\n",
       "0             like  أكثر ما أعجبني: المقرر ساعدني جدا في فهم نظام ...   \n",
       "1          dislike  أكثر ما لم يعجبني: المقرر يحتوي على مواضيع ساب...   \n",
       "2          dislike                أكثر ما لم يعجبني: أسلوب شرح المقرر   \n",
       "3  add_suggestions  اقتراحاتي للإضافة: everything is spectacular a...   \n",
       "4             like  أكثر ما أعجبني: معلمة المادة متمكنة وتستجيب عل...   \n",
       "\n",
       "   topic_id                    topic_name  \\\n",
       "0         1                  دكتور المقرر   \n",
       "1         6    طريقة تدريس و تقديم المادة   \n",
       "2         5  المتطلبات و المهام و الدرجات   \n",
       "3         2                          None   \n",
       "4         1                  دكتور المقرر   \n",
       "\n",
       "                             topic_llm                        majority_vote  \\\n",
       "0  موازنة الجزء العملي مع الجزء النظري  موازنة الجزء العملي مع الجزء النظري   \n",
       "1         المتطلبات و المهام و الدرجات         المتطلبات و المهام و الدرجات   \n",
       "2           طريقة تدريس و تقديم المادة           طريقة تدريس و تقديم المادة   \n",
       "3                             غير محدد                             غير محدد   \n",
       "4                         دكتور المقرر                         دكتور المقرر   \n",
       "\n",
       "     tie  \n",
       "0  False  \n",
       "1  False  \n",
       "2  False  \n",
       "3  False  \n",
       "4  False  "
      ]
     },
     "execution_count": 15,
     "metadata": {},
     "output_type": "execute_result"
    }
   ],
   "source": [
    "test_gpt4o.head()"
   ]
  },
  {
   "cell_type": "code",
   "execution_count": 16,
   "id": "88eb997f-68eb-47ef-93e7-b5620266be06",
   "metadata": {
    "tags": []
   },
   "outputs": [
    {
     "data": {
      "text/plain": [
       "(36, 32)"
      ]
     },
     "execution_count": 16,
     "metadata": {},
     "output_type": "execute_result"
    }
   ],
   "source": [
    "# ties len\n",
    "sum(train_ties), sum(test_ties)"
   ]
  },
  {
   "cell_type": "code",
   "execution_count": 17,
   "id": "a95e0869-9b12-4636-b8bd-7f0f613f7e3b",
   "metadata": {
    "tags": []
   },
   "outputs": [
    {
     "data": {
      "text/html": [
       "<pre style=\"white-space:pre;overflow-x:auto;line-height:normal;font-family:Menlo,'DejaVu Sans Mono',consolas,'Courier New',monospace\">The path exists!\n",
       "</pre>\n"
      ],
      "text/plain": [
       "The path exists!\n"
      ]
     },
     "metadata": {},
     "output_type": "display_data"
    },
    {
     "data": {
      "text/html": [
       "<pre style=\"white-space:pre;overflow-x:auto;line-height:normal;font-family:Menlo,'DejaVu Sans Mono',consolas,'Courier New',monospace\">The path exists!\n",
       "</pre>\n"
      ],
      "text/plain": [
       "The path exists!\n"
      ]
     },
     "metadata": {},
     "output_type": "display_data"
    }
   ],
   "source": [
    "train_save_path = '../../data/result/train_with_topic_df_majority_vote_gpt4o_preferred.csv'\n",
    "if os.path.exists(train_save_path):\n",
    "    print('The path exists!')\n",
    "else:\n",
    "    print(f'Saving to {train_save_path}...')\n",
    "    train_gpt4o.to_csv(train_save_path, index=False)\n",
    "\n",
    "\n",
    "test_save_path = '../../data/result/test_with_topic_df_majority_vote_gpt4o_preferred.csv'\n",
    "if os.path.exists(test_save_path):\n",
    "    print('The path exists!')\n",
    "else:\n",
    "    print(f'Saving to {test_save_path}...')\n",
    "    test_gpt4o.to_csv(test_save_path, index=False)"
   ]
  },
  {
   "cell_type": "code",
   "execution_count": 18,
   "id": "ef0db1e7-0e6b-45cf-a84e-0e98de722f11",
   "metadata": {
    "tags": []
   },
   "outputs": [],
   "source": [
    "import pandas as pd"
   ]
  },
  {
   "cell_type": "code",
   "execution_count": 19,
   "id": "9e1358bc-c22d-4f76-ac46-8f7be922d291",
   "metadata": {
    "tags": []
   },
   "outputs": [
    {
     "data": {
      "text/plain": [
       "محتوى ومعلومات المقرر                  226\n",
       "دكتور المقرر                           176\n",
       "موازنة الجزء العملي مع الجزء النظري    166\n",
       "غير محدد                               131\n",
       "المتطلبات و المهام و الدرجات            74\n",
       "طريقة تدريس و تقديم المادة              73\n",
       "الوقت و الجدول                          39\n",
       "الجانب البحثي و الأوراق البحثية         35\n",
       "سوق العمل                               31\n",
       "Name: majority_vote, dtype: int64"
      ]
     },
     "execution_count": 19,
     "metadata": {},
     "output_type": "execute_result"
    }
   ],
   "source": [
    "pd.read_csv('../../data/result/train_with_topic_df_majority_vote_gpt4o_preferred.csv')['majority_vote'].value_counts()\n"
   ]
  },
  {
   "cell_type": "markdown",
   "id": "3d32e90b-4d5e-46e7-bac8-bf5e2566e1af",
   "metadata": {},
   "source": [
    "# Convert to HF dataset"
   ]
  },
  {
   "cell_type": "code",
   "execution_count": 20,
   "id": "aa52ea7c-5ca3-4700-9eda-6013a6627e22",
   "metadata": {
    "tags": []
   },
   "outputs": [],
   "source": [
    "from datasets import Dataset, Value, ClassLabel, Features, DatasetDict, load_dataset, load_from_disk\n",
    "import pandas as pd"
   ]
  },
  {
   "cell_type": "code",
   "execution_count": 21,
   "id": "c9ca66ea-f462-4b13-bf11-3c8abb54dad4",
   "metadata": {
    "tags": []
   },
   "outputs": [],
   "source": [
    "train_path = '../../data/result/train_with_topic_df_majority_vote_gpt4o_preferred.csv'"
   ]
  },
  {
   "cell_type": "code",
   "execution_count": 22,
   "id": "48cb3e27-0b74-4b59-8cb2-1d069b15239c",
   "metadata": {
    "tags": []
   },
   "outputs": [],
   "source": [
    "data = pd.read_csv(train_path)"
   ]
  },
  {
   "cell_type": "code",
   "execution_count": 23,
   "id": "0fdd8ad4-edae-480d-9674-57545cfb571c",
   "metadata": {
    "tags": []
   },
   "outputs": [
    {
     "data": {
      "text/html": [
       "<div>\n",
       "<style scoped>\n",
       "    .dataframe tbody tr th:only-of-type {\n",
       "        vertical-align: middle;\n",
       "    }\n",
       "\n",
       "    .dataframe tbody tr th {\n",
       "        vertical-align: top;\n",
       "    }\n",
       "\n",
       "    .dataframe thead th {\n",
       "        text-align: right;\n",
       "    }\n",
       "</style>\n",
       "<table border=\"1\" class=\"dataframe\">\n",
       "  <thead>\n",
       "    <tr style=\"text-align: right;\">\n",
       "      <th></th>\n",
       "      <th>column</th>\n",
       "      <th>text</th>\n",
       "      <th>topic_id</th>\n",
       "      <th>topic_name</th>\n",
       "      <th>topic_llm</th>\n",
       "      <th>majority_vote</th>\n",
       "      <th>tie</th>\n",
       "    </tr>\n",
       "  </thead>\n",
       "  <tbody>\n",
       "    <tr>\n",
       "      <th>0</th>\n",
       "      <td>like</td>\n",
       "      <td>أكثر ما أعجبني: التطبيق العملي المحدث والمشابه...</td>\n",
       "      <td>3</td>\n",
       "      <td>موازنة الجزء العملي مع الجزء النظري</td>\n",
       "      <td>موازنة الجزء العملي مع الجزء النظري</td>\n",
       "      <td>موازنة الجزء العملي مع الجزء النظري</td>\n",
       "      <td>False</td>\n",
       "    </tr>\n",
       "    <tr>\n",
       "      <th>1</th>\n",
       "      <td>improve_course</td>\n",
       "      <td>اقتراحاتي للتحسين: التطبيق والبعد عن التدريس ا...</td>\n",
       "      <td>3</td>\n",
       "      <td>موازنة الجزء العملي مع الجزء النظري</td>\n",
       "      <td>طريقة تدريس و تقديم المادة</td>\n",
       "      <td>طريقة تدريس و تقديم المادة</td>\n",
       "      <td>False</td>\n",
       "    </tr>\n",
       "    <tr>\n",
       "      <th>2</th>\n",
       "      <td>like</td>\n",
       "      <td>أكثر ما أعجبني: the content</td>\n",
       "      <td>0</td>\n",
       "      <td>محتوى ومعلومات المقرر</td>\n",
       "      <td>محتوى ومعلومات المقرر</td>\n",
       "      <td>محتوى ومعلومات المقرر</td>\n",
       "      <td>False</td>\n",
       "    </tr>\n",
       "    <tr>\n",
       "      <th>3</th>\n",
       "      <td>improve_course</td>\n",
       "      <td>اقتراحاتي للتحسين: provide more new books</td>\n",
       "      <td>3</td>\n",
       "      <td>موازنة الجزء العملي مع الجزء النظري</td>\n",
       "      <td>محتوى ومعلومات المقرر</td>\n",
       "      <td>محتوى ومعلومات المقرر</td>\n",
       "      <td>False</td>\n",
       "    </tr>\n",
       "    <tr>\n",
       "      <th>4</th>\n",
       "      <td>improve_course</td>\n",
       "      <td>اقتراحاتي للتحسين: زيادة ساعات العملي</td>\n",
       "      <td>8</td>\n",
       "      <td>الوقت و الجدول</td>\n",
       "      <td>موازنة الجزء العملي مع الجزء النظري</td>\n",
       "      <td>موازنة الجزء العملي مع الجزء النظري</td>\n",
       "      <td>False</td>\n",
       "    </tr>\n",
       "  </tbody>\n",
       "</table>\n",
       "</div>"
      ],
      "text/plain": [
       "           column                                               text  \\\n",
       "0            like  أكثر ما أعجبني: التطبيق العملي المحدث والمشابه...   \n",
       "1  improve_course  اقتراحاتي للتحسين: التطبيق والبعد عن التدريس ا...   \n",
       "2            like                        أكثر ما أعجبني: the content   \n",
       "3  improve_course          اقتراحاتي للتحسين: provide more new books   \n",
       "4  improve_course              اقتراحاتي للتحسين: زيادة ساعات العملي   \n",
       "\n",
       "   topic_id                           topic_name  \\\n",
       "0         3  موازنة الجزء العملي مع الجزء النظري   \n",
       "1         3  موازنة الجزء العملي مع الجزء النظري   \n",
       "2         0                محتوى ومعلومات المقرر   \n",
       "3         3  موازنة الجزء العملي مع الجزء النظري   \n",
       "4         8                       الوقت و الجدول   \n",
       "\n",
       "                             topic_llm                        majority_vote  \\\n",
       "0  موازنة الجزء العملي مع الجزء النظري  موازنة الجزء العملي مع الجزء النظري   \n",
       "1           طريقة تدريس و تقديم المادة           طريقة تدريس و تقديم المادة   \n",
       "2                محتوى ومعلومات المقرر                محتوى ومعلومات المقرر   \n",
       "3                محتوى ومعلومات المقرر                محتوى ومعلومات المقرر   \n",
       "4  موازنة الجزء العملي مع الجزء النظري  موازنة الجزء العملي مع الجزء النظري   \n",
       "\n",
       "     tie  \n",
       "0  False  \n",
       "1  False  \n",
       "2  False  \n",
       "3  False  \n",
       "4  False  "
      ]
     },
     "execution_count": 23,
     "metadata": {},
     "output_type": "execute_result"
    }
   ],
   "source": [
    "data.head()"
   ]
  },
  {
   "cell_type": "code",
   "execution_count": 24,
   "id": "3e425dc3-859c-4a1c-aad3-4363c0fbff0d",
   "metadata": {
    "tags": []
   },
   "outputs": [],
   "source": [
    "data = data.drop(columns=['column', 'topic_id', 'topic_name', 'topic_llm', 'tie'])\n",
    "data = data.rename(columns={'majority_vote': 'labels'})"
   ]
  },
  {
   "cell_type": "code",
   "execution_count": 25,
   "id": "93f5f334-f9ce-4d26-934e-004308d7cddc",
   "metadata": {
    "tags": []
   },
   "outputs": [
    {
     "data": {
      "text/html": [
       "<div>\n",
       "<style scoped>\n",
       "    .dataframe tbody tr th:only-of-type {\n",
       "        vertical-align: middle;\n",
       "    }\n",
       "\n",
       "    .dataframe tbody tr th {\n",
       "        vertical-align: top;\n",
       "    }\n",
       "\n",
       "    .dataframe thead th {\n",
       "        text-align: right;\n",
       "    }\n",
       "</style>\n",
       "<table border=\"1\" class=\"dataframe\">\n",
       "  <thead>\n",
       "    <tr style=\"text-align: right;\">\n",
       "      <th></th>\n",
       "      <th>text</th>\n",
       "      <th>labels</th>\n",
       "    </tr>\n",
       "  </thead>\n",
       "  <tbody>\n",
       "    <tr>\n",
       "      <th>0</th>\n",
       "      <td>أكثر ما أعجبني: التطبيق العملي المحدث والمشابه...</td>\n",
       "      <td>موازنة الجزء العملي مع الجزء النظري</td>\n",
       "    </tr>\n",
       "    <tr>\n",
       "      <th>1</th>\n",
       "      <td>اقتراحاتي للتحسين: التطبيق والبعد عن التدريس ا...</td>\n",
       "      <td>طريقة تدريس و تقديم المادة</td>\n",
       "    </tr>\n",
       "    <tr>\n",
       "      <th>2</th>\n",
       "      <td>أكثر ما أعجبني: the content</td>\n",
       "      <td>محتوى ومعلومات المقرر</td>\n",
       "    </tr>\n",
       "    <tr>\n",
       "      <th>3</th>\n",
       "      <td>اقتراحاتي للتحسين: provide more new books</td>\n",
       "      <td>محتوى ومعلومات المقرر</td>\n",
       "    </tr>\n",
       "    <tr>\n",
       "      <th>4</th>\n",
       "      <td>اقتراحاتي للتحسين: زيادة ساعات العملي</td>\n",
       "      <td>موازنة الجزء العملي مع الجزء النظري</td>\n",
       "    </tr>\n",
       "  </tbody>\n",
       "</table>\n",
       "</div>"
      ],
      "text/plain": [
       "                                                text  \\\n",
       "0  أكثر ما أعجبني: التطبيق العملي المحدث والمشابه...   \n",
       "1  اقتراحاتي للتحسين: التطبيق والبعد عن التدريس ا...   \n",
       "2                        أكثر ما أعجبني: the content   \n",
       "3          اقتراحاتي للتحسين: provide more new books   \n",
       "4              اقتراحاتي للتحسين: زيادة ساعات العملي   \n",
       "\n",
       "                                labels  \n",
       "0  موازنة الجزء العملي مع الجزء النظري  \n",
       "1           طريقة تدريس و تقديم المادة  \n",
       "2                محتوى ومعلومات المقرر  \n",
       "3                محتوى ومعلومات المقرر  \n",
       "4  موازنة الجزء العملي مع الجزء النظري  "
      ]
     },
     "execution_count": 25,
     "metadata": {},
     "output_type": "execute_result"
    }
   ],
   "source": [
    "data.head()"
   ]
  },
  {
   "cell_type": "code",
   "execution_count": 26,
   "id": "066b9971-593e-4553-87dd-d1ac7128a65b",
   "metadata": {
    "tags": []
   },
   "outputs": [
    {
     "data": {
      "text/plain": [
       "['الجانب البحثي و الأوراق البحثية',\n",
       " 'المتطلبات و المهام و الدرجات',\n",
       " 'الوقت و الجدول',\n",
       " 'دكتور المقرر',\n",
       " 'سوق العمل',\n",
       " 'طريقة تدريس و تقديم المادة',\n",
       " 'غير محدد',\n",
       " 'محتوى ومعلومات المقرر',\n",
       " 'موازنة الجزء العملي مع الجزء النظري']"
      ]
     },
     "execution_count": 26,
     "metadata": {},
     "output_type": "execute_result"
    }
   ],
   "source": [
    "topic_names = sorted(data['labels'].unique().tolist())\n",
    "topic_names"
   ]
  },
  {
   "cell_type": "code",
   "execution_count": 27,
   "id": "e425d472-01c0-4af0-b4d6-dbbe701f9efe",
   "metadata": {
    "tags": []
   },
   "outputs": [
    {
     "data": {
      "text/html": [
       "<pre style=\"white-space:pre;overflow-x:auto;line-height:normal;font-family:Menlo,'DejaVu Sans Mono',consolas,'Courier New',monospace\"><span style=\"font-weight: bold\">{</span>\n",
       "    <span style=\"color: #008000; text-decoration-color: #008000\">'id'</span>: <span style=\"color: #800080; text-decoration-color: #800080; font-weight: bold\">Value</span><span style=\"font-weight: bold\">(</span><span style=\"color: #808000; text-decoration-color: #808000\">dtype</span>=<span style=\"color: #008000; text-decoration-color: #008000\">'string'</span>, <span style=\"color: #808000; text-decoration-color: #808000\">id</span>=<span style=\"color: #800080; text-decoration-color: #800080; font-style: italic\">None</span><span style=\"font-weight: bold\">)</span>,\n",
       "    <span style=\"color: #008000; text-decoration-color: #008000\">'text'</span>: <span style=\"color: #800080; text-decoration-color: #800080; font-weight: bold\">Value</span><span style=\"font-weight: bold\">(</span><span style=\"color: #808000; text-decoration-color: #808000\">dtype</span>=<span style=\"color: #008000; text-decoration-color: #008000\">'string'</span>, <span style=\"color: #808000; text-decoration-color: #808000\">id</span>=<span style=\"color: #800080; text-decoration-color: #800080; font-style: italic\">None</span><span style=\"font-weight: bold\">)</span>,\n",
       "    <span style=\"color: #008000; text-decoration-color: #008000\">'labels'</span>: <span style=\"color: #800080; text-decoration-color: #800080; font-weight: bold\">ClassLabel</span><span style=\"font-weight: bold\">(</span>\n",
       "        <span style=\"color: #808000; text-decoration-color: #808000\">names</span>=<span style=\"font-weight: bold\">[</span>\n",
       "            <span style=\"color: #008000; text-decoration-color: #008000\">'الجانب البحثي و الأوراق البحثية'</span>,\n",
       "            <span style=\"color: #008000; text-decoration-color: #008000\">'المتطلبات و المهام و الدرجات'</span>,\n",
       "            <span style=\"color: #008000; text-decoration-color: #008000\">'الوقت و الجدول'</span>,\n",
       "            <span style=\"color: #008000; text-decoration-color: #008000\">'دكتور المقرر'</span>,\n",
       "            <span style=\"color: #008000; text-decoration-color: #008000\">'سوق العمل'</span>,\n",
       "            <span style=\"color: #008000; text-decoration-color: #008000\">'طريقة تدريس و تقديم المادة'</span>,\n",
       "            <span style=\"color: #008000; text-decoration-color: #008000\">'غير محدد'</span>,\n",
       "            <span style=\"color: #008000; text-decoration-color: #008000\">'محتوى ومعلومات المقرر'</span>,\n",
       "            <span style=\"color: #008000; text-decoration-color: #008000\">'موازنة الجزء العملي مع الجزء النظري'</span>\n",
       "        <span style=\"font-weight: bold\">]</span>,\n",
       "        <span style=\"color: #808000; text-decoration-color: #808000\">id</span>=<span style=\"color: #800080; text-decoration-color: #800080; font-style: italic\">None</span>\n",
       "    <span style=\"font-weight: bold\">)</span>\n",
       "<span style=\"font-weight: bold\">}</span>\n",
       "</pre>\n"
      ],
      "text/plain": [
       "\u001b[1m{\u001b[0m\n",
       "    \u001b[32m'id'\u001b[0m: \u001b[1;35mValue\u001b[0m\u001b[1m(\u001b[0m\u001b[33mdtype\u001b[0m=\u001b[32m'string'\u001b[0m, \u001b[33mid\u001b[0m=\u001b[3;35mNone\u001b[0m\u001b[1m)\u001b[0m,\n",
       "    \u001b[32m'text'\u001b[0m: \u001b[1;35mValue\u001b[0m\u001b[1m(\u001b[0m\u001b[33mdtype\u001b[0m=\u001b[32m'string'\u001b[0m, \u001b[33mid\u001b[0m=\u001b[3;35mNone\u001b[0m\u001b[1m)\u001b[0m,\n",
       "    \u001b[32m'labels'\u001b[0m: \u001b[1;35mClassLabel\u001b[0m\u001b[1m(\u001b[0m\n",
       "        \u001b[33mnames\u001b[0m=\u001b[1m[\u001b[0m\n",
       "            \u001b[32m'الجانب البحثي و الأوراق البحثية'\u001b[0m,\n",
       "            \u001b[32m'المتطلبات و المهام و الدرجات'\u001b[0m,\n",
       "            \u001b[32m'الوقت و الجدول'\u001b[0m,\n",
       "            \u001b[32m'دكتور المقرر'\u001b[0m,\n",
       "            \u001b[32m'سوق العمل'\u001b[0m,\n",
       "            \u001b[32m'طريقة تدريس و تقديم المادة'\u001b[0m,\n",
       "            \u001b[32m'غير محدد'\u001b[0m,\n",
       "            \u001b[32m'محتوى ومعلومات المقرر'\u001b[0m,\n",
       "            \u001b[32m'موازنة الجزء العملي مع الجزء النظري'\u001b[0m\n",
       "        \u001b[1m]\u001b[0m,\n",
       "        \u001b[33mid\u001b[0m=\u001b[3;35mNone\u001b[0m\n",
       "    \u001b[1m)\u001b[0m\n",
       "\u001b[1m}\u001b[0m\n"
      ]
     },
     "metadata": {},
     "output_type": "display_data"
    }
   ],
   "source": [
    "features = Features(\n",
    "    {\n",
    "        'id': Value(dtype='string'),\n",
    "        'text': Value(dtype='string'),\n",
    "        'labels': ClassLabel(names=topic_names, num_classes=len(topic_names), id=None)\n",
    "    }\n",
    ")\n",
    "\n",
    "print(features)"
   ]
  },
  {
   "cell_type": "code",
   "execution_count": 28,
   "id": "979206fb-d963-40d5-8e6d-ce2885ea8849",
   "metadata": {
    "tags": []
   },
   "outputs": [],
   "source": [
    "hf_dataset = DatasetDict({\n",
    "    'train': Dataset.from_dict(\n",
    "        {\n",
    "            'id': list(data.index.astype(str)),\n",
    "            'text': list(data['text']),\n",
    "            'labels': list(data['labels'])\n",
    "        },\n",
    "        features=features\n",
    "    )\n",
    "})"
   ]
  },
  {
   "cell_type": "code",
   "execution_count": 29,
   "id": "8fbffee4-7ee6-4d93-a62d-3465e03b7ba9",
   "metadata": {
    "tags": []
   },
   "outputs": [],
   "source": [
    "hf_path = '../../data/result/topics_hf_dataset'"
   ]
  },
  {
   "cell_type": "code",
   "execution_count": 30,
   "id": "be6f9c52-f0c7-41dc-a9c8-c12ff9bc5989",
   "metadata": {
    "tags": []
   },
   "outputs": [
    {
     "data": {
      "application/vnd.jupyter.widget-view+json": {
       "model_id": "84e110d8dec446b28070029c3fa5e2da",
       "version_major": 2,
       "version_minor": 0
      },
      "text/plain": [
       "Saving the dataset (0/1 shards):   0%|          | 0/951 [00:00<?, ? examples/s]"
      ]
     },
     "metadata": {},
     "output_type": "display_data"
    }
   ],
   "source": [
    "hf_dataset.save_to_disk(hf_path)"
   ]
  },
  {
   "cell_type": "code",
   "execution_count": null,
   "id": "de3e401a-170e-4a18-a20e-6222fdc62e10",
   "metadata": {},
   "outputs": [],
   "source": []
  }
 ],
 "metadata": {
  "kernelspec": {
   "display_name": "Python 3 (ipykernel)",
   "language": "python",
   "name": "python3"
  },
  "language_info": {
   "codemirror_mode": {
    "name": "ipython",
    "version": 3
   },
   "file_extension": ".py",
   "mimetype": "text/x-python",
   "name": "python",
   "nbconvert_exporter": "python",
   "pygments_lexer": "ipython3",
   "version": "3.11.7"
  }
 },
 "nbformat": 4,
 "nbformat_minor": 5
}
