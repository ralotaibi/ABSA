{
 "cells": [
  {
   "cell_type": "markdown",
   "id": "5b4ba317-25ce-4ba7-b313-36361c550f6a",
   "metadata": {},
   "source": [
    "### In this notebook we use LLama 3 70B and gpt4o for annotation"
   ]
  },
  {
   "cell_type": "code",
   "execution_count": 11,
   "id": "20274818-1e65-49e1-a417-116dcfc2b537",
   "metadata": {
    "tags": []
   },
   "outputs": [],
   "source": [
    "from rich import print\n",
    "import json\n",
    "from tqdm import tqdm\n",
    "from dotenv import load_dotenv, find_dotenv\n",
    "import os\n",
    "from openai import OpenAI\n",
    "import pandas as pd\n",
    "from tqdm import tqdm"
   ]
  },
  {
   "cell_type": "code",
   "execution_count": 12,
   "id": "def3e58f-c41d-4248-b8e4-645d636ad979",
   "metadata": {
    "tags": []
   },
   "outputs": [],
   "source": [
    "_ = load_dotenv(find_dotenv())\n",
    "api_key = os.environ['OPENAI_API_KEY']\n",
    "\n",
    "# base_url = os.environ['OPENAI_BASE_URL']\n",
    "client = OpenAI()"
   ]
  },
  {
   "cell_type": "code",
   "execution_count": 13,
   "id": "03d002c3-36b9-4c9f-950c-5ae16365ab44",
   "metadata": {
    "tags": []
   },
   "outputs": [
    {
     "data": {
      "text/plain": [
       "'/notebooks/ABSA-for-Open-Ended-Qs-in-Education-Surveys/notebooks/label_cleansing'"
      ]
     },
     "execution_count": 13,
     "metadata": {},
     "output_type": "execute_result"
    }
   ],
   "source": [
    "pwd"
   ]
  },
  {
   "cell_type": "code",
   "execution_count": 14,
   "id": "05330e9b-d272-4c66-b9d0-978129843a11",
   "metadata": {
    "tags": []
   },
   "outputs": [],
   "source": [
    "example1 = \"المحتوى أكثر من رائع\""
   ]
  },
  {
   "cell_type": "code",
   "execution_count": 15,
   "id": "d8af00df-d992-46d3-a43d-8ece6bd1c4d7",
   "metadata": {
    "tags": []
   },
   "outputs": [],
   "source": [
    "system_message = \"\"\"\n",
    "سوف تتلقى مراجعة حول بعض الخدمات التعليمية، ومهمتك هي معرفة الموضوع الذي تتجذث عنه كل مراجعة.\n",
    "قد تكون المراجعة باللغة الإنجليزية، أو باللغة العربية، أو كليهما.\n",
    "خيارات الإخراج المسموح بها هي ما يلي:\n",
    "\n",
    "* محتوى ومعلومات المقرر\n",
    "* موازنة الجزء العملي مع الجزء النظري\n",
    "* غير محدد\n",
    "* سوق العمل\n",
    "* المتطلبات و المهام و الدرجات\n",
    "* دكتور المقرر\n",
    "* الوقت و الجدول\n",
    "* طريقة تدريس و تقديم المادة\n",
    "* الجانب البحثي والأوراق البحثية\n",
    "\"\"\""
   ]
  },
  {
   "cell_type": "code",
   "execution_count": 16,
   "id": "5777aa95-b2be-4e43-9562-9fdcde7f26c3",
   "metadata": {
    "tags": []
   },
   "outputs": [],
   "source": [
    "user_template = \"\"\"\n",
    "عليك أن تستخرج الموضوع الخاص بالمراجعة التالية. \n",
    "\n",
    "## كيفية استخراج الموضع الخاص بالمراجعة:\n",
    "* إذا كان نص المراجعة يتحدث عن المقرر الدراسي و المعلومات الواردة في هذا المقرر فإن الموضوع الخاص بهذه المراجعة هو: \"محتوى ومعلومات المقرر\"\n",
    "\n",
    "* إذا كان نص المراجعة يتحدث عن الجزء العملي و أهميته و أهمية تناسبه مع الجزء النظري فإن الموضوع الخاص بهذه المراجعة هو: \"موازنة الجزء العملي مع الجزء النظري\"\n",
    "\n",
    "* إذا كان نص المراجعة يتحدث عن سوق العمل و مدى ارتباط المنهج بسوق العمل فإن الموضوع الخاص يهذه المراجعة هو: \"سوق العمل\"\n",
    "\n",
    "* إذا كان نص المراجعة يتحدث عن الأشياء المطلوب من الطلاب أن يقوموا بها أو عن درجات الطلاب فإن الموضوع الخاص بهذه المراجعة هو: \"المتطلبات و المهام و الدرجات\"\n",
    "\n",
    "* إذا كان نص المراجعة يتحدث عن الدكتور الذي يشرح المادة فإن الموضوع الخاص بهذه المراجعة هو: \"دكتور المقرر\"\n",
    "\n",
    "* إذا كان نص المراجعة يتحدث عن الخط الزمني لدراسة المادة أو عن جدول تدريس المادة و جدول الإمتحانات و التسليمات فإن الموضوع الخاص بهذه المراجعة هو: \"الوقت و الجدول\"\n",
    "\n",
    "* إذا كان نص المراجعة يتحدث عن الطريقة التي يتم بها تقديم المادة للطلاب أو عن الطريقة التي يتم بها تدريس المادة للطلاب فإن الموضوع الخاص بهذه المراجعة هو: \"طريقة تدريس و تقديم المادة\"\n",
    "\n",
    "* إذا كان نص المراجعة يتحدث عن الجانب البحثي للمادة أو عن الأوراق البحثية فإن الموضوع الخاص بهذه المراجعة هو: \"الجانب البحثي و الأوراق البحثية\"\n",
    "\n",
    "* إذا لم يحتو نص المراجعة على أي من الموضوعات السابقة فإن موضوع هذه المراحعة هو: \"غير محدد\"\n",
    "\n",
    "## ملحوظة: إذا وجدت أكثر من موضوع داخل المراجعة الواحدة يجب عليك استخراج الموضوع الموجود بكثرة داخل هذه المراجعة\n",
    "\n",
    "\n",
    "\"\n",
    "المراجعة:\n",
    "###\n",
    "{}\n",
    "###\n",
    "\n",
    "## يجب عليك أن تكتب اسم الموضوع المستخرج فقط\n",
    "output: \n",
    "\"\"\""
   ]
  },
  {
   "cell_type": "code",
   "execution_count": 17,
   "id": "9eadf9de-615d-4103-8efc-45aa27181e41",
   "metadata": {
    "tags": []
   },
   "outputs": [],
   "source": [
    "def format_user_message(template, text):\n",
    "    return template.format(text)\n"
   ]
  },
  {
   "cell_type": "code",
   "execution_count": 18,
   "id": "fdd7a40c-e0fe-4350-8048-0865bc510ed1",
   "metadata": {
    "tags": []
   },
   "outputs": [],
   "source": [
    "def format_one_example(review):\n",
    "    return {\n",
    "        \"messages\": [\n",
    "            {\n",
    "                \"role\": \"system\",\n",
    "                \"content\": system_message\n",
    "            },\n",
    "            {\n",
    "                \"role\": \"user\",\n",
    "                \"content\": format_user_message(user_template, review)\n",
    "            }\n",
    "        ]\n",
    "    }"
   ]
  },
  {
   "cell_type": "code",
   "execution_count": 19,
   "id": "1ddf2a75-c8f8-4275-bf8e-bb26c0ddfb99",
   "metadata": {
    "tags": []
   },
   "outputs": [
    {
     "data": {
      "text/html": [
       "<pre style=\"white-space:pre;overflow-x:auto;line-height:normal;font-family:Menlo,'DejaVu Sans Mono',consolas,'Courier New',monospace\">\n",
       "عليك أن تستخرج الموضوع الخاص بالمراجعة التالية. \n",
       "\n",
       "## كيفية استخراج الموضع الخاص بالمراجعة:\n",
       "* إذا كان نص المراجعة يتحدث عن المقرر الدراسي و المعلومات الواردة في هذا المقرر فإن الموضوع الخاص بهذه المراجعة هو:\n",
       "<span style=\"color: #008000; text-decoration-color: #008000\">\"محتوى ومعلومات المقرر\"</span>\n",
       "\n",
       "* إذا كان نص المراجعة يتحدث عن الجزء العملي و أهميته و أهمية تناسبه مع الجزء النظري فإن الموضوع الخاص بهذه المراجعة\n",
       "هو: <span style=\"color: #008000; text-decoration-color: #008000\">\"موازنة الجزء العملي مع الجزء النظري\"</span>\n",
       "\n",
       "* إذا كان نص المراجعة يتحدث عن سوق العمل و مدى ارتباط المنهج بسوق العمل فإن الموضوع الخاص يهذه المراجعة هو: <span style=\"color: #008000; text-decoration-color: #008000\">\"سوق </span>\n",
       "<span style=\"color: #008000; text-decoration-color: #008000\">العمل\"</span>\n",
       "\n",
       "* إذا كان نص المراجعة يتحدث عن الأشياء المطلوب من الطلاب أن يقوموا بها أو عن درجات الطلاب فإن الموضوع الخاص بهذه \n",
       "المراجعة هو: <span style=\"color: #008000; text-decoration-color: #008000\">\"المتطلبات و المهام و الدرجات\"</span>\n",
       "\n",
       "* إذا كان نص المراجعة يتحدث عن الدكتور الذي يشرح المادة فإن الموضوع الخاص بهذه المراجعة هو: <span style=\"color: #008000; text-decoration-color: #008000\">\"دكتور المقرر\"</span>\n",
       "\n",
       "* إذا كان نص المراجعة يتحدث عن الخط الزمني لدراسة المادة أو عن جدول تدريس المادة و جدول الإمتحانات و التسليمات فإن \n",
       "الموضوع الخاص بهذه المراجعة هو: <span style=\"color: #008000; text-decoration-color: #008000\">\"الوقت و الجدول\"</span>\n",
       "\n",
       "* إذا كان نص المراجعة يتحدث عن الطريقة التي يتم بها تقديم المادة للطلاب أو عن الطريقة التي يتم بها تدريس المادة \n",
       "للطلاب فإن الموضوع الخاص بهذه المراجعة هو: <span style=\"color: #008000; text-decoration-color: #008000\">\"طريقة تدريس و تقديم المادة\"</span>\n",
       "\n",
       "* إذا كان نص المراجعة يتحدث عن الجانب البحثي للمادة أو عن الأوراق البحثية فإن الموضوع الخاص بهذه المراجعة هو: \n",
       "<span style=\"color: #008000; text-decoration-color: #008000\">\"الجانب البحثي و الأوراق البحثية\"</span>\n",
       "\n",
       "* إذا لم يحتو نص المراجعة على أي من الموضوعات السابقة فإن موضوع هذه المراحعة هو: <span style=\"color: #008000; text-decoration-color: #008000\">\"غير محدد\"</span>\n",
       "\n",
       "## ملحوظة: إذا وجدت أكثر من موضوع داخل المراجعة الواحدة يجب عليك استخراج الموضوع الموجود بكثرة داخل هذه المراجعة\n",
       "\n",
       "\n",
       "\"\n",
       "المراجعة:\n",
       "###\n",
       "المحتوى أكثر من رائع\n",
       "###\n",
       "\n",
       "## يجب عليك أن تكتب اسم الموضوع المستخرج فقط\n",
       "output: \n",
       "\n",
       "</pre>\n"
      ],
      "text/plain": [
       "\n",
       "عليك أن تستخرج الموضوع الخاص بالمراجعة التالية. \n",
       "\n",
       "## كيفية استخراج الموضع الخاص بالمراجعة:\n",
       "* إذا كان نص المراجعة يتحدث عن المقرر الدراسي و المعلومات الواردة في هذا المقرر فإن الموضوع الخاص بهذه المراجعة هو:\n",
       "\u001b[32m\"محتوى ومعلومات المقرر\"\u001b[0m\n",
       "\n",
       "* إذا كان نص المراجعة يتحدث عن الجزء العملي و أهميته و أهمية تناسبه مع الجزء النظري فإن الموضوع الخاص بهذه المراجعة\n",
       "هو: \u001b[32m\"موازنة الجزء العملي مع الجزء النظري\"\u001b[0m\n",
       "\n",
       "* إذا كان نص المراجعة يتحدث عن سوق العمل و مدى ارتباط المنهج بسوق العمل فإن الموضوع الخاص يهذه المراجعة هو: \u001b[32m\"سوق \u001b[0m\n",
       "\u001b[32mالعمل\"\u001b[0m\n",
       "\n",
       "* إذا كان نص المراجعة يتحدث عن الأشياء المطلوب من الطلاب أن يقوموا بها أو عن درجات الطلاب فإن الموضوع الخاص بهذه \n",
       "المراجعة هو: \u001b[32m\"المتطلبات و المهام و الدرجات\"\u001b[0m\n",
       "\n",
       "* إذا كان نص المراجعة يتحدث عن الدكتور الذي يشرح المادة فإن الموضوع الخاص بهذه المراجعة هو: \u001b[32m\"دكتور المقرر\"\u001b[0m\n",
       "\n",
       "* إذا كان نص المراجعة يتحدث عن الخط الزمني لدراسة المادة أو عن جدول تدريس المادة و جدول الإمتحانات و التسليمات فإن \n",
       "الموضوع الخاص بهذه المراجعة هو: \u001b[32m\"الوقت و الجدول\"\u001b[0m\n",
       "\n",
       "* إذا كان نص المراجعة يتحدث عن الطريقة التي يتم بها تقديم المادة للطلاب أو عن الطريقة التي يتم بها تدريس المادة \n",
       "للطلاب فإن الموضوع الخاص بهذه المراجعة هو: \u001b[32m\"طريقة تدريس و تقديم المادة\"\u001b[0m\n",
       "\n",
       "* إذا كان نص المراجعة يتحدث عن الجانب البحثي للمادة أو عن الأوراق البحثية فإن الموضوع الخاص بهذه المراجعة هو: \n",
       "\u001b[32m\"الجانب البحثي و الأوراق البحثية\"\u001b[0m\n",
       "\n",
       "* إذا لم يحتو نص المراجعة على أي من الموضوعات السابقة فإن موضوع هذه المراحعة هو: \u001b[32m\"غير محدد\"\u001b[0m\n",
       "\n",
       "## ملحوظة: إذا وجدت أكثر من موضوع داخل المراجعة الواحدة يجب عليك استخراج الموضوع الموجود بكثرة داخل هذه المراجعة\n",
       "\n",
       "\n",
       "\"\n",
       "المراجعة:\n",
       "###\n",
       "المحتوى أكثر من رائع\n",
       "###\n",
       "\n",
       "## يجب عليك أن تكتب اسم الموضوع المستخرج فقط\n",
       "output: \n",
       "\n"
      ]
     },
     "metadata": {},
     "output_type": "display_data"
    }
   ],
   "source": [
    "print(format_one_example(example1)['messages'][1]['content'])"
   ]
  },
  {
   "cell_type": "code",
   "execution_count": 20,
   "id": "b48847b7-dca0-45a5-8d2c-a26100516a97",
   "metadata": {
    "tags": []
   },
   "outputs": [],
   "source": [
    "# model_name = 'meta-llama/Meta-Llama-3-70B-Instruct'\n",
    "# model_name = 'meta-llama/Meta-Llama-3-70B-Instruct'\n",
    "model_name = 'gpt-4o'\n",
    "def get_completion(review, model_name):\n",
    "    completion = client.chat.completions.create(\n",
    "        model=model_name,\n",
    "        temperature=0,\n",
    "        messages=format_one_example(review)['messages']\n",
    "    )\n",
    "    \n",
    "    return completion.choices[0].message.content"
   ]
  },
  {
   "cell_type": "code",
   "execution_count": 21,
   "id": "338c81e9-7aa0-4673-894b-0c072bed597f",
   "metadata": {
    "tags": []
   },
   "outputs": [],
   "source": [
    "def predict_gpt(item, model_name=model_name):\n",
    "    label = get_completion(item, model_name)\n",
    "    # result = json.loads(completion)\n",
    "    # pred_labels = [result.get(token, 'O') for token in item['tokens']]\n",
    "    # pred_labels = [v for k, v in result.items()]\n",
    "    # organizations = result['Organizations']\n",
    "    return label"
   ]
  },
  {
   "cell_type": "code",
   "execution_count": 22,
   "id": "4378114d-338a-4d21-82c1-d5c12b3acb7e",
   "metadata": {
    "tags": []
   },
   "outputs": [],
   "source": [
    "example1 = \"المحتوى أكثر من رائع\""
   ]
  },
  {
   "cell_type": "code",
   "execution_count": 23,
   "id": "09919ccf-8a9f-4c71-86bd-1bfece285a43",
   "metadata": {
    "tags": []
   },
   "outputs": [
    {
     "data": {
      "text/plain": [
       "'محتوى ومعلومات المقرر'"
      ]
     },
     "execution_count": 23,
     "metadata": {},
     "output_type": "execute_result"
    }
   ],
   "source": [
    "predict_gpt(example1)"
   ]
  },
  {
   "cell_type": "code",
   "execution_count": 24,
   "id": "69f42510-908d-438b-bd49-16ae52c2ec34",
   "metadata": {
    "tags": []
   },
   "outputs": [],
   "source": [
    "train_data_path = '../../data/result/train_df.csv'\n",
    "test_data_path = '../../data/result/test_df.csv'\n",
    "train_data = pd.read_csv(train_data_path)\n",
    "test_data = pd.read_csv(test_data_path)"
   ]
  },
  {
   "cell_type": "code",
   "execution_count": 25,
   "id": "0fbeb153-b1f3-445b-b4ef-921de3da1178",
   "metadata": {
    "tags": []
   },
   "outputs": [
    {
     "data": {
      "text/plain": [
       "9"
      ]
     },
     "execution_count": 25,
     "metadata": {},
     "output_type": "execute_result"
    }
   ],
   "source": [
    "len(['موازنة الجزء العملي مع الجزء النظري' ,'محتوى ومعلومات المقرر',\n",
    " 'الوقت و الجدول' ,'دكتور المقرر' ,'طريقة تدريس و تقديم المادة', 'غير محدد',\n",
    " 'سوق العمل' ,'المتطلبات و المهام و الدرجات',\n",
    " 'الجانب البحثي و الأوراق البحثية'])\n",
    "\n"
   ]
  },
  {
   "cell_type": "code",
   "execution_count": 26,
   "id": "f8c81a00-be1e-402f-b8f3-65ce8f9878a7",
   "metadata": {
    "tags": []
   },
   "outputs": [
    {
     "data": {
      "text/html": [
       "<div>\n",
       "<style scoped>\n",
       "    .dataframe tbody tr th:only-of-type {\n",
       "        vertical-align: middle;\n",
       "    }\n",
       "\n",
       "    .dataframe tbody tr th {\n",
       "        vertical-align: top;\n",
       "    }\n",
       "\n",
       "    .dataframe thead th {\n",
       "        text-align: right;\n",
       "    }\n",
       "</style>\n",
       "<table border=\"1\" class=\"dataframe\">\n",
       "  <thead>\n",
       "    <tr style=\"text-align: right;\">\n",
       "      <th></th>\n",
       "      <th>column</th>\n",
       "      <th>text</th>\n",
       "      <th>topic_id</th>\n",
       "      <th>topic_name</th>\n",
       "    </tr>\n",
       "  </thead>\n",
       "  <tbody>\n",
       "    <tr>\n",
       "      <th>0</th>\n",
       "      <td>like</td>\n",
       "      <td>أكثر ما أعجبني: التطبيق العملي المحدث والمشابه...</td>\n",
       "      <td>3</td>\n",
       "      <td>موازنة الجزء العملي مع الجزء النظري</td>\n",
       "    </tr>\n",
       "    <tr>\n",
       "      <th>1</th>\n",
       "      <td>improve_course</td>\n",
       "      <td>اقتراحاتي للتحسين: التطبيق والبعد عن التدريس ا...</td>\n",
       "      <td>3</td>\n",
       "      <td>موازنة الجزء العملي مع الجزء النظري</td>\n",
       "    </tr>\n",
       "    <tr>\n",
       "      <th>2</th>\n",
       "      <td>like</td>\n",
       "      <td>أكثر ما أعجبني: the content</td>\n",
       "      <td>0</td>\n",
       "      <td>محتوى ومعلومات المقرر</td>\n",
       "    </tr>\n",
       "    <tr>\n",
       "      <th>3</th>\n",
       "      <td>improve_course</td>\n",
       "      <td>اقتراحاتي للتحسين: provide more new books</td>\n",
       "      <td>3</td>\n",
       "      <td>موازنة الجزء العملي مع الجزء النظري</td>\n",
       "    </tr>\n",
       "    <tr>\n",
       "      <th>4</th>\n",
       "      <td>improve_course</td>\n",
       "      <td>اقتراحاتي للتحسين: زيادة ساعات العملي</td>\n",
       "      <td>8</td>\n",
       "      <td>الوقت و الجدول</td>\n",
       "    </tr>\n",
       "  </tbody>\n",
       "</table>\n",
       "</div>"
      ],
      "text/plain": [
       "           column                                               text  \\\n",
       "0            like  أكثر ما أعجبني: التطبيق العملي المحدث والمشابه...   \n",
       "1  improve_course  اقتراحاتي للتحسين: التطبيق والبعد عن التدريس ا...   \n",
       "2            like                        أكثر ما أعجبني: the content   \n",
       "3  improve_course          اقتراحاتي للتحسين: provide more new books   \n",
       "4  improve_course              اقتراحاتي للتحسين: زيادة ساعات العملي   \n",
       "\n",
       "   topic_id                           topic_name  \n",
       "0         3  موازنة الجزء العملي مع الجزء النظري  \n",
       "1         3  موازنة الجزء العملي مع الجزء النظري  \n",
       "2         0                محتوى ومعلومات المقرر  \n",
       "3         3  موازنة الجزء العملي مع الجزء النظري  \n",
       "4         8                       الوقت و الجدول  "
      ]
     },
     "execution_count": 26,
     "metadata": {},
     "output_type": "execute_result"
    }
   ],
   "source": [
    "train_data.head()"
   ]
  },
  {
   "cell_type": "code",
   "execution_count": 31,
   "id": "dd00b080-b459-45c5-ab8c-b06f36ed35c9",
   "metadata": {
    "tags": []
   },
   "outputs": [
    {
     "data": {
      "text/html": [
       "<pre style=\"white-space:pre;overflow-x:auto;line-height:normal;font-family:Menlo,'DejaVu Sans Mono',consolas,'Courier New',monospace\">Annotate train data<span style=\"color: #808000; text-decoration-color: #808000\">...</span>\n",
       "</pre>\n"
      ],
      "text/plain": [
       "Annotate train data\u001b[33m...\u001b[0m\n"
      ]
     },
     "metadata": {},
     "output_type": "display_data"
    },
    {
     "name": "stderr",
     "output_type": "stream",
     "text": [
      "100%|██████████| 951/951 [09:39<00:00,  1.64it/s] \n"
     ]
    },
    {
     "data": {
      "text/html": [
       "<pre style=\"white-space:pre;overflow-x:auto;line-height:normal;font-family:Menlo,'DejaVu Sans Mono',consolas,'Courier New',monospace\">Annotate test data<span style=\"color: #808000; text-decoration-color: #808000\">...</span>\n",
       "</pre>\n"
      ],
      "text/plain": [
       "Annotate test data\u001b[33m...\u001b[0m\n"
      ]
     },
     "metadata": {},
     "output_type": "display_data"
    },
    {
     "name": "stderr",
     "output_type": "stream",
     "text": [
      "100%|██████████| 634/634 [05:45<00:00,  1.83it/s]\n"
     ]
    }
   ],
   "source": [
    "tqdm.pandas()\n",
    "\n",
    "print('Annotate train data...')\n",
    "train_data['topic_llm'] = train_data['text'].progress_apply(predict_gpt)\n",
    "print('Annotate test data...')\n",
    "test_data['topic_llm'] = test_data['text'].progress_apply(predict_gpt)"
   ]
  },
  {
   "cell_type": "code",
   "execution_count": 30,
   "id": "25ceb1e6-29d7-4e83-b20e-7aa841defff0",
   "metadata": {
    "tags": []
   },
   "outputs": [],
   "source": [
    "# for e in train_data['text'].sample(50):\n",
    "#     # print(e)\n",
    "#     print('topic:\\n', predict_gpt(e))\n",
    "#     print('----'*25)\n",
    "    "
   ]
  },
  {
   "cell_type": "code",
   "execution_count": 18,
   "id": "f0aed83f-2a50-47a2-a99c-dbe09ca84452",
   "metadata": {
    "tags": []
   },
   "outputs": [],
   "source": [
    "# train_data['sentiment'] = train_data['sentiment'].progress_apply(str.capitalize)\n",
    "# test_data['sentiment'] = test_data['sentiment'].progress_apply(str.capitalize)"
   ]
  },
  {
   "cell_type": "code",
   "execution_count": 32,
   "id": "9a5d8b1d-6a94-4cfc-b0e6-f8e9d65519bc",
   "metadata": {
    "tags": []
   },
   "outputs": [
    {
     "data": {
      "text/html": [
       "<div>\n",
       "<style scoped>\n",
       "    .dataframe tbody tr th:only-of-type {\n",
       "        vertical-align: middle;\n",
       "    }\n",
       "\n",
       "    .dataframe tbody tr th {\n",
       "        vertical-align: top;\n",
       "    }\n",
       "\n",
       "    .dataframe thead th {\n",
       "        text-align: right;\n",
       "    }\n",
       "</style>\n",
       "<table border=\"1\" class=\"dataframe\">\n",
       "  <thead>\n",
       "    <tr style=\"text-align: right;\">\n",
       "      <th></th>\n",
       "      <th>column</th>\n",
       "      <th>text</th>\n",
       "      <th>topic_id</th>\n",
       "      <th>topic_name</th>\n",
       "      <th>topic_llm</th>\n",
       "    </tr>\n",
       "  </thead>\n",
       "  <tbody>\n",
       "    <tr>\n",
       "      <th>0</th>\n",
       "      <td>like</td>\n",
       "      <td>أكثر ما أعجبني: التطبيق العملي المحدث والمشابه...</td>\n",
       "      <td>3</td>\n",
       "      <td>موازنة الجزء العملي مع الجزء النظري</td>\n",
       "      <td>موازنة الجزء العملي مع الجزء النظري</td>\n",
       "    </tr>\n",
       "    <tr>\n",
       "      <th>1</th>\n",
       "      <td>improve_course</td>\n",
       "      <td>اقتراحاتي للتحسين: التطبيق والبعد عن التدريس ا...</td>\n",
       "      <td>3</td>\n",
       "      <td>موازنة الجزء العملي مع الجزء النظري</td>\n",
       "      <td>طريقة تدريس و تقديم المادة</td>\n",
       "    </tr>\n",
       "    <tr>\n",
       "      <th>2</th>\n",
       "      <td>like</td>\n",
       "      <td>أكثر ما أعجبني: the content</td>\n",
       "      <td>0</td>\n",
       "      <td>محتوى ومعلومات المقرر</td>\n",
       "      <td>محتوى ومعلومات المقرر</td>\n",
       "    </tr>\n",
       "    <tr>\n",
       "      <th>3</th>\n",
       "      <td>improve_course</td>\n",
       "      <td>اقتراحاتي للتحسين: provide more new books</td>\n",
       "      <td>3</td>\n",
       "      <td>موازنة الجزء العملي مع الجزء النظري</td>\n",
       "      <td>محتوى ومعلومات المقرر</td>\n",
       "    </tr>\n",
       "    <tr>\n",
       "      <th>4</th>\n",
       "      <td>improve_course</td>\n",
       "      <td>اقتراحاتي للتحسين: زيادة ساعات العملي</td>\n",
       "      <td>8</td>\n",
       "      <td>الوقت و الجدول</td>\n",
       "      <td>موازنة الجزء العملي مع الجزء النظري</td>\n",
       "    </tr>\n",
       "  </tbody>\n",
       "</table>\n",
       "</div>"
      ],
      "text/plain": [
       "           column                                               text  \\\n",
       "0            like  أكثر ما أعجبني: التطبيق العملي المحدث والمشابه...   \n",
       "1  improve_course  اقتراحاتي للتحسين: التطبيق والبعد عن التدريس ا...   \n",
       "2            like                        أكثر ما أعجبني: the content   \n",
       "3  improve_course          اقتراحاتي للتحسين: provide more new books   \n",
       "4  improve_course              اقتراحاتي للتحسين: زيادة ساعات العملي   \n",
       "\n",
       "   topic_id                           topic_name  \\\n",
       "0         3  موازنة الجزء العملي مع الجزء النظري   \n",
       "1         3  موازنة الجزء العملي مع الجزء النظري   \n",
       "2         0                محتوى ومعلومات المقرر   \n",
       "3         3  موازنة الجزء العملي مع الجزء النظري   \n",
       "4         8                       الوقت و الجدول   \n",
       "\n",
       "                             topic_llm  \n",
       "0  موازنة الجزء العملي مع الجزء النظري  \n",
       "1           طريقة تدريس و تقديم المادة  \n",
       "2                محتوى ومعلومات المقرر  \n",
       "3                محتوى ومعلومات المقرر  \n",
       "4  موازنة الجزء العملي مع الجزء النظري  "
      ]
     },
     "execution_count": 32,
     "metadata": {},
     "output_type": "execute_result"
    }
   ],
   "source": [
    "train_data.head()"
   ]
  },
  {
   "cell_type": "code",
   "execution_count": 34,
   "id": "154165dd-3702-4735-a5ab-da09a8a99a0a",
   "metadata": {
    "tags": []
   },
   "outputs": [
    {
     "data": {
      "text/plain": [
       "9"
      ]
     },
     "execution_count": 34,
     "metadata": {},
     "output_type": "execute_result"
    }
   ],
   "source": [
    "len(train_data['topic_llm'].value_counts().index)"
   ]
  },
  {
   "cell_type": "code",
   "execution_count": 35,
   "id": "d4683f4c-dcaa-484b-9c86-5fa894f3f118",
   "metadata": {
    "tags": []
   },
   "outputs": [],
   "source": [
    "train_data['topic_llm'] = train_data['topic_llm'].apply(lambda x: \"الجانب البحثي و الأوراق البحثية\" if x == 'الجانب البحثي والأوراق البحثية' else x)\n",
    "test_data['topic_llm'] = test_data['topic_llm'].apply(lambda x: \"الجانب البحثي و الأوراق البحثية\" if x == 'الجانب البحثي والأوراق البحثية' else x)"
   ]
  },
  {
   "cell_type": "code",
   "execution_count": 36,
   "id": "f0c5a8da-de38-4d85-b787-d16e078f4c43",
   "metadata": {
    "tags": []
   },
   "outputs": [
    {
     "data": {
      "text/plain": [
       "محتوى ومعلومات المقرر                  0.228181\n",
       "دكتور المقرر                           0.187171\n",
       "موازنة الجزء العملي مع الجزء النظري    0.180862\n",
       "غير محدد                               0.149317\n",
       "المتطلبات و المهام و الدرجات           0.084122\n",
       "طريقة تدريس و تقديم المادة             0.056782\n",
       "الوقت و الجدول                         0.043113\n",
       "الجانب البحثي و الأوراق البحثية        0.036803\n",
       "سوق العمل                              0.033649\n",
       "Name: topic_llm, dtype: float64"
      ]
     },
     "execution_count": 36,
     "metadata": {},
     "output_type": "execute_result"
    }
   ],
   "source": [
    "train_data['topic_llm'].value_counts() / len(train_data)"
   ]
  },
  {
   "cell_type": "code",
   "execution_count": 39,
   "id": "462462e8-22c3-45b1-b5c7-1b01b349c3a4",
   "metadata": {
    "tags": []
   },
   "outputs": [
    {
     "data": {
      "text/plain": [
       "محتوى ومعلومات المقرر                  140\n",
       "دكتور المقرر                           125\n",
       "موازنة الجزء العملي مع الجزء النظري    105\n",
       "غير محدد                               100\n",
       "المتطلبات و المهام و الدرجات            53\n",
       "طريقة تدريس و تقديم المادة              36\n",
       "الوقت و الجدول                          26\n",
       "الجانب البحثي و الأوراق البحثية         25\n",
       "سوق العمل                               24\n",
       "Name: topic_llm, dtype: int64"
      ]
     },
     "execution_count": 39,
     "metadata": {},
     "output_type": "execute_result"
    }
   ],
   "source": [
    "test_data['topic_llm'].value_counts() # / len(test_data)"
   ]
  },
  {
   "cell_type": "code",
   "execution_count": 38,
   "id": "cfd1c58d-4a17-47b9-aaaf-8e039845b37c",
   "metadata": {
    "tags": []
   },
   "outputs": [
    {
     "data": {
      "text/html": [
       "<pre style=\"white-space:pre;overflow-x:auto;line-height:normal;font-family:Menlo,'DejaVu Sans Mono',consolas,'Courier New',monospace\">Saving<span style=\"color: #808000; text-decoration-color: #808000\">...</span>\n",
       "</pre>\n"
      ],
      "text/plain": [
       "Saving\u001b[33m...\u001b[0m\n"
      ]
     },
     "metadata": {},
     "output_type": "display_data"
    },
    {
     "data": {
      "text/html": [
       "<pre style=\"white-space:pre;overflow-x:auto;line-height:normal;font-family:Menlo,'DejaVu Sans Mono',consolas,'Courier New',monospace\">Saving<span style=\"color: #808000; text-decoration-color: #808000\">...</span>\n",
       "</pre>\n"
      ],
      "text/plain": [
       "Saving\u001b[33m...\u001b[0m\n"
      ]
     },
     "metadata": {},
     "output_type": "display_data"
    }
   ],
   "source": [
    "train_save_path = '../../data/result/train_with_topic_df_llm_gpt4o.csv'\n",
    "test_save_path = '../../data/result/test_with_topic_df_llm_gpt4o.csv'\n",
    "\n",
    "if os.path.exists(train_save_path):\n",
    "    print('The path exists!')\n",
    "else:\n",
    "    print('Saving...')\n",
    "    train_data.to_csv(train_save_path, index=False)\n",
    "    \n",
    "\n",
    "if os.path.exists(test_save_path):\n",
    "    print('The path exists!')\n",
    "else:\n",
    "    print('Saving...')\n",
    "    test_data.to_csv(test_save_path, index=False)"
   ]
  },
  {
   "cell_type": "code",
   "execution_count": null,
   "id": "fd7057fe-7a72-4e9d-9157-0706e4bd03b6",
   "metadata": {},
   "outputs": [],
   "source": []
  }
 ],
 "metadata": {
  "kernelspec": {
   "display_name": "Python 3 (ipykernel)",
   "language": "python",
   "name": "python3"
  },
  "language_info": {
   "codemirror_mode": {
    "name": "ipython",
    "version": 3
   },
   "file_extension": ".py",
   "mimetype": "text/x-python",
   "name": "python",
   "nbconvert_exporter": "python",
   "pygments_lexer": "ipython3",
   "version": "3.11.7"
  }
 },
 "nbformat": 4,
 "nbformat_minor": 5
}
