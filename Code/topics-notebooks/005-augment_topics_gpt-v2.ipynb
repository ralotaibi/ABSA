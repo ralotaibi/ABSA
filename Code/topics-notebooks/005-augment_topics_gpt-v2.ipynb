{
 "cells": [
  {
   "cell_type": "code",
   "execution_count": 1,
   "id": "a9597c7b-a75e-4549-9b11-3dd751bbdb8d",
   "metadata": {
    "tags": []
   },
   "outputs": [],
   "source": [
    "import pandas as pd\n",
    "import json\n",
    "from rich import print"
   ]
  },
  {
   "cell_type": "code",
   "execution_count": 2,
   "id": "3ad16c29-67eb-4321-a184-f992a0fd74af",
   "metadata": {
    "tags": []
   },
   "outputs": [],
   "source": [
    "augmentation_path = '../../data/data_augmentation/gpt_augmentation/final_augmentation_full_data_5_examples.json'\n",
    "with open(augmentation_path) as f:\n",
    "    augmentation_data_text = json.load(f)"
   ]
  },
  {
   "cell_type": "code",
   "execution_count": 3,
   "id": "ced8f68e-545e-4f6d-80c7-6c196af7b8ad",
   "metadata": {
    "tags": []
   },
   "outputs": [],
   "source": [
    "# data = pd.read_csv('../../data/cleansed_data/topics/first_iteration/label_issues_topics_majority_vote_first_iteration_logistic_regression(solved).csv')\n",
    "data = pd.read_csv('../../data/result/train_with_topic_df_majority_vote_gpt4o_preferred.csv')"
   ]
  },
  {
   "cell_type": "code",
   "execution_count": 4,
   "id": "9246c9af-1fba-43d7-bb82-2766fcf0fd6a",
   "metadata": {
    "tags": []
   },
   "outputs": [
    {
     "data": {
      "text/html": [
       "<div>\n",
       "<style scoped>\n",
       "    .dataframe tbody tr th:only-of-type {\n",
       "        vertical-align: middle;\n",
       "    }\n",
       "\n",
       "    .dataframe tbody tr th {\n",
       "        vertical-align: top;\n",
       "    }\n",
       "\n",
       "    .dataframe thead th {\n",
       "        text-align: right;\n",
       "    }\n",
       "</style>\n",
       "<table border=\"1\" class=\"dataframe\">\n",
       "  <thead>\n",
       "    <tr style=\"text-align: right;\">\n",
       "      <th></th>\n",
       "      <th>column</th>\n",
       "      <th>text</th>\n",
       "      <th>topic_id</th>\n",
       "      <th>topic_name</th>\n",
       "      <th>topic_llm</th>\n",
       "      <th>majority_vote</th>\n",
       "      <th>tie</th>\n",
       "    </tr>\n",
       "  </thead>\n",
       "  <tbody>\n",
       "    <tr>\n",
       "      <th>0</th>\n",
       "      <td>like</td>\n",
       "      <td>أكثر ما أعجبني: التطبيق العملي المحدث والمشابه...</td>\n",
       "      <td>3</td>\n",
       "      <td>موازنة الجزء العملي مع الجزء النظري</td>\n",
       "      <td>موازنة الجزء العملي مع الجزء النظري</td>\n",
       "      <td>موازنة الجزء العملي مع الجزء النظري</td>\n",
       "      <td>False</td>\n",
       "    </tr>\n",
       "    <tr>\n",
       "      <th>1</th>\n",
       "      <td>improve_course</td>\n",
       "      <td>اقتراحاتي للتحسين: التطبيق والبعد عن التدريس ا...</td>\n",
       "      <td>3</td>\n",
       "      <td>موازنة الجزء العملي مع الجزء النظري</td>\n",
       "      <td>طريقة تدريس و تقديم المادة</td>\n",
       "      <td>طريقة تدريس و تقديم المادة</td>\n",
       "      <td>False</td>\n",
       "    </tr>\n",
       "    <tr>\n",
       "      <th>2</th>\n",
       "      <td>like</td>\n",
       "      <td>أكثر ما أعجبني: the content</td>\n",
       "      <td>0</td>\n",
       "      <td>محتوى ومعلومات المقرر</td>\n",
       "      <td>محتوى ومعلومات المقرر</td>\n",
       "      <td>محتوى ومعلومات المقرر</td>\n",
       "      <td>False</td>\n",
       "    </tr>\n",
       "    <tr>\n",
       "      <th>3</th>\n",
       "      <td>improve_course</td>\n",
       "      <td>اقتراحاتي للتحسين: provide more new books</td>\n",
       "      <td>3</td>\n",
       "      <td>موازنة الجزء العملي مع الجزء النظري</td>\n",
       "      <td>محتوى ومعلومات المقرر</td>\n",
       "      <td>محتوى ومعلومات المقرر</td>\n",
       "      <td>False</td>\n",
       "    </tr>\n",
       "    <tr>\n",
       "      <th>4</th>\n",
       "      <td>improve_course</td>\n",
       "      <td>اقتراحاتي للتحسين: زيادة ساعات العملي</td>\n",
       "      <td>8</td>\n",
       "      <td>الوقت و الجدول</td>\n",
       "      <td>موازنة الجزء العملي مع الجزء النظري</td>\n",
       "      <td>موازنة الجزء العملي مع الجزء النظري</td>\n",
       "      <td>False</td>\n",
       "    </tr>\n",
       "  </tbody>\n",
       "</table>\n",
       "</div>"
      ],
      "text/plain": [
       "           column                                               text  \\\n",
       "0            like  أكثر ما أعجبني: التطبيق العملي المحدث والمشابه...   \n",
       "1  improve_course  اقتراحاتي للتحسين: التطبيق والبعد عن التدريس ا...   \n",
       "2            like                        أكثر ما أعجبني: the content   \n",
       "3  improve_course          اقتراحاتي للتحسين: provide more new books   \n",
       "4  improve_course              اقتراحاتي للتحسين: زيادة ساعات العملي   \n",
       "\n",
       "   topic_id                           topic_name  \\\n",
       "0         3  موازنة الجزء العملي مع الجزء النظري   \n",
       "1         3  موازنة الجزء العملي مع الجزء النظري   \n",
       "2         0                محتوى ومعلومات المقرر   \n",
       "3         3  موازنة الجزء العملي مع الجزء النظري   \n",
       "4         8                       الوقت و الجدول   \n",
       "\n",
       "                             topic_llm                        majority_vote  \\\n",
       "0  موازنة الجزء العملي مع الجزء النظري  موازنة الجزء العملي مع الجزء النظري   \n",
       "1           طريقة تدريس و تقديم المادة           طريقة تدريس و تقديم المادة   \n",
       "2                محتوى ومعلومات المقرر                محتوى ومعلومات المقرر   \n",
       "3                محتوى ومعلومات المقرر                محتوى ومعلومات المقرر   \n",
       "4  موازنة الجزء العملي مع الجزء النظري  موازنة الجزء العملي مع الجزء النظري   \n",
       "\n",
       "     tie  \n",
       "0  False  \n",
       "1  False  \n",
       "2  False  \n",
       "3  False  \n",
       "4  False  "
      ]
     },
     "execution_count": 4,
     "metadata": {},
     "output_type": "execute_result"
    }
   ],
   "source": [
    "data.head()"
   ]
  },
  {
   "cell_type": "code",
   "execution_count": 5,
   "id": "93c1a99a-ec9f-4267-b796-72f7d3d44638",
   "metadata": {
    "tags": []
   },
   "outputs": [
    {
     "data": {
      "text/html": [
       "<div>\n",
       "<style scoped>\n",
       "    .dataframe tbody tr th:only-of-type {\n",
       "        vertical-align: middle;\n",
       "    }\n",
       "\n",
       "    .dataframe tbody tr th {\n",
       "        vertical-align: top;\n",
       "    }\n",
       "\n",
       "    .dataframe thead th {\n",
       "        text-align: right;\n",
       "    }\n",
       "</style>\n",
       "<table border=\"1\" class=\"dataframe\">\n",
       "  <thead>\n",
       "    <tr style=\"text-align: right;\">\n",
       "      <th></th>\n",
       "      <th>text</th>\n",
       "      <th>topic_name</th>\n",
       "    </tr>\n",
       "  </thead>\n",
       "  <tbody>\n",
       "    <tr>\n",
       "      <th>0</th>\n",
       "      <td>أكثر ما أعجبني: التطبيق العملي المحدث والمشابه...</td>\n",
       "      <td>موازنة الجزء العملي مع الجزء النظري</td>\n",
       "    </tr>\n",
       "    <tr>\n",
       "      <th>1</th>\n",
       "      <td>اقتراحاتي للتحسين: التطبيق والبعد عن التدريس ا...</td>\n",
       "      <td>طريقة تدريس و تقديم المادة</td>\n",
       "    </tr>\n",
       "    <tr>\n",
       "      <th>2</th>\n",
       "      <td>أكثر ما أعجبني: the content</td>\n",
       "      <td>محتوى ومعلومات المقرر</td>\n",
       "    </tr>\n",
       "    <tr>\n",
       "      <th>3</th>\n",
       "      <td>اقتراحاتي للتحسين: provide more new books</td>\n",
       "      <td>محتوى ومعلومات المقرر</td>\n",
       "    </tr>\n",
       "    <tr>\n",
       "      <th>4</th>\n",
       "      <td>اقتراحاتي للتحسين: زيادة ساعات العملي</td>\n",
       "      <td>موازنة الجزء العملي مع الجزء النظري</td>\n",
       "    </tr>\n",
       "  </tbody>\n",
       "</table>\n",
       "</div>"
      ],
      "text/plain": [
       "                                                text  \\\n",
       "0  أكثر ما أعجبني: التطبيق العملي المحدث والمشابه...   \n",
       "1  اقتراحاتي للتحسين: التطبيق والبعد عن التدريس ا...   \n",
       "2                        أكثر ما أعجبني: the content   \n",
       "3          اقتراحاتي للتحسين: provide more new books   \n",
       "4              اقتراحاتي للتحسين: زيادة ساعات العملي   \n",
       "\n",
       "                            topic_name  \n",
       "0  موازنة الجزء العملي مع الجزء النظري  \n",
       "1           طريقة تدريس و تقديم المادة  \n",
       "2                محتوى ومعلومات المقرر  \n",
       "3                محتوى ومعلومات المقرر  \n",
       "4  موازنة الجزء العملي مع الجزء النظري  "
      ]
     },
     "execution_count": 5,
     "metadata": {},
     "output_type": "execute_result"
    }
   ],
   "source": [
    "data = data.drop(columns=['column', 'topic_id', 'topic_name', 'topic_llm', 'tie'])\n",
    "data = data.rename(columns={'majority_vote': 'topic_name'})\n",
    "data.head()"
   ]
  },
  {
   "cell_type": "code",
   "execution_count": 6,
   "id": "30d9ce64-d41d-40c8-92e4-345237b0b9d7",
   "metadata": {
    "tags": []
   },
   "outputs": [],
   "source": [
    "def augment_one_class(data, augmentation_data, class_name, labels_col, augmentation_col, target_length, duplicate=False):\n",
    "    class_data = list(data[data[labels_col]==class_name][augmentation_col])\n",
    "    \n",
    "    if len(class_data) == 0:\n",
    "        raise ValueError(f\"Class '{class_name}' not found in column '{labels_col}'\")\n",
    "    \n",
    "    augmented = []\n",
    "    \n",
    "    num_augmentation_examples = len(list(augmentation_data.values())[0])\n",
    "    \n",
    "    flag = False\n",
    "    for i in range(num_augmentation_examples):\n",
    "        for example in class_data:\n",
    "            if len(class_data + augmented) >= target_length:\n",
    "                flag = True\n",
    "                break\n",
    "            augmented.append(list(augmentation_data[example].values())[i])\n",
    "        \n",
    "        if flag:\n",
    "            break\n",
    "    \n",
    "    if duplicate:\n",
    "        if len(class_data + augmented) < target_length:\n",
    "            for example in class_data:\n",
    "                augmented.append(example)\n",
    "                if len(class_data + augmented) >= target_length:\n",
    "                    break\n",
    "        \n",
    "            \n",
    "            for example in augmented.copy():\n",
    "                if len(class_data + augmented) >= target_length:\n",
    "                    break\n",
    "                \n",
    "                augmented.append(example)\n",
    "                \n",
    "    augmented_df = pd.DataFrame()\n",
    "    augmented_df[augmentation_col] = augmented\n",
    "    augmented_df[labels_col] = class_name\n",
    "    \n",
    "    return pd.concat([data, augmented_df], ignore_index=True)"
   ]
  },
  {
   "cell_type": "code",
   "execution_count": 7,
   "id": "ffdfeb43-1781-4fa6-a189-825da81577f8",
   "metadata": {
    "tags": []
   },
   "outputs": [
    {
     "data": {
      "text/plain": [
       "محتوى ومعلومات المقرر                  226\n",
       "دكتور المقرر                           176\n",
       "موازنة الجزء العملي مع الجزء النظري    166\n",
       "غير محدد                               131\n",
       "المتطلبات و المهام و الدرجات            74\n",
       "طريقة تدريس و تقديم المادة              73\n",
       "الوقت و الجدول                          39\n",
       "الجانب البحثي و الأوراق البحثية         35\n",
       "سوق العمل                               31\n",
       "Name: topic_name, dtype: int64"
      ]
     },
     "execution_count": 7,
     "metadata": {},
     "output_type": "execute_result"
    }
   ],
   "source": [
    "data.topic_name.value_counts()"
   ]
  },
  {
   "cell_type": "code",
   "execution_count": 8,
   "id": "1f06306c-94df-4860-90ec-719549671d81",
   "metadata": {
    "tags": []
   },
   "outputs": [
    {
     "data": {
      "text/plain": [
       "951"
      ]
     },
     "execution_count": 8,
     "metadata": {},
     "output_type": "execute_result"
    }
   ],
   "source": [
    "len(data)"
   ]
  },
  {
   "cell_type": "code",
   "execution_count": 9,
   "id": "af5b72d5-4222-4296-be4e-859c3b9cebe0",
   "metadata": {
    "tags": []
   },
   "outputs": [],
   "source": [
    "minority_classes = [\n",
    "    \"طريقة تدريس و تقديم المادة\",\n",
    "    \"المتطلبات و المهام و الدرجات\",\n",
    "    \"الوقت و الجدول\",\n",
    "    \"الجانب البحثي و الأوراق البحثية\",\n",
    "    \"سوق العمل\"\n",
    "]"
   ]
  },
  {
   "cell_type": "code",
   "execution_count": 10,
   "id": "ceb563cd-f898-4ad9-900f-268371550623",
   "metadata": {
    "tags": []
   },
   "outputs": [],
   "source": [
    "minority = False\n",
    "duplicate = False\n",
    "target_length = 222"
   ]
  },
  {
   "cell_type": "code",
   "execution_count": 11,
   "id": "a59de8a1-7678-4cb1-8465-cb3b7b67df8d",
   "metadata": {
    "tags": []
   },
   "outputs": [],
   "source": [
    "if minority:\n",
    "    classes_to_augment = minority_classes\n",
    "else:\n",
    "    classes_to_augment = list(data['topic_name'].unique())\n",
    "\n",
    "for class_name in classes_to_augment:\n",
    "    \n",
    "    data = augment_one_class(\n",
    "        data=data, augmentation_data=augmentation_data_text, class_name=class_name, labels_col='topic_name',\n",
    "        augmentation_col='text',target_length=target_length, duplicate=duplicate\n",
    "    )"
   ]
  },
  {
   "cell_type": "code",
   "execution_count": 12,
   "id": "df77b321-6b94-4e91-a5c1-532ed8b56cdd",
   "metadata": {
    "tags": []
   },
   "outputs": [
    {
     "data": {
      "text/plain": [
       "1954"
      ]
     },
     "execution_count": 12,
     "metadata": {},
     "output_type": "execute_result"
    }
   ],
   "source": [
    "len(data)"
   ]
  },
  {
   "cell_type": "code",
   "execution_count": 13,
   "id": "01349776-acd0-4a03-951e-f6cefcaab101",
   "metadata": {
    "tags": []
   },
   "outputs": [
    {
     "data": {
      "text/plain": [
       "محتوى ومعلومات المقرر                  226\n",
       "موازنة الجزء العملي مع الجزء النظري    222\n",
       "طريقة تدريس و تقديم المادة             222\n",
       "دكتور المقرر                           222\n",
       "غير محدد                               222\n",
       "المتطلبات و المهام و الدرجات           222\n",
       "الوقت و الجدول                         222\n",
       "الجانب البحثي و الأوراق البحثية        210\n",
       "سوق العمل                              186\n",
       "Name: topic_name, dtype: int64"
      ]
     },
     "execution_count": 13,
     "metadata": {},
     "output_type": "execute_result"
    }
   ],
   "source": [
    "data.topic_name.value_counts()"
   ]
  },
  {
   "cell_type": "code",
   "execution_count": 14,
   "id": "5d813c80-da3f-44ee-96bc-4c180e890353",
   "metadata": {
    "tags": []
   },
   "outputs": [
    {
     "data": {
      "text/html": [
       "<div>\n",
       "<style scoped>\n",
       "    .dataframe tbody tr th:only-of-type {\n",
       "        vertical-align: middle;\n",
       "    }\n",
       "\n",
       "    .dataframe tbody tr th {\n",
       "        vertical-align: top;\n",
       "    }\n",
       "\n",
       "    .dataframe thead th {\n",
       "        text-align: right;\n",
       "    }\n",
       "</style>\n",
       "<table border=\"1\" class=\"dataframe\">\n",
       "  <thead>\n",
       "    <tr style=\"text-align: right;\">\n",
       "      <th></th>\n",
       "      <th>text</th>\n",
       "      <th>topic_name</th>\n",
       "    </tr>\n",
       "  </thead>\n",
       "  <tbody>\n",
       "    <tr>\n",
       "      <th>0</th>\n",
       "      <td>أكثر ما أعجبني: التطبيق العملي المحدث والمشابه...</td>\n",
       "      <td>موازنة الجزء العملي مع الجزء النظري</td>\n",
       "    </tr>\n",
       "    <tr>\n",
       "      <th>1</th>\n",
       "      <td>اقتراحاتي للتحسين: التطبيق والبعد عن التدريس ا...</td>\n",
       "      <td>طريقة تدريس و تقديم المادة</td>\n",
       "    </tr>\n",
       "    <tr>\n",
       "      <th>2</th>\n",
       "      <td>أكثر ما أعجبني: the content</td>\n",
       "      <td>محتوى ومعلومات المقرر</td>\n",
       "    </tr>\n",
       "    <tr>\n",
       "      <th>3</th>\n",
       "      <td>اقتراحاتي للتحسين: provide more new books</td>\n",
       "      <td>محتوى ومعلومات المقرر</td>\n",
       "    </tr>\n",
       "    <tr>\n",
       "      <th>4</th>\n",
       "      <td>اقتراحاتي للتحسين: زيادة ساعات العملي</td>\n",
       "      <td>موازنة الجزء العملي مع الجزء النظري</td>\n",
       "    </tr>\n",
       "  </tbody>\n",
       "</table>\n",
       "</div>"
      ],
      "text/plain": [
       "                                                text  \\\n",
       "0  أكثر ما أعجبني: التطبيق العملي المحدث والمشابه...   \n",
       "1  اقتراحاتي للتحسين: التطبيق والبعد عن التدريس ا...   \n",
       "2                        أكثر ما أعجبني: the content   \n",
       "3          اقتراحاتي للتحسين: provide more new books   \n",
       "4              اقتراحاتي للتحسين: زيادة ساعات العملي   \n",
       "\n",
       "                            topic_name  \n",
       "0  موازنة الجزء العملي مع الجزء النظري  \n",
       "1           طريقة تدريس و تقديم المادة  \n",
       "2                محتوى ومعلومات المقرر  \n",
       "3                محتوى ومعلومات المقرر  \n",
       "4  موازنة الجزء العملي مع الجزء النظري  "
      ]
     },
     "execution_count": 14,
     "metadata": {},
     "output_type": "execute_result"
    }
   ],
   "source": [
    "data.head()"
   ]
  },
  {
   "cell_type": "code",
   "execution_count": 15,
   "id": "4d462f27-4a4a-4f96-9d89-7b09999cdf9c",
   "metadata": {
    "tags": []
   },
   "outputs": [],
   "source": [
    "random_state = 42"
   ]
  },
  {
   "cell_type": "code",
   "execution_count": 16,
   "id": "452ad514-484c-4422-96dd-4221aee39d5c",
   "metadata": {
    "tags": []
   },
   "outputs": [],
   "source": [
    "data = data.sample(frac=1.0, random_state=random_state)"
   ]
  },
  {
   "cell_type": "markdown",
   "id": "2fb80b8d-1619-4e28-9c7b-f5ecced9008f",
   "metadata": {},
   "source": [
    "# convert to hf dataset"
   ]
  },
  {
   "cell_type": "code",
   "execution_count": 17,
   "id": "ecf92c6d-e555-45a0-8aab-eea36a4703b5",
   "metadata": {
    "tags": []
   },
   "outputs": [],
   "source": [
    "from datasets import Dataset, Value, ClassLabel, Features, DatasetDict, load_dataset, load_from_disk"
   ]
  },
  {
   "cell_type": "code",
   "execution_count": 18,
   "id": "8566aaa7-5404-4e7f-843e-f52d560e8b23",
   "metadata": {
    "tags": []
   },
   "outputs": [
    {
     "data": {
      "text/plain": [
       "['الجانب البحثي و الأوراق البحثية',\n",
       " 'المتطلبات و المهام و الدرجات',\n",
       " 'الوقت و الجدول',\n",
       " 'دكتور المقرر',\n",
       " 'سوق العمل',\n",
       " 'طريقة تدريس و تقديم المادة',\n",
       " 'غير محدد',\n",
       " 'محتوى ومعلومات المقرر',\n",
       " 'موازنة الجزء العملي مع الجزء النظري']"
      ]
     },
     "execution_count": 18,
     "metadata": {},
     "output_type": "execute_result"
    }
   ],
   "source": [
    "topic_names = sorted(data['topic_name'].unique().tolist())\n",
    "topic_names"
   ]
  },
  {
   "cell_type": "code",
   "execution_count": 19,
   "id": "47f4924d-1f4f-4a4f-b56a-263c63acf7e8",
   "metadata": {
    "tags": []
   },
   "outputs": [],
   "source": [
    "features = Features(\n",
    "    {\n",
    "        'id': Value(dtype='string'),\n",
    "        'text': Value(dtype='string'),\n",
    "        'labels': ClassLabel(names=topic_names, num_classes=len(topic_names), id=None)\n",
    "    }\n",
    ")"
   ]
  },
  {
   "cell_type": "code",
   "execution_count": 20,
   "id": "d2f10885-e878-40db-85be-14e93f2ff84b",
   "metadata": {
    "tags": []
   },
   "outputs": [
    {
     "data": {
      "text/html": [
       "<pre style=\"white-space:pre;overflow-x:auto;line-height:normal;font-family:Menlo,'DejaVu Sans Mono',consolas,'Courier New',monospace\"><span style=\"font-weight: bold\">{</span>\n",
       "    <span style=\"color: #008000; text-decoration-color: #008000\">'id'</span>: <span style=\"color: #800080; text-decoration-color: #800080; font-weight: bold\">Value</span><span style=\"font-weight: bold\">(</span><span style=\"color: #808000; text-decoration-color: #808000\">dtype</span>=<span style=\"color: #008000; text-decoration-color: #008000\">'string'</span>, <span style=\"color: #808000; text-decoration-color: #808000\">id</span>=<span style=\"color: #800080; text-decoration-color: #800080; font-style: italic\">None</span><span style=\"font-weight: bold\">)</span>,\n",
       "    <span style=\"color: #008000; text-decoration-color: #008000\">'text'</span>: <span style=\"color: #800080; text-decoration-color: #800080; font-weight: bold\">Value</span><span style=\"font-weight: bold\">(</span><span style=\"color: #808000; text-decoration-color: #808000\">dtype</span>=<span style=\"color: #008000; text-decoration-color: #008000\">'string'</span>, <span style=\"color: #808000; text-decoration-color: #808000\">id</span>=<span style=\"color: #800080; text-decoration-color: #800080; font-style: italic\">None</span><span style=\"font-weight: bold\">)</span>,\n",
       "    <span style=\"color: #008000; text-decoration-color: #008000\">'labels'</span>: <span style=\"color: #800080; text-decoration-color: #800080; font-weight: bold\">ClassLabel</span><span style=\"font-weight: bold\">(</span>\n",
       "        <span style=\"color: #808000; text-decoration-color: #808000\">names</span>=<span style=\"font-weight: bold\">[</span>\n",
       "            <span style=\"color: #008000; text-decoration-color: #008000\">'الجانب البحثي و الأوراق البحثية'</span>,\n",
       "            <span style=\"color: #008000; text-decoration-color: #008000\">'المتطلبات و المهام و الدرجات'</span>,\n",
       "            <span style=\"color: #008000; text-decoration-color: #008000\">'الوقت و الجدول'</span>,\n",
       "            <span style=\"color: #008000; text-decoration-color: #008000\">'دكتور المقرر'</span>,\n",
       "            <span style=\"color: #008000; text-decoration-color: #008000\">'سوق العمل'</span>,\n",
       "            <span style=\"color: #008000; text-decoration-color: #008000\">'طريقة تدريس و تقديم المادة'</span>,\n",
       "            <span style=\"color: #008000; text-decoration-color: #008000\">'غير محدد'</span>,\n",
       "            <span style=\"color: #008000; text-decoration-color: #008000\">'محتوى ومعلومات المقرر'</span>,\n",
       "            <span style=\"color: #008000; text-decoration-color: #008000\">'موازنة الجزء العملي مع الجزء النظري'</span>\n",
       "        <span style=\"font-weight: bold\">]</span>,\n",
       "        <span style=\"color: #808000; text-decoration-color: #808000\">id</span>=<span style=\"color: #800080; text-decoration-color: #800080; font-style: italic\">None</span>\n",
       "    <span style=\"font-weight: bold\">)</span>\n",
       "<span style=\"font-weight: bold\">}</span>\n",
       "</pre>\n"
      ],
      "text/plain": [
       "\u001b[1m{\u001b[0m\n",
       "    \u001b[32m'id'\u001b[0m: \u001b[1;35mValue\u001b[0m\u001b[1m(\u001b[0m\u001b[33mdtype\u001b[0m=\u001b[32m'string'\u001b[0m, \u001b[33mid\u001b[0m=\u001b[3;35mNone\u001b[0m\u001b[1m)\u001b[0m,\n",
       "    \u001b[32m'text'\u001b[0m: \u001b[1;35mValue\u001b[0m\u001b[1m(\u001b[0m\u001b[33mdtype\u001b[0m=\u001b[32m'string'\u001b[0m, \u001b[33mid\u001b[0m=\u001b[3;35mNone\u001b[0m\u001b[1m)\u001b[0m,\n",
       "    \u001b[32m'labels'\u001b[0m: \u001b[1;35mClassLabel\u001b[0m\u001b[1m(\u001b[0m\n",
       "        \u001b[33mnames\u001b[0m=\u001b[1m[\u001b[0m\n",
       "            \u001b[32m'الجانب البحثي و الأوراق البحثية'\u001b[0m,\n",
       "            \u001b[32m'المتطلبات و المهام و الدرجات'\u001b[0m,\n",
       "            \u001b[32m'الوقت و الجدول'\u001b[0m,\n",
       "            \u001b[32m'دكتور المقرر'\u001b[0m,\n",
       "            \u001b[32m'سوق العمل'\u001b[0m,\n",
       "            \u001b[32m'طريقة تدريس و تقديم المادة'\u001b[0m,\n",
       "            \u001b[32m'غير محدد'\u001b[0m,\n",
       "            \u001b[32m'محتوى ومعلومات المقرر'\u001b[0m,\n",
       "            \u001b[32m'موازنة الجزء العملي مع الجزء النظري'\u001b[0m\n",
       "        \u001b[1m]\u001b[0m,\n",
       "        \u001b[33mid\u001b[0m=\u001b[3;35mNone\u001b[0m\n",
       "    \u001b[1m)\u001b[0m\n",
       "\u001b[1m}\u001b[0m\n"
      ]
     },
     "metadata": {},
     "output_type": "display_data"
    }
   ],
   "source": [
    "print(features)"
   ]
  },
  {
   "cell_type": "code",
   "execution_count": 21,
   "id": "cfa054e7-316e-46ca-a2a9-3545be8fed21",
   "metadata": {
    "tags": []
   },
   "outputs": [],
   "source": [
    "hf_dataset = DatasetDict({\n",
    "    'train': Dataset.from_dict(\n",
    "        {\n",
    "            'id': list(data.index.astype(str)),\n",
    "            'text': list(data['text']),\n",
    "            'labels': list(data['topic_name'])\n",
    "        },\n",
    "        features=features\n",
    "    )\n",
    "})"
   ]
  },
  {
   "cell_type": "code",
   "execution_count": 22,
   "id": "3cbc3d2d-e926-4369-ae97-2bc3c7e41bd7",
   "metadata": {
    "tags": []
   },
   "outputs": [],
   "source": [
    "hf_path = '../../data/result/final_topic_hf_dataseet_full_augmentation_balanced1'"
   ]
  },
  {
   "cell_type": "code",
   "execution_count": 23,
   "id": "aa714cae-9b83-47bd-8600-7d7a8ae39a5c",
   "metadata": {
    "tags": []
   },
   "outputs": [
    {
     "data": {
      "application/vnd.jupyter.widget-view+json": {
       "model_id": "efd2415c2db94c24ac15a4836d7a67bc",
       "version_major": 2,
       "version_minor": 0
      },
      "text/plain": [
       "Saving the dataset (0/1 shards):   0%|          | 0/1954 [00:00<?, ? examples/s]"
      ]
     },
     "metadata": {},
     "output_type": "display_data"
    }
   ],
   "source": [
    "hf_dataset.save_to_disk(hf_path)"
   ]
  },
  {
   "cell_type": "code",
   "execution_count": null,
   "id": "eb37bcc2-33a9-4110-aca5-81acffe823e3",
   "metadata": {},
   "outputs": [],
   "source": []
  }
 ],
 "metadata": {
  "kernelspec": {
   "display_name": "Python 3 (ipykernel)",
   "language": "python",
   "name": "python3"
  },
  "language_info": {
   "codemirror_mode": {
    "name": "ipython",
    "version": 3
   },
   "file_extension": ".py",
   "mimetype": "text/x-python",
   "name": "python",
   "nbconvert_exporter": "python",
   "pygments_lexer": "ipython3",
   "version": "3.11.7"
  }
 },
 "nbformat": 4,
 "nbformat_minor": 5
}
