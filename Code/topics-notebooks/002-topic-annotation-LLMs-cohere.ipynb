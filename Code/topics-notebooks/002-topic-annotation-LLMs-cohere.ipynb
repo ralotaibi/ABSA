{
 "cells": [
  {
   "cell_type": "markdown",
   "id": "ae965e4e-7ed4-46bc-9935-35bb753f3d7d",
   "metadata": {},
   "source": [
    "### In this notebook, we use cohere command r plus for topic annotation"
   ]
  },
  {
   "cell_type": "code",
   "execution_count": 3,
   "id": "20274818-1e65-49e1-a417-116dcfc2b537",
   "metadata": {
    "tags": []
   },
   "outputs": [],
   "source": [
    "from rich import print\n",
    "import json\n",
    "from tqdm import tqdm\n",
    "from dotenv import load_dotenv, find_dotenv\n",
    "import os\n",
    "from openai import OpenAI\n",
    "import cohere\n",
    "import pandas as pd\n",
    "from tqdm import tqdm"
   ]
  },
  {
   "cell_type": "code",
   "execution_count": 4,
   "id": "def3e58f-c41d-4248-b8e4-645d636ad979",
   "metadata": {
    "tags": []
   },
   "outputs": [],
   "source": [
    "_ = load_dotenv(find_dotenv())\n",
    "api_key = os.environ['OPENAI_API_KEY']\n",
    "\n",
    "# base_url = os.environ['OPENAI_BASE_URL']\n",
    "co = cohere.Client()"
   ]
  },
  {
   "cell_type": "code",
   "execution_count": 5,
   "id": "03d002c3-36b9-4c9f-950c-5ae16365ab44",
   "metadata": {
    "tags": []
   },
   "outputs": [
    {
     "data": {
      "text/plain": [
       "'/notebooks/ABSA-for-Open-Ended-Qs-in-Education-Surveys/notebooks/label_cleansing'"
      ]
     },
     "execution_count": 5,
     "metadata": {},
     "output_type": "execute_result"
    }
   ],
   "source": [
    "pwd"
   ]
  },
  {
   "cell_type": "code",
   "execution_count": 6,
   "id": "05330e9b-d272-4c66-b9d0-978129843a11",
   "metadata": {
    "tags": []
   },
   "outputs": [],
   "source": [
    "example1 = \"المحتوى أكثر من رائع\""
   ]
  },
  {
   "cell_type": "code",
   "execution_count": 7,
   "id": "d8af00df-d992-46d3-a43d-8ece6bd1c4d7",
   "metadata": {
    "tags": []
   },
   "outputs": [],
   "source": [
    "system_message = \"\"\"\n",
    "سوف تتلقى مراجعة حول بعض الخدمات التعليمية، ومهمتك هي معرفة الموضوع الذي تتجذث عنه كل مراجعة.\n",
    "قد تكون المراجعة باللغة الإنجليزية، أو باللغة العربية، أو كليهما.\n",
    "خيارات الإخراج المسموح بها هي ما يلي:\n",
    "\n",
    "* محتوى ومعلومات المقرر\n",
    "* موازنة الجزء العملي مع الجزء النظري\n",
    "* غير محدد\n",
    "* سوق العمل\n",
    "* المتطلبات و المهام و الدرجات\n",
    "* دكتور المقرر\n",
    "* الوقت و الجدول\n",
    "* طريقة تدريس و تقديم المادة\n",
    "* الجانب البحثي والأوراق البحثية\n",
    "\"\"\""
   ]
  },
  {
   "cell_type": "code",
   "execution_count": 8,
   "id": "5777aa95-b2be-4e43-9562-9fdcde7f26c3",
   "metadata": {
    "tags": []
   },
   "outputs": [],
   "source": [
    "user_template = \"\"\"\n",
    "عليك أن تستخرج الموضوع الخاص بالمراجعة التالية. \n",
    "\n",
    "## كيفية استخراج الموضع الخاص بالمراجعة:\n",
    "* إذا كان نص المراجعة يتحدث عن المقرر الدراسي و المعلومات الواردة في هذا المقرر فإن الموضوع الخاص بهذه المراجعة هو: \"محتوى ومعلومات المقرر\"\n",
    "\n",
    "* إذا كان نص المراجعة يتحدث عن الجزء العملي و أهميته و أهمية تناسبه مع الجزء النظري فإن الموضوع الخاص بهذه المراجعة هو: \"موازنة الجزء العملي مع الجزء النظري\"\n",
    "\n",
    "* إذا كان نص المراجعة يتحدث عن سوق العمل و مدى ارتباط المنهج بسوق العمل فإن الموضوع الخاص يهذه المراجعة هو: \"سوق العمل\"\n",
    "\n",
    "* إذا كان نص المراجعة يتحدث عن الأشياء المطلوب من الطلاب أن يقوموا بها أو عن درجات الطلاب فإن الموضوع الخاص بهذه المراجعة هو: \"المتطلبات و المهام و الدرجات\"\n",
    "\n",
    "* إذا كان نص المراجعة يتحدث عن الدكتور الذي يشرح المادة فإن الموضوع الخاص بهذه المراجعة هو: \"دكتور المقرر\"\n",
    "\n",
    "* إذا كان نص المراجعة يتحدث عن الخط الزمني لدراسة المادة أو عن جدول تدريس المادة و جدول الإمتحانات و التسليمات فإن الموضوع الخاص بهذه المراجعة هو: \"الوقت و الجدول\"\n",
    "\n",
    "* إذا كان نص المراجعة يتحدث عن الطريقة التي يتم بها تقديم المادة للطلاب أو عن الطريقة التي يتم بها تدريس المادة للطلاب فإن الموضوع الخاص بهذه المراجعة هو: \"طريقة تدريس و تقديم المادة\"\n",
    "\n",
    "* إذا كان نص المراجعة يتحدث عن الجانب البحثي للمادة أو عن الأوراق البحثية فإن الموضوع الخاص بهذه المراجعة هو: \"الجانب البحثي و الأوراق البحثية\"\n",
    "\n",
    "* إذا لم يحتو نص المراجعة على أي من الموضوعات السابقة فإن موضوع هذه المراحعة هو: \"غير محدد\"\n",
    "\n",
    "## ملحوظة: إذا وجدت أكثر من موضوع داخل المراجعة الواحدة يجب عليك استخراج الموضوع الموجود بكثرة داخل هذه المراجعة\n",
    "\n",
    "\n",
    "\"\n",
    "المراجعة:\n",
    "###\n",
    "{}\n",
    "###\n",
    "\n",
    "## يجب عليك أن تكتب اسم الموضوع المستخرج فقط\n",
    "output: \n",
    "\"\"\""
   ]
  },
  {
   "cell_type": "code",
   "execution_count": 9,
   "id": "9eadf9de-615d-4103-8efc-45aa27181e41",
   "metadata": {
    "tags": []
   },
   "outputs": [],
   "source": [
    "def format_user_message(template, text):\n",
    "    return template.format(text)\n"
   ]
  },
  {
   "cell_type": "code",
   "execution_count": 10,
   "id": "fdd7a40c-e0fe-4350-8048-0865bc510ed1",
   "metadata": {
    "tags": []
   },
   "outputs": [],
   "source": [
    "def format_one_example(review):\n",
    "    return {\n",
    "        \"messages\": [\n",
    "            {\n",
    "                \"role\": \"system\",\n",
    "                \"content\": system_message\n",
    "            },\n",
    "            {\n",
    "                \"role\": \"user\",\n",
    "                \"content\": format_user_message(user_template, review)\n",
    "            }\n",
    "        ]\n",
    "    }"
   ]
  },
  {
   "cell_type": "code",
   "execution_count": 11,
   "id": "1ddf2a75-c8f8-4275-bf8e-bb26c0ddfb99",
   "metadata": {
    "tags": []
   },
   "outputs": [
    {
     "data": {
      "text/html": [
       "<pre style=\"white-space:pre;overflow-x:auto;line-height:normal;font-family:Menlo,'DejaVu Sans Mono',consolas,'Courier New',monospace\">\n",
       "عليك أن تستخرج الموضوع الخاص بالمراجعة التالية. \n",
       "\n",
       "## كيفية استخراج الموضع الخاص بالمراجعة:\n",
       "* إذا كان نص المراجعة يتحدث عن المقرر الدراسي و المعلومات الواردة في هذا المقرر فإن الموضوع الخاص بهذه المراجعة هو:\n",
       "<span style=\"color: #008000; text-decoration-color: #008000\">\"محتوى ومعلومات المقرر\"</span>\n",
       "\n",
       "* إذا كان نص المراجعة يتحدث عن الجزء العملي و أهميته و أهمية تناسبه مع الجزء النظري فإن الموضوع الخاص بهذه المراجعة\n",
       "هو: <span style=\"color: #008000; text-decoration-color: #008000\">\"موازنة الجزء العملي مع الجزء النظري\"</span>\n",
       "\n",
       "* إذا كان نص المراجعة يتحدث عن سوق العمل و مدى ارتباط المنهج بسوق العمل فإن الموضوع الخاص يهذه المراجعة هو: <span style=\"color: #008000; text-decoration-color: #008000\">\"سوق </span>\n",
       "<span style=\"color: #008000; text-decoration-color: #008000\">العمل\"</span>\n",
       "\n",
       "* إذا كان نص المراجعة يتحدث عن الأشياء المطلوب من الطلاب أن يقوموا بها أو عن درجات الطلاب فإن الموضوع الخاص بهذه \n",
       "المراجعة هو: <span style=\"color: #008000; text-decoration-color: #008000\">\"المتطلبات و المهام و الدرجات\"</span>\n",
       "\n",
       "* إذا كان نص المراجعة يتحدث عن الدكتور الذي يشرح المادة فإن الموضوع الخاص بهذه المراجعة هو: <span style=\"color: #008000; text-decoration-color: #008000\">\"دكتور المقرر\"</span>\n",
       "\n",
       "* إذا كان نص المراجعة يتحدث عن الخط الزمني لدراسة المادة أو عن جدول تدريس المادة و جدول الإمتحانات و التسليمات فإن \n",
       "الموضوع الخاص بهذه المراجعة هو: <span style=\"color: #008000; text-decoration-color: #008000\">\"الوقت و الجدول\"</span>\n",
       "\n",
       "* إذا كان نص المراجعة يتحدث عن الطريقة التي يتم بها تقديم المادة للطلاب أو عن الطريقة التي يتم بها تدريس المادة \n",
       "للطلاب فإن الموضوع الخاص بهذه المراجعة هو: <span style=\"color: #008000; text-decoration-color: #008000\">\"طريقة تدريس و تقديم المادة\"</span>\n",
       "\n",
       "* إذا كان نص المراجعة يتحدث عن الجانب البحثي للمادة أو عن الأوراق البحثية فإن الموضوع الخاص بهذه المراجعة هو: \n",
       "<span style=\"color: #008000; text-decoration-color: #008000\">\"الجانب البحثي و الأوراق البحثية\"</span>\n",
       "\n",
       "* إذا لم يحتو نص المراجعة على أي من الموضوعات السابقة فإن موضوع هذه المراحعة هو: <span style=\"color: #008000; text-decoration-color: #008000\">\"غير محدد\"</span>\n",
       "\n",
       "## ملحوظة: إذا وجدت أكثر من موضوع داخل المراجعة الواحدة يجب عليك استخراج الموضوع الموجود بكثرة داخل هذه المراجعة\n",
       "\n",
       "\n",
       "\"\n",
       "المراجعة:\n",
       "###\n",
       "المحتوى أكثر من رائع\n",
       "###\n",
       "\n",
       "## يجب عليك أن تكتب اسم الموضوع المستخرج فقط\n",
       "output: \n",
       "\n",
       "</pre>\n"
      ],
      "text/plain": [
       "\n",
       "عليك أن تستخرج الموضوع الخاص بالمراجعة التالية. \n",
       "\n",
       "## كيفية استخراج الموضع الخاص بالمراجعة:\n",
       "* إذا كان نص المراجعة يتحدث عن المقرر الدراسي و المعلومات الواردة في هذا المقرر فإن الموضوع الخاص بهذه المراجعة هو:\n",
       "\u001b[32m\"محتوى ومعلومات المقرر\"\u001b[0m\n",
       "\n",
       "* إذا كان نص المراجعة يتحدث عن الجزء العملي و أهميته و أهمية تناسبه مع الجزء النظري فإن الموضوع الخاص بهذه المراجعة\n",
       "هو: \u001b[32m\"موازنة الجزء العملي مع الجزء النظري\"\u001b[0m\n",
       "\n",
       "* إذا كان نص المراجعة يتحدث عن سوق العمل و مدى ارتباط المنهج بسوق العمل فإن الموضوع الخاص يهذه المراجعة هو: \u001b[32m\"سوق \u001b[0m\n",
       "\u001b[32mالعمل\"\u001b[0m\n",
       "\n",
       "* إذا كان نص المراجعة يتحدث عن الأشياء المطلوب من الطلاب أن يقوموا بها أو عن درجات الطلاب فإن الموضوع الخاص بهذه \n",
       "المراجعة هو: \u001b[32m\"المتطلبات و المهام و الدرجات\"\u001b[0m\n",
       "\n",
       "* إذا كان نص المراجعة يتحدث عن الدكتور الذي يشرح المادة فإن الموضوع الخاص بهذه المراجعة هو: \u001b[32m\"دكتور المقرر\"\u001b[0m\n",
       "\n",
       "* إذا كان نص المراجعة يتحدث عن الخط الزمني لدراسة المادة أو عن جدول تدريس المادة و جدول الإمتحانات و التسليمات فإن \n",
       "الموضوع الخاص بهذه المراجعة هو: \u001b[32m\"الوقت و الجدول\"\u001b[0m\n",
       "\n",
       "* إذا كان نص المراجعة يتحدث عن الطريقة التي يتم بها تقديم المادة للطلاب أو عن الطريقة التي يتم بها تدريس المادة \n",
       "للطلاب فإن الموضوع الخاص بهذه المراجعة هو: \u001b[32m\"طريقة تدريس و تقديم المادة\"\u001b[0m\n",
       "\n",
       "* إذا كان نص المراجعة يتحدث عن الجانب البحثي للمادة أو عن الأوراق البحثية فإن الموضوع الخاص بهذه المراجعة هو: \n",
       "\u001b[32m\"الجانب البحثي و الأوراق البحثية\"\u001b[0m\n",
       "\n",
       "* إذا لم يحتو نص المراجعة على أي من الموضوعات السابقة فإن موضوع هذه المراحعة هو: \u001b[32m\"غير محدد\"\u001b[0m\n",
       "\n",
       "## ملحوظة: إذا وجدت أكثر من موضوع داخل المراجعة الواحدة يجب عليك استخراج الموضوع الموجود بكثرة داخل هذه المراجعة\n",
       "\n",
       "\n",
       "\"\n",
       "المراجعة:\n",
       "###\n",
       "المحتوى أكثر من رائع\n",
       "###\n",
       "\n",
       "## يجب عليك أن تكتب اسم الموضوع المستخرج فقط\n",
       "output: \n",
       "\n"
      ]
     },
     "metadata": {},
     "output_type": "display_data"
    }
   ],
   "source": [
    "print(format_one_example(example1)['messages'][1]['content'])"
   ]
  },
  {
   "cell_type": "code",
   "execution_count": 12,
   "id": "b48847b7-dca0-45a5-8d2c-a26100516a97",
   "metadata": {
    "tags": []
   },
   "outputs": [],
   "source": [
    "# model_name = 'meta-llama/Meta-Llama-3-70B-Instruct'\n",
    "# model_name = 'meta-llama/Meta-Llama-3-70B-Instruct'\n",
    "# model_name = 'gpt-4o'\n",
    "model_name = 'command-r-plus'\n",
    "def get_completion(review, model_name):\n",
    "    completion = co.chat(\n",
    "        model=model_name, preamble=format_one_example(review)['messages'][0]['content'], \n",
    "        temperature=0.0, message=format_one_example(review)['messages'][1]['content'],\n",
    "        chat_history = [{'role': 'SYSTEM', 'message': system_message}]\n",
    "    )\n",
    "    \n",
    "    return completion"
   ]
  },
  {
   "cell_type": "code",
   "execution_count": 13,
   "id": "338c81e9-7aa0-4673-894b-0c072bed597f",
   "metadata": {
    "tags": []
   },
   "outputs": [],
   "source": [
    "def predict_gpt(item, model_name=model_name):\n",
    "    label = get_completion(item, model_name)\n",
    "    # result = json.loads(completion)\n",
    "    # pred_labels = [result.get(token, 'O') for token in item['tokens']]\n",
    "    # pred_labels = [v for k, v in result.items()]\n",
    "    # organizations = result['Organizations']\n",
    "    return label.text"
   ]
  },
  {
   "cell_type": "code",
   "execution_count": 14,
   "id": "4378114d-338a-4d21-82c1-d5c12b3acb7e",
   "metadata": {
    "tags": []
   },
   "outputs": [],
   "source": [
    "example1 = \"the doctor is very helpful\""
   ]
  },
  {
   "cell_type": "code",
   "execution_count": 15,
   "id": "09919ccf-8a9f-4c71-86bd-1bfece285a43",
   "metadata": {
    "tags": []
   },
   "outputs": [
    {
     "data": {
      "text/html": [
       "<pre style=\"white-space:pre;overflow-x:auto;line-height:normal;font-family:Menlo,'DejaVu Sans Mono',consolas,'Courier New',monospace\"><span style=\"color: #800080; text-decoration-color: #800080; font-weight: bold\">NonStreamedChatResponse</span><span style=\"font-weight: bold\">(</span>\n",
       "    <span style=\"color: #808000; text-decoration-color: #808000\">text</span>=<span style=\"color: #008000; text-decoration-color: #008000\">'دكتور المقرر'</span>,\n",
       "    <span style=\"color: #808000; text-decoration-color: #808000\">generation_id</span>=<span style=\"color: #008000; text-decoration-color: #008000\">'7535a23e-3b1c-4984-a674-11d16b246492'</span>,\n",
       "    <span style=\"color: #808000; text-decoration-color: #808000\">citations</span>=<span style=\"color: #800080; text-decoration-color: #800080; font-style: italic\">None</span>,\n",
       "    <span style=\"color: #808000; text-decoration-color: #808000\">documents</span>=<span style=\"color: #800080; text-decoration-color: #800080; font-style: italic\">None</span>,\n",
       "    <span style=\"color: #808000; text-decoration-color: #808000\">is_search_required</span>=<span style=\"color: #800080; text-decoration-color: #800080; font-style: italic\">None</span>,\n",
       "    <span style=\"color: #808000; text-decoration-color: #808000\">search_queries</span>=<span style=\"color: #800080; text-decoration-color: #800080; font-style: italic\">None</span>,\n",
       "    <span style=\"color: #808000; text-decoration-color: #808000\">search_results</span>=<span style=\"color: #800080; text-decoration-color: #800080; font-style: italic\">None</span>,\n",
       "    <span style=\"color: #808000; text-decoration-color: #808000\">finish_reason</span>=<span style=\"color: #008000; text-decoration-color: #008000\">'COMPLETE'</span>,\n",
       "    <span style=\"color: #808000; text-decoration-color: #808000\">tool_calls</span>=<span style=\"color: #800080; text-decoration-color: #800080; font-style: italic\">None</span>,\n",
       "    <span style=\"color: #808000; text-decoration-color: #808000\">chat_history</span>=<span style=\"font-weight: bold\">[</span>\n",
       "        <span style=\"color: #800080; text-decoration-color: #800080; font-weight: bold\">Message_System</span><span style=\"font-weight: bold\">(</span>\n",
       "            <span style=\"color: #808000; text-decoration-color: #808000\">message</span>=<span style=\"color: #008000; text-decoration-color: #008000\">'\\nسوف تتلقى مراجعة حول بعض الخدمات التعليمية، ومهمتك هي معرفة الموضوع الذي تتجذث عنه كل </span>\n",
       "<span style=\"color: #008000; text-decoration-color: #008000\">مراجعة.\\nقد تكون المراجعة باللغة الإنجليزية، أو باللغة العربية، أو كليهما.\\nخيارات الإخراج المسموح بها هي ما </span>\n",
       "<span style=\"color: #008000; text-decoration-color: #008000\">يلي:\\n\\n* محتوى ومعلومات المقرر\\n* موازنة الجزء العملي مع الجزء النظري\\n* غير محدد\\n* سوق العمل\\n* المتطلبات و </span>\n",
       "<span style=\"color: #008000; text-decoration-color: #008000\">المهام و الدرجات\\n* دكتور المقرر\\n* الوقت و الجدول\\n* طريقة تدريس و تقديم المادة\\n* الجانب البحثي والأوراق </span>\n",
       "<span style=\"color: #008000; text-decoration-color: #008000\">البحثية\\n'</span>,\n",
       "            <span style=\"color: #808000; text-decoration-color: #808000\">tool_calls</span>=<span style=\"color: #800080; text-decoration-color: #800080; font-style: italic\">None</span>,\n",
       "            <span style=\"color: #808000; text-decoration-color: #808000\">role</span>=<span style=\"color: #008000; text-decoration-color: #008000\">'SYSTEM'</span>\n",
       "        <span style=\"font-weight: bold\">)</span>,\n",
       "        <span style=\"color: #800080; text-decoration-color: #800080; font-weight: bold\">Message_User</span><span style=\"font-weight: bold\">(</span>\n",
       "            <span style=\"color: #808000; text-decoration-color: #808000\">message</span>=<span style=\"color: #008000; text-decoration-color: #008000\">'\\nعليك أن تستخرج الموضوع الخاص بالمراجعة التالية. \\n\\n## كيفية استخراج الموضع الخاص </span>\n",
       "<span style=\"color: #008000; text-decoration-color: #008000\">بالمراجعة:\\n* إذا كان نص المراجعة يتحدث عن المقرر الدراسي و المعلومات الواردة في هذا المقرر فإن الموضوع الخاص بهذه </span>\n",
       "<span style=\"color: #008000; text-decoration-color: #008000\">المراجعة هو: \"محتوى ومعلومات المقرر\"\\n\\n* إذا كان نص المراجعة يتحدث عن الجزء العملي و أهميته و أهمية تناسبه مع </span>\n",
       "<span style=\"color: #008000; text-decoration-color: #008000\">الجزء النظري فإن الموضوع الخاص بهذه المراجعة هو: \"موازنة الجزء العملي مع الجزء النظري\"\\n\\n* إذا كان نص المراجعة </span>\n",
       "<span style=\"color: #008000; text-decoration-color: #008000\">يتحدث عن سوق العمل و مدى ارتباط المنهج بسوق العمل فإن الموضوع الخاص يهذه المراجعة هو: \"سوق العمل\"\\n\\n* إذا كان نص </span>\n",
       "<span style=\"color: #008000; text-decoration-color: #008000\">المراجعة يتحدث عن الأشياء المطلوب من الطلاب أن يقوموا بها أو عن درجات الطلاب فإن الموضوع الخاص بهذه المراجعة هو: </span>\n",
       "<span style=\"color: #008000; text-decoration-color: #008000\">\"المتطلبات و المهام و الدرجات\"\\n\\n* إذا كان نص المراجعة يتحدث عن الدكتور الذي يشرح المادة فإن الموضوع الخاص بهذه </span>\n",
       "<span style=\"color: #008000; text-decoration-color: #008000\">المراجعة هو: \"دكتور المقرر\"\\n\\n* إذا كان نص المراجعة يتحدث عن الخط الزمني لدراسة المادة أو عن جدول تدريس المادة و </span>\n",
       "<span style=\"color: #008000; text-decoration-color: #008000\">جدول الإمتحانات و التسليمات فإن الموضوع الخاص بهذه المراجعة هو: \"الوقت و الجدول\"\\n\\n* إذا كان نص المراجعة يتحدث عن </span>\n",
       "<span style=\"color: #008000; text-decoration-color: #008000\">الطريقة التي يتم بها تقديم المادة للطلاب أو عن الطريقة التي يتم بها تدريس المادة للطلاب فإن الموضوع الخاص بهذه </span>\n",
       "<span style=\"color: #008000; text-decoration-color: #008000\">المراجعة هو: \"طريقة تدريس و تقديم المادة\"\\n\\n* إذا كان نص المراجعة يتحدث عن الجانب البحثي للمادة أو عن الأوراق </span>\n",
       "<span style=\"color: #008000; text-decoration-color: #008000\">البحثية فإن الموضوع الخاص بهذه المراجعة هو: \"الجانب البحثي و الأوراق البحثية\"\\n\\n* إذا لم يحتو نص المراجعة على أي </span>\n",
       "<span style=\"color: #008000; text-decoration-color: #008000\">من الموضوعات السابقة فإن موضوع هذه المراحعة هو: \"غير محدد\"\\n\\n## ملحوظة: إذا وجدت أكثر من موضوع داخل المراجعة </span>\n",
       "<span style=\"color: #008000; text-decoration-color: #008000\">الواحدة يجب عليك استخراج الموضوع الموجود بكثرة داخل هذه المراجعة\\n\\n\\n\"\\nالمراجعة:\\n###\\nthe doctor is very </span>\n",
       "<span style=\"color: #008000; text-decoration-color: #008000\">helpful\\n###\\n\\n## يجب عليك أن تكتب اسم الموضوع المستخرج فقط\\noutput: \\n'</span>,\n",
       "            <span style=\"color: #808000; text-decoration-color: #808000\">tool_calls</span>=<span style=\"color: #800080; text-decoration-color: #800080; font-style: italic\">None</span>,\n",
       "            <span style=\"color: #808000; text-decoration-color: #808000\">role</span>=<span style=\"color: #008000; text-decoration-color: #008000\">'USER'</span>\n",
       "        <span style=\"font-weight: bold\">)</span>,\n",
       "        <span style=\"color: #800080; text-decoration-color: #800080; font-weight: bold\">Message_Chatbot</span><span style=\"font-weight: bold\">(</span><span style=\"color: #808000; text-decoration-color: #808000\">message</span>=<span style=\"color: #008000; text-decoration-color: #008000\">'دكتور المقرر'</span>, <span style=\"color: #808000; text-decoration-color: #808000\">tool_calls</span>=<span style=\"color: #800080; text-decoration-color: #800080; font-style: italic\">None</span>, <span style=\"color: #808000; text-decoration-color: #808000\">role</span>=<span style=\"color: #008000; text-decoration-color: #008000\">'CHATBOT'</span><span style=\"font-weight: bold\">)</span>\n",
       "    <span style=\"font-weight: bold\">]</span>,\n",
       "    <span style=\"color: #808000; text-decoration-color: #808000\">prompt</span>=<span style=\"color: #800080; text-decoration-color: #800080; font-style: italic\">None</span>,\n",
       "    <span style=\"color: #808000; text-decoration-color: #808000\">meta</span>=<span style=\"color: #800080; text-decoration-color: #800080; font-weight: bold\">ApiMeta</span><span style=\"font-weight: bold\">(</span>\n",
       "        <span style=\"color: #808000; text-decoration-color: #808000\">api_version</span>=<span style=\"color: #800080; text-decoration-color: #800080; font-weight: bold\">ApiMetaApiVersion</span><span style=\"font-weight: bold\">(</span><span style=\"color: #808000; text-decoration-color: #808000\">version</span>=<span style=\"color: #008000; text-decoration-color: #008000\">'1'</span>, <span style=\"color: #808000; text-decoration-color: #808000\">is_deprecated</span>=<span style=\"color: #800080; text-decoration-color: #800080; font-style: italic\">None</span>, <span style=\"color: #808000; text-decoration-color: #808000\">is_experimental</span>=<span style=\"color: #800080; text-decoration-color: #800080; font-style: italic\">None</span><span style=\"font-weight: bold\">)</span>,\n",
       "        <span style=\"color: #808000; text-decoration-color: #808000\">billed_units</span>=<span style=\"color: #800080; text-decoration-color: #800080; font-weight: bold\">ApiMetaBilledUnits</span><span style=\"font-weight: bold\">(</span>\n",
       "            <span style=\"color: #808000; text-decoration-color: #808000\">input_tokens</span>=<span style=\"color: #008080; text-decoration-color: #008080; font-weight: bold\">826</span>,\n",
       "            <span style=\"color: #808000; text-decoration-color: #808000\">output_tokens</span>=<span style=\"color: #008080; text-decoration-color: #008080; font-weight: bold\">5</span>,\n",
       "            <span style=\"color: #808000; text-decoration-color: #808000\">search_units</span>=<span style=\"color: #800080; text-decoration-color: #800080; font-style: italic\">None</span>,\n",
       "            <span style=\"color: #808000; text-decoration-color: #808000\">classifications</span>=<span style=\"color: #800080; text-decoration-color: #800080; font-style: italic\">None</span>\n",
       "        <span style=\"font-weight: bold\">)</span>,\n",
       "        <span style=\"color: #808000; text-decoration-color: #808000\">tokens</span>=<span style=\"color: #800080; text-decoration-color: #800080; font-weight: bold\">ApiMetaTokens</span><span style=\"font-weight: bold\">(</span><span style=\"color: #808000; text-decoration-color: #808000\">input_tokens</span>=<span style=\"color: #008080; text-decoration-color: #008080; font-weight: bold\">836</span>, <span style=\"color: #808000; text-decoration-color: #808000\">output_tokens</span>=<span style=\"color: #008080; text-decoration-color: #008080; font-weight: bold\">5</span><span style=\"font-weight: bold\">)</span>,\n",
       "        <span style=\"color: #808000; text-decoration-color: #808000\">warnings</span>=<span style=\"color: #800080; text-decoration-color: #800080; font-style: italic\">None</span>\n",
       "    <span style=\"font-weight: bold\">)</span>,\n",
       "    <span style=\"color: #808000; text-decoration-color: #808000\">response_id</span>=<span style=\"color: #008000; text-decoration-color: #008000\">'d295bce5-0483-4b60-b5d2-57e543ba183a'</span>\n",
       "<span style=\"font-weight: bold\">)</span>\n",
       "</pre>\n"
      ],
      "text/plain": [
       "\u001b[1;35mNonStreamedChatResponse\u001b[0m\u001b[1m(\u001b[0m\n",
       "    \u001b[33mtext\u001b[0m=\u001b[32m'دكتور المقرر'\u001b[0m,\n",
       "    \u001b[33mgeneration_id\u001b[0m=\u001b[32m'7535a23e-3b1c-4984-a674-11d16b246492'\u001b[0m,\n",
       "    \u001b[33mcitations\u001b[0m=\u001b[3;35mNone\u001b[0m,\n",
       "    \u001b[33mdocuments\u001b[0m=\u001b[3;35mNone\u001b[0m,\n",
       "    \u001b[33mis_search_required\u001b[0m=\u001b[3;35mNone\u001b[0m,\n",
       "    \u001b[33msearch_queries\u001b[0m=\u001b[3;35mNone\u001b[0m,\n",
       "    \u001b[33msearch_results\u001b[0m=\u001b[3;35mNone\u001b[0m,\n",
       "    \u001b[33mfinish_reason\u001b[0m=\u001b[32m'COMPLETE'\u001b[0m,\n",
       "    \u001b[33mtool_calls\u001b[0m=\u001b[3;35mNone\u001b[0m,\n",
       "    \u001b[33mchat_history\u001b[0m=\u001b[1m[\u001b[0m\n",
       "        \u001b[1;35mMessage_System\u001b[0m\u001b[1m(\u001b[0m\n",
       "            \u001b[33mmessage\u001b[0m=\u001b[32m'\\nسوف تتلقى مراجعة حول بعض الخدمات التعليمية، ومهمتك هي معرفة الموضوع الذي تتجذث عنه كل \u001b[0m\n",
       "\u001b[32mمراجعة.\\nقد تكون المراجعة باللغة الإنجليزية، أو باللغة العربية، أو كليهما.\\nخيارات الإخراج المسموح بها هي ما \u001b[0m\n",
       "\u001b[32mيلي:\\n\\n* محتوى ومعلومات المقرر\\n* موازنة الجزء العملي مع الجزء النظري\\n* غير محدد\\n* سوق العمل\\n* المتطلبات و \u001b[0m\n",
       "\u001b[32mالمهام و الدرجات\\n* دكتور المقرر\\n* الوقت و الجدول\\n* طريقة تدريس و تقديم المادة\\n* الجانب البحثي والأوراق \u001b[0m\n",
       "\u001b[32mالبحثية\\n'\u001b[0m,\n",
       "            \u001b[33mtool_calls\u001b[0m=\u001b[3;35mNone\u001b[0m,\n",
       "            \u001b[33mrole\u001b[0m=\u001b[32m'SYSTEM'\u001b[0m\n",
       "        \u001b[1m)\u001b[0m,\n",
       "        \u001b[1;35mMessage_User\u001b[0m\u001b[1m(\u001b[0m\n",
       "            \u001b[33mmessage\u001b[0m=\u001b[32m'\\nعليك أن تستخرج الموضوع الخاص بالمراجعة التالية. \\n\\n## كيفية استخراج الموضع الخاص \u001b[0m\n",
       "\u001b[32mبالمراجعة:\\n* إذا كان نص المراجعة يتحدث عن المقرر الدراسي و المعلومات الواردة في هذا المقرر فإن الموضوع الخاص بهذه \u001b[0m\n",
       "\u001b[32mالمراجعة هو: \"محتوى ومعلومات المقرر\"\\n\\n* إذا كان نص المراجعة يتحدث عن الجزء العملي و أهميته و أهمية تناسبه مع \u001b[0m\n",
       "\u001b[32mالجزء النظري فإن الموضوع الخاص بهذه المراجعة هو: \"موازنة الجزء العملي مع الجزء النظري\"\\n\\n* إذا كان نص المراجعة \u001b[0m\n",
       "\u001b[32mيتحدث عن سوق العمل و مدى ارتباط المنهج بسوق العمل فإن الموضوع الخاص يهذه المراجعة هو: \"سوق العمل\"\\n\\n* إذا كان نص \u001b[0m\n",
       "\u001b[32mالمراجعة يتحدث عن الأشياء المطلوب من الطلاب أن يقوموا بها أو عن درجات الطلاب فإن الموضوع الخاص بهذه المراجعة هو: \u001b[0m\n",
       "\u001b[32m\"المتطلبات و المهام و الدرجات\"\\n\\n* إذا كان نص المراجعة يتحدث عن الدكتور الذي يشرح المادة فإن الموضوع الخاص بهذه \u001b[0m\n",
       "\u001b[32mالمراجعة هو: \"دكتور المقرر\"\\n\\n* إذا كان نص المراجعة يتحدث عن الخط الزمني لدراسة المادة أو عن جدول تدريس المادة و \u001b[0m\n",
       "\u001b[32mجدول الإمتحانات و التسليمات فإن الموضوع الخاص بهذه المراجعة هو: \"الوقت و الجدول\"\\n\\n* إذا كان نص المراجعة يتحدث عن \u001b[0m\n",
       "\u001b[32mالطريقة التي يتم بها تقديم المادة للطلاب أو عن الطريقة التي يتم بها تدريس المادة للطلاب فإن الموضوع الخاص بهذه \u001b[0m\n",
       "\u001b[32mالمراجعة هو: \"طريقة تدريس و تقديم المادة\"\\n\\n* إذا كان نص المراجعة يتحدث عن الجانب البحثي للمادة أو عن الأوراق \u001b[0m\n",
       "\u001b[32mالبحثية فإن الموضوع الخاص بهذه المراجعة هو: \"الجانب البحثي و الأوراق البحثية\"\\n\\n* إذا لم يحتو نص المراجعة على أي \u001b[0m\n",
       "\u001b[32mمن الموضوعات السابقة فإن موضوع هذه المراحعة هو: \"غير محدد\"\\n\\n## ملحوظة: إذا وجدت أكثر من موضوع داخل المراجعة \u001b[0m\n",
       "\u001b[32mالواحدة يجب عليك استخراج الموضوع الموجود بكثرة داخل هذه المراجعة\\n\\n\\n\"\\nالمراجعة:\\n###\\nthe doctor is very \u001b[0m\n",
       "\u001b[32mhelpful\\n###\\n\\n## يجب عليك أن تكتب اسم الموضوع المستخرج فقط\\noutput: \\n'\u001b[0m,\n",
       "            \u001b[33mtool_calls\u001b[0m=\u001b[3;35mNone\u001b[0m,\n",
       "            \u001b[33mrole\u001b[0m=\u001b[32m'USER'\u001b[0m\n",
       "        \u001b[1m)\u001b[0m,\n",
       "        \u001b[1;35mMessage_Chatbot\u001b[0m\u001b[1m(\u001b[0m\u001b[33mmessage\u001b[0m=\u001b[32m'دكتور المقرر'\u001b[0m, \u001b[33mtool_calls\u001b[0m=\u001b[3;35mNone\u001b[0m, \u001b[33mrole\u001b[0m=\u001b[32m'CHATBOT'\u001b[0m\u001b[1m)\u001b[0m\n",
       "    \u001b[1m]\u001b[0m,\n",
       "    \u001b[33mprompt\u001b[0m=\u001b[3;35mNone\u001b[0m,\n",
       "    \u001b[33mmeta\u001b[0m=\u001b[1;35mApiMeta\u001b[0m\u001b[1m(\u001b[0m\n",
       "        \u001b[33mapi_version\u001b[0m=\u001b[1;35mApiMetaApiVersion\u001b[0m\u001b[1m(\u001b[0m\u001b[33mversion\u001b[0m=\u001b[32m'1'\u001b[0m, \u001b[33mis_deprecated\u001b[0m=\u001b[3;35mNone\u001b[0m, \u001b[33mis_experimental\u001b[0m=\u001b[3;35mNone\u001b[0m\u001b[1m)\u001b[0m,\n",
       "        \u001b[33mbilled_units\u001b[0m=\u001b[1;35mApiMetaBilledUnits\u001b[0m\u001b[1m(\u001b[0m\n",
       "            \u001b[33minput_tokens\u001b[0m=\u001b[1;36m826\u001b[0m,\n",
       "            \u001b[33moutput_tokens\u001b[0m=\u001b[1;36m5\u001b[0m,\n",
       "            \u001b[33msearch_units\u001b[0m=\u001b[3;35mNone\u001b[0m,\n",
       "            \u001b[33mclassifications\u001b[0m=\u001b[3;35mNone\u001b[0m\n",
       "        \u001b[1m)\u001b[0m,\n",
       "        \u001b[33mtokens\u001b[0m=\u001b[1;35mApiMetaTokens\u001b[0m\u001b[1m(\u001b[0m\u001b[33minput_tokens\u001b[0m=\u001b[1;36m836\u001b[0m, \u001b[33moutput_tokens\u001b[0m=\u001b[1;36m5\u001b[0m\u001b[1m)\u001b[0m,\n",
       "        \u001b[33mwarnings\u001b[0m=\u001b[3;35mNone\u001b[0m\n",
       "    \u001b[1m)\u001b[0m,\n",
       "    \u001b[33mresponse_id\u001b[0m=\u001b[32m'd295bce5-0483-4b60-b5d2-57e543ba183a'\u001b[0m\n",
       "\u001b[1m)\u001b[0m\n"
      ]
     },
     "metadata": {},
     "output_type": "display_data"
    }
   ],
   "source": [
    "print(get_completion(example1, model_name))"
   ]
  },
  {
   "cell_type": "code",
   "execution_count": 16,
   "id": "69f42510-908d-438b-bd49-16ae52c2ec34",
   "metadata": {
    "tags": []
   },
   "outputs": [],
   "source": [
    "train_data_path = '../../data/result/train_df.csv'\n",
    "test_data_path = '../../data/result/test_df.csv'\n",
    "train_data = pd.read_csv(train_data_path)\n",
    "test_data = pd.read_csv(test_data_path)"
   ]
  },
  {
   "cell_type": "code",
   "execution_count": 17,
   "id": "0fbeb153-b1f3-445b-b4ef-921de3da1178",
   "metadata": {
    "tags": []
   },
   "outputs": [
    {
     "data": {
      "text/plain": [
       "9"
      ]
     },
     "execution_count": 17,
     "metadata": {},
     "output_type": "execute_result"
    }
   ],
   "source": [
    "len(['موازنة الجزء العملي مع الجزء النظري' ,'محتوى ومعلومات المقرر',\n",
    " 'الوقت و الجدول' ,'دكتور المقرر' ,'طريقة تدريس و تقديم المادة', 'غير محدد',\n",
    " 'سوق العمل' ,'المتطلبات و المهام و الدرجات',\n",
    " 'الجانب البحثي و الأوراق البحثية'])\n",
    "\n"
   ]
  },
  {
   "cell_type": "code",
   "execution_count": 18,
   "id": "f8c81a00-be1e-402f-b8f3-65ce8f9878a7",
   "metadata": {
    "tags": []
   },
   "outputs": [
    {
     "data": {
      "text/html": [
       "<div>\n",
       "<style scoped>\n",
       "    .dataframe tbody tr th:only-of-type {\n",
       "        vertical-align: middle;\n",
       "    }\n",
       "\n",
       "    .dataframe tbody tr th {\n",
       "        vertical-align: top;\n",
       "    }\n",
       "\n",
       "    .dataframe thead th {\n",
       "        text-align: right;\n",
       "    }\n",
       "</style>\n",
       "<table border=\"1\" class=\"dataframe\">\n",
       "  <thead>\n",
       "    <tr style=\"text-align: right;\">\n",
       "      <th></th>\n",
       "      <th>column</th>\n",
       "      <th>text</th>\n",
       "      <th>topic_id</th>\n",
       "      <th>topic_name</th>\n",
       "    </tr>\n",
       "  </thead>\n",
       "  <tbody>\n",
       "    <tr>\n",
       "      <th>0</th>\n",
       "      <td>like</td>\n",
       "      <td>أكثر ما أعجبني: التطبيق العملي المحدث والمشابه...</td>\n",
       "      <td>3</td>\n",
       "      <td>موازنة الجزء العملي مع الجزء النظري</td>\n",
       "    </tr>\n",
       "    <tr>\n",
       "      <th>1</th>\n",
       "      <td>improve_course</td>\n",
       "      <td>اقتراحاتي للتحسين: التطبيق والبعد عن التدريس ا...</td>\n",
       "      <td>3</td>\n",
       "      <td>موازنة الجزء العملي مع الجزء النظري</td>\n",
       "    </tr>\n",
       "    <tr>\n",
       "      <th>2</th>\n",
       "      <td>like</td>\n",
       "      <td>أكثر ما أعجبني: the content</td>\n",
       "      <td>0</td>\n",
       "      <td>محتوى ومعلومات المقرر</td>\n",
       "    </tr>\n",
       "    <tr>\n",
       "      <th>3</th>\n",
       "      <td>improve_course</td>\n",
       "      <td>اقتراحاتي للتحسين: provide more new books</td>\n",
       "      <td>3</td>\n",
       "      <td>موازنة الجزء العملي مع الجزء النظري</td>\n",
       "    </tr>\n",
       "    <tr>\n",
       "      <th>4</th>\n",
       "      <td>improve_course</td>\n",
       "      <td>اقتراحاتي للتحسين: زيادة ساعات العملي</td>\n",
       "      <td>8</td>\n",
       "      <td>الوقت و الجدول</td>\n",
       "    </tr>\n",
       "  </tbody>\n",
       "</table>\n",
       "</div>"
      ],
      "text/plain": [
       "           column                                               text  \\\n",
       "0            like  أكثر ما أعجبني: التطبيق العملي المحدث والمشابه...   \n",
       "1  improve_course  اقتراحاتي للتحسين: التطبيق والبعد عن التدريس ا...   \n",
       "2            like                        أكثر ما أعجبني: the content   \n",
       "3  improve_course          اقتراحاتي للتحسين: provide more new books   \n",
       "4  improve_course              اقتراحاتي للتحسين: زيادة ساعات العملي   \n",
       "\n",
       "   topic_id                           topic_name  \n",
       "0         3  موازنة الجزء العملي مع الجزء النظري  \n",
       "1         3  موازنة الجزء العملي مع الجزء النظري  \n",
       "2         0                محتوى ومعلومات المقرر  \n",
       "3         3  موازنة الجزء العملي مع الجزء النظري  \n",
       "4         8                       الوقت و الجدول  "
      ]
     },
     "execution_count": 18,
     "metadata": {},
     "output_type": "execute_result"
    }
   ],
   "source": [
    "train_data.head()"
   ]
  },
  {
   "cell_type": "code",
   "execution_count": 19,
   "id": "dd00b080-b459-45c5-ab8c-b06f36ed35c9",
   "metadata": {
    "tags": []
   },
   "outputs": [
    {
     "data": {
      "text/html": [
       "<pre style=\"white-space:pre;overflow-x:auto;line-height:normal;font-family:Menlo,'DejaVu Sans Mono',consolas,'Courier New',monospace\">Annotate train data<span style=\"color: #808000; text-decoration-color: #808000\">...</span>\n",
       "</pre>\n"
      ],
      "text/plain": [
       "Annotate train data\u001b[33m...\u001b[0m\n"
      ]
     },
     "metadata": {},
     "output_type": "display_data"
    },
    {
     "name": "stderr",
     "output_type": "stream",
     "text": [
      "100%|██████████| 951/951 [11:01<00:00,  1.44it/s]\n"
     ]
    },
    {
     "data": {
      "text/html": [
       "<pre style=\"white-space:pre;overflow-x:auto;line-height:normal;font-family:Menlo,'DejaVu Sans Mono',consolas,'Courier New',monospace\">Annotate test data<span style=\"color: #808000; text-decoration-color: #808000\">...</span>\n",
       "</pre>\n"
      ],
      "text/plain": [
       "Annotate test data\u001b[33m...\u001b[0m\n"
      ]
     },
     "metadata": {},
     "output_type": "display_data"
    },
    {
     "name": "stderr",
     "output_type": "stream",
     "text": [
      "100%|██████████| 634/634 [08:03<00:00,  1.31it/s] \n"
     ]
    }
   ],
   "source": [
    "tqdm.pandas()\n",
    "\n",
    "print('Annotate train data...')\n",
    "train_data['topic_llm'] = train_data['text'].progress_apply(predict_gpt)\n",
    "print('Annotate test data...')\n",
    "test_data['topic_llm'] = test_data['text'].progress_apply(predict_gpt)"
   ]
  },
  {
   "cell_type": "code",
   "execution_count": 20,
   "id": "25ceb1e6-29d7-4e83-b20e-7aa841defff0",
   "metadata": {
    "tags": []
   },
   "outputs": [],
   "source": [
    "# for e in train_data['text'].sample(50):\n",
    "#     # print(e)\n",
    "#     print('topic:\\n', predict_gpt(e))\n",
    "#     print('----'*25)\n",
    "    "
   ]
  },
  {
   "cell_type": "code",
   "execution_count": 21,
   "id": "f0aed83f-2a50-47a2-a99c-dbe09ca84452",
   "metadata": {
    "tags": []
   },
   "outputs": [],
   "source": [
    "# train_data['sentiment'] = train_data['sentiment'].progress_apply(str.capitalize)\n",
    "# test_data['sentiment'] = test_data['sentiment'].progress_apply(str.capitalize)"
   ]
  },
  {
   "cell_type": "code",
   "execution_count": 22,
   "id": "9a5d8b1d-6a94-4cfc-b0e6-f8e9d65519bc",
   "metadata": {
    "tags": []
   },
   "outputs": [
    {
     "data": {
      "text/html": [
       "<div>\n",
       "<style scoped>\n",
       "    .dataframe tbody tr th:only-of-type {\n",
       "        vertical-align: middle;\n",
       "    }\n",
       "\n",
       "    .dataframe tbody tr th {\n",
       "        vertical-align: top;\n",
       "    }\n",
       "\n",
       "    .dataframe thead th {\n",
       "        text-align: right;\n",
       "    }\n",
       "</style>\n",
       "<table border=\"1\" class=\"dataframe\">\n",
       "  <thead>\n",
       "    <tr style=\"text-align: right;\">\n",
       "      <th></th>\n",
       "      <th>column</th>\n",
       "      <th>text</th>\n",
       "      <th>topic_id</th>\n",
       "      <th>topic_name</th>\n",
       "      <th>topic_llm</th>\n",
       "    </tr>\n",
       "  </thead>\n",
       "  <tbody>\n",
       "    <tr>\n",
       "      <th>0</th>\n",
       "      <td>like</td>\n",
       "      <td>أكثر ما أعجبني: التطبيق العملي المحدث والمشابه...</td>\n",
       "      <td>3</td>\n",
       "      <td>موازنة الجزء العملي مع الجزء النظري</td>\n",
       "      <td>موازنة الجزء العملي مع الجزء النظري</td>\n",
       "    </tr>\n",
       "    <tr>\n",
       "      <th>1</th>\n",
       "      <td>improve_course</td>\n",
       "      <td>اقتراحاتي للتحسين: التطبيق والبعد عن التدريس ا...</td>\n",
       "      <td>3</td>\n",
       "      <td>موازنة الجزء العملي مع الجزء النظري</td>\n",
       "      <td>طريقة تدريس و تقديم المادة</td>\n",
       "    </tr>\n",
       "    <tr>\n",
       "      <th>2</th>\n",
       "      <td>like</td>\n",
       "      <td>أكثر ما أعجبني: the content</td>\n",
       "      <td>0</td>\n",
       "      <td>محتوى ومعلومات المقرر</td>\n",
       "      <td>محتوى ومعلومات المقرر</td>\n",
       "    </tr>\n",
       "    <tr>\n",
       "      <th>3</th>\n",
       "      <td>improve_course</td>\n",
       "      <td>اقتراحاتي للتحسين: provide more new books</td>\n",
       "      <td>3</td>\n",
       "      <td>موازنة الجزء العملي مع الجزء النظري</td>\n",
       "      <td>غير محدد</td>\n",
       "    </tr>\n",
       "    <tr>\n",
       "      <th>4</th>\n",
       "      <td>improve_course</td>\n",
       "      <td>اقتراحاتي للتحسين: زيادة ساعات العملي</td>\n",
       "      <td>8</td>\n",
       "      <td>الوقت و الجدول</td>\n",
       "      <td>موازنة الجزء العملي مع الجزء النظري</td>\n",
       "    </tr>\n",
       "  </tbody>\n",
       "</table>\n",
       "</div>"
      ],
      "text/plain": [
       "           column                                               text  \\\n",
       "0            like  أكثر ما أعجبني: التطبيق العملي المحدث والمشابه...   \n",
       "1  improve_course  اقتراحاتي للتحسين: التطبيق والبعد عن التدريس ا...   \n",
       "2            like                        أكثر ما أعجبني: the content   \n",
       "3  improve_course          اقتراحاتي للتحسين: provide more new books   \n",
       "4  improve_course              اقتراحاتي للتحسين: زيادة ساعات العملي   \n",
       "\n",
       "   topic_id                           topic_name  \\\n",
       "0         3  موازنة الجزء العملي مع الجزء النظري   \n",
       "1         3  موازنة الجزء العملي مع الجزء النظري   \n",
       "2         0                محتوى ومعلومات المقرر   \n",
       "3         3  موازنة الجزء العملي مع الجزء النظري   \n",
       "4         8                       الوقت و الجدول   \n",
       "\n",
       "                             topic_llm  \n",
       "0  موازنة الجزء العملي مع الجزء النظري  \n",
       "1           طريقة تدريس و تقديم المادة  \n",
       "2                محتوى ومعلومات المقرر  \n",
       "3                             غير محدد  \n",
       "4  موازنة الجزء العملي مع الجزء النظري  "
      ]
     },
     "execution_count": 22,
     "metadata": {},
     "output_type": "execute_result"
    }
   ],
   "source": [
    "train_data.head()"
   ]
  },
  {
   "cell_type": "code",
   "execution_count": 38,
   "id": "154165dd-3702-4735-a5ab-da09a8a99a0a",
   "metadata": {
    "tags": []
   },
   "outputs": [
    {
     "data": {
      "text/plain": [
       "9"
      ]
     },
     "execution_count": 38,
     "metadata": {},
     "output_type": "execute_result"
    }
   ],
   "source": [
    "train_data['topic_llm'].nunique()"
   ]
  },
  {
   "cell_type": "code",
   "execution_count": 31,
   "id": "d4683f4c-dcaa-484b-9c86-5fa894f3f118",
   "metadata": {
    "tags": []
   },
   "outputs": [],
   "source": [
    "train_data['topic_llm'] = train_data['topic_llm'].apply(lambda x: \"الجانب البحثي و الأوراق البحثية\" if x == 'الجانب البحثي والأوراق البحثية' else x)\n",
    "test_data['topic_llm'] = test_data['topic_llm'].apply(lambda x: \"الجانب البحثي و الأوراق البحثية\" if x == 'الجانب البحثي والأوراق البحثية' else x)\n",
    "train_data['topic_llm'] = train_data['topic_llm'].apply(lambda x: \"غير محدد\" if x not in train_data['topic_name'].unique() else x)\n",
    "test_data['topic_llm'] = test_data['topic_llm'].apply(lambda x: \"غير محدد\" if x not in train_data['topic_name'].unique() else x)"
   ]
  },
  {
   "cell_type": "code",
   "execution_count": 39,
   "id": "f0c5a8da-de38-4d85-b787-d16e078f4c43",
   "metadata": {
    "tags": []
   },
   "outputs": [
    {
     "data": {
      "text/plain": [
       "غير محدد                               0.231335\n",
       "دكتور المقرر                           0.172450\n",
       "موازنة الجزء العملي مع الجزء النظري    0.164038\n",
       "محتوى ومعلومات المقرر                  0.159832\n",
       "طريقة تدريس و تقديم المادة             0.089380\n",
       "المتطلبات و المهام و الدرجات           0.087277\n",
       "الوقت و الجدول                         0.033649\n",
       "الجانب البحثي و الأوراق البحثية        0.031546\n",
       "سوق العمل                              0.030494\n",
       "Name: topic_llm, dtype: float64"
      ]
     },
     "execution_count": 39,
     "metadata": {},
     "output_type": "execute_result"
    }
   ],
   "source": [
    "train_data['topic_llm'].value_counts() / len(train_data)"
   ]
  },
  {
   "cell_type": "code",
   "execution_count": 40,
   "id": "462462e8-22c3-45b1-b5c7-1b01b349c3a4",
   "metadata": {
    "tags": []
   },
   "outputs": [
    {
     "data": {
      "text/plain": [
       "غير محدد                               142\n",
       "دكتور المقرر                           115\n",
       "محتوى ومعلومات المقرر                  110\n",
       "موازنة الجزء العملي مع الجزء النظري     94\n",
       "طريقة تدريس و تقديم المادة              60\n",
       "المتطلبات و المهام و الدرجات            52\n",
       "الوقت و الجدول                          24\n",
       "الجانب البحثي و الأوراق البحثية         21\n",
       "سوق العمل                               16\n",
       "Name: topic_llm, dtype: int64"
      ]
     },
     "execution_count": 40,
     "metadata": {},
     "output_type": "execute_result"
    }
   ],
   "source": [
    "test_data['topic_llm'].value_counts() # / len(test_data)"
   ]
  },
  {
   "cell_type": "code",
   "execution_count": 41,
   "id": "cfd1c58d-4a17-47b9-aaaf-8e039845b37c",
   "metadata": {
    "tags": []
   },
   "outputs": [
    {
     "data": {
      "text/html": [
       "<pre style=\"white-space:pre;overflow-x:auto;line-height:normal;font-family:Menlo,'DejaVu Sans Mono',consolas,'Courier New',monospace\">Saving to ..<span style=\"color: #800080; text-decoration-color: #800080\">/../data/result/</span><span style=\"color: #ff00ff; text-decoration-color: #ff00ff\">train_with_topic_df_llm_command_r_plus.csv...</span>\n",
       "</pre>\n"
      ],
      "text/plain": [
       "Saving to ..\u001b[35m/../data/result/\u001b[0m\u001b[95mtrain_with_topic_df_llm_command_r_plus.csv...\u001b[0m\n"
      ]
     },
     "metadata": {},
     "output_type": "display_data"
    },
    {
     "data": {
      "text/html": [
       "<pre style=\"white-space:pre;overflow-x:auto;line-height:normal;font-family:Menlo,'DejaVu Sans Mono',consolas,'Courier New',monospace\">Saving to ..<span style=\"color: #800080; text-decoration-color: #800080\">/../data/result/</span><span style=\"color: #ff00ff; text-decoration-color: #ff00ff\">test_with_topic_df_llm_command_r_plus.csv...</span>\n",
       "</pre>\n"
      ],
      "text/plain": [
       "Saving to ..\u001b[35m/../data/result/\u001b[0m\u001b[95mtest_with_topic_df_llm_command_r_plus.csv...\u001b[0m\n"
      ]
     },
     "metadata": {},
     "output_type": "display_data"
    }
   ],
   "source": [
    "train_save_path = '../../data/result/train_with_topic_df_llm_command_r_plus.csv'\n",
    "test_save_path = '../../data/result/test_with_topic_df_llm_command_r_plus.csv'\n",
    "\n",
    "if os.path.exists(train_save_path):\n",
    "    print('The path exists!')\n",
    "else:\n",
    "    print(f'Saving to {train_save_path}...')\n",
    "    train_data.to_csv(train_save_path, index=False)\n",
    "    \n",
    "\n",
    "if os.path.exists(test_save_path):\n",
    "    print('The path exists!')\n",
    "else:\n",
    "    print(f'Saving to {test_save_path}...')\n",
    "    test_data.to_csv(test_save_path, index=False)"
   ]
  },
  {
   "cell_type": "code",
   "execution_count": null,
   "id": "19b84481-6933-43dc-9f40-59d4b52f5dce",
   "metadata": {},
   "outputs": [],
   "source": []
  }
 ],
 "metadata": {
  "kernelspec": {
   "display_name": "Python 3 (ipykernel)",
   "language": "python",
   "name": "python3"
  },
  "language_info": {
   "codemirror_mode": {
    "name": "ipython",
    "version": 3
   },
   "file_extension": ".py",
   "mimetype": "text/x-python",
   "name": "python",
   "nbconvert_exporter": "python",
   "pygments_lexer": "ipython3",
   "version": "3.11.7"
  }
 },
 "nbformat": 4,
 "nbformat_minor": 5
}
