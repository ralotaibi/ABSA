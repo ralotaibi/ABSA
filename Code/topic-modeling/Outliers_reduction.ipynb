{
 "cells": [
  {
   "cell_type": "code",
   "execution_count": 45,
   "id": "8229178d-7de6-49ac-baf2-415b220bea83",
   "metadata": {
    "tags": []
   },
   "outputs": [],
   "source": [
    "import pandas as pd\n",
    "from sentence_transformers import SentenceTransformer\n",
    "from rich import print\n",
    "from tqdm import tqdm\n",
    "from sklearn.metrics import pairwise_distances\n",
    "from sklearn.metrics.pairwise import cosine_similarity\n",
    "import numpy as np"
   ]
  },
  {
   "cell_type": "code",
   "execution_count": 46,
   "id": "438575aa-c870-410c-9955-9dee3f86666c",
   "metadata": {
    "tags": []
   },
   "outputs": [],
   "source": [
    "data_path = '../../data/result/bertopic_labels-manual-reduction.csv'"
   ]
  },
  {
   "cell_type": "code",
   "execution_count": 47,
   "id": "bf9aa07d-9d61-4326-9162-0d6e03c03f1f",
   "metadata": {
    "tags": []
   },
   "outputs": [],
   "source": [
    "data = pd.read_csv(data_path)"
   ]
  },
  {
   "cell_type": "code",
   "execution_count": 48,
   "id": "0215b522-e081-4800-851c-e9799acb16e9",
   "metadata": {
    "tags": []
   },
   "outputs": [
    {
     "data": {
      "text/html": [
       "<div>\n",
       "<style scoped>\n",
       "    .dataframe tbody tr th:only-of-type {\n",
       "        vertical-align: middle;\n",
       "    }\n",
       "\n",
       "    .dataframe tbody tr th {\n",
       "        vertical-align: top;\n",
       "    }\n",
       "\n",
       "    .dataframe thead th {\n",
       "        text-align: right;\n",
       "    }\n",
       "</style>\n",
       "<table border=\"1\" class=\"dataframe\">\n",
       "  <thead>\n",
       "    <tr style=\"text-align: right;\">\n",
       "      <th></th>\n",
       "      <th>column</th>\n",
       "      <th>text</th>\n",
       "      <th>topic_id</th>\n",
       "    </tr>\n",
       "  </thead>\n",
       "  <tbody>\n",
       "    <tr>\n",
       "      <th>1605</th>\n",
       "      <td>add_suggestions</td>\n",
       "      <td>يوجد غموض كبير في مقرر المادة من قبل الدكتور ف...</td>\n",
       "      <td>4</td>\n",
       "    </tr>\n",
       "    <tr>\n",
       "      <th>1606</th>\n",
       "      <td>like</td>\n",
       "      <td>يوفر تاسيس جيد بالنسبة للمستوى الميتدأ</td>\n",
       "      <td>-1</td>\n",
       "    </tr>\n",
       "    <tr>\n",
       "      <th>1607</th>\n",
       "      <td>like</td>\n",
       "      <td>يوفر كل ما يحتاجه الباحث من أجل عمل محاكاة بصو...</td>\n",
       "      <td>3</td>\n",
       "    </tr>\n",
       "    <tr>\n",
       "      <th>1608</th>\n",
       "      <td>like</td>\n",
       "      <td>يوفر معرفة ممتازه</td>\n",
       "      <td>0</td>\n",
       "    </tr>\n",
       "    <tr>\n",
       "      <th>1609</th>\n",
       "      <td>improve_course</td>\n",
       "      <td>يومين في الأسبوع أو يوم</td>\n",
       "      <td>8</td>\n",
       "    </tr>\n",
       "  </tbody>\n",
       "</table>\n",
       "</div>"
      ],
      "text/plain": [
       "               column                                               text  \\\n",
       "1605  add_suggestions  يوجد غموض كبير في مقرر المادة من قبل الدكتور ف...   \n",
       "1606             like             يوفر تاسيس جيد بالنسبة للمستوى الميتدأ   \n",
       "1607             like  يوفر كل ما يحتاجه الباحث من أجل عمل محاكاة بصو...   \n",
       "1608             like                                  يوفر معرفة ممتازه   \n",
       "1609   improve_course                            يومين في الأسبوع أو يوم   \n",
       "\n",
       "      topic_id  \n",
       "1605         4  \n",
       "1606        -1  \n",
       "1607         3  \n",
       "1608         0  \n",
       "1609         8  "
      ]
     },
     "execution_count": 48,
     "metadata": {},
     "output_type": "execute_result"
    }
   ],
   "source": [
    "data.tail()"
   ]
  },
  {
   "cell_type": "code",
   "execution_count": 49,
   "id": "f993d5c2-884e-4773-8882-581f1b7d44dd",
   "metadata": {
    "tags": []
   },
   "outputs": [
    {
     "data": {
      "text/plain": [
       "column      0\n",
       "text        0\n",
       "topic_id    0\n",
       "dtype: int64"
      ]
     },
     "execution_count": 49,
     "metadata": {},
     "output_type": "execute_result"
    }
   ],
   "source": [
    "data.isna().sum()"
   ]
  },
  {
   "cell_type": "code",
   "execution_count": 50,
   "id": "3b384f86-d40f-4106-8796-a22c59431f91",
   "metadata": {
    "tags": []
   },
   "outputs": [
    {
     "data": {
      "text/plain": [
       "217"
      ]
     },
     "execution_count": 50,
     "metadata": {},
     "output_type": "execute_result"
    }
   ],
   "source": [
    "len(data[data['topic_id'].isin([4, 7, -1])])"
   ]
  },
  {
   "cell_type": "code",
   "execution_count": 51,
   "id": "5dd15ce9-0c1c-4018-b93a-c13f92c43fc8",
   "metadata": {
    "tags": []
   },
   "outputs": [
    {
     "data": {
      "text/plain": [
       "[-1, 0, 1, 2, 3, 4, 5, 6, 7, 8, 9, 10]"
      ]
     },
     "execution_count": 51,
     "metadata": {},
     "output_type": "execute_result"
    }
   ],
   "source": [
    "sorted(data['topic_id'].unique())"
   ]
  },
  {
   "cell_type": "code",
   "execution_count": 52,
   "id": "32a344df-ac42-4554-b335-ed0b0b84c6a9",
   "metadata": {
    "tags": []
   },
   "outputs": [],
   "source": [
    "topic_dict = {\n",
    "    f'topic_{str(i)}': data[data['topic_id']==i]['text'].tolist() for i in data['topic_id'].unique() if i not in(-1, 4, 7)\n",
    "}"
   ]
  },
  {
   "cell_type": "code",
   "execution_count": 53,
   "id": "8fc8e659-bacb-4893-9fb4-d335319e50b0",
   "metadata": {
    "tags": []
   },
   "outputs": [
    {
     "data": {
      "text/html": [
       "<pre style=\"white-space:pre;overflow-x:auto;line-height:normal;font-family:Menlo,'DejaVu Sans Mono',consolas,'Courier New',monospace\">topic_1\n",
       "</pre>\n"
      ],
      "text/plain": [
       "topic_1\n"
      ]
     },
     "metadata": {},
     "output_type": "display_data"
    },
    {
     "data": {
      "text/html": [
       "<pre style=\"white-space:pre;overflow-x:auto;line-height:normal;font-family:Menlo,'DejaVu Sans Mono',consolas,'Courier New',monospace\"><span style=\"font-weight: bold\">[</span>\n",
       "    <span style=\"color: #008000; text-decoration-color: #008000\">'- dr. emad is a professional in everything (explaining, organizing, supporting, [رابط])-this course is </span>\n",
       "<span style=\"color: #008000; text-decoration-color: #008000\">improved my skills'</span>,\n",
       "    <span style=\"color: #008000; text-decoration-color: #008000\">'a good start to the program.'</span>\n",
       "<span style=\"font-weight: bold\">]</span>\n",
       "</pre>\n"
      ],
      "text/plain": [
       "\u001b[1m[\u001b[0m\n",
       "    \u001b[32m'- dr. emad is a professional in everything \u001b[0m\u001b[32m(\u001b[0m\u001b[32mexplaining, organizing, supporting, \u001b[0m\u001b[32m[\u001b[0m\u001b[32mرابط\u001b[0m\u001b[32m]\u001b[0m\u001b[32m)\u001b[0m\u001b[32m-this course is \u001b[0m\n",
       "\u001b[32mimproved my skills'\u001b[0m,\n",
       "    \u001b[32m'a good start to the program.'\u001b[0m\n",
       "\u001b[1m]\u001b[0m\n"
      ]
     },
     "metadata": {},
     "output_type": "display_data"
    },
    {
     "data": {
      "text/html": [
       "<pre style=\"white-space:pre;overflow-x:auto;line-height:normal;font-family:Menlo,'DejaVu Sans Mono',consolas,'Courier New',monospace\">topic_0\n",
       "</pre>\n"
      ],
      "text/plain": [
       "topic_0\n"
      ]
     },
     "metadata": {},
     "output_type": "display_data"
    },
    {
     "data": {
      "text/html": [
       "<pre style=\"white-space:pre;overflow-x:auto;line-height:normal;font-family:Menlo,'DejaVu Sans Mono',consolas,'Courier New',monospace\"><span style=\"font-weight: bold\">[</span><span style=\"color: #008000; text-decoration-color: #008000\">'1-التدريب على الأسئلة 2-التدريب على الأفكار الجديدة'</span>, <span style=\"color: #008000; text-decoration-color: #008000\">'a lot of valuable info'</span><span style=\"font-weight: bold\">]</span>\n",
       "</pre>\n"
      ],
      "text/plain": [
       "\u001b[1m[\u001b[0m\u001b[32m'1-التدريب على الأسئلة 2-التدريب على الأفكار الجديدة'\u001b[0m, \u001b[32m'a lot of valuable info'\u001b[0m\u001b[1m]\u001b[0m\n"
      ]
     },
     "metadata": {},
     "output_type": "display_data"
    },
    {
     "data": {
      "text/html": [
       "<pre style=\"white-space:pre;overflow-x:auto;line-height:normal;font-family:Menlo,'DejaVu Sans Mono',consolas,'Courier New',monospace\">topic_3\n",
       "</pre>\n"
      ],
      "text/plain": [
       "topic_3\n"
      ]
     },
     "metadata": {},
     "output_type": "display_data"
    },
    {
     "data": {
      "text/html": [
       "<pre style=\"white-space:pre;overflow-x:auto;line-height:normal;font-family:Menlo,'DejaVu Sans Mono',consolas,'Courier New',monospace\"><span style=\"font-weight: bold\">[</span>\n",
       "    <span style=\"color: #008000; text-decoration-color: #008000\">\"add a lab lecture for this course in order to get the instructor ' s help and supervision during programming\"</span>,\n",
       "    <span style=\"color: #008000; text-decoration-color: #008000\">'add a lab lecture increase the course hours'</span>\n",
       "<span style=\"font-weight: bold\">]</span>\n",
       "</pre>\n"
      ],
      "text/plain": [
       "\u001b[1m[\u001b[0m\n",
       "    \u001b[32m\"add a lab lecture for this course in order to get the instructor ' s help and supervision during programming\"\u001b[0m,\n",
       "    \u001b[32m'add a lab lecture increase the course hours'\u001b[0m\n",
       "\u001b[1m]\u001b[0m\n"
      ]
     },
     "metadata": {},
     "output_type": "display_data"
    },
    {
     "data": {
      "text/html": [
       "<pre style=\"white-space:pre;overflow-x:auto;line-height:normal;font-family:Menlo,'DejaVu Sans Mono',consolas,'Courier New',monospace\">topic_2\n",
       "</pre>\n"
      ],
      "text/plain": [
       "topic_2\n"
      ]
     },
     "metadata": {},
     "output_type": "display_data"
    },
    {
     "data": {
      "text/html": [
       "<pre style=\"white-space:pre;overflow-x:auto;line-height:normal;font-family:Menlo,'DejaVu Sans Mono',consolas,'Courier New',monospace\"><span style=\"font-weight: bold\">[</span><span style=\"color: #008000; text-decoration-color: #008000\">'all about the course'</span>, <span style=\"color: #008000; text-decoration-color: #008000\">'all of the things'</span><span style=\"font-weight: bold\">]</span>\n",
       "</pre>\n"
      ],
      "text/plain": [
       "\u001b[1m[\u001b[0m\u001b[32m'all about the course'\u001b[0m, \u001b[32m'all of the things'\u001b[0m\u001b[1m]\u001b[0m\n"
      ]
     },
     "metadata": {},
     "output_type": "display_data"
    },
    {
     "data": {
      "text/html": [
       "<pre style=\"white-space:pre;overflow-x:auto;line-height:normal;font-family:Menlo,'DejaVu Sans Mono',consolas,'Courier New',monospace\">topic_8\n",
       "</pre>\n"
      ],
      "text/plain": [
       "topic_8\n"
      ]
     },
     "metadata": {},
     "output_type": "display_data"
    },
    {
     "data": {
      "text/html": [
       "<pre style=\"white-space:pre;overflow-x:auto;line-height:normal;font-family:Menlo,'DejaVu Sans Mono',consolas,'Courier New',monospace\"><span style=\"font-weight: bold\">[</span><span style=\"color: #008000; text-decoration-color: #008000\">'exam timing is little'</span>, <span style=\"color: #008000; text-decoration-color: #008000\">'little bit long'</span><span style=\"font-weight: bold\">]</span>\n",
       "</pre>\n"
      ],
      "text/plain": [
       "\u001b[1m[\u001b[0m\u001b[32m'exam timing is little'\u001b[0m, \u001b[32m'little bit long'\u001b[0m\u001b[1m]\u001b[0m\n"
      ]
     },
     "metadata": {},
     "output_type": "display_data"
    },
    {
     "data": {
      "text/html": [
       "<pre style=\"white-space:pre;overflow-x:auto;line-height:normal;font-family:Menlo,'DejaVu Sans Mono',consolas,'Courier New',monospace\">topic_5\n",
       "</pre>\n"
      ],
      "text/plain": [
       "topic_5\n"
      ]
     },
     "metadata": {},
     "output_type": "display_data"
    },
    {
     "data": {
      "text/html": [
       "<pre style=\"white-space:pre;overflow-x:auto;line-height:normal;font-family:Menlo,'DejaVu Sans Mono',consolas,'Courier New',monospace\"><span style=\"font-weight: bold\">[</span><span style=\"color: #008000; text-decoration-color: #008000\">'final project'</span>, <span style=\"color: #008000; text-decoration-color: #008000\">'huge and overload amount of tasks that are not suitable for presented content'</span><span style=\"font-weight: bold\">]</span>\n",
       "</pre>\n"
      ],
      "text/plain": [
       "\u001b[1m[\u001b[0m\u001b[32m'final project'\u001b[0m, \u001b[32m'huge and overload amount of tasks that are not suitable for presented content'\u001b[0m\u001b[1m]\u001b[0m\n"
      ]
     },
     "metadata": {},
     "output_type": "display_data"
    },
    {
     "data": {
      "text/html": [
       "<pre style=\"white-space:pre;overflow-x:auto;line-height:normal;font-family:Menlo,'DejaVu Sans Mono',consolas,'Courier New',monospace\">topic_9\n",
       "</pre>\n"
      ],
      "text/plain": [
       "topic_9\n"
      ]
     },
     "metadata": {},
     "output_type": "display_data"
    },
    {
     "data": {
      "text/html": [
       "<pre style=\"white-space:pre;overflow-x:auto;line-height:normal;font-family:Menlo,'DejaVu Sans Mono',consolas,'Courier New',monospace\"><span style=\"font-weight: bold\">[</span><span style=\"color: #008000; text-decoration-color: #008000\">'how relevant it is to the workplace'</span>, <span style=\"color: #008000; text-decoration-color: #008000\">'new in the techneaque world'</span><span style=\"font-weight: bold\">]</span>\n",
       "</pre>\n"
      ],
      "text/plain": [
       "\u001b[1m[\u001b[0m\u001b[32m'how relevant it is to the workplace'\u001b[0m, \u001b[32m'new in the techneaque world'\u001b[0m\u001b[1m]\u001b[0m\n"
      ]
     },
     "metadata": {},
     "output_type": "display_data"
    },
    {
     "data": {
      "text/html": [
       "<pre style=\"white-space:pre;overflow-x:auto;line-height:normal;font-family:Menlo,'DejaVu Sans Mono',consolas,'Courier New',monospace\">topic_6\n",
       "</pre>\n"
      ],
      "text/plain": [
       "topic_6\n"
      ]
     },
     "metadata": {},
     "output_type": "display_data"
    },
    {
     "data": {
      "text/html": [
       "<pre style=\"white-space:pre;overflow-x:auto;line-height:normal;font-family:Menlo,'DejaVu Sans Mono',consolas,'Courier New',monospace\"><span style=\"font-weight: bold\">[</span><span style=\"color: #008000; text-decoration-color: #008000\">'only one professor gives the course'</span>, <span style=\"color: #008000; text-decoration-color: #008000\">'professor knowledge'</span><span style=\"font-weight: bold\">]</span>\n",
       "</pre>\n"
      ],
      "text/plain": [
       "\u001b[1m[\u001b[0m\u001b[32m'only one professor gives the course'\u001b[0m, \u001b[32m'professor knowledge'\u001b[0m\u001b[1m]\u001b[0m\n"
      ]
     },
     "metadata": {},
     "output_type": "display_data"
    },
    {
     "data": {
      "text/html": [
       "<pre style=\"white-space:pre;overflow-x:auto;line-height:normal;font-family:Menlo,'DejaVu Sans Mono',consolas,'Courier New',monospace\">topic_10\n",
       "</pre>\n"
      ],
      "text/plain": [
       "topic_10\n"
      ]
     },
     "metadata": {},
     "output_type": "display_data"
    },
    {
     "data": {
      "text/html": [
       "<pre style=\"white-space:pre;overflow-x:auto;line-height:normal;font-family:Menlo,'DejaVu Sans Mono',consolas,'Courier New',monospace\"><span style=\"font-weight: bold\">[</span><span style=\"color: #008000; text-decoration-color: #008000\">'أبدا ماده علميه محكمه مقننه جباره'</span>, <span style=\"color: #008000; text-decoration-color: #008000\">'أسلوب تقديم المادة العلمية'</span><span style=\"font-weight: bold\">]</span>\n",
       "</pre>\n"
      ],
      "text/plain": [
       "\u001b[1m[\u001b[0m\u001b[32m'أبدا ماده علميه محكمه مقننه جباره'\u001b[0m, \u001b[32m'أسلوب تقديم المادة العلمية'\u001b[0m\u001b[1m]\u001b[0m\n"
      ]
     },
     "metadata": {},
     "output_type": "display_data"
    }
   ],
   "source": [
    "for k in topic_dict:\n",
    "    print(k)\n",
    "    print(topic_dict[k][:2])"
   ]
  },
  {
   "cell_type": "code",
   "execution_count": 54,
   "id": "9fc41800-d3f8-4489-b3a0-45e0bc94890f",
   "metadata": {
    "tags": []
   },
   "outputs": [
    {
     "name": "stderr",
     "output_type": "stream",
     "text": [
      "/home/elshehawy/anaconda3/lib/python3.11/site-packages/huggingface_hub/file_download.py:1132: FutureWarning: `resume_download` is deprecated and will be removed in version 1.0.0. Downloads always resume when possible. If you want to force a new download, use `force_download=True`.\n",
      "  warnings.warn(\n",
      "Some weights of the model checkpoint at sentence-transformers/use-cmlm-multilingual were not used when initializing BertModel: ['cls.predictions.transform.LayerNorm.bias', 'cls.seq_relationship.bias', 'cls.predictions.transform.dense.weight', 'cls.seq_relationship.weight', 'cls.predictions.transform.dense.bias', 'cls.predictions.bias', 'cls.predictions.transform.LayerNorm.weight']\n",
      "- This IS expected if you are initializing BertModel from the checkpoint of a model trained on another task or with another architecture (e.g. initializing a BertForSequenceClassification model from a BertForPreTraining model).\n",
      "- This IS NOT expected if you are initializing BertModel from the checkpoint of a model that you expect to be exactly identical (initializing a BertForSequenceClassification model from a BertForSequenceClassification model).\n"
     ]
    }
   ],
   "source": [
    "model_path = 'sentence-transformers/use-cmlm-multilingual'\n",
    "embedding_model = SentenceTransformer(model_path)"
   ]
  },
  {
   "cell_type": "code",
   "execution_count": 55,
   "id": "bde5578c-061c-4e86-8422-37189e4234dc",
   "metadata": {
    "tags": []
   },
   "outputs": [
    {
     "name": "stderr",
     "output_type": "stream",
     "text": [
      "100%|████████████████████████████████████████████████████████| 9/9 [00:15<00:00,  1.75s/it]\n"
     ]
    }
   ],
   "source": [
    "embed_dict = {}\n",
    "device = 'cpu'\n",
    "for topic_id, text in tqdm(topic_dict.items()):\n",
    "    embed_dict[topic_id] = embedding_model.encode(text, device=device, show_progress_bar=False)"
   ]
  },
  {
   "cell_type": "code",
   "execution_count": 56,
   "id": "911e94d8-d223-4a46-a471-b2d6fa63eaaa",
   "metadata": {
    "tags": []
   },
   "outputs": [
    {
     "data": {
      "text/plain": [
       "(448, 768)"
      ]
     },
     "execution_count": 56,
     "metadata": {},
     "output_type": "execute_result"
    }
   ],
   "source": [
    "embed_dict['topic_0'].shape"
   ]
  },
  {
   "cell_type": "code",
   "execution_count": 57,
   "id": "0ebd9b95-d141-401d-a637-f04ef94f1b1f",
   "metadata": {
    "tags": []
   },
   "outputs": [],
   "source": [
    "embed_dict_mean = {k: v.mean(axis=0) for k, v in embed_dict.items()}"
   ]
  },
  {
   "cell_type": "code",
   "execution_count": 58,
   "id": "58fb0beb-2d8d-489d-b482-1603b1ed66e3",
   "metadata": {
    "tags": []
   },
   "outputs": [
    {
     "data": {
      "text/plain": [
       "(768,)"
      ]
     },
     "execution_count": 58,
     "metadata": {},
     "output_type": "execute_result"
    }
   ],
   "source": [
    "embed_dict_mean['topic_0'].shape"
   ]
  },
  {
   "cell_type": "code",
   "execution_count": 59,
   "id": "2c82bcae-9524-480a-bc90-71035acba027",
   "metadata": {
    "tags": []
   },
   "outputs": [
    {
     "data": {
      "text/html": [
       "<pre style=\"white-space:pre;overflow-x:auto;line-height:normal;font-family:Menlo,'DejaVu Sans Mono',consolas,'Courier New',monospace\"><span style=\"font-weight: bold\">[</span><span style=\"color: #008000; text-decoration-color: #008000\">'topic_0'</span>, <span style=\"color: #008000; text-decoration-color: #008000\">'topic_1'</span>, <span style=\"color: #008000; text-decoration-color: #008000\">'topic_10'</span>, <span style=\"color: #008000; text-decoration-color: #008000\">'topic_2'</span>, <span style=\"color: #008000; text-decoration-color: #008000\">'topic_3'</span>, <span style=\"color: #008000; text-decoration-color: #008000\">'topic_5'</span>, <span style=\"color: #008000; text-decoration-color: #008000\">'topic_6'</span>, <span style=\"color: #008000; text-decoration-color: #008000\">'topic_8'</span>, <span style=\"color: #008000; text-decoration-color: #008000\">'topic_9'</span><span style=\"font-weight: bold\">]</span>\n",
       "</pre>\n"
      ],
      "text/plain": [
       "\u001b[1m[\u001b[0m\u001b[32m'topic_0'\u001b[0m, \u001b[32m'topic_1'\u001b[0m, \u001b[32m'topic_10'\u001b[0m, \u001b[32m'topic_2'\u001b[0m, \u001b[32m'topic_3'\u001b[0m, \u001b[32m'topic_5'\u001b[0m, \u001b[32m'topic_6'\u001b[0m, \u001b[32m'topic_8'\u001b[0m, \u001b[32m'topic_9'\u001b[0m\u001b[1m]\u001b[0m\n"
      ]
     },
     "metadata": {},
     "output_type": "display_data"
    }
   ],
   "source": [
    "topic_keys = sorted(embed_dict.keys())\n",
    "print(topic_keys)"
   ]
  },
  {
   "cell_type": "code",
   "execution_count": 60,
   "id": "82b4b0ce-8bf0-455b-8046-beda0cb76b12",
   "metadata": {
    "tags": []
   },
   "outputs": [],
   "source": [
    "topic_embddings = [embed_dict_mean[key] for key in topic_keys]"
   ]
  },
  {
   "cell_type": "code",
   "execution_count": 61,
   "id": "337bcf00-3d52-4724-9aac-b00735f1df6a",
   "metadata": {
    "tags": []
   },
   "outputs": [
    {
     "data": {
      "application/vnd.jupyter.widget-view+json": {
       "model_id": "d0770d017f9248cd897ed8add13b0150",
       "version_major": 2,
       "version_minor": 0
      },
      "text/plain": [
       "Batches:   0%|          | 0/7 [00:00<?, ?it/s]"
      ]
     },
     "metadata": {},
     "output_type": "display_data"
    }
   ],
   "source": [
    "target_idx = [4, 7, -1]\n",
    "outlier_topics_index = data[data['topic_id'].isin(target_idx)].index.tolist()\n",
    "outlier_topics_text = data[data['topic_id'].isin(target_idx)].text.tolist()\n",
    "outlier_topics_embeddings = embedding_model.encode(outlier_topics_text, device=device, show_progress_bar=True)"
   ]
  },
  {
   "cell_type": "code",
   "execution_count": 62,
   "id": "5cad7996-1eab-4087-b17c-64031b202848",
   "metadata": {
    "tags": []
   },
   "outputs": [],
   "source": [
    "similarities = cosine_similarity(outlier_topics_embeddings, topic_embddings)"
   ]
  },
  {
   "cell_type": "code",
   "execution_count": 63,
   "id": "57fe6a4e-8400-414e-a998-2e5754835993",
   "metadata": {
    "tags": []
   },
   "outputs": [
    {
     "data": {
      "text/plain": [
       "(217, 9)"
      ]
     },
     "execution_count": 63,
     "metadata": {},
     "output_type": "execute_result"
    }
   ],
   "source": [
    "similarities.shape"
   ]
  },
  {
   "cell_type": "code",
   "execution_count": 64,
   "id": "867f73d7-b6d9-48af-adbb-2d6583a0c48a",
   "metadata": {
    "tags": []
   },
   "outputs": [
    {
     "data": {
      "text/plain": [
       "0.1111111111111111"
      ]
     },
     "execution_count": 64,
     "metadata": {},
     "output_type": "execute_result"
    }
   ],
   "source": [
    "1/9"
   ]
  },
  {
   "cell_type": "code",
   "execution_count": 65,
   "id": "775c99e8-93fd-4b4f-9549-4a3e1a54bc3e",
   "metadata": {
    "tags": []
   },
   "outputs": [],
   "source": [
    "def argmax(arr, num_cols, threshold=0.0):\n",
    "    idx = []\n",
    "    for row in arr:\n",
    "        assert len(row) == num_cols\n",
    "        i = -1\n",
    "        if np.max(row) >= threshold:\n",
    "            i = np.argmax(row)\n",
    "        \n",
    "        idx.append(i)\n",
    "    return np.array(idx)"
   ]
  },
  {
   "cell_type": "code",
   "execution_count": 66,
   "id": "ad8225de-6663-4a29-838d-fc96cbf6fa81",
   "metadata": {
    "tags": []
   },
   "outputs": [],
   "source": [
    "threshold = 0.22\n",
    "max_similarities_idx = argmax(similarities, 9, threshold=threshold)"
   ]
  },
  {
   "cell_type": "code",
   "execution_count": 67,
   "id": "b1bf0d28-e994-4d66-99a8-cd050e89541f",
   "metadata": {
    "tags": []
   },
   "outputs": [
    {
     "data": {
      "text/plain": [
       "array([ 6,  6,  6,  1,  1,  1,  1,  1, -1,  1,  6, -1, -1, -1,  0,  6, -1,\n",
       "        1,  6, -1, -1, -1, -1,  6,  6,  6,  0,  1,  5,  0,  0,  1,  1,  1,\n",
       "        1,  1,  1,  0, -1,  1,  1,  0,  6,  6,  4,  6,  1,  6,  6,  6,  6,\n",
       "        6,  6,  0,  4,  1,  6,  1,  6, -1,  2,  1,  1,  0,  6,  1,  6,  1,\n",
       "        0,  1,  6,  1,  6,  1,  6, -1, -1,  6,  6,  1,  6,  1,  1,  1,  6,\n",
       "        1,  1,  1, -1,  6,  1,  1,  6,  6,  1,  6,  1,  4,  6,  1,  7,  0,\n",
       "        1,  6, -1,  2,  4,  6,  2,  0,  6,  0,  6,  1,  2,  0,  0,  6,  6,\n",
       "        0,  6,  5,  6,  6,  6,  8,  6,  7,  2,  2,  5,  1,  7,  0,  6,  2,\n",
       "        0,  4,  0,  1,  6,  6,  6,  6,  1,  1,  1,  6,  1, -1,  1,  5,  1,\n",
       "        0,  6,  6,  1, -1,  6,  6,  6, -1,  6,  0,  0, -1,  6, -1,  6,  1,\n",
       "       -1,  5,  1,  6,  6,  1,  1, -1,  6,  6,  6,  1,  6,  1,  1,  0,  4,\n",
       "        1,  1,  6,  1,  6,  1,  6,  6,  0,  6,  6,  5,  0,  6,  1,  1, -1,\n",
       "        0,  5,  6,  6,  6, -1,  6,  1,  6,  4, -1,  6,  0])"
      ]
     },
     "execution_count": 67,
     "metadata": {},
     "output_type": "execute_result"
    }
   ],
   "source": [
    "max_similarities_idx"
   ]
  },
  {
   "cell_type": "code",
   "execution_count": 68,
   "id": "43dfd63f-2be0-4491-a6db-daa508c2f57a",
   "metadata": {
    "tags": []
   },
   "outputs": [
    {
     "data": {
      "text/html": [
       "<pre style=\"white-space:pre;overflow-x:auto;line-height:normal;font-family:Menlo,'DejaVu Sans Mono',consolas,'Courier New',monospace\"><span style=\"font-weight: bold\">[</span><span style=\"color: #008000; text-decoration-color: #008000\">'topic_6'</span>, <span style=\"color: #008000; text-decoration-color: #008000\">'topic_6'</span>, <span style=\"color: #008000; text-decoration-color: #008000\">'topic_6'</span>, <span style=\"color: #008000; text-decoration-color: #008000\">'topic_1'</span>, <span style=\"color: #008000; text-decoration-color: #008000\">'topic_1'</span>, <span style=\"color: #008000; text-decoration-color: #008000\">'topic_1'</span><span style=\"font-weight: bold\">]</span>\n",
       "</pre>\n"
      ],
      "text/plain": [
       "\u001b[1m[\u001b[0m\u001b[32m'topic_6'\u001b[0m, \u001b[32m'topic_6'\u001b[0m, \u001b[32m'topic_6'\u001b[0m, \u001b[32m'topic_1'\u001b[0m, \u001b[32m'topic_1'\u001b[0m, \u001b[32m'topic_1'\u001b[0m\u001b[1m]\u001b[0m\n"
      ]
     },
     "metadata": {},
     "output_type": "display_data"
    }
   ],
   "source": [
    "new_topics = [topic_keys[i] if i!=-1 else 'topic_-1' for i in max_similarities_idx]\n",
    "print(new_topics[:6])"
   ]
  },
  {
   "cell_type": "code",
   "execution_count": 69,
   "id": "189b04ed-314c-4057-aa41-c20bc29edc92",
   "metadata": {
    "tags": []
   },
   "outputs": [],
   "source": [
    "new_topics = [int(topic_name.split('_')[-1]) for topic_name in new_topics]"
   ]
  },
  {
   "cell_type": "code",
   "execution_count": 70,
   "id": "3a48b599-6065-4e0d-a5b3-374627e39735",
   "metadata": {
    "tags": []
   },
   "outputs": [
    {
     "data": {
      "text/html": [
       "<pre style=\"white-space:pre;overflow-x:auto;line-height:normal;font-family:Menlo,'DejaVu Sans Mono',consolas,'Courier New',monospace\"><span style=\"font-weight: bold\">[</span><span style=\"color: #008080; text-decoration-color: #008080; font-weight: bold\">6</span>, <span style=\"color: #008080; text-decoration-color: #008080; font-weight: bold\">6</span>, <span style=\"color: #008080; text-decoration-color: #008080; font-weight: bold\">6</span>, <span style=\"color: #008080; text-decoration-color: #008080; font-weight: bold\">1</span>, <span style=\"color: #008080; text-decoration-color: #008080; font-weight: bold\">1</span>, <span style=\"color: #008080; text-decoration-color: #008080; font-weight: bold\">1</span>, <span style=\"color: #008080; text-decoration-color: #008080; font-weight: bold\">1</span>, <span style=\"color: #008080; text-decoration-color: #008080; font-weight: bold\">1</span>, <span style=\"color: #008080; text-decoration-color: #008080; font-weight: bold\">-1</span>, <span style=\"color: #008080; text-decoration-color: #008080; font-weight: bold\">1</span>, <span style=\"color: #008080; text-decoration-color: #008080; font-weight: bold\">6</span>, <span style=\"color: #008080; text-decoration-color: #008080; font-weight: bold\">-1</span>, <span style=\"color: #008080; text-decoration-color: #008080; font-weight: bold\">-1</span>, <span style=\"color: #008080; text-decoration-color: #008080; font-weight: bold\">-1</span>, <span style=\"color: #008080; text-decoration-color: #008080; font-weight: bold\">0</span>, <span style=\"color: #008080; text-decoration-color: #008080; font-weight: bold\">6</span>, <span style=\"color: #008080; text-decoration-color: #008080; font-weight: bold\">-1</span>, <span style=\"color: #008080; text-decoration-color: #008080; font-weight: bold\">1</span>, <span style=\"color: #008080; text-decoration-color: #008080; font-weight: bold\">6</span>, <span style=\"color: #008080; text-decoration-color: #008080; font-weight: bold\">-1</span><span style=\"font-weight: bold\">]</span>\n",
       "</pre>\n"
      ],
      "text/plain": [
       "\u001b[1m[\u001b[0m\u001b[1;36m6\u001b[0m, \u001b[1;36m6\u001b[0m, \u001b[1;36m6\u001b[0m, \u001b[1;36m1\u001b[0m, \u001b[1;36m1\u001b[0m, \u001b[1;36m1\u001b[0m, \u001b[1;36m1\u001b[0m, \u001b[1;36m1\u001b[0m, \u001b[1;36m-1\u001b[0m, \u001b[1;36m1\u001b[0m, \u001b[1;36m6\u001b[0m, \u001b[1;36m-1\u001b[0m, \u001b[1;36m-1\u001b[0m, \u001b[1;36m-1\u001b[0m, \u001b[1;36m0\u001b[0m, \u001b[1;36m6\u001b[0m, \u001b[1;36m-1\u001b[0m, \u001b[1;36m1\u001b[0m, \u001b[1;36m6\u001b[0m, \u001b[1;36m-1\u001b[0m\u001b[1m]\u001b[0m\n"
      ]
     },
     "metadata": {},
     "output_type": "display_data"
    }
   ],
   "source": [
    "print(new_topics[:20])"
   ]
  },
  {
   "cell_type": "code",
   "execution_count": 71,
   "id": "74557038-c11b-4c62-8730-73cbf4541a90",
   "metadata": {
    "tags": []
   },
   "outputs": [],
   "source": [
    "df = data.copy()"
   ]
  },
  {
   "cell_type": "markdown",
   "id": "27cf3c64-5c1f-4b75-a0c6-6f66f8b99b97",
   "metadata": {},
   "source": [
    "########## Topics After Merging From Last Step ##########\n",
    "0 محتوى ومعلومات المقرر\n",
    "1 دكتور المقرر\n",
    "2 None\n",
    "3 موازنة الجزء العملي مع الجزء النظري \n",
    "4 = 2 before merging\n",
    "5 المتطلبات و المهام و الدرجات\n",
    "6 طريقة تدريس و تقديم المادة\n",
    "7 = 9 before merging\n",
    "8 الوقت و الجدول\n",
    "9 سوق العمل\n",
    "10 الجانب البحثي و الأوراق البحثية\n",
    "###########################################"
   ]
  },
  {
   "cell_type": "code",
   "execution_count": 72,
   "id": "e228be03-76fa-4a23-8e2f-df8533e9549c",
   "metadata": {
    "tags": []
   },
   "outputs": [],
   "source": [
    "df.loc[outlier_topics_index, 'topic_id'] = new_topics"
   ]
  },
  {
   "cell_type": "code",
   "execution_count": 73,
   "id": "440d44e6-63fb-4142-9d01-37c133fe1733",
   "metadata": {
    "tags": []
   },
   "outputs": [
    {
     "data": {
      "text/plain": [
       "25"
      ]
     },
     "execution_count": 73,
     "metadata": {},
     "output_type": "execute_result"
    }
   ],
   "source": [
    "len(df[df['topic_id'].isin([-1])])"
   ]
  },
  {
   "cell_type": "code",
   "execution_count": 75,
   "id": "2aaf3f17-d678-4f3e-bf67-2f42704770fd",
   "metadata": {
    "tags": []
   },
   "outputs": [
    {
     "data": {
      "text/plain": [
       "217"
      ]
     },
     "execution_count": 75,
     "metadata": {},
     "output_type": "execute_result"
    }
   ],
   "source": [
    "len(data[data['topic_id'].isin(target_idx)])"
   ]
  },
  {
   "cell_type": "code",
   "execution_count": 77,
   "id": "ca36d9cf-59e0-494f-9ca6-4f1320570359",
   "metadata": {
    "tags": []
   },
   "outputs": [
    {
     "data": {
      "text/plain": [
       "array([ 1,  6,  0,  3,  2, -1,  8,  5,  9, 10])"
      ]
     },
     "execution_count": 77,
     "metadata": {},
     "output_type": "execute_result"
    }
   ],
   "source": [
    "df['topic_id'].unique()"
   ]
  },
  {
   "cell_type": "code",
   "execution_count": 78,
   "id": "decedb70-c5e4-42b9-aac6-058972c3ed51",
   "metadata": {
    "tags": []
   },
   "outputs": [],
   "source": [
    "# print(df[df['topic_id']==-1]['text'].tolist())"
   ]
  },
  {
   "cell_type": "code",
   "execution_count": 79,
   "id": "cfac932b-e0d8-4647-ab66-371caae6f404",
   "metadata": {
    "tags": []
   },
   "outputs": [],
   "source": [
    "topic_names_dict = {\n",
    "    -1: \"Outlier\",\n",
    "    0: \"محتوى ومعلومات المقرر\", \n",
    "    1: \"دكتور المقرر\", \n",
    "    2: \"None\", \n",
    "    3: \"موازنة الجزء العملي مع الجزء النظري\", \n",
    "    5: \"المتطلبات و المهام و الدرجات\", \n",
    "    6: \"طريقة تدريس و تقديم المادة\", \n",
    "    8: \"الوقت و الجدول\", \n",
    "    9: \"سوق العمل\", \n",
    "    10: \"الجانب البحثي و الأوراق البحثية\"\n",
    "}"
   ]
  },
  {
   "cell_type": "code",
   "execution_count": 80,
   "id": "7fa27731-7a54-47c3-9a77-d9259ffc624e",
   "metadata": {
    "tags": []
   },
   "outputs": [],
   "source": [
    "df['topic_name'] = df['topic_id'].apply(lambda x: topic_names_dict[x])"
   ]
  },
  {
   "cell_type": "code",
   "execution_count": 81,
   "id": "df941df1-29fd-4269-816d-7814cf0448ff",
   "metadata": {
    "collapsed": true,
    "jupyter": {
     "outputs_hidden": true
    },
    "tags": []
   },
   "outputs": [
    {
     "data": {
      "text/html": [
       "<pre style=\"white-space:pre;overflow-x:auto;line-height:normal;font-family:Menlo,'DejaVu Sans Mono',consolas,'Courier New',monospace\">- إعطاء مشاريع صغيرة بدلا من مشروع كبير-يكون الغرض التركيز على إكساب الطلبة المهارات الأساسية نظرا لعدم دراسة هذه \n",
       "المادة سابقا في البكالوريس\n",
       "        Topic is: <span style=\"color: #008080; text-decoration-color: #008080; font-weight: bold\">6</span>-طريقة تدريس و تقديم المادة\n",
       "</pre>\n"
      ],
      "text/plain": [
       "- إعطاء مشاريع صغيرة بدلا من مشروع كبير-يكون الغرض التركيز على إكساب الطلبة المهارات الأساسية نظرا لعدم دراسة هذه \n",
       "المادة سابقا في البكالوريس\n",
       "        Topic is: \u001b[1;36m6\u001b[0m-طريقة تدريس و تقديم المادة\n"
      ]
     },
     "metadata": {},
     "output_type": "display_data"
    },
    {
     "data": {
      "text/html": [
       "<pre style=\"white-space:pre;overflow-x:auto;line-height:normal;font-family:Menlo,'DejaVu Sans Mono',consolas,'Courier New',monospace\">- التركيز على إعطاء الطلبة خلفية جيدة عن تعلم الالة بشكل واضح وبسيط وتوقعانهم أول مرة يدرسوها\n",
       "        Topic is: <span style=\"color: #008080; text-decoration-color: #008080; font-weight: bold\">6</span>-طريقة تدريس و تقديم المادة\n",
       "</pre>\n"
      ],
      "text/plain": [
       "- التركيز على إعطاء الطلبة خلفية جيدة عن تعلم الالة بشكل واضح وبسيط وتوقعانهم أول مرة يدرسوها\n",
       "        Topic is: \u001b[1;36m6\u001b[0m-طريقة تدريس و تقديم المادة\n"
      ]
     },
     "metadata": {},
     "output_type": "display_data"
    },
    {
     "data": {
      "text/html": [
       "<pre style=\"white-space:pre;overflow-x:auto;line-height:normal;font-family:Menlo,'DejaVu Sans Mono',consolas,'Courier New',monospace\">- عمل منهج واضح بالنسبة للطلاب ومحدد-إيضاح طريقة التقييم-دمج محتوى المنهج مع ما ناخذه كطلاب علوم حاسبات في المواد \n",
       "الأخرى\n",
       "        Topic is: <span style=\"color: #008080; text-decoration-color: #008080; font-weight: bold\">6</span>-طريقة تدريس و تقديم المادة\n",
       "</pre>\n"
      ],
      "text/plain": [
       "- عمل منهج واضح بالنسبة للطلاب ومحدد-إيضاح طريقة التقييم-دمج محتوى المنهج مع ما ناخذه كطلاب علوم حاسبات في المواد \n",
       "الأخرى\n",
       "        Topic is: \u001b[1;36m6\u001b[0m-طريقة تدريس و تقديم المادة\n"
      ]
     },
     "metadata": {},
     "output_type": "display_data"
    },
    {
     "data": {
      "text/html": [
       "<pre style=\"white-space:pre;overflow-x:auto;line-height:normal;font-family:Menlo,'DejaVu Sans Mono',consolas,'Courier New',monospace\"><span style=\"color: #008080; text-decoration-color: #008080; font-weight: bold\">1</span>-the verity of tools that we used and applied <span style=\"color: #008080; text-decoration-color: #008080; font-weight: bold\">2</span>-knowing how to access aziz in data processing <span style=\"color: #008080; text-decoration-color: #008080; font-weight: bold\">3</span>-having <span style=\"color: #008080; text-decoration-color: #008080; font-weight: bold\">3</span> \n",
       "presentations during the semester about the the topic that i am focusing on was improved my presenting skills. \n",
       "<span style=\"color: #008080; text-decoration-color: #008080; font-weight: bold\">4</span>-<span style=\"font-weight: bold\">[</span>رابط<span style=\"font-weight: bold\">]</span> was so cooperative in term of specifying the dates and deadlines for our work and presentations.\n",
       "        Topic is: <span style=\"color: #008080; text-decoration-color: #008080; font-weight: bold\">1</span>-دكتور المقرر\n",
       "</pre>\n"
      ],
      "text/plain": [
       "\u001b[1;36m1\u001b[0m-the verity of tools that we used and applied \u001b[1;36m2\u001b[0m-knowing how to access aziz in data processing \u001b[1;36m3\u001b[0m-having \u001b[1;36m3\u001b[0m \n",
       "presentations during the semester about the the topic that i am focusing on was improved my presenting skills. \n",
       "\u001b[1;36m4\u001b[0m-\u001b[1m[\u001b[0mرابط\u001b[1m]\u001b[0m was so cooperative in term of specifying the dates and deadlines for our work and presentations.\n",
       "        Topic is: \u001b[1;36m1\u001b[0m-دكتور المقرر\n"
      ]
     },
     "metadata": {},
     "output_type": "display_data"
    },
    {
     "data": {
      "text/html": [
       "<pre style=\"white-space:pre;overflow-x:auto;line-height:normal;font-family:Menlo,'DejaVu Sans Mono',consolas,'Courier New',monospace\"><span style=\"color: #008080; text-decoration-color: #008080; font-weight: bold\">1</span>-المنهج والمحتوى جميل ومفيد <span style=\"color: #008080; text-decoration-color: #008080; font-weight: bold\">2</span>-فكره تطبيق أغلب المواضيع تطبيق عملي وياليت تكون أكثر ويلغى الاختبار النظري لانه \n",
       "لايرجع بفائه مثل التطبيق العملي وهو الأهم\n",
       "        Topic is: <span style=\"color: #008080; text-decoration-color: #008080; font-weight: bold\">1</span>-دكتور المقرر\n",
       "</pre>\n"
      ],
      "text/plain": [
       "\u001b[1;36m1\u001b[0m-المنهج والمحتوى جميل ومفيد \u001b[1;36m2\u001b[0m-فكره تطبيق أغلب المواضيع تطبيق عملي وياليت تكون أكثر ويلغى الاختبار النظري لانه \n",
       "لايرجع بفائه مثل التطبيق العملي وهو الأهم\n",
       "        Topic is: \u001b[1;36m1\u001b[0m-دكتور المقرر\n"
      ]
     },
     "metadata": {},
     "output_type": "display_data"
    },
    {
     "data": {
      "text/html": [
       "<pre style=\"white-space:pre;overflow-x:auto;line-height:normal;font-family:Menlo,'DejaVu Sans Mono',consolas,'Courier New',monospace\"><span style=\"color: #008080; text-decoration-color: #008080; font-weight: bold\">1</span>-تحسين أسلوب دكتوره الماده في التعامل <span style=\"color: #008080; text-decoration-color: #008080; font-weight: bold\">2</span>-التقليل من كمية و صعوبة البحث المطلوب <span style=\"color: #008080; text-decoration-color: #008080; font-weight: bold\">3</span>-وضع وصف واضح للنقاط المطلوبة في \n",
       "الواجبات <span style=\"color: #008080; text-decoration-color: #008080; font-weight: bold\">4</span>-تعديل مخطط المقرر ليحتوي على مخرجات التعلم و أشياء أخرى\n",
       "        Topic is: <span style=\"color: #008080; text-decoration-color: #008080; font-weight: bold\">1</span>-دكتور المقرر\n",
       "</pre>\n"
      ],
      "text/plain": [
       "\u001b[1;36m1\u001b[0m-تحسين أسلوب دكتوره الماده في التعامل \u001b[1;36m2\u001b[0m-التقليل من كمية و صعوبة البحث المطلوب \u001b[1;36m3\u001b[0m-وضع وصف واضح للنقاط المطلوبة في \n",
       "الواجبات \u001b[1;36m4\u001b[0m-تعديل مخطط المقرر ليحتوي على مخرجات التعلم و أشياء أخرى\n",
       "        Topic is: \u001b[1;36m1\u001b[0m-دكتور المقرر\n"
      ]
     },
     "metadata": {},
     "output_type": "display_data"
    },
    {
     "data": {
      "text/html": [
       "<pre style=\"white-space:pre;overflow-x:auto;line-height:normal;font-family:Menlo,'DejaVu Sans Mono',consolas,'Courier New',monospace\"><span style=\"color: #008080; text-decoration-color: #008080; font-weight: bold\">1</span>-شمولية المقرر <span style=\"color: #008080; text-decoration-color: #008080; font-weight: bold\">2</span>-المام الدكتور عبدالله وشرحة التفاعلي داخل المحاضرات <span style=\"color: #008080; text-decoration-color: #008080; font-weight: bold\">3</span>-المشاريع التي طلبت منا ذات جوده وقيمة علميه\n",
       "عاليه\n",
       "        Topic is: <span style=\"color: #008080; text-decoration-color: #008080; font-weight: bold\">1</span>-دكتور المقرر\n",
       "</pre>\n"
      ],
      "text/plain": [
       "\u001b[1;36m1\u001b[0m-شمولية المقرر \u001b[1;36m2\u001b[0m-المام الدكتور عبدالله وشرحة التفاعلي داخل المحاضرات \u001b[1;36m3\u001b[0m-المشاريع التي طلبت منا ذات جوده وقيمة علميه\n",
       "عاليه\n",
       "        Topic is: \u001b[1;36m1\u001b[0m-دكتور المقرر\n"
      ]
     },
     "metadata": {},
     "output_type": "display_data"
    },
    {
     "data": {
      "text/html": [
       "<pre style=\"white-space:pre;overflow-x:auto;line-height:normal;font-family:Menlo,'DejaVu Sans Mono',consolas,'Courier New',monospace\">aziz wan ' t accessible from the university internet which prevent us from taking enough practice on it\n",
       "        Topic is: <span style=\"color: #008080; text-decoration-color: #008080; font-weight: bold\">1</span>-دكتور المقرر\n",
       "</pre>\n"
      ],
      "text/plain": [
       "aziz wan ' t accessible from the university internet which prevent us from taking enough practice on it\n",
       "        Topic is: \u001b[1;36m1\u001b[0m-دكتور المقرر\n"
      ]
     },
     "metadata": {},
     "output_type": "display_data"
    },
    {
     "data": {
      "text/html": [
       "<pre style=\"white-space:pre;overflow-x:auto;line-height:normal;font-family:Menlo,'DejaVu Sans Mono',consolas,'Courier New',monospace\">demonstrate how all the learned techniques can help in area of research especially relating to computer science.\n",
       "        Topic is: <span style=\"color: #008080; text-decoration-color: #008080; font-weight: bold\">-1</span>-Outlier\n",
       "</pre>\n"
      ],
      "text/plain": [
       "demonstrate how all the learned techniques can help in area of research especially relating to computer science.\n",
       "        Topic is: \u001b[1;36m-1\u001b[0m-Outlier\n"
      ]
     },
     "metadata": {},
     "output_type": "display_data"
    },
    {
     "data": {
      "text/html": [
       "<pre style=\"white-space:pre;overflow-x:auto;line-height:normal;font-family:Menlo,'DejaVu Sans Mono',consolas,'Courier New',monospace\">dr. maha is soo wonderful and has an interesting style and is keen to open channels of communication with the \n",
       "students at all times and respond to all inquiries with love and high professionalism\n",
       "        Topic is: <span style=\"color: #008080; text-decoration-color: #008080; font-weight: bold\">1</span>-دكتور المقرر\n",
       "</pre>\n"
      ],
      "text/plain": [
       "dr. maha is soo wonderful and has an interesting style and is keen to open channels of communication with the \n",
       "students at all times and respond to all inquiries with love and high professionalism\n",
       "        Topic is: \u001b[1;36m1\u001b[0m-دكتور المقرر\n"
      ]
     },
     "metadata": {},
     "output_type": "display_data"
    },
    {
     "data": {
      "text/html": [
       "<pre style=\"white-space:pre;overflow-x:auto;line-height:normal;font-family:Menlo,'DejaVu Sans Mono',consolas,'Courier New',monospace\">engaging lectures and projects.\n",
       "        Topic is: <span style=\"color: #008080; text-decoration-color: #008080; font-weight: bold\">6</span>-طريقة تدريس و تقديم المادة\n",
       "</pre>\n"
      ],
      "text/plain": [
       "engaging lectures and projects.\n",
       "        Topic is: \u001b[1;36m6\u001b[0m-طريقة تدريس و تقديم المادة\n"
      ]
     },
     "metadata": {},
     "output_type": "display_data"
    },
    {
     "data": {
      "text/html": [
       "<pre style=\"white-space:pre;overflow-x:auto;line-height:normal;font-family:Menlo,'DejaVu Sans Mono',consolas,'Courier New',monospace\">enhancements in the availability and accessibility of technical resources, including software tools, development \n",
       "environments, and hardware, would further support students in their software engineering learning journey.\n",
       "        Topic is: <span style=\"color: #008080; text-decoration-color: #008080; font-weight: bold\">-1</span>-Outlier\n",
       "</pre>\n"
      ],
      "text/plain": [
       "enhancements in the availability and accessibility of technical resources, including software tools, development \n",
       "environments, and hardware, would further support students in their software engineering learning journey.\n",
       "        Topic is: \u001b[1;36m-1\u001b[0m-Outlier\n"
      ]
     },
     "metadata": {},
     "output_type": "display_data"
    },
    {
     "data": {
      "text/html": [
       "<pre style=\"white-space:pre;overflow-x:auto;line-height:normal;font-family:Menlo,'DejaVu Sans Mono',consolas,'Courier New',monospace\">i liked the multiple short quizzes instead of one long exam.\n",
       "        Topic is: <span style=\"color: #008080; text-decoration-color: #008080; font-weight: bold\">-1</span>-Outlier\n",
       "</pre>\n"
      ],
      "text/plain": [
       "i liked the multiple short quizzes instead of one long exam.\n",
       "        Topic is: \u001b[1;36m-1\u001b[0m-Outlier\n"
      ]
     },
     "metadata": {},
     "output_type": "display_data"
    },
    {
     "data": {
      "text/html": [
       "<pre style=\"white-space:pre;overflow-x:auto;line-height:normal;font-family:Menlo,'DejaVu Sans Mono',consolas,'Courier New',monospace\">please give the material to a person who is specialized in it for the ease of communicating the information to the \n",
       "student and in order to help the student to apply in the subject. unfortunately, the doctor, who submits the \n",
       "material only reads from the slides and comes with a request from outside the curriculum. we have not trained to \n",
       "solve it. in addition to checking the correction of duties with science. this subject before you study, it is \n",
       "necessary to study mathematics and statistics and has requirements, in addition to the teacher ' s failure to take \n",
       "into account the students. i hope that a survey and survey will be taken from the students who took the subject to \n",
       "make sure of what i said.\n",
       "        Topic is: <span style=\"color: #008080; text-decoration-color: #008080; font-weight: bold\">-1</span>-Outlier\n",
       "</pre>\n"
      ],
      "text/plain": [
       "please give the material to a person who is specialized in it for the ease of communicating the information to the \n",
       "student and in order to help the student to apply in the subject. unfortunately, the doctor, who submits the \n",
       "material only reads from the slides and comes with a request from outside the curriculum. we have not trained to \n",
       "solve it. in addition to checking the correction of duties with science. this subject before you study, it is \n",
       "necessary to study mathematics and statistics and has requirements, in addition to the teacher ' s failure to take \n",
       "into account the students. i hope that a survey and survey will be taken from the students who took the subject to \n",
       "make sure of what i said.\n",
       "        Topic is: \u001b[1;36m-1\u001b[0m-Outlier\n"
      ]
     },
     "metadata": {},
     "output_type": "display_data"
    },
    {
     "data": {
      "text/html": [
       "<pre style=\"white-space:pre;overflow-x:auto;line-height:normal;font-family:Menlo,'DejaVu Sans Mono',consolas,'Courier New',monospace\">that this course helped me to have as skills in very important part in cybersecurity wiches writing policy\n",
       "        Topic is: <span style=\"color: #008080; text-decoration-color: #008080; font-weight: bold\">0</span>-محتوى ومعلومات المقرر\n",
       "</pre>\n"
      ],
      "text/plain": [
       "that this course helped me to have as skills in very important part in cybersecurity wiches writing policy\n",
       "        Topic is: \u001b[1;36m0\u001b[0m-محتوى ومعلومات المقرر\n"
      ]
     },
     "metadata": {},
     "output_type": "display_data"
    },
    {
     "data": {
      "text/html": [
       "<pre style=\"white-space:pre;overflow-x:auto;line-height:normal;font-family:Menlo,'DejaVu Sans Mono',consolas,'Courier New',monospace\">the amount of material i had study in this course was not reasonable and not enough for the credit hours allocated.\n",
       "        Topic is: <span style=\"color: #008080; text-decoration-color: #008080; font-weight: bold\">6</span>-طريقة تدريس و تقديم المادة\n",
       "</pre>\n"
      ],
      "text/plain": [
       "the amount of material i had study in this course was not reasonable and not enough for the credit hours allocated.\n",
       "        Topic is: \u001b[1;36m6\u001b[0m-طريقة تدريس و تقديم المادة\n"
      ]
     },
     "metadata": {},
     "output_type": "display_data"
    },
    {
     "data": {
      "text/html": [
       "<pre style=\"white-space:pre;overflow-x:auto;line-height:normal;font-family:Menlo,'DejaVu Sans Mono',consolas,'Courier New',monospace\">the content of course it <span style=\"color: #008000; text-decoration-color: #008000\">'s seems a ph. d. (image processing), not (computer vision) also the way of the final exam</span>\n",
       "<span style=\"color: #008000; text-decoration-color: #008000\">it'</span> s not a good experience.\n",
       "        Topic is: <span style=\"color: #008080; text-decoration-color: #008080; font-weight: bold\">-1</span>-Outlier\n",
       "</pre>\n"
      ],
      "text/plain": [
       "the content of course it \u001b[32m's seems a ph. d. \u001b[0m\u001b[32m(\u001b[0m\u001b[32mimage processing\u001b[0m\u001b[32m)\u001b[0m\u001b[32m, not \u001b[0m\u001b[32m(\u001b[0m\u001b[32mcomputer vision\u001b[0m\u001b[32m)\u001b[0m\u001b[32m also the way of the final exam\u001b[0m\n",
       "\u001b[32mit'\u001b[0m s not a good experience.\n",
       "        Topic is: \u001b[1;36m-1\u001b[0m-Outlier\n"
      ]
     },
     "metadata": {},
     "output_type": "display_data"
    },
    {
     "data": {
      "text/html": [
       "<pre style=\"white-space:pre;overflow-x:auto;line-height:normal;font-family:Menlo,'DejaVu Sans Mono',consolas,'Courier New',monospace\">the course content may not very helpful and related to the real work environment. the course syllabus was not \n",
       "available.\n",
       "        Topic is: <span style=\"color: #008080; text-decoration-color: #008080; font-weight: bold\">1</span>-دكتور المقرر\n",
       "</pre>\n"
      ],
      "text/plain": [
       "the course content may not very helpful and related to the real work environment. the course syllabus was not \n",
       "available.\n",
       "        Topic is: \u001b[1;36m1\u001b[0m-دكتور المقرر\n"
      ]
     },
     "metadata": {},
     "output_type": "display_data"
    },
    {
     "data": {
      "text/html": [
       "<pre style=\"white-space:pre;overflow-x:auto;line-height:normal;font-family:Menlo,'DejaVu Sans Mono',consolas,'Courier New',monospace\">the course materials and assignments and projects\n",
       "        Topic is: <span style=\"color: #008080; text-decoration-color: #008080; font-weight: bold\">6</span>-طريقة تدريس و تقديم المادة\n",
       "</pre>\n"
      ],
      "text/plain": [
       "the course materials and assignments and projects\n",
       "        Topic is: \u001b[1;36m6\u001b[0m-طريقة تدريس و تقديم المادة\n"
      ]
     },
     "metadata": {},
     "output_type": "display_data"
    },
    {
     "data": {
      "text/html": [
       "<pre style=\"white-space:pre;overflow-x:auto;line-height:normal;font-family:Menlo,'DejaVu Sans Mono',consolas,'Courier New',monospace\">the encryption the first assignment was about encrypting and decrypting. on the first question we had to decrypt a \n",
       "key and it was enjoyable since i enjoy encrypting the decrypting <span style=\"color: #008000; text-decoration-color: #008000\">\"remember to keep the secret key secret\"</span>&lt;- this \n",
       "was our first decryption in course\n",
       "        Topic is: <span style=\"color: #008080; text-decoration-color: #008080; font-weight: bold\">-1</span>-Outlier\n",
       "</pre>\n"
      ],
      "text/plain": [
       "the encryption the first assignment was about encrypting and decrypting. on the first question we had to decrypt a \n",
       "key and it was enjoyable since i enjoy encrypting the decrypting \u001b[32m\"remember to keep the secret key secret\"\u001b[0m<- this \n",
       "was our first decryption in course\n",
       "        Topic is: \u001b[1;36m-1\u001b[0m-Outlier\n"
      ]
     },
     "metadata": {},
     "output_type": "display_data"
    },
    {
     "data": {
      "text/html": [
       "<pre style=\"white-space:pre;overflow-x:auto;line-height:normal;font-family:Menlo,'DejaVu Sans Mono',consolas,'Courier New',monospace\">the gap between the lectures and the exams! what we do in a whole semester is practice and programming <span style=\"font-weight: bold\">(</span>on device<span style=\"font-weight: bold\">)</span> \n",
       "in the final exam builds a website front and backend <span style=\"font-weight: bold\">(</span>on paper<span style=\"font-weight: bold\">)</span> with every detail!! this type of course is not \n",
       "suitable for exams on paper in <span style=\"color: #008080; text-decoration-color: #008080; font-weight: bold\">90</span> mins!\n",
       "        Topic is: <span style=\"color: #008080; text-decoration-color: #008080; font-weight: bold\">-1</span>-Outlier\n",
       "</pre>\n"
      ],
      "text/plain": [
       "the gap between the lectures and the exams! what we do in a whole semester is practice and programming \u001b[1m(\u001b[0mon device\u001b[1m)\u001b[0m \n",
       "in the final exam builds a website front and backend \u001b[1m(\u001b[0mon paper\u001b[1m)\u001b[0m with every detail!! this type of course is not \n",
       "suitable for exams on paper in \u001b[1;36m90\u001b[0m mins!\n",
       "        Topic is: \u001b[1;36m-1\u001b[0m-Outlier\n"
      ]
     },
     "metadata": {},
     "output_type": "display_data"
    },
    {
     "data": {
      "text/html": [
       "<pre style=\"white-space:pre;overflow-x:auto;line-height:normal;font-family:Menlo,'DejaVu Sans Mono',consolas,'Courier New',monospace\">the instructor. when we ask about how to do assignments he keep saying i will give you a for all of you don <span style=\"color: #008000; text-decoration-color: #008000\">'t </span>\n",
       "<span style=\"color: #008000; text-decoration-color: #008000\">worry and he didn'</span> t explain the assignments very well. he just say do your best in anyway. also he didn ' t give \n",
       "us assignments grades immediately. we submit the final report without knowing what are our grades in the previous \n",
       "assignments. he didn’ t provide us with a tool to check plagiarism as other courses and he didn’ t explain how he \n",
       "will mark or check our work\n",
       "        Topic is: <span style=\"color: #008080; text-decoration-color: #008080; font-weight: bold\">-1</span>-Outlier\n",
       "</pre>\n"
      ],
      "text/plain": [
       "the instructor. when we ask about how to do assignments he keep saying i will give you a for all of you don \u001b[32m't \u001b[0m\n",
       "\u001b[32mworry and he didn'\u001b[0m t explain the assignments very well. he just say do your best in anyway. also he didn ' t give \n",
       "us assignments grades immediately. we submit the final report without knowing what are our grades in the previous \n",
       "assignments. he didn’ t provide us with a tool to check plagiarism as other courses and he didn’ t explain how he \n",
       "will mark or check our work\n",
       "        Topic is: \u001b[1;36m-1\u001b[0m-Outlier\n"
      ]
     },
     "metadata": {},
     "output_type": "display_data"
    },
    {
     "data": {
      "text/html": [
       "<pre style=\"white-space:pre;overflow-x:auto;line-height:normal;font-family:Menlo,'DejaVu Sans Mono',consolas,'Courier New',monospace\">the lab activity grades since it counted on having no errors so i lost some marks due to installation errors and in\n",
       "progress errors\n",
       "        Topic is: <span style=\"color: #008080; text-decoration-color: #008080; font-weight: bold\">-1</span>-Outlier\n",
       "</pre>\n"
      ],
      "text/plain": [
       "the lab activity grades since it counted on having no errors so i lost some marks due to installation errors and in\n",
       "progress errors\n",
       "        Topic is: \u001b[1;36m-1\u001b[0m-Outlier\n"
      ]
     },
     "metadata": {},
     "output_type": "display_data"
    },
    {
     "data": {
      "text/html": [
       "<pre style=\"white-space:pre;overflow-x:auto;line-height:normal;font-family:Menlo,'DejaVu Sans Mono',consolas,'Courier New',monospace\">the quizes were not schedualed appropriately throughout the semester, and not correctly and fairly graded. the \n",
       "instructor was not available and not commited to the course time. difficult to communicate with her.\n",
       "        Topic is: <span style=\"color: #008080; text-decoration-color: #008080; font-weight: bold\">6</span>-طريقة تدريس و تقديم المادة\n",
       "</pre>\n"
      ],
      "text/plain": [
       "the quizes were not schedualed appropriately throughout the semester, and not correctly and fairly graded. the \n",
       "instructor was not available and not commited to the course time. difficult to communicate with her.\n",
       "        Topic is: \u001b[1;36m6\u001b[0m-طريقة تدريس و تقديم المادة\n"
      ]
     },
     "metadata": {},
     "output_type": "display_data"
    },
    {
     "data": {
      "text/html": [
       "<pre style=\"white-space:pre;overflow-x:auto;line-height:normal;font-family:Menlo,'DejaVu Sans Mono',consolas,'Courier New',monospace\">the subject teacher, the reason, is not able to do the subject and read the slides. there are no examples to which \n",
       "we apply and train, and in the tests, he comes with a question from outside the curriculum, we did not train.\n",
       "        Topic is: <span style=\"color: #008080; text-decoration-color: #008080; font-weight: bold\">6</span>-طريقة تدريس و تقديم المادة\n",
       "</pre>\n"
      ],
      "text/plain": [
       "the subject teacher, the reason, is not able to do the subject and read the slides. there are no examples to which \n",
       "we apply and train, and in the tests, he comes with a question from outside the curriculum, we did not train.\n",
       "        Topic is: \u001b[1;36m6\u001b[0m-طريقة تدريس و تقديم المادة\n"
      ]
     },
     "metadata": {},
     "output_type": "display_data"
    },
    {
     "data": {
      "text/html": [
       "<pre style=\"white-space:pre;overflow-x:auto;line-height:normal;font-family:Menlo,'DejaVu Sans Mono',consolas,'Courier New',monospace\">the syllabus has to be apparent from the beginning of the course, and the teacher should have the ability to give \n",
       "and explain the right answers to the tests and assignments.\n",
       "        Topic is: <span style=\"color: #008080; text-decoration-color: #008080; font-weight: bold\">6</span>-طريقة تدريس و تقديم المادة\n",
       "</pre>\n"
      ],
      "text/plain": [
       "the syllabus has to be apparent from the beginning of the course, and the teacher should have the ability to give \n",
       "and explain the right answers to the tests and assignments.\n",
       "        Topic is: \u001b[1;36m6\u001b[0m-طريقة تدريس و تقديم المادة\n"
      ]
     },
     "metadata": {},
     "output_type": "display_data"
    },
    {
     "data": {
      "text/html": [
       "<pre style=\"white-space:pre;overflow-x:auto;line-height:normal;font-family:Menlo,'DejaVu Sans Mono',consolas,'Courier New',monospace\">the syllabus is clear and well organized\n",
       "        Topic is: <span style=\"color: #008080; text-decoration-color: #008080; font-weight: bold\">0</span>-محتوى ومعلومات المقرر\n",
       "</pre>\n"
      ],
      "text/plain": [
       "the syllabus is clear and well organized\n",
       "        Topic is: \u001b[1;36m0\u001b[0m-محتوى ومعلومات المقرر\n"
      ]
     },
     "metadata": {},
     "output_type": "display_data"
    },
    {
     "data": {
      "text/html": [
       "<pre style=\"white-space:pre;overflow-x:auto;line-height:normal;font-family:Menlo,'DejaVu Sans Mono',consolas,'Courier New',monospace\">the teaching method inside the class was so inspiring and interactive, and i learnt from the prof rizwan how to \n",
       "make a scientific research and i was able to publish a paper after the course\n",
       "        Topic is: <span style=\"color: #008080; text-decoration-color: #008080; font-weight: bold\">1</span>-دكتور المقرر\n",
       "</pre>\n"
      ],
      "text/plain": [
       "the teaching method inside the class was so inspiring and interactive, and i learnt from the prof rizwan how to \n",
       "make a scientific research and i was able to publish a paper after the course\n",
       "        Topic is: \u001b[1;36m1\u001b[0m-دكتور المقرر\n"
      ]
     },
     "metadata": {},
     "output_type": "display_data"
    },
    {
     "data": {
      "text/html": [
       "<pre style=\"white-space:pre;overflow-x:auto;line-height:normal;font-family:Menlo,'DejaVu Sans Mono',consolas,'Courier New',monospace\">آلية التصحيح للاختبارات ليس بها شفافية\n",
       "        Topic is: <span style=\"color: #008080; text-decoration-color: #008080; font-weight: bold\">5</span>-المتطلبات و المهام و الدرجات\n",
       "</pre>\n"
      ],
      "text/plain": [
       "آلية التصحيح للاختبارات ليس بها شفافية\n",
       "        Topic is: \u001b[1;36m5\u001b[0m-المتطلبات و المهام و الدرجات\n"
      ]
     },
     "metadata": {},
     "output_type": "display_data"
    },
    {
     "data": {
      "text/html": [
       "<pre style=\"white-space:pre;overflow-x:auto;line-height:normal;font-family:Menlo,'DejaVu Sans Mono',consolas,'Courier New',monospace\">آماد أجزم بأن هذه المادة حببتني في كل ما يخص مجال الأمر السيبراني. أستفدت منها الكثير في تطوير مهاراتي لزيادة أمان \n",
       "شبكات الإنترنت لدي\n",
       "        Topic is: <span style=\"color: #008080; text-decoration-color: #008080; font-weight: bold\">0</span>-محتوى ومعلومات المقرر\n",
       "</pre>\n"
      ],
      "text/plain": [
       "آماد أجزم بأن هذه المادة حببتني في كل ما يخص مجال الأمر السيبراني. أستفدت منها الكثير في تطوير مهاراتي لزيادة أمان \n",
       "شبكات الإنترنت لدي\n",
       "        Topic is: \u001b[1;36m0\u001b[0m-محتوى ومعلومات المقرر\n"
      ]
     },
     "metadata": {},
     "output_type": "display_data"
    },
    {
     "data": {
      "text/html": [
       "<pre style=\"white-space:pre;overflow-x:auto;line-height:normal;font-family:Menlo,'DejaVu Sans Mono',consolas,'Courier New',monospace\">أتمنى دراسة هيئة الأمن السيبرانب السعودية وفهم طبيعة عملها، وتحليل موقعها واصداراتها والمتابعة أكثر لها خلال دراسة \n",
       "هذه المادة، واعتماد nca كمرجع للمعايير والضوابط مثل المعايير العالمية ك nist وغيرها\n",
       "        Topic is: <span style=\"color: #008080; text-decoration-color: #008080; font-weight: bold\">0</span>-محتوى ومعلومات المقرر\n",
       "</pre>\n"
      ],
      "text/plain": [
       "أتمنى دراسة هيئة الأمن السيبرانب السعودية وفهم طبيعة عملها، وتحليل موقعها واصداراتها والمتابعة أكثر لها خلال دراسة \n",
       "هذه المادة، واعتماد nca كمرجع للمعايير والضوابط مثل المعايير العالمية ك nist وغيرها\n",
       "        Topic is: \u001b[1;36m0\u001b[0m-محتوى ومعلومات المقرر\n"
      ]
     },
     "metadata": {},
     "output_type": "display_data"
    },
    {
     "data": {
      "text/html": [
       "<pre style=\"white-space:pre;overflow-x:auto;line-height:normal;font-family:Menlo,'DejaVu Sans Mono',consolas,'Courier New',monospace\">أتمنى لو كان فيه تطبيق عملي بشكل أكبر وأكثر ولكن د سحر بدري من أروع الدكاتره لتوسيع معرفتنا في مادة الشبكات والبحث \n",
       "فيها لزيادة معرفتنا\n",
       "        Topic is: <span style=\"color: #008080; text-decoration-color: #008080; font-weight: bold\">1</span>-دكتور المقرر\n",
       "</pre>\n"
      ],
      "text/plain": [
       "أتمنى لو كان فيه تطبيق عملي بشكل أكبر وأكثر ولكن د سحر بدري من أروع الدكاتره لتوسيع معرفتنا في مادة الشبكات والبحث \n",
       "فيها لزيادة معرفتنا\n",
       "        Topic is: \u001b[1;36m1\u001b[0m-دكتور المقرر\n"
      ]
     },
     "metadata": {},
     "output_type": "display_data"
    },
    {
     "data": {
      "text/html": [
       "<pre style=\"white-space:pre;overflow-x:auto;line-height:normal;font-family:Menlo,'DejaVu Sans Mono',consolas,'Courier New',monospace\">أتمنى يتم ربط الشرح بفيديوهات يسهل فهمه واستيعابه\n",
       "        Topic is: <span style=\"color: #008080; text-decoration-color: #008080; font-weight: bold\">1</span>-دكتور المقرر\n",
       "</pre>\n"
      ],
      "text/plain": [
       "أتمنى يتم ربط الشرح بفيديوهات يسهل فهمه واستيعابه\n",
       "        Topic is: \u001b[1;36m1\u001b[0m-دكتور المقرر\n"
      ]
     },
     "metadata": {},
     "output_type": "display_data"
    },
    {
     "data": {
      "text/html": [
       "<pre style=\"white-space:pre;overflow-x:auto;line-height:normal;font-family:Menlo,'DejaVu Sans Mono',consolas,'Courier New',monospace\">أستاذة المادة متحمسة للمادة وتعطي بإخلاص وإتقان وتبذل جهدها في إيصال المعلومة بشتى الوسائل والمادة محتواها خفيف \n",
       "ومباشر ومهم جدا\n",
       "        Topic is: <span style=\"color: #008080; text-decoration-color: #008080; font-weight: bold\">1</span>-دكتور المقرر\n",
       "</pre>\n"
      ],
      "text/plain": [
       "أستاذة المادة متحمسة للمادة وتعطي بإخلاص وإتقان وتبذل جهدها في إيصال المعلومة بشتى الوسائل والمادة محتواها خفيف \n",
       "ومباشر ومهم جدا\n",
       "        Topic is: \u001b[1;36m1\u001b[0m-دكتور المقرر\n"
      ]
     },
     "metadata": {},
     "output_type": "display_data"
    },
    {
     "data": {
      "text/html": [
       "<pre style=\"white-space:pre;overflow-x:auto;line-height:normal;font-family:Menlo,'DejaVu Sans Mono',consolas,'Courier New',monospace\">أستاذة المادة متحمسة للمادة وتعطي بإخلاص وإتقان وتبذل جهدها في إيصال المعلومة بشتى الوسائل والمادة محتواها رغم طوله\n",
       "مهم جدا والدكتورة تركز على الجانب التطبيقي بشكل مطابق للواقع وسوق العمل\n",
       "        Topic is: <span style=\"color: #008080; text-decoration-color: #008080; font-weight: bold\">1</span>-دكتور المقرر\n",
       "</pre>\n"
      ],
      "text/plain": [
       "أستاذة المادة متحمسة للمادة وتعطي بإخلاص وإتقان وتبذل جهدها في إيصال المعلومة بشتى الوسائل والمادة محتواها رغم طوله\n",
       "مهم جدا والدكتورة تركز على الجانب التطبيقي بشكل مطابق للواقع وسوق العمل\n",
       "        Topic is: \u001b[1;36m1\u001b[0m-دكتور المقرر\n"
      ]
     },
     "metadata": {},
     "output_type": "display_data"
    },
    {
     "data": {
      "text/html": [
       "<pre style=\"white-space:pre;overflow-x:auto;line-height:normal;font-family:Menlo,'DejaVu Sans Mono',consolas,'Courier New',monospace\">أسلوب الدكتور لا يكن مناسب لمحتوى المداة. البيانات التي قدمت للطالب في بداية الفصل كانت تاريخية قديمة جدا.\n",
       "        Topic is: <span style=\"color: #008080; text-decoration-color: #008080; font-weight: bold\">1</span>-دكتور المقرر\n",
       "</pre>\n"
      ],
      "text/plain": [
       "أسلوب الدكتور لا يكن مناسب لمحتوى المداة. البيانات التي قدمت للطالب في بداية الفصل كانت تاريخية قديمة جدا.\n",
       "        Topic is: \u001b[1;36m1\u001b[0m-دكتور المقرر\n"
      ]
     },
     "metadata": {},
     "output_type": "display_data"
    },
    {
     "data": {
      "text/html": [
       "<pre style=\"white-space:pre;overflow-x:auto;line-height:normal;font-family:Menlo,'DejaVu Sans Mono',consolas,'Courier New',monospace\">أعطى الطالب القدره على فهم عمل الشبكات وكيفيه إدارتها وتتبع حركة نقل البيانات مع خلال تطبيقات التقنية وساهم البحث \n",
       "العلمي للماده بتزويد الطالب بمزيد من المعرفة في أنظمة الشبكات وكيفية تطويرها من خلال تقينيات التشفير المعتمده \n",
       "بالإضافة الى كيفية حماية المواقع من الهكر\n",
       "        Topic is: <span style=\"color: #008080; text-decoration-color: #008080; font-weight: bold\">1</span>-دكتور المقرر\n",
       "</pre>\n"
      ],
      "text/plain": [
       "أعطى الطالب القدره على فهم عمل الشبكات وكيفيه إدارتها وتتبع حركة نقل البيانات مع خلال تطبيقات التقنية وساهم البحث \n",
       "العلمي للماده بتزويد الطالب بمزيد من المعرفة في أنظمة الشبكات وكيفية تطويرها من خلال تقينيات التشفير المعتمده \n",
       "بالإضافة الى كيفية حماية المواقع من الهكر\n",
       "        Topic is: \u001b[1;36m1\u001b[0m-دكتور المقرر\n"
      ]
     },
     "metadata": {},
     "output_type": "display_data"
    },
    {
     "data": {
      "text/html": [
       "<pre style=\"white-space:pre;overflow-x:auto;line-height:normal;font-family:Menlo,'DejaVu Sans Mono',consolas,'Courier New',monospace\">أعطى الطالب المعرفة الشاملة بتمطلبات الأمن السيبراني والقدره اعدادها والتخطيط لها وإيجاد الحلول المناسبه والموثوقه \n",
       "لتفادي الهجمات السيبرانيه وسد الثغرات في الانظمه بااستخدام السياسات والتقنية وفق المعايير الدوليه والاقليميه \n",
       "لسياسات وإجراءات الأمن السيبراني\n",
       "        Topic is: <span style=\"color: #008080; text-decoration-color: #008080; font-weight: bold\">0</span>-محتوى ومعلومات المقرر\n",
       "</pre>\n"
      ],
      "text/plain": [
       "أعطى الطالب المعرفة الشاملة بتمطلبات الأمن السيبراني والقدره اعدادها والتخطيط لها وإيجاد الحلول المناسبه والموثوقه \n",
       "لتفادي الهجمات السيبرانيه وسد الثغرات في الانظمه بااستخدام السياسات والتقنية وفق المعايير الدوليه والاقليميه \n",
       "لسياسات وإجراءات الأمن السيبراني\n",
       "        Topic is: \u001b[1;36m0\u001b[0m-محتوى ومعلومات المقرر\n"
      ]
     },
     "metadata": {},
     "output_type": "display_data"
    },
    {
     "data": {
      "text/html": [
       "<pre style=\"white-space:pre;overflow-x:auto;line-height:normal;font-family:Menlo,'DejaVu Sans Mono',consolas,'Courier New',monospace\">أفترح أن تكون المعلومات التاريخية مجرد اطلاع لكونها كثيرة وهي مفيدة لمجرد العلم بالشيء. فهي لا تواكب محتوى المادة \n",
       "العصرية.\n",
       "        Topic is: <span style=\"color: #008080; text-decoration-color: #008080; font-weight: bold\">-1</span>-Outlier\n",
       "</pre>\n"
      ],
      "text/plain": [
       "أفترح أن تكون المعلومات التاريخية مجرد اطلاع لكونها كثيرة وهي مفيدة لمجرد العلم بالشيء. فهي لا تواكب محتوى المادة \n",
       "العصرية.\n",
       "        Topic is: \u001b[1;36m-1\u001b[0m-Outlier\n"
      ]
     },
     "metadata": {},
     "output_type": "display_data"
    },
    {
     "data": {
      "text/html": [
       "<pre style=\"white-space:pre;overflow-x:auto;line-height:normal;font-family:Menlo,'DejaVu Sans Mono',consolas,'Courier New',monospace\">أفضل ما تم تعليمه هو طريقة عمل سياسة للمنظمه <span style=\"font-weight: bold\">(</span>طريقة ربط المعلومات بمحاكاة العمل الحقيقي كانت طريقة جميله جميله وتم \n",
       "ممارستها بشكل تلقائي واستفدت منها بالعمل وأيضا طريقة كتابة السياسه بطريقة سهله وبسيطه ومفهومه وصحيحه زادت من مهارات\n",
       "الكتابه لنا أشكر د عفراء على دقتها في ذلك\n",
       "        Topic is: <span style=\"color: #008080; text-decoration-color: #008080; font-weight: bold\">1</span>-دكتور المقرر\n",
       "</pre>\n"
      ],
      "text/plain": [
       "أفضل ما تم تعليمه هو طريقة عمل سياسة للمنظمه \u001b[1m(\u001b[0mطريقة ربط المعلومات بمحاكاة العمل الحقيقي كانت طريقة جميله جميله وتم \n",
       "ممارستها بشكل تلقائي واستفدت منها بالعمل وأيضا طريقة كتابة السياسه بطريقة سهله وبسيطه ومفهومه وصحيحه زادت من مهارات\n",
       "الكتابه لنا أشكر د عفراء على دقتها في ذلك\n",
       "        Topic is: \u001b[1;36m1\u001b[0m-دكتور المقرر\n"
      ]
     },
     "metadata": {},
     "output_type": "display_data"
    },
    {
     "data": {
      "text/html": [
       "<pre style=\"white-space:pre;overflow-x:auto;line-height:normal;font-family:Menlo,'DejaVu Sans Mono',consolas,'Courier New',monospace\">أكثر ما اعجبني له علاقة بأحد طرق تقييم المقرر وهو البحث عن أوراق بحثية وشرحها ومناقشتها طورت جدا مهاراتي البحثية \n",
       "بشكل كبير\n",
       "        Topic is: <span style=\"color: #008080; text-decoration-color: #008080; font-weight: bold\">1</span>-دكتور المقرر\n",
       "</pre>\n"
      ],
      "text/plain": [
       "أكثر ما اعجبني له علاقة بأحد طرق تقييم المقرر وهو البحث عن أوراق بحثية وشرحها ومناقشتها طورت جدا مهاراتي البحثية \n",
       "بشكل كبير\n",
       "        Topic is: \u001b[1;36m1\u001b[0m-دكتور المقرر\n"
      ]
     },
     "metadata": {},
     "output_type": "display_data"
    },
    {
     "data": {
      "text/html": [
       "<pre style=\"white-space:pre;overflow-x:auto;line-height:normal;font-family:Menlo,'DejaVu Sans Mono',consolas,'Courier New',monospace\">أهمية المعلومات المقدمة لي كطالب للعلم\n",
       "        Topic is: <span style=\"color: #008080; text-decoration-color: #008080; font-weight: bold\">0</span>-محتوى ومعلومات المقرر\n",
       "</pre>\n"
      ],
      "text/plain": [
       "أهمية المعلومات المقدمة لي كطالب للعلم\n",
       "        Topic is: \u001b[1;36m0\u001b[0m-محتوى ومعلومات المقرر\n"
      ]
     },
     "metadata": {},
     "output_type": "display_data"
    },
    {
     "data": {
      "text/html": [
       "<pre style=\"white-space:pre;overflow-x:auto;line-height:normal;font-family:Menlo,'DejaVu Sans Mono',consolas,'Courier New',monospace\">إتاحة الفرصة لطلبة الدراسات العليا لتعلم مهارات مهمة عن طريق ممارستها مثل القراءة السريعة وتلخيص العروض وإعدادها \n",
       "والنقد والاستنتاج وقراءة أوراق علمية عالية التأثير وإمكانية إضافة معلومات عنها أو عن ما يتعلق بالمادة في ساحة \n",
       "الحوار ومناقشته\n",
       "        Topic is: <span style=\"color: #008080; text-decoration-color: #008080; font-weight: bold\">6</span>-طريقة تدريس و تقديم المادة\n",
       "</pre>\n"
      ],
      "text/plain": [
       "إتاحة الفرصة لطلبة الدراسات العليا لتعلم مهارات مهمة عن طريق ممارستها مثل القراءة السريعة وتلخيص العروض وإعدادها \n",
       "والنقد والاستنتاج وقراءة أوراق علمية عالية التأثير وإمكانية إضافة معلومات عنها أو عن ما يتعلق بالمادة في ساحة \n",
       "الحوار ومناقشته\n",
       "        Topic is: \u001b[1;36m6\u001b[0m-طريقة تدريس و تقديم المادة\n"
      ]
     },
     "metadata": {},
     "output_type": "display_data"
    },
    {
     "data": {
      "text/html": [
       "<pre style=\"white-space:pre;overflow-x:auto;line-height:normal;font-family:Menlo,'DejaVu Sans Mono',consolas,'Courier New',monospace\">إسناد المقرر لمعلمين يتحدثون اللغة العربية <span style=\"font-weight: bold\">(</span>الأم<span style=\"font-weight: bold\">)</span>، نظرا لما تحتويه من مصطلحات رياضية بكثرة مثل <span style=\"font-weight: bold\">(</span>القيمة الأسية-الجذر\n",
       "التربيعي-الانحراف المعياري-التباين.. الخ<span style=\"font-weight: bold\">)</span> حيث سيساهم ذلك في تسهيل العملية التعليمية للطلاب.\n",
       "        Topic is: <span style=\"color: #008080; text-decoration-color: #008080; font-weight: bold\">6</span>-طريقة تدريس و تقديم المادة\n",
       "</pre>\n"
      ],
      "text/plain": [
       "إسناد المقرر لمعلمين يتحدثون اللغة العربية \u001b[1m(\u001b[0mالأم\u001b[1m)\u001b[0m، نظرا لما تحتويه من مصطلحات رياضية بكثرة مثل \u001b[1m(\u001b[0mالقيمة الأسية-الجذر\n",
       "التربيعي-الانحراف المعياري-التباين.. الخ\u001b[1m)\u001b[0m حيث سيساهم ذلك في تسهيل العملية التعليمية للطلاب.\n",
       "        Topic is: \u001b[1;36m6\u001b[0m-طريقة تدريس و تقديم المادة\n"
      ]
     },
     "metadata": {},
     "output_type": "display_data"
    },
    {
     "data": {
      "text/html": [
       "<pre style=\"white-space:pre;overflow-x:auto;line-height:normal;font-family:Menlo,'DejaVu Sans Mono',consolas,'Courier New',monospace\">إضافة جزء عملي مهم جداا. لأن دراسة التشفير نظريا صعب نوعا ما ولكن مع التطبيق العملي راح تثبت المعلومة أكثر\n",
       "        Topic is: <span style=\"color: #008080; text-decoration-color: #008080; font-weight: bold\">3</span>-موازنة الجزء العملي مع الجزء النظري\n",
       "</pre>\n"
      ],
      "text/plain": [
       "إضافة جزء عملي مهم جداا. لأن دراسة التشفير نظريا صعب نوعا ما ولكن مع التطبيق العملي راح تثبت المعلومة أكثر\n",
       "        Topic is: \u001b[1;36m3\u001b[0m-موازنة الجزء العملي مع الجزء النظري\n"
      ]
     },
     "metadata": {},
     "output_type": "display_data"
    },
    {
     "data": {
      "text/html": [
       "<pre style=\"white-space:pre;overflow-x:auto;line-height:normal;font-family:Menlo,'DejaVu Sans Mono',consolas,'Courier New',monospace\">إضافة دورات اجبارية لاجتياز المقرر للمهارات المطلوبة لإتمام الرسالة مثل التعامل مع البيانات وتجهيزها للبحث و مهارات\n",
       "الكتابة العلمية والكتابة باستخدام اللاتكس وغيرها إضافة دورات عملية مختلفة للمجالات التقنية مثل الذكاء الاصطناعي \n",
       "وتنقيب البيانات والمجالات الأخرى\n",
       "        Topic is: <span style=\"color: #008080; text-decoration-color: #008080; font-weight: bold\">6</span>-طريقة تدريس و تقديم المادة\n",
       "</pre>\n"
      ],
      "text/plain": [
       "إضافة دورات اجبارية لاجتياز المقرر للمهارات المطلوبة لإتمام الرسالة مثل التعامل مع البيانات وتجهيزها للبحث و مهارات\n",
       "الكتابة العلمية والكتابة باستخدام اللاتكس وغيرها إضافة دورات عملية مختلفة للمجالات التقنية مثل الذكاء الاصطناعي \n",
       "وتنقيب البيانات والمجالات الأخرى\n",
       "        Topic is: \u001b[1;36m6\u001b[0m-طريقة تدريس و تقديم المادة\n"
      ]
     },
     "metadata": {},
     "output_type": "display_data"
    },
    {
     "data": {
      "text/html": [
       "<pre style=\"white-space:pre;overflow-x:auto;line-height:normal;font-family:Menlo,'DejaVu Sans Mono',consolas,'Courier New',monospace\">إضافة طرق أفضل واحترافية أكثر من التي تم تدريسها في المنهج وتعلم برامج جديدة وتوافر دكاترة أسلوبهم جيد ويحببونك في \n",
       "المادة وليس العكس\n",
       "        Topic is: <span style=\"color: #008080; text-decoration-color: #008080; font-weight: bold\">1</span>-دكتور المقرر\n",
       "</pre>\n"
      ],
      "text/plain": [
       "إضافة طرق أفضل واحترافية أكثر من التي تم تدريسها في المنهج وتعلم برامج جديدة وتوافر دكاترة أسلوبهم جيد ويحببونك في \n",
       "المادة وليس العكس\n",
       "        Topic is: \u001b[1;36m1\u001b[0m-دكتور المقرر\n"
      ]
     },
     "metadata": {},
     "output_type": "display_data"
    },
    {
     "data": {
      "text/html": [
       "<pre style=\"white-space:pre;overflow-x:auto;line-height:normal;font-family:Menlo,'DejaVu Sans Mono',consolas,'Courier New',monospace\">إعادة ترتيب المحتوى والمتطلبات بناء على أهميتها في الأبحاث وأيضا توفير مصادر للطلاب أغلب المصادر والمعلومات الحديثه\n",
       "لا توفرها الجامعة للطالب أو الاشتراك يكون محدود أو عن طريق ايميل يرسل للمنسوبين وهذا يعطل ويقلل من جودة الأبحاث\n",
       "        Topic is: <span style=\"color: #008080; text-decoration-color: #008080; font-weight: bold\">6</span>-طريقة تدريس و تقديم المادة\n",
       "</pre>\n"
      ],
      "text/plain": [
       "إعادة ترتيب المحتوى والمتطلبات بناء على أهميتها في الأبحاث وأيضا توفير مصادر للطلاب أغلب المصادر والمعلومات الحديثه\n",
       "لا توفرها الجامعة للطالب أو الاشتراك يكون محدود أو عن طريق ايميل يرسل للمنسوبين وهذا يعطل ويقلل من جودة الأبحاث\n",
       "        Topic is: \u001b[1;36m6\u001b[0m-طريقة تدريس و تقديم المادة\n"
      ]
     },
     "metadata": {},
     "output_type": "display_data"
    },
    {
     "data": {
      "text/html": [
       "<pre style=\"white-space:pre;overflow-x:auto;line-height:normal;font-family:Menlo,'DejaVu Sans Mono',consolas,'Courier New',monospace\">إعادة توزيع الدرجات بما يتناسب مع قدر العمل توضيح تفاصيل المشروع مع بداية الترم لما فيه من الاعتماد الكبير في \n",
       "جزئيات كبيرة على المواد السابقة تحسين أسئلة الاختبار بما يتناسب مع طبيعة المادة وبالتالي لا تكون الاختبارات عبارة \n",
       "عن حفظ للمعلومات ولكن تفهم\n",
       "        Topic is: <span style=\"color: #008080; text-decoration-color: #008080; font-weight: bold\">6</span>-طريقة تدريس و تقديم المادة\n",
       "</pre>\n"
      ],
      "text/plain": [
       "إعادة توزيع الدرجات بما يتناسب مع قدر العمل توضيح تفاصيل المشروع مع بداية الترم لما فيه من الاعتماد الكبير في \n",
       "جزئيات كبيرة على المواد السابقة تحسين أسئلة الاختبار بما يتناسب مع طبيعة المادة وبالتالي لا تكون الاختبارات عبارة \n",
       "عن حفظ للمعلومات ولكن تفهم\n",
       "        Topic is: \u001b[1;36m6\u001b[0m-طريقة تدريس و تقديم المادة\n"
      ]
     },
     "metadata": {},
     "output_type": "display_data"
    },
    {
     "data": {
      "text/html": [
       "<pre style=\"white-space:pre;overflow-x:auto;line-height:normal;font-family:Menlo,'DejaVu Sans Mono',consolas,'Courier New',monospace\">إلزام عضو هيئة التدريس بالتطبيق العملي على برنامج واير سارك وليس شرحه نظريا دون التطبيق مع الطالبات شرح \n",
       "اللوغاريتمات بالتفصيل حيث لم يتم ذلك.\n",
       "        Topic is: <span style=\"color: #008080; text-decoration-color: #008080; font-weight: bold\">6</span>-طريقة تدريس و تقديم المادة\n",
       "</pre>\n"
      ],
      "text/plain": [
       "إلزام عضو هيئة التدريس بالتطبيق العملي على برنامج واير سارك وليس شرحه نظريا دون التطبيق مع الطالبات شرح \n",
       "اللوغاريتمات بالتفصيل حيث لم يتم ذلك.\n",
       "        Topic is: \u001b[1;36m6\u001b[0m-طريقة تدريس و تقديم المادة\n"
      ]
     },
     "metadata": {},
     "output_type": "display_data"
    },
    {
     "data": {
      "text/html": [
       "<pre style=\"white-space:pre;overflow-x:auto;line-height:normal;font-family:Menlo,'DejaVu Sans Mono',consolas,'Courier New',monospace\">إلغاء المادة من برنامج الماجستير التنفيذي للأمن السيبراني كونها مادة إدارية يستطيع الطالب أخذها كدورة من أي مكان \n",
       "آخر، أو جعلها اختيارية وترك المجال للطلاب لاختيارها أو لا.\n",
       "        Topic is: <span style=\"color: #008080; text-decoration-color: #008080; font-weight: bold\">6</span>-طريقة تدريس و تقديم المادة\n",
       "</pre>\n"
      ],
      "text/plain": [
       "إلغاء المادة من برنامج الماجستير التنفيذي للأمن السيبراني كونها مادة إدارية يستطيع الطالب أخذها كدورة من أي مكان \n",
       "آخر، أو جعلها اختيارية وترك المجال للطلاب لاختيارها أو لا.\n",
       "        Topic is: \u001b[1;36m6\u001b[0m-طريقة تدريس و تقديم المادة\n"
      ]
     },
     "metadata": {},
     "output_type": "display_data"
    },
    {
     "data": {
      "text/html": [
       "<pre style=\"white-space:pre;overflow-x:auto;line-height:normal;font-family:Menlo,'DejaVu Sans Mono',consolas,'Courier New',monospace\">استبدال هذا المقرر بمقرر آخر من المقررات الاختيارية\n",
       "        Topic is: <span style=\"color: #008080; text-decoration-color: #008080; font-weight: bold\">6</span>-طريقة تدريس و تقديم المادة\n",
       "</pre>\n"
      ],
      "text/plain": [
       "استبدال هذا المقرر بمقرر آخر من المقررات الاختيارية\n",
       "        Topic is: \u001b[1;36m6\u001b[0m-طريقة تدريس و تقديم المادة\n"
      ]
     },
     "metadata": {},
     "output_type": "display_data"
    },
    {
     "data": {
      "text/html": [
       "<pre style=\"white-space:pre;overflow-x:auto;line-height:normal;font-family:Menlo,'DejaVu Sans Mono',consolas,'Courier New',monospace\">اضافه الماده كل سنه فهي ماده مفيده وفيها مجال للابداع وتضيف للطالب مواضيع مهمه للرساله\n",
       "        Topic is: <span style=\"color: #008080; text-decoration-color: #008080; font-weight: bold\">6</span>-طريقة تدريس و تقديم المادة\n",
       "</pre>\n"
      ],
      "text/plain": [
       "اضافه الماده كل سنه فهي ماده مفيده وفيها مجال للابداع وتضيف للطالب مواضيع مهمه للرساله\n",
       "        Topic is: \u001b[1;36m6\u001b[0m-طريقة تدريس و تقديم المادة\n"
      ]
     },
     "metadata": {},
     "output_type": "display_data"
    },
    {
     "data": {
      "text/html": [
       "<pre style=\"white-space:pre;overflow-x:auto;line-height:normal;font-family:Menlo,'DejaVu Sans Mono',consolas,'Courier New',monospace\">اعتقد ان ترم واحد لايكفي للتشبع من المادة\n",
       "        Topic is: <span style=\"color: #008080; text-decoration-color: #008080; font-weight: bold\">0</span>-محتوى ومعلومات المقرر\n",
       "</pre>\n"
      ],
      "text/plain": [
       "اعتقد ان ترم واحد لايكفي للتشبع من المادة\n",
       "        Topic is: \u001b[1;36m0\u001b[0m-محتوى ومعلومات المقرر\n"
      ]
     },
     "metadata": {},
     "output_type": "display_data"
    },
    {
     "data": {
      "text/html": [
       "<pre style=\"white-space:pre;overflow-x:auto;line-height:normal;font-family:Menlo,'DejaVu Sans Mono',consolas,'Courier New',monospace\">اعتماد الأمثلة والرسم في الشرح لتبسيط المعلومة\n",
       "        Topic is: <span style=\"color: #008080; text-decoration-color: #008080; font-weight: bold\">3</span>-موازنة الجزء العملي مع الجزء النظري\n",
       "</pre>\n"
      ],
      "text/plain": [
       "اعتماد الأمثلة والرسم في الشرح لتبسيط المعلومة\n",
       "        Topic is: \u001b[1;36m3\u001b[0m-موازنة الجزء العملي مع الجزء النظري\n"
      ]
     },
     "metadata": {},
     "output_type": "display_data"
    },
    {
     "data": {
      "text/html": [
       "<pre style=\"white-space:pre;overflow-x:auto;line-height:normal;font-family:Menlo,'DejaVu Sans Mono',consolas,'Courier New',monospace\">اعجبتني مواضيع المقرر مفيده وتغطي أهم النقاط التي من خلالها أستطيع التعمق والبحث في المجال\n",
       "        Topic is: <span style=\"color: #008080; text-decoration-color: #008080; font-weight: bold\">1</span>-دكتور المقرر\n",
       "</pre>\n"
      ],
      "text/plain": [
       "اعجبتني مواضيع المقرر مفيده وتغطي أهم النقاط التي من خلالها أستطيع التعمق والبحث في المجال\n",
       "        Topic is: \u001b[1;36m1\u001b[0m-دكتور المقرر\n"
      ]
     },
     "metadata": {},
     "output_type": "display_data"
    },
    {
     "data": {
      "text/html": [
       "<pre style=\"white-space:pre;overflow-x:auto;line-height:normal;font-family:Menlo,'DejaVu Sans Mono',consolas,'Courier New',monospace\">اقتراحياننا نأخذ حاله واحده، ويتم تطبيق عليها جميع محاور الدروس التي تم أخذها.. حتى يتضح لنا في كل خطوه كيف يصبح \n",
       "دراسة الحاله\n",
       "        Topic is: <span style=\"color: #008080; text-decoration-color: #008080; font-weight: bold\">6</span>-طريقة تدريس و تقديم المادة\n",
       "</pre>\n"
      ],
      "text/plain": [
       "اقتراحياننا نأخذ حاله واحده، ويتم تطبيق عليها جميع محاور الدروس التي تم أخذها.. حتى يتضح لنا في كل خطوه كيف يصبح \n",
       "دراسة الحاله\n",
       "        Topic is: \u001b[1;36m6\u001b[0m-طريقة تدريس و تقديم المادة\n"
      ]
     },
     "metadata": {},
     "output_type": "display_data"
    },
    {
     "data": {
      "text/html": [
       "<pre style=\"white-space:pre;overflow-x:auto;line-height:normal;font-family:Menlo,'DejaVu Sans Mono',consolas,'Courier New',monospace\">اقترح على دكتور المادة أن يبدا مع الطلاب بشكل مبسط لكون المادة معقدة وقد تنقص الطالب بيانات كبيرة. الفجوة بين \n",
       "المادة والمعلومات التي عند الطالب كبيرة جدا. وخصوصا أن الدكتور يعطي معلومات تاريخية قديمة جدا والتي ترجع الى بدايات\n",
       "نشأت الحاسب.\n",
       "        Topic is: <span style=\"color: #008080; text-decoration-color: #008080; font-weight: bold\">1</span>-دكتور المقرر\n",
       "</pre>\n"
      ],
      "text/plain": [
       "اقترح على دكتور المادة أن يبدا مع الطلاب بشكل مبسط لكون المادة معقدة وقد تنقص الطالب بيانات كبيرة. الفجوة بين \n",
       "المادة والمعلومات التي عند الطالب كبيرة جدا. وخصوصا أن الدكتور يعطي معلومات تاريخية قديمة جدا والتي ترجع الى بدايات\n",
       "نشأت الحاسب.\n",
       "        Topic is: \u001b[1;36m1\u001b[0m-دكتور المقرر\n"
      ]
     },
     "metadata": {},
     "output_type": "display_data"
    },
    {
     "data": {
      "text/html": [
       "<pre style=\"white-space:pre;overflow-x:auto;line-height:normal;font-family:Menlo,'DejaVu Sans Mono',consolas,'Courier New',monospace\">ال-جعل المنهج واضح بالنسبة للطلاب-إيضاح طريقة التقييم-دمج محتوى المنهج مع ما ناخذه كطلاب علوم حاسبات في المواد \n",
       "الأخرى خاصة وان المادة تعتبر العمود الفقري لعلوم حاسب\n",
       "        Topic is: <span style=\"color: #008080; text-decoration-color: #008080; font-weight: bold\">6</span>-طريقة تدريس و تقديم المادة\n",
       "</pre>\n"
      ],
      "text/plain": [
       "ال-جعل المنهج واضح بالنسبة للطلاب-إيضاح طريقة التقييم-دمج محتوى المنهج مع ما ناخذه كطلاب علوم حاسبات في المواد \n",
       "الأخرى خاصة وان المادة تعتبر العمود الفقري لعلوم حاسب\n",
       "        Topic is: \u001b[1;36m6\u001b[0m-طريقة تدريس و تقديم المادة\n"
      ]
     },
     "metadata": {},
     "output_type": "display_data"
    },
    {
     "data": {
      "text/html": [
       "<pre style=\"white-space:pre;overflow-x:auto;line-height:normal;font-family:Menlo,'DejaVu Sans Mono',consolas,'Courier New',monospace\">الأسئلة كانت بطريقه الاختيار من متعدد ولو كان هناك نوع آخر إضافي لكان أفضل.\n",
       "        Topic is: <span style=\"color: #008080; text-decoration-color: #008080; font-weight: bold\">-1</span>-Outlier\n",
       "</pre>\n"
      ],
      "text/plain": [
       "الأسئلة كانت بطريقه الاختيار من متعدد ولو كان هناك نوع آخر إضافي لكان أفضل.\n",
       "        Topic is: \u001b[1;36m-1\u001b[0m-Outlier\n"
      ]
     },
     "metadata": {},
     "output_type": "display_data"
    },
    {
     "data": {
      "text/html": [
       "<pre style=\"white-space:pre;overflow-x:auto;line-height:normal;font-family:Menlo,'DejaVu Sans Mono',consolas,'Courier New',monospace\">الأنشطة المرافقة للمادة كانت قراءة بحث علمي وتلخيصه، مما ساعد على ان نفهم الأوراق العلمية\n",
       "        Topic is: <span style=\"color: #008080; text-decoration-color: #008080; font-weight: bold\">10</span>-الجانب البحثي و الأوراق البحثية\n",
       "</pre>\n"
      ],
      "text/plain": [
       "الأنشطة المرافقة للمادة كانت قراءة بحث علمي وتلخيصه، مما ساعد على ان نفهم الأوراق العلمية\n",
       "        Topic is: \u001b[1;36m10\u001b[0m-الجانب البحثي و الأوراق البحثية\n"
      ]
     },
     "metadata": {},
     "output_type": "display_data"
    },
    {
     "data": {
      "text/html": [
       "<pre style=\"white-space:pre;overflow-x:auto;line-height:normal;font-family:Menlo,'DejaVu Sans Mono',consolas,'Courier New',monospace\">الإلمام ب أنواع الاتاك في الويب سكيورتي وطريقة تطبيقه بشكل علمي وطريقة د سعاد في طرح المادة العلمية كانت جداا \n",
       "مفيدده سهلت علينا فهم الماده رغم صعوبتها\n",
       "        Topic is: <span style=\"color: #008080; text-decoration-color: #008080; font-weight: bold\">1</span>-دكتور المقرر\n",
       "</pre>\n"
      ],
      "text/plain": [
       "الإلمام ب أنواع الاتاك في الويب سكيورتي وطريقة تطبيقه بشكل علمي وطريقة د سعاد في طرح المادة العلمية كانت جداا \n",
       "مفيدده سهلت علينا فهم الماده رغم صعوبتها\n",
       "        Topic is: \u001b[1;36m1\u001b[0m-دكتور المقرر\n"
      ]
     },
     "metadata": {},
     "output_type": "display_data"
    },
    {
     "data": {
      "text/html": [
       "<pre style=\"white-space:pre;overflow-x:auto;line-height:normal;font-family:Menlo,'DejaVu Sans Mono',consolas,'Courier New',monospace\">الاستناد على كتاب واضح ويكون الشرح متسلسل من هذا الكتاب\n",
       "        Topic is: <span style=\"color: #008080; text-decoration-color: #008080; font-weight: bold\">1</span>-دكتور المقرر\n",
       "</pre>\n"
      ],
      "text/plain": [
       "الاستناد على كتاب واضح ويكون الشرح متسلسل من هذا الكتاب\n",
       "        Topic is: \u001b[1;36m1\u001b[0m-دكتور المقرر\n"
      ]
     },
     "metadata": {},
     "output_type": "display_data"
    },
    {
     "data": {
      "text/html": [
       "<pre style=\"white-space:pre;overflow-x:auto;line-height:normal;font-family:Menlo,'DejaVu Sans Mono',consolas,'Courier New',monospace\">الاضلاع على نماذج إستراتيجيات أمن سيبراني لشركات كبرى، وطريقة صياغة الضوابط، وشركات المراجعة والتدقيق ودراسة أحد \n",
       "النماذج\n",
       "        Topic is: <span style=\"color: #008080; text-decoration-color: #008080; font-weight: bold\">0</span>-محتوى ومعلومات المقرر\n",
       "</pre>\n"
      ],
      "text/plain": [
       "الاضلاع على نماذج إستراتيجيات أمن سيبراني لشركات كبرى، وطريقة صياغة الضوابط، وشركات المراجعة والتدقيق ودراسة أحد \n",
       "النماذج\n",
       "        Topic is: \u001b[1;36m0\u001b[0m-محتوى ومعلومات المقرر\n"
      ]
     },
     "metadata": {},
     "output_type": "display_data"
    },
    {
     "data": {
      "text/html": [
       "<pre style=\"white-space:pre;overflow-x:auto;line-height:normal;font-family:Menlo,'DejaVu Sans Mono',consolas,'Courier New',monospace\">الانتباه الى ان الطلبة لا يملكون خلفية تقنية عن الخوارزميات المستخدمه في المادة وبالتالي التركيز ايضا على تدريبهم \n",
       "عمليا\n",
       "        Topic is: <span style=\"color: #008080; text-decoration-color: #008080; font-weight: bold\">6</span>-طريقة تدريس و تقديم المادة\n",
       "</pre>\n"
      ],
      "text/plain": [
       "الانتباه الى ان الطلبة لا يملكون خلفية تقنية عن الخوارزميات المستخدمه في المادة وبالتالي التركيز ايضا على تدريبهم \n",
       "عمليا\n",
       "        Topic is: \u001b[1;36m6\u001b[0m-طريقة تدريس و تقديم المادة\n"
      ]
     },
     "metadata": {},
     "output_type": "display_data"
    },
    {
     "data": {
      "text/html": [
       "<pre style=\"white-space:pre;overflow-x:auto;line-height:normal;font-family:Menlo,'DejaVu Sans Mono',consolas,'Courier New',monospace\">التاسكات في البداية كانت غير مربوطة بشكل كافي بالمقرر، لو يكون في تدريب عملي في اللقاءات\n",
       "        Topic is: <span style=\"color: #008080; text-decoration-color: #008080; font-weight: bold\">1</span>-دكتور المقرر\n",
       "</pre>\n"
      ],
      "text/plain": [
       "التاسكات في البداية كانت غير مربوطة بشكل كافي بالمقرر، لو يكون في تدريب عملي في اللقاءات\n",
       "        Topic is: \u001b[1;36m1\u001b[0m-دكتور المقرر\n"
      ]
     },
     "metadata": {},
     "output_type": "display_data"
    },
    {
     "data": {
      "text/html": [
       "<pre style=\"white-space:pre;overflow-x:auto;line-height:normal;font-family:Menlo,'DejaVu Sans Mono',consolas,'Courier New',monospace\">التركيز ع النمذجه والمحاكاه كاسلوب بحثي بدلا من التركيز ع الأسلوب الرياضي وان تتناسب الواجبات مع أهداف المقرر\n",
       "        Topic is: <span style=\"color: #008080; text-decoration-color: #008080; font-weight: bold\">6</span>-طريقة تدريس و تقديم المادة\n",
       "</pre>\n"
      ],
      "text/plain": [
       "التركيز ع النمذجه والمحاكاه كاسلوب بحثي بدلا من التركيز ع الأسلوب الرياضي وان تتناسب الواجبات مع أهداف المقرر\n",
       "        Topic is: \u001b[1;36m6\u001b[0m-طريقة تدريس و تقديم المادة\n"
      ]
     },
     "metadata": {},
     "output_type": "display_data"
    },
    {
     "data": {
      "text/html": [
       "<pre style=\"white-space:pre;overflow-x:auto;line-height:normal;font-family:Menlo,'DejaVu Sans Mono',consolas,'Courier New',monospace\">التركيز على العميق بدل المقدمات العامه للذكاء والتي يفترض من طلاب الدكتوراه معرفتها\n",
       "        Topic is: <span style=\"color: #008080; text-decoration-color: #008080; font-weight: bold\">1</span>-دكتور المقرر\n",
       "</pre>\n"
      ],
      "text/plain": [
       "التركيز على العميق بدل المقدمات العامه للذكاء والتي يفترض من طلاب الدكتوراه معرفتها\n",
       "        Topic is: \u001b[1;36m1\u001b[0m-دكتور المقرر\n"
      ]
     },
     "metadata": {},
     "output_type": "display_data"
    },
    {
     "data": {
      "text/html": [
       "<pre style=\"white-space:pre;overflow-x:auto;line-height:normal;font-family:Menlo,'DejaVu Sans Mono',consolas,'Courier New',monospace\">التركيز على هذا المقرر بزيادة محتواه أو إضافة مقرر آخر يدور حول المخاطر\n",
       "        Topic is: <span style=\"color: #008080; text-decoration-color: #008080; font-weight: bold\">0</span>-محتوى ومعلومات المقرر\n",
       "</pre>\n"
      ],
      "text/plain": [
       "التركيز على هذا المقرر بزيادة محتواه أو إضافة مقرر آخر يدور حول المخاطر\n",
       "        Topic is: \u001b[1;36m0\u001b[0m-محتوى ومعلومات المقرر\n"
      ]
     },
     "metadata": {},
     "output_type": "display_data"
    },
    {
     "data": {
      "text/html": [
       "<pre style=\"white-space:pre;overflow-x:auto;line-height:normal;font-family:Menlo,'DejaVu Sans Mono',consolas,'Courier New',monospace\">التطبيق العملي طيلة الخطة منذ اللقاءات الاولى وموائمة السلايدات مع الخطوات العملية على التولز بشكل واضح ومشاركة \n",
       "العمل مع الدكتورة خطوة بخطوة لكل طالبة\n",
       "        Topic is: <span style=\"color: #008080; text-decoration-color: #008080; font-weight: bold\">1</span>-دكتور المقرر\n",
       "</pre>\n"
      ],
      "text/plain": [
       "التطبيق العملي طيلة الخطة منذ اللقاءات الاولى وموائمة السلايدات مع الخطوات العملية على التولز بشكل واضح ومشاركة \n",
       "العمل مع الدكتورة خطوة بخطوة لكل طالبة\n",
       "        Topic is: \u001b[1;36m1\u001b[0m-دكتور المقرر\n"
      ]
     },
     "metadata": {},
     "output_type": "display_data"
    },
    {
     "data": {
      "text/html": [
       "<pre style=\"white-space:pre;overflow-x:auto;line-height:normal;font-family:Menlo,'DejaVu Sans Mono',consolas,'Courier New',monospace\">التغذية الراجعة على الأبحاث والواجبات للمقرر، إتاحة الفرصة للتعلم عن تلخيص ونقد الدراسات السابقة. إتاحة الفرصة \n",
       "لتعلم كيفية إعداد بحث في المجال بالتدريج\n",
       "        Topic is: <span style=\"color: #008080; text-decoration-color: #008080; font-weight: bold\">6</span>-طريقة تدريس و تقديم المادة\n",
       "</pre>\n"
      ],
      "text/plain": [
       "التغذية الراجعة على الأبحاث والواجبات للمقرر، إتاحة الفرصة للتعلم عن تلخيص ونقد الدراسات السابقة. إتاحة الفرصة \n",
       "لتعلم كيفية إعداد بحث في المجال بالتدريج\n",
       "        Topic is: \u001b[1;36m6\u001b[0m-طريقة تدريس و تقديم المادة\n"
      ]
     },
     "metadata": {},
     "output_type": "display_data"
    },
    {
     "data": {
      "text/html": [
       "<pre style=\"white-space:pre;overflow-x:auto;line-height:normal;font-family:Menlo,'DejaVu Sans Mono',consolas,'Courier New',monospace\">التقييم الأمني من أهم أهم أهم المواد العلمية اللي تم تقديمها في هذا البرنامج وتمكن د بسمه السلمي من إعطاء المادة \n",
       "العلمية زادت معرفتنا فيها بشكل ممتع وطريقة العملي كانت فيه جميله وتم الاستفاده منها في أرض العمل\n",
       "        Topic is: <span style=\"color: #008080; text-decoration-color: #008080; font-weight: bold\">1</span>-دكتور المقرر\n",
       "</pre>\n"
      ],
      "text/plain": [
       "التقييم الأمني من أهم أهم أهم المواد العلمية اللي تم تقديمها في هذا البرنامج وتمكن د بسمه السلمي من إعطاء المادة \n",
       "العلمية زادت معرفتنا فيها بشكل ممتع وطريقة العملي كانت فيه جميله وتم الاستفاده منها في أرض العمل\n",
       "        Topic is: \u001b[1;36m1\u001b[0m-دكتور المقرر\n"
      ]
     },
     "metadata": {},
     "output_type": "display_data"
    },
    {
     "data": {
      "text/html": [
       "<pre style=\"white-space:pre;overflow-x:auto;line-height:normal;font-family:Menlo,'DejaVu Sans Mono',consolas,'Courier New',monospace\">التكاليف في هذه المادة فرديه بالتالي تزيد من وعي و معرفة الطالب و الحفاظ على حقه من ناحية الدرجات\n",
       "        Topic is: <span style=\"color: #008080; text-decoration-color: #008080; font-weight: bold\">6</span>-طريقة تدريس و تقديم المادة\n",
       "</pre>\n"
      ],
      "text/plain": [
       "التكاليف في هذه المادة فرديه بالتالي تزيد من وعي و معرفة الطالب و الحفاظ على حقه من ناحية الدرجات\n",
       "        Topic is: \u001b[1;36m6\u001b[0m-طريقة تدريس و تقديم المادة\n"
      ]
     },
     "metadata": {},
     "output_type": "display_data"
    },
    {
     "data": {
      "text/html": [
       "<pre style=\"white-space:pre;overflow-x:auto;line-height:normal;font-family:Menlo,'DejaVu Sans Mono',consolas,'Courier New',monospace\">الدكتورة متفهمه ومنصفه جدا وملمه بمحتوى المادة وطريقة استخدامه في الواقع وكثير ما كانت تربط المادة بالواجع بشكل \n",
       "مذهل وجدا ساهم في فهم الطلاب لمفاهيم المادة ايضا خلال المقرر قمنا بكتابة ورقة علمية عن موضوع لم نتطرق له كثيرا في \n",
       "المحاضرات مما ساهم في زيادة قدرة الطالبات على الفهم والاستنتاج وتربيط المعلومات بشكل جدا كبير\n",
       "        Topic is: <span style=\"color: #008080; text-decoration-color: #008080; font-weight: bold\">1</span>-دكتور المقرر\n",
       "</pre>\n"
      ],
      "text/plain": [
       "الدكتورة متفهمه ومنصفه جدا وملمه بمحتوى المادة وطريقة استخدامه في الواقع وكثير ما كانت تربط المادة بالواجع بشكل \n",
       "مذهل وجدا ساهم في فهم الطلاب لمفاهيم المادة ايضا خلال المقرر قمنا بكتابة ورقة علمية عن موضوع لم نتطرق له كثيرا في \n",
       "المحاضرات مما ساهم في زيادة قدرة الطالبات على الفهم والاستنتاج وتربيط المعلومات بشكل جدا كبير\n",
       "        Topic is: \u001b[1;36m1\u001b[0m-دكتور المقرر\n"
      ]
     },
     "metadata": {},
     "output_type": "display_data"
    },
    {
     "data": {
      "text/html": [
       "<pre style=\"white-space:pre;overflow-x:auto;line-height:normal;font-family:Menlo,'DejaVu Sans Mono',consolas,'Courier New',monospace\">الرجاء تنسيق الخطه الدراسيه لان كانت برمضان فقط محاضره مما سبب ضغط بعد رمضان\n",
       "        Topic is: <span style=\"color: #008080; text-decoration-color: #008080; font-weight: bold\">6</span>-طريقة تدريس و تقديم المادة\n",
       "</pre>\n"
      ],
      "text/plain": [
       "الرجاء تنسيق الخطه الدراسيه لان كانت برمضان فقط محاضره مما سبب ضغط بعد رمضان\n",
       "        Topic is: \u001b[1;36m6\u001b[0m-طريقة تدريس و تقديم المادة\n"
      ]
     },
     "metadata": {},
     "output_type": "display_data"
    },
    {
     "data": {
      "text/html": [
       "<pre style=\"white-space:pre;overflow-x:auto;line-height:normal;font-family:Menlo,'DejaVu Sans Mono',consolas,'Courier New',monospace\">الضغط بعد شهر رمضان ووجود محاضره واحده برمضان مما سبب الضغط الرجاء المراجعه بالخطه للتناسب مع عدم الضغط\n",
       "        Topic is: <span style=\"color: #008080; text-decoration-color: #008080; font-weight: bold\">-1</span>-Outlier\n",
       "</pre>\n"
      ],
      "text/plain": [
       "الضغط بعد شهر رمضان ووجود محاضره واحده برمضان مما سبب الضغط الرجاء المراجعه بالخطه للتناسب مع عدم الضغط\n",
       "        Topic is: \u001b[1;36m-1\u001b[0m-Outlier\n"
      ]
     },
     "metadata": {},
     "output_type": "display_data"
    },
    {
     "data": {
      "text/html": [
       "<pre style=\"white-space:pre;overflow-x:auto;line-height:normal;font-family:Menlo,'DejaVu Sans Mono',consolas,'Courier New',monospace\">العروض غير محدده مقسمه يشكل غبر متساوي وبمزاجيه عاليه فبعض الطلبه يتم عرضهم كل أسبوع لبيبرات صعبه التحضير والفهم \n",
       "وبعض الطلبه يقدمون عرضين أو <span style=\"color: #008080; text-decoration-color: #008080; font-weight: bold\">3</span> خلال الترم كامل\n",
       "        Topic is: <span style=\"color: #008080; text-decoration-color: #008080; font-weight: bold\">-1</span>-Outlier\n",
       "</pre>\n"
      ],
      "text/plain": [
       "العروض غير محدده مقسمه يشكل غبر متساوي وبمزاجيه عاليه فبعض الطلبه يتم عرضهم كل أسبوع لبيبرات صعبه التحضير والفهم \n",
       "وبعض الطلبه يقدمون عرضين أو \u001b[1;36m3\u001b[0m خلال الترم كامل\n",
       "        Topic is: \u001b[1;36m-1\u001b[0m-Outlier\n"
      ]
     },
     "metadata": {},
     "output_type": "display_data"
    },
    {
     "data": {
      "text/html": [
       "<pre style=\"white-space:pre;overflow-x:auto;line-height:normal;font-family:Menlo,'DejaVu Sans Mono',consolas,'Courier New',monospace\">العشوائية في إعطاء المنهج و الافتقار الى خطة يتم الدراسة على أساسها و انعدام التواصل من قبل الدكتور و عدم معرفة \n",
       "درجاتنا التفصيلية سواء في الواجبات أو الاختبارات\n",
       "        Topic is: <span style=\"color: #008080; text-decoration-color: #008080; font-weight: bold\">6</span>-طريقة تدريس و تقديم المادة\n",
       "</pre>\n"
      ],
      "text/plain": [
       "العشوائية في إعطاء المنهج و الافتقار الى خطة يتم الدراسة على أساسها و انعدام التواصل من قبل الدكتور و عدم معرفة \n",
       "درجاتنا التفصيلية سواء في الواجبات أو الاختبارات\n",
       "        Topic is: \u001b[1;36m6\u001b[0m-طريقة تدريس و تقديم المادة\n"
      ]
     },
     "metadata": {},
     "output_type": "display_data"
    },
    {
     "data": {
      "text/html": [
       "<pre style=\"white-space:pre;overflow-x:auto;line-height:normal;font-family:Menlo,'DejaVu Sans Mono',consolas,'Courier New',monospace\">العمل الجماعي في التكاليف كان في هذه الماده في جميع التكاليف و للاسف بعض الطلبه لا يتسمون بالجديه في العمل و \n",
       "بالتالي يضيع حق باقي أعضاء الفريق نتيجة إهمال طالب و نخسر درجات بسبب ذلك أتمنى اجادة حل لهذا بهدف الانصاف\n",
       "        Topic is: <span style=\"color: #008080; text-decoration-color: #008080; font-weight: bold\">6</span>-طريقة تدريس و تقديم المادة\n",
       "</pre>\n"
      ],
      "text/plain": [
       "العمل الجماعي في التكاليف كان في هذه الماده في جميع التكاليف و للاسف بعض الطلبه لا يتسمون بالجديه في العمل و \n",
       "بالتالي يضيع حق باقي أعضاء الفريق نتيجة إهمال طالب و نخسر درجات بسبب ذلك أتمنى اجادة حل لهذا بهدف الانصاف\n",
       "        Topic is: \u001b[1;36m6\u001b[0m-طريقة تدريس و تقديم المادة\n"
      ]
     },
     "metadata": {},
     "output_type": "display_data"
    },
    {
     "data": {
      "text/html": [
       "<pre style=\"white-space:pre;overflow-x:auto;line-height:normal;font-family:Menlo,'DejaVu Sans Mono',consolas,'Courier New',monospace\">العمل على عدة أدوات ساعدتني كثيرا في البحث العلمي وتحليل البيانات\n",
       "        Topic is: <span style=\"color: #008080; text-decoration-color: #008080; font-weight: bold\">1</span>-دكتور المقرر\n",
       "</pre>\n"
      ],
      "text/plain": [
       "العمل على عدة أدوات ساعدتني كثيرا في البحث العلمي وتحليل البيانات\n",
       "        Topic is: \u001b[1;36m1\u001b[0m-دكتور المقرر\n"
      ]
     },
     "metadata": {},
     "output_type": "display_data"
    },
    {
     "data": {
      "text/html": [
       "<pre style=\"white-space:pre;overflow-x:auto;line-height:normal;font-family:Menlo,'DejaVu Sans Mono',consolas,'Courier New',monospace\">الكتاب المقرر من الكلية يحتاج إلى تغيير لأن الذكاء الاصطناعي متطور بشكل كبير، والكتاب فيه مواضيع ليست مستخدمة الآن.\n",
       "        Topic is: <span style=\"color: #008080; text-decoration-color: #008080; font-weight: bold\">6</span>-طريقة تدريس و تقديم المادة\n",
       "</pre>\n"
      ],
      "text/plain": [
       "الكتاب المقرر من الكلية يحتاج إلى تغيير لأن الذكاء الاصطناعي متطور بشكل كبير، والكتاب فيه مواضيع ليست مستخدمة الآن.\n",
       "        Topic is: \u001b[1;36m6\u001b[0m-طريقة تدريس و تقديم المادة\n"
      ]
     },
     "metadata": {},
     "output_type": "display_data"
    },
    {
     "data": {
      "text/html": [
       "<pre style=\"white-space:pre;overflow-x:auto;line-height:normal;font-family:Menlo,'DejaVu Sans Mono',consolas,'Courier New',monospace\">المادة تفتقر الى خطة دراسية.. و تفاصيل التقييم.. كان فيه عشوائية جدا في إعطاء المنهج و طريقة التقييم على الواجبات و\n",
       "الاختبارات\n",
       "        Topic is: <span style=\"color: #008080; text-decoration-color: #008080; font-weight: bold\">1</span>-دكتور المقرر\n",
       "</pre>\n"
      ],
      "text/plain": [
       "المادة تفتقر الى خطة دراسية.. و تفاصيل التقييم.. كان فيه عشوائية جدا في إعطاء المنهج و طريقة التقييم على الواجبات و\n",
       "الاختبارات\n",
       "        Topic is: \u001b[1;36m1\u001b[0m-دكتور المقرر\n"
      ]
     },
     "metadata": {},
     "output_type": "display_data"
    },
    {
     "data": {
      "text/html": [
       "<pre style=\"white-space:pre;overflow-x:auto;line-height:normal;font-family:Menlo,'DejaVu Sans Mono',consolas,'Courier New',monospace\">المادة كانت عن تعلم الالة، دكتورة المادة بدأت بمستوى متقدم تعلم الالة مادة لا تدرس في البكالوريس لذا متوقع من \n",
       "الطلبة عدم وجود خلفية عن الموضوع مما جعلها مادة صعبة\n",
       "        Topic is: <span style=\"color: #008080; text-decoration-color: #008080; font-weight: bold\">1</span>-دكتور المقرر\n",
       "</pre>\n"
      ],
      "text/plain": [
       "المادة كانت عن تعلم الالة، دكتورة المادة بدأت بمستوى متقدم تعلم الالة مادة لا تدرس في البكالوريس لذا متوقع من \n",
       "الطلبة عدم وجود خلفية عن الموضوع مما جعلها مادة صعبة\n",
       "        Topic is: \u001b[1;36m1\u001b[0m-دكتور المقرر\n"
      ]
     },
     "metadata": {},
     "output_type": "display_data"
    },
    {
     "data": {
      "text/html": [
       "<pre style=\"white-space:pre;overflow-x:auto;line-height:normal;font-family:Menlo,'DejaVu Sans Mono',consolas,'Courier New',monospace\">المادة مفيدة جدا. أرجو ان يكون للمادة متطلب سابق. أو أن يخصص جزء من المادة لإعطاء نبذة بسيطة عن الرسوم والمخططات \n",
       "وخاصة ال uml\n",
       "        Topic is: <span style=\"color: #008080; text-decoration-color: #008080; font-weight: bold\">1</span>-دكتور المقرر\n",
       "</pre>\n"
      ],
      "text/plain": [
       "المادة مفيدة جدا. أرجو ان يكون للمادة متطلب سابق. أو أن يخصص جزء من المادة لإعطاء نبذة بسيطة عن الرسوم والمخططات \n",
       "وخاصة ال uml\n",
       "        Topic is: \u001b[1;36m1\u001b[0m-دكتور المقرر\n"
      ]
     },
     "metadata": {},
     "output_type": "display_data"
    },
    {
     "data": {
      "text/html": [
       "<pre style=\"white-space:pre;overflow-x:auto;line-height:normal;font-family:Menlo,'DejaVu Sans Mono',consolas,'Courier New',monospace\">المادة مفيدة وتتطرق لمفهم مهم وجديد على أغلب الطلب تقسيم الدرجات جدا عادل <span style=\"font-weight: bold\">(</span>اختبار نصفي-اختبار نهائي-تلخيص أوراق \n",
       "علمية-كتابة ورقة علمية-تقديم عرض نصفي-تقديم عرض نهائي<span style=\"font-weight: bold\">)</span> وأيضا المشروع المقدم في المادة <span style=\"color: #008000; text-decoration-color: #008000\">\"كتابة ورقة علمية\"</span> جدا مفيد \n",
       "وطور من إمكانيات الطلاب و طريقة عرض الطالب لعمله امام بقية الطلاب جعل بقية الطلاب يستفيدوا من المواضيع المختلفة \n",
       "المطروحة\n",
       "        Topic is: <span style=\"color: #008080; text-decoration-color: #008080; font-weight: bold\">6</span>-طريقة تدريس و تقديم المادة\n",
       "</pre>\n"
      ],
      "text/plain": [
       "المادة مفيدة وتتطرق لمفهم مهم وجديد على أغلب الطلب تقسيم الدرجات جدا عادل \u001b[1m(\u001b[0mاختبار نصفي-اختبار نهائي-تلخيص أوراق \n",
       "علمية-كتابة ورقة علمية-تقديم عرض نصفي-تقديم عرض نهائي\u001b[1m)\u001b[0m وأيضا المشروع المقدم في المادة \u001b[32m\"كتابة ورقة علمية\"\u001b[0m جدا مفيد \n",
       "وطور من إمكانيات الطلاب و طريقة عرض الطالب لعمله امام بقية الطلاب جعل بقية الطلاب يستفيدوا من المواضيع المختلفة \n",
       "المطروحة\n",
       "        Topic is: \u001b[1;36m6\u001b[0m-طريقة تدريس و تقديم المادة\n"
      ]
     },
     "metadata": {},
     "output_type": "display_data"
    },
    {
     "data": {
      "text/html": [
       "<pre style=\"white-space:pre;overflow-x:auto;line-height:normal;font-family:Menlo,'DejaVu Sans Mono',consolas,'Courier New',monospace\">المادة ممتعة جدا والسبب في ذلك شرح الدكتورة للمقرر بشكل مبسط ومفهوم وجدا متعاونه ومتواضعه فكل كل التقدير والشكر لها\n",
       "الواجبات اغلبها كانت مشتركة بين <span style=\"color: #008080; text-decoration-color: #008080; font-weight: bold\">3</span> أشخاص وخلقت فينا روح التعاون بعد المادة أصبح لدي خلفية كييرة عن عمل أستراتيجية \n",
       "لشركة والمقرر خلاني أكون جاهزة للمادة <span style=\"color: #008080; text-decoration-color: #008080; font-weight: bold\">602</span> لعمل سياسه لشركة\n",
       "        Topic is: <span style=\"color: #008080; text-decoration-color: #008080; font-weight: bold\">1</span>-دكتور المقرر\n",
       "</pre>\n"
      ],
      "text/plain": [
       "المادة ممتعة جدا والسبب في ذلك شرح الدكتورة للمقرر بشكل مبسط ومفهوم وجدا متعاونه ومتواضعه فكل كل التقدير والشكر لها\n",
       "الواجبات اغلبها كانت مشتركة بين \u001b[1;36m3\u001b[0m أشخاص وخلقت فينا روح التعاون بعد المادة أصبح لدي خلفية كييرة عن عمل أستراتيجية \n",
       "لشركة والمقرر خلاني أكون جاهزة للمادة \u001b[1;36m602\u001b[0m لعمل سياسه لشركة\n",
       "        Topic is: \u001b[1;36m1\u001b[0m-دكتور المقرر\n"
      ]
     },
     "metadata": {},
     "output_type": "display_data"
    },
    {
     "data": {
      "text/html": [
       "<pre style=\"white-space:pre;overflow-x:auto;line-height:normal;font-family:Menlo,'DejaVu Sans Mono',consolas,'Courier New',monospace\">المادة مهمة جدا ولكن لو تم استبدالها بمادة من التخصص بحيث يتم الاستفادة أكثر من صميم التخصص ويتم أخذ هذه المادة \n",
       "بدورات تكون من ضمن متطلبات التخرج.\n",
       "        Topic is: <span style=\"color: #008080; text-decoration-color: #008080; font-weight: bold\">1</span>-دكتور المقرر\n",
       "</pre>\n"
      ],
      "text/plain": [
       "المادة مهمة جدا ولكن لو تم استبدالها بمادة من التخصص بحيث يتم الاستفادة أكثر من صميم التخصص ويتم أخذ هذه المادة \n",
       "بدورات تكون من ضمن متطلبات التخرج.\n",
       "        Topic is: \u001b[1;36m1\u001b[0m-دكتور المقرر\n"
      ]
     },
     "metadata": {},
     "output_type": "display_data"
    },
    {
     "data": {
      "text/html": [
       "<pre style=\"white-space:pre;overflow-x:auto;line-height:normal;font-family:Menlo,'DejaVu Sans Mono',consolas,'Courier New',monospace\">المستوى المتقدم كانت دكتورة المقرر تجعلنا ندرس الأساسيات اونلاين من خلال كورس، وتقوم هي بنفس الوقت بتدريس منهج \n",
       "لديها مما تسبب في التشتت لكن كل المعلومات جديدة\n",
       "        Topic is: <span style=\"color: #008080; text-decoration-color: #008080; font-weight: bold\">1</span>-دكتور المقرر\n",
       "</pre>\n"
      ],
      "text/plain": [
       "المستوى المتقدم كانت دكتورة المقرر تجعلنا ندرس الأساسيات اونلاين من خلال كورس، وتقوم هي بنفس الوقت بتدريس منهج \n",
       "لديها مما تسبب في التشتت لكن كل المعلومات جديدة\n",
       "        Topic is: \u001b[1;36m1\u001b[0m-دكتور المقرر\n"
      ]
     },
     "metadata": {},
     "output_type": "display_data"
    },
    {
     "data": {
      "text/html": [
       "<pre style=\"white-space:pre;overflow-x:auto;line-height:normal;font-family:Menlo,'DejaVu Sans Mono',consolas,'Courier New',monospace\">المشاريع والاسايمنتات أتمنى ان تكون case study بدلا من سؤال عام وجواب بمعنى ان تكون تحليل لوضع راهن في شركان وما \n",
       "الى ذلك\n",
       "        Topic is: <span style=\"color: #008080; text-decoration-color: #008080; font-weight: bold\">-1</span>-Outlier\n",
       "</pre>\n"
      ],
      "text/plain": [
       "المشاريع والاسايمنتات أتمنى ان تكون case study بدلا من سؤال عام وجواب بمعنى ان تكون تحليل لوضع راهن في شركان وما \n",
       "الى ذلك\n",
       "        Topic is: \u001b[1;36m-1\u001b[0m-Outlier\n"
      ]
     },
     "metadata": {},
     "output_type": "display_data"
    },
    {
     "data": {
      "text/html": [
       "<pre style=\"white-space:pre;overflow-x:auto;line-height:normal;font-family:Menlo,'DejaVu Sans Mono',consolas,'Courier New',monospace\">المشروع النهائي تم إعطاء وقت قصير جدا ويفضل تسليمه للطلاب منذ بداية الترم اختبار <span style=\"color: #008080; text-decoration-color: #008080; font-weight: bold\">20</span> درجة جدا عدد الدرجات كثير على \n",
       "اختبار\n",
       "        Topic is: <span style=\"color: #008080; text-decoration-color: #008080; font-weight: bold\">6</span>-طريقة تدريس و تقديم المادة\n",
       "</pre>\n"
      ],
      "text/plain": [
       "المشروع النهائي تم إعطاء وقت قصير جدا ويفضل تسليمه للطلاب منذ بداية الترم اختبار \u001b[1;36m20\u001b[0m درجة جدا عدد الدرجات كثير على \n",
       "اختبار\n",
       "        Topic is: \u001b[1;36m6\u001b[0m-طريقة تدريس و تقديم المادة\n"
      ]
     },
     "metadata": {},
     "output_type": "display_data"
    },
    {
     "data": {
      "text/html": [
       "<pre style=\"white-space:pre;overflow-x:auto;line-height:normal;font-family:Menlo,'DejaVu Sans Mono',consolas,'Courier New',monospace\">المعلومات والمادة المقدمة في آخر فصلين كانت حديثة ومفيدة. المادة بشكل عام مهمة وتفيد الطالب في جوانب كثيرة.\n",
       "        Topic is: <span style=\"color: #008080; text-decoration-color: #008080; font-weight: bold\">1</span>-دكتور المقرر\n",
       "</pre>\n"
      ],
      "text/plain": [
       "المعلومات والمادة المقدمة في آخر فصلين كانت حديثة ومفيدة. المادة بشكل عام مهمة وتفيد الطالب في جوانب كثيرة.\n",
       "        Topic is: \u001b[1;36m1\u001b[0m-دكتور المقرر\n"
      ]
     },
     "metadata": {},
     "output_type": "display_data"
    },
    {
     "data": {
      "text/html": [
       "<pre style=\"white-space:pre;overflow-x:auto;line-height:normal;font-family:Menlo,'DejaVu Sans Mono',consolas,'Courier New',monospace\">المقرر ساعدني جدا في فهم نظام التشغيل بطريقه عميقه وطريقة دكتور في المشاريع و الواجبات جدا ساعدت و أثمرت و أصبح مو \n",
       "فقط جزء نظري حتى الجزء العملي ساعد في فهم الموضوع\n",
       "        Topic is: <span style=\"color: #008080; text-decoration-color: #008080; font-weight: bold\">1</span>-دكتور المقرر\n",
       "</pre>\n"
      ],
      "text/plain": [
       "المقرر ساعدني جدا في فهم نظام التشغيل بطريقه عميقه وطريقة دكتور في المشاريع و الواجبات جدا ساعدت و أثمرت و أصبح مو \n",
       "فقط جزء نظري حتى الجزء العملي ساعد في فهم الموضوع\n",
       "        Topic is: \u001b[1;36m1\u001b[0m-دكتور المقرر\n"
      ]
     },
     "metadata": {},
     "output_type": "display_data"
    },
    {
     "data": {
      "text/html": [
       "<pre style=\"white-space:pre;overflow-x:auto;line-height:normal;font-family:Menlo,'DejaVu Sans Mono',consolas,'Courier New',monospace\">المقرر مجرد عروض طلبه و يقسم يشكل غير متساوي على الطلاب والأوراق قديمه جدا ولا يتم تقديم اي محتوى بالماده\n",
       "        Topic is: <span style=\"color: #008080; text-decoration-color: #008080; font-weight: bold\">6</span>-طريقة تدريس و تقديم المادة\n",
       "</pre>\n"
      ],
      "text/plain": [
       "المقرر مجرد عروض طلبه و يقسم يشكل غير متساوي على الطلاب والأوراق قديمه جدا ولا يتم تقديم اي محتوى بالماده\n",
       "        Topic is: \u001b[1;36m6\u001b[0m-طريقة تدريس و تقديم المادة\n"
      ]
     },
     "metadata": {},
     "output_type": "display_data"
    },
    {
     "data": {
      "text/html": [
       "<pre style=\"white-space:pre;overflow-x:auto;line-height:normal;font-family:Menlo,'DejaVu Sans Mono',consolas,'Courier New',monospace\">المقرر مجرد عروض يقوم بها الطلاب لبيبرات قديمه ولا يتم تقسيمها بشكل متساوي بحيث يتم ادراج أسماء بعض الطلاب كل أسبوع\n",
       "وطلاب اخريت يعرضون <span style=\"color: #008080; text-decoration-color: #008080; font-weight: bold\">3</span> مرات بالترم\n",
       "        Topic is: <span style=\"color: #008080; text-decoration-color: #008080; font-weight: bold\">6</span>-طريقة تدريس و تقديم المادة\n",
       "</pre>\n"
      ],
      "text/plain": [
       "المقرر مجرد عروض يقوم بها الطلاب لبيبرات قديمه ولا يتم تقسيمها بشكل متساوي بحيث يتم ادراج أسماء بعض الطلاب كل أسبوع\n",
       "وطلاب اخريت يعرضون \u001b[1;36m3\u001b[0m مرات بالترم\n",
       "        Topic is: \u001b[1;36m6\u001b[0m-طريقة تدريس و تقديم المادة\n"
      ]
     },
     "metadata": {},
     "output_type": "display_data"
    },
    {
     "data": {
      "text/html": [
       "<pre style=\"white-space:pre;overflow-x:auto;line-height:normal;font-family:Menlo,'DejaVu Sans Mono',consolas,'Courier New',monospace\">المقرر مفيد يدرس لغه مهمه وكيف توظيفها لبناء برامج لها علاقه بالمواد\n",
       "        Topic is: <span style=\"color: #008080; text-decoration-color: #008080; font-weight: bold\">1</span>-دكتور المقرر\n",
       "</pre>\n"
      ],
      "text/plain": [
       "المقرر مفيد يدرس لغه مهمه وكيف توظيفها لبناء برامج لها علاقه بالمواد\n",
       "        Topic is: \u001b[1;36m1\u001b[0m-دكتور المقرر\n"
      ]
     },
     "metadata": {},
     "output_type": "display_data"
    },
    {
     "data": {
      "text/html": [
       "<pre style=\"white-space:pre;overflow-x:auto;line-height:normal;font-family:Menlo,'DejaVu Sans Mono',consolas,'Courier New',monospace\">المقرر يحتوي على مواضيع سابقة بتفاصيل كثيرة تم دراستها سابقا مما أشعرنا بالملل لتكرار المعلومات توزيع الدرجات على \n",
       "المهام لا يتناسب مع حجم المهام\n",
       "        Topic is: <span style=\"color: #008080; text-decoration-color: #008080; font-weight: bold\">6</span>-طريقة تدريس و تقديم المادة\n",
       "</pre>\n"
      ],
      "text/plain": [
       "المقرر يحتوي على مواضيع سابقة بتفاصيل كثيرة تم دراستها سابقا مما أشعرنا بالملل لتكرار المعلومات توزيع الدرجات على \n",
       "المهام لا يتناسب مع حجم المهام\n",
       "        Topic is: \u001b[1;36m6\u001b[0m-طريقة تدريس و تقديم المادة\n"
      ]
     },
     "metadata": {},
     "output_type": "display_data"
    },
    {
     "data": {
      "text/html": [
       "<pre style=\"white-space:pre;overflow-x:auto;line-height:normal;font-family:Menlo,'DejaVu Sans Mono',consolas,'Courier New',monospace\">المقرر يفترض ان يكون نظم قواعد البيانات الموزعه لكن للاسف لم ناخذ اي شي يتعلق بالمقرر المقرر كان فرصه للدكتور راشد \n",
       "في الحصول ع طلاب للإشراف عليهم المقرر عباره عن فكره بحثيه ونطبقها مع الدكتور الدكتور ليس لديه القدره ع حل مشاكلنا \n",
       "البرمجية للبحث للاسف مسجل لدينااننا اجتزنا مقرر نظم قواعد البيانات الموزعه لكن للاسف لم نتطرق له نهائي درجاتنا من \n",
       "<span style=\"color: #008080; text-decoration-color: #008080; font-weight: bold\">100</span> حصلنا عليها بنهاية الفصل لا يوجد محاضرات إنما تواصل مره بالاسبوع لمتابعه مستجدات البحث\n",
       "        Topic is: <span style=\"color: #008080; text-decoration-color: #008080; font-weight: bold\">1</span>-دكتور المقرر\n",
       "</pre>\n"
      ],
      "text/plain": [
       "المقرر يفترض ان يكون نظم قواعد البيانات الموزعه لكن للاسف لم ناخذ اي شي يتعلق بالمقرر المقرر كان فرصه للدكتور راشد \n",
       "في الحصول ع طلاب للإشراف عليهم المقرر عباره عن فكره بحثيه ونطبقها مع الدكتور الدكتور ليس لديه القدره ع حل مشاكلنا \n",
       "البرمجية للبحث للاسف مسجل لدينااننا اجتزنا مقرر نظم قواعد البيانات الموزعه لكن للاسف لم نتطرق له نهائي درجاتنا من \n",
       "\u001b[1;36m100\u001b[0m حصلنا عليها بنهاية الفصل لا يوجد محاضرات إنما تواصل مره بالاسبوع لمتابعه مستجدات البحث\n",
       "        Topic is: \u001b[1;36m1\u001b[0m-دكتور المقرر\n"
      ]
     },
     "metadata": {},
     "output_type": "display_data"
    },
    {
     "data": {
      "text/html": [
       "<pre style=\"white-space:pre;overflow-x:auto;line-height:normal;font-family:Menlo,'DejaVu Sans Mono',consolas,'Courier New',monospace\">المقرر ينقصه بشكل واضح التطبيق على الأدوات لكي يصل للهدف منه\n",
       "        Topic is: <span style=\"color: #008080; text-decoration-color: #008080; font-weight: bold\">3</span>-موازنة الجزء العملي مع الجزء النظري\n",
       "</pre>\n"
      ],
      "text/plain": [
       "المقرر ينقصه بشكل واضح التطبيق على الأدوات لكي يصل للهدف منه\n",
       "        Topic is: \u001b[1;36m3\u001b[0m-موازنة الجزء العملي مع الجزء النظري\n"
      ]
     },
     "metadata": {},
     "output_type": "display_data"
    },
    {
     "data": {
      "text/html": [
       "<pre style=\"white-space:pre;overflow-x:auto;line-height:normal;font-family:Menlo,'DejaVu Sans Mono',consolas,'Courier New',monospace\">المقررات والمحتوى وطريقة التدريس\n",
       "        Topic is: <span style=\"color: #008080; text-decoration-color: #008080; font-weight: bold\">6</span>-طريقة تدريس و تقديم المادة\n",
       "</pre>\n"
      ],
      "text/plain": [
       "المقررات والمحتوى وطريقة التدريس\n",
       "        Topic is: \u001b[1;36m6\u001b[0m-طريقة تدريس و تقديم المادة\n"
      ]
     },
     "metadata": {},
     "output_type": "display_data"
    },
    {
     "data": {
      "text/html": [
       "<pre style=\"white-space:pre;overflow-x:auto;line-height:normal;font-family:Menlo,'DejaVu Sans Mono',consolas,'Courier New',monospace\">المنهج غير واضح تماما ولا ندري عن ماذا يشرح الدكتور.. كما ان أسلوب الاختبارات والتصحيح فيها نوعا ما ظلم للطالب \n",
       "<span style=\"font-weight: bold\">(</span>مثلا في الاختبار النهائي <span style=\"color: #008080; text-decoration-color: #008080; font-weight: bold\">4</span> أسئلة كل سؤال عليه <span style=\"color: #008080; text-decoration-color: #008080; font-weight: bold\">10</span> درجات وطبيعة الأسئلة أسئلة رياضية<span style=\"font-weight: bold\">)</span>\n",
       "        Topic is: <span style=\"color: #008080; text-decoration-color: #008080; font-weight: bold\">1</span>-دكتور المقرر\n",
       "</pre>\n"
      ],
      "text/plain": [
       "المنهج غير واضح تماما ولا ندري عن ماذا يشرح الدكتور.. كما ان أسلوب الاختبارات والتصحيح فيها نوعا ما ظلم للطالب \n",
       "\u001b[1m(\u001b[0mمثلا في الاختبار النهائي \u001b[1;36m4\u001b[0m أسئلة كل سؤال عليه \u001b[1;36m10\u001b[0m درجات وطبيعة الأسئلة أسئلة رياضية\u001b[1m)\u001b[0m\n",
       "        Topic is: \u001b[1;36m1\u001b[0m-دكتور المقرر\n"
      ]
     },
     "metadata": {},
     "output_type": "display_data"
    },
    {
     "data": {
      "text/html": [
       "<pre style=\"white-space:pre;overflow-x:auto;line-height:normal;font-family:Menlo,'DejaVu Sans Mono',consolas,'Courier New',monospace\">المنهج كثيف جدا ولا تفيه عدد الساعات\n",
       "        Topic is: <span style=\"color: #008080; text-decoration-color: #008080; font-weight: bold\">8</span>-الوقت و الجدول\n",
       "</pre>\n"
      ],
      "text/plain": [
       "المنهج كثيف جدا ولا تفيه عدد الساعات\n",
       "        Topic is: \u001b[1;36m8\u001b[0m-الوقت و الجدول\n"
      ]
     },
     "metadata": {},
     "output_type": "display_data"
    },
    {
     "data": {
      "text/html": [
       "<pre style=\"white-space:pre;overflow-x:auto;line-height:normal;font-family:Menlo,'DejaVu Sans Mono',consolas,'Courier New',monospace\">المهام المطلوبة محفزة للتفكير والبحث الاختبارات كانت اوبن بوك ساعدنا بفهم المادة أكثر من مجرد حفظها\n",
       "        Topic is: <span style=\"color: #008080; text-decoration-color: #008080; font-weight: bold\">0</span>-محتوى ومعلومات المقرر\n",
       "</pre>\n"
      ],
      "text/plain": [
       "المهام المطلوبة محفزة للتفكير والبحث الاختبارات كانت اوبن بوك ساعدنا بفهم المادة أكثر من مجرد حفظها\n",
       "        Topic is: \u001b[1;36m0\u001b[0m-محتوى ومعلومات المقرر\n"
      ]
     },
     "metadata": {},
     "output_type": "display_data"
    },
    {
     "data": {
      "text/html": [
       "<pre style=\"white-space:pre;overflow-x:auto;line-height:normal;font-family:Menlo,'DejaVu Sans Mono',consolas,'Courier New',monospace\">الواجبات من <span style=\"color: #008080; text-decoration-color: #008080; font-weight: bold\">5</span> درجات وتم بذل مجهود جدا كبير عليها وغبر منطقي ان فقط عليه <span style=\"color: #008080; text-decoration-color: #008080; font-weight: bold\">5</span> درجات\n",
       "        Topic is: <span style=\"color: #008080; text-decoration-color: #008080; font-weight: bold\">1</span>-دكتور المقرر\n",
       "</pre>\n"
      ],
      "text/plain": [
       "الواجبات من \u001b[1;36m5\u001b[0m درجات وتم بذل مجهود جدا كبير عليها وغبر منطقي ان فقط عليه \u001b[1;36m5\u001b[0m درجات\n",
       "        Topic is: \u001b[1;36m1\u001b[0m-دكتور المقرر\n"
      ]
     },
     "metadata": {},
     "output_type": "display_data"
    },
    {
     "data": {
      "text/html": [
       "<pre style=\"white-space:pre;overflow-x:auto;line-height:normal;font-family:Menlo,'DejaVu Sans Mono',consolas,'Courier New',monospace\">الوصول الى المستوى اللذي يستحقه طالب دراسات عليا في مرحلة دكتوراه لتوسيع منظور البحث والفكر لدى الطالب\n",
       "        Topic is: <span style=\"color: #008080; text-decoration-color: #008080; font-weight: bold\">6</span>-طريقة تدريس و تقديم المادة\n",
       "</pre>\n"
      ],
      "text/plain": [
       "الوصول الى المستوى اللذي يستحقه طالب دراسات عليا في مرحلة دكتوراه لتوسيع منظور البحث والفكر لدى الطالب\n",
       "        Topic is: \u001b[1;36m6\u001b[0m-طريقة تدريس و تقديم المادة\n"
      ]
     },
     "metadata": {},
     "output_type": "display_data"
    },
    {
     "data": {
      "text/html": [
       "<pre style=\"white-space:pre;overflow-x:auto;line-height:normal;font-family:Menlo,'DejaVu Sans Mono',consolas,'Courier New',monospace\">ان أصبحت هناك لخبطه بسبب عدم دراسة حالة من البدايه الى النهايه علما بان المنهج متدرج فلو ان اخدنا حاله ودرسناها \n",
       "وطورناها بالتدريج مع المحتوى، لكان أفضل\n",
       "        Topic is: <span style=\"color: #008080; text-decoration-color: #008080; font-weight: bold\">-1</span>-Outlier\n",
       "</pre>\n"
      ],
      "text/plain": [
       "ان أصبحت هناك لخبطه بسبب عدم دراسة حالة من البدايه الى النهايه علما بان المنهج متدرج فلو ان اخدنا حاله ودرسناها \n",
       "وطورناها بالتدريج مع المحتوى، لكان أفضل\n",
       "        Topic is: \u001b[1;36m-1\u001b[0m-Outlier\n"
      ]
     },
     "metadata": {},
     "output_type": "display_data"
    },
    {
     "data": {
      "text/html": [
       "<pre style=\"white-space:pre;overflow-x:auto;line-height:normal;font-family:Menlo,'DejaVu Sans Mono',consolas,'Courier New',monospace\">ان يتم تقديم بحث ونشره في هذي الماده نظرا لاهميه الذكاء الاصطناعي كتقنيه حديثه\n",
       "        Topic is: <span style=\"color: #008080; text-decoration-color: #008080; font-weight: bold\">10</span>-الجانب البحثي و الأوراق البحثية\n",
       "</pre>\n"
      ],
      "text/plain": [
       "ان يتم تقديم بحث ونشره في هذي الماده نظرا لاهميه الذكاء الاصطناعي كتقنيه حديثه\n",
       "        Topic is: \u001b[1;36m10\u001b[0m-الجانب البحثي و الأوراق البحثية\n"
      ]
     },
     "metadata": {},
     "output_type": "display_data"
    },
    {
     "data": {
      "text/html": [
       "<pre style=\"white-space:pre;overflow-x:auto;line-height:normal;font-family:Menlo,'DejaVu Sans Mono',consolas,'Courier New',monospace\">ان يحتوي على جزء عملي لمحاكاة عمل الشبكات\n",
       "        Topic is: <span style=\"color: #008080; text-decoration-color: #008080; font-weight: bold\">3</span>-موازنة الجزء العملي مع الجزء النظري\n",
       "</pre>\n"
      ],
      "text/plain": [
       "ان يحتوي على جزء عملي لمحاكاة عمل الشبكات\n",
       "        Topic is: \u001b[1;36m3\u001b[0m-موازنة الجزء العملي مع الجزء النظري\n"
      ]
     },
     "metadata": {},
     "output_type": "display_data"
    },
    {
     "data": {
      "text/html": [
       "<pre style=\"white-space:pre;overflow-x:auto;line-height:normal;font-family:Menlo,'DejaVu Sans Mono',consolas,'Courier New',monospace\">ان يكون أستاذ المقرر شخص واحد بدل اثنين وكذلك عدم التغمق ف المحتوى الرياضي البحت الذي لايخدم الماده\n",
       "        Topic is: <span style=\"color: #008080; text-decoration-color: #008080; font-weight: bold\">6</span>-طريقة تدريس و تقديم المادة\n",
       "</pre>\n"
      ],
      "text/plain": [
       "ان يكون أستاذ المقرر شخص واحد بدل اثنين وكذلك عدم التغمق ف المحتوى الرياضي البحت الذي لايخدم الماده\n",
       "        Topic is: \u001b[1;36m6\u001b[0m-طريقة تدريس و تقديم المادة\n"
      ]
     },
     "metadata": {},
     "output_type": "display_data"
    },
    {
     "data": {
      "text/html": [
       "<pre style=\"white-space:pre;overflow-x:auto;line-height:normal;font-family:Menlo,'DejaVu Sans Mono',consolas,'Courier New',monospace\">انه تم عمل مسح ادبي لأهم تقنيات الذكاء الاصطناعي المستخدمه في تطوير الشبكات وتم المشاركه في المؤتمر العلمي <span style=\"color: #008080; text-decoration-color: #008080; font-weight: bold\">11</span>\n",
       "        Topic is: <span style=\"color: #008080; text-decoration-color: #008080; font-weight: bold\">10</span>-الجانب البحثي و الأوراق البحثية\n",
       "</pre>\n"
      ],
      "text/plain": [
       "انه تم عمل مسح ادبي لأهم تقنيات الذكاء الاصطناعي المستخدمه في تطوير الشبكات وتم المشاركه في المؤتمر العلمي \u001b[1;36m11\u001b[0m\n",
       "        Topic is: \u001b[1;36m10\u001b[0m-الجانب البحثي و الأوراق البحثية\n"
      ]
     },
     "metadata": {},
     "output_type": "display_data"
    },
    {
     "data": {
      "text/html": [
       "<pre style=\"white-space:pre;overflow-x:auto;line-height:normal;font-family:Menlo,'DejaVu Sans Mono',consolas,'Courier New',monospace\">بحكم عملي أستفدت من هذا المنهج العديد والعديد من الأمور التي كانت تغيب عن ذهني فيما يخص كيفية احتواء الخطر والتغلب \n",
       "عليه وبالذات ما يخص أمن المعلومات\n",
       "        Topic is: <span style=\"color: #008080; text-decoration-color: #008080; font-weight: bold\">0</span>-محتوى ومعلومات المقرر\n",
       "</pre>\n"
      ],
      "text/plain": [
       "بحكم عملي أستفدت من هذا المنهج العديد والعديد من الأمور التي كانت تغيب عن ذهني فيما يخص كيفية احتواء الخطر والتغلب \n",
       "عليه وبالذات ما يخص أمن المعلومات\n",
       "        Topic is: \u001b[1;36m0\u001b[0m-محتوى ومعلومات المقرر\n"
      ]
     },
     "metadata": {},
     "output_type": "display_data"
    },
    {
     "data": {
      "text/html": [
       "<pre style=\"white-space:pre;overflow-x:auto;line-height:normal;font-family:Menlo,'DejaVu Sans Mono',consolas,'Courier New',monospace\">بطبيعة مشروع المادة ولما يعتمد عليه من بعض المواد السابقة كان يمكن التحدث عن بعض جزئياته مع بداية دراسة المقرر مما \n",
       "يساعد الطلاب فالعمل عليه وعدم ضغطهم في وقت أقل من أسبوعين\n",
       "        Topic is: <span style=\"color: #008080; text-decoration-color: #008080; font-weight: bold\">6</span>-طريقة تدريس و تقديم المادة\n",
       "</pre>\n"
      ],
      "text/plain": [
       "بطبيعة مشروع المادة ولما يعتمد عليه من بعض المواد السابقة كان يمكن التحدث عن بعض جزئياته مع بداية دراسة المقرر مما \n",
       "يساعد الطلاب فالعمل عليه وعدم ضغطهم في وقت أقل من أسبوعين\n",
       "        Topic is: \u001b[1;36m6\u001b[0m-طريقة تدريس و تقديم المادة\n"
      ]
     },
     "metadata": {},
     "output_type": "display_data"
    },
    {
     "data": {
      "text/html": [
       "<pre style=\"white-space:pre;overflow-x:auto;line-height:normal;font-family:Menlo,'DejaVu Sans Mono',consolas,'Courier New',monospace\">بعض التفاصيل في السلايدات\n",
       "        Topic is: <span style=\"color: #008080; text-decoration-color: #008080; font-weight: bold\">0</span>-محتوى ومعلومات المقرر\n",
       "</pre>\n"
      ],
      "text/plain": [
       "بعض التفاصيل في السلايدات\n",
       "        Topic is: \u001b[1;36m0\u001b[0m-محتوى ومعلومات المقرر\n"
      ]
     },
     "metadata": {},
     "output_type": "display_data"
    },
    {
     "data": {
      "text/html": [
       "<pre style=\"white-space:pre;overflow-x:auto;line-height:normal;font-family:Menlo,'DejaVu Sans Mono',consolas,'Courier New',monospace\">بعض الدكاترة يحتاجون الى تدريب على استخدام تقنيات التعلم عن بعد. مثلا: عمل محاضرة عبر البلاكبورد أو عبر زووم. \n",
       "وخصوصا كبار السن منهم.\n",
       "        Topic is: <span style=\"color: #008080; text-decoration-color: #008080; font-weight: bold\">6</span>-طريقة تدريس و تقديم المادة\n",
       "</pre>\n"
      ],
      "text/plain": [
       "بعض الدكاترة يحتاجون الى تدريب على استخدام تقنيات التعلم عن بعد. مثلا: عمل محاضرة عبر البلاكبورد أو عبر زووم. \n",
       "وخصوصا كبار السن منهم.\n",
       "        Topic is: \u001b[1;36m6\u001b[0m-طريقة تدريس و تقديم المادة\n"
      ]
     },
     "metadata": {},
     "output_type": "display_data"
    },
    {
     "data": {
      "text/html": [
       "<pre style=\"white-space:pre;overflow-x:auto;line-height:normal;font-family:Menlo,'DejaVu Sans Mono',consolas,'Courier New',monospace\">بعض المهام كانت غير قابلة للتطبيق جزئيا وذلك بسبب ان الملفات التي يجب علينا التحقيق فيها والمقدمة من الدكتورة تغيرت\n",
       "جزئيا وفقدت بعض المعلومات وبالتالي واجهنا بعض الصعوبات في تنفيذها ولكن فالنهاية تم حل المشكلة\n",
       "        Topic is: <span style=\"color: #008080; text-decoration-color: #008080; font-weight: bold\">1</span>-دكتور المقرر\n",
       "</pre>\n"
      ],
      "text/plain": [
       "بعض المهام كانت غير قابلة للتطبيق جزئيا وذلك بسبب ان الملفات التي يجب علينا التحقيق فيها والمقدمة من الدكتورة تغيرت\n",
       "جزئيا وفقدت بعض المعلومات وبالتالي واجهنا بعض الصعوبات في تنفيذها ولكن فالنهاية تم حل المشكلة\n",
       "        Topic is: \u001b[1;36m1\u001b[0m-دكتور المقرر\n"
      ]
     },
     "metadata": {},
     "output_type": "display_data"
    },
    {
     "data": {
      "text/html": [
       "<pre style=\"white-space:pre;overflow-x:auto;line-height:normal;font-family:Menlo,'DejaVu Sans Mono',consolas,'Courier New',monospace\">تجديد المحتوى العلمي للمادة ربطه مع التقنيات الحديثة\n",
       "        Topic is: <span style=\"color: #008080; text-decoration-color: #008080; font-weight: bold\">10</span>-الجانب البحثي و الأوراق البحثية\n",
       "</pre>\n"
      ],
      "text/plain": [
       "تجديد المحتوى العلمي للمادة ربطه مع التقنيات الحديثة\n",
       "        Topic is: \u001b[1;36m10\u001b[0m-الجانب البحثي و الأوراق البحثية\n"
      ]
     },
     "metadata": {},
     "output_type": "display_data"
    },
    {
     "data": {
      "text/html": [
       "<pre style=\"white-space:pre;overflow-x:auto;line-height:normal;font-family:Menlo,'DejaVu Sans Mono',consolas,'Courier New',monospace\">تحسين وتطوير المحتوى بحيث يشمل التقنيات الحديثة للتشفير\n",
       "        Topic is: <span style=\"color: #008080; text-decoration-color: #008080; font-weight: bold\">0</span>-محتوى ومعلومات المقرر\n",
       "</pre>\n"
      ],
      "text/plain": [
       "تحسين وتطوير المحتوى بحيث يشمل التقنيات الحديثة للتشفير\n",
       "        Topic is: \u001b[1;36m0\u001b[0m-محتوى ومعلومات المقرر\n"
      ]
     },
     "metadata": {},
     "output_type": "display_data"
    },
    {
     "data": {
      "text/html": [
       "<pre style=\"white-space:pre;overflow-x:auto;line-height:normal;font-family:Menlo,'DejaVu Sans Mono',consolas,'Courier New',monospace\">تحسين وتطوير المواضيع لتواكب اهتمامات ومشاكل العصر الحالي\n",
       "        Topic is: <span style=\"color: #008080; text-decoration-color: #008080; font-weight: bold\">0</span>-محتوى ومعلومات المقرر\n",
       "</pre>\n"
      ],
      "text/plain": [
       "تحسين وتطوير المواضيع لتواكب اهتمامات ومشاكل العصر الحالي\n",
       "        Topic is: \u001b[1;36m0\u001b[0m-محتوى ومعلومات المقرر\n"
      ]
     },
     "metadata": {},
     "output_type": "display_data"
    },
    {
     "data": {
      "text/html": [
       "<pre style=\"white-space:pre;overflow-x:auto;line-height:normal;font-family:Menlo,'DejaVu Sans Mono',consolas,'Courier New',monospace\">ترتيب مواعيد المحاضرات لم يكن جيد تمام يرجى توزيع المحاضرات من بدايه الترم وليس في نصفه لتاخذ الماده حقها في التعلم\n",
       "بالذاتانه يعتمد على البحث والقراءه في حل المشاريع آخر أسبوعين للاختبار احتوى على <span style=\"font-weight: bold\">(</span>lab activity-<span style=\"color: #008080; text-decoration-color: #008080; font-weight: bold\">2</span> final \n",
       "projects-exam-lectures<span style=\"font-weight: bold\">)</span> حدث بذلكانه لاوقت للبحث أو للمذاكره جيدا ولم أستطع حضور الماحاضره الأخير لضيق الوقت بتسليم \n",
       "المشارع وهذا شي جدا محبط\n",
       "        Topic is: <span style=\"color: #008080; text-decoration-color: #008080; font-weight: bold\">6</span>-طريقة تدريس و تقديم المادة\n",
       "</pre>\n"
      ],
      "text/plain": [
       "ترتيب مواعيد المحاضرات لم يكن جيد تمام يرجى توزيع المحاضرات من بدايه الترم وليس في نصفه لتاخذ الماده حقها في التعلم\n",
       "بالذاتانه يعتمد على البحث والقراءه في حل المشاريع آخر أسبوعين للاختبار احتوى على \u001b[1m(\u001b[0mlab activity-\u001b[1;36m2\u001b[0m final \n",
       "projects-exam-lectures\u001b[1m)\u001b[0m حدث بذلكانه لاوقت للبحث أو للمذاكره جيدا ولم أستطع حضور الماحاضره الأخير لضيق الوقت بتسليم \n",
       "المشارع وهذا شي جدا محبط\n",
       "        Topic is: \u001b[1;36m6\u001b[0m-طريقة تدريس و تقديم المادة\n"
      ]
     },
     "metadata": {},
     "output_type": "display_data"
    },
    {
     "data": {
      "text/html": [
       "<pre style=\"white-space:pre;overflow-x:auto;line-height:normal;font-family:Menlo,'DejaVu Sans Mono',consolas,'Courier New',monospace\">تطوير المنهج الدراسي حيث ان المحتوى متكرر في أكثر من مادة\n",
       "        Topic is: <span style=\"color: #008080; text-decoration-color: #008080; font-weight: bold\">6</span>-طريقة تدريس و تقديم المادة\n",
       "</pre>\n"
      ],
      "text/plain": [
       "تطوير المنهج الدراسي حيث ان المحتوى متكرر في أكثر من مادة\n",
       "        Topic is: \u001b[1;36m6\u001b[0m-طريقة تدريس و تقديم المادة\n"
      ]
     },
     "metadata": {},
     "output_type": "display_data"
    },
    {
     "data": {
      "text/html": [
       "<pre style=\"white-space:pre;overflow-x:auto;line-height:normal;font-family:Menlo,'DejaVu Sans Mono',consolas,'Courier New',monospace\">تطوير المنهج من ناحية المعلومات غير حديثة ومكررة في المواد الأخرى.\n",
       "        Topic is: <span style=\"color: #008080; text-decoration-color: #008080; font-weight: bold\">0</span>-محتوى ومعلومات المقرر\n",
       "</pre>\n"
      ],
      "text/plain": [
       "تطوير المنهج من ناحية المعلومات غير حديثة ومكررة في المواد الأخرى.\n",
       "        Topic is: \u001b[1;36m0\u001b[0m-محتوى ومعلومات المقرر\n"
      ]
     },
     "metadata": {},
     "output_type": "display_data"
    },
    {
     "data": {
      "text/html": [
       "<pre style=\"white-space:pre;overflow-x:auto;line-height:normal;font-family:Menlo,'DejaVu Sans Mono',consolas,'Courier New',monospace\">تعاطي دكتورة المادة مع الطالبات عدم الالمام بالمادة عدم التجاوب مع أسئلة الطالبات بشكل احترافي تأجيل الجواب على بعض\n",
       "الأسئلة بحجةانه ليس الان لم نأتي على هذه النقطه بعد\n",
       "        Topic is: <span style=\"color: #008080; text-decoration-color: #008080; font-weight: bold\">6</span>-طريقة تدريس و تقديم المادة\n",
       "</pre>\n"
      ],
      "text/plain": [
       "تعاطي دكتورة المادة مع الطالبات عدم الالمام بالمادة عدم التجاوب مع أسئلة الطالبات بشكل احترافي تأجيل الجواب على بعض\n",
       "الأسئلة بحجةانه ليس الان لم نأتي على هذه النقطه بعد\n",
       "        Topic is: \u001b[1;36m6\u001b[0m-طريقة تدريس و تقديم المادة\n"
      ]
     },
     "metadata": {},
     "output_type": "display_data"
    },
    {
     "data": {
      "text/html": [
       "<pre style=\"white-space:pre;overflow-x:auto;line-height:normal;font-family:Menlo,'DejaVu Sans Mono',consolas,'Courier New',monospace\">تعديل الخطه الدراسيه\n",
       "        Topic is: <span style=\"color: #008080; text-decoration-color: #008080; font-weight: bold\">5</span>-المتطلبات و المهام و الدرجات\n",
       "</pre>\n"
      ],
      "text/plain": [
       "تعديل الخطه الدراسيه\n",
       "        Topic is: \u001b[1;36m5\u001b[0m-المتطلبات و المهام و الدرجات\n"
      ]
     },
     "metadata": {},
     "output_type": "display_data"
    },
    {
     "data": {
      "text/html": [
       "<pre style=\"white-space:pre;overflow-x:auto;line-height:normal;font-family:Menlo,'DejaVu Sans Mono',consolas,'Courier New',monospace\">تعديل الخطه الدراسيه فقد كانت برمضان محاضره واحده مما سبب ضغط بعد رمضان\n",
       "        Topic is: <span style=\"color: #008080; text-decoration-color: #008080; font-weight: bold\">6</span>-طريقة تدريس و تقديم المادة\n",
       "</pre>\n"
      ],
      "text/plain": [
       "تعديل الخطه الدراسيه فقد كانت برمضان محاضره واحده مما سبب ضغط بعد رمضان\n",
       "        Topic is: \u001b[1;36m6\u001b[0m-طريقة تدريس و تقديم المادة\n"
      ]
     },
     "metadata": {},
     "output_type": "display_data"
    },
    {
     "data": {
      "text/html": [
       "<pre style=\"white-space:pre;overflow-x:auto;line-height:normal;font-family:Menlo,'DejaVu Sans Mono',consolas,'Courier New',monospace\">تعديل متطلبات اجتياز المقرر وتوزيع الدرجات بشكل أفضل\n",
       "        Topic is: <span style=\"color: #008080; text-decoration-color: #008080; font-weight: bold\">6</span>-طريقة تدريس و تقديم المادة\n",
       "</pre>\n"
      ],
      "text/plain": [
       "تعديل متطلبات اجتياز المقرر وتوزيع الدرجات بشكل أفضل\n",
       "        Topic is: \u001b[1;36m6\u001b[0m-طريقة تدريس و تقديم المادة\n"
      ]
     },
     "metadata": {},
     "output_type": "display_data"
    },
    {
     "data": {
      "text/html": [
       "<pre style=\"white-space:pre;overflow-x:auto;line-height:normal;font-family:Menlo,'DejaVu Sans Mono',consolas,'Courier New',monospace\">تعليم الطلاب على طريقة ال nmap\n",
       "        Topic is: <span style=\"color: #008080; text-decoration-color: #008080; font-weight: bold\">6</span>-طريقة تدريس و تقديم المادة\n",
       "</pre>\n"
      ],
      "text/plain": [
       "تعليم الطلاب على طريقة ال nmap\n",
       "        Topic is: \u001b[1;36m6\u001b[0m-طريقة تدريس و تقديم المادة\n"
      ]
     },
     "metadata": {},
     "output_type": "display_data"
    },
    {
     "data": {
      "text/html": [
       "<pre style=\"white-space:pre;overflow-x:auto;line-height:normal;font-family:Menlo,'DejaVu Sans Mono',consolas,'Courier New',monospace\">تغطيته لجميع المتطلبات\n",
       "        Topic is: <span style=\"color: #008080; text-decoration-color: #008080; font-weight: bold\">9</span>-سوق العمل\n",
       "</pre>\n"
      ],
      "text/plain": [
       "تغطيته لجميع المتطلبات\n",
       "        Topic is: \u001b[1;36m9\u001b[0m-سوق العمل\n"
      ]
     },
     "metadata": {},
     "output_type": "display_data"
    },
    {
     "data": {
      "text/html": [
       "<pre style=\"white-space:pre;overflow-x:auto;line-height:normal;font-family:Menlo,'DejaVu Sans Mono',consolas,'Courier New',monospace\">تغيير أستاذ المقرر أو الالزام لتقديم محتوى من كتاب معين ولا يمانع من مشاركه الطلاب في شرح المنهج وتقديم بيبرات أو \n",
       "عرضها ولكن المقرر الحالي سيئ جدا وجميع الأسابيع عروض بيبرات من قبل الطلبه\n",
       "        Topic is: <span style=\"color: #008080; text-decoration-color: #008080; font-weight: bold\">6</span>-طريقة تدريس و تقديم المادة\n",
       "</pre>\n"
      ],
      "text/plain": [
       "تغيير أستاذ المقرر أو الالزام لتقديم محتوى من كتاب معين ولا يمانع من مشاركه الطلاب في شرح المنهج وتقديم بيبرات أو \n",
       "عرضها ولكن المقرر الحالي سيئ جدا وجميع الأسابيع عروض بيبرات من قبل الطلبه\n",
       "        Topic is: \u001b[1;36m6\u001b[0m-طريقة تدريس و تقديم المادة\n"
      ]
     },
     "metadata": {},
     "output_type": "display_data"
    },
    {
     "data": {
      "text/html": [
       "<pre style=\"white-space:pre;overflow-x:auto;line-height:normal;font-family:Menlo,'DejaVu Sans Mono',consolas,'Courier New',monospace\">تغيير التقييم الجماعي، ويجب أن يكون التقييم فردي في حال الفروقات بحسب المناقشة والإجابة على الأسئلة وقت العرض\n",
       "        Topic is: <span style=\"color: #008080; text-decoration-color: #008080; font-weight: bold\">8</span>-الوقت و الجدول\n",
       "</pre>\n"
      ],
      "text/plain": [
       "تغيير التقييم الجماعي، ويجب أن يكون التقييم فردي في حال الفروقات بحسب المناقشة والإجابة على الأسئلة وقت العرض\n",
       "        Topic is: \u001b[1;36m8\u001b[0m-الوقت و الجدول\n"
      ]
     },
     "metadata": {},
     "output_type": "display_data"
    },
    {
     "data": {
      "text/html": [
       "<pre style=\"white-space:pre;overflow-x:auto;line-height:normal;font-family:Menlo,'DejaVu Sans Mono',consolas,'Courier New',monospace\">تغيير الكتاب أو تبسيط السلايدات\n",
       "        Topic is: <span style=\"color: #008080; text-decoration-color: #008080; font-weight: bold\">10</span>-الجانب البحثي و الأوراق البحثية\n",
       "</pre>\n"
      ],
      "text/plain": [
       "تغيير الكتاب أو تبسيط السلايدات\n",
       "        Topic is: \u001b[1;36m10\u001b[0m-الجانب البحثي و الأوراق البحثية\n"
      ]
     },
     "metadata": {},
     "output_type": "display_data"
    },
    {
     "data": {
      "text/html": [
       "<pre style=\"white-space:pre;overflow-x:auto;line-height:normal;font-family:Menlo,'DejaVu Sans Mono',consolas,'Courier New',monospace\">تغيير الكتاب لكتاب الشبكات الأخضر فهو أوضح\n",
       "        Topic is: <span style=\"color: #008080; text-decoration-color: #008080; font-weight: bold\">10</span>-الجانب البحثي و الأوراق البحثية\n",
       "</pre>\n"
      ],
      "text/plain": [
       "تغيير الكتاب لكتاب الشبكات الأخضر فهو أوضح\n",
       "        Topic is: \u001b[1;36m10\u001b[0m-الجانب البحثي و الأوراق البحثية\n"
      ]
     },
     "metadata": {},
     "output_type": "display_data"
    },
    {
     "data": {
      "text/html": [
       "<pre style=\"white-space:pre;overflow-x:auto;line-height:normal;font-family:Menlo,'DejaVu Sans Mono',consolas,'Courier New',monospace\">تغيير فكرة المشروع توضيح المتطلبات وتوزيع الدرجات ببداية الفصل تنظيم جدول مناقشة الواجبات والالتزام فيه\n",
       "        Topic is: <span style=\"color: #008080; text-decoration-color: #008080; font-weight: bold\">5</span>-المتطلبات و المهام و الدرجات\n",
       "</pre>\n"
      ],
      "text/plain": [
       "تغيير فكرة المشروع توضيح المتطلبات وتوزيع الدرجات ببداية الفصل تنظيم جدول مناقشة الواجبات والالتزام فيه\n",
       "        Topic is: \u001b[1;36m5\u001b[0m-المتطلبات و المهام و الدرجات\n"
      ]
     },
     "metadata": {},
     "output_type": "display_data"
    },
    {
     "data": {
      "text/html": [
       "<pre style=\"white-space:pre;overflow-x:auto;line-height:normal;font-family:Menlo,'DejaVu Sans Mono',consolas,'Courier New',monospace\">تفاعل مدرس المادة وتمكنه من إيصال المعلومة، إضافة الى المخرجات الممتازة وسبق هذا البرنامج عن غيره من البرامج \n",
       "النظيرة والمنظمات بالتركيز على هذا المجال\n",
       "        Topic is: <span style=\"color: #008080; text-decoration-color: #008080; font-weight: bold\">1</span>-دكتور المقرر\n",
       "</pre>\n"
      ],
      "text/plain": [
       "تفاعل مدرس المادة وتمكنه من إيصال المعلومة، إضافة الى المخرجات الممتازة وسبق هذا البرنامج عن غيره من البرامج \n",
       "النظيرة والمنظمات بالتركيز على هذا المجال\n",
       "        Topic is: \u001b[1;36m1\u001b[0m-دكتور المقرر\n"
      ]
     },
     "metadata": {},
     "output_type": "display_data"
    },
    {
     "data": {
      "text/html": [
       "<pre style=\"white-space:pre;overflow-x:auto;line-height:normal;font-family:Menlo,'DejaVu Sans Mono',consolas,'Courier New',monospace\">تقليل الواجبات لان درجاتها قليلة بالرغم من ان حلها ياخذ وقت طويل\n",
       "        Topic is: <span style=\"color: #008080; text-decoration-color: #008080; font-weight: bold\">8</span>-الوقت و الجدول\n",
       "</pre>\n"
      ],
      "text/plain": [
       "تقليل الواجبات لان درجاتها قليلة بالرغم من ان حلها ياخذ وقت طويل\n",
       "        Topic is: \u001b[1;36m8\u001b[0m-الوقت و الجدول\n"
      ]
     },
     "metadata": {},
     "output_type": "display_data"
    },
    {
     "data": {
      "text/html": [
       "<pre style=\"white-space:pre;overflow-x:auto;line-height:normal;font-family:Menlo,'DejaVu Sans Mono',consolas,'Courier New',monospace\">تلخيص السلايدات لمعلومات أقل وأشمل\n",
       "        Topic is: <span style=\"color: #008080; text-decoration-color: #008080; font-weight: bold\">0</span>-محتوى ومعلومات المقرر\n",
       "</pre>\n"
      ],
      "text/plain": [
       "تلخيص السلايدات لمعلومات أقل وأشمل\n",
       "        Topic is: \u001b[1;36m0\u001b[0m-محتوى ومعلومات المقرر\n"
      ]
     },
     "metadata": {},
     "output_type": "display_data"
    },
    {
     "data": {
      "text/html": [
       "<pre style=\"white-space:pre;overflow-x:auto;line-height:normal;font-family:Menlo,'DejaVu Sans Mono',consolas,'Courier New',monospace\">تم تدريس تعلم الالة وهو موضوع مهم جدا لاغلب طلبة الماجستير علوم الحاسب، لان أغلب أفكار الرسالة يكون فيها جزء من \n",
       "خوارزميات تعلم الالة\n",
       "        Topic is: <span style=\"color: #008080; text-decoration-color: #008080; font-weight: bold\">6</span>-طريقة تدريس و تقديم المادة\n",
       "</pre>\n"
      ],
      "text/plain": [
       "تم تدريس تعلم الالة وهو موضوع مهم جدا لاغلب طلبة الماجستير علوم الحاسب، لان أغلب أفكار الرسالة يكون فيها جزء من \n",
       "خوارزميات تعلم الالة\n",
       "        Topic is: \u001b[1;36m6\u001b[0m-طريقة تدريس و تقديم المادة\n"
      ]
     },
     "metadata": {},
     "output_type": "display_data"
    },
    {
     "data": {
      "text/html": [
       "<pre style=\"white-space:pre;overflow-x:auto;line-height:normal;font-family:Menlo,'DejaVu Sans Mono',consolas,'Courier New',monospace\">تم تقديم جميع أنواع وتصنيفات الذكاء الاصطناعي\n",
       "        Topic is: <span style=\"color: #008080; text-decoration-color: #008080; font-weight: bold\">10</span>-الجانب البحثي و الأوراق البحثية\n",
       "</pre>\n"
      ],
      "text/plain": [
       "تم تقديم جميع أنواع وتصنيفات الذكاء الاصطناعي\n",
       "        Topic is: \u001b[1;36m10\u001b[0m-الجانب البحثي و الأوراق البحثية\n"
      ]
     },
     "metadata": {},
     "output_type": "display_data"
    },
    {
     "data": {
      "text/html": [
       "<pre style=\"white-space:pre;overflow-x:auto;line-height:normal;font-family:Menlo,'DejaVu Sans Mono',consolas,'Courier New',monospace\">توضيح تفاصيل أكثر بخصوص مناقشة البحث\n",
       "        Topic is: <span style=\"color: #008080; text-decoration-color: #008080; font-weight: bold\">0</span>-محتوى ومعلومات المقرر\n",
       "</pre>\n"
      ],
      "text/plain": [
       "توضيح تفاصيل أكثر بخصوص مناقشة البحث\n",
       "        Topic is: \u001b[1;36m0\u001b[0m-محتوى ومعلومات المقرر\n"
      ]
     },
     "metadata": {},
     "output_type": "display_data"
    },
    {
     "data": {
      "text/html": [
       "<pre style=\"white-space:pre;overflow-x:auto;line-height:normal;font-family:Menlo,'DejaVu Sans Mono',consolas,'Courier New',monospace\">توفير بيئة تدريب إفتراضية إعتمادا على أحد حلول معامل الحوسبة السحابية لتوفير الوقت المستغرق في تجهيز الأدوات \n",
       "والإعدادات المطلوبة لتحضير التطبيق العملي\n",
       "        Topic is: <span style=\"color: #008080; text-decoration-color: #008080; font-weight: bold\">3</span>-موازنة الجزء العملي مع الجزء النظري\n",
       "</pre>\n"
      ],
      "text/plain": [
       "توفير بيئة تدريب إفتراضية إعتمادا على أحد حلول معامل الحوسبة السحابية لتوفير الوقت المستغرق في تجهيز الأدوات \n",
       "والإعدادات المطلوبة لتحضير التطبيق العملي\n",
       "        Topic is: \u001b[1;36m3\u001b[0m-موازنة الجزء العملي مع الجزء النظري\n"
      ]
     },
     "metadata": {},
     "output_type": "display_data"
    },
    {
     "data": {
      "text/html": [
       "<pre style=\"white-space:pre;overflow-x:auto;line-height:normal;font-family:Menlo,'DejaVu Sans Mono',consolas,'Courier New',monospace\">توفير منهج يتناسب مع مهام الإدارة لتخصص الأمن السيبراني أمثلة على المنهج من شهادات احترافية: <span style=\"font-weight: bold\">(</span>cism <span style=\"font-weight: bold\">(</span>certified \n",
       "information security manager-<span style=\"font-weight: bold\">)</span>\n",
       "        Topic is: <span style=\"color: #008080; text-decoration-color: #008080; font-weight: bold\">0</span>-محتوى ومعلومات المقرر\n",
       "</pre>\n"
      ],
      "text/plain": [
       "توفير منهج يتناسب مع مهام الإدارة لتخصص الأمن السيبراني أمثلة على المنهج من شهادات احترافية: \u001b[1m(\u001b[0mcism \u001b[1m(\u001b[0mcertified \n",
       "information security manager-\u001b[1m)\u001b[0m\n",
       "        Topic is: \u001b[1;36m0\u001b[0m-محتوى ومعلومات المقرر\n"
      ]
     },
     "metadata": {},
     "output_type": "display_data"
    },
    {
     "data": {
      "text/html": [
       "<pre style=\"white-space:pre;overflow-x:auto;line-height:normal;font-family:Menlo,'DejaVu Sans Mono',consolas,'Courier New',monospace\">خطة واضحة مرجع يتم الدراسة منه طريقة تقييم عادلة الشرح من كتاب أو سلايدات معدة من قبل الدكتور و ليس الشرح من \n",
       "سلايدات تم اعدادها من قبل طالبات في السنوات الماضية\n",
       "        Topic is: <span style=\"color: #008080; text-decoration-color: #008080; font-weight: bold\">1</span>-دكتور المقرر\n",
       "</pre>\n"
      ],
      "text/plain": [
       "خطة واضحة مرجع يتم الدراسة منه طريقة تقييم عادلة الشرح من كتاب أو سلايدات معدة من قبل الدكتور و ليس الشرح من \n",
       "سلايدات تم اعدادها من قبل طالبات في السنوات الماضية\n",
       "        Topic is: \u001b[1;36m1\u001b[0m-دكتور المقرر\n"
      ]
     },
     "metadata": {},
     "output_type": "display_data"
    },
    {
     "data": {
      "text/html": [
       "<pre style=\"white-space:pre;overflow-x:auto;line-height:normal;font-family:Menlo,'DejaVu Sans Mono',consolas,'Courier New',monospace\">د. اعتماد من الدكاتره المحترمين لكن للاسف بنفس الوقت من الدكاتره التي لا أرغب في أخذ اي مقرر معها نهائي لانها مع \n",
       "احترامي لها عشوائية بالتدريس لاتلتزم بالخطة فهي دايم تضغطنا في نهاية الفصل بجميع التكاليف والواجبات مع \n",
       "العلمانناكننا نطلب منها إرسال الواجبات بعد نهاية كل فصل حتى يكون لدينا متسع من الوقت لكن بدون جدوى كمااننا لانعرف \n",
       "درجاتنا الا في نهاية الفصل توزيعنا في البيبرات بمجموعات قد يتضمن طالبات لايعملون عند عرض بعض المراجع الخارجيه عليها\n",
       "كانت ترفض وتقول ان بيني وبينكم الكتاب فقط عند حل الواجبات معها كانت تستخدم المانيوال ولما نستفسر عن طريقة حل بعض \n",
       "الأسئلة كانت لاتعرف أتمنى عدم تدريسها لاي مقرر شاكره لكم\n",
       "        Topic is: <span style=\"color: #008080; text-decoration-color: #008080; font-weight: bold\">6</span>-طريقة تدريس و تقديم المادة\n",
       "</pre>\n"
      ],
      "text/plain": [
       "د. اعتماد من الدكاتره المحترمين لكن للاسف بنفس الوقت من الدكاتره التي لا أرغب في أخذ اي مقرر معها نهائي لانها مع \n",
       "احترامي لها عشوائية بالتدريس لاتلتزم بالخطة فهي دايم تضغطنا في نهاية الفصل بجميع التكاليف والواجبات مع \n",
       "العلمانناكننا نطلب منها إرسال الواجبات بعد نهاية كل فصل حتى يكون لدينا متسع من الوقت لكن بدون جدوى كمااننا لانعرف \n",
       "درجاتنا الا في نهاية الفصل توزيعنا في البيبرات بمجموعات قد يتضمن طالبات لايعملون عند عرض بعض المراجع الخارجيه عليها\n",
       "كانت ترفض وتقول ان بيني وبينكم الكتاب فقط عند حل الواجبات معها كانت تستخدم المانيوال ولما نستفسر عن طريقة حل بعض \n",
       "الأسئلة كانت لاتعرف أتمنى عدم تدريسها لاي مقرر شاكره لكم\n",
       "        Topic is: \u001b[1;36m6\u001b[0m-طريقة تدريس و تقديم المادة\n"
      ]
     },
     "metadata": {},
     "output_type": "display_data"
    },
    {
     "data": {
      "text/html": [
       "<pre style=\"white-space:pre;overflow-x:auto;line-height:normal;font-family:Menlo,'DejaVu Sans Mono',consolas,'Courier New',monospace\">د. غادة للاسف ليست متمكنه من المادة المقرر عباره عن كورس جاهز من الإنترنت حتى السلايدات منسوخه من الكورس تفاجئنا \n",
       "بإلغائها لكثير من المحاضرات دون ان تبلغنا حيثانه يتم الحضور وبعد مضي أكثر من ربع أو نص ساعه من المحاضره نقوم \n",
       "بالمغادره لعدم حضورها دون ان تبلغنا لم تكمل الكورس لكثرة غيابها ووعدتنا باعطائنا محاضرات اضافيه لكن للاسف لم تفي \n",
       "بوعدها عدم ردها نهائي لاستفسارتنا والايميلات عدم تواجدها بالساعات المكتبيه تحججها الدائم بأنها دائم مشغوله عدم \n",
       "فهمها للمقرر دائمة التذمر بالمحاضرات والتأنيب ضغطها لنا بالواجبات في نهاية الفصل مع الاختبار النهائي حيثانه لم يكن \n",
       "لنا اي درجه خلال الفصل وقامت بعمل جميع الكويزات والاختبار النهائي بنهايه الفصل اختباراتها منسوخه من كورس بالانترنت \n",
       "وكان فيها كثير من الأخطاء ع سبيل المثال بالسؤال الأول مكتوب بناء ع نتائج السؤال السابق وعند التواصل معها لاتجيب من \n",
       "أكثر الكورسات التي احبطتني لعدم الاستفاده من الكورس وللأسف هذا وضع الدكتوره غاده في كورس الماشين ليرنينج\n",
       "        Topic is: <span style=\"color: #008080; text-decoration-color: #008080; font-weight: bold\">6</span>-طريقة تدريس و تقديم المادة\n",
       "</pre>\n"
      ],
      "text/plain": [
       "د. غادة للاسف ليست متمكنه من المادة المقرر عباره عن كورس جاهز من الإنترنت حتى السلايدات منسوخه من الكورس تفاجئنا \n",
       "بإلغائها لكثير من المحاضرات دون ان تبلغنا حيثانه يتم الحضور وبعد مضي أكثر من ربع أو نص ساعه من المحاضره نقوم \n",
       "بالمغادره لعدم حضورها دون ان تبلغنا لم تكمل الكورس لكثرة غيابها ووعدتنا باعطائنا محاضرات اضافيه لكن للاسف لم تفي \n",
       "بوعدها عدم ردها نهائي لاستفسارتنا والايميلات عدم تواجدها بالساعات المكتبيه تحججها الدائم بأنها دائم مشغوله عدم \n",
       "فهمها للمقرر دائمة التذمر بالمحاضرات والتأنيب ضغطها لنا بالواجبات في نهاية الفصل مع الاختبار النهائي حيثانه لم يكن \n",
       "لنا اي درجه خلال الفصل وقامت بعمل جميع الكويزات والاختبار النهائي بنهايه الفصل اختباراتها منسوخه من كورس بالانترنت \n",
       "وكان فيها كثير من الأخطاء ع سبيل المثال بالسؤال الأول مكتوب بناء ع نتائج السؤال السابق وعند التواصل معها لاتجيب من \n",
       "أكثر الكورسات التي احبطتني لعدم الاستفاده من الكورس وللأسف هذا وضع الدكتوره غاده في كورس الماشين ليرنينج\n",
       "        Topic is: \u001b[1;36m6\u001b[0m-طريقة تدريس و تقديم المادة\n"
      ]
     },
     "metadata": {},
     "output_type": "display_data"
    },
    {
     "data": {
      "text/html": [
       "<pre style=\"white-space:pre;overflow-x:auto;line-height:normal;font-family:Menlo,'DejaVu Sans Mono',consolas,'Courier New',monospace\">درجات المادة فقط في الاختبارات ولا يوجد أي أعمال أخرى.\n",
       "        Topic is: <span style=\"color: #008080; text-decoration-color: #008080; font-weight: bold\">6</span>-طريقة تدريس و تقديم المادة\n",
       "</pre>\n"
      ],
      "text/plain": [
       "درجات المادة فقط في الاختبارات ولا يوجد أي أعمال أخرى.\n",
       "        Topic is: \u001b[1;36m6\u001b[0m-طريقة تدريس و تقديم المادة\n"
      ]
     },
     "metadata": {},
     "output_type": "display_data"
    },
    {
     "data": {
      "text/html": [
       "<pre style=\"white-space:pre;overflow-x:auto;line-height:normal;font-family:Menlo,'DejaVu Sans Mono',consolas,'Courier New',monospace\">درجتي في المقرر كانت غير عادلة\n",
       "        Topic is: <span style=\"color: #008080; text-decoration-color: #008080; font-weight: bold\">6</span>-طريقة تدريس و تقديم المادة\n",
       "</pre>\n"
      ],
      "text/plain": [
       "درجتي في المقرر كانت غير عادلة\n",
       "        Topic is: \u001b[1;36m6\u001b[0m-طريقة تدريس و تقديم المادة\n"
      ]
     },
     "metadata": {},
     "output_type": "display_data"
    },
    {
     "data": {
      "text/html": [
       "<pre style=\"white-space:pre;overflow-x:auto;line-height:normal;font-family:Menlo,'DejaVu Sans Mono',consolas,'Courier New',monospace\">دكتور المادة وطريقة وضعه لأسئلة الاختبارات حيث أنها بعيدة كل البعد عن ماتم شرحه في المحاضرات\n",
       "        Topic is: <span style=\"color: #008080; text-decoration-color: #008080; font-weight: bold\">1</span>-دكتور المقرر\n",
       "</pre>\n"
      ],
      "text/plain": [
       "دكتور المادة وطريقة وضعه لأسئلة الاختبارات حيث أنها بعيدة كل البعد عن ماتم شرحه في المحاضرات\n",
       "        Topic is: \u001b[1;36m1\u001b[0m-دكتور المقرر\n"
      ]
     },
     "metadata": {},
     "output_type": "display_data"
    },
    {
     "data": {
      "text/html": [
       "<pre style=\"white-space:pre;overflow-x:auto;line-height:normal;font-family:Menlo,'DejaVu Sans Mono',consolas,'Courier New',monospace\">دكتورة المادة تشرح المادة بكل ايجاز وتمكن ماشالله جميع المحاضرات المسجلة عدت سماعها أكثر من مره ولصعوبة فهم \n",
       "السلايدات ولكن شرح الدكتورة جدا مفهوم ورائع المشروع النهائي مكننا من مراجعة جميع المواد السابقة وربطها ببعض فكل \n",
       "الشكر عليه\n",
       "        Topic is: <span style=\"color: #008080; text-decoration-color: #008080; font-weight: bold\">1</span>-دكتور المقرر\n",
       "</pre>\n"
      ],
      "text/plain": [
       "دكتورة المادة تشرح المادة بكل ايجاز وتمكن ماشالله جميع المحاضرات المسجلة عدت سماعها أكثر من مره ولصعوبة فهم \n",
       "السلايدات ولكن شرح الدكتورة جدا مفهوم ورائع المشروع النهائي مكننا من مراجعة جميع المواد السابقة وربطها ببعض فكل \n",
       "الشكر عليه\n",
       "        Topic is: \u001b[1;36m1\u001b[0m-دكتور المقرر\n"
      ]
     },
     "metadata": {},
     "output_type": "display_data"
    },
    {
     "data": {
      "text/html": [
       "<pre style=\"white-space:pre;overflow-x:auto;line-height:normal;font-family:Menlo,'DejaVu Sans Mono',consolas,'Courier New',monospace\">دكتورة المادة لم تعطي المادة حقها حيث ان أكثر من محاضرة تم تأجيلها أنا اعتبر المادة اجتهاد شخصي ولم استفد اي شي من \n",
       "المحاضرات غير ذلك تم طلبها شرح المشروع النهائي فور استلامه ولكن تم شرحه في آخر محاضرة فلم يكون يكون يكن لدينا الوقت\n",
       "الكافي لعمله الميدتيرم تم تسلميه لنا في وقت قصير جدا ومتداخل مع المواد الأخرى الواجبات تم إعطاء <span style=\"color: #008080; text-decoration-color: #008080; font-weight: bold\">3</span> منها في نفس \n",
       "المحاضرة بدون شرح فقط ضيفو أجهزة في الباكت تريسر وعمل الاعدادات\n",
       "        Topic is: <span style=\"color: #008080; text-decoration-color: #008080; font-weight: bold\">1</span>-دكتور المقرر\n",
       "</pre>\n"
      ],
      "text/plain": [
       "دكتورة المادة لم تعطي المادة حقها حيث ان أكثر من محاضرة تم تأجيلها أنا اعتبر المادة اجتهاد شخصي ولم استفد اي شي من \n",
       "المحاضرات غير ذلك تم طلبها شرح المشروع النهائي فور استلامه ولكن تم شرحه في آخر محاضرة فلم يكون يكون يكن لدينا الوقت\n",
       "الكافي لعمله الميدتيرم تم تسلميه لنا في وقت قصير جدا ومتداخل مع المواد الأخرى الواجبات تم إعطاء \u001b[1;36m3\u001b[0m منها في نفس \n",
       "المحاضرة بدون شرح فقط ضيفو أجهزة في الباكت تريسر وعمل الاعدادات\n",
       "        Topic is: \u001b[1;36m1\u001b[0m-دكتور المقرر\n"
      ]
     },
     "metadata": {},
     "output_type": "display_data"
    },
    {
     "data": {
      "text/html": [
       "<pre style=\"white-space:pre;overflow-x:auto;line-height:normal;font-family:Menlo,'DejaVu Sans Mono',consolas,'Courier New',monospace\">دكتورة المقرر غير متعاونه أبدا في الرد على الطالبات و هناك طالبات انظلموا معها بسبب هالنقطه لانه كان يوجد العدد من \n",
       "الاسئله الخاطئة في الكويزات ولم يتم التجاوب معنا لتصحيحها مما اثر على نزول الدرجات بشكل غير عادل\n",
       "        Topic is: <span style=\"color: #008080; text-decoration-color: #008080; font-weight: bold\">6</span>-طريقة تدريس و تقديم المادة\n",
       "</pre>\n"
      ],
      "text/plain": [
       "دكتورة المقرر غير متعاونه أبدا في الرد على الطالبات و هناك طالبات انظلموا معها بسبب هالنقطه لانه كان يوجد العدد من \n",
       "الاسئله الخاطئة في الكويزات ولم يتم التجاوب معنا لتصحيحها مما اثر على نزول الدرجات بشكل غير عادل\n",
       "        Topic is: \u001b[1;36m6\u001b[0m-طريقة تدريس و تقديم المادة\n"
      ]
     },
     "metadata": {},
     "output_type": "display_data"
    },
    {
     "data": {
      "text/html": [
       "<pre style=\"white-space:pre;overflow-x:auto;line-height:normal;font-family:Menlo,'DejaVu Sans Mono',consolas,'Courier New',monospace\">دكتورة شاهندة جزاها الله عنا خير الجزاء على ما بذلته من وقتها الغالي، وما أسدته من نصح وتوجيه وإرشاد، وعلى صبرها \n",
       "علينا طالباتها وتشجيعها ودعمها المستمر لنا للسعي في التميز برحلتنا الدراسية في مرحلة الدكتوراة، وإنه لشرف علمي أن \n",
       "أكون إحدى طالباتها. أسأل الله العلي العظيم أن يجعل ذلك في ميزان حسناتها ويرفع به درجاتها وأن يجزل لها عظيم الأجر \n",
       "والمثوبة.\n",
       "        Topic is: <span style=\"color: #008080; text-decoration-color: #008080; font-weight: bold\">1</span>-دكتور المقرر\n",
       "</pre>\n"
      ],
      "text/plain": [
       "دكتورة شاهندة جزاها الله عنا خير الجزاء على ما بذلته من وقتها الغالي، وما أسدته من نصح وتوجيه وإرشاد، وعلى صبرها \n",
       "علينا طالباتها وتشجيعها ودعمها المستمر لنا للسعي في التميز برحلتنا الدراسية في مرحلة الدكتوراة، وإنه لشرف علمي أن \n",
       "أكون إحدى طالباتها. أسأل الله العلي العظيم أن يجعل ذلك في ميزان حسناتها ويرفع به درجاتها وأن يجزل لها عظيم الأجر \n",
       "والمثوبة.\n",
       "        Topic is: \u001b[1;36m1\u001b[0m-دكتور المقرر\n"
      ]
     },
     "metadata": {},
     "output_type": "display_data"
    },
    {
     "data": {
      "text/html": [
       "<pre style=\"white-space:pre;overflow-x:auto;line-height:normal;font-family:Menlo,'DejaVu Sans Mono',consolas,'Courier New',monospace\">زياده العملي تبدأ أول محاضره للماده في أول أسبوع للترم وتلوها الثانيه من غير انقطاع الا في حالات الونغ ويكند ا\n",
       "        Topic is: <span style=\"color: #008080; text-decoration-color: #008080; font-weight: bold\">-1</span>-Outlier\n",
       "</pre>\n"
      ],
      "text/plain": [
       "زياده العملي تبدأ أول محاضره للماده في أول أسبوع للترم وتلوها الثانيه من غير انقطاع الا في حالات الونغ ويكند ا\n",
       "        Topic is: \u001b[1;36m-1\u001b[0m-Outlier\n"
      ]
     },
     "metadata": {},
     "output_type": "display_data"
    },
    {
     "data": {
      "text/html": [
       "<pre style=\"white-space:pre;overflow-x:auto;line-height:normal;font-family:Menlo,'DejaVu Sans Mono',consolas,'Courier New',monospace\">شاكرة لد. سهير الشهري تعليمها لنا طريقة مراجعة الأوراق العلمية، استفدت من تعليمها لنا في كل مراجعاتي في كل الأوراق.\n",
       "المنهج جميل، وطريقة تقسيم الدرجات جيدة وأيضا العمل على تقديم مراجعات لأوراق مختلفة ممتاز ويساعد طالب الدراسات \n",
       "العليا على كسب مهارة مراجعة الأوراق العلمية، وأيضا الأوراق المختلفة التي يقرأها الطالب ممتازة وتكسبه اطلاع في \n",
       "المجال.\n",
       "        Topic is: <span style=\"color: #008080; text-decoration-color: #008080; font-weight: bold\">1</span>-دكتور المقرر\n",
       "</pre>\n"
      ],
      "text/plain": [
       "شاكرة لد. سهير الشهري تعليمها لنا طريقة مراجعة الأوراق العلمية، استفدت من تعليمها لنا في كل مراجعاتي في كل الأوراق.\n",
       "المنهج جميل، وطريقة تقسيم الدرجات جيدة وأيضا العمل على تقديم مراجعات لأوراق مختلفة ممتاز ويساعد طالب الدراسات \n",
       "العليا على كسب مهارة مراجعة الأوراق العلمية، وأيضا الأوراق المختلفة التي يقرأها الطالب ممتازة وتكسبه اطلاع في \n",
       "المجال.\n",
       "        Topic is: \u001b[1;36m1\u001b[0m-دكتور المقرر\n"
      ]
     },
     "metadata": {},
     "output_type": "display_data"
    },
    {
     "data": {
      "text/html": [
       "<pre style=\"white-space:pre;overflow-x:auto;line-height:normal;font-family:Menlo,'DejaVu Sans Mono',consolas,'Courier New',monospace\">شامل للحوكمة وكيفية تنفيذها\n",
       "        Topic is: <span style=\"color: #008080; text-decoration-color: #008080; font-weight: bold\">5</span>-المتطلبات و المهام و الدرجات\n",
       "</pre>\n"
      ],
      "text/plain": [
       "شامل للحوكمة وكيفية تنفيذها\n",
       "        Topic is: \u001b[1;36m5\u001b[0m-المتطلبات و المهام و الدرجات\n"
      ]
     },
     "metadata": {},
     "output_type": "display_data"
    },
    {
     "data": {
      "text/html": [
       "<pre style=\"white-space:pre;overflow-x:auto;line-height:normal;font-family:Menlo,'DejaVu Sans Mono',consolas,'Courier New',monospace\">شرح وطريقة أسلوب دكتور هذه المادة هو أكثر ما حببني فيها فله مني جزيل الشكر والتقدير والاحترام واستفدت الكثير من هذه\n",
       "المادة في مجال عملي\n",
       "        Topic is: <span style=\"color: #008080; text-decoration-color: #008080; font-weight: bold\">1</span>-دكتور المقرر\n",
       "</pre>\n"
      ],
      "text/plain": [
       "شرح وطريقة أسلوب دكتور هذه المادة هو أكثر ما حببني فيها فله مني جزيل الشكر والتقدير والاحترام واستفدت الكثير من هذه\n",
       "المادة في مجال عملي\n",
       "        Topic is: \u001b[1;36m1\u001b[0m-دكتور المقرر\n"
      ]
     },
     "metadata": {},
     "output_type": "display_data"
    },
    {
     "data": {
      "text/html": [
       "<pre style=\"white-space:pre;overflow-x:auto;line-height:normal;font-family:Menlo,'DejaVu Sans Mono',consolas,'Courier New',monospace\">ضعف المهارات البرمجية بالنسبة لي كان عائق\n",
       "        Topic is: <span style=\"color: #008080; text-decoration-color: #008080; font-weight: bold\">0</span>-محتوى ومعلومات المقرر\n",
       "</pre>\n"
      ],
      "text/plain": [
       "ضعف المهارات البرمجية بالنسبة لي كان عائق\n",
       "        Topic is: \u001b[1;36m0\u001b[0m-محتوى ومعلومات المقرر\n"
      ]
     },
     "metadata": {},
     "output_type": "display_data"
    },
    {
     "data": {
      "text/html": [
       "<pre style=\"white-space:pre;overflow-x:auto;line-height:normal;font-family:Menlo,'DejaVu Sans Mono',consolas,'Courier New',monospace\">طريقة التدريس\n",
       "        Topic is: <span style=\"color: #008080; text-decoration-color: #008080; font-weight: bold\">6</span>-طريقة تدريس و تقديم المادة\n",
       "</pre>\n"
      ],
      "text/plain": [
       "طريقة التدريس\n",
       "        Topic is: \u001b[1;36m6\u001b[0m-طريقة تدريس و تقديم المادة\n"
      ]
     },
     "metadata": {},
     "output_type": "display_data"
    },
    {
     "data": {
      "text/html": [
       "<pre style=\"white-space:pre;overflow-x:auto;line-height:normal;font-family:Menlo,'DejaVu Sans Mono',consolas,'Courier New',monospace\">طريقة التقييم مثل طلب واجبات بشكل مستمر على مدار الترم مما يزيد المعرفة أكثر من الاختبارات\n",
       "        Topic is: <span style=\"color: #008080; text-decoration-color: #008080; font-weight: bold\">6</span>-طريقة تدريس و تقديم المادة\n",
       "</pre>\n"
      ],
      "text/plain": [
       "طريقة التقييم مثل طلب واجبات بشكل مستمر على مدار الترم مما يزيد المعرفة أكثر من الاختبارات\n",
       "        Topic is: \u001b[1;36m6\u001b[0m-طريقة تدريس و تقديم المادة\n"
      ]
     },
     "metadata": {},
     "output_type": "display_data"
    },
    {
     "data": {
      "text/html": [
       "<pre style=\"white-space:pre;overflow-x:auto;line-height:normal;font-family:Menlo,'DejaVu Sans Mono',consolas,'Courier New',monospace\">طريقة تدريس دكتورة فاطمة اتسمت بالعملية حيث كان هناك تطبيق رائع على أوراق بحثية مختارة من قبلها بحيث نقوم بشرحها \n",
       "بشكل مسهب، فكرة جميلة ورائعة وطورتني كثيرا جزاها الله خير.\n",
       "        Topic is: <span style=\"color: #008080; text-decoration-color: #008080; font-weight: bold\">1</span>-دكتور المقرر\n",
       "</pre>\n"
      ],
      "text/plain": [
       "طريقة تدريس دكتورة فاطمة اتسمت بالعملية حيث كان هناك تطبيق رائع على أوراق بحثية مختارة من قبلها بحيث نقوم بشرحها \n",
       "بشكل مسهب، فكرة جميلة ورائعة وطورتني كثيرا جزاها الله خير.\n",
       "        Topic is: \u001b[1;36m1\u001b[0m-دكتور المقرر\n"
      ]
     },
     "metadata": {},
     "output_type": "display_data"
    },
    {
     "data": {
      "text/html": [
       "<pre style=\"white-space:pre;overflow-x:auto;line-height:normal;font-family:Menlo,'DejaVu Sans Mono',consolas,'Courier New',monospace\">طريقة ترتيب المحاضره في البدايه كانت واضحه وخطوه بخطوه ولكن في الأخير تم الاستعجال بالخروج ببحث كامل بدون التطرق \n",
       "على كيفية كتابة البحث بشكل أوسع\n",
       "        Topic is: <span style=\"color: #008080; text-decoration-color: #008080; font-weight: bold\">-1</span>-Outlier\n",
       "</pre>\n"
      ],
      "text/plain": [
       "طريقة ترتيب المحاضره في البدايه كانت واضحه وخطوه بخطوه ولكن في الأخير تم الاستعجال بالخروج ببحث كامل بدون التطرق \n",
       "على كيفية كتابة البحث بشكل أوسع\n",
       "        Topic is: \u001b[1;36m-1\u001b[0m-Outlier\n"
      ]
     },
     "metadata": {},
     "output_type": "display_data"
    },
    {
     "data": {
      "text/html": [
       "<pre style=\"white-space:pre;overflow-x:auto;line-height:normal;font-family:Menlo,'DejaVu Sans Mono',consolas,'Courier New',monospace\">طريقه التدريس الغير حديثه\n",
       "        Topic is: <span style=\"color: #008080; text-decoration-color: #008080; font-weight: bold\">6</span>-طريقة تدريس و تقديم المادة\n",
       "</pre>\n"
      ],
      "text/plain": [
       "طريقه التدريس الغير حديثه\n",
       "        Topic is: \u001b[1;36m6\u001b[0m-طريقة تدريس و تقديم المادة\n"
      ]
     },
     "metadata": {},
     "output_type": "display_data"
    },
    {
     "data": {
      "text/html": [
       "<pre style=\"white-space:pre;overflow-x:auto;line-height:normal;font-family:Menlo,'DejaVu Sans Mono',consolas,'Courier New',monospace\">طريقه التدريس غير جيده\n",
       "        Topic is: <span style=\"color: #008080; text-decoration-color: #008080; font-weight: bold\">6</span>-طريقة تدريس و تقديم المادة\n",
       "</pre>\n"
      ],
      "text/plain": [
       "طريقه التدريس غير جيده\n",
       "        Topic is: \u001b[1;36m6\u001b[0m-طريقة تدريس و تقديم المادة\n"
      ]
     },
     "metadata": {},
     "output_type": "display_data"
    },
    {
     "data": {
      "text/html": [
       "<pre style=\"white-space:pre;overflow-x:auto;line-height:normal;font-family:Menlo,'DejaVu Sans Mono',consolas,'Courier New',monospace\">عدم إلمام الأستاذ بالمقرر مما صعب توصيل المعلومة يطلب مهام للنشر في وقت ضيق في ظل عدم توفير مصادر عدم التواصل الجيد\n",
       "والرد على الاستفسارات المماطلة برصد الدرجات وعدم الانصاف\n",
       "        Topic is: <span style=\"color: #008080; text-decoration-color: #008080; font-weight: bold\">6</span>-طريقة تدريس و تقديم المادة\n",
       "</pre>\n"
      ],
      "text/plain": [
       "عدم إلمام الأستاذ بالمقرر مما صعب توصيل المعلومة يطلب مهام للنشر في وقت ضيق في ظل عدم توفير مصادر عدم التواصل الجيد\n",
       "والرد على الاستفسارات المماطلة برصد الدرجات وعدم الانصاف\n",
       "        Topic is: \u001b[1;36m6\u001b[0m-طريقة تدريس و تقديم المادة\n"
      ]
     },
     "metadata": {},
     "output_type": "display_data"
    },
    {
     "data": {
      "text/html": [
       "<pre style=\"white-space:pre;overflow-x:auto;line-height:normal;font-family:Menlo,'DejaVu Sans Mono',consolas,'Courier New',monospace\">عدم إمكانية تعديل المشاركات في ساحة النقاش بعد التحديث الجديد لموقع ساحة النقاش وفي حال الحاجة إلى ذلك فإنه يتم حذف\n",
       "المشاركة ثم إضافة المشاركة التي تم تعديلها أيضا عدم ذكر جميع الطلبة للمصادر التي حصلوا على بعض معلومات عرضهم منها\n",
       "        Topic is: <span style=\"color: #008080; text-decoration-color: #008080; font-weight: bold\">-1</span>-Outlier\n",
       "</pre>\n"
      ],
      "text/plain": [
       "عدم إمكانية تعديل المشاركات في ساحة النقاش بعد التحديث الجديد لموقع ساحة النقاش وفي حال الحاجة إلى ذلك فإنه يتم حذف\n",
       "المشاركة ثم إضافة المشاركة التي تم تعديلها أيضا عدم ذكر جميع الطلبة للمصادر التي حصلوا على بعض معلومات عرضهم منها\n",
       "        Topic is: \u001b[1;36m-1\u001b[0m-Outlier\n"
      ]
     },
     "metadata": {},
     "output_type": "display_data"
    },
    {
     "data": {
      "text/html": [
       "<pre style=\"white-space:pre;overflow-x:auto;line-height:normal;font-family:Menlo,'DejaVu Sans Mono',consolas,'Courier New',monospace\">عدم الوضوح المسبق والوضع الدراسي عن بعد، ضياع بعض الوقت لمناقشة الواجبات خارج وقت المحاضرات في الويكند مثلا، \n",
       "المشروع ما كان واضح ولا محفز للتطوير والتعلم\n",
       "        Topic is: <span style=\"color: #008080; text-decoration-color: #008080; font-weight: bold\">6</span>-طريقة تدريس و تقديم المادة\n",
       "</pre>\n"
      ],
      "text/plain": [
       "عدم الوضوح المسبق والوضع الدراسي عن بعد، ضياع بعض الوقت لمناقشة الواجبات خارج وقت المحاضرات في الويكند مثلا، \n",
       "المشروع ما كان واضح ولا محفز للتطوير والتعلم\n",
       "        Topic is: \u001b[1;36m6\u001b[0m-طريقة تدريس و تقديم المادة\n"
      ]
     },
     "metadata": {},
     "output_type": "display_data"
    },
    {
     "data": {
      "text/html": [
       "<pre style=\"white-space:pre;overflow-x:auto;line-height:normal;font-family:Menlo,'DejaVu Sans Mono',consolas,'Courier New',monospace\">عدم توفر معامل تحتوي على برامج خاصة بالمحاكاة مثل ns2 و ns3 و تحميل هذه البرامج على الأجهزة الشخصية أرهق الأجهزة و \n",
       "أضعف كفاءتها\n",
       "        Topic is: <span style=\"color: #008080; text-decoration-color: #008080; font-weight: bold\">0</span>-محتوى ومعلومات المقرر\n",
       "</pre>\n"
      ],
      "text/plain": [
       "عدم توفر معامل تحتوي على برامج خاصة بالمحاكاة مثل ns2 و ns3 و تحميل هذه البرامج على الأجهزة الشخصية أرهق الأجهزة و \n",
       "أضعف كفاءتها\n",
       "        Topic is: \u001b[1;36m0\u001b[0m-محتوى ومعلومات المقرر\n"
      ]
     },
     "metadata": {},
     "output_type": "display_data"
    },
    {
     "data": {
      "text/html": [
       "<pre style=\"white-space:pre;overflow-x:auto;line-height:normal;font-family:Menlo,'DejaVu Sans Mono',consolas,'Courier New',monospace\">علم الشبكات علم يتطور والماده تحمس الطالب على معرفة كل ماهو جديد\n",
       "        Topic is: <span style=\"color: #008080; text-decoration-color: #008080; font-weight: bold\">0</span>-محتوى ومعلومات المقرر\n",
       "</pre>\n"
      ],
      "text/plain": [
       "علم الشبكات علم يتطور والماده تحمس الطالب على معرفة كل ماهو جديد\n",
       "        Topic is: \u001b[1;36m0\u001b[0m-محتوى ومعلومات المقرر\n"
      ]
     },
     "metadata": {},
     "output_type": "display_data"
    },
    {
     "data": {
      "text/html": [
       "<pre style=\"white-space:pre;overflow-x:auto;line-height:normal;font-family:Menlo,'DejaVu Sans Mono',consolas,'Courier New',monospace\">كان المشروع مقسم طوال الترم على أجزاء وهذا ساعدنا جدا فهم كل جزئية وكيف يتم تطبيقه في حل الاسايمنت وكان جدا جدا جدا\n",
       "هادف لبناء إستراتيجية على منظمه ومدى معرفتنا فيها كانت جدا عاليه\n",
       "        Topic is: <span style=\"color: #008080; text-decoration-color: #008080; font-weight: bold\">-1</span>-Outlier\n",
       "</pre>\n"
      ],
      "text/plain": [
       "كان المشروع مقسم طوال الترم على أجزاء وهذا ساعدنا جدا فهم كل جزئية وكيف يتم تطبيقه في حل الاسايمنت وكان جدا جدا جدا\n",
       "هادف لبناء إستراتيجية على منظمه ومدى معرفتنا فيها كانت جدا عاليه\n",
       "        Topic is: \u001b[1;36m-1\u001b[0m-Outlier\n"
      ]
     },
     "metadata": {},
     "output_type": "display_data"
    },
    {
     "data": {
      "text/html": [
       "<pre style=\"white-space:pre;overflow-x:auto;line-height:normal;font-family:Menlo,'DejaVu Sans Mono',consolas,'Courier New',monospace\">كان المقرر وقت الدراسة عن بعد، مما جعل فيه صعوبات تواصل خاصة للمستجدين، وعدم وضوح المتطلبات من البداية ومناسبتها \n",
       "للوضع والمادة، بعض المهام كانت time consuming\n",
       "        Topic is: <span style=\"color: #008080; text-decoration-color: #008080; font-weight: bold\">6</span>-طريقة تدريس و تقديم المادة\n",
       "</pre>\n"
      ],
      "text/plain": [
       "كان المقرر وقت الدراسة عن بعد، مما جعل فيه صعوبات تواصل خاصة للمستجدين، وعدم وضوح المتطلبات من البداية ومناسبتها \n",
       "للوضع والمادة، بعض المهام كانت time consuming\n",
       "        Topic is: \u001b[1;36m6\u001b[0m-طريقة تدريس و تقديم المادة\n"
      ]
     },
     "metadata": {},
     "output_type": "display_data"
    },
    {
     "data": {
      "text/html": [
       "<pre style=\"white-space:pre;overflow-x:auto;line-height:normal;font-family:Menlo,'DejaVu Sans Mono',consolas,'Courier New',monospace\">كان بيكون أفضل مقرر لو كان اختيار أعضاء الفريق بشكل منظم أكثر\n",
       "        Topic is: <span style=\"color: #008080; text-decoration-color: #008080; font-weight: bold\">-1</span>-Outlier\n",
       "</pre>\n"
      ],
      "text/plain": [
       "كان بيكون أفضل مقرر لو كان اختيار أعضاء الفريق بشكل منظم أكثر\n",
       "        Topic is: \u001b[1;36m-1\u001b[0m-Outlier\n"
      ]
     },
     "metadata": {},
     "output_type": "display_data"
    },
    {
     "data": {
      "text/html": [
       "<pre style=\"white-space:pre;overflow-x:auto;line-height:normal;font-family:Menlo,'DejaVu Sans Mono',consolas,'Courier New',monospace\">كان شرح المادة بالانجليزي لوجود طالب غير عربي فلم يكن التفاعل بالمستوى المطلوب من قبلنا بمثل التفاعل في الكورسات \n",
       "العربية\n",
       "        Topic is: <span style=\"color: #008080; text-decoration-color: #008080; font-weight: bold\">6</span>-طريقة تدريس و تقديم المادة\n",
       "</pre>\n"
      ],
      "text/plain": [
       "كان شرح المادة بالانجليزي لوجود طالب غير عربي فلم يكن التفاعل بالمستوى المطلوب من قبلنا بمثل التفاعل في الكورسات \n",
       "العربية\n",
       "        Topic is: \u001b[1;36m6\u001b[0m-طريقة تدريس و تقديم المادة\n"
      ]
     },
     "metadata": {},
     "output_type": "display_data"
    },
    {
     "data": {
      "text/html": [
       "<pre style=\"white-space:pre;overflow-x:auto;line-height:normal;font-family:Menlo,'DejaVu Sans Mono',consolas,'Courier New',monospace\">كان مقرر مهم مهم مهم مهم مهم جددا واستفدت منه بشكل كبير في العمل وجميع واستفدت صراحة بشكل كبير من أعضاء هيئة \n",
       "التدريس اللي يملكون خبره رائعه وكبيره في هذا المقرر وأخص بالذكر د هاني الجحدلي اشكره جزيل الششكر\n",
       "        Topic is: <span style=\"color: #008080; text-decoration-color: #008080; font-weight: bold\">1</span>-دكتور المقرر\n",
       "</pre>\n"
      ],
      "text/plain": [
       "كان مقرر مهم مهم مهم مهم مهم جددا واستفدت منه بشكل كبير في العمل وجميع واستفدت صراحة بشكل كبير من أعضاء هيئة \n",
       "التدريس اللي يملكون خبره رائعه وكبيره في هذا المقرر وأخص بالذكر د هاني الجحدلي اشكره جزيل الششكر\n",
       "        Topic is: \u001b[1;36m1\u001b[0m-دكتور المقرر\n"
      ]
     },
     "metadata": {},
     "output_type": "display_data"
    },
    {
     "data": {
      "text/html": [
       "<pre style=\"white-space:pre;overflow-x:auto;line-height:normal;font-family:Menlo,'DejaVu Sans Mono',consolas,'Courier New',monospace\">كانت محاضره واحده فقط في رمضان مما سبب ضغط بعد رمضان\n",
       "        Topic is: <span style=\"color: #008080; text-decoration-color: #008080; font-weight: bold\">-1</span>-Outlier\n",
       "</pre>\n"
      ],
      "text/plain": [
       "كانت محاضره واحده فقط في رمضان مما سبب ضغط بعد رمضان\n",
       "        Topic is: \u001b[1;36m-1\u001b[0m-Outlier\n"
      ]
     },
     "metadata": {},
     "output_type": "display_data"
    },
    {
     "data": {
      "text/html": [
       "<pre style=\"white-space:pre;overflow-x:auto;line-height:normal;font-family:Menlo,'DejaVu Sans Mono',consolas,'Courier New',monospace\">كثره الواجبات وليست صعوبتها لان الفتره ماكانت مناسبه\n",
       "        Topic is: <span style=\"color: #008080; text-decoration-color: #008080; font-weight: bold\">5</span>-المتطلبات و المهام و الدرجات\n",
       "</pre>\n"
      ],
      "text/plain": [
       "كثره الواجبات وليست صعوبتها لان الفتره ماكانت مناسبه\n",
       "        Topic is: \u001b[1;36m5\u001b[0m-المتطلبات و المهام و الدرجات\n"
      ]
     },
     "metadata": {},
     "output_type": "display_data"
    },
    {
     "data": {
      "text/html": [
       "<pre style=\"white-space:pre;overflow-x:auto;line-height:normal;font-family:Menlo,'DejaVu Sans Mono',consolas,'Courier New',monospace\">كمية المعلومات النظرية الجانب العملي لهذه الماده ركيك ربما بسبب المصادر التي برسوم أو لان الكورس عن بعد اثر في ذلك\n",
       "        Topic is: <span style=\"color: #008080; text-decoration-color: #008080; font-weight: bold\">1</span>-دكتور المقرر\n",
       "</pre>\n"
      ],
      "text/plain": [
       "كمية المعلومات النظرية الجانب العملي لهذه الماده ركيك ربما بسبب المصادر التي برسوم أو لان الكورس عن بعد اثر في ذلك\n",
       "        Topic is: \u001b[1;36m1\u001b[0m-دكتور المقرر\n"
      ]
     },
     "metadata": {},
     "output_type": "display_data"
    },
    {
     "data": {
      "text/html": [
       "<pre style=\"white-space:pre;overflow-x:auto;line-height:normal;font-family:Menlo,'DejaVu Sans Mono',consolas,'Courier New',monospace\">كمية المنهج كثيرة جدا وبعضها لا يدخل في الاختبار الشامل ويعتبر منهج بكالوريوس\n",
       "        Topic is: <span style=\"color: #008080; text-decoration-color: #008080; font-weight: bold\">6</span>-طريقة تدريس و تقديم المادة\n",
       "</pre>\n"
      ],
      "text/plain": [
       "كمية المنهج كثيرة جدا وبعضها لا يدخل في الاختبار الشامل ويعتبر منهج بكالوريوس\n",
       "        Topic is: \u001b[1;36m6\u001b[0m-طريقة تدريس و تقديم المادة\n"
      ]
     },
     "metadata": {},
     "output_type": "display_data"
    },
    {
     "data": {
      "text/html": [
       "<pre style=\"white-space:pre;overflow-x:auto;line-height:normal;font-family:Menlo,'DejaVu Sans Mono',consolas,'Courier New',monospace\">كورس الدوره في موقع كورسيرا لجامعة ستانفورد المطلوب مننا الانتهاء منه وانجازه لهذا المقرر\n",
       "        Topic is: <span style=\"color: #008080; text-decoration-color: #008080; font-weight: bold\">6</span>-طريقة تدريس و تقديم المادة\n",
       "</pre>\n"
      ],
      "text/plain": [
       "كورس الدوره في موقع كورسيرا لجامعة ستانفورد المطلوب مننا الانتهاء منه وانجازه لهذا المقرر\n",
       "        Topic is: \u001b[1;36m6\u001b[0m-طريقة تدريس و تقديم المادة\n"
      ]
     },
     "metadata": {},
     "output_type": "display_data"
    },
    {
     "data": {
      "text/html": [
       "<pre style=\"white-space:pre;overflow-x:auto;line-height:normal;font-family:Menlo,'DejaVu Sans Mono',consolas,'Courier New',monospace\">لا يوجد اختبارات كلها مشاريع اعطتني خبره ومهارات كثيره\n",
       "        Topic is: <span style=\"color: #008080; text-decoration-color: #008080; font-weight: bold\">1</span>-دكتور المقرر\n",
       "</pre>\n"
      ],
      "text/plain": [
       "لا يوجد اختبارات كلها مشاريع اعطتني خبره ومهارات كثيره\n",
       "        Topic is: \u001b[1;36m1\u001b[0m-دكتور المقرر\n"
      ]
     },
     "metadata": {},
     "output_type": "display_data"
    },
    {
     "data": {
      "text/html": [
       "<pre style=\"white-space:pre;overflow-x:auto;line-height:normal;font-family:Menlo,'DejaVu Sans Mono',consolas,'Courier New',monospace\">لا يوجد لدي شي معين، وأتمنى التحسين والتدريب، وهل فيه إمكانية إضافة مواضيع دورات إدارة المشاريع واجتياز اختبارها \n",
       "مثل: pmp\n",
       "        Topic is: <span style=\"color: #008080; text-decoration-color: #008080; font-weight: bold\">1</span>-دكتور المقرر\n",
       "</pre>\n"
      ],
      "text/plain": [
       "لا يوجد لدي شي معين، وأتمنى التحسين والتدريب، وهل فيه إمكانية إضافة مواضيع دورات إدارة المشاريع واجتياز اختبارها \n",
       "مثل: pmp\n",
       "        Topic is: \u001b[1;36m1\u001b[0m-دكتور المقرر\n"
      ]
     },
     "metadata": {},
     "output_type": "display_data"
    },
    {
     "data": {
      "text/html": [
       "<pre style=\"white-space:pre;overflow-x:auto;line-height:normal;font-family:Menlo,'DejaVu Sans Mono',consolas,'Courier New',monospace\">لا يوجد ولكن فقطكنت احتاج تأجيل إحدى الواجبات ليوم واحد فقط لكي أتمكن من حضور المحاضرة لكن لم يتم عمل ذلك ف أتمنى \n",
       "يكون في مرونة أكثر خصوصا. اننا موظفات وان المادة الأخرى اسبوعيا بها واجبات\n",
       "        Topic is: <span style=\"color: #008080; text-decoration-color: #008080; font-weight: bold\">-1</span>-Outlier\n",
       "</pre>\n"
      ],
      "text/plain": [
       "لا يوجد ولكن فقطكنت احتاج تأجيل إحدى الواجبات ليوم واحد فقط لكي أتمكن من حضور المحاضرة لكن لم يتم عمل ذلك ف أتمنى \n",
       "يكون في مرونة أكثر خصوصا. اننا موظفات وان المادة الأخرى اسبوعيا بها واجبات\n",
       "        Topic is: \u001b[1;36m-1\u001b[0m-Outlier\n"
      ]
     },
     "metadata": {},
     "output_type": "display_data"
    },
    {
     "data": {
      "text/html": [
       "<pre style=\"white-space:pre;overflow-x:auto;line-height:normal;font-family:Menlo,'DejaVu Sans Mono',consolas,'Courier New',monospace\">لم يتم اعطائنا اي درجات للواجبات والمشاريع التي قمنا بها منذو البداية وحتى تم الانتهاء من الفصل الدراسي وتم رصدها \n",
       "مباشرة في النظام\n",
       "        Topic is: <span style=\"color: #008080; text-decoration-color: #008080; font-weight: bold\">6</span>-طريقة تدريس و تقديم المادة\n",
       "</pre>\n"
      ],
      "text/plain": [
       "لم يتم اعطائنا اي درجات للواجبات والمشاريع التي قمنا بها منذو البداية وحتى تم الانتهاء من الفصل الدراسي وتم رصدها \n",
       "مباشرة في النظام\n",
       "        Topic is: \u001b[1;36m6\u001b[0m-طريقة تدريس و تقديم المادة\n"
      ]
     },
     "metadata": {},
     "output_type": "display_data"
    },
    {
     "data": {
      "text/html": [
       "<pre style=\"white-space:pre;overflow-x:auto;line-height:normal;font-family:Menlo,'DejaVu Sans Mono',consolas,'Courier New',monospace\">لم يتم التطبيق العملي على البرنامج بالشكل المناسب أغلب الواجبات كانت أشياء لم يتم شرح اي شي فيها وشعوري كأن المادة \n",
       "درستها بدون وجود عصو هيئة تدريس والمحاضرة عبارة عن قراءة السلايدات الدرجات غير مرضية حيث بذلت جهد كبير جدا لفهم \n",
       "المادة بنفسي ورغم اجتهادي أنا وزميلاتي اغلبنا حصلنا على نفس الدرجات الغير مرضية لا يوجد تحفيز من عضو هيئة التدريس \n",
       "والتعليق الذي على الواجبات محطم ولا يليق بجهودي\n",
       "        Topic is: <span style=\"color: #008080; text-decoration-color: #008080; font-weight: bold\">6</span>-طريقة تدريس و تقديم المادة\n",
       "</pre>\n"
      ],
      "text/plain": [
       "لم يتم التطبيق العملي على البرنامج بالشكل المناسب أغلب الواجبات كانت أشياء لم يتم شرح اي شي فيها وشعوري كأن المادة \n",
       "درستها بدون وجود عصو هيئة تدريس والمحاضرة عبارة عن قراءة السلايدات الدرجات غير مرضية حيث بذلت جهد كبير جدا لفهم \n",
       "المادة بنفسي ورغم اجتهادي أنا وزميلاتي اغلبنا حصلنا على نفس الدرجات الغير مرضية لا يوجد تحفيز من عضو هيئة التدريس \n",
       "والتعليق الذي على الواجبات محطم ولا يليق بجهودي\n",
       "        Topic is: \u001b[1;36m6\u001b[0m-طريقة تدريس و تقديم المادة\n"
      ]
     },
     "metadata": {},
     "output_type": "display_data"
    },
    {
     "data": {
      "text/html": [
       "<pre style=\"white-space:pre;overflow-x:auto;line-height:normal;font-family:Menlo,'DejaVu Sans Mono',consolas,'Courier New',monospace\">لم يعجبني شي للاسف،، تعب وتجهيز وتحضير الدروس من أبحاث من قبل <span style=\"color: #008080; text-decoration-color: #008080; font-weight: bold\">30</span> سنة ومصطلحات غريبه وقت وجهد غير مقبول\n",
       "        Topic is: <span style=\"color: #008080; text-decoration-color: #008080; font-weight: bold\">6</span>-طريقة تدريس و تقديم المادة\n",
       "</pre>\n"
      ],
      "text/plain": [
       "لم يعجبني شي للاسف،، تعب وتجهيز وتحضير الدروس من أبحاث من قبل \u001b[1;36m30\u001b[0m سنة ومصطلحات غريبه وقت وجهد غير مقبول\n",
       "        Topic is: \u001b[1;36m6\u001b[0m-طريقة تدريس و تقديم المادة\n"
      ]
     },
     "metadata": {},
     "output_type": "display_data"
    },
    {
     "data": {
      "text/html": [
       "<pre style=\"white-space:pre;overflow-x:auto;line-height:normal;font-family:Menlo,'DejaVu Sans Mono',consolas,'Courier New',monospace\">لم يعجبنيانه مكثف بحيث الوقت والتكاليف لا تتناسب مع متطلبات المواد الأخرى أكثر من برنامج سويناه.. وهو هدر للوقت \n",
       "وضغط شديد.\n",
       "        Topic is: <span style=\"color: #008080; text-decoration-color: #008080; font-weight: bold\">1</span>-دكتور المقرر\n",
       "</pre>\n"
      ],
      "text/plain": [
       "لم يعجبنيانه مكثف بحيث الوقت والتكاليف لا تتناسب مع متطلبات المواد الأخرى أكثر من برنامج سويناه.. وهو هدر للوقت \n",
       "وضغط شديد.\n",
       "        Topic is: \u001b[1;36m1\u001b[0m-دكتور المقرر\n"
      ]
     },
     "metadata": {},
     "output_type": "display_data"
    },
    {
     "data": {
      "text/html": [
       "<pre style=\"white-space:pre;overflow-x:auto;line-height:normal;font-family:Menlo,'DejaVu Sans Mono',consolas,'Courier New',monospace\">لم يكن هناك واجب جماعي بذلك يجبر الطالب على البحث واتقان المهاره المطلوبه تعلمنا مهارة التعامل مع الأوراق البحثيه\n",
       "        Topic is: <span style=\"color: #008080; text-decoration-color: #008080; font-weight: bold\">6</span>-طريقة تدريس و تقديم المادة\n",
       "</pre>\n"
      ],
      "text/plain": [
       "لم يكن هناك واجب جماعي بذلك يجبر الطالب على البحث واتقان المهاره المطلوبه تعلمنا مهارة التعامل مع الأوراق البحثيه\n",
       "        Topic is: \u001b[1;36m6\u001b[0m-طريقة تدريس و تقديم المادة\n"
      ]
     },
     "metadata": {},
     "output_type": "display_data"
    },
    {
     "data": {
      "text/html": [
       "<pre style=\"white-space:pre;overflow-x:auto;line-height:normal;font-family:Menlo,'DejaVu Sans Mono',consolas,'Courier New',monospace\">لو يوجد طريقة مبتكرة تفاعلية أكثر للمحاضرات لان طبيعة المنهج نظرية وسرد، رغم تفاعلنا مع الدكتورة سمر وحبنا للمادة\n",
       "        Topic is: <span style=\"color: #008080; text-decoration-color: #008080; font-weight: bold\">1</span>-دكتور المقرر\n",
       "</pre>\n"
      ],
      "text/plain": [
       "لو يوجد طريقة مبتكرة تفاعلية أكثر للمحاضرات لان طبيعة المنهج نظرية وسرد، رغم تفاعلنا مع الدكتورة سمر وحبنا للمادة\n",
       "        Topic is: \u001b[1;36m1\u001b[0m-دكتور المقرر\n"
      ]
     },
     "metadata": {},
     "output_type": "display_data"
    },
    {
     "data": {
      "text/html": [
       "<pre style=\"white-space:pre;overflow-x:auto;line-height:normal;font-family:Menlo,'DejaVu Sans Mono',consolas,'Courier New',monospace\">ما يطلبه الدكتور يفوق قدرة الطالب بالأخص الطلاب المستجدين\n",
       "        Topic is: <span style=\"color: #008080; text-decoration-color: #008080; font-weight: bold\">1</span>-دكتور المقرر\n",
       "</pre>\n"
      ],
      "text/plain": [
       "ما يطلبه الدكتور يفوق قدرة الطالب بالأخص الطلاب المستجدين\n",
       "        Topic is: \u001b[1;36m1\u001b[0m-دكتور المقرر\n"
      ]
     },
     "metadata": {},
     "output_type": "display_data"
    },
    {
     "data": {
      "text/html": [
       "<pre style=\"white-space:pre;overflow-x:auto;line-height:normal;font-family:Menlo,'DejaVu Sans Mono',consolas,'Courier New',monospace\">مادة بعيدة تماما عن مفهوم الأمن السيبراني والبروجكت النهائي لا يمت بصلة بالمادة محتوياتها ونتائجها تعتبر مقدمة \n",
       "للداتا بيس وليس أمن قاعدة البيانات الوقت المحدد لعمل المعامل جدا ضيق ويتم محاسبتنا عليه\n",
       "        Topic is: <span style=\"color: #008080; text-decoration-color: #008080; font-weight: bold\">0</span>-محتوى ومعلومات المقرر\n",
       "</pre>\n"
      ],
      "text/plain": [
       "مادة بعيدة تماما عن مفهوم الأمن السيبراني والبروجكت النهائي لا يمت بصلة بالمادة محتوياتها ونتائجها تعتبر مقدمة \n",
       "للداتا بيس وليس أمن قاعدة البيانات الوقت المحدد لعمل المعامل جدا ضيق ويتم محاسبتنا عليه\n",
       "        Topic is: \u001b[1;36m0\u001b[0m-محتوى ومعلومات المقرر\n"
      ]
     },
     "metadata": {},
     "output_type": "display_data"
    },
    {
     "data": {
      "text/html": [
       "<pre style=\"white-space:pre;overflow-x:auto;line-height:normal;font-family:Menlo,'DejaVu Sans Mono',consolas,'Courier New',monospace\">مادة مميزة جدا.. تطوير المعامل أكثر بتوفير برامج مجانية و أجهزة. خاصة بالأدلة الجنائية الرقمية حتى يكون للتطبيق \n",
       "أقرب للواقع\n",
       "        Topic is: <span style=\"color: #008080; text-decoration-color: #008080; font-weight: bold\">3</span>-موازنة الجزء العملي مع الجزء النظري\n",
       "</pre>\n"
      ],
      "text/plain": [
       "مادة مميزة جدا.. تطوير المعامل أكثر بتوفير برامج مجانية و أجهزة. خاصة بالأدلة الجنائية الرقمية حتى يكون للتطبيق \n",
       "أقرب للواقع\n",
       "        Topic is: \u001b[1;36m3\u001b[0m-موازنة الجزء العملي مع الجزء النظري\n"
      ]
     },
     "metadata": {},
     "output_type": "display_data"
    },
    {
     "data": {
      "text/html": [
       "<pre style=\"white-space:pre;overflow-x:auto;line-height:normal;font-family:Menlo,'DejaVu Sans Mono',consolas,'Courier New',monospace\">ماده أكثر من رائعه ومفيده طورت فيا قدرتي على التحليل مفيده بمجال العمل ومهمه جداا لقله المختصين في مجال الادله \n",
       "الجنائيه وواستفدت فعلا من تول الاتوبسي\n",
       "        Topic is: <span style=\"color: #008080; text-decoration-color: #008080; font-weight: bold\">1</span>-دكتور المقرر\n",
       "</pre>\n"
      ],
      "text/plain": [
       "ماده أكثر من رائعه ومفيده طورت فيا قدرتي على التحليل مفيده بمجال العمل ومهمه جداا لقله المختصين في مجال الادله \n",
       "الجنائيه وواستفدت فعلا من تول الاتوبسي\n",
       "        Topic is: \u001b[1;36m1\u001b[0m-دكتور المقرر\n"
      ]
     },
     "metadata": {},
     "output_type": "display_data"
    },
    {
     "data": {
      "text/html": [
       "<pre style=\"white-space:pre;overflow-x:auto;line-height:normal;font-family:Menlo,'DejaVu Sans Mono',consolas,'Courier New',monospace\">مجال البحث وإعداده كان صعبا بحكم عدم المعرفة في المجال وكون البحث أعطي كتكليف كامل غير مجزأ\n",
       "        Topic is: <span style=\"color: #008080; text-decoration-color: #008080; font-weight: bold\">1</span>-دكتور المقرر\n",
       "</pre>\n"
      ],
      "text/plain": [
       "مجال البحث وإعداده كان صعبا بحكم عدم المعرفة في المجال وكون البحث أعطي كتكليف كامل غير مجزأ\n",
       "        Topic is: \u001b[1;36m1\u001b[0m-دكتور المقرر\n"
      ]
     },
     "metadata": {},
     "output_type": "display_data"
    },
    {
     "data": {
      "text/html": [
       "<pre style=\"white-space:pre;overflow-x:auto;line-height:normal;font-family:Menlo,'DejaVu Sans Mono',consolas,'Courier New',monospace\">محاولة جذب الطلاب إلى هذا المقرر وتفعيل مسار الذكاء الاصطناعي لأننا بحاجته\n",
       "        Topic is: <span style=\"color: #008080; text-decoration-color: #008080; font-weight: bold\">6</span>-طريقة تدريس و تقديم المادة\n",
       "</pre>\n"
      ],
      "text/plain": [
       "محاولة جذب الطلاب إلى هذا المقرر وتفعيل مسار الذكاء الاصطناعي لأننا بحاجته\n",
       "        Topic is: \u001b[1;36m6\u001b[0m-طريقة تدريس و تقديم المادة\n"
      ]
     },
     "metadata": {},
     "output_type": "display_data"
    },
    {
     "data": {
      "text/html": [
       "<pre style=\"white-space:pre;overflow-x:auto;line-height:normal;font-family:Menlo,'DejaVu Sans Mono',consolas,'Courier New',monospace\">محتوى المادة ثري ويساعد الطالب في مجال العمل. المحتوى جديد ويركز على التقنيات الحديثة في مجال التقنية.\n",
       "        Topic is: <span style=\"color: #008080; text-decoration-color: #008080; font-weight: bold\">1</span>-دكتور المقرر\n",
       "</pre>\n"
      ],
      "text/plain": [
       "محتوى المادة ثري ويساعد الطالب في مجال العمل. المحتوى جديد ويركز على التقنيات الحديثة في مجال التقنية.\n",
       "        Topic is: \u001b[1;36m1\u001b[0m-دكتور المقرر\n"
      ]
     },
     "metadata": {},
     "output_type": "display_data"
    },
    {
     "data": {
      "text/html": [
       "<pre style=\"white-space:pre;overflow-x:auto;line-height:normal;font-family:Menlo,'DejaVu Sans Mono',consolas,'Courier New',monospace\">محتوى المقرر مشابه نوعا ما الى ماده سابقه وهي طرق بحث باختلاف الهدف النهائي لكل مقرر.\n",
       "        Topic is: <span style=\"color: #008080; text-decoration-color: #008080; font-weight: bold\">6</span>-طريقة تدريس و تقديم المادة\n",
       "</pre>\n"
      ],
      "text/plain": [
       "محتوى المقرر مشابه نوعا ما الى ماده سابقه وهي طرق بحث باختلاف الهدف النهائي لكل مقرر.\n",
       "        Topic is: \u001b[1;36m6\u001b[0m-طريقة تدريس و تقديم المادة\n"
      ]
     },
     "metadata": {},
     "output_type": "display_data"
    },
    {
     "data": {
      "text/html": [
       "<pre style=\"white-space:pre;overflow-x:auto;line-height:normal;font-family:Menlo,'DejaVu Sans Mono',consolas,'Courier New',monospace\">محتوى المنهج مكرر في أكثر من مادة للأسف.\n",
       "        Topic is: <span style=\"color: #008080; text-decoration-color: #008080; font-weight: bold\">1</span>-دكتور المقرر\n",
       "</pre>\n"
      ],
      "text/plain": [
       "محتوى المنهج مكرر في أكثر من مادة للأسف.\n",
       "        Topic is: \u001b[1;36m1\u001b[0m-دكتور المقرر\n"
      ]
     },
     "metadata": {},
     "output_type": "display_data"
    },
    {
     "data": {
      "text/html": [
       "<pre style=\"white-space:pre;overflow-x:auto;line-height:normal;font-family:Menlo,'DejaVu Sans Mono',consolas,'Courier New',monospace\">مدرس المادة و المحتوى و الكتاب\n",
       "        Topic is: <span style=\"color: #008080; text-decoration-color: #008080; font-weight: bold\">6</span>-طريقة تدريس و تقديم المادة\n",
       "</pre>\n"
      ],
      "text/plain": [
       "مدرس المادة و المحتوى و الكتاب\n",
       "        Topic is: \u001b[1;36m6\u001b[0m-طريقة تدريس و تقديم المادة\n"
      ]
     },
     "metadata": {},
     "output_type": "display_data"
    },
    {
     "data": {
      "text/html": [
       "<pre style=\"white-space:pre;overflow-x:auto;line-height:normal;font-family:Menlo,'DejaVu Sans Mono',consolas,'Courier New',monospace\">مفردات هذا المقرر كثيرة جدا و يوجد اختبارين فقط <span style=\"font-weight: bold\">(</span>فصلي و نهائي<span style=\"font-weight: bold\">)</span> اعتقد من وجهة نظري أنه من الأفضل عندما تكون مفردات \n",
       "المقرر كثيرة أن تكون هناك اختبارات دورية بعد كل فصل أو فصلين بدلا من اختبار فصلي واحد و اختبار نهائي\n",
       "        Topic is: <span style=\"color: #008080; text-decoration-color: #008080; font-weight: bold\">6</span>-طريقة تدريس و تقديم المادة\n",
       "</pre>\n"
      ],
      "text/plain": [
       "مفردات هذا المقرر كثيرة جدا و يوجد اختبارين فقط \u001b[1m(\u001b[0mفصلي و نهائي\u001b[1m)\u001b[0m اعتقد من وجهة نظري أنه من الأفضل عندما تكون مفردات \n",
       "المقرر كثيرة أن تكون هناك اختبارات دورية بعد كل فصل أو فصلين بدلا من اختبار فصلي واحد و اختبار نهائي\n",
       "        Topic is: \u001b[1;36m6\u001b[0m-طريقة تدريس و تقديم المادة\n"
      ]
     },
     "metadata": {},
     "output_type": "display_data"
    },
    {
     "data": {
      "text/html": [
       "<pre style=\"white-space:pre;overflow-x:auto;line-height:normal;font-family:Menlo,'DejaVu Sans Mono',consolas,'Courier New',monospace\">مقرر مفير جدا وشامل، وموضح للاخطار و الخسارات و طرق التحكم بها\n",
       "        Topic is: <span style=\"color: #008080; text-decoration-color: #008080; font-weight: bold\">0</span>-محتوى ومعلومات المقرر\n",
       "</pre>\n"
      ],
      "text/plain": [
       "مقرر مفير جدا وشامل، وموضح للاخطار و الخسارات و طرق التحكم بها\n",
       "        Topic is: \u001b[1;36m0\u001b[0m-محتوى ومعلومات المقرر\n"
      ]
     },
     "metadata": {},
     "output_type": "display_data"
    },
    {
     "data": {
      "text/html": [
       "<pre style=\"white-space:pre;overflow-x:auto;line-height:normal;font-family:Menlo,'DejaVu Sans Mono',consolas,'Courier New',monospace\">من الأفضل تغيير خطة و منهج المادة لمنهج مرتب و مقنن بدلا من تشتيت الطالبات باخذ كورسات إضافية\n",
       "        Topic is: <span style=\"color: #008080; text-decoration-color: #008080; font-weight: bold\">6</span>-طريقة تدريس و تقديم المادة\n",
       "</pre>\n"
      ],
      "text/plain": [
       "من الأفضل تغيير خطة و منهج المادة لمنهج مرتب و مقنن بدلا من تشتيت الطالبات باخذ كورسات إضافية\n",
       "        Topic is: \u001b[1;36m6\u001b[0m-طريقة تدريس و تقديم المادة\n"
      ]
     },
     "metadata": {},
     "output_type": "display_data"
    },
    {
     "data": {
      "text/html": [
       "<pre style=\"white-space:pre;overflow-x:auto;line-height:normal;font-family:Menlo,'DejaVu Sans Mono',consolas,'Courier New',monospace\">من المفترض ان يكون للمقرر خطة واضحه و منهج بدلا من تشتيت الطالبات باخذ كورسات إضافية غير مجانية و يرصد لها تقييم \n",
       "عالي جدا من الدرجات.. و بالتالي لم نستفد من المحاضرات و لا الكورس الإضافي ولم يصلنا.. المطلوب فهمه من المادة\n",
       "        Topic is: <span style=\"color: #008080; text-decoration-color: #008080; font-weight: bold\">6</span>-طريقة تدريس و تقديم المادة\n",
       "</pre>\n"
      ],
      "text/plain": [
       "من المفترض ان يكون للمقرر خطة واضحه و منهج بدلا من تشتيت الطالبات باخذ كورسات إضافية غير مجانية و يرصد لها تقييم \n",
       "عالي جدا من الدرجات.. و بالتالي لم نستفد من المحاضرات و لا الكورس الإضافي ولم يصلنا.. المطلوب فهمه من المادة\n",
       "        Topic is: \u001b[1;36m6\u001b[0m-طريقة تدريس و تقديم المادة\n"
      ]
     },
     "metadata": {},
     "output_type": "display_data"
    },
    {
     "data": {
      "text/html": [
       "<pre style=\"white-space:pre;overflow-x:auto;line-height:normal;font-family:Menlo,'DejaVu Sans Mono',consolas,'Courier New',monospace\">منهجية المقرر غير واضحه\n",
       "        Topic is: <span style=\"color: #008080; text-decoration-color: #008080; font-weight: bold\">5</span>-المتطلبات و المهام و الدرجات\n",
       "</pre>\n"
      ],
      "text/plain": [
       "منهجية المقرر غير واضحه\n",
       "        Topic is: \u001b[1;36m5\u001b[0m-المتطلبات و المهام و الدرجات\n"
      ]
     },
     "metadata": {},
     "output_type": "display_data"
    },
    {
     "data": {
      "text/html": [
       "<pre style=\"white-space:pre;overflow-x:auto;line-height:normal;font-family:Menlo,'DejaVu Sans Mono',consolas,'Courier New',monospace\">مواضيع المادة مفيده ومن خلالها تستطيع البحث والتعمق أكثر في المجال\n",
       "        Topic is: <span style=\"color: #008080; text-decoration-color: #008080; font-weight: bold\">0</span>-محتوى ومعلومات المقرر\n",
       "</pre>\n"
      ],
      "text/plain": [
       "مواضيع المادة مفيده ومن خلالها تستطيع البحث والتعمق أكثر في المجال\n",
       "        Topic is: \u001b[1;36m0\u001b[0m-محتوى ومعلومات المقرر\n"
      ]
     },
     "metadata": {},
     "output_type": "display_data"
    },
    {
     "data": {
      "text/html": [
       "<pre style=\"white-space:pre;overflow-x:auto;line-height:normal;font-family:Menlo,'DejaVu Sans Mono',consolas,'Courier New',monospace\">مواضيع المقرر حديثة ومثيره، تشجع الطالب للبحث والتعمق أكثر في المجال\n",
       "        Topic is: <span style=\"color: #008080; text-decoration-color: #008080; font-weight: bold\">6</span>-طريقة تدريس و تقديم المادة\n",
       "</pre>\n"
      ],
      "text/plain": [
       "مواضيع المقرر حديثة ومثيره، تشجع الطالب للبحث والتعمق أكثر في المجال\n",
       "        Topic is: \u001b[1;36m6\u001b[0m-طريقة تدريس و تقديم المادة\n"
      ]
     },
     "metadata": {},
     "output_type": "display_data"
    },
    {
     "data": {
      "text/html": [
       "<pre style=\"white-space:pre;overflow-x:auto;line-height:normal;font-family:Menlo,'DejaVu Sans Mono',consolas,'Courier New',monospace\">نظام تقسيم المقرر الى اختبارات قصيرة متعددة إضافة الى ورقة بحثية في نهاية الترم.. جعلتنا ندرس المادة أول بأول..\n",
       "        Topic is: <span style=\"color: #008080; text-decoration-color: #008080; font-weight: bold\">1</span>-دكتور المقرر\n",
       "</pre>\n"
      ],
      "text/plain": [
       "نظام تقسيم المقرر الى اختبارات قصيرة متعددة إضافة الى ورقة بحثية في نهاية الترم.. جعلتنا ندرس المادة أول بأول..\n",
       "        Topic is: \u001b[1;36m1\u001b[0m-دكتور المقرر\n"
      ]
     },
     "metadata": {},
     "output_type": "display_data"
    },
    {
     "data": {
      "text/html": [
       "<pre style=\"white-space:pre;overflow-x:auto;line-height:normal;font-family:Menlo,'DejaVu Sans Mono',consolas,'Courier New',monospace\">هذا المقرر ساعدني على تحسين قدرتي على التفكير وحل المشكلات بدلا من حفظ المعلومات فقط\n",
       "        Topic is: <span style=\"color: #008080; text-decoration-color: #008080; font-weight: bold\">1</span>-دكتور المقرر\n",
       "</pre>\n"
      ],
      "text/plain": [
       "هذا المقرر ساعدني على تحسين قدرتي على التفكير وحل المشكلات بدلا من حفظ المعلومات فقط\n",
       "        Topic is: \u001b[1;36m1\u001b[0m-دكتور المقرر\n"
      ]
     },
     "metadata": {},
     "output_type": "display_data"
    },
    {
     "data": {
      "text/html": [
       "<pre style=\"white-space:pre;overflow-x:auto;line-height:normal;font-family:Menlo,'DejaVu Sans Mono',consolas,'Courier New',monospace\">وضع الداتا في مكان مناسب بحيث يتم تنزيلها بشكل صحيح\n",
       "        Topic is: <span style=\"color: #008080; text-decoration-color: #008080; font-weight: bold\">-1</span>-Outlier\n",
       "</pre>\n"
      ],
      "text/plain": [
       "وضع الداتا في مكان مناسب بحيث يتم تنزيلها بشكل صحيح\n",
       "        Topic is: \u001b[1;36m-1\u001b[0m-Outlier\n"
      ]
     },
     "metadata": {},
     "output_type": "display_data"
    },
    {
     "data": {
      "text/html": [
       "<pre style=\"white-space:pre;overflow-x:auto;line-height:normal;font-family:Menlo,'DejaVu Sans Mono',consolas,'Courier New',monospace\">وضع لابات أو دورات خارجيه في مجال اساسيات الأمن السيبراني مثل لابات سيسكو في علم الشبكات لتزويد وتوجيه الطالب \n",
       "للحصول على الكمية الكافية من المعلومات\n",
       "        Topic is: <span style=\"color: #008080; text-decoration-color: #008080; font-weight: bold\">0</span>-محتوى ومعلومات المقرر\n",
       "</pre>\n"
      ],
      "text/plain": [
       "وضع لابات أو دورات خارجيه في مجال اساسيات الأمن السيبراني مثل لابات سيسكو في علم الشبكات لتزويد وتوجيه الطالب \n",
       "للحصول على الكمية الكافية من المعلومات\n",
       "        Topic is: \u001b[1;36m0\u001b[0m-محتوى ومعلومات المقرر\n"
      ]
     },
     "metadata": {},
     "output_type": "display_data"
    },
    {
     "data": {
      "text/html": [
       "<pre style=\"white-space:pre;overflow-x:auto;line-height:normal;font-family:Menlo,'DejaVu Sans Mono',consolas,'Courier New',monospace\">وضوح المهام وتوزيع الدرجات تنوع مستوى أسئلة الاختبار الشرح كافي و وافي\n",
       "        Topic is: <span style=\"color: #008080; text-decoration-color: #008080; font-weight: bold\">5</span>-المتطلبات و المهام و الدرجات\n",
       "</pre>\n"
      ],
      "text/plain": [
       "وضوح المهام وتوزيع الدرجات تنوع مستوى أسئلة الاختبار الشرح كافي و وافي\n",
       "        Topic is: \u001b[1;36m5\u001b[0m-المتطلبات و المهام و الدرجات\n"
      ]
     },
     "metadata": {},
     "output_type": "display_data"
    },
    {
     "data": {
      "text/html": [
       "<pre style=\"white-space:pre;overflow-x:auto;line-height:normal;font-family:Menlo,'DejaVu Sans Mono',consolas,'Courier New',monospace\">يجب تدريس المادة بشكل أفضل من العروض الاسبوعيه التي يقدمها الطلاب بدلا من دكتور المادة!!\n",
       "        Topic is: <span style=\"color: #008080; text-decoration-color: #008080; font-weight: bold\">6</span>-طريقة تدريس و تقديم المادة\n",
       "</pre>\n"
      ],
      "text/plain": [
       "يجب تدريس المادة بشكل أفضل من العروض الاسبوعيه التي يقدمها الطلاب بدلا من دكتور المادة!!\n",
       "        Topic is: \u001b[1;36m6\u001b[0m-طريقة تدريس و تقديم المادة\n"
      ]
     },
     "metadata": {},
     "output_type": "display_data"
    },
    {
     "data": {
      "text/html": [
       "<pre style=\"white-space:pre;overflow-x:auto;line-height:normal;font-family:Menlo,'DejaVu Sans Mono',consolas,'Courier New',monospace\">يجب تدريس المادة بطريقة أفضل خصوصااننا طالبات دكتوراه،، طريقة التدريس التي يعتمدها الدكتور هي نحن نقوم بشرح المنهج \n",
       "على مدار الفصل،، أين مهامه هو كدكتور للمادة؟! ايضا طريقة تقسيم الدرجات غير واضحة ومعقدة جدا،، لم استفد من المقرر في\n",
       "الفصل هذا أبدا\n",
       "        Topic is: <span style=\"color: #008080; text-decoration-color: #008080; font-weight: bold\">6</span>-طريقة تدريس و تقديم المادة\n",
       "</pre>\n"
      ],
      "text/plain": [
       "يجب تدريس المادة بطريقة أفضل خصوصااننا طالبات دكتوراه،، طريقة التدريس التي يعتمدها الدكتور هي نحن نقوم بشرح المنهج \n",
       "على مدار الفصل،، أين مهامه هو كدكتور للمادة؟! ايضا طريقة تقسيم الدرجات غير واضحة ومعقدة جدا،، لم استفد من المقرر في\n",
       "الفصل هذا أبدا\n",
       "        Topic is: \u001b[1;36m6\u001b[0m-طريقة تدريس و تقديم المادة\n"
      ]
     },
     "metadata": {},
     "output_type": "display_data"
    },
    {
     "data": {
      "text/html": [
       "<pre style=\"white-space:pre;overflow-x:auto;line-height:normal;font-family:Menlo,'DejaVu Sans Mono',consolas,'Courier New',monospace\">يجب تنوع إيصال المعلومه للطالب وعدم الاكتفاء بعملية قراءة المقرر دون شرح\n",
       "        Topic is: <span style=\"color: #008080; text-decoration-color: #008080; font-weight: bold\">6</span>-طريقة تدريس و تقديم المادة\n",
       "</pre>\n"
      ],
      "text/plain": [
       "يجب تنوع إيصال المعلومه للطالب وعدم الاكتفاء بعملية قراءة المقرر دون شرح\n",
       "        Topic is: \u001b[1;36m6\u001b[0m-طريقة تدريس و تقديم المادة\n"
      ]
     },
     "metadata": {},
     "output_type": "display_data"
    },
    {
     "data": {
      "text/html": [
       "<pre style=\"white-space:pre;overflow-x:auto;line-height:normal;font-family:Menlo,'DejaVu Sans Mono',consolas,'Courier New',monospace\">يرجى تطوير المنهج وتغطية بعض المستجدات اذا أمكن وضع أعمال السنة بدلا من وضعها كاختبارات.\n",
       "        Topic is: <span style=\"color: #008080; text-decoration-color: #008080; font-weight: bold\">-1</span>-Outlier\n",
       "</pre>\n"
      ],
      "text/plain": [
       "يرجى تطوير المنهج وتغطية بعض المستجدات اذا أمكن وضع أعمال السنة بدلا من وضعها كاختبارات.\n",
       "        Topic is: \u001b[1;36m-1\u001b[0m-Outlier\n"
      ]
     },
     "metadata": {},
     "output_type": "display_data"
    },
    {
     "data": {
      "text/html": [
       "<pre style=\"white-space:pre;overflow-x:auto;line-height:normal;font-family:Menlo,'DejaVu Sans Mono',consolas,'Courier New',monospace\">يعتبر مقرر شبكات الاستشعار اللاسلكية مقرر متقدم في الشبكات.. يجب التوضيح للطلاب في بدايتهانه من لايملك خلفية جيدة \n",
       "في الشبكات فسيكون المقرر شديد الصعوبة عليه.\n",
       "        Topic is: <span style=\"color: #008080; text-decoration-color: #008080; font-weight: bold\">6</span>-طريقة تدريس و تقديم المادة\n",
       "</pre>\n"
      ],
      "text/plain": [
       "يعتبر مقرر شبكات الاستشعار اللاسلكية مقرر متقدم في الشبكات.. يجب التوضيح للطلاب في بدايتهانه من لايملك خلفية جيدة \n",
       "في الشبكات فسيكون المقرر شديد الصعوبة عليه.\n",
       "        Topic is: \u001b[1;36m6\u001b[0m-طريقة تدريس و تقديم المادة\n"
      ]
     },
     "metadata": {},
     "output_type": "display_data"
    },
    {
     "data": {
      "text/html": [
       "<pre style=\"white-space:pre;overflow-x:auto;line-height:normal;font-family:Menlo,'DejaVu Sans Mono',consolas,'Courier New',monospace\">يعزز معلوماتي لتخصصي في البكالوريوس\n",
       "        Topic is: <span style=\"color: #008080; text-decoration-color: #008080; font-weight: bold\">1</span>-دكتور المقرر\n",
       "</pre>\n"
      ],
      "text/plain": [
       "يعزز معلوماتي لتخصصي في البكالوريوس\n",
       "        Topic is: \u001b[1;36m1\u001b[0m-دكتور المقرر\n"
      ]
     },
     "metadata": {},
     "output_type": "display_data"
    },
    {
     "data": {
      "text/html": [
       "<pre style=\"white-space:pre;overflow-x:auto;line-height:normal;font-family:Menlo,'DejaVu Sans Mono',consolas,'Courier New',monospace\">يغطي المقرر أهم خوارزميات تعليم الإله, و هو احتياج أساسي للباحثين و الباحثات في قسم تقنية المعلومات\n",
       "        Topic is: <span style=\"color: #008080; text-decoration-color: #008080; font-weight: bold\">6</span>-طريقة تدريس و تقديم المادة\n",
       "</pre>\n"
      ],
      "text/plain": [
       "يغطي المقرر أهم خوارزميات تعليم الإله, و هو احتياج أساسي للباحثين و الباحثات في قسم تقنية المعلومات\n",
       "        Topic is: \u001b[1;36m6\u001b[0m-طريقة تدريس و تقديم المادة\n"
      ]
     },
     "metadata": {},
     "output_type": "display_data"
    },
    {
     "data": {
      "text/html": [
       "<pre style=\"white-space:pre;overflow-x:auto;line-height:normal;font-family:Menlo,'DejaVu Sans Mono',consolas,'Courier New',monospace\">يفضل وجود المشاريع بشكل أكثر لانها تعطينا خبره أفضل من وجود اختبارات\n",
       "        Topic is: <span style=\"color: #008080; text-decoration-color: #008080; font-weight: bold\">3</span>-موازنة الجزء العملي مع الجزء النظري\n",
       "</pre>\n"
      ],
      "text/plain": [
       "يفضل وجود المشاريع بشكل أكثر لانها تعطينا خبره أفضل من وجود اختبارات\n",
       "        Topic is: \u001b[1;36m3\u001b[0m-موازنة الجزء العملي مع الجزء النظري\n"
      ]
     },
     "metadata": {},
     "output_type": "display_data"
    },
    {
     "data": {
      "text/html": [
       "<pre style=\"white-space:pre;overflow-x:auto;line-height:normal;font-family:Menlo,'DejaVu Sans Mono',consolas,'Courier New',monospace\">يكون بالتدرج لان الماده كانت متطلباتها كبيره..\n",
       "        Topic is: <span style=\"color: #008080; text-decoration-color: #008080; font-weight: bold\">-1</span>-Outlier\n",
       "</pre>\n"
      ],
      "text/plain": [
       "يكون بالتدرج لان الماده كانت متطلباتها كبيره..\n",
       "        Topic is: \u001b[1;36m-1\u001b[0m-Outlier\n"
      ]
     },
     "metadata": {},
     "output_type": "display_data"
    },
    {
     "data": {
      "text/html": [
       "<pre style=\"white-space:pre;overflow-x:auto;line-height:normal;font-family:Menlo,'DejaVu Sans Mono',consolas,'Courier New',monospace\">يوجد غموض كبير في مقرر المادة من قبل الدكتور ففي كل مرة يتم الاستفسار لا يتم الإجابة بشكل واضح كذلك لم يرد تفصيل \n",
       "التقيم خلال أعمال السنة، مثلا كم هي الدرجة المقررة للمقالة و كم الدرجة المقررة للمناقشات ع القروب انتقادات الدكتور \n",
       "لا تحفز ع الإنجاز بل مثبطة و يشوبها الغموض\n",
       "        Topic is: <span style=\"color: #008080; text-decoration-color: #008080; font-weight: bold\">6</span>-طريقة تدريس و تقديم المادة\n",
       "</pre>\n"
      ],
      "text/plain": [
       "يوجد غموض كبير في مقرر المادة من قبل الدكتور ففي كل مرة يتم الاستفسار لا يتم الإجابة بشكل واضح كذلك لم يرد تفصيل \n",
       "التقيم خلال أعمال السنة، مثلا كم هي الدرجة المقررة للمقالة و كم الدرجة المقررة للمناقشات ع القروب انتقادات الدكتور \n",
       "لا تحفز ع الإنجاز بل مثبطة و يشوبها الغموض\n",
       "        Topic is: \u001b[1;36m6\u001b[0m-طريقة تدريس و تقديم المادة\n"
      ]
     },
     "metadata": {},
     "output_type": "display_data"
    },
    {
     "data": {
      "text/html": [
       "<pre style=\"white-space:pre;overflow-x:auto;line-height:normal;font-family:Menlo,'DejaVu Sans Mono',consolas,'Courier New',monospace\">يوفر تاسيس جيد بالنسبة للمستوى الميتدأ\n",
       "        Topic is: <span style=\"color: #008080; text-decoration-color: #008080; font-weight: bold\">0</span>-محتوى ومعلومات المقرر\n",
       "</pre>\n"
      ],
      "text/plain": [
       "يوفر تاسيس جيد بالنسبة للمستوى الميتدأ\n",
       "        Topic is: \u001b[1;36m0\u001b[0m-محتوى ومعلومات المقرر\n"
      ]
     },
     "metadata": {},
     "output_type": "display_data"
    }
   ],
   "source": [
    "for i, row in df.loc[outlier_topics_index, :].iterrows():\n",
    "    print(row['text'], f\"Topic is: {row['topic_id']}-{row['topic_name']}\", sep='\\n\\t')"
   ]
  },
  {
   "cell_type": "code",
   "execution_count": 82,
   "id": "33001559-f5d6-4ae4-a06e-70808b8cc436",
   "metadata": {
    "tags": []
   },
   "outputs": [],
   "source": [
    "save_path = '../../data/result/topics_after_reducing_4_7_topics.csv'\n",
    "df.to_csv(save_path, index=False)"
   ]
  },
  {
   "cell_type": "code",
   "execution_count": 83,
   "id": "886e6b2b-2c0a-4835-b9ad-d79811d99c9e",
   "metadata": {
    "tags": []
   },
   "outputs": [
    {
     "data": {
      "text/plain": [
       "<Axes: >"
      ]
     },
     "execution_count": 83,
     "metadata": {},
     "output_type": "execute_result"
    },
    {
     "data": {
      "image/png": "[encoded data removed]",
      "text/plain": [
       "<Figure size 640x480 with 1 Axes>"
      ]
     },
     "metadata": {},
     "output_type": "display_data"
    }
   ],
   "source": [
    "df['topic_id'].value_counts().plot(kind='bar')"
   ]
  },
  {
   "cell_type": "code",
   "execution_count": 84,
   "id": "6cac2994-2354-484d-9089-eef6269df98a",
   "metadata": {
    "tags": []
   },
   "outputs": [
    {
     "data": {
      "text/plain": [
       " 0     474\n",
       " 1     377\n",
       " 3     251\n",
       " 6     146\n",
       " 2     136\n",
       " 5      77\n",
       " 8      56\n",
       " 9      38\n",
       " 10     30\n",
       "-1      25\n",
       "Name: topic_id, dtype: int64"
      ]
     },
     "execution_count": 84,
     "metadata": {},
     "output_type": "execute_result"
    }
   ],
   "source": [
    "df['topic_id'].value_counts()"
   ]
  },
  {
   "cell_type": "code",
   "execution_count": 85,
   "id": "44dd7b91-d293-454e-8b7d-f7c44651e1e1",
   "metadata": {},
   "outputs": [
    {
     "data": {
      "text/html": [
       "<pre style=\"white-space:pre;overflow-x:auto;line-height:normal;font-family:Menlo,'DejaVu Sans Mono',consolas,'Courier New',monospace\">Final number of Outliers is: <span style=\"color: #008080; text-decoration-color: #008080; font-weight: bold\">25</span>\n",
       "</pre>\n"
      ],
      "text/plain": [
       "Final number of Outliers is: \u001b[1;36m25\u001b[0m\n"
      ]
     },
     "metadata": {},
     "output_type": "display_data"
    }
   ],
   "source": [
    "print(f'Final number of Outliers is: {len(df[df[\"topic_id\"]==-1])}')"
   ]
  },
  {
   "cell_type": "code",
   "execution_count": 86,
   "id": "7440da82-344d-4614-aad7-156dbe044459",
   "metadata": {
    "tags": []
   },
   "outputs": [
    {
     "data": {
      "text/html": [
       "<pre style=\"white-space:pre;overflow-x:auto;line-height:normal;font-family:Menlo,'DejaVu Sans Mono',consolas,'Courier New',monospace\">Model used to calculate embeddings is:\n",
       "        ===&gt; sentence-transformers/use-cmlm-multilingual &lt;===\n",
       "</pre>\n"
      ],
      "text/plain": [
       "Model used to calculate embeddings is:\n",
       "        ===> sentence-transformers/use-cmlm-multilingual <===\n"
      ]
     },
     "metadata": {},
     "output_type": "display_data"
    }
   ],
   "source": [
    "print(f'Model used to calculate embeddings is:\\n\\t===> {model_path} <===')"
   ]
  },
  {
   "cell_type": "markdown",
   "id": "a72d7726-d230-4218-a183-07ddb7dbbab2",
   "metadata": {},
   "source": [
    "########## Topics After Merging From Last Step ##########\n",
    "0 محتوى ومعلومات المقرر\n",
    "1 دكتور المقرر\n",
    "2 None\n",
    "3 موازنة الجزء العملي مع الجزء النظري \n",
    "4 = 2 before merging\n",
    "5 المتطلبات و المهام و الدرجات\n",
    "6 طريقة تدريس و تقديم المادة\n",
    "7 = 9 before merging\n",
    "8 الوقت و الجدول\n",
    "9 سوق العمل\n",
    "10 الجانب البحثي و الأوراق البحثية\n",
    "###########################################"
   ]
  },
  {
   "cell_type": "code",
   "execution_count": null,
   "id": "08fb74c2-80d9-48e5-8e3c-e32e7b766fc7",
   "metadata": {},
   "outputs": [],
   "source": []
  }
 ],
 "metadata": {
  "kernelspec": {
   "display_name": "Python 3 (ipykernel)",
   "language": "python",
   "name": "python3"
  },
  "language_info": {
   "codemirror_mode": {
    "name": "ipython",
    "version": 3
   },
   "file_extension": ".py",
   "mimetype": "text/x-python",
   "name": "python",
   "nbconvert_exporter": "python",
   "pygments_lexer": "ipython3",
   "version": "3.11.7"
  }
 },
 "nbformat": 4,
 "nbformat_minor": 5
}
