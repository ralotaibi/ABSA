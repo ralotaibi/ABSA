{
 "cells": [
  {
   "cell_type": "code",
   "execution_count": 1,
   "id": "196f4596-e65c-402e-9c8d-5df1fe3a72d7",
   "metadata": {
    "tags": []
   },
   "outputs": [],
   "source": [
    "from sklearn.model_selection import train_test_split\n",
    "import pandas as pd"
   ]
  },
  {
   "cell_type": "code",
   "execution_count": 2,
   "id": "6b25a440-856c-4d12-8e58-e09babdd6c7f",
   "metadata": {
    "tags": []
   },
   "outputs": [],
   "source": [
    "path = '../../data/result/topics_after_reducing_4_7_topics.csv'\n",
    "data = pd.read_csv(path)"
   ]
  },
  {
   "cell_type": "code",
   "execution_count": 3,
   "id": "517f4d7d-d613-4bdd-bddc-ca1109b97f39",
   "metadata": {
    "tags": []
   },
   "outputs": [
    {
     "data": {
      "text/html": [
       "<div>\n",
       "<style scoped>\n",
       "    .dataframe tbody tr th:only-of-type {\n",
       "        vertical-align: middle;\n",
       "    }\n",
       "\n",
       "    .dataframe tbody tr th {\n",
       "        vertical-align: top;\n",
       "    }\n",
       "\n",
       "    .dataframe thead th {\n",
       "        text-align: right;\n",
       "    }\n",
       "</style>\n",
       "<table border=\"1\" class=\"dataframe\">\n",
       "  <thead>\n",
       "    <tr style=\"text-align: right;\">\n",
       "      <th></th>\n",
       "      <th>column</th>\n",
       "      <th>text</th>\n",
       "      <th>topic_id</th>\n",
       "      <th>topic_name</th>\n",
       "    </tr>\n",
       "  </thead>\n",
       "  <tbody>\n",
       "    <tr>\n",
       "      <th>0</th>\n",
       "      <td>like</td>\n",
       "      <td>- dr. emad is a professional in everything (ex...</td>\n",
       "      <td>1</td>\n",
       "      <td>دكتور المقرر</td>\n",
       "    </tr>\n",
       "    <tr>\n",
       "      <th>1</th>\n",
       "      <td>improve_course</td>\n",
       "      <td>- إعطاء مشاريع صغيرة بدلا من مشروع كبير-يكون ا...</td>\n",
       "      <td>6</td>\n",
       "      <td>طريقة تدريس و تقديم المادة</td>\n",
       "    </tr>\n",
       "    <tr>\n",
       "      <th>2</th>\n",
       "      <td>improve_course</td>\n",
       "      <td>- التركيز على إعطاء الطلبة خلفية جيدة عن تعلم ...</td>\n",
       "      <td>6</td>\n",
       "      <td>طريقة تدريس و تقديم المادة</td>\n",
       "    </tr>\n",
       "    <tr>\n",
       "      <th>3</th>\n",
       "      <td>add_suggestions</td>\n",
       "      <td>- عمل منهج واضح بالنسبة للطلاب ومحدد-إيضاح طري...</td>\n",
       "      <td>6</td>\n",
       "      <td>طريقة تدريس و تقديم المادة</td>\n",
       "    </tr>\n",
       "    <tr>\n",
       "      <th>4</th>\n",
       "      <td>like</td>\n",
       "      <td>1-the verity of tools that we used and applied...</td>\n",
       "      <td>1</td>\n",
       "      <td>دكتور المقرر</td>\n",
       "    </tr>\n",
       "  </tbody>\n",
       "</table>\n",
       "</div>"
      ],
      "text/plain": [
       "            column                                               text  \\\n",
       "0             like  - dr. emad is a professional in everything (ex...   \n",
       "1   improve_course  - إعطاء مشاريع صغيرة بدلا من مشروع كبير-يكون ا...   \n",
       "2   improve_course  - التركيز على إعطاء الطلبة خلفية جيدة عن تعلم ...   \n",
       "3  add_suggestions  - عمل منهج واضح بالنسبة للطلاب ومحدد-إيضاح طري...   \n",
       "4             like  1-the verity of tools that we used and applied...   \n",
       "\n",
       "   topic_id                  topic_name  \n",
       "0         1                دكتور المقرر  \n",
       "1         6  طريقة تدريس و تقديم المادة  \n",
       "2         6  طريقة تدريس و تقديم المادة  \n",
       "3         6  طريقة تدريس و تقديم المادة  \n",
       "4         1                دكتور المقرر  "
      ]
     },
     "execution_count": 3,
     "metadata": {},
     "output_type": "execute_result"
    }
   ],
   "source": [
    "data.head()"
   ]
  },
  {
   "cell_type": "code",
   "execution_count": 4,
   "id": "b14fc60f-841c-420b-a404-a477709971d8",
   "metadata": {
    "tags": []
   },
   "outputs": [],
   "source": [
    "df = data[data['topic_id']!=-1]"
   ]
  },
  {
   "cell_type": "code",
   "execution_count": 5,
   "id": "cb523142-d645-416a-b98c-969527477da3",
   "metadata": {
    "tags": []
   },
   "outputs": [
    {
     "data": {
      "text/plain": [
       "(1610, 1585)"
      ]
     },
     "execution_count": 5,
     "metadata": {},
     "output_type": "execute_result"
    }
   ],
   "source": [
    "len(data), len(df)"
   ]
  },
  {
   "cell_type": "code",
   "execution_count": 6,
   "id": "7a3df314-0738-45fd-9ec4-fc0b9c9e4914",
   "metadata": {
    "tags": []
   },
   "outputs": [],
   "source": [
    "def add_prefix(row):\n",
    "    col_dict = {\n",
    "        'like': \"أكثر ما أعجبني:\",\n",
    "        'dislike':\"أكثر ما لم يعجبني:\",\n",
    "        'improve_course':\"اقتراحاتي للتحسين:\",\n",
    "        'add_suggestions': \"اقتراحاتي للإضافة:\"\n",
    "    }\n",
    "    \n",
    "    col_dict = {k: v.strip() + \" \" for k, v in col_dict.items()}\n",
    "    col_name = row['column']\n",
    "    \n",
    "    prefix = col_dict[col_name]\n",
    "    text = prefix + row['text']\n",
    "    \n",
    "    return text"
   ]
  },
  {
   "cell_type": "code",
   "execution_count": 7,
   "id": "228765fb-c838-4548-b1bb-948a5d51153a",
   "metadata": {
    "tags": []
   },
   "outputs": [
    {
     "name": "stderr",
     "output_type": "stream",
     "text": [
      "/tmp/ipykernel_4457/2870868182.py:1: SettingWithCopyWarning: \n",
      "A value is trying to be set on a copy of a slice from a DataFrame.\n",
      "Try using .loc[row_indexer,col_indexer] = value instead\n",
      "\n",
      "See the caveats in the documentation: https://pandas.pydata.org/pandas-docs/stable/user_guide/indexing.html#returning-a-view-versus-a-copy\n",
      "  df['text'] = df.apply(add_prefix, axis=1)\n"
     ]
    }
   ],
   "source": [
    "df['text'] = df.apply(add_prefix, axis=1)"
   ]
  },
  {
   "cell_type": "code",
   "execution_count": 8,
   "id": "d5ae23c7-a6a1-4a06-a577-f60c091bbefa",
   "metadata": {
    "tags": []
   },
   "outputs": [
    {
     "data": {
      "text/html": [
       "<div>\n",
       "<style scoped>\n",
       "    .dataframe tbody tr th:only-of-type {\n",
       "        vertical-align: middle;\n",
       "    }\n",
       "\n",
       "    .dataframe tbody tr th {\n",
       "        vertical-align: top;\n",
       "    }\n",
       "\n",
       "    .dataframe thead th {\n",
       "        text-align: right;\n",
       "    }\n",
       "</style>\n",
       "<table border=\"1\" class=\"dataframe\">\n",
       "  <thead>\n",
       "    <tr style=\"text-align: right;\">\n",
       "      <th></th>\n",
       "      <th>column</th>\n",
       "      <th>text</th>\n",
       "      <th>topic_id</th>\n",
       "      <th>topic_name</th>\n",
       "    </tr>\n",
       "  </thead>\n",
       "  <tbody>\n",
       "    <tr>\n",
       "      <th>0</th>\n",
       "      <td>like</td>\n",
       "      <td>أكثر ما أعجبني: - dr. emad is a professional i...</td>\n",
       "      <td>1</td>\n",
       "      <td>دكتور المقرر</td>\n",
       "    </tr>\n",
       "    <tr>\n",
       "      <th>1</th>\n",
       "      <td>improve_course</td>\n",
       "      <td>اقتراحاتي للتحسين: - إعطاء مشاريع صغيرة بدلا م...</td>\n",
       "      <td>6</td>\n",
       "      <td>طريقة تدريس و تقديم المادة</td>\n",
       "    </tr>\n",
       "    <tr>\n",
       "      <th>2</th>\n",
       "      <td>improve_course</td>\n",
       "      <td>اقتراحاتي للتحسين: - التركيز على إعطاء الطلبة ...</td>\n",
       "      <td>6</td>\n",
       "      <td>طريقة تدريس و تقديم المادة</td>\n",
       "    </tr>\n",
       "    <tr>\n",
       "      <th>3</th>\n",
       "      <td>add_suggestions</td>\n",
       "      <td>اقتراحاتي للإضافة: - عمل منهج واضح بالنسبة للط...</td>\n",
       "      <td>6</td>\n",
       "      <td>طريقة تدريس و تقديم المادة</td>\n",
       "    </tr>\n",
       "    <tr>\n",
       "      <th>4</th>\n",
       "      <td>like</td>\n",
       "      <td>أكثر ما أعجبني: 1-the verity of tools that we ...</td>\n",
       "      <td>1</td>\n",
       "      <td>دكتور المقرر</td>\n",
       "    </tr>\n",
       "  </tbody>\n",
       "</table>\n",
       "</div>"
      ],
      "text/plain": [
       "            column                                               text  \\\n",
       "0             like  أكثر ما أعجبني: - dr. emad is a professional i...   \n",
       "1   improve_course  اقتراحاتي للتحسين: - إعطاء مشاريع صغيرة بدلا م...   \n",
       "2   improve_course  اقتراحاتي للتحسين: - التركيز على إعطاء الطلبة ...   \n",
       "3  add_suggestions  اقتراحاتي للإضافة: - عمل منهج واضح بالنسبة للط...   \n",
       "4             like  أكثر ما أعجبني: 1-the verity of tools that we ...   \n",
       "\n",
       "   topic_id                  topic_name  \n",
       "0         1                دكتور المقرر  \n",
       "1         6  طريقة تدريس و تقديم المادة  \n",
       "2         6  طريقة تدريس و تقديم المادة  \n",
       "3         6  طريقة تدريس و تقديم المادة  \n",
       "4         1                دكتور المقرر  "
      ]
     },
     "execution_count": 8,
     "metadata": {},
     "output_type": "execute_result"
    }
   ],
   "source": [
    "df.head()"
   ]
  },
  {
   "cell_type": "code",
   "execution_count": 9,
   "id": "7f502fdf-95ce-4707-be12-3e8ae1f78511",
   "metadata": {
    "tags": []
   },
   "outputs": [],
   "source": [
    "random_state = 42"
   ]
  },
  {
   "cell_type": "code",
   "execution_count": 10,
   "id": "70e696f0-7321-45c4-8eaa-14989de8ece5",
   "metadata": {},
   "outputs": [],
   "source": [
    "test_size = 0.4\n",
    "\n",
    "train_df, val_test_df = train_test_split(df, test_size=test_size, stratify=df['topic_id'], \n",
    "                                         random_state=random_state, shuffle=True)"
   ]
  },
  {
   "cell_type": "code",
   "execution_count": 11,
   "id": "04455691-682c-40c7-9a94-15783a87a491",
   "metadata": {
    "tags": []
   },
   "outputs": [
    {
     "data": {
      "text/plain": [
       "(951, 634)"
      ]
     },
     "execution_count": 11,
     "metadata": {},
     "output_type": "execute_result"
    }
   ],
   "source": [
    "len(train_df), len(val_test_df)"
   ]
  },
  {
   "cell_type": "code",
   "execution_count": 12,
   "id": "f7140c50-1d8e-459e-8f1a-8edfcbdc91c6",
   "metadata": {
    "tags": []
   },
   "outputs": [
    {
     "data": {
      "text/plain": [
       "<Axes: >"
      ]
     },
     "execution_count": 12,
     "metadata": {},
     "output_type": "execute_result"
    },
    {
     "data": {
      "image/png": "[encoded data removed]",
      "text/plain": [
       "<Figure size 640x480 with 1 Axes>"
      ]
     },
     "metadata": {},
     "output_type": "display_data"
    }
   ],
   "source": [
    "(train_df.topic_id.value_counts()/len(train_df)).plot(kind='bar')"
   ]
  },
  {
   "cell_type": "code",
   "execution_count": 13,
   "id": "0a53217e-f147-45d9-8014-2e705f1b998e",
   "metadata": {
    "tags": []
   },
   "outputs": [
    {
     "data": {
      "text/plain": [
       "<Axes: >"
      ]
     },
     "execution_count": 13,
     "metadata": {},
     "output_type": "execute_result"
    },
    {
     "data": {
      "image/png": "[encoded data removed]",
      "text/plain": [
       "<Figure size 640x480 with 1 Axes>"
      ]
     },
     "metadata": {},
     "output_type": "display_data"
    }
   ],
   "source": [
    "(val_test_df.topic_id.value_counts()/len(val_test_df)).plot(kind='bar')"
   ]
  },
  {
   "cell_type": "code",
   "execution_count": 14,
   "id": "0215efe4-d574-4dae-a86f-7098c68b3257",
   "metadata": {
    "tags": []
   },
   "outputs": [
    {
     "data": {
      "text/html": [
       "<div>\n",
       "<style scoped>\n",
       "    .dataframe tbody tr th:only-of-type {\n",
       "        vertical-align: middle;\n",
       "    }\n",
       "\n",
       "    .dataframe tbody tr th {\n",
       "        vertical-align: top;\n",
       "    }\n",
       "\n",
       "    .dataframe thead th {\n",
       "        text-align: right;\n",
       "    }\n",
       "</style>\n",
       "<table border=\"1\" class=\"dataframe\">\n",
       "  <thead>\n",
       "    <tr style=\"text-align: right;\">\n",
       "      <th></th>\n",
       "      <th>column</th>\n",
       "      <th>text</th>\n",
       "      <th>topic_id</th>\n",
       "      <th>topic_name</th>\n",
       "    </tr>\n",
       "  </thead>\n",
       "  <tbody>\n",
       "    <tr>\n",
       "      <th>475</th>\n",
       "      <td>like</td>\n",
       "      <td>أكثر ما أعجبني: التطبيق العملي المحدث والمشابه...</td>\n",
       "      <td>3</td>\n",
       "      <td>موازنة الجزء العملي مع الجزء النظري</td>\n",
       "    </tr>\n",
       "    <tr>\n",
       "      <th>496</th>\n",
       "      <td>improve_course</td>\n",
       "      <td>اقتراحاتي للتحسين: التطبيق والبعد عن التدريس ا...</td>\n",
       "      <td>3</td>\n",
       "      <td>موازنة الجزء العملي مع الجزء النظري</td>\n",
       "    </tr>\n",
       "    <tr>\n",
       "      <th>162</th>\n",
       "      <td>like</td>\n",
       "      <td>أكثر ما أعجبني: the content</td>\n",
       "      <td>0</td>\n",
       "      <td>محتوى ومعلومات المقرر</td>\n",
       "    </tr>\n",
       "    <tr>\n",
       "      <th>142</th>\n",
       "      <td>improve_course</td>\n",
       "      <td>اقتراحاتي للتحسين: provide more new books</td>\n",
       "      <td>3</td>\n",
       "      <td>موازنة الجزء العملي مع الجزء النظري</td>\n",
       "    </tr>\n",
       "    <tr>\n",
       "      <th>1137</th>\n",
       "      <td>improve_course</td>\n",
       "      <td>اقتراحاتي للتحسين: زيادة ساعات العملي</td>\n",
       "      <td>8</td>\n",
       "      <td>الوقت و الجدول</td>\n",
       "    </tr>\n",
       "  </tbody>\n",
       "</table>\n",
       "</div>"
      ],
      "text/plain": [
       "              column                                               text  \\\n",
       "475             like  أكثر ما أعجبني: التطبيق العملي المحدث والمشابه...   \n",
       "496   improve_course  اقتراحاتي للتحسين: التطبيق والبعد عن التدريس ا...   \n",
       "162             like                        أكثر ما أعجبني: the content   \n",
       "142   improve_course          اقتراحاتي للتحسين: provide more new books   \n",
       "1137  improve_course              اقتراحاتي للتحسين: زيادة ساعات العملي   \n",
       "\n",
       "      topic_id                           topic_name  \n",
       "475          3  موازنة الجزء العملي مع الجزء النظري  \n",
       "496          3  موازنة الجزء العملي مع الجزء النظري  \n",
       "162          0                محتوى ومعلومات المقرر  \n",
       "142          3  موازنة الجزء العملي مع الجزء النظري  \n",
       "1137         8                       الوقت و الجدول  "
      ]
     },
     "execution_count": 14,
     "metadata": {},
     "output_type": "execute_result"
    }
   ],
   "source": [
    "train_df.head()"
   ]
  },
  {
   "cell_type": "code",
   "execution_count": 15,
   "id": "63fb42cf-090a-44a1-85de-34ffbed7586c",
   "metadata": {
    "tags": []
   },
   "outputs": [
    {
     "data": {
      "text/html": [
       "<div>\n",
       "<style scoped>\n",
       "    .dataframe tbody tr th:only-of-type {\n",
       "        vertical-align: middle;\n",
       "    }\n",
       "\n",
       "    .dataframe tbody tr th {\n",
       "        vertical-align: top;\n",
       "    }\n",
       "\n",
       "    .dataframe thead th {\n",
       "        text-align: right;\n",
       "    }\n",
       "</style>\n",
       "<table border=\"1\" class=\"dataframe\">\n",
       "  <thead>\n",
       "    <tr style=\"text-align: right;\">\n",
       "      <th></th>\n",
       "      <th>column</th>\n",
       "      <th>text</th>\n",
       "      <th>topic_id</th>\n",
       "      <th>topic_name</th>\n",
       "    </tr>\n",
       "  </thead>\n",
       "  <tbody>\n",
       "    <tr>\n",
       "      <th>686</th>\n",
       "      <td>like</td>\n",
       "      <td>أكثر ما أعجبني: المقرر ساعدني جدا في فهم نظام ...</td>\n",
       "      <td>1</td>\n",
       "      <td>دكتور المقرر</td>\n",
       "    </tr>\n",
       "    <tr>\n",
       "      <th>699</th>\n",
       "      <td>dislike</td>\n",
       "      <td>أكثر ما لم يعجبني: المقرر يحتوي على مواضيع ساب...</td>\n",
       "      <td>6</td>\n",
       "      <td>طريقة تدريس و تقديم المادة</td>\n",
       "    </tr>\n",
       "    <tr>\n",
       "      <th>286</th>\n",
       "      <td>dislike</td>\n",
       "      <td>أكثر ما لم يعجبني: أسلوب شرح المقرر</td>\n",
       "      <td>5</td>\n",
       "      <td>المتطلبات و المهام و الدرجات</td>\n",
       "    </tr>\n",
       "    <tr>\n",
       "      <th>51</th>\n",
       "      <td>add_suggestions</td>\n",
       "      <td>اقتراحاتي للإضافة: everything is spectacular a...</td>\n",
       "      <td>2</td>\n",
       "      <td>None</td>\n",
       "    </tr>\n",
       "    <tr>\n",
       "      <th>1482</th>\n",
       "      <td>like</td>\n",
       "      <td>أكثر ما أعجبني: معلمة المادة متمكنة وتستجيب عل...</td>\n",
       "      <td>1</td>\n",
       "      <td>دكتور المقرر</td>\n",
       "    </tr>\n",
       "  </tbody>\n",
       "</table>\n",
       "</div>"
      ],
      "text/plain": [
       "               column                                               text  \\\n",
       "686              like  أكثر ما أعجبني: المقرر ساعدني جدا في فهم نظام ...   \n",
       "699           dislike  أكثر ما لم يعجبني: المقرر يحتوي على مواضيع ساب...   \n",
       "286           dislike                أكثر ما لم يعجبني: أسلوب شرح المقرر   \n",
       "51    add_suggestions  اقتراحاتي للإضافة: everything is spectacular a...   \n",
       "1482             like  أكثر ما أعجبني: معلمة المادة متمكنة وتستجيب عل...   \n",
       "\n",
       "      topic_id                    topic_name  \n",
       "686          1                  دكتور المقرر  \n",
       "699          6    طريقة تدريس و تقديم المادة  \n",
       "286          5  المتطلبات و المهام و الدرجات  \n",
       "51           2                          None  \n",
       "1482         1                  دكتور المقرر  "
      ]
     },
     "execution_count": 15,
     "metadata": {},
     "output_type": "execute_result"
    }
   ],
   "source": [
    "val_test_df.head()"
   ]
  },
  {
   "cell_type": "code",
   "execution_count": 16,
   "id": "144b9ff4-a591-4bf8-b945-7bb94ff5e79c",
   "metadata": {
    "tags": []
   },
   "outputs": [],
   "source": [
    "train_df.to_csv('../../data/result/train_df.csv', index=False)\n",
    "val_test_df.to_csv('../../data/result/test_df.csv', index=False)"
   ]
  },
  {
   "cell_type": "code",
   "execution_count": 17,
   "id": "a32d94d1-994f-4bc5-a227-978438be00f8",
   "metadata": {},
   "outputs": [
    {
     "data": {
      "text/plain": [
       "like               769\n",
       "add_suggestions    292\n",
       "dislike            272\n",
       "improve_course     252\n",
       "Name: column, dtype: int64"
      ]
     },
     "execution_count": 17,
     "metadata": {},
     "output_type": "execute_result"
    }
   ],
   "source": [
    "df.column.value_counts()"
   ]
  },
  {
   "cell_type": "code",
   "execution_count": 18,
   "id": "b620b9df-b846-4123-8b47-7a60b52b18fc",
   "metadata": {
    "tags": []
   },
   "outputs": [
    {
     "data": {
      "text/plain": [
       "like               452\n",
       "dislike            174\n",
       "improve_course     163\n",
       "add_suggestions    162\n",
       "Name: column, dtype: int64"
      ]
     },
     "execution_count": 18,
     "metadata": {},
     "output_type": "execute_result"
    }
   ],
   "source": [
    "train_df.column.value_counts()"
   ]
  },
  {
   "cell_type": "code",
   "execution_count": 19,
   "id": "54d3739c-f4e9-46d1-b7c7-f62b247f207b",
   "metadata": {
    "tags": []
   },
   "outputs": [
    {
     "data": {
      "text/plain": [
       "like               317\n",
       "add_suggestions    130\n",
       "dislike             98\n",
       "improve_course      89\n",
       "Name: column, dtype: int64"
      ]
     },
     "execution_count": 19,
     "metadata": {},
     "output_type": "execute_result"
    }
   ],
   "source": [
    "val_test_df.column.value_counts()"
   ]
  },
  {
   "cell_type": "code",
   "execution_count": 20,
   "id": "4a93262a-5dca-499e-bc5d-b1b7207414ac",
   "metadata": {
    "tags": []
   },
   "outputs": [
    {
     "data": {
      "text/plain": [
       "634"
      ]
     },
     "execution_count": 20,
     "metadata": {},
     "output_type": "execute_result"
    }
   ],
   "source": [
    "len(val_test_df)"
   ]
  },
  {
   "cell_type": "code",
   "execution_count": null,
   "id": "21ee67f7-1d45-4016-b343-a6c6a5c1d92c",
   "metadata": {},
   "outputs": [],
   "source": []
  }
 ],
 "metadata": {
  "kernelspec": {
   "display_name": "Python 3 (ipykernel)",
   "language": "python",
   "name": "python3"
  },
  "language_info": {
   "codemirror_mode": {
    "name": "ipython",
    "version": 3
   },
   "file_extension": ".py",
   "mimetype": "text/x-python",
   "name": "python",
   "nbconvert_exporter": "python",
   "pygments_lexer": "ipython3",
   "version": "3.11.7"
  }
 },
 "nbformat": 4,
 "nbformat_minor": 5
}
