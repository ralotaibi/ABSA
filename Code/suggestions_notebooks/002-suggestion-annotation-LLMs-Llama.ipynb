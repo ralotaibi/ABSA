{
 "cells": [
  {
   "cell_type": "markdown",
   "id": "5b4ba317-25ce-4ba7-b313-36361c550f6a",
   "metadata": {},
   "source": [
    "### In this notebook we use LLama 3 70B and gpt4o for annotation"
   ]
  },
  {
   "cell_type": "code",
   "execution_count": 1,
   "id": "20274818-1e65-49e1-a417-116dcfc2b537",
   "metadata": {
    "tags": []
   },
   "outputs": [],
   "source": [
    "from rich import print\n",
    "import json\n",
    "from tqdm import tqdm\n",
    "from dotenv import load_dotenv, find_dotenv\n",
    "import os\n",
    "from openai import OpenAI\n",
    "import pandas as pd\n",
    "from tqdm import tqdm"
   ]
  },
  {
   "cell_type": "code",
   "execution_count": 2,
   "id": "def3e58f-c41d-4248-b8e4-645d636ad979",
   "metadata": {
    "tags": []
   },
   "outputs": [],
   "source": [
    "_ = load_dotenv(find_dotenv())\n",
    "api_key = os.environ['OPENAI_API_KEY']\n",
    "# base_url = 'https://api.endpoints.anyscale.com/v1'\n",
    "# base_url = 'https://api.aimlapi.com'\n",
    "base_url = 'https://integrate.api.nvidia.com/v1'\n",
    "# base_url = os.environ['OPENAI_BASE_URL']\n",
    "client = OpenAI(base_url=base_url)"
   ]
  },
  {
   "cell_type": "code",
   "execution_count": 3,
   "id": "03d002c3-36b9-4c9f-950c-5ae16365ab44",
   "metadata": {
    "tags": []
   },
   "outputs": [
    {
     "data": {
      "text/plain": [
       "'/notebooks/ABSA-for-Open-Ended-Qs-in-Education-Surveys/notebooks/suggestions_notebooks'"
      ]
     },
     "execution_count": 3,
     "metadata": {},
     "output_type": "execute_result"
    }
   ],
   "source": [
    "pwd"
   ]
  },
  {
   "cell_type": "code",
   "execution_count": 4,
   "id": "05330e9b-d272-4c66-b9d0-978129843a11",
   "metadata": {
    "tags": []
   },
   "outputs": [],
   "source": [
    "example1 = \"المحتوى أكثر من رائع\""
   ]
  },
  {
   "cell_type": "code",
   "execution_count": 5,
   "id": "24e6b322-5c47-4aeb-95de-16038aeacb43",
   "metadata": {
    "tags": []
   },
   "outputs": [],
   "source": [
    "system_message = \"\"\"\n",
    "You are a helpful assistant designed for data annotation.\n",
    "\"\"\""
   ]
  },
  {
   "cell_type": "code",
   "execution_count": 6,
   "id": "a3b3f187-ded0-4191-a05d-145201e0b6a0",
   "metadata": {
    "tags": []
   },
   "outputs": [],
   "source": [
    "user_template = \"\"\"\n",
    "I am a data scientist working on a classification problem. The dataset includes responses to open-ended questions from a university survey about education.\n",
    "\n",
    "Your task is to assign a label to the example I provide.\n",
    "\n",
    "The possible labels are:\n",
    "\n",
    "    1. \"needs to be added\": when the example suggests adding something that is currently missing.\n",
    "    2. \"needs enhancements\": when the example mentions something that exists but in low quality, suggesting improvements.\n",
    "    3. \"needs to be removed\": when the example refers to something existing but suggests its removal.\n",
    "    4. \"none\": otherwise.\n",
    "\n",
    "Here is the example:\n",
    "\n",
    "{}\n",
    "\n",
    "Please provide only the label as the output.\n",
    "output:\n",
    "\"\"\""
   ]
  },
  {
   "cell_type": "code",
   "execution_count": 7,
   "id": "9eadf9de-615d-4103-8efc-45aa27181e41",
   "metadata": {
    "tags": []
   },
   "outputs": [],
   "source": [
    "def format_user_message(template, text):\n",
    "    return template.format(text)\n"
   ]
  },
  {
   "cell_type": "code",
   "execution_count": 8,
   "id": "fdd7a40c-e0fe-4350-8048-0865bc510ed1",
   "metadata": {
    "tags": []
   },
   "outputs": [],
   "source": [
    "def format_one_example(review):\n",
    "    return {\n",
    "        \"messages\": [\n",
    "            {\n",
    "                \"role\": \"system\",\n",
    "                \"content\": system_message\n",
    "            },\n",
    "            {\n",
    "                \"role\": \"user\",\n",
    "                \"content\": format_user_message(user_template, review)\n",
    "            }\n",
    "        ]\n",
    "    }"
   ]
  },
  {
   "cell_type": "code",
   "execution_count": 9,
   "id": "1ddf2a75-c8f8-4275-bf8e-bb26c0ddfb99",
   "metadata": {
    "tags": []
   },
   "outputs": [
    {
     "data": {
      "text/html": [
       "<pre style=\"white-space:pre;overflow-x:auto;line-height:normal;font-family:Menlo,'DejaVu Sans Mono',consolas,'Courier New',monospace\">\n",
       "I am a data scientist working on a classification problem. The dataset includes responses to open-ended questions \n",
       "from a university survey about education.\n",
       "\n",
       "Your task is to assign a label to the example I provide.\n",
       "\n",
       "The possible labels are:\n",
       "\n",
       "    <span style=\"color: #008080; text-decoration-color: #008080; font-weight: bold\">1</span>. <span style=\"color: #008000; text-decoration-color: #008000\">\"needs to be added\"</span>: when the example suggests adding something that is currently missing.\n",
       "    <span style=\"color: #008080; text-decoration-color: #008080; font-weight: bold\">2</span>. <span style=\"color: #008000; text-decoration-color: #008000\">\"needs enhancements\"</span>: when the example mentions something that exists but in low quality, suggesting \n",
       "improvements.\n",
       "    <span style=\"color: #008080; text-decoration-color: #008080; font-weight: bold\">3</span>. <span style=\"color: #008000; text-decoration-color: #008000\">\"needs to be removed\"</span>: when the example refers to something existing but suggests its removal.\n",
       "    <span style=\"color: #008080; text-decoration-color: #008080; font-weight: bold\">4</span>. <span style=\"color: #008000; text-decoration-color: #008000\">\"none\"</span>: otherwise.\n",
       "\n",
       "Here is the example:\n",
       "\n",
       "المحتوى أكثر من رائع\n",
       "\n",
       "Please provide only the label as the output.\n",
       "output:\n",
       "\n",
       "</pre>\n"
      ],
      "text/plain": [
       "\n",
       "I am a data scientist working on a classification problem. The dataset includes responses to open-ended questions \n",
       "from a university survey about education.\n",
       "\n",
       "Your task is to assign a label to the example I provide.\n",
       "\n",
       "The possible labels are:\n",
       "\n",
       "    \u001b[1;36m1\u001b[0m. \u001b[32m\"needs to be added\"\u001b[0m: when the example suggests adding something that is currently missing.\n",
       "    \u001b[1;36m2\u001b[0m. \u001b[32m\"needs enhancements\"\u001b[0m: when the example mentions something that exists but in low quality, suggesting \n",
       "improvements.\n",
       "    \u001b[1;36m3\u001b[0m. \u001b[32m\"needs to be removed\"\u001b[0m: when the example refers to something existing but suggests its removal.\n",
       "    \u001b[1;36m4\u001b[0m. \u001b[32m\"none\"\u001b[0m: otherwise.\n",
       "\n",
       "Here is the example:\n",
       "\n",
       "المحتوى أكثر من رائع\n",
       "\n",
       "Please provide only the label as the output.\n",
       "output:\n",
       "\n"
      ]
     },
     "metadata": {},
     "output_type": "display_data"
    }
   ],
   "source": [
    "print(format_one_example(example1)['messages'][1]['content'])"
   ]
  },
  {
   "cell_type": "code",
   "execution_count": 10,
   "id": "b48847b7-dca0-45a5-8d2c-a26100516a97",
   "metadata": {
    "tags": []
   },
   "outputs": [],
   "source": [
    "# model_name = 'meta-llama/Meta-Llama-3-70B-Instruct'\n",
    "# model_name = 'meta-llama/Meta-Llama-3-70B-Instruct'\n",
    "# model_name = 'meta-llama/Meta-Llama-3.1-70B-Instruct-Turbo'\n",
    "# model_name = 'llama3-70b'\n",
    "# model_name = 'gpt-4o'\n",
    "model_name = 'meta/llama3-70b-instruct'\n",
    "def get_completion(review, model_name):\n",
    "    completion = client.chat.completions.create(\n",
    "        model=model_name,\n",
    "        temperature=0,\n",
    "        messages=format_one_example(review)['messages']\n",
    "    )\n",
    "    \n",
    "    return completion.choices[0].message.content"
   ]
  },
  {
   "cell_type": "code",
   "execution_count": 11,
   "id": "338c81e9-7aa0-4673-894b-0c072bed597f",
   "metadata": {
    "tags": []
   },
   "outputs": [],
   "source": [
    "def predict_gpt(item, model_name=model_name):\n",
    "    label = get_completion(item, model_name)\n",
    "    # result = json.loads(completion)\n",
    "    # pred_labels = [result.get(token, 'O') for token in item['tokens']]\n",
    "    # pred_labels = [v for k, v in result.items()]\n",
    "    # organizations = result['Organizations']\n",
    "    return label"
   ]
  },
  {
   "cell_type": "code",
   "execution_count": 12,
   "id": "4378114d-338a-4d21-82c1-d5c12b3acb7e",
   "metadata": {
    "tags": []
   },
   "outputs": [],
   "source": [
    "example1 = \"المحتوى أكثر من رائع\""
   ]
  },
  {
   "cell_type": "code",
   "execution_count": 13,
   "id": "09919ccf-8a9f-4c71-86bd-1bfece285a43",
   "metadata": {
    "tags": []
   },
   "outputs": [
    {
     "data": {
      "text/plain": [
       "'none'"
      ]
     },
     "execution_count": 13,
     "metadata": {},
     "output_type": "execute_result"
    }
   ],
   "source": [
    "predict_gpt(example1)"
   ]
  },
  {
   "cell_type": "code",
   "execution_count": 14,
   "id": "69f42510-908d-438b-bd49-16ae52c2ec34",
   "metadata": {
    "tags": []
   },
   "outputs": [],
   "source": [
    "train_data_path = '../../data/result/suggestions_train.csv'\n",
    "test_data_path = '../../data/result/suggestions_test.csv'\n",
    "train_data = pd.read_csv(train_data_path)\n",
    "test_data = pd.read_csv(test_data_path)"
   ]
  },
  {
   "cell_type": "code",
   "execution_count": 15,
   "id": "4e87427f-f53c-43f5-bb2a-0cb358969b16",
   "metadata": {
    "tags": []
   },
   "outputs": [
    {
     "data": {
      "text/html": [
       "<div>\n",
       "<style scoped>\n",
       "    .dataframe tbody tr th:only-of-type {\n",
       "        vertical-align: middle;\n",
       "    }\n",
       "\n",
       "    .dataframe tbody tr th {\n",
       "        vertical-align: top;\n",
       "    }\n",
       "\n",
       "    .dataframe thead th {\n",
       "        text-align: right;\n",
       "    }\n",
       "</style>\n",
       "<table border=\"1\" class=\"dataframe\">\n",
       "  <thead>\n",
       "    <tr style=\"text-align: right;\">\n",
       "      <th></th>\n",
       "      <th>column</th>\n",
       "      <th>text</th>\n",
       "      <th>topic_id</th>\n",
       "      <th>topic_name</th>\n",
       "    </tr>\n",
       "  </thead>\n",
       "  <tbody>\n",
       "    <tr>\n",
       "      <th>0</th>\n",
       "      <td>add_suggestions</td>\n",
       "      <td>اقتراحاتي للإضافة: everything is spectacular a...</td>\n",
       "      <td>2</td>\n",
       "      <td>None</td>\n",
       "    </tr>\n",
       "    <tr>\n",
       "      <th>1</th>\n",
       "      <td>add_suggestions</td>\n",
       "      <td>اقتراحاتي للإضافة: thank you for everything</td>\n",
       "      <td>2</td>\n",
       "      <td>None</td>\n",
       "    </tr>\n",
       "    <tr>\n",
       "      <th>2</th>\n",
       "      <td>add_suggestions</td>\n",
       "      <td>اقتراحاتي للإضافة: أتمنى ان يتم تطبيقها بشكل فعال</td>\n",
       "      <td>3</td>\n",
       "      <td>موازنة الجزء العملي مع الجزء النظري</td>\n",
       "    </tr>\n",
       "    <tr>\n",
       "      <th>3</th>\n",
       "      <td>add_suggestions</td>\n",
       "      <td>اقتراحاتي للإضافة: ان يتم طليق العملي بشكل مكثف</td>\n",
       "      <td>3</td>\n",
       "      <td>موازنة الجزء العملي مع الجزء النظري</td>\n",
       "    </tr>\n",
       "    <tr>\n",
       "      <th>4</th>\n",
       "      <td>add_suggestions</td>\n",
       "      <td>اقتراحاتي للإضافة: change the contents all</td>\n",
       "      <td>0</td>\n",
       "      <td>محتوى ومعلومات المقرر</td>\n",
       "    </tr>\n",
       "  </tbody>\n",
       "</table>\n",
       "</div>"
      ],
      "text/plain": [
       "            column                                               text  \\\n",
       "0  add_suggestions  اقتراحاتي للإضافة: everything is spectacular a...   \n",
       "1  add_suggestions        اقتراحاتي للإضافة: thank you for everything   \n",
       "2  add_suggestions  اقتراحاتي للإضافة: أتمنى ان يتم تطبيقها بشكل فعال   \n",
       "3  add_suggestions    اقتراحاتي للإضافة: ان يتم طليق العملي بشكل مكثف   \n",
       "4  add_suggestions         اقتراحاتي للإضافة: change the contents all   \n",
       "\n",
       "   topic_id                           topic_name  \n",
       "0         2                                 None  \n",
       "1         2                                 None  \n",
       "2         3  موازنة الجزء العملي مع الجزء النظري  \n",
       "3         3  موازنة الجزء العملي مع الجزء النظري  \n",
       "4         0                محتوى ومعلومات المقرر  "
      ]
     },
     "execution_count": 15,
     "metadata": {},
     "output_type": "execute_result"
    }
   ],
   "source": [
    "test_data.head()"
   ]
  },
  {
   "cell_type": "code",
   "execution_count": 16,
   "id": "dd00b080-b459-45c5-ab8c-b06f36ed35c9",
   "metadata": {
    "tags": []
   },
   "outputs": [
    {
     "data": {
      "text/html": [
       "<pre style=\"white-space:pre;overflow-x:auto;line-height:normal;font-family:Menlo,'DejaVu Sans Mono',consolas,'Courier New',monospace\">Annotate test data<span style=\"color: #808000; text-decoration-color: #808000\">...</span>\n",
       "</pre>\n"
      ],
      "text/plain": [
       "Annotate test data\u001b[33m...\u001b[0m\n"
      ]
     },
     "metadata": {},
     "output_type": "display_data"
    },
    {
     "name": "stderr",
     "output_type": "stream",
     "text": [
      "100%|██████████| 219/219 [00:35<00:00,  6.14it/s]\n"
     ]
    }
   ],
   "source": [
    "tqdm.pandas()\n",
    "\n",
    "# print('Annotate train data...')\n",
    "# train_data['suggestion_label'] = train_data['text'].progress_apply(predict_gpt)\n",
    "print('Annotate test data...')\n",
    "test_data['suggestion_label'] = test_data['text'].progress_apply(predict_gpt)"
   ]
  },
  {
   "cell_type": "code",
   "execution_count": 17,
   "id": "25ceb1e6-29d7-4e83-b20e-7aa841defff0",
   "metadata": {
    "tags": []
   },
   "outputs": [],
   "source": [
    "# for e in train_data['text'].sample(50):\n",
    "#     # print(e)\n",
    "#     print('topic:\\n', predict_gpt(e))\n",
    "#     print('----'*25)\n",
    "    "
   ]
  },
  {
   "cell_type": "code",
   "execution_count": 18,
   "id": "f0aed83f-2a50-47a2-a99c-dbe09ca84452",
   "metadata": {
    "tags": []
   },
   "outputs": [],
   "source": [
    "# train_data['sentiment'] = train_data['sentiment'].progress_apply(str.capitalize)\n",
    "# test_data['sentiment'] = test_data['sentiment'].progress_apply(str.capitalize)"
   ]
  },
  {
   "cell_type": "code",
   "execution_count": 19,
   "id": "9a5d8b1d-6a94-4cfc-b0e6-f8e9d65519bc",
   "metadata": {
    "tags": []
   },
   "outputs": [
    {
     "data": {
      "text/html": [
       "<div>\n",
       "<style scoped>\n",
       "    .dataframe tbody tr th:only-of-type {\n",
       "        vertical-align: middle;\n",
       "    }\n",
       "\n",
       "    .dataframe tbody tr th {\n",
       "        vertical-align: top;\n",
       "    }\n",
       "\n",
       "    .dataframe thead th {\n",
       "        text-align: right;\n",
       "    }\n",
       "</style>\n",
       "<table border=\"1\" class=\"dataframe\">\n",
       "  <thead>\n",
       "    <tr style=\"text-align: right;\">\n",
       "      <th></th>\n",
       "      <th>column</th>\n",
       "      <th>text</th>\n",
       "      <th>topic_id</th>\n",
       "      <th>topic_name</th>\n",
       "      <th>suggestion_label</th>\n",
       "    </tr>\n",
       "  </thead>\n",
       "  <tbody>\n",
       "    <tr>\n",
       "      <th>0</th>\n",
       "      <td>add_suggestions</td>\n",
       "      <td>اقتراحاتي للإضافة: everything is spectacular a...</td>\n",
       "      <td>2</td>\n",
       "      <td>None</td>\n",
       "      <td>1</td>\n",
       "    </tr>\n",
       "    <tr>\n",
       "      <th>1</th>\n",
       "      <td>add_suggestions</td>\n",
       "      <td>اقتراحاتي للإضافة: thank you for everything</td>\n",
       "      <td>2</td>\n",
       "      <td>None</td>\n",
       "      <td>1</td>\n",
       "    </tr>\n",
       "    <tr>\n",
       "      <th>2</th>\n",
       "      <td>add_suggestions</td>\n",
       "      <td>اقتراحاتي للإضافة: أتمنى ان يتم تطبيقها بشكل فعال</td>\n",
       "      <td>3</td>\n",
       "      <td>موازنة الجزء العملي مع الجزء النظري</td>\n",
       "      <td>1</td>\n",
       "    </tr>\n",
       "    <tr>\n",
       "      <th>3</th>\n",
       "      <td>add_suggestions</td>\n",
       "      <td>اقتراحاتي للإضافة: ان يتم طليق العملي بشكل مكثف</td>\n",
       "      <td>3</td>\n",
       "      <td>موازنة الجزء العملي مع الجزء النظري</td>\n",
       "      <td>1</td>\n",
       "    </tr>\n",
       "    <tr>\n",
       "      <th>4</th>\n",
       "      <td>add_suggestions</td>\n",
       "      <td>اقتراحاتي للإضافة: change the contents all</td>\n",
       "      <td>0</td>\n",
       "      <td>محتوى ومعلومات المقرر</td>\n",
       "      <td>1</td>\n",
       "    </tr>\n",
       "  </tbody>\n",
       "</table>\n",
       "</div>"
      ],
      "text/plain": [
       "            column                                               text  \\\n",
       "0  add_suggestions  اقتراحاتي للإضافة: everything is spectacular a...   \n",
       "1  add_suggestions        اقتراحاتي للإضافة: thank you for everything   \n",
       "2  add_suggestions  اقتراحاتي للإضافة: أتمنى ان يتم تطبيقها بشكل فعال   \n",
       "3  add_suggestions    اقتراحاتي للإضافة: ان يتم طليق العملي بشكل مكثف   \n",
       "4  add_suggestions         اقتراحاتي للإضافة: change the contents all   \n",
       "\n",
       "   topic_id                           topic_name suggestion_label  \n",
       "0         2                                 None                1  \n",
       "1         2                                 None                1  \n",
       "2         3  موازنة الجزء العملي مع الجزء النظري                1  \n",
       "3         3  موازنة الجزء العملي مع الجزء النظري                1  \n",
       "4         0                محتوى ومعلومات المقرر                1  "
      ]
     },
     "execution_count": 19,
     "metadata": {},
     "output_type": "execute_result"
    }
   ],
   "source": [
    "test_data.head()"
   ]
  },
  {
   "cell_type": "code",
   "execution_count": 20,
   "id": "154165dd-3702-4735-a5ab-da09a8a99a0a",
   "metadata": {
    "tags": []
   },
   "outputs": [
    {
     "data": {
      "text/plain": [
       "5"
      ]
     },
     "execution_count": 20,
     "metadata": {},
     "output_type": "execute_result"
    }
   ],
   "source": [
    "len(test_data['suggestion_label'].value_counts().index)"
   ]
  },
  {
   "cell_type": "code",
   "execution_count": 21,
   "id": "bbe636aa-78a2-4cca-a2d9-08f3fc3c3a75",
   "metadata": {
    "tags": []
   },
   "outputs": [
    {
     "data": {
      "text/plain": [
       "1       137\n",
       "2        71\n",
       "4         4\n",
       "none      4\n",
       "3         3\n",
       "Name: suggestion_label, dtype: int64"
      ]
     },
     "execution_count": 21,
     "metadata": {},
     "output_type": "execute_result"
    }
   ],
   "source": [
    "test_data['suggestion_label'].value_counts()"
   ]
  },
  {
   "cell_type": "code",
   "execution_count": 22,
   "id": "60497edc-d3b2-4c6d-8098-d983570c1f6c",
   "metadata": {
    "tags": []
   },
   "outputs": [],
   "source": [
    "labels_dict ={\"1\": \"needs to be added\", \"2\": \"needs enhancements\", \"3\": \"needs to be removed\" , \"4\": \"none\", \"none\": \"none\"}"
   ]
  },
  {
   "cell_type": "code",
   "execution_count": 23,
   "id": "d1e949ae-3931-48af-87a2-ec48019bd861",
   "metadata": {
    "tags": []
   },
   "outputs": [],
   "source": [
    "test_data['suggestion_label'] = test_data['suggestion_label'].apply(lambda x: labels_dict[x])"
   ]
  },
  {
   "cell_type": "code",
   "execution_count": 24,
   "id": "82386832-511f-43ed-8735-73545b649d33",
   "metadata": {
    "tags": []
   },
   "outputs": [
    {
     "data": {
      "text/plain": [
       "needs to be added      137\n",
       "needs enhancements      71\n",
       "none                     8\n",
       "needs to be removed      3\n",
       "Name: suggestion_label, dtype: int64"
      ]
     },
     "execution_count": 24,
     "metadata": {},
     "output_type": "execute_result"
    }
   ],
   "source": [
    "test_data['suggestion_label'].value_counts()"
   ]
  },
  {
   "cell_type": "code",
   "execution_count": 25,
   "id": "f0c5a8da-de38-4d85-b787-d16e078f4c43",
   "metadata": {
    "tags": []
   },
   "outputs": [
    {
     "data": {
      "text/plain": [
       "needs to be added      0.421538\n",
       "needs enhancements     0.218462\n",
       "none                   0.024615\n",
       "needs to be removed    0.009231\n",
       "Name: suggestion_label, dtype: float64"
      ]
     },
     "execution_count": 25,
     "metadata": {},
     "output_type": "execute_result"
    }
   ],
   "source": [
    "test_data['suggestion_label'].value_counts() / len(train_data)"
   ]
  },
  {
   "cell_type": "code",
   "execution_count": 26,
   "id": "cfd1c58d-4a17-47b9-aaaf-8e039845b37c",
   "metadata": {
    "tags": []
   },
   "outputs": [
    {
     "data": {
      "text/html": [
       "<pre style=\"white-space:pre;overflow-x:auto;line-height:normal;font-family:Menlo,'DejaVu Sans Mono',consolas,'Courier New',monospace\">Saving<span style=\"color: #808000; text-decoration-color: #808000\">...</span>\n",
       "</pre>\n"
      ],
      "text/plain": [
       "Saving\u001b[33m...\u001b[0m\n"
      ]
     },
     "metadata": {},
     "output_type": "display_data"
    }
   ],
   "source": [
    "# train_save_path = '../../data/result/train_with_suggestion_df_llm_llama3_70b.csv'\n",
    "test_save_path = '../../data/result/test_with_suggestion_df_llm_llama3_70b.csv'\n",
    "\n",
    "# if os.path.exists(train_save_path):\n",
    "#     print('The path exists!')\n",
    "# else:\n",
    "#     print('Saving...')\n",
    "#     train_data.to_csv(train_save_path, index=False)\n",
    "    \n",
    "\n",
    "if os.path.exists(test_save_path):\n",
    "    print('The path exists!')\n",
    "else:\n",
    "    print('Saving...')\n",
    "    test_data.to_csv(test_save_path, index=False)"
   ]
  },
  {
   "cell_type": "code",
   "execution_count": null,
   "id": "b9e8a493-1ec5-4f39-8dec-be78e5412316",
   "metadata": {},
   "outputs": [],
   "source": []
  }
 ],
 "metadata": {
  "kernelspec": {
   "display_name": "Python 3 (ipykernel)",
   "language": "python",
   "name": "python3"
  },
  "language_info": {
   "codemirror_mode": {
    "name": "ipython",
    "version": 3
   },
   "file_extension": ".py",
   "mimetype": "text/x-python",
   "name": "python",
   "nbconvert_exporter": "python",
   "pygments_lexer": "ipython3",
   "version": "3.11.7"
  }
 },
 "nbformat": 4,
 "nbformat_minor": 5
}
