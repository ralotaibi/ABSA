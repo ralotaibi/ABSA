{
 "cells": [
  {
   "cell_type": "code",
   "execution_count": 1,
   "id": "25894aff-d164-4dc7-87b3-f5564ccadd9a",
   "metadata": {
    "tags": []
   },
   "outputs": [],
   "source": [
    "import json\n",
    "import pandas as pd"
   ]
  },
  {
   "cell_type": "code",
   "execution_count": 2,
   "id": "ab9d7245-6e1b-475e-b829-e1d52d73914b",
   "metadata": {
    "tags": []
   },
   "outputs": [],
   "source": [
    "data = pd.read_csv('../../data/result/train_with_suggestions_df_majority_vote_gpt4o_preferred.csv')"
   ]
  },
  {
   "cell_type": "code",
   "execution_count": 3,
   "id": "91b70d7e-c023-47b3-8066-750422ae58ce",
   "metadata": {
    "tags": []
   },
   "outputs": [],
   "source": [
    "data = data[['text', 'majority_vote']]"
   ]
  },
  {
   "cell_type": "code",
   "execution_count": 4,
   "id": "8944e3a6-775b-4b81-b500-2cd1856a21d7",
   "metadata": {
    "tags": []
   },
   "outputs": [
    {
     "data": {
      "text/html": [
       "<div>\n",
       "<style scoped>\n",
       "    .dataframe tbody tr th:only-of-type {\n",
       "        vertical-align: middle;\n",
       "    }\n",
       "\n",
       "    .dataframe tbody tr th {\n",
       "        vertical-align: top;\n",
       "    }\n",
       "\n",
       "    .dataframe thead th {\n",
       "        text-align: right;\n",
       "    }\n",
       "</style>\n",
       "<table border=\"1\" class=\"dataframe\">\n",
       "  <thead>\n",
       "    <tr style=\"text-align: right;\">\n",
       "      <th></th>\n",
       "      <th>text</th>\n",
       "      <th>majority_vote</th>\n",
       "    </tr>\n",
       "  </thead>\n",
       "  <tbody>\n",
       "    <tr>\n",
       "      <th>0</th>\n",
       "      <td>اقتراحاتي للتحسين: التطبيق والبعد عن التدريس ا...</td>\n",
       "      <td>needs enhancements</td>\n",
       "    </tr>\n",
       "    <tr>\n",
       "      <th>1</th>\n",
       "      <td>اقتراحاتي للتحسين: provide more new books</td>\n",
       "      <td>needs to be added</td>\n",
       "    </tr>\n",
       "    <tr>\n",
       "      <th>2</th>\n",
       "      <td>اقتراحاتي للتحسين: زيادة ساعات العملي</td>\n",
       "      <td>needs to be added</td>\n",
       "    </tr>\n",
       "    <tr>\n",
       "      <th>3</th>\n",
       "      <td>اقتراحاتي للإضافة: د. اعتماد من الدكاتره المحت...</td>\n",
       "      <td>needs to be removed</td>\n",
       "    </tr>\n",
       "    <tr>\n",
       "      <th>4</th>\n",
       "      <td>اقتراحاتي للإضافة: زيادة التمارين في المادة، ا...</td>\n",
       "      <td>needs to be added</td>\n",
       "    </tr>\n",
       "  </tbody>\n",
       "</table>\n",
       "</div>"
      ],
      "text/plain": [
       "                                                text        majority_vote\n",
       "0  اقتراحاتي للتحسين: التطبيق والبعد عن التدريس ا...   needs enhancements\n",
       "1          اقتراحاتي للتحسين: provide more new books    needs to be added\n",
       "2              اقتراحاتي للتحسين: زيادة ساعات العملي    needs to be added\n",
       "3  اقتراحاتي للإضافة: د. اعتماد من الدكاتره المحت...  needs to be removed\n",
       "4  اقتراحاتي للإضافة: زيادة التمارين في المادة، ا...    needs to be added"
      ]
     },
     "execution_count": 4,
     "metadata": {},
     "output_type": "execute_result"
    }
   ],
   "source": [
    "data.head()"
   ]
  },
  {
   "cell_type": "code",
   "execution_count": 5,
   "id": "93f93da8-5e48-4fea-b676-cedf8f17a793",
   "metadata": {
    "tags": []
   },
   "outputs": [],
   "source": [
    "augmentation_path = '../../data/data_augmentation/gpt_augmentation/final_augmentation_full_data_5_examples.json'"
   ]
  },
  {
   "cell_type": "code",
   "execution_count": 6,
   "id": "ef408814-a3e4-4322-9b46-8930dfe6a2f8",
   "metadata": {
    "tags": []
   },
   "outputs": [],
   "source": [
    "with open(augmentation_path) as f:\n",
    "    augmentation_data = json.load(f)"
   ]
  },
  {
   "cell_type": "code",
   "execution_count": 7,
   "id": "15986a0e-ceb5-48da-9eb6-8c5cecab9939",
   "metadata": {
    "tags": []
   },
   "outputs": [
    {
     "data": {
      "text/plain": [
       "needs to be added      174\n",
       "needs enhancements      86\n",
       "none                    51\n",
       "needs to be removed     14\n",
       "Name: majority_vote, dtype: int64"
      ]
     },
     "execution_count": 7,
     "metadata": {},
     "output_type": "execute_result"
    }
   ],
   "source": [
    "data['majority_vote'].value_counts()"
   ]
  },
  {
   "cell_type": "code",
   "execution_count": 8,
   "id": "48685743-7a8c-4a04-a4c6-2ae12fa49b34",
   "metadata": {
    "tags": []
   },
   "outputs": [],
   "source": [
    "# data['text'] = data['text'].apply(lambda x: [x])\n",
    "# data.head()"
   ]
  },
  {
   "cell_type": "code",
   "execution_count": 9,
   "id": "a99eef09-5041-4665-9388-7e39baa79458",
   "metadata": {
    "tags": []
   },
   "outputs": [
    {
     "data": {
      "text/plain": [
       "5"
      ]
     },
     "execution_count": 9,
     "metadata": {},
     "output_type": "execute_result"
    }
   ],
   "source": [
    "len(list(augmentation_data.values())[0])"
   ]
  },
  {
   "cell_type": "code",
   "execution_count": 10,
   "id": "33886ffe-5eb8-470d-b2d7-7b1f902857bb",
   "metadata": {
    "tags": []
   },
   "outputs": [],
   "source": [
    "def augment_one_class(data, augmentation_data, class_name, labels_col, augmentation_col, target_length, duplicate=False):\n",
    "    class_data = list(data[data[labels_col]==class_name][augmentation_col])\n",
    "    \n",
    "    if len(class_data) == 0:\n",
    "        raise ValueError(f\"Class '{class_name}' not found in column '{labels_col}'\")\n",
    "    \n",
    "    augmented = []\n",
    "    \n",
    "    num_augmentation_examples = len(list(augmentation_data.values())[0])\n",
    "    \n",
    "    flag = False\n",
    "    for i in range(num_augmentation_examples):\n",
    "        for example in class_data:\n",
    "            if len(class_data + augmented) >= target_length:\n",
    "                flag = True\n",
    "                break\n",
    "            augmented.append(list(augmentation_data[example].values())[i])\n",
    "        \n",
    "        if flag:\n",
    "            break\n",
    "    \n",
    "    if duplicate:\n",
    "        if len(class_data + augmented) < target_length:\n",
    "            for example in class_data:\n",
    "                augmented.append(example)\n",
    "                if len(class_data + augmented) >= target_length:\n",
    "                    break\n",
    "        \n",
    "            \n",
    "            for example in augmented.copy():\n",
    "                if len(class_data + augmented) >= target_length:\n",
    "                    break\n",
    "                \n",
    "                augmented.append(example)\n",
    "                \n",
    "    augmented_df = pd.DataFrame()\n",
    "    augmented_df[augmentation_col] = augmented\n",
    "    augmented_df[labels_col] = class_name\n",
    "    \n",
    "    return pd.concat([data, augmented_df], ignore_index=True)"
   ]
  },
  {
   "cell_type": "code",
   "execution_count": 11,
   "id": "958323ac-bd17-4290-a390-c6242db6de43",
   "metadata": {
    "tags": []
   },
   "outputs": [],
   "source": [
    "target_length = 174\n",
    "duplicate = False"
   ]
  },
  {
   "cell_type": "code",
   "execution_count": 12,
   "id": "391e4e92-867d-4744-a6d5-4dc29bda351b",
   "metadata": {
    "tags": []
   },
   "outputs": [],
   "source": [
    "for class_name in list(data['majority_vote'].unique()):\n",
    "    data = augment_one_class(\n",
    "        data=data, augmentation_data=augmentation_data, class_name=class_name, labels_col='majority_vote', \n",
    "        augmentation_col='text', target_length=target_length, duplicate=duplicate\n",
    "    )"
   ]
  },
  {
   "cell_type": "code",
   "execution_count": 13,
   "id": "18591e15-4eab-4145-be00-fbbbf1e0c630",
   "metadata": {
    "tags": []
   },
   "outputs": [
    {
     "data": {
      "text/plain": [
       "needs enhancements     174\n",
       "needs to be added      174\n",
       "none                   174\n",
       "needs to be removed     84\n",
       "Name: majority_vote, dtype: int64"
      ]
     },
     "execution_count": 13,
     "metadata": {},
     "output_type": "execute_result"
    }
   ],
   "source": [
    "data['majority_vote'].value_counts()"
   ]
  },
  {
   "cell_type": "code",
   "execution_count": 14,
   "id": "30588a8c-b1fd-41c3-b225-8997fdbc4fac",
   "metadata": {
    "tags": []
   },
   "outputs": [],
   "source": [
    "# for i, text_o in enumerate(data['text']):\n",
    "#     data.at[i, 'text'] = text_o + list(augmentation_data[text_o[0]].values())"
   ]
  },
  {
   "cell_type": "code",
   "execution_count": 15,
   "id": "16b3b0a7-e34f-48e1-8ae1-743967397483",
   "metadata": {
    "tags": []
   },
   "outputs": [],
   "source": [
    "# data = data.explode('text', ignore_index=True)"
   ]
  },
  {
   "cell_type": "code",
   "execution_count": 16,
   "id": "5031e203-8202-43b9-a17d-7294f6eecb67",
   "metadata": {
    "tags": []
   },
   "outputs": [
    {
     "data": {
      "text/html": [
       "<div>\n",
       "<style scoped>\n",
       "    .dataframe tbody tr th:only-of-type {\n",
       "        vertical-align: middle;\n",
       "    }\n",
       "\n",
       "    .dataframe tbody tr th {\n",
       "        vertical-align: top;\n",
       "    }\n",
       "\n",
       "    .dataframe thead th {\n",
       "        text-align: right;\n",
       "    }\n",
       "</style>\n",
       "<table border=\"1\" class=\"dataframe\">\n",
       "  <thead>\n",
       "    <tr style=\"text-align: right;\">\n",
       "      <th></th>\n",
       "      <th>text</th>\n",
       "      <th>majority_vote</th>\n",
       "    </tr>\n",
       "  </thead>\n",
       "  <tbody>\n",
       "    <tr>\n",
       "      <th>0</th>\n",
       "      <td>اقتراحاتي للتحسين: التطبيق والبعد عن التدريس ا...</td>\n",
       "      <td>needs enhancements</td>\n",
       "    </tr>\n",
       "    <tr>\n",
       "      <th>1</th>\n",
       "      <td>اقتراحاتي للتحسين: provide more new books</td>\n",
       "      <td>needs to be added</td>\n",
       "    </tr>\n",
       "    <tr>\n",
       "      <th>2</th>\n",
       "      <td>اقتراحاتي للتحسين: زيادة ساعات العملي</td>\n",
       "      <td>needs to be added</td>\n",
       "    </tr>\n",
       "    <tr>\n",
       "      <th>3</th>\n",
       "      <td>اقتراحاتي للإضافة: د. اعتماد من الدكاتره المحت...</td>\n",
       "      <td>needs to be removed</td>\n",
       "    </tr>\n",
       "    <tr>\n",
       "      <th>4</th>\n",
       "      <td>اقتراحاتي للإضافة: زيادة التمارين في المادة، ا...</td>\n",
       "      <td>needs to be added</td>\n",
       "    </tr>\n",
       "  </tbody>\n",
       "</table>\n",
       "</div>"
      ],
      "text/plain": [
       "                                                text        majority_vote\n",
       "0  اقتراحاتي للتحسين: التطبيق والبعد عن التدريس ا...   needs enhancements\n",
       "1          اقتراحاتي للتحسين: provide more new books    needs to be added\n",
       "2              اقتراحاتي للتحسين: زيادة ساعات العملي    needs to be added\n",
       "3  اقتراحاتي للإضافة: د. اعتماد من الدكاتره المحت...  needs to be removed\n",
       "4  اقتراحاتي للإضافة: زيادة التمارين في المادة، ا...    needs to be added"
      ]
     },
     "execution_count": 16,
     "metadata": {},
     "output_type": "execute_result"
    }
   ],
   "source": [
    "data.head()"
   ]
  },
  {
   "cell_type": "code",
   "execution_count": 17,
   "id": "49717468-c12a-4cf4-9217-610afe9dfa33",
   "metadata": {
    "tags": []
   },
   "outputs": [
    {
     "data": {
      "text/plain": [
       "606"
      ]
     },
     "execution_count": 17,
     "metadata": {},
     "output_type": "execute_result"
    }
   ],
   "source": [
    "len(data)"
   ]
  },
  {
   "cell_type": "code",
   "execution_count": 18,
   "id": "cd16c6c4-6c21-4213-8a8b-6b96adcbb423",
   "metadata": {
    "tags": []
   },
   "outputs": [
    {
     "data": {
      "text/html": [
       "<div>\n",
       "<style scoped>\n",
       "    .dataframe tbody tr th:only-of-type {\n",
       "        vertical-align: middle;\n",
       "    }\n",
       "\n",
       "    .dataframe tbody tr th {\n",
       "        vertical-align: top;\n",
       "    }\n",
       "\n",
       "    .dataframe thead th {\n",
       "        text-align: right;\n",
       "    }\n",
       "</style>\n",
       "<table border=\"1\" class=\"dataframe\">\n",
       "  <thead>\n",
       "    <tr style=\"text-align: right;\">\n",
       "      <th></th>\n",
       "      <th>text</th>\n",
       "      <th>majority_vote</th>\n",
       "    </tr>\n",
       "  </thead>\n",
       "  <tbody>\n",
       "    <tr>\n",
       "      <th>0</th>\n",
       "      <td>اقتراحاتي للتحسين: التطبيق والبعد عن التدريس ا...</td>\n",
       "      <td>needs enhancements</td>\n",
       "    </tr>\n",
       "    <tr>\n",
       "      <th>1</th>\n",
       "      <td>اقتراحاتي للتحسين: provide more new books</td>\n",
       "      <td>needs to be added</td>\n",
       "    </tr>\n",
       "    <tr>\n",
       "      <th>2</th>\n",
       "      <td>اقتراحاتي للتحسين: زيادة ساعات العملي</td>\n",
       "      <td>needs to be added</td>\n",
       "    </tr>\n",
       "    <tr>\n",
       "      <th>3</th>\n",
       "      <td>اقتراحاتي للإضافة: د. اعتماد من الدكاتره المحت...</td>\n",
       "      <td>needs to be removed</td>\n",
       "    </tr>\n",
       "    <tr>\n",
       "      <th>4</th>\n",
       "      <td>اقتراحاتي للإضافة: زيادة التمارين في المادة، ا...</td>\n",
       "      <td>needs to be added</td>\n",
       "    </tr>\n",
       "  </tbody>\n",
       "</table>\n",
       "</div>"
      ],
      "text/plain": [
       "                                                text        majority_vote\n",
       "0  اقتراحاتي للتحسين: التطبيق والبعد عن التدريس ا...   needs enhancements\n",
       "1          اقتراحاتي للتحسين: provide more new books    needs to be added\n",
       "2              اقتراحاتي للتحسين: زيادة ساعات العملي    needs to be added\n",
       "3  اقتراحاتي للإضافة: د. اعتماد من الدكاتره المحت...  needs to be removed\n",
       "4  اقتراحاتي للإضافة: زيادة التمارين في المادة، ا...    needs to be added"
      ]
     },
     "execution_count": 18,
     "metadata": {},
     "output_type": "execute_result"
    }
   ],
   "source": [
    "data.head()"
   ]
  },
  {
   "cell_type": "code",
   "execution_count": 19,
   "id": "538721d5-71d0-4afa-858c-6f1b35c2001f",
   "metadata": {
    "tags": []
   },
   "outputs": [
    {
     "data": {
      "text/plain": [
       "needs enhancements     174\n",
       "needs to be added      174\n",
       "none                   174\n",
       "needs to be removed     84\n",
       "Name: majority_vote, dtype: int64"
      ]
     },
     "execution_count": 19,
     "metadata": {},
     "output_type": "execute_result"
    }
   ],
   "source": [
    "data['majority_vote'].value_counts()"
   ]
  },
  {
   "cell_type": "code",
   "execution_count": 20,
   "id": "01d0b20a-a0bf-4307-9c92-bf38d98a4866",
   "metadata": {
    "tags": []
   },
   "outputs": [],
   "source": [
    "random_state=42"
   ]
  },
  {
   "cell_type": "code",
   "execution_count": 21,
   "id": "f072ad1d-ed7e-42ed-87b3-3a8eee2f9611",
   "metadata": {
    "tags": []
   },
   "outputs": [],
   "source": [
    "data = data.sample(frac=1.0, random_state=random_state)"
   ]
  },
  {
   "cell_type": "code",
   "execution_count": 22,
   "id": "a01c0250-6e95-4b04-ac95-cd92c1217feb",
   "metadata": {
    "tags": []
   },
   "outputs": [],
   "source": [
    "data.to_csv('../../data/result/final_suggestion_train_augmented_gpt4o_5_examples1.csv', index=False)"
   ]
  },
  {
   "cell_type": "code",
   "execution_count": null,
   "id": "d75faa5d-9a86-4006-9716-31f835c1d669",
   "metadata": {},
   "outputs": [],
   "source": []
  }
 ],
 "metadata": {
  "kernelspec": {
   "display_name": "Python 3 (ipykernel)",
   "language": "python",
   "name": "python3"
  },
  "language_info": {
   "codemirror_mode": {
    "name": "ipython",
    "version": 3
   },
   "file_extension": ".py",
   "mimetype": "text/x-python",
   "name": "python",
   "nbconvert_exporter": "python",
   "pygments_lexer": "ipython3",
   "version": "3.11.7"
  }
 },
 "nbformat": 4,
 "nbformat_minor": 5
}
