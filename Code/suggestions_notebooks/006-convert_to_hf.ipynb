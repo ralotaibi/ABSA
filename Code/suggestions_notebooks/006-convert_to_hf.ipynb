{
 "cells": [
  {
   "cell_type": "markdown",
   "id": "2fb80b8d-1619-4e28-9c7b-f5ecced9008f",
   "metadata": {},
   "source": [
    "# convert to hf dataset"
   ]
  },
  {
   "cell_type": "code",
   "execution_count": 1,
   "id": "ecf92c6d-e555-45a0-8aab-eea36a4703b5",
   "metadata": {
    "tags": []
   },
   "outputs": [],
   "source": [
    "from datasets import Dataset, Value, ClassLabel, Features, DatasetDict, load_dataset, load_from_disk"
   ]
  },
  {
   "cell_type": "code",
   "execution_count": 2,
   "id": "2ed4d75a-7fa7-4a0b-990f-9caed023d937",
   "metadata": {
    "tags": []
   },
   "outputs": [],
   "source": [
    "import pandas as pd\n",
    "from rich import print\n",
    "import os"
   ]
  },
  {
   "cell_type": "code",
   "execution_count": 3,
   "id": "68f2a82c-3e45-44a3-bbb6-30c24cfb13d5",
   "metadata": {
    "tags": []
   },
   "outputs": [],
   "source": [
    "# data_path = '../../data/result/train_with_suggestions_df_majority_vote_gpt4o_preferred.csv'\n",
    "data_path = '../../data/result/final_suggestion_train_augmented_gpt4o_5_examples1.csv'\n",
    "data = pd.read_csv(data_path)"
   ]
  },
  {
   "cell_type": "code",
   "execution_count": 4,
   "id": "8566aaa7-5404-4e7f-843e-f52d560e8b23",
   "metadata": {
    "tags": []
   },
   "outputs": [
    {
     "data": {
      "text/plain": [
       "['needs enhancements', 'needs to be added', 'needs to be removed', 'none']"
      ]
     },
     "execution_count": 4,
     "metadata": {},
     "output_type": "execute_result"
    }
   ],
   "source": [
    "label_names = sorted(data['majority_vote'].unique().tolist())\n",
    "label_names"
   ]
  },
  {
   "cell_type": "code",
   "execution_count": 5,
   "id": "47f4924d-1f4f-4a4f-b56a-263c63acf7e8",
   "metadata": {
    "tags": []
   },
   "outputs": [],
   "source": [
    "features = Features(\n",
    "    {\n",
    "        'id': Value(dtype='string'),\n",
    "        'text': Value(dtype='string'),\n",
    "        'labels': ClassLabel(names=label_names, num_classes=len(label_names), id=None)\n",
    "    }\n",
    ")"
   ]
  },
  {
   "cell_type": "code",
   "execution_count": 6,
   "id": "d2f10885-e878-40db-85be-14e93f2ff84b",
   "metadata": {
    "tags": []
   },
   "outputs": [
    {
     "data": {
      "text/html": [
       "<pre style=\"white-space:pre;overflow-x:auto;line-height:normal;font-family:Menlo,'DejaVu Sans Mono',consolas,'Courier New',monospace\"><span style=\"font-weight: bold\">{</span>\n",
       "    <span style=\"color: #008000; text-decoration-color: #008000\">'id'</span>: <span style=\"color: #800080; text-decoration-color: #800080; font-weight: bold\">Value</span><span style=\"font-weight: bold\">(</span><span style=\"color: #808000; text-decoration-color: #808000\">dtype</span>=<span style=\"color: #008000; text-decoration-color: #008000\">'string'</span>, <span style=\"color: #808000; text-decoration-color: #808000\">id</span>=<span style=\"color: #800080; text-decoration-color: #800080; font-style: italic\">None</span><span style=\"font-weight: bold\">)</span>,\n",
       "    <span style=\"color: #008000; text-decoration-color: #008000\">'text'</span>: <span style=\"color: #800080; text-decoration-color: #800080; font-weight: bold\">Value</span><span style=\"font-weight: bold\">(</span><span style=\"color: #808000; text-decoration-color: #808000\">dtype</span>=<span style=\"color: #008000; text-decoration-color: #008000\">'string'</span>, <span style=\"color: #808000; text-decoration-color: #808000\">id</span>=<span style=\"color: #800080; text-decoration-color: #800080; font-style: italic\">None</span><span style=\"font-weight: bold\">)</span>,\n",
       "    <span style=\"color: #008000; text-decoration-color: #008000\">'labels'</span>: <span style=\"color: #800080; text-decoration-color: #800080; font-weight: bold\">ClassLabel</span><span style=\"font-weight: bold\">(</span>\n",
       "        <span style=\"color: #808000; text-decoration-color: #808000\">names</span>=<span style=\"font-weight: bold\">[</span><span style=\"color: #008000; text-decoration-color: #008000\">'needs enhancements'</span>, <span style=\"color: #008000; text-decoration-color: #008000\">'needs to be added'</span>, <span style=\"color: #008000; text-decoration-color: #008000\">'needs to be removed'</span>, <span style=\"color: #008000; text-decoration-color: #008000\">'none'</span><span style=\"font-weight: bold\">]</span>,\n",
       "        <span style=\"color: #808000; text-decoration-color: #808000\">id</span>=<span style=\"color: #800080; text-decoration-color: #800080; font-style: italic\">None</span>\n",
       "    <span style=\"font-weight: bold\">)</span>\n",
       "<span style=\"font-weight: bold\">}</span>\n",
       "</pre>\n"
      ],
      "text/plain": [
       "\u001b[1m{\u001b[0m\n",
       "    \u001b[32m'id'\u001b[0m: \u001b[1;35mValue\u001b[0m\u001b[1m(\u001b[0m\u001b[33mdtype\u001b[0m=\u001b[32m'string'\u001b[0m, \u001b[33mid\u001b[0m=\u001b[3;35mNone\u001b[0m\u001b[1m)\u001b[0m,\n",
       "    \u001b[32m'text'\u001b[0m: \u001b[1;35mValue\u001b[0m\u001b[1m(\u001b[0m\u001b[33mdtype\u001b[0m=\u001b[32m'string'\u001b[0m, \u001b[33mid\u001b[0m=\u001b[3;35mNone\u001b[0m\u001b[1m)\u001b[0m,\n",
       "    \u001b[32m'labels'\u001b[0m: \u001b[1;35mClassLabel\u001b[0m\u001b[1m(\u001b[0m\n",
       "        \u001b[33mnames\u001b[0m=\u001b[1m[\u001b[0m\u001b[32m'needs enhancements'\u001b[0m, \u001b[32m'needs to be added'\u001b[0m, \u001b[32m'needs to be removed'\u001b[0m, \u001b[32m'none'\u001b[0m\u001b[1m]\u001b[0m,\n",
       "        \u001b[33mid\u001b[0m=\u001b[3;35mNone\u001b[0m\n",
       "    \u001b[1m)\u001b[0m\n",
       "\u001b[1m}\u001b[0m\n"
      ]
     },
     "metadata": {},
     "output_type": "display_data"
    }
   ],
   "source": [
    "print(features)"
   ]
  },
  {
   "cell_type": "code",
   "execution_count": 7,
   "id": "cfa054e7-316e-46ca-a2a9-3545be8fed21",
   "metadata": {
    "tags": []
   },
   "outputs": [],
   "source": [
    "hf_dataset = DatasetDict({\n",
    "    'train': Dataset.from_dict(\n",
    "        {\n",
    "            'id': list(data.index.astype(str)),\n",
    "            'text': list(data['text']),\n",
    "            'labels': list(data['majority_vote'])\n",
    "        },\n",
    "        features=features\n",
    "    )\n",
    "})"
   ]
  },
  {
   "cell_type": "code",
   "execution_count": 8,
   "id": "3cbc3d2d-e926-4369-ae97-2bc3c7e41bd7",
   "metadata": {
    "tags": []
   },
   "outputs": [],
   "source": [
    "# hf_path = '../../data/result/suggestions_hf_dataseet'\n",
    "hf_path = '../../data/result/final_suggestions_augmented_5_examples_hf_balanced1'"
   ]
  },
  {
   "cell_type": "code",
   "execution_count": 9,
   "id": "aa714cae-9b83-47bd-8600-7d7a8ae39a5c",
   "metadata": {
    "tags": []
   },
   "outputs": [
    {
     "data": {
      "text/html": [
       "<pre style=\"white-space:pre;overflow-x:auto;line-height:normal;font-family:Menlo,'DejaVu Sans Mono',consolas,'Courier New',monospace\">Saving to ..<span style=\"color: #800080; text-decoration-color: #800080\">/../data/result/</span><span style=\"color: #ff00ff; text-decoration-color: #ff00ff\">final_suggestions_augmented_5_examples_hf_balanced1</span>\n",
       "</pre>\n"
      ],
      "text/plain": [
       "Saving to ..\u001b[35m/../data/result/\u001b[0m\u001b[95mfinal_suggestions_augmented_5_examples_hf_balanced1\u001b[0m\n"
      ]
     },
     "metadata": {},
     "output_type": "display_data"
    },
    {
     "data": {
      "application/vnd.jupyter.widget-view+json": {
       "model_id": "322ff2b0683745f496fa2c35d151aba1",
       "version_major": 2,
       "version_minor": 0
      },
      "text/plain": [
       "Saving the dataset (0/1 shards):   0%|          | 0/606 [00:00<?, ? examples/s]"
      ]
     },
     "metadata": {},
     "output_type": "display_data"
    }
   ],
   "source": [
    "if os.path.exists(hf_path):\n",
    "    print('Path exists!')\n",
    "else:\n",
    "    print(f'Saving to {hf_path}')\n",
    "    hf_dataset.save_to_disk(hf_path)"
   ]
  },
  {
   "cell_type": "code",
   "execution_count": null,
   "id": "eb37bcc2-33a9-4110-aca5-81acffe823e3",
   "metadata": {},
   "outputs": [],
   "source": []
  }
 ],
 "metadata": {
  "kernelspec": {
   "display_name": "Python 3 (ipykernel)",
   "language": "python",
   "name": "python3"
  },
  "language_info": {
   "codemirror_mode": {
    "name": "ipython",
    "version": 3
   },
   "file_extension": ".py",
   "mimetype": "text/x-python",
   "name": "python",
   "nbconvert_exporter": "python",
   "pygments_lexer": "ipython3",
   "version": "3.11.7"
  }
 },
 "nbformat": 4,
 "nbformat_minor": 5
}
