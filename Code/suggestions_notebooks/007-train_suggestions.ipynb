{
 "cells": [
  {
   "cell_type": "code",
   "execution_count": 1,
   "metadata": {
    "id": "LP1URqrdyUAw",
    "tags": []
   },
   "outputs": [
    {
     "name": "stderr",
     "output_type": "stream",
     "text": [
      "2024-08-11 01:23:04.941824: E external/local_xla/xla/stream_executor/cuda/cuda_dnn.cc:9261] Unable to register cuDNN factory: Attempting to register factory for plugin cuDNN when one has already been registered\n",
      "2024-08-11 01:23:04.941915: E external/local_xla/xla/stream_executor/cuda/cuda_fft.cc:607] Unable to register cuFFT factory: Attempting to register factory for plugin cuFFT when one has already been registered\n",
      "2024-08-11 01:23:04.943333: E external/local_xla/xla/stream_executor/cuda/cuda_blas.cc:1515] Unable to register cuBLAS factory: Attempting to register factory for plugin cuBLAS when one has already been registered\n",
      "2024-08-11 01:23:04.952369: I tensorflow/core/platform/cpu_feature_guard.cc:182] This TensorFlow binary is optimized to use available CPU instructions in performance-critical operations.\n",
      "To enable the following instructions: AVX2 FMA, in other operations, rebuild TensorFlow with the appropriate compiler flags.\n",
      "2024-08-11 01:23:06.276953: W tensorflow/compiler/tf2tensorrt/utils/py_utils.cc:38] TF-TRT Warning: Could not find TensorRT\n"
     ]
    }
   ],
   "source": [
    "import numpy as np\n",
    "import random\n",
    "import torch\n",
    "from torch import nn\n",
    "import transformers\n",
    "from sklearn.metrics import classification_report, confusion_matrix, ConfusionMatrixDisplay\n",
    "from sklearn.utils.class_weight import compute_class_weight\n",
    "from datasets import load_from_disk\n",
    "from transformers import AutoTokenizer, AutoModelForSequenceClassification, DataCollatorWithPadding, Trainer, TrainingArguments\n",
    "from rich import print\n",
    "import pandas as pd\n",
    "from datasets import Dataset, Value, ClassLabel, Features, DatasetDict, load_dataset, load_from_disk"
   ]
  },
  {
   "cell_type": "code",
   "execution_count": 2,
   "metadata": {
    "id": "7Ty--9iIzQ3h",
    "tags": []
   },
   "outputs": [],
   "source": [
    "data_path = '../../data/result/final_suggestions_augmented_5_examples_hf_balanced1/'\n",
    "data = load_from_disk(data_path)"
   ]
  },
  {
   "cell_type": "code",
   "execution_count": 3,
   "metadata": {
    "tags": []
   },
   "outputs": [
    {
     "data": {
      "text/html": [
       "<pre style=\"white-space:pre;overflow-x:auto;line-height:normal;font-family:Menlo,'DejaVu Sans Mono',consolas,'Courier New',monospace\">Training Example:\n",
       "اقتراحاتي للتحسين: إلى الامام\n",
       "</pre>\n"
      ],
      "text/plain": [
       "Training Example:\n",
       "اقتراحاتي للتحسين: إلى الامام\n"
      ]
     },
     "metadata": {},
     "output_type": "display_data"
    }
   ],
   "source": [
    "print(f\"Training Example:\\n{data['train']['text'][1]}\")"
   ]
  },
  {
   "cell_type": "code",
   "execution_count": 4,
   "metadata": {
    "tags": []
   },
   "outputs": [],
   "source": [
    "test_path = '../../data/test_gold_labels/test_with_suggestions_df_majority_vote_gpt4o_preferred.csv'"
   ]
  },
  {
   "cell_type": "code",
   "execution_count": 5,
   "metadata": {
    "tags": []
   },
   "outputs": [],
   "source": [
    "test_df = pd.read_csv(test_path)"
   ]
  },
  {
   "cell_type": "code",
   "execution_count": 6,
   "metadata": {
    "tags": []
   },
   "outputs": [
    {
     "data": {
      "text/html": [
       "<div>\n",
       "<style scoped>\n",
       "    .dataframe tbody tr th:only-of-type {\n",
       "        vertical-align: middle;\n",
       "    }\n",
       "\n",
       "    .dataframe tbody tr th {\n",
       "        vertical-align: top;\n",
       "    }\n",
       "\n",
       "    .dataframe thead th {\n",
       "        text-align: right;\n",
       "    }\n",
       "</style>\n",
       "<table border=\"1\" class=\"dataframe\">\n",
       "  <thead>\n",
       "    <tr style=\"text-align: right;\">\n",
       "      <th></th>\n",
       "      <th>text</th>\n",
       "      <th>updated_labels</th>\n",
       "    </tr>\n",
       "  </thead>\n",
       "  <tbody>\n",
       "    <tr>\n",
       "      <th>0</th>\n",
       "      <td>اقتراحاتي للإضافة: everything is spectacular a...</td>\n",
       "      <td>none</td>\n",
       "    </tr>\n",
       "    <tr>\n",
       "      <th>1</th>\n",
       "      <td>اقتراحاتي للإضافة: thank you for everything</td>\n",
       "      <td>none</td>\n",
       "    </tr>\n",
       "    <tr>\n",
       "      <th>2</th>\n",
       "      <td>اقتراحاتي للإضافة: أتمنى ان يتم تطبيقها بشكل فعال</td>\n",
       "      <td>needs to be added</td>\n",
       "    </tr>\n",
       "    <tr>\n",
       "      <th>3</th>\n",
       "      <td>اقتراحاتي للإضافة: ان يتم طليق العملي بشكل مكثف</td>\n",
       "      <td>needs to be added</td>\n",
       "    </tr>\n",
       "    <tr>\n",
       "      <th>4</th>\n",
       "      <td>اقتراحاتي للإضافة: change the contents all</td>\n",
       "      <td>needs to be added</td>\n",
       "    </tr>\n",
       "  </tbody>\n",
       "</table>\n",
       "</div>"
      ],
      "text/plain": [
       "                                                text     updated_labels\n",
       "0  اقتراحاتي للإضافة: everything is spectacular a...               none\n",
       "1        اقتراحاتي للإضافة: thank you for everything               none\n",
       "2  اقتراحاتي للإضافة: أتمنى ان يتم تطبيقها بشكل فعال  needs to be added\n",
       "3    اقتراحاتي للإضافة: ان يتم طليق العملي بشكل مكثف  needs to be added\n",
       "4         اقتراحاتي للإضافة: change the contents all  needs to be added"
      ]
     },
     "execution_count": 6,
     "metadata": {},
     "output_type": "execute_result"
    }
   ],
   "source": [
    "test_df.head()"
   ]
  },
  {
   "cell_type": "code",
   "execution_count": 7,
   "metadata": {
    "tags": []
   },
   "outputs": [],
   "source": [
    "test_df = test_df.rename(columns={'updated_labels': 'labels'})"
   ]
  },
  {
   "cell_type": "code",
   "execution_count": 8,
   "metadata": {
    "tags": []
   },
   "outputs": [
    {
     "data": {
      "text/plain": [
       "array(['none', 'needs to be added', 'needs to be removed',\n",
       "       'needs enhancements'], dtype=object)"
      ]
     },
     "execution_count": 8,
     "metadata": {},
     "output_type": "execute_result"
    }
   ],
   "source": [
    "test_df['labels'].unique()"
   ]
  },
  {
   "cell_type": "code",
   "execution_count": 9,
   "metadata": {
    "tags": []
   },
   "outputs": [
    {
     "data": {
      "text/plain": [
       "text      0\n",
       "labels    0\n",
       "dtype: int64"
      ]
     },
     "execution_count": 9,
     "metadata": {},
     "output_type": "execute_result"
    }
   ],
   "source": [
    "test_df.isna().sum()"
   ]
  },
  {
   "cell_type": "code",
   "execution_count": 10,
   "metadata": {
    "tags": []
   },
   "outputs": [],
   "source": [
    "test_df = test_df.fillna('none')"
   ]
  },
  {
   "cell_type": "code",
   "execution_count": 11,
   "metadata": {
    "tags": []
   },
   "outputs": [
    {
     "data": {
      "text/plain": [
       "array(['none', 'needs to be added', 'needs to be removed',\n",
       "       'needs enhancements'], dtype=object)"
      ]
     },
     "execution_count": 11,
     "metadata": {},
     "output_type": "execute_result"
    }
   ],
   "source": [
    "test_df['labels'].unique()"
   ]
  },
  {
   "cell_type": "code",
   "execution_count": 12,
   "metadata": {
    "tags": []
   },
   "outputs": [
    {
     "data": {
      "text/plain": [
       "needs to be added      110\n",
       "needs enhancements      55\n",
       "none                    40\n",
       "needs to be removed     14\n",
       "Name: labels, dtype: int64"
      ]
     },
     "execution_count": 12,
     "metadata": {},
     "output_type": "execute_result"
    }
   ],
   "source": [
    "test_df['labels'].value_counts()"
   ]
  },
  {
   "cell_type": "code",
   "execution_count": 13,
   "metadata": {
    "tags": []
   },
   "outputs": [],
   "source": [
    "train_df = data['train'].to_pandas()"
   ]
  },
  {
   "cell_type": "code",
   "execution_count": 14,
   "metadata": {
    "tags": []
   },
   "outputs": [
    {
     "data": {
      "text/plain": [
       "none                   174\n",
       "needs enhancements     174\n",
       "needs to be added      174\n",
       "needs to be removed     84\n",
       "Name: labels, dtype: int64"
      ]
     },
     "execution_count": 14,
     "metadata": {},
     "output_type": "execute_result"
    }
   ],
   "source": [
    "train_df['labels'].apply(data['train'].features['labels'].int2str).value_counts()"
   ]
  },
  {
   "cell_type": "code",
   "execution_count": 15,
   "metadata": {
    "tags": []
   },
   "outputs": [],
   "source": [
    "label_names = sorted(data['train'].features['labels'].names)\n",
    "\n",
    "features = Features(\n",
    "    {\n",
    "        'id': Value(dtype='string'),\n",
    "        'text': Value(dtype='string'),\n",
    "        'labels': ClassLabel(names=label_names, num_classes=len(label_names), id=None)\n",
    "    }\n",
    ")\n",
    "#################################################################################\n",
    "test_hf = Dataset.from_dict(\n",
    "        {\n",
    "            'id': list(test_df.index.astype(str)),\n",
    "            'text': list(test_df['text']),\n",
    "            'labels': list(test_df['labels'])\n",
    "        },\n",
    "        features=features\n",
    "    )\n",
    "#################################################################################\n",
    "random_state = 42\n",
    "temp_data = test_hf.train_test_split(test_size=0.5, seed=random_state, stratify_by_column='labels')"
   ]
  },
  {
   "cell_type": "code",
   "execution_count": 16,
   "metadata": {
    "tags": []
   },
   "outputs": [
    {
     "data": {
      "text/plain": [
       "DatasetDict({\n",
       "    train: Dataset({\n",
       "        features: ['id', 'text', 'labels'],\n",
       "        num_rows: 606\n",
       "    })\n",
       "})"
      ]
     },
     "execution_count": 16,
     "metadata": {},
     "output_type": "execute_result"
    }
   ],
   "source": [
    "data"
   ]
  },
  {
   "cell_type": "code",
   "execution_count": 17,
   "metadata": {
    "tags": []
   },
   "outputs": [
    {
     "data": {
      "text/html": [
       "<pre style=\"white-space:pre;overflow-x:auto;line-height:normal;font-family:Menlo,'DejaVu Sans Mono',consolas,'Courier New',monospace\">Train Data Length: <span style=\"color: #008080; text-decoration-color: #008080; font-weight: bold\">606</span>\n",
       "</pre>\n"
      ],
      "text/plain": [
       "Train Data Length: \u001b[1;36m606\u001b[0m\n"
      ]
     },
     "metadata": {},
     "output_type": "display_data"
    }
   ],
   "source": [
    "print('Train Data Length:', len(data['train']))"
   ]
  },
  {
   "cell_type": "code",
   "execution_count": 18,
   "metadata": {
    "tags": []
   },
   "outputs": [],
   "source": [
    "data['validation'] = temp_data['train']\n",
    "data['test'] = temp_data['test']"
   ]
  },
  {
   "cell_type": "code",
   "execution_count": 19,
   "metadata": {
    "tags": []
   },
   "outputs": [
    {
     "data": {
      "text/html": [
       "<pre style=\"white-space:pre;overflow-x:auto;line-height:normal;font-family:Menlo,'DejaVu Sans Mono',consolas,'Courier New',monospace\"><span style=\"color: #800080; text-decoration-color: #800080; font-weight: bold\">DatasetDict</span><span style=\"font-weight: bold\">({</span>\n",
       "    train: <span style=\"color: #800080; text-decoration-color: #800080; font-weight: bold\">Dataset</span><span style=\"font-weight: bold\">({</span>\n",
       "        features: <span style=\"font-weight: bold\">[</span><span style=\"color: #008000; text-decoration-color: #008000\">'id'</span>, <span style=\"color: #008000; text-decoration-color: #008000\">'text'</span>, <span style=\"color: #008000; text-decoration-color: #008000\">'labels'</span><span style=\"font-weight: bold\">]</span>,\n",
       "        num_rows: <span style=\"color: #008080; text-decoration-color: #008080; font-weight: bold\">606</span>\n",
       "    <span style=\"font-weight: bold\">})</span>\n",
       "    validation: <span style=\"color: #800080; text-decoration-color: #800080; font-weight: bold\">Dataset</span><span style=\"font-weight: bold\">({</span>\n",
       "        features: <span style=\"font-weight: bold\">[</span><span style=\"color: #008000; text-decoration-color: #008000\">'id'</span>, <span style=\"color: #008000; text-decoration-color: #008000\">'text'</span>, <span style=\"color: #008000; text-decoration-color: #008000\">'labels'</span><span style=\"font-weight: bold\">]</span>,\n",
       "        num_rows: <span style=\"color: #008080; text-decoration-color: #008080; font-weight: bold\">109</span>\n",
       "    <span style=\"font-weight: bold\">})</span>\n",
       "    test: <span style=\"color: #800080; text-decoration-color: #800080; font-weight: bold\">Dataset</span><span style=\"font-weight: bold\">({</span>\n",
       "        features: <span style=\"font-weight: bold\">[</span><span style=\"color: #008000; text-decoration-color: #008000\">'id'</span>, <span style=\"color: #008000; text-decoration-color: #008000\">'text'</span>, <span style=\"color: #008000; text-decoration-color: #008000\">'labels'</span><span style=\"font-weight: bold\">]</span>,\n",
       "        num_rows: <span style=\"color: #008080; text-decoration-color: #008080; font-weight: bold\">110</span>\n",
       "    <span style=\"font-weight: bold\">})</span>\n",
       "<span style=\"font-weight: bold\">})</span>\n",
       "</pre>\n"
      ],
      "text/plain": [
       "\u001b[1;35mDatasetDict\u001b[0m\u001b[1m(\u001b[0m\u001b[1m{\u001b[0m\n",
       "    train: \u001b[1;35mDataset\u001b[0m\u001b[1m(\u001b[0m\u001b[1m{\u001b[0m\n",
       "        features: \u001b[1m[\u001b[0m\u001b[32m'id'\u001b[0m, \u001b[32m'text'\u001b[0m, \u001b[32m'labels'\u001b[0m\u001b[1m]\u001b[0m,\n",
       "        num_rows: \u001b[1;36m606\u001b[0m\n",
       "    \u001b[1m}\u001b[0m\u001b[1m)\u001b[0m\n",
       "    validation: \u001b[1;35mDataset\u001b[0m\u001b[1m(\u001b[0m\u001b[1m{\u001b[0m\n",
       "        features: \u001b[1m[\u001b[0m\u001b[32m'id'\u001b[0m, \u001b[32m'text'\u001b[0m, \u001b[32m'labels'\u001b[0m\u001b[1m]\u001b[0m,\n",
       "        num_rows: \u001b[1;36m109\u001b[0m\n",
       "    \u001b[1m}\u001b[0m\u001b[1m)\u001b[0m\n",
       "    test: \u001b[1;35mDataset\u001b[0m\u001b[1m(\u001b[0m\u001b[1m{\u001b[0m\n",
       "        features: \u001b[1m[\u001b[0m\u001b[32m'id'\u001b[0m, \u001b[32m'text'\u001b[0m, \u001b[32m'labels'\u001b[0m\u001b[1m]\u001b[0m,\n",
       "        num_rows: \u001b[1;36m110\u001b[0m\n",
       "    \u001b[1m}\u001b[0m\u001b[1m)\u001b[0m\n",
       "\u001b[1m}\u001b[0m\u001b[1m)\u001b[0m\n"
      ]
     },
     "metadata": {},
     "output_type": "display_data"
    }
   ],
   "source": [
    "print(data)"
   ]
  },
  {
   "cell_type": "code",
   "execution_count": 20,
   "metadata": {
    "tags": []
   },
   "outputs": [
    {
     "data": {
      "text/html": [
       "<pre style=\"white-space:pre;overflow-x:auto;line-height:normal;font-family:Menlo,'DejaVu Sans Mono',consolas,'Courier New',monospace\"><span style=\"font-weight: bold\">[</span><span style=\"color: #008000; text-decoration-color: #008000\">'needs enhancements'</span>, <span style=\"color: #008000; text-decoration-color: #008000\">'needs to be added'</span>, <span style=\"color: #008000; text-decoration-color: #008000\">'needs to be removed'</span>, <span style=\"color: #008000; text-decoration-color: #008000\">'none'</span><span style=\"font-weight: bold\">]</span>\n",
       "</pre>\n"
      ],
      "text/plain": [
       "\u001b[1m[\u001b[0m\u001b[32m'needs enhancements'\u001b[0m, \u001b[32m'needs to be added'\u001b[0m, \u001b[32m'needs to be removed'\u001b[0m, \u001b[32m'none'\u001b[0m\u001b[1m]\u001b[0m\n"
      ]
     },
     "metadata": {},
     "output_type": "display_data"
    },
    {
     "data": {
      "text/html": [
       "<pre style=\"white-space:pre;overflow-x:auto;line-height:normal;font-family:Menlo,'DejaVu Sans Mono',consolas,'Courier New',monospace\"><span style=\"font-weight: bold\">[</span><span style=\"color: #008000; text-decoration-color: #008000\">'needs enhancements'</span>, <span style=\"color: #008000; text-decoration-color: #008000\">'needs to be added'</span>, <span style=\"color: #008000; text-decoration-color: #008000\">'needs to be removed'</span>, <span style=\"color: #008000; text-decoration-color: #008000\">'none'</span><span style=\"font-weight: bold\">]</span>\n",
       "</pre>\n"
      ],
      "text/plain": [
       "\u001b[1m[\u001b[0m\u001b[32m'needs enhancements'\u001b[0m, \u001b[32m'needs to be added'\u001b[0m, \u001b[32m'needs to be removed'\u001b[0m, \u001b[32m'none'\u001b[0m\u001b[1m]\u001b[0m\n"
      ]
     },
     "metadata": {},
     "output_type": "display_data"
    },
    {
     "data": {
      "text/html": [
       "<pre style=\"white-space:pre;overflow-x:auto;line-height:normal;font-family:Menlo,'DejaVu Sans Mono',consolas,'Courier New',monospace\"><span style=\"font-weight: bold\">[</span><span style=\"color: #008000; text-decoration-color: #008000\">'needs enhancements'</span>, <span style=\"color: #008000; text-decoration-color: #008000\">'needs to be added'</span>, <span style=\"color: #008000; text-decoration-color: #008000\">'needs to be removed'</span>, <span style=\"color: #008000; text-decoration-color: #008000\">'none'</span><span style=\"font-weight: bold\">]</span>\n",
       "</pre>\n"
      ],
      "text/plain": [
       "\u001b[1m[\u001b[0m\u001b[32m'needs enhancements'\u001b[0m, \u001b[32m'needs to be added'\u001b[0m, \u001b[32m'needs to be removed'\u001b[0m, \u001b[32m'none'\u001b[0m\u001b[1m]\u001b[0m\n"
      ]
     },
     "metadata": {},
     "output_type": "display_data"
    }
   ],
   "source": [
    "print(data['train'].features['labels'].int2str(list(range(len(label_names)))))\n",
    "print(data['test'].features['labels'].int2str(list(range(len(label_names)))))\n",
    "print(data['validation'].features['labels'].int2str(list(range(len(label_names)))))"
   ]
  },
  {
   "cell_type": "code",
   "execution_count": 21,
   "metadata": {
    "id": "8nkcD_Wdz1Zq",
    "tags": []
   },
   "outputs": [],
   "source": [
    "model_checkpoint = 'FacebookAI/xlm-roberta-large'"
   ]
  },
  {
   "cell_type": "code",
   "execution_count": 22,
   "metadata": {
    "colab": {
     "base_uri": "https://localhost:8080/"
    },
    "id": "aprqpDlq0TAi",
    "outputId": "dac02534-0e49-44fe-947a-c08a106269de",
    "tags": []
   },
   "outputs": [],
   "source": [
    "tokenizer = AutoTokenizer.from_pretrained(model_checkpoint)\n",
    "data_collator = DataCollatorWithPadding(tokenizer=tokenizer)"
   ]
  },
  {
   "cell_type": "code",
   "execution_count": 23,
   "metadata": {
    "colab": {
     "base_uri": "https://localhost:8080/"
    },
    "id": "LYPXb4Lv0Vpl",
    "outputId": "3b3c744f-06f0-463c-f52f-8ad8bc1a721c",
    "tags": []
   },
   "outputs": [
    {
     "data": {
      "text/html": [
       "<pre style=\"white-space:pre;overflow-x:auto;line-height:normal;font-family:Menlo,'DejaVu Sans Mono',consolas,'Courier New',monospace\"><span style=\"font-weight: bold\">[</span><span style=\"color: #008000; text-decoration-color: #008000\">'needs enhancements'</span>, <span style=\"color: #008000; text-decoration-color: #008000\">'needs to be added'</span>, <span style=\"color: #008000; text-decoration-color: #008000\">'needs to be removed'</span>, <span style=\"color: #008000; text-decoration-color: #008000\">'none'</span><span style=\"font-weight: bold\">]</span>\n",
       "</pre>\n"
      ],
      "text/plain": [
       "\u001b[1m[\u001b[0m\u001b[32m'needs enhancements'\u001b[0m, \u001b[32m'needs to be added'\u001b[0m, \u001b[32m'needs to be removed'\u001b[0m, \u001b[32m'none'\u001b[0m\u001b[1m]\u001b[0m\n"
      ]
     },
     "metadata": {},
     "output_type": "display_data"
    }
   ],
   "source": [
    "label_feature = data['train'].features['labels']\n",
    "label_names = label_feature.names\n",
    "print(label_names)"
   ]
  },
  {
   "cell_type": "code",
   "execution_count": 24,
   "metadata": {
    "id": "J_vXEMaC0dwM",
    "tags": []
   },
   "outputs": [],
   "source": [
    "label2id = {label: label_feature.str2int(label) for label in label_names}\n",
    "id2label = {v: k for k, v in label2id.items()}"
   ]
  },
  {
   "cell_type": "code",
   "execution_count": 25,
   "metadata": {
    "colab": {
     "base_uri": "https://localhost:8080/"
    },
    "id": "6y8NP4Mu0hQp",
    "outputId": "cbb210f7-eeb2-4c31-eeb1-fdfa6fb06d88",
    "tags": []
   },
   "outputs": [
    {
     "data": {
      "text/html": [
       "<pre style=\"white-space:pre;overflow-x:auto;line-height:normal;font-family:Menlo,'DejaVu Sans Mono',consolas,'Courier New',monospace\"><span style=\"font-weight: bold\">{</span><span style=\"color: #008000; text-decoration-color: #008000\">'needs enhancements'</span>: <span style=\"color: #008080; text-decoration-color: #008080; font-weight: bold\">0</span>, <span style=\"color: #008000; text-decoration-color: #008000\">'needs to be added'</span>: <span style=\"color: #008080; text-decoration-color: #008080; font-weight: bold\">1</span>, <span style=\"color: #008000; text-decoration-color: #008000\">'needs to be removed'</span>: <span style=\"color: #008080; text-decoration-color: #008080; font-weight: bold\">2</span>, <span style=\"color: #008000; text-decoration-color: #008000\">'none'</span>: <span style=\"color: #008080; text-decoration-color: #008080; font-weight: bold\">3</span><span style=\"font-weight: bold\">}</span>\n",
       "</pre>\n"
      ],
      "text/plain": [
       "\u001b[1m{\u001b[0m\u001b[32m'needs enhancements'\u001b[0m: \u001b[1;36m0\u001b[0m, \u001b[32m'needs to be added'\u001b[0m: \u001b[1;36m1\u001b[0m, \u001b[32m'needs to be removed'\u001b[0m: \u001b[1;36m2\u001b[0m, \u001b[32m'none'\u001b[0m: \u001b[1;36m3\u001b[0m\u001b[1m}\u001b[0m\n"
      ]
     },
     "metadata": {},
     "output_type": "display_data"
    },
    {
     "data": {
      "text/html": [
       "<pre style=\"white-space:pre;overflow-x:auto;line-height:normal;font-family:Menlo,'DejaVu Sans Mono',consolas,'Courier New',monospace\"><span style=\"font-weight: bold\">{</span><span style=\"color: #008080; text-decoration-color: #008080; font-weight: bold\">0</span>: <span style=\"color: #008000; text-decoration-color: #008000\">'needs enhancements'</span>, <span style=\"color: #008080; text-decoration-color: #008080; font-weight: bold\">1</span>: <span style=\"color: #008000; text-decoration-color: #008000\">'needs to be added'</span>, <span style=\"color: #008080; text-decoration-color: #008080; font-weight: bold\">2</span>: <span style=\"color: #008000; text-decoration-color: #008000\">'needs to be removed'</span>, <span style=\"color: #008080; text-decoration-color: #008080; font-weight: bold\">3</span>: <span style=\"color: #008000; text-decoration-color: #008000\">'none'</span><span style=\"font-weight: bold\">}</span>\n",
       "</pre>\n"
      ],
      "text/plain": [
       "\u001b[1m{\u001b[0m\u001b[1;36m0\u001b[0m: \u001b[32m'needs enhancements'\u001b[0m, \u001b[1;36m1\u001b[0m: \u001b[32m'needs to be added'\u001b[0m, \u001b[1;36m2\u001b[0m: \u001b[32m'needs to be removed'\u001b[0m, \u001b[1;36m3\u001b[0m: \u001b[32m'none'\u001b[0m\u001b[1m}\u001b[0m\n"
      ]
     },
     "metadata": {},
     "output_type": "display_data"
    }
   ],
   "source": [
    "print(label2id)\n",
    "print(id2label)"
   ]
  },
  {
   "cell_type": "code",
   "execution_count": 26,
   "metadata": {
    "id": "jTst-QTR0Zbh",
    "tags": []
   },
   "outputs": [],
   "source": [
    "def tokenize_function(example):\n",
    "    return tokenizer(example['text'], truncation=True)"
   ]
  },
  {
   "cell_type": "code",
   "execution_count": 27,
   "metadata": {
    "colab": {
     "base_uri": "https://localhost:8080/",
     "height": 81,
     "referenced_widgets": [
      "a79d73b9e4194bc4b02f845c24858827",
      "e35a5eec199c4fd087074774c5c63ba5",
      "a4ef94a8ab404db098912bf80d39a18c",
      "9d2ad030130a4cdc92b9f928ffd241a8",
      "b901264a25b842e1bd46a1b6a84ba704",
      "34be08734334443e904efd3ffdafd940",
      "d087bf32b4834f05aaca907bd0631b07",
      "3acf3d4864c94b088078df2d5766550a",
      "f162757d83634fe1acb2d49e684fe956",
      "79584fb5ace743e195de7318bf507a45",
      "e132e4d9107c478ea20655df44383a4f",
      "2e17ca8e2ac24a98a088677f682f7bf1",
      "e9489ba20d474fa2bbb7636b6b37fe9c",
      "c7017335c8f94531a18ee9535740a10d",
      "5b4dfc903bcc4279b97211c02513e61a",
      "578e8825838c4051ae8f10a725530e51",
      "764e0f4be6424b13a8efe5bda2a484ad",
      "e41c49353a2f4f8d86ae6946c4bd162f",
      "e6615893fe844e888e88d4257c39c28f",
      "67f88e55fc69484c972b2d67379e9934",
      "f716b1dd917e4b6d974a859e96eb9763",
      "a702f1e370f34f13af4b4b4701053f32"
     ]
    },
    "id": "INJmp43j035E",
    "outputId": "3cee86e0-485c-4a72-9732-b24f2b29b183",
    "tags": []
   },
   "outputs": [
    {
     "data": {
      "application/vnd.jupyter.widget-view+json": {
       "model_id": "2494c916e2404641977603229a0c4163",
       "version_major": 2,
       "version_minor": 0
      },
      "text/plain": [
       "Map:   0%|          | 0/109 [00:00<?, ? examples/s]"
      ]
     },
     "metadata": {},
     "output_type": "display_data"
    },
    {
     "data": {
      "application/vnd.jupyter.widget-view+json": {
       "model_id": "2f21c3165ba946109a79fda41edb887c",
       "version_major": 2,
       "version_minor": 0
      },
      "text/plain": [
       "Map:   0%|          | 0/110 [00:00<?, ? examples/s]"
      ]
     },
     "metadata": {},
     "output_type": "display_data"
    }
   ],
   "source": [
    "tokenized_dataset = data.map(tokenize_function, batched=True, remove_columns=['text'])"
   ]
  },
  {
   "cell_type": "code",
   "execution_count": 28,
   "metadata": {
    "colab": {
     "base_uri": "https://localhost:8080/"
    },
    "id": "zJKSgGdl0_YG",
    "outputId": "85d8baf2-bbd1-411e-fa41-d2da6c71d9ed",
    "tags": []
   },
   "outputs": [
    {
     "data": {
      "text/plain": [
       "DatasetDict({\n",
       "    train: Dataset({\n",
       "        features: ['id', 'labels', 'input_ids', 'attention_mask'],\n",
       "        num_rows: 606\n",
       "    })\n",
       "    validation: Dataset({\n",
       "        features: ['id', 'labels', 'input_ids', 'attention_mask'],\n",
       "        num_rows: 109\n",
       "    })\n",
       "    test: Dataset({\n",
       "        features: ['id', 'labels', 'input_ids', 'attention_mask'],\n",
       "        num_rows: 110\n",
       "    })\n",
       "})"
      ]
     },
     "execution_count": 28,
     "metadata": {},
     "output_type": "execute_result"
    }
   ],
   "source": [
    "tokenized_dataset"
   ]
  },
  {
   "cell_type": "code",
   "execution_count": 29,
   "metadata": {
    "id": "dF2dOaZO1EIb",
    "tags": []
   },
   "outputs": [],
   "source": [
    "tokenized_train = tokenized_dataset['train']\n",
    "tokenized_validation = tokenized_dataset['validation']\n",
    "tokenized_test = tokenized_dataset['test']"
   ]
  },
  {
   "cell_type": "code",
   "execution_count": 30,
   "metadata": {
    "id": "gT70t1ZH1Q86",
    "tags": []
   },
   "outputs": [],
   "source": [
    "def model_init():\n",
    "    model = AutoModelForSequenceClassification.from_pretrained(\n",
    "        model_checkpoint,\n",
    "        id2label=id2label,\n",
    "        label2id=label2id,\n",
    "    )\n",
    "\n",
    "    return model"
   ]
  },
  {
   "cell_type": "code",
   "execution_count": 31,
   "metadata": {
    "id": "jLrAQl_h1U50",
    "tags": []
   },
   "outputs": [],
   "source": [
    "def compute_metrics(eval_preds):\n",
    "    logits, labels = eval_preds\n",
    "    predictions = np.argmax(logits, axis=-1)\n",
    "    result = classification_report(labels, predictions, output_dict=True, zero_division=0)\n",
    "    # print(result)\n",
    "    metrics = {f'{id2label[int(k)]} f1-score': v['f1-score'] for k, v in result.items() if k.isdigit()}\n",
    "    metrics['Accuracy'] = result['accuracy']\n",
    "    metrics['Macro f1-score'] = result['macro avg']['f1-score']\n",
    "    return metrics"
   ]
  },
  {
   "cell_type": "code",
   "execution_count": 32,
   "metadata": {
    "tags": []
   },
   "outputs": [
    {
     "data": {
      "text/plain": [
       "device(type='cuda', index=0)"
      ]
     },
     "execution_count": 32,
     "metadata": {},
     "output_type": "execute_result"
    }
   ],
   "source": [
    "device = torch.device(\"cuda:0\" if torch.cuda.is_available() else \"cpu\")\n",
    "device"
   ]
  },
  {
   "cell_type": "code",
   "execution_count": 33,
   "metadata": {
    "tags": []
   },
   "outputs": [],
   "source": [
    "class CustomTrainer(Trainer):\n",
    "    def compute_loss(self, model, inputs, return_outputs=False):\n",
    "        labels = inputs.get(\"labels\")\n",
    "        # forward pass\n",
    "        outputs = model(**inputs)\n",
    "        logits = outputs.get('logits')\n",
    "        # compute custom loss\n",
    "        y = self.train_dataset['labels']\n",
    "        class_weights = compute_class_weight(class_weight='balanced', classes=np.unique(y), y=np.array(y))\n",
    "        class_weights = torch.tensor(class_weights).float().to(device)\n",
    "        loss_fct = nn.CrossEntropyLoss(weight=class_weights)\n",
    "        loss = loss_fct(logits.view(-1, self.model.config.num_labels), labels.view(-1))\n",
    "        return (loss, outputs) if return_outputs else loss"
   ]
  },
  {
   "cell_type": "code",
   "execution_count": 34,
   "metadata": {
    "id": "iNyuFtD51hxo",
    "tags": []
   },
   "outputs": [],
   "source": [
    "batch_size = 8\n",
    "num_epochs = 5"
   ]
  },
  {
   "cell_type": "code",
   "execution_count": 35,
   "metadata": {
    "id": "tvZX6GP61lRw",
    "tags": []
   },
   "outputs": [],
   "source": [
    "random.seed(random_state)\n",
    "np.random.seed(random_state)\n",
    "torch.manual_seed(random_state)\n",
    "torch.cuda.manual_seed(random_state)\n",
    "transformers.set_seed(random_state)\n",
    "\n",
    "\n",
    "torch.cuda.manual_seed_all(random_state)\n",
    "torch.backends.cudnn.deterministic = True\n",
    "torch.backends.cudnn.benchmark = False"
   ]
  },
  {
   "cell_type": "code",
   "execution_count": 36,
   "metadata": {
    "colab": {
     "base_uri": "https://localhost:8080/"
    },
    "id": "m5PHBdqH1rho",
    "outputId": "f7f228d6-2585-4de9-c251-a31bdda27a7b",
    "tags": []
   },
   "outputs": [
    {
     "name": "stderr",
     "output_type": "stream",
     "text": [
      "Some weights of XLMRobertaForSequenceClassification were not initialized from the model checkpoint at FacebookAI/xlm-roberta-large and are newly initialized: ['classifier.dense.weight', 'classifier.out_proj.weight', 'classifier.out_proj.bias', 'classifier.dense.bias']\n",
      "You should probably TRAIN this model on a down-stream task to be able to use it for predictions and inference.\n"
     ]
    }
   ],
   "source": [
    "args = TrainingArguments(\n",
    "    f'../../models/model_suggestions',\n",
    "    overwrite_output_dir=True,\n",
    "    num_train_epochs=num_epochs,\n",
    "    evaluation_strategy='epoch',\n",
    "    save_strategy='epoch',\n",
    "    seed=random_state,\n",
    "    data_seed=random_state,\n",
    "    per_device_train_batch_size=batch_size,\n",
    "    per_device_eval_batch_size=batch_size,\n",
    "    learning_rate=1e-5,\n",
    "    weight_decay=0.001,\n",
    "    load_best_model_at_end=True,\n",
    "    save_total_limit=1,\n",
    "    report_to='none'\n",
    ")\n",
    "\n",
    "trainer = CustomTrainer(\n",
    "    args=args,\n",
    "    train_dataset=tokenized_train,\n",
    "    eval_dataset=tokenized_validation,\n",
    "    data_collator=data_collator,\n",
    "    tokenizer=tokenizer,\n",
    "    model_init=model_init,\n",
    "    compute_metrics=compute_metrics\n",
    ")"
   ]
  },
  {
   "cell_type": "code",
   "execution_count": null,
   "metadata": {
    "colab": {
     "base_uri": "https://localhost:8080/",
     "height": 374
    },
    "id": "n6OMkVRX18iV",
    "outputId": "693d213e-870d-4c36-e183-c3a6c5895417",
    "tags": []
   },
   "outputs": [
    {
     "name": "stderr",
     "output_type": "stream",
     "text": [
      "Some weights of XLMRobertaForSequenceClassification were not initialized from the model checkpoint at FacebookAI/xlm-roberta-large and are newly initialized: ['classifier.dense.weight', 'classifier.out_proj.weight', 'classifier.out_proj.bias', 'classifier.dense.bias']\n",
      "You should probably TRAIN this model on a down-stream task to be able to use it for predictions and inference.\n",
      "You're using a XLMRobertaTokenizerFast tokenizer. Please note that with a fast tokenizer, using the `__call__` method is faster than using a method to encode the text followed by a call to the `pad` method to get a padded encoding.\n"
     ]
    },
    {
     "data": {
      "text/html": [
       "\n",
       "    <div>\n",
       "      \n",
       "      <progress value='381' max='380' style='width:300px; height:20px; vertical-align: middle;'></progress>\n",
       "      [380/380 03:30, Epoch 5/5]\n",
       "    </div>\n",
       "    <table border=\"1\" class=\"dataframe\">\n",
       "  <thead>\n",
       " <tr style=\"text-align: left;\">\n",
       "      <th>Epoch</th>\n",
       "      <th>Training Loss</th>\n",
       "      <th>Validation Loss</th>\n",
       "      <th>Needs enhancements f1-score</th>\n",
       "      <th>Needs to be added f1-score</th>\n",
       "      <th>Needs to be removed f1-score</th>\n",
       "      <th>None f1-score</th>\n",
       "      <th>Accuracy</th>\n",
       "      <th>Macro f1-score</th>\n",
       "    </tr>\n",
       "  </thead>\n",
       "  <tbody>\n",
       "    <tr>\n",
       "      <td>1</td>\n",
       "      <td>No log</td>\n",
       "      <td>1.304071</td>\n",
       "      <td>0.457143</td>\n",
       "      <td>0.534884</td>\n",
       "      <td>0.000000</td>\n",
       "      <td>0.000000</td>\n",
       "      <td>0.431193</td>\n",
       "      <td>0.248007</td>\n",
       "    </tr>\n",
       "    <tr>\n",
       "      <td>2</td>\n",
       "      <td>No log</td>\n",
       "      <td>0.958935</td>\n",
       "      <td>0.701754</td>\n",
       "      <td>0.714286</td>\n",
       "      <td>0.173913</td>\n",
       "      <td>0.750000</td>\n",
       "      <td>0.660550</td>\n",
       "      <td>0.584988</td>\n",
       "    </tr>\n",
       "    <tr>\n",
       "      <td>3</td>\n",
       "      <td>No log</td>\n",
       "      <td>0.731573</td>\n",
       "      <td>0.714286</td>\n",
       "      <td>0.819672</td>\n",
       "      <td>0.250000</td>\n",
       "      <td>0.750000</td>\n",
       "      <td>0.761468</td>\n",
       "      <td>0.633489</td>\n",
       "    </tr>\n",
       "    <tr>\n",
       "      <td>4</td>\n",
       "      <td>No log</td>\n",
       "      <td>0.668232</td>\n",
       "      <td>0.727273</td>\n",
       "      <td>0.828829</td>\n",
       "      <td>0.307692</td>\n",
       "      <td>0.871795</td>\n",
       "      <td>0.779817</td>\n",
       "      <td>0.683897</td>\n",
       "    </tr>\n",
       "    <tr>\n",
       "      <td>5</td>\n",
       "      <td>No log</td>\n",
       "      <td>0.652301</td>\n",
       "      <td>0.680000</td>\n",
       "      <td>0.842975</td>\n",
       "      <td>0.400000</td>\n",
       "      <td>0.864865</td>\n",
       "      <td>0.788991</td>\n",
       "      <td>0.696960</td>\n",
       "    </tr>\n",
       "  </tbody>\n",
       "</table><p>"
      ],
      "text/plain": [
       "<IPython.core.display.HTML object>"
      ]
     },
     "metadata": {},
     "output_type": "display_data"
    }
   ],
   "source": [
    "trainer.train()"
   ]
  },
  {
   "cell_type": "code",
   "execution_count": null,
   "metadata": {
    "colab": {
     "base_uri": "https://localhost:8080/",
     "height": 17
    },
    "id": "SvOayVe624po",
    "outputId": "5cb907c0-9796-4383-b84f-0359811e9f7a",
    "tags": []
   },
   "outputs": [],
   "source": [
    "predictions = trainer.predict(tokenized_test)"
   ]
  },
  {
   "cell_type": "code",
   "execution_count": null,
   "metadata": {
    "tags": []
   },
   "outputs": [],
   "source": [
    "true_labels, preds = predictions.label_ids, predictions.predictions\n",
    "pred_labels = np.argmax(preds, axis=-1)\n",
    "\n",
    "print(classification_report(true_labels, pred_labels, target_names=label_names))"
   ]
  },
  {
   "cell_type": "code",
   "execution_count": null,
   "metadata": {
    "tags": []
   },
   "outputs": [],
   "source": [
    "cm = confusion_matrix(true_labels, pred_labels)\n",
    "disp = ConfusionMatrixDisplay(confusion_matrix=cm, display_labels=label_names)\n",
    "disp.plot(cmap=\"Blues\", colorbar=True, xticks_rotation='vertical')"
   ]
  },
  {
   "cell_type": "code",
   "execution_count": null,
   "metadata": {
    "tags": []
   },
   "outputs": [],
   "source": [
    "# xlm roberta large, 1e-5, decay 0.001, no warm up, duplicate data=False, custom trainer\n",
    "\n",
    "{\n",
    "    'test_loss': 0.5525250434875488,\n",
    "    'test_needs enhancements f1-score': 0.75,\n",
    "    'test_needs to be added f1-score': 0.8571428571428571,\n",
    "    'test_needs to be removed f1-score': 0.7692307692307692,\n",
    "    'test_none f1-score': 0.8717948717948718,\n",
    "    'test_Accuracy': 0.8272727272727273,\n",
    "    'test_Macro f1-score': 0.8120421245421245,\n",
    "    'test_runtime': 0.7333,\n",
    "    'test_samples_per_second': 150.011,\n",
    "    'test_steps_per_second': 19.092\n",
    "}\n",
    "\n",
    "\n",
    "# xlm roberta base, 2e-5, decay 0.0, no warm up, duplicate data=true, custom trainer\n",
    "{\n",
    "    'test_loss': 0.6510756015777588,\n",
    "    'test_needs enhancements f1-score': 0.75,\n",
    "    'test_needs to be added f1-score': 0.8135593220338982,\n",
    "    'test_needs to be removed f1-score': 0.7692307692307692,\n",
    "    'test_none f1-score': 0.7272727272727274,\n",
    "    'test_Accuracy': 0.7818181818181819,\n",
    "    'test_Macro f1-score': 0.7650157046343488,\n",
    "    'test_runtime': 0.3443,\n",
    "    'test_samples_per_second': 319.471,\n",
    "    'test_steps_per_second': 40.66\n",
    "}\n",
    "\n",
    "print()"
   ]
  },
  {
   "cell_type": "code",
   "execution_count": null,
   "metadata": {
    "id": "j3da58H_9qV8",
    "tags": []
   },
   "outputs": [],
   "source": [
    "{\n",
    "    'test_loss': 1.2701101303100586,\n",
    "    'test_needs enhancements f1-score': 0.4675324675324675,\n",
    "    'test_needs to be added f1-score': 0.4897959183673469,\n",
    "    'test_needs to be removed f1-score': 0.0,\n",
    "    'test_none f1-score': 0.6842105263157894,\n",
    "    'test_Accuracy': 0.5,\n",
    "    'test_Macro f1-score': 0.41038472805390097,\n",
    "    'test_runtime': 0.4405,\n",
    "    'test_samples_per_second': 249.709,\n",
    "    'test_steps_per_second': 31.781\n",
    "}\n",
    "\n",
    "# performance on test data annotated with llms, train data with augmentation {target_length: 86}, with custom trainer\n",
    "\n",
    "{\n",
    "    'test_loss': 0.7613580822944641,\n",
    "    'test_needs enhancements f1-score': 0.7333333333333333,\n",
    "    'test_needs to be added f1-score': 0.8571428571428572,\n",
    "    'test_needs to be removed f1-score': 0.5,\n",
    "    'test_none f1-score': 0.6666666666666667,\n",
    "    'test_Accuracy': 0.7818181818181819,\n",
    "    'test_Macro f1-score': 0.6892857142857143,\n",
    "    'test_runtime': 0.4128,\n",
    "    'test_samples_per_second': 266.481,\n",
    "    'test_steps_per_second': 33.916\n",
    "}\n",
    "\n",
    "# performance on test data annotated with llms, train data with augmentation {target_length: 86}, with trainer\n",
    "\n",
    "{\n",
    "    'test_loss': 0.6633874177932739,\n",
    "    'test_needs enhancements f1-score': 0.7213114754098361,\n",
    "    'test_needs to be added f1-score': 0.8666666666666667,\n",
    "    'test_needs to be removed f1-score': 0.25,\n",
    "    'test_none f1-score': 0.7741935483870968,\n",
    "    'test_Accuracy': 0.7909090909090909,\n",
    "    'test_Macro f1-score': 0.6530429226158998,\n",
    "    'test_runtime': 0.3959,\n",
    "    'test_samples_per_second': 277.836,\n",
    "    'test_steps_per_second': 35.361\n",
    "}\n",
    "\n",
    "\n",
    "# performance on test data annotated with llms, train data with augmentation {target_length: 200}, with custom trainer\n",
    "\n",
    "{\n",
    "    'test_loss': 0.7026541233062744,\n",
    "    'test_needs enhancements f1-score': 0.7586206896551724,\n",
    "    'test_needs to be added f1-score': 0.8888888888888888,\n",
    "    'test_needs to be removed f1-score': 0.4444444444444444,\n",
    "    'test_none f1-score': 0.8333333333333333,\n",
    "    'test_Accuracy': 0.8272727272727273,\n",
    "    'test_Macro f1-score': 0.7313218390804597,\n",
    "    'test_runtime': 0.4192,\n",
    "    'test_samples_per_second': 262.416,\n",
    "    'test_steps_per_second': 33.398\n",
    "}\n",
    "\n",
    "# performance on test data annotated with llms, train data with augmentation {target_length: 200}, with trainer\n",
    "\n",
    "{\n",
    "    'test_loss': 0.7282879948616028,\n",
    "    'test_needs enhancements f1-score': 0.6909090909090909,\n",
    "    'test_needs to be added f1-score': 0.8503937007874016,\n",
    "    'test_needs to be removed f1-score': 0.2222222222222222,\n",
    "    'test_none f1-score': 0.6896551724137931,\n",
    "    'test_Accuracy': 0.7636363636363637,\n",
    "    'test_Macro f1-score': 0.613295046583127,\n",
    "    'test_runtime': 0.3994,\n",
    "    'test_samples_per_second': 275.388,\n",
    "    'test_steps_per_second': 35.049\n",
    "}\n",
    "\n",
    "\n",
    "# performance on test data annotated with llms, train data with augmentation {target_length: 174, duplicate: True}, with trainer or custom trainer\n",
    "{\n",
    "    'test_loss': 0.6391478180885315,\n",
    "    'test_needs enhancements f1-score': 0.7272727272727273,\n",
    "    'test_needs to be added f1-score': 0.8695652173913043,\n",
    "    'test_needs to be removed f1-score': 0.5,\n",
    "    'test_none f1-score': 0.7894736842105262,\n",
    "    'test_Accuracy': 0.8,\n",
    "    'test_Macro f1-score': 0.7215779072186395,\n",
    "    'test_runtime': 0.4117,\n",
    "    'test_samples_per_second': 267.168,\n",
    "    'test_steps_per_second': 34.003\n",
    "}\n",
    "\n",
    "\n",
    "# performance on test data annotated with llms, train data with augmentation {target_length: 300, duplicate: True}, with custom trainer\n",
    "{\n",
    "    'test_loss': 0.6742064952850342,\n",
    "    'test_needs enhancements f1-score': 0.7169811320754716,\n",
    "    'test_needs to be added f1-score': 0.8717948717948718,\n",
    "    'test_needs to be removed f1-score': 0.6153846153846153,\n",
    "    'test_none f1-score': 0.7567567567567567,\n",
    "    'test_Accuracy': 0.8,\n",
    "    'test_Macro f1-score': 0.7402293440029288,\n",
    "    'test_runtime': 0.4105,\n",
    "    'test_samples_per_second': 267.978,\n",
    "    'test_steps_per_second': 34.106\n",
    "}\n",
    "\n",
    "\n",
    "# performance on test data annotated with llms and human, train data with augmentation {target_length: 300, duplicate: True}, with custom trainer\n",
    "\n",
    "{\n",
    "    'test_loss': 0.6602676510810852,\n",
    "    'test_needs enhancements f1-score': 0.7272727272727273,\n",
    "    'test_needs to be added f1-score': 0.8108108108108109,\n",
    "    'test_needs to be removed f1-score': 0.5714285714285714,\n",
    "    'test_none f1-score': 0.8000000000000002,\n",
    "    'test_Accuracy': 0.7727272727272727,\n",
    "    'test_Macro f1-score': 0.7273780273780274,\n",
    "    'test_runtime': 0.399,\n",
    "    'test_samples_per_second': 275.711,\n",
    "    'test_steps_per_second': 35.09\n",
    "}\n",
    "\n",
    "# performance on test data annotated with llms and human, train data with augmentation {target_length: 300, duplicate: True}, with custom trainer\n",
    "# FacebookAI/xlm-roberta-base\n",
    "{\n",
    "    'test_loss': 0.5830352306365967,\n",
    "    'test_needs enhancements f1-score': 0.7169811320754718,\n",
    "    'test_needs to be added f1-score': 0.8141592920353982,\n",
    "    'test_needs to be removed f1-score': 0.6666666666666666,\n",
    "    'test_none f1-score': 0.8717948717948718,\n",
    "    'test_Accuracy': 0.7909090909090909,\n",
    "    'test_Macro f1-score': 0.7674004906431021,\n",
    "    'test_runtime': 0.3282,\n",
    "    'test_samples_per_second': 335.137,\n",
    "    'test_steps_per_second': 42.654\n",
    "}\n",
    "\n",
    "print()"
   ]
  },
  {
   "cell_type": "code",
   "execution_count": null,
   "metadata": {},
   "outputs": [],
   "source": []
  }
 ],
 "metadata": {
  "accelerator": "GPU",
  "colab": {
   "gpuType": "T4",
   "provenance": []
  },
  "kernelspec": {
   "display_name": "Python 3 (ipykernel)",
   "language": "python",
   "name": "python3"
  },
  "language_info": {
   "codemirror_mode": {
    "name": "ipython",
    "version": 3
   },
   "file_extension": ".py",
   "mimetype": "text/x-python",
   "name": "python",
   "nbconvert_exporter": "python",
   "pygments_lexer": "ipython3",
   "version": "3.11.7"
  },
  "widgets": {
   "application/vnd.jupyter.widget-state+json": {
    "2e17ca8e2ac24a98a088677f682f7bf1": {
     "model_module": "@jupyter-widgets/controls",
     "model_module_version": "1.5.0",
     "model_name": "HBoxModel",
     "state": {
      "_dom_classes": [],
      "_model_module": "@jupyter-widgets/controls",
      "_model_module_version": "1.5.0",
      "_model_name": "HBoxModel",
      "_view_count": null,
      "_view_module": "@jupyter-widgets/controls",
      "_view_module_version": "1.5.0",
      "_view_name": "HBoxView",
      "box_style": "",
      "children": [
       "IPY_MODEL_e9489ba20d474fa2bbb7636b6b37fe9c",
       "IPY_MODEL_c7017335c8f94531a18ee9535740a10d",
       "IPY_MODEL_5b4dfc903bcc4279b97211c02513e61a"
      ],
      "layout": "IPY_MODEL_578e8825838c4051ae8f10a725530e51"
     }
    },
    "34be08734334443e904efd3ffdafd940": {
     "model_module": "@jupyter-widgets/base",
     "model_module_version": "1.2.0",
     "model_name": "LayoutModel",
     "state": {
      "_model_module": "@jupyter-widgets/base",
      "_model_module_version": "1.2.0",
      "_model_name": "LayoutModel",
      "_view_count": null,
      "_view_module": "@jupyter-widgets/base",
      "_view_module_version": "1.2.0",
      "_view_name": "LayoutView",
      "align_content": null,
      "align_items": null,
      "align_self": null,
      "border": null,
      "bottom": null,
      "display": null,
      "flex": null,
      "flex_flow": null,
      "grid_area": null,
      "grid_auto_columns": null,
      "grid_auto_flow": null,
      "grid_auto_rows": null,
      "grid_column": null,
      "grid_gap": null,
      "grid_row": null,
      "grid_template_areas": null,
      "grid_template_columns": null,
      "grid_template_rows": null,
      "height": null,
      "justify_content": null,
      "justify_items": null,
      "left": null,
      "margin": null,
      "max_height": null,
      "max_width": null,
      "min_height": null,
      "min_width": null,
      "object_fit": null,
      "object_position": null,
      "order": null,
      "overflow": null,
      "overflow_x": null,
      "overflow_y": null,
      "padding": null,
      "right": null,
      "top": null,
      "visibility": null,
      "width": null
     }
    },
    "3acf3d4864c94b088078df2d5766550a": {
     "model_module": "@jupyter-widgets/base",
     "model_module_version": "1.2.0",
     "model_name": "LayoutModel",
     "state": {
      "_model_module": "@jupyter-widgets/base",
      "_model_module_version": "1.2.0",
      "_model_name": "LayoutModel",
      "_view_count": null,
      "_view_module": "@jupyter-widgets/base",
      "_view_module_version": "1.2.0",
      "_view_name": "LayoutView",
      "align_content": null,
      "align_items": null,
      "align_self": null,
      "border": null,
      "bottom": null,
      "display": null,
      "flex": null,
      "flex_flow": null,
      "grid_area": null,
      "grid_auto_columns": null,
      "grid_auto_flow": null,
      "grid_auto_rows": null,
      "grid_column": null,
      "grid_gap": null,
      "grid_row": null,
      "grid_template_areas": null,
      "grid_template_columns": null,
      "grid_template_rows": null,
      "height": null,
      "justify_content": null,
      "justify_items": null,
      "left": null,
      "margin": null,
      "max_height": null,
      "max_width": null,
      "min_height": null,
      "min_width": null,
      "object_fit": null,
      "object_position": null,
      "order": null,
      "overflow": null,
      "overflow_x": null,
      "overflow_y": null,
      "padding": null,
      "right": null,
      "top": null,
      "visibility": null,
      "width": null
     }
    },
    "578e8825838c4051ae8f10a725530e51": {
     "model_module": "@jupyter-widgets/base",
     "model_module_version": "1.2.0",
     "model_name": "LayoutModel",
     "state": {
      "_model_module": "@jupyter-widgets/base",
      "_model_module_version": "1.2.0",
      "_model_name": "LayoutModel",
      "_view_count": null,
      "_view_module": "@jupyter-widgets/base",
      "_view_module_version": "1.2.0",
      "_view_name": "LayoutView",
      "align_content": null,
      "align_items": null,
      "align_self": null,
      "border": null,
      "bottom": null,
      "display": null,
      "flex": null,
      "flex_flow": null,
      "grid_area": null,
      "grid_auto_columns": null,
      "grid_auto_flow": null,
      "grid_auto_rows": null,
      "grid_column": null,
      "grid_gap": null,
      "grid_row": null,
      "grid_template_areas": null,
      "grid_template_columns": null,
      "grid_template_rows": null,
      "height": null,
      "justify_content": null,
      "justify_items": null,
      "left": null,
      "margin": null,
      "max_height": null,
      "max_width": null,
      "min_height": null,
      "min_width": null,
      "object_fit": null,
      "object_position": null,
      "order": null,
      "overflow": null,
      "overflow_x": null,
      "overflow_y": null,
      "padding": null,
      "right": null,
      "top": null,
      "visibility": null,
      "width": null
     }
    },
    "5b4dfc903bcc4279b97211c02513e61a": {
     "model_module": "@jupyter-widgets/controls",
     "model_module_version": "1.5.0",
     "model_name": "HTMLModel",
     "state": {
      "_dom_classes": [],
      "_model_module": "@jupyter-widgets/controls",
      "_model_module_version": "1.5.0",
      "_model_name": "HTMLModel",
      "_view_count": null,
      "_view_module": "@jupyter-widgets/controls",
      "_view_module_version": "1.5.0",
      "_view_name": "HTMLView",
      "description": "",
      "description_tooltip": null,
      "layout": "IPY_MODEL_f716b1dd917e4b6d974a859e96eb9763",
      "placeholder": "​",
      "style": "IPY_MODEL_a702f1e370f34f13af4b4b4701053f32",
      "value": " 286/286 [00:00&lt;00:00, 2094.72 examples/s]"
     }
    },
    "67f88e55fc69484c972b2d67379e9934": {
     "model_module": "@jupyter-widgets/controls",
     "model_module_version": "1.5.0",
     "model_name": "ProgressStyleModel",
     "state": {
      "_model_module": "@jupyter-widgets/controls",
      "_model_module_version": "1.5.0",
      "_model_name": "ProgressStyleModel",
      "_view_count": null,
      "_view_module": "@jupyter-widgets/base",
      "_view_module_version": "1.2.0",
      "_view_name": "StyleView",
      "bar_color": null,
      "description_width": ""
     }
    },
    "764e0f4be6424b13a8efe5bda2a484ad": {
     "model_module": "@jupyter-widgets/base",
     "model_module_version": "1.2.0",
     "model_name": "LayoutModel",
     "state": {
      "_model_module": "@jupyter-widgets/base",
      "_model_module_version": "1.2.0",
      "_model_name": "LayoutModel",
      "_view_count": null,
      "_view_module": "@jupyter-widgets/base",
      "_view_module_version": "1.2.0",
      "_view_name": "LayoutView",
      "align_content": null,
      "align_items": null,
      "align_self": null,
      "border": null,
      "bottom": null,
      "display": null,
      "flex": null,
      "flex_flow": null,
      "grid_area": null,
      "grid_auto_columns": null,
      "grid_auto_flow": null,
      "grid_auto_rows": null,
      "grid_column": null,
      "grid_gap": null,
      "grid_row": null,
      "grid_template_areas": null,
      "grid_template_columns": null,
      "grid_template_rows": null,
      "height": null,
      "justify_content": null,
      "justify_items": null,
      "left": null,
      "margin": null,
      "max_height": null,
      "max_width": null,
      "min_height": null,
      "min_width": null,
      "object_fit": null,
      "object_position": null,
      "order": null,
      "overflow": null,
      "overflow_x": null,
      "overflow_y": null,
      "padding": null,
      "right": null,
      "top": null,
      "visibility": null,
      "width": null
     }
    },
    "79584fb5ace743e195de7318bf507a45": {
     "model_module": "@jupyter-widgets/base",
     "model_module_version": "1.2.0",
     "model_name": "LayoutModel",
     "state": {
      "_model_module": "@jupyter-widgets/base",
      "_model_module_version": "1.2.0",
      "_model_name": "LayoutModel",
      "_view_count": null,
      "_view_module": "@jupyter-widgets/base",
      "_view_module_version": "1.2.0",
      "_view_name": "LayoutView",
      "align_content": null,
      "align_items": null,
      "align_self": null,
      "border": null,
      "bottom": null,
      "display": null,
      "flex": null,
      "flex_flow": null,
      "grid_area": null,
      "grid_auto_columns": null,
      "grid_auto_flow": null,
      "grid_auto_rows": null,
      "grid_column": null,
      "grid_gap": null,
      "grid_row": null,
      "grid_template_areas": null,
      "grid_template_columns": null,
      "grid_template_rows": null,
      "height": null,
      "justify_content": null,
      "justify_items": null,
      "left": null,
      "margin": null,
      "max_height": null,
      "max_width": null,
      "min_height": null,
      "min_width": null,
      "object_fit": null,
      "object_position": null,
      "order": null,
      "overflow": null,
      "overflow_x": null,
      "overflow_y": null,
      "padding": null,
      "right": null,
      "top": null,
      "visibility": null,
      "width": null
     }
    },
    "9d2ad030130a4cdc92b9f928ffd241a8": {
     "model_module": "@jupyter-widgets/controls",
     "model_module_version": "1.5.0",
     "model_name": "HTMLModel",
     "state": {
      "_dom_classes": [],
      "_model_module": "@jupyter-widgets/controls",
      "_model_module_version": "1.5.0",
      "_model_name": "HTMLModel",
      "_view_count": null,
      "_view_module": "@jupyter-widgets/controls",
      "_view_module_version": "1.5.0",
      "_view_name": "HTMLView",
      "description": "",
      "description_tooltip": null,
      "layout": "IPY_MODEL_79584fb5ace743e195de7318bf507a45",
      "placeholder": "​",
      "style": "IPY_MODEL_e132e4d9107c478ea20655df44383a4f",
      "value": " 665/665 [00:00&lt;00:00, 2037.25 examples/s]"
     }
    },
    "a4ef94a8ab404db098912bf80d39a18c": {
     "model_module": "@jupyter-widgets/controls",
     "model_module_version": "1.5.0",
     "model_name": "FloatProgressModel",
     "state": {
      "_dom_classes": [],
      "_model_module": "@jupyter-widgets/controls",
      "_model_module_version": "1.5.0",
      "_model_name": "FloatProgressModel",
      "_view_count": null,
      "_view_module": "@jupyter-widgets/controls",
      "_view_module_version": "1.5.0",
      "_view_name": "ProgressView",
      "bar_style": "success",
      "description": "",
      "description_tooltip": null,
      "layout": "IPY_MODEL_3acf3d4864c94b088078df2d5766550a",
      "max": 665,
      "min": 0,
      "orientation": "horizontal",
      "style": "IPY_MODEL_f162757d83634fe1acb2d49e684fe956",
      "value": 665
     }
    },
    "a702f1e370f34f13af4b4b4701053f32": {
     "model_module": "@jupyter-widgets/controls",
     "model_module_version": "1.5.0",
     "model_name": "DescriptionStyleModel",
     "state": {
      "_model_module": "@jupyter-widgets/controls",
      "_model_module_version": "1.5.0",
      "_model_name": "DescriptionStyleModel",
      "_view_count": null,
      "_view_module": "@jupyter-widgets/base",
      "_view_module_version": "1.2.0",
      "_view_name": "StyleView",
      "description_width": ""
     }
    },
    "a79d73b9e4194bc4b02f845c24858827": {
     "model_module": "@jupyter-widgets/controls",
     "model_module_version": "1.5.0",
     "model_name": "HBoxModel",
     "state": {
      "_dom_classes": [],
      "_model_module": "@jupyter-widgets/controls",
      "_model_module_version": "1.5.0",
      "_model_name": "HBoxModel",
      "_view_count": null,
      "_view_module": "@jupyter-widgets/controls",
      "_view_module_version": "1.5.0",
      "_view_name": "HBoxView",
      "box_style": "",
      "children": [
       "IPY_MODEL_e35a5eec199c4fd087074774c5c63ba5",
       "IPY_MODEL_a4ef94a8ab404db098912bf80d39a18c",
       "IPY_MODEL_9d2ad030130a4cdc92b9f928ffd241a8"
      ],
      "layout": "IPY_MODEL_b901264a25b842e1bd46a1b6a84ba704"
     }
    },
    "b901264a25b842e1bd46a1b6a84ba704": {
     "model_module": "@jupyter-widgets/base",
     "model_module_version": "1.2.0",
     "model_name": "LayoutModel",
     "state": {
      "_model_module": "@jupyter-widgets/base",
      "_model_module_version": "1.2.0",
      "_model_name": "LayoutModel",
      "_view_count": null,
      "_view_module": "@jupyter-widgets/base",
      "_view_module_version": "1.2.0",
      "_view_name": "LayoutView",
      "align_content": null,
      "align_items": null,
      "align_self": null,
      "border": null,
      "bottom": null,
      "display": null,
      "flex": null,
      "flex_flow": null,
      "grid_area": null,
      "grid_auto_columns": null,
      "grid_auto_flow": null,
      "grid_auto_rows": null,
      "grid_column": null,
      "grid_gap": null,
      "grid_row": null,
      "grid_template_areas": null,
      "grid_template_columns": null,
      "grid_template_rows": null,
      "height": null,
      "justify_content": null,
      "justify_items": null,
      "left": null,
      "margin": null,
      "max_height": null,
      "max_width": null,
      "min_height": null,
      "min_width": null,
      "object_fit": null,
      "object_position": null,
      "order": null,
      "overflow": null,
      "overflow_x": null,
      "overflow_y": null,
      "padding": null,
      "right": null,
      "top": null,
      "visibility": null,
      "width": null
     }
    },
    "c7017335c8f94531a18ee9535740a10d": {
     "model_module": "@jupyter-widgets/controls",
     "model_module_version": "1.5.0",
     "model_name": "FloatProgressModel",
     "state": {
      "_dom_classes": [],
      "_model_module": "@jupyter-widgets/controls",
      "_model_module_version": "1.5.0",
      "_model_name": "FloatProgressModel",
      "_view_count": null,
      "_view_module": "@jupyter-widgets/controls",
      "_view_module_version": "1.5.0",
      "_view_name": "ProgressView",
      "bar_style": "success",
      "description": "",
      "description_tooltip": null,
      "layout": "IPY_MODEL_e6615893fe844e888e88d4257c39c28f",
      "max": 286,
      "min": 0,
      "orientation": "horizontal",
      "style": "IPY_MODEL_67f88e55fc69484c972b2d67379e9934",
      "value": 286
     }
    },
    "d087bf32b4834f05aaca907bd0631b07": {
     "model_module": "@jupyter-widgets/controls",
     "model_module_version": "1.5.0",
     "model_name": "DescriptionStyleModel",
     "state": {
      "_model_module": "@jupyter-widgets/controls",
      "_model_module_version": "1.5.0",
      "_model_name": "DescriptionStyleModel",
      "_view_count": null,
      "_view_module": "@jupyter-widgets/base",
      "_view_module_version": "1.2.0",
      "_view_name": "StyleView",
      "description_width": ""
     }
    },
    "e132e4d9107c478ea20655df44383a4f": {
     "model_module": "@jupyter-widgets/controls",
     "model_module_version": "1.5.0",
     "model_name": "DescriptionStyleModel",
     "state": {
      "_model_module": "@jupyter-widgets/controls",
      "_model_module_version": "1.5.0",
      "_model_name": "DescriptionStyleModel",
      "_view_count": null,
      "_view_module": "@jupyter-widgets/base",
      "_view_module_version": "1.2.0",
      "_view_name": "StyleView",
      "description_width": ""
     }
    },
    "e35a5eec199c4fd087074774c5c63ba5": {
     "model_module": "@jupyter-widgets/controls",
     "model_module_version": "1.5.0",
     "model_name": "HTMLModel",
     "state": {
      "_dom_classes": [],
      "_model_module": "@jupyter-widgets/controls",
      "_model_module_version": "1.5.0",
      "_model_name": "HTMLModel",
      "_view_count": null,
      "_view_module": "@jupyter-widgets/controls",
      "_view_module_version": "1.5.0",
      "_view_name": "HTMLView",
      "description": "",
      "description_tooltip": null,
      "layout": "IPY_MODEL_34be08734334443e904efd3ffdafd940",
      "placeholder": "​",
      "style": "IPY_MODEL_d087bf32b4834f05aaca907bd0631b07",
      "value": "Map: 100%"
     }
    },
    "e41c49353a2f4f8d86ae6946c4bd162f": {
     "model_module": "@jupyter-widgets/controls",
     "model_module_version": "1.5.0",
     "model_name": "DescriptionStyleModel",
     "state": {
      "_model_module": "@jupyter-widgets/controls",
      "_model_module_version": "1.5.0",
      "_model_name": "DescriptionStyleModel",
      "_view_count": null,
      "_view_module": "@jupyter-widgets/base",
      "_view_module_version": "1.2.0",
      "_view_name": "StyleView",
      "description_width": ""
     }
    },
    "e6615893fe844e888e88d4257c39c28f": {
     "model_module": "@jupyter-widgets/base",
     "model_module_version": "1.2.0",
     "model_name": "LayoutModel",
     "state": {
      "_model_module": "@jupyter-widgets/base",
      "_model_module_version": "1.2.0",
      "_model_name": "LayoutModel",
      "_view_count": null,
      "_view_module": "@jupyter-widgets/base",
      "_view_module_version": "1.2.0",
      "_view_name": "LayoutView",
      "align_content": null,
      "align_items": null,
      "align_self": null,
      "border": null,
      "bottom": null,
      "display": null,
      "flex": null,
      "flex_flow": null,
      "grid_area": null,
      "grid_auto_columns": null,
      "grid_auto_flow": null,
      "grid_auto_rows": null,
      "grid_column": null,
      "grid_gap": null,
      "grid_row": null,
      "grid_template_areas": null,
      "grid_template_columns": null,
      "grid_template_rows": null,
      "height": null,
      "justify_content": null,
      "justify_items": null,
      "left": null,
      "margin": null,
      "max_height": null,
      "max_width": null,
      "min_height": null,
      "min_width": null,
      "object_fit": null,
      "object_position": null,
      "order": null,
      "overflow": null,
      "overflow_x": null,
      "overflow_y": null,
      "padding": null,
      "right": null,
      "top": null,
      "visibility": null,
      "width": null
     }
    },
    "e9489ba20d474fa2bbb7636b6b37fe9c": {
     "model_module": "@jupyter-widgets/controls",
     "model_module_version": "1.5.0",
     "model_name": "HTMLModel",
     "state": {
      "_dom_classes": [],
      "_model_module": "@jupyter-widgets/controls",
      "_model_module_version": "1.5.0",
      "_model_name": "HTMLModel",
      "_view_count": null,
      "_view_module": "@jupyter-widgets/controls",
      "_view_module_version": "1.5.0",
      "_view_name": "HTMLView",
      "description": "",
      "description_tooltip": null,
      "layout": "IPY_MODEL_764e0f4be6424b13a8efe5bda2a484ad",
      "placeholder": "​",
      "style": "IPY_MODEL_e41c49353a2f4f8d86ae6946c4bd162f",
      "value": "Map: 100%"
     }
    },
    "f162757d83634fe1acb2d49e684fe956": {
     "model_module": "@jupyter-widgets/controls",
     "model_module_version": "1.5.0",
     "model_name": "ProgressStyleModel",
     "state": {
      "_model_module": "@jupyter-widgets/controls",
      "_model_module_version": "1.5.0",
      "_model_name": "ProgressStyleModel",
      "_view_count": null,
      "_view_module": "@jupyter-widgets/base",
      "_view_module_version": "1.2.0",
      "_view_name": "StyleView",
      "bar_color": null,
      "description_width": ""
     }
    },
    "f716b1dd917e4b6d974a859e96eb9763": {
     "model_module": "@jupyter-widgets/base",
     "model_module_version": "1.2.0",
     "model_name": "LayoutModel",
     "state": {
      "_model_module": "@jupyter-widgets/base",
      "_model_module_version": "1.2.0",
      "_model_name": "LayoutModel",
      "_view_count": null,
      "_view_module": "@jupyter-widgets/base",
      "_view_module_version": "1.2.0",
      "_view_name": "LayoutView",
      "align_content": null,
      "align_items": null,
      "align_self": null,
      "border": null,
      "bottom": null,
      "display": null,
      "flex": null,
      "flex_flow": null,
      "grid_area": null,
      "grid_auto_columns": null,
      "grid_auto_flow": null,
      "grid_auto_rows": null,
      "grid_column": null,
      "grid_gap": null,
      "grid_row": null,
      "grid_template_areas": null,
      "grid_template_columns": null,
      "grid_template_rows": null,
      "height": null,
      "justify_content": null,
      "justify_items": null,
      "left": null,
      "margin": null,
      "max_height": null,
      "max_width": null,
      "min_height": null,
      "min_width": null,
      "object_fit": null,
      "object_position": null,
      "order": null,
      "overflow": null,
      "overflow_x": null,
      "overflow_y": null,
      "padding": null,
      "right": null,
      "top": null,
      "visibility": null,
      "width": null
     }
    }
   }
  }
 },
 "nbformat": 4,
 "nbformat_minor": 4
}
