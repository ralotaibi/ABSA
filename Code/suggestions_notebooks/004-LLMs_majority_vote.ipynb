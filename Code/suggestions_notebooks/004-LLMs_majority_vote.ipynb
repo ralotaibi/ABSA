{
 "cells": [
  {
   "cell_type": "code",
   "execution_count": 1,
   "id": "cd7e6284-fed5-4bf3-a1eb-22d9c42fb8b9",
   "metadata": {
    "tags": []
   },
   "outputs": [],
   "source": [
    "import os\n",
    "import pandas as pd\n",
    "from typing import List, Dict\n",
    "from rich import print\n",
    "from collections import Counter"
   ]
  },
  {
   "cell_type": "code",
   "execution_count": 2,
   "id": "5ba93533-653f-4660-9b0a-5b1f1ce091a7",
   "metadata": {
    "tags": []
   },
   "outputs": [],
   "source": [
    "# train_gpt4o = pd.read_csv('../../data/result/train_with_suggestion_df_llm_gpt4o.csv')\n",
    "test_gpt4o = pd.read_csv('../../data/result/test_with_suggestion_df_llm_gpt4o.csv')\n",
    "\n",
    "# train_command = pd.read_csv('../../data/result/train_with_suggestions_df_llm_command_r_plus.csv')\n",
    "test_command = pd.read_csv('../../data/result/test_with_suggestions_df_llm_command_r_plus.csv')\n",
    "\n",
    "# train_llama3 = pd.read_csv('../../data/result/train_with_suggestion_df_llm_llama3_70b.csv')\n",
    "test_llama3 = pd.read_csv('../../data/result/test_with_suggestion_df_llm_llama3_70b.csv')"
   ]
  },
  {
   "cell_type": "code",
   "execution_count": 3,
   "id": "b39d5f52-6591-44a9-a334-46db17af6dfc",
   "metadata": {
    "tags": []
   },
   "outputs": [],
   "source": [
    "def majority_vote(labels_dict: Dict, labels_list: List[str], break_tie: List):\n",
    "    \"\"\"\n",
    "    Determines the majority vote from multiple annotators' labels for a given example.\n",
    "\n",
    "    Parameters:\n",
    "    -----------\n",
    "    labels_dict : dict\n",
    "        A dictionary with annotator names as keys and their corresponding labels as values.\n",
    "    labels_list : list\n",
    "        A list containing all possible labels.\n",
    "    break_tie : str\n",
    "        The annotator whose label should be favored in case of a tie. If `break_tie` is not a key in `labels_dict`, its value will be preferred if it is in `labels_list`.\n",
    "\n",
    "    Returns:\n",
    "    --------\n",
    "    str\n",
    "        The label that represents the majority vote.\n",
    "    bool\n",
    "        If there is a tie or not.\n",
    "    \"\"\"\n",
    "    labels = list(labels_dict.values())\n",
    "    \n",
    "    tie = False\n",
    "    # break tie\n",
    "    if len(set(labels)) == len(labels):\n",
    "        label = labels_dict.get(break_tie, break_tie)\n",
    "        tie = True\n",
    "        if label not in labels_list:\n",
    "            raise ValueError(f\"The label '{label}' is not in the list of possible labels.\")\n",
    "    \n",
    "    else:\n",
    "        label = Counter(labels).most_common()[0][0]\n",
    "\n",
    "    return label, tie"
   ]
  },
  {
   "cell_type": "code",
   "execution_count": 4,
   "id": "aac362ec-4862-4a92-855e-e133eb20d2f3",
   "metadata": {
    "tags": []
   },
   "outputs": [
    {
     "data": {
      "text/html": [
       "<div>\n",
       "<style scoped>\n",
       "    .dataframe tbody tr th:only-of-type {\n",
       "        vertical-align: middle;\n",
       "    }\n",
       "\n",
       "    .dataframe tbody tr th {\n",
       "        vertical-align: top;\n",
       "    }\n",
       "\n",
       "    .dataframe thead th {\n",
       "        text-align: right;\n",
       "    }\n",
       "</style>\n",
       "<table border=\"1\" class=\"dataframe\">\n",
       "  <thead>\n",
       "    <tr style=\"text-align: right;\">\n",
       "      <th></th>\n",
       "      <th>column</th>\n",
       "      <th>text</th>\n",
       "      <th>topic_id</th>\n",
       "      <th>topic_name</th>\n",
       "      <th>suggestions_label</th>\n",
       "    </tr>\n",
       "  </thead>\n",
       "  <tbody>\n",
       "    <tr>\n",
       "      <th>0</th>\n",
       "      <td>add_suggestions</td>\n",
       "      <td>اقتراحاتي للإضافة: everything is spectacular a...</td>\n",
       "      <td>2</td>\n",
       "      <td>None</td>\n",
       "      <td>none</td>\n",
       "    </tr>\n",
       "    <tr>\n",
       "      <th>1</th>\n",
       "      <td>add_suggestions</td>\n",
       "      <td>اقتراحاتي للإضافة: thank you for everything</td>\n",
       "      <td>2</td>\n",
       "      <td>None</td>\n",
       "      <td>none</td>\n",
       "    </tr>\n",
       "    <tr>\n",
       "      <th>2</th>\n",
       "      <td>add_suggestions</td>\n",
       "      <td>اقتراحاتي للإضافة: أتمنى ان يتم تطبيقها بشكل فعال</td>\n",
       "      <td>3</td>\n",
       "      <td>موازنة الجزء العملي مع الجزء النظري</td>\n",
       "      <td>needs to be added</td>\n",
       "    </tr>\n",
       "    <tr>\n",
       "      <th>3</th>\n",
       "      <td>add_suggestions</td>\n",
       "      <td>اقتراحاتي للإضافة: ان يتم طليق العملي بشكل مكثف</td>\n",
       "      <td>3</td>\n",
       "      <td>موازنة الجزء العملي مع الجزء النظري</td>\n",
       "      <td>needs to be added</td>\n",
       "    </tr>\n",
       "    <tr>\n",
       "      <th>4</th>\n",
       "      <td>add_suggestions</td>\n",
       "      <td>اقتراحاتي للإضافة: change the contents all</td>\n",
       "      <td>0</td>\n",
       "      <td>محتوى ومعلومات المقرر</td>\n",
       "      <td>needs to be added</td>\n",
       "    </tr>\n",
       "  </tbody>\n",
       "</table>\n",
       "</div>"
      ],
      "text/plain": [
       "            column                                               text  \\\n",
       "0  add_suggestions  اقتراحاتي للإضافة: everything is spectacular a...   \n",
       "1  add_suggestions        اقتراحاتي للإضافة: thank you for everything   \n",
       "2  add_suggestions  اقتراحاتي للإضافة: أتمنى ان يتم تطبيقها بشكل فعال   \n",
       "3  add_suggestions    اقتراحاتي للإضافة: ان يتم طليق العملي بشكل مكثف   \n",
       "4  add_suggestions         اقتراحاتي للإضافة: change the contents all   \n",
       "\n",
       "   topic_id                           topic_name  suggestions_label  \n",
       "0         2                                 None               none  \n",
       "1         2                                 None               none  \n",
       "2         3  موازنة الجزء العملي مع الجزء النظري  needs to be added  \n",
       "3         3  موازنة الجزء العملي مع الجزء النظري  needs to be added  \n",
       "4         0                محتوى ومعلومات المقرر  needs to be added  "
      ]
     },
     "execution_count": 4,
     "metadata": {},
     "output_type": "execute_result"
    }
   ],
   "source": [
    "test_command.head()"
   ]
  },
  {
   "cell_type": "code",
   "execution_count": 5,
   "id": "a042a700-b9e2-41c2-8891-35773d84df19",
   "metadata": {
    "tags": []
   },
   "outputs": [],
   "source": [
    "labels_list = list(test_gpt4o['suggestion_label'].unique())"
   ]
  },
  {
   "cell_type": "code",
   "execution_count": 6,
   "id": "0889f1d0-f8c3-48ab-a5e8-8ae076f4c73c",
   "metadata": {
    "tags": []
   },
   "outputs": [
    {
     "data": {
      "text/html": [
       "<pre style=\"white-space:pre;overflow-x:auto;line-height:normal;font-family:Menlo,'DejaVu Sans Mono',consolas,'Courier New',monospace\"><span style=\"font-weight: bold\">[</span><span style=\"color: #008000; text-decoration-color: #008000\">'none'</span>, <span style=\"color: #008000; text-decoration-color: #008000\">'needs to be added'</span>, <span style=\"color: #008000; text-decoration-color: #008000\">'needs to be removed'</span>, <span style=\"color: #008000; text-decoration-color: #008000\">'needs enhancements'</span><span style=\"font-weight: bold\">]</span>\n",
       "</pre>\n"
      ],
      "text/plain": [
       "\u001b[1m[\u001b[0m\u001b[32m'none'\u001b[0m, \u001b[32m'needs to be added'\u001b[0m, \u001b[32m'needs to be removed'\u001b[0m, \u001b[32m'needs enhancements'\u001b[0m\u001b[1m]\u001b[0m\n"
      ]
     },
     "metadata": {},
     "output_type": "display_data"
    }
   ],
   "source": [
    "print(labels_list)"
   ]
  },
  {
   "cell_type": "code",
   "execution_count": 7,
   "id": "ea92a61b-71bb-4436-8b32-76639e8b2ba8",
   "metadata": {
    "tags": []
   },
   "outputs": [],
   "source": [
    "def get_label(label_cols: List[List[str]], break_tie: str, labels_list: List[str]):\n",
    "    labels = []\n",
    "    ties = []\n",
    "    for i, (gpt_label, llama_label, command_label) in enumerate(zip(*label_cols)):\n",
    "        labels_dict = {}\n",
    "        labels_dict['gpt'] = gpt_label\n",
    "        labels_dict['llama3'] = llama_label\n",
    "        labels_dict['command'] = command_label\n",
    "\n",
    "        label, tie = majority_vote(labels_dict, labels_list, break_tie=break_tie)\n",
    "\n",
    "        labels.append(label)\n",
    "        ties.append(tie)\n",
    "    \n",
    "    return labels, ties"
   ]
  },
  {
   "cell_type": "code",
   "execution_count": 8,
   "id": "5274719d-5660-49ff-8e3b-14351fce74d2",
   "metadata": {
    "tags": []
   },
   "outputs": [],
   "source": [
    "test_gpt_labels = test_gpt4o['suggestion_label']\n",
    "test_llama_labels = test_llama3['suggestion_label']\n",
    "test_command_labels = test_command['suggestions_label']"
   ]
  },
  {
   "cell_type": "code",
   "execution_count": 9,
   "id": "68eeaec3-bbb0-4570-afb3-6948ea4896b0",
   "metadata": {
    "tags": []
   },
   "outputs": [],
   "source": [
    "test_labels, test_ties = get_label([test_gpt_labels, test_llama_labels, test_command_labels], break_tie='gpt', labels_list=labels_list)"
   ]
  },
  {
   "cell_type": "code",
   "execution_count": 10,
   "id": "b6b96079-5d2f-433f-a0fa-75dbe8b63dd5",
   "metadata": {
    "tags": []
   },
   "outputs": [],
   "source": [
    "# test_labels, test_ties = get_label([test_gpt_labels, test_llama_labels, test_command_labels], break_tie='gpt', labels_list=labels_list)"
   ]
  },
  {
   "cell_type": "code",
   "execution_count": 11,
   "id": "e58aab64-f3c8-4090-96d2-3b0cd912133b",
   "metadata": {
    "tags": []
   },
   "outputs": [
    {
     "data": {
      "text/html": [
       "<div>\n",
       "<style scoped>\n",
       "    .dataframe tbody tr th:only-of-type {\n",
       "        vertical-align: middle;\n",
       "    }\n",
       "\n",
       "    .dataframe tbody tr th {\n",
       "        vertical-align: top;\n",
       "    }\n",
       "\n",
       "    .dataframe thead th {\n",
       "        text-align: right;\n",
       "    }\n",
       "</style>\n",
       "<table border=\"1\" class=\"dataframe\">\n",
       "  <thead>\n",
       "    <tr style=\"text-align: right;\">\n",
       "      <th></th>\n",
       "      <th>column</th>\n",
       "      <th>text</th>\n",
       "      <th>topic_id</th>\n",
       "      <th>topic_name</th>\n",
       "      <th>suggestion_label</th>\n",
       "    </tr>\n",
       "  </thead>\n",
       "  <tbody>\n",
       "    <tr>\n",
       "      <th>0</th>\n",
       "      <td>add_suggestions</td>\n",
       "      <td>اقتراحاتي للإضافة: everything is spectacular a...</td>\n",
       "      <td>2</td>\n",
       "      <td>None</td>\n",
       "      <td>none</td>\n",
       "    </tr>\n",
       "    <tr>\n",
       "      <th>1</th>\n",
       "      <td>add_suggestions</td>\n",
       "      <td>اقتراحاتي للإضافة: thank you for everything</td>\n",
       "      <td>2</td>\n",
       "      <td>None</td>\n",
       "      <td>none</td>\n",
       "    </tr>\n",
       "    <tr>\n",
       "      <th>2</th>\n",
       "      <td>add_suggestions</td>\n",
       "      <td>اقتراحاتي للإضافة: أتمنى ان يتم تطبيقها بشكل فعال</td>\n",
       "      <td>3</td>\n",
       "      <td>موازنة الجزء العملي مع الجزء النظري</td>\n",
       "      <td>needs to be added</td>\n",
       "    </tr>\n",
       "    <tr>\n",
       "      <th>3</th>\n",
       "      <td>add_suggestions</td>\n",
       "      <td>اقتراحاتي للإضافة: ان يتم طليق العملي بشكل مكثف</td>\n",
       "      <td>3</td>\n",
       "      <td>موازنة الجزء العملي مع الجزء النظري</td>\n",
       "      <td>needs to be added</td>\n",
       "    </tr>\n",
       "    <tr>\n",
       "      <th>4</th>\n",
       "      <td>add_suggestions</td>\n",
       "      <td>اقتراحاتي للإضافة: change the contents all</td>\n",
       "      <td>0</td>\n",
       "      <td>محتوى ومعلومات المقرر</td>\n",
       "      <td>needs to be added</td>\n",
       "    </tr>\n",
       "  </tbody>\n",
       "</table>\n",
       "</div>"
      ],
      "text/plain": [
       "            column                                               text  \\\n",
       "0  add_suggestions  اقتراحاتي للإضافة: everything is spectacular a...   \n",
       "1  add_suggestions        اقتراحاتي للإضافة: thank you for everything   \n",
       "2  add_suggestions  اقتراحاتي للإضافة: أتمنى ان يتم تطبيقها بشكل فعال   \n",
       "3  add_suggestions    اقتراحاتي للإضافة: ان يتم طليق العملي بشكل مكثف   \n",
       "4  add_suggestions         اقتراحاتي للإضافة: change the contents all   \n",
       "\n",
       "   topic_id                           topic_name   suggestion_label  \n",
       "0         2                                 None               none  \n",
       "1         2                                 None               none  \n",
       "2         3  موازنة الجزء العملي مع الجزء النظري  needs to be added  \n",
       "3         3  موازنة الجزء العملي مع الجزء النظري  needs to be added  \n",
       "4         0                محتوى ومعلومات المقرر  needs to be added  "
      ]
     },
     "execution_count": 11,
     "metadata": {},
     "output_type": "execute_result"
    }
   ],
   "source": [
    "test_gpt4o.head()"
   ]
  },
  {
   "cell_type": "code",
   "execution_count": 12,
   "id": "d4e699ae-10f6-4a07-b7c4-f8d603e148e3",
   "metadata": {
    "tags": []
   },
   "outputs": [],
   "source": [
    "test_gpt4o['majority_vote'] = test_labels\n",
    "test_gpt4o['tie'] = test_ties"
   ]
  },
  {
   "cell_type": "code",
   "execution_count": 13,
   "id": "5f8434b3-9773-4b8f-bf53-1b05b81ff340",
   "metadata": {
    "tags": []
   },
   "outputs": [
    {
     "data": {
      "text/html": [
       "<div>\n",
       "<style scoped>\n",
       "    .dataframe tbody tr th:only-of-type {\n",
       "        vertical-align: middle;\n",
       "    }\n",
       "\n",
       "    .dataframe tbody tr th {\n",
       "        vertical-align: top;\n",
       "    }\n",
       "\n",
       "    .dataframe thead th {\n",
       "        text-align: right;\n",
       "    }\n",
       "</style>\n",
       "<table border=\"1\" class=\"dataframe\">\n",
       "  <thead>\n",
       "    <tr style=\"text-align: right;\">\n",
       "      <th></th>\n",
       "      <th>column</th>\n",
       "      <th>text</th>\n",
       "      <th>topic_id</th>\n",
       "      <th>topic_name</th>\n",
       "      <th>suggestion_label</th>\n",
       "      <th>majority_vote</th>\n",
       "      <th>tie</th>\n",
       "    </tr>\n",
       "  </thead>\n",
       "  <tbody>\n",
       "    <tr>\n",
       "      <th>0</th>\n",
       "      <td>add_suggestions</td>\n",
       "      <td>اقتراحاتي للإضافة: everything is spectacular a...</td>\n",
       "      <td>2</td>\n",
       "      <td>None</td>\n",
       "      <td>none</td>\n",
       "      <td>none</td>\n",
       "      <td>False</td>\n",
       "    </tr>\n",
       "    <tr>\n",
       "      <th>1</th>\n",
       "      <td>add_suggestions</td>\n",
       "      <td>اقتراحاتي للإضافة: thank you for everything</td>\n",
       "      <td>2</td>\n",
       "      <td>None</td>\n",
       "      <td>none</td>\n",
       "      <td>none</td>\n",
       "      <td>False</td>\n",
       "    </tr>\n",
       "    <tr>\n",
       "      <th>2</th>\n",
       "      <td>add_suggestions</td>\n",
       "      <td>اقتراحاتي للإضافة: أتمنى ان يتم تطبيقها بشكل فعال</td>\n",
       "      <td>3</td>\n",
       "      <td>موازنة الجزء العملي مع الجزء النظري</td>\n",
       "      <td>needs to be added</td>\n",
       "      <td>needs to be added</td>\n",
       "      <td>False</td>\n",
       "    </tr>\n",
       "    <tr>\n",
       "      <th>3</th>\n",
       "      <td>add_suggestions</td>\n",
       "      <td>اقتراحاتي للإضافة: ان يتم طليق العملي بشكل مكثف</td>\n",
       "      <td>3</td>\n",
       "      <td>موازنة الجزء العملي مع الجزء النظري</td>\n",
       "      <td>needs to be added</td>\n",
       "      <td>needs to be added</td>\n",
       "      <td>False</td>\n",
       "    </tr>\n",
       "    <tr>\n",
       "      <th>4</th>\n",
       "      <td>add_suggestions</td>\n",
       "      <td>اقتراحاتي للإضافة: change the contents all</td>\n",
       "      <td>0</td>\n",
       "      <td>محتوى ومعلومات المقرر</td>\n",
       "      <td>needs to be added</td>\n",
       "      <td>needs to be added</td>\n",
       "      <td>False</td>\n",
       "    </tr>\n",
       "  </tbody>\n",
       "</table>\n",
       "</div>"
      ],
      "text/plain": [
       "            column                                               text  \\\n",
       "0  add_suggestions  اقتراحاتي للإضافة: everything is spectacular a...   \n",
       "1  add_suggestions        اقتراحاتي للإضافة: thank you for everything   \n",
       "2  add_suggestions  اقتراحاتي للإضافة: أتمنى ان يتم تطبيقها بشكل فعال   \n",
       "3  add_suggestions    اقتراحاتي للإضافة: ان يتم طليق العملي بشكل مكثف   \n",
       "4  add_suggestions         اقتراحاتي للإضافة: change the contents all   \n",
       "\n",
       "   topic_id                           topic_name   suggestion_label  \\\n",
       "0         2                                 None               none   \n",
       "1         2                                 None               none   \n",
       "2         3  موازنة الجزء العملي مع الجزء النظري  needs to be added   \n",
       "3         3  موازنة الجزء العملي مع الجزء النظري  needs to be added   \n",
       "4         0                محتوى ومعلومات المقرر  needs to be added   \n",
       "\n",
       "       majority_vote    tie  \n",
       "0               none  False  \n",
       "1               none  False  \n",
       "2  needs to be added  False  \n",
       "3  needs to be added  False  \n",
       "4  needs to be added  False  "
      ]
     },
     "execution_count": 13,
     "metadata": {},
     "output_type": "execute_result"
    }
   ],
   "source": [
    "test_gpt4o.head()"
   ]
  },
  {
   "cell_type": "code",
   "execution_count": 14,
   "id": "88eb997f-68eb-47ef-93e7-b5620266be06",
   "metadata": {
    "tags": []
   },
   "outputs": [
    {
     "data": {
      "text/plain": [
       "0"
      ]
     },
     "execution_count": 14,
     "metadata": {},
     "output_type": "execute_result"
    }
   ],
   "source": [
    "# ties len\n",
    "sum(test_ties)"
   ]
  },
  {
   "cell_type": "code",
   "execution_count": 15,
   "id": "a95e0869-9b12-4636-b8bd-7f0f613f7e3b",
   "metadata": {
    "tags": []
   },
   "outputs": [
    {
     "data": {
      "text/html": [
       "<pre style=\"white-space:pre;overflow-x:auto;line-height:normal;font-family:Menlo,'DejaVu Sans Mono',consolas,'Courier New',monospace\">Saving to ..<span style=\"color: #800080; text-decoration-color: #800080\">/../data/result/</span><span style=\"color: #ff00ff; text-decoration-color: #ff00ff\">test_with_suggestions_df_majority_vote_gpt4o_preferred.csv...</span>\n",
       "</pre>\n"
      ],
      "text/plain": [
       "Saving to ..\u001b[35m/../data/result/\u001b[0m\u001b[95mtest_with_suggestions_df_majority_vote_gpt4o_preferred.csv...\u001b[0m\n"
      ]
     },
     "metadata": {},
     "output_type": "display_data"
    }
   ],
   "source": [
    "test_save_path = '../../data/result/test_with_suggestions_df_majority_vote_gpt4o_preferred.csv'\n",
    "if os.path.exists(test_save_path):\n",
    "    print('The path exists!')\n",
    "else:\n",
    "    print(f'Saving to {test_save_path}...')\n",
    "    test_gpt4o.to_csv(test_save_path, index=False)\n"
   ]
  }
 ],
 "metadata": {
  "kernelspec": {
   "display_name": "Python 3 (ipykernel)",
   "language": "python",
   "name": "python3"
  },
  "language_info": {
   "codemirror_mode": {
    "name": "ipython",
    "version": 3
   },
   "file_extension": ".py",
   "mimetype": "text/x-python",
   "name": "python",
   "nbconvert_exporter": "python",
   "pygments_lexer": "ipython3",
   "version": "3.11.7"
  }
 },
 "nbformat": 4,
 "nbformat_minor": 5
}
