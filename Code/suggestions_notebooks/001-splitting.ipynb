{
 "cells": [
  {
   "cell_type": "code",
   "execution_count": 1,
   "id": "edc5fcb7-0a5c-4d5d-8228-1237e991c82e",
   "metadata": {
    "tags": []
   },
   "outputs": [],
   "source": [
    "import pandas as pd"
   ]
  },
  {
   "cell_type": "code",
   "execution_count": 2,
   "id": "9b835234-a724-4411-99c6-74ab4d5358f7",
   "metadata": {
    "tags": []
   },
   "outputs": [],
   "source": [
    "train = pd.read_csv('../../data/result/train_df.csv')\n",
    "test = pd.read_csv('../../data/result/test_df.csv')"
   ]
  },
  {
   "cell_type": "code",
   "execution_count": 3,
   "id": "6e2c5d36-25da-4623-9922-bdd556c0b99a",
   "metadata": {
    "tags": []
   },
   "outputs": [
    {
     "data": {
      "text/html": [
       "<div>\n",
       "<style scoped>\n",
       "    .dataframe tbody tr th:only-of-type {\n",
       "        vertical-align: middle;\n",
       "    }\n",
       "\n",
       "    .dataframe tbody tr th {\n",
       "        vertical-align: top;\n",
       "    }\n",
       "\n",
       "    .dataframe thead th {\n",
       "        text-align: right;\n",
       "    }\n",
       "</style>\n",
       "<table border=\"1\" class=\"dataframe\">\n",
       "  <thead>\n",
       "    <tr style=\"text-align: right;\">\n",
       "      <th></th>\n",
       "      <th>column</th>\n",
       "      <th>text</th>\n",
       "      <th>topic_id</th>\n",
       "      <th>topic_name</th>\n",
       "    </tr>\n",
       "  </thead>\n",
       "  <tbody>\n",
       "    <tr>\n",
       "      <th>0</th>\n",
       "      <td>like</td>\n",
       "      <td>أكثر ما أعجبني: التطبيق العملي المحدث والمشابه...</td>\n",
       "      <td>3</td>\n",
       "      <td>موازنة الجزء العملي مع الجزء النظري</td>\n",
       "    </tr>\n",
       "    <tr>\n",
       "      <th>1</th>\n",
       "      <td>improve_course</td>\n",
       "      <td>اقتراحاتي للتحسين: التطبيق والبعد عن التدريس ا...</td>\n",
       "      <td>3</td>\n",
       "      <td>موازنة الجزء العملي مع الجزء النظري</td>\n",
       "    </tr>\n",
       "    <tr>\n",
       "      <th>2</th>\n",
       "      <td>like</td>\n",
       "      <td>أكثر ما أعجبني: the content</td>\n",
       "      <td>0</td>\n",
       "      <td>محتوى ومعلومات المقرر</td>\n",
       "    </tr>\n",
       "    <tr>\n",
       "      <th>3</th>\n",
       "      <td>improve_course</td>\n",
       "      <td>اقتراحاتي للتحسين: provide more new books</td>\n",
       "      <td>3</td>\n",
       "      <td>موازنة الجزء العملي مع الجزء النظري</td>\n",
       "    </tr>\n",
       "    <tr>\n",
       "      <th>4</th>\n",
       "      <td>improve_course</td>\n",
       "      <td>اقتراحاتي للتحسين: زيادة ساعات العملي</td>\n",
       "      <td>8</td>\n",
       "      <td>الوقت و الجدول</td>\n",
       "    </tr>\n",
       "  </tbody>\n",
       "</table>\n",
       "</div>"
      ],
      "text/plain": [
       "           column                                               text  \\\n",
       "0            like  أكثر ما أعجبني: التطبيق العملي المحدث والمشابه...   \n",
       "1  improve_course  اقتراحاتي للتحسين: التطبيق والبعد عن التدريس ا...   \n",
       "2            like                        أكثر ما أعجبني: the content   \n",
       "3  improve_course          اقتراحاتي للتحسين: provide more new books   \n",
       "4  improve_course              اقتراحاتي للتحسين: زيادة ساعات العملي   \n",
       "\n",
       "   topic_id                           topic_name  \n",
       "0         3  موازنة الجزء العملي مع الجزء النظري  \n",
       "1         3  موازنة الجزء العملي مع الجزء النظري  \n",
       "2         0                محتوى ومعلومات المقرر  \n",
       "3         3  موازنة الجزء العملي مع الجزء النظري  \n",
       "4         8                       الوقت و الجدول  "
      ]
     },
     "execution_count": 3,
     "metadata": {},
     "output_type": "execute_result"
    }
   ],
   "source": [
    "train.head()"
   ]
  },
  {
   "cell_type": "code",
   "execution_count": 4,
   "id": "2ab6aaea-f4a4-41a1-a37c-df814a92f538",
   "metadata": {
    "tags": []
   },
   "outputs": [
    {
     "data": {
      "text/html": [
       "<div>\n",
       "<style scoped>\n",
       "    .dataframe tbody tr th:only-of-type {\n",
       "        vertical-align: middle;\n",
       "    }\n",
       "\n",
       "    .dataframe tbody tr th {\n",
       "        vertical-align: top;\n",
       "    }\n",
       "\n",
       "    .dataframe thead th {\n",
       "        text-align: right;\n",
       "    }\n",
       "</style>\n",
       "<table border=\"1\" class=\"dataframe\">\n",
       "  <thead>\n",
       "    <tr style=\"text-align: right;\">\n",
       "      <th></th>\n",
       "      <th>column</th>\n",
       "      <th>text</th>\n",
       "      <th>topic_id</th>\n",
       "      <th>topic_name</th>\n",
       "    </tr>\n",
       "  </thead>\n",
       "  <tbody>\n",
       "    <tr>\n",
       "      <th>0</th>\n",
       "      <td>like</td>\n",
       "      <td>أكثر ما أعجبني: المقرر ساعدني جدا في فهم نظام ...</td>\n",
       "      <td>1</td>\n",
       "      <td>دكتور المقرر</td>\n",
       "    </tr>\n",
       "    <tr>\n",
       "      <th>1</th>\n",
       "      <td>dislike</td>\n",
       "      <td>أكثر ما لم يعجبني: المقرر يحتوي على مواضيع ساب...</td>\n",
       "      <td>6</td>\n",
       "      <td>طريقة تدريس و تقديم المادة</td>\n",
       "    </tr>\n",
       "    <tr>\n",
       "      <th>2</th>\n",
       "      <td>dislike</td>\n",
       "      <td>أكثر ما لم يعجبني: أسلوب شرح المقرر</td>\n",
       "      <td>5</td>\n",
       "      <td>المتطلبات و المهام و الدرجات</td>\n",
       "    </tr>\n",
       "    <tr>\n",
       "      <th>3</th>\n",
       "      <td>add_suggestions</td>\n",
       "      <td>اقتراحاتي للإضافة: everything is spectacular a...</td>\n",
       "      <td>2</td>\n",
       "      <td>None</td>\n",
       "    </tr>\n",
       "    <tr>\n",
       "      <th>4</th>\n",
       "      <td>like</td>\n",
       "      <td>أكثر ما أعجبني: معلمة المادة متمكنة وتستجيب عل...</td>\n",
       "      <td>1</td>\n",
       "      <td>دكتور المقرر</td>\n",
       "    </tr>\n",
       "  </tbody>\n",
       "</table>\n",
       "</div>"
      ],
      "text/plain": [
       "            column                                               text  \\\n",
       "0             like  أكثر ما أعجبني: المقرر ساعدني جدا في فهم نظام ...   \n",
       "1          dislike  أكثر ما لم يعجبني: المقرر يحتوي على مواضيع ساب...   \n",
       "2          dislike                أكثر ما لم يعجبني: أسلوب شرح المقرر   \n",
       "3  add_suggestions  اقتراحاتي للإضافة: everything is spectacular a...   \n",
       "4             like  أكثر ما أعجبني: معلمة المادة متمكنة وتستجيب عل...   \n",
       "\n",
       "   topic_id                    topic_name  \n",
       "0         1                  دكتور المقرر  \n",
       "1         6    طريقة تدريس و تقديم المادة  \n",
       "2         5  المتطلبات و المهام و الدرجات  \n",
       "3         2                          None  \n",
       "4         1                  دكتور المقرر  "
      ]
     },
     "execution_count": 4,
     "metadata": {},
     "output_type": "execute_result"
    }
   ],
   "source": [
    "test.head()"
   ]
  },
  {
   "cell_type": "code",
   "execution_count": 5,
   "id": "bc1a8c1a-41b7-45f9-bb69-8d00bbdf1266",
   "metadata": {
    "tags": []
   },
   "outputs": [],
   "source": [
    "train = train[train['column'].isin(['improve_course', 'add_suggestions'])]\n",
    "test = test[test['column'].isin(['improve_course', 'add_suggestions'])]"
   ]
  },
  {
   "cell_type": "code",
   "execution_count": 6,
   "id": "2dc820e2-4630-4874-bf9d-6d60b145cb8d",
   "metadata": {
    "tags": []
   },
   "outputs": [
    {
     "data": {
      "text/plain": [
       "improve_course     163\n",
       "add_suggestions    162\n",
       "Name: column, dtype: int64"
      ]
     },
     "execution_count": 6,
     "metadata": {},
     "output_type": "execute_result"
    }
   ],
   "source": [
    "train['column'].value_counts()"
   ]
  },
  {
   "cell_type": "code",
   "execution_count": 7,
   "id": "8f0cf6ab-4ee9-44a1-a9d1-e6bf4a0e87e2",
   "metadata": {
    "tags": []
   },
   "outputs": [
    {
     "data": {
      "text/plain": [
       "add_suggestions    130\n",
       "improve_course      89\n",
       "Name: column, dtype: int64"
      ]
     },
     "execution_count": 7,
     "metadata": {},
     "output_type": "execute_result"
    }
   ],
   "source": [
    "test['column'].value_counts()"
   ]
  },
  {
   "cell_type": "code",
   "execution_count": 8,
   "id": "9da37132-5321-465b-99a0-52ce54e20e2c",
   "metadata": {
    "tags": []
   },
   "outputs": [
    {
     "data": {
      "text/html": [
       "<div>\n",
       "<style scoped>\n",
       "    .dataframe tbody tr th:only-of-type {\n",
       "        vertical-align: middle;\n",
       "    }\n",
       "\n",
       "    .dataframe tbody tr th {\n",
       "        vertical-align: top;\n",
       "    }\n",
       "\n",
       "    .dataframe thead th {\n",
       "        text-align: right;\n",
       "    }\n",
       "</style>\n",
       "<table border=\"1\" class=\"dataframe\">\n",
       "  <thead>\n",
       "    <tr style=\"text-align: right;\">\n",
       "      <th></th>\n",
       "      <th>column</th>\n",
       "      <th>text</th>\n",
       "      <th>topic_id</th>\n",
       "      <th>topic_name</th>\n",
       "    </tr>\n",
       "  </thead>\n",
       "  <tbody>\n",
       "    <tr>\n",
       "      <th>3</th>\n",
       "      <td>add_suggestions</td>\n",
       "      <td>اقتراحاتي للإضافة: everything is spectacular a...</td>\n",
       "      <td>2</td>\n",
       "      <td>None</td>\n",
       "    </tr>\n",
       "    <tr>\n",
       "      <th>6</th>\n",
       "      <td>add_suggestions</td>\n",
       "      <td>اقتراحاتي للإضافة: thank you for everything</td>\n",
       "      <td>2</td>\n",
       "      <td>None</td>\n",
       "    </tr>\n",
       "    <tr>\n",
       "      <th>7</th>\n",
       "      <td>add_suggestions</td>\n",
       "      <td>اقتراحاتي للإضافة: أتمنى ان يتم تطبيقها بشكل فعال</td>\n",
       "      <td>3</td>\n",
       "      <td>موازنة الجزء العملي مع الجزء النظري</td>\n",
       "    </tr>\n",
       "    <tr>\n",
       "      <th>8</th>\n",
       "      <td>add_suggestions</td>\n",
       "      <td>اقتراحاتي للإضافة: ان يتم طليق العملي بشكل مكثف</td>\n",
       "      <td>3</td>\n",
       "      <td>موازنة الجزء العملي مع الجزء النظري</td>\n",
       "    </tr>\n",
       "    <tr>\n",
       "      <th>13</th>\n",
       "      <td>add_suggestions</td>\n",
       "      <td>اقتراحاتي للإضافة: change the contents all</td>\n",
       "      <td>0</td>\n",
       "      <td>محتوى ومعلومات المقرر</td>\n",
       "    </tr>\n",
       "  </tbody>\n",
       "</table>\n",
       "</div>"
      ],
      "text/plain": [
       "             column                                               text  \\\n",
       "3   add_suggestions  اقتراحاتي للإضافة: everything is spectacular a...   \n",
       "6   add_suggestions        اقتراحاتي للإضافة: thank you for everything   \n",
       "7   add_suggestions  اقتراحاتي للإضافة: أتمنى ان يتم تطبيقها بشكل فعال   \n",
       "8   add_suggestions    اقتراحاتي للإضافة: ان يتم طليق العملي بشكل مكثف   \n",
       "13  add_suggestions         اقتراحاتي للإضافة: change the contents all   \n",
       "\n",
       "    topic_id                           topic_name  \n",
       "3          2                                 None  \n",
       "6          2                                 None  \n",
       "7          3  موازنة الجزء العملي مع الجزء النظري  \n",
       "8          3  موازنة الجزء العملي مع الجزء النظري  \n",
       "13         0                محتوى ومعلومات المقرر  "
      ]
     },
     "execution_count": 8,
     "metadata": {},
     "output_type": "execute_result"
    }
   ],
   "source": [
    "test.head()"
   ]
  },
  {
   "cell_type": "code",
   "execution_count": 9,
   "id": "2aa49f3a-c6b1-4d6f-b4e4-02e54289b043",
   "metadata": {
    "tags": []
   },
   "outputs": [],
   "source": [
    "test.to_csv('../../data/result/suggestions_test.csv', index=False) "
   ]
  },
  {
   "cell_type": "code",
   "execution_count": 10,
   "id": "fedd3238-dab0-4886-a913-b307c8df1560",
   "metadata": {
    "tags": []
   },
   "outputs": [],
   "source": [
    "train.to_csv('../../data/result/suggestions_train.csv', index=False)"
   ]
  },
  {
   "cell_type": "code",
   "execution_count": null,
   "id": "54ad4641-621a-422c-a33f-8f2fba8dce84",
   "metadata": {},
   "outputs": [],
   "source": []
  }
 ],
 "metadata": {
  "kernelspec": {
   "display_name": "Python 3 (ipykernel)",
   "language": "python",
   "name": "python3"
  },
  "language_info": {
   "codemirror_mode": {
    "name": "ipython",
    "version": 3
   },
   "file_extension": ".py",
   "mimetype": "text/x-python",
   "name": "python",
   "nbconvert_exporter": "python",
   "pygments_lexer": "ipython3",
   "version": "3.11.7"
  }
 },
 "nbformat": 4,
 "nbformat_minor": 5
}
