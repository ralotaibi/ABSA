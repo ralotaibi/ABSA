{
 "cells": [
  {
   "cell_type": "code",
   "execution_count": 1,
   "id": "8f7a2a79-3f95-4628-807c-c8ca4c322db5",
   "metadata": {
    "tags": []
   },
   "outputs": [],
   "source": [
    "from rich import print\n",
    "import json\n",
    "from tqdm import tqdm\n",
    "from dotenv import load_dotenv, find_dotenv\n",
    "import os\n",
    "from openai import OpenAI\n",
    "import pandas as pd\n",
    "from tqdm import tqdm\n",
    "import json\n",
    "from datasets import Dataset, Value, ClassLabel, Features, DatasetDict, load_dataset, load_from_disk"
   ]
  },
  {
   "cell_type": "code",
   "execution_count": 2,
   "id": "f9d63b60-d49a-46be-b939-de3b2ae457ec",
   "metadata": {
    "tags": []
   },
   "outputs": [],
   "source": [
    "delete_prefix = False\n",
    "random_state = 42"
   ]
  },
  {
   "cell_type": "code",
   "execution_count": 3,
   "id": "3a2c5fc2-6c47-4454-8fcf-6780dd4bb8b5",
   "metadata": {
    "tags": []
   },
   "outputs": [],
   "source": [
    "_ = load_dotenv(find_dotenv())\n",
    "api_key = os.environ['OPENAI_API_KEY']\n",
    "\n",
    "# base_url = os.environ['OPENAI_BASE_URL']\n",
    "client = OpenAI()"
   ]
  },
  {
   "cell_type": "code",
   "execution_count": 4,
   "id": "88761dc1-3454-4cb6-ab38-f6d57dceadb7",
   "metadata": {
    "tags": []
   },
   "outputs": [],
   "source": [
    "system_message = \"You are a helpful assistant designed to generate synthetic data.\""
   ]
  },
  {
   "cell_type": "code",
   "execution_count": 5,
   "id": "175ea3aa-9ee6-4c83-943a-667d51e5c173",
   "metadata": {
    "tags": []
   },
   "outputs": [],
   "source": [
    "user_template = \"\"\"\n",
    "I am a data scientist working on a text classification task with imbalanced data.\n",
    "The dataset consists of responses to open-ended questions from a university survey about education.\n",
    "I have selected an example from one of the underrepresented classes.\n",
    "Your task is to generate five additional examples that are similar to the given example but distinct from it and from each other.\n",
    "\n",
    "\n",
    "## Guidelines:\n",
    "\n",
    "- Maintain the overall meaning of the provided example.\n",
    "- Ensure the semantic meaning is preserved, as these examples will be used in various classification problems.\n",
    "- You can modify some words, use synonyms, or rephrase the entire example, while keeping its original meaning.\n",
    "- Ensure that the generated examples are diverse and distinguishable from one another while preserving the original example's semantic meaning.\n",
    "\n",
    "\n",
    "Please provide the output in the following JSON format:\n",
    "{{\n",
    "\"example_1\": \"<example_1>\",\n",
    "\"example_2\": \"<example_2>\",\n",
    "\"example_3\": \"<example_3>\",\n",
    "\"example_4\": \"<example_4>\",\n",
    "\"example_5\": \"<example_5>\"\n",
    "}}\n",
    "\n",
    "\n",
    "Here is the example:\n",
    "###\n",
    "{}\n",
    "###\n",
    "\n",
    "Output:\n",
    "\"\"\""
   ]
  },
  {
   "cell_type": "code",
   "execution_count": 6,
   "id": "0ec4d455-007c-4648-a6ce-dfe4fadc7a3f",
   "metadata": {
    "tags": []
   },
   "outputs": [],
   "source": [
    "# def remove_prefix(x, return_prefix=False):\n",
    "#     prefix_list = [\n",
    "#         \"أكثر ما أعجبني:\",\n",
    "#         \"أكثر ما لم يعجبني:\",\n",
    "#         \"اقتراحاتي للتحسين:\",\n",
    "#         \"اقتراحاتي للإضافة:\"\n",
    "#     ]\n",
    "    \n",
    "#     x_new = x\n",
    "#     prefix = ''\n",
    "#     for p in prefix_list:\n",
    "#         x_new = x_new.replace(p, '').strip()\n",
    "#         if x != x_new:\n",
    "#             prefix = p\n",
    "    \n",
    "#     if return_prefix:\n",
    "#         return x_new.strip(), prefix\n",
    "    \n",
    "#     return x_new.strip()"
   ]
  },
  {
   "cell_type": "code",
   "execution_count": 7,
   "id": "148716b8-bc0d-452c-87d8-c201292c464f",
   "metadata": {
    "tags": []
   },
   "outputs": [],
   "source": [
    "data = pd.read_csv('../../data/result/train_with_sentiment_df_majority_vote_gpt4o_preferred.csv')\n",
    "# data['text'] = data['text'].apply(remove_prefix)"
   ]
  },
  {
   "cell_type": "code",
   "execution_count": 8,
   "id": "b43bd30f-d30e-4fe4-9737-db65e9d351c0",
   "metadata": {
    "tags": []
   },
   "outputs": [
    {
     "data": {
      "text/html": [
       "<div>\n",
       "<style scoped>\n",
       "    .dataframe tbody tr th:only-of-type {\n",
       "        vertical-align: middle;\n",
       "    }\n",
       "\n",
       "    .dataframe tbody tr th {\n",
       "        vertical-align: top;\n",
       "    }\n",
       "\n",
       "    .dataframe thead th {\n",
       "        text-align: right;\n",
       "    }\n",
       "</style>\n",
       "<table border=\"1\" class=\"dataframe\">\n",
       "  <thead>\n",
       "    <tr style=\"text-align: right;\">\n",
       "      <th></th>\n",
       "      <th>column</th>\n",
       "      <th>text</th>\n",
       "      <th>topic_id</th>\n",
       "      <th>topic_name</th>\n",
       "      <th>sentiment</th>\n",
       "      <th>majority_vote</th>\n",
       "      <th>tie</th>\n",
       "    </tr>\n",
       "  </thead>\n",
       "  <tbody>\n",
       "    <tr>\n",
       "      <th>0</th>\n",
       "      <td>like</td>\n",
       "      <td>أكثر ما أعجبني: التطبيق العملي المحدث والمشابه...</td>\n",
       "      <td>3</td>\n",
       "      <td>موازنة الجزء العملي مع الجزء النظري</td>\n",
       "      <td>Positive</td>\n",
       "      <td>Positive</td>\n",
       "      <td>False</td>\n",
       "    </tr>\n",
       "    <tr>\n",
       "      <th>1</th>\n",
       "      <td>improve_course</td>\n",
       "      <td>اقتراحاتي للتحسين: التطبيق والبعد عن التدريس ا...</td>\n",
       "      <td>3</td>\n",
       "      <td>موازنة الجزء العملي مع الجزء النظري</td>\n",
       "      <td>Neutral</td>\n",
       "      <td>Neutral</td>\n",
       "      <td>False</td>\n",
       "    </tr>\n",
       "    <tr>\n",
       "      <th>2</th>\n",
       "      <td>like</td>\n",
       "      <td>أكثر ما أعجبني: the content</td>\n",
       "      <td>0</td>\n",
       "      <td>محتوى ومعلومات المقرر</td>\n",
       "      <td>Positive</td>\n",
       "      <td>Positive</td>\n",
       "      <td>False</td>\n",
       "    </tr>\n",
       "    <tr>\n",
       "      <th>3</th>\n",
       "      <td>improve_course</td>\n",
       "      <td>اقتراحاتي للتحسين: provide more new books</td>\n",
       "      <td>3</td>\n",
       "      <td>موازنة الجزء العملي مع الجزء النظري</td>\n",
       "      <td>Neutral</td>\n",
       "      <td>Neutral</td>\n",
       "      <td>False</td>\n",
       "    </tr>\n",
       "    <tr>\n",
       "      <th>4</th>\n",
       "      <td>improve_course</td>\n",
       "      <td>اقتراحاتي للتحسين: زيادة ساعات العملي</td>\n",
       "      <td>8</td>\n",
       "      <td>الوقت و الجدول</td>\n",
       "      <td>Neutral</td>\n",
       "      <td>Neutral</td>\n",
       "      <td>False</td>\n",
       "    </tr>\n",
       "  </tbody>\n",
       "</table>\n",
       "</div>"
      ],
      "text/plain": [
       "           column                                               text  \\\n",
       "0            like  أكثر ما أعجبني: التطبيق العملي المحدث والمشابه...   \n",
       "1  improve_course  اقتراحاتي للتحسين: التطبيق والبعد عن التدريس ا...   \n",
       "2            like                        أكثر ما أعجبني: the content   \n",
       "3  improve_course          اقتراحاتي للتحسين: provide more new books   \n",
       "4  improve_course              اقتراحاتي للتحسين: زيادة ساعات العملي   \n",
       "\n",
       "   topic_id                           topic_name sentiment majority_vote  \\\n",
       "0         3  موازنة الجزء العملي مع الجزء النظري  Positive      Positive   \n",
       "1         3  موازنة الجزء العملي مع الجزء النظري   Neutral       Neutral   \n",
       "2         0                محتوى ومعلومات المقرر  Positive      Positive   \n",
       "3         3  موازنة الجزء العملي مع الجزء النظري   Neutral       Neutral   \n",
       "4         8                       الوقت و الجدول   Neutral       Neutral   \n",
       "\n",
       "     tie  \n",
       "0  False  \n",
       "1  False  \n",
       "2  False  \n",
       "3  False  \n",
       "4  False  "
      ]
     },
     "execution_count": 8,
     "metadata": {},
     "output_type": "execute_result"
    }
   ],
   "source": [
    "data.head()"
   ]
  },
  {
   "cell_type": "code",
   "execution_count": 9,
   "id": "5f3c56ff-236a-4b22-abb5-1adae87308a6",
   "metadata": {
    "tags": []
   },
   "outputs": [
    {
     "data": {
      "text/plain": [
       "951"
      ]
     },
     "execution_count": 9,
     "metadata": {},
     "output_type": "execute_result"
    }
   ],
   "source": [
    "len(data)"
   ]
  },
  {
   "cell_type": "code",
   "execution_count": 17,
   "id": "1f8495c5-f087-4857-8569-53b5990dda69",
   "metadata": {
    "tags": []
   },
   "outputs": [
    {
     "data": {
      "text/plain": [
       "{'custom_id': 'request-1',\n",
       " 'method': 'POST',\n",
       " 'url': '/v1/chat/completions',\n",
       " 'body': {'model': 'gpt-3.5-turbo-0125',\n",
       "  'messages': [{'role': 'system', 'content': 'You are a helpful assistant.'},\n",
       "   {'role': 'user', 'content': 'Hello world!'}],\n",
       "  'max_tokens': 2000}}"
      ]
     },
     "execution_count": 17,
     "metadata": {},
     "output_type": "execute_result"
    }
   ],
   "source": [
    "{\"custom_id\": \"request-1\", \"method\": \"POST\", \"url\": \"/v1/chat/completions\", \n",
    " \"body\": {\"model\": \"gpt-3.5-turbo-0125\", \"messages\": [{\"role\": \"system\", \"content\": \"You are a helpful assistant.\"},\n",
    "                                                      {\"role\": \"user\", \"content\": \"Hello world!\"}],\n",
    "          \"max_tokens\": 2000}}"
   ]
  },
  {
   "cell_type": "code",
   "execution_count": 10,
   "id": "b6a6e42c-40ad-46d8-8cba-d2ee49ea77d9",
   "metadata": {
    "tags": []
   },
   "outputs": [],
   "source": [
    "model_name = 'gpt-4o'"
   ]
  },
  {
   "cell_type": "code",
   "execution_count": 11,
   "id": "59f1961c-5b45-4edf-bd25-670646ea24f7",
   "metadata": {
    "tags": []
   },
   "outputs": [],
   "source": [
    "example1 = \"المحتوى أكثر من رائع\""
   ]
  },
  {
   "cell_type": "code",
   "execution_count": 22,
   "id": "598f844c-573a-4edd-a3d3-aa2cdd6c63aa",
   "metadata": {
    "tags": []
   },
   "outputs": [],
   "source": [
    "jsonl = []\n",
    "\n",
    "for i, row in data.iterrows():\n",
    "    jsonl.append(\n",
    "        {\"custom_id\": str(i), \"method\": \"POST\", \"url\": \"/v1/chat/completions\", \n",
    "         \"body\": {\"model\": model_name, \"response_format\":{\"type\": \"json_object\"}, \"messages\": [{\"role\": \"system\", \"content\": system_message},\n",
    "                                                          {\"role\": \"user\", \"content\": user_template.format(row['text'], row['topic_name'])}],\n",
    "              \"max_tokens\": 3000}}\n",
    "    )"
   ]
  },
  {
   "cell_type": "code",
   "execution_count": 40,
   "id": "852dd002-60cc-45a9-a57c-acd1277261e8",
   "metadata": {
    "tags": []
   },
   "outputs": [],
   "source": [
    "# jsonl_path = '../../data/data_augmentation/gpt_batch_full_data.jsonl'\n",
    "\n",
    "jsonl_path = '../../data/data_augmentation/final_gpt_batch_full_data.jsonl'"
   ]
  },
  {
   "cell_type": "code",
   "execution_count": 24,
   "id": "4bfc8e5e-f52a-4d9d-bad1-63aada7d7691",
   "metadata": {
    "tags": []
   },
   "outputs": [],
   "source": [
    "with open(jsonl_path, 'w') as f:\n",
    "    for entry in jsonl:\n",
    "        json_line = json.dumps(entry)\n",
    "        f.write(json_line + '\\n')"
   ]
  },
  {
   "cell_type": "code",
   "execution_count": 25,
   "id": "6d8c6ee0-e55d-420d-8b4d-4649f01fbaf6",
   "metadata": {
    "tags": []
   },
   "outputs": [],
   "source": [
    "batch_input_file = client.files.create(\n",
    "  file=open(jsonl_path, \"rb\"),\n",
    "  purpose=\"batch\"\n",
    ")"
   ]
  },
  {
   "cell_type": "code",
   "execution_count": 26,
   "id": "6c8a81ac-8e1c-46b9-a9bc-38223dcc9baf",
   "metadata": {
    "tags": []
   },
   "outputs": [
    {
     "data": {
      "text/plain": [
       "'file-IS8Q5P15qMNEguOJ5vpApDDN'"
      ]
     },
     "execution_count": 26,
     "metadata": {},
     "output_type": "execute_result"
    }
   ],
   "source": [
    "batch_input_file_id = batch_input_file.id\n",
    "batch_input_file_id"
   ]
  },
  {
   "cell_type": "code",
   "execution_count": 27,
   "id": "1c71ae65-030a-4ae3-baa9-70d05c876eb5",
   "metadata": {
    "tags": []
   },
   "outputs": [
    {
     "data": {
      "text/plain": [
       "Batch(id='batch_NNLNo6WHjJucrq8tDvAHlJQc', completion_window='24h', created_at=1722802932, endpoint='/v1/chat/completions', input_file_id='file-IS8Q5P15qMNEguOJ5vpApDDN', object='batch', status='validating', cancelled_at=None, cancelling_at=None, completed_at=None, error_file_id=None, errors=None, expired_at=None, expires_at=1722889332, failed_at=None, finalizing_at=None, in_progress_at=None, metadata={'description': 'augment full data final'}, output_file_id=None, request_counts=BatchRequestCounts(completed=0, failed=0, total=0))"
      ]
     },
     "execution_count": 27,
     "metadata": {},
     "output_type": "execute_result"
    }
   ],
   "source": [
    "client.batches.create(\n",
    "    input_file_id=batch_input_file_id,\n",
    "    endpoint=\"/v1/chat/completions\",\n",
    "    completion_window=\"24h\",\n",
    "    metadata={\n",
    "      \"description\": \"augment full data final\"\n",
    "    },\n",
    "\n",
    ")"
   ]
  },
  {
   "cell_type": "code",
   "execution_count": 32,
   "id": "f0d7176b-ebab-4898-ae15-80b4e2d02e33",
   "metadata": {
    "tags": []
   },
   "outputs": [
    {
     "data": {
      "text/html": [
       "<pre style=\"white-space:pre;overflow-x:auto;line-height:normal;font-family:Menlo,'DejaVu Sans Mono',consolas,'Courier New',monospace\"><span style=\"color: #800080; text-decoration-color: #800080; font-weight: bold\">Batch</span><span style=\"font-weight: bold\">(</span>\n",
       "    <span style=\"color: #808000; text-decoration-color: #808000\">id</span>=<span style=\"color: #008000; text-decoration-color: #008000\">'batch_NNLNo6WHjJucrq8tDvAHlJQc'</span>,\n",
       "    <span style=\"color: #808000; text-decoration-color: #808000\">completion_window</span>=<span style=\"color: #008000; text-decoration-color: #008000\">'24h'</span>,\n",
       "    <span style=\"color: #808000; text-decoration-color: #808000\">created_at</span>=<span style=\"color: #008080; text-decoration-color: #008080; font-weight: bold\">1722802932</span>,\n",
       "    <span style=\"color: #808000; text-decoration-color: #808000\">endpoint</span>=<span style=\"color: #008000; text-decoration-color: #008000\">'/v1/chat/completions'</span>,\n",
       "    <span style=\"color: #808000; text-decoration-color: #808000\">input_file_id</span>=<span style=\"color: #008000; text-decoration-color: #008000\">'file-IS8Q5P15qMNEguOJ5vpApDDN'</span>,\n",
       "    <span style=\"color: #808000; text-decoration-color: #808000\">object</span>=<span style=\"color: #008000; text-decoration-color: #008000\">'batch'</span>,\n",
       "    <span style=\"color: #808000; text-decoration-color: #808000\">status</span>=<span style=\"color: #008000; text-decoration-color: #008000\">'completed'</span>,\n",
       "    <span style=\"color: #808000; text-decoration-color: #808000\">cancelled_at</span>=<span style=\"color: #800080; text-decoration-color: #800080; font-style: italic\">None</span>,\n",
       "    <span style=\"color: #808000; text-decoration-color: #808000\">cancelling_at</span>=<span style=\"color: #800080; text-decoration-color: #800080; font-style: italic\">None</span>,\n",
       "    <span style=\"color: #808000; text-decoration-color: #808000\">completed_at</span>=<span style=\"color: #008080; text-decoration-color: #008080; font-weight: bold\">1722803077</span>,\n",
       "    <span style=\"color: #808000; text-decoration-color: #808000\">error_file_id</span>=<span style=\"color: #800080; text-decoration-color: #800080; font-style: italic\">None</span>,\n",
       "    <span style=\"color: #808000; text-decoration-color: #808000\">errors</span>=<span style=\"color: #800080; text-decoration-color: #800080; font-style: italic\">None</span>,\n",
       "    <span style=\"color: #808000; text-decoration-color: #808000\">expired_at</span>=<span style=\"color: #800080; text-decoration-color: #800080; font-style: italic\">None</span>,\n",
       "    <span style=\"color: #808000; text-decoration-color: #808000\">expires_at</span>=<span style=\"color: #008080; text-decoration-color: #008080; font-weight: bold\">1722889332</span>,\n",
       "    <span style=\"color: #808000; text-decoration-color: #808000\">failed_at</span>=<span style=\"color: #800080; text-decoration-color: #800080; font-style: italic\">None</span>,\n",
       "    <span style=\"color: #808000; text-decoration-color: #808000\">finalizing_at</span>=<span style=\"color: #008080; text-decoration-color: #008080; font-weight: bold\">1722803041</span>,\n",
       "    <span style=\"color: #808000; text-decoration-color: #808000\">in_progress_at</span>=<span style=\"color: #008080; text-decoration-color: #008080; font-weight: bold\">1722802933</span>,\n",
       "    <span style=\"color: #808000; text-decoration-color: #808000\">metadata</span>=<span style=\"font-weight: bold\">{</span><span style=\"color: #008000; text-decoration-color: #008000\">'description'</span>: <span style=\"color: #008000; text-decoration-color: #008000\">'augment full data final'</span><span style=\"font-weight: bold\">}</span>,\n",
       "    <span style=\"color: #808000; text-decoration-color: #808000\">output_file_id</span>=<span style=\"color: #008000; text-decoration-color: #008000\">'file-C9xtiIFSqPQfQ1oUM5QTZxtQ'</span>,\n",
       "    <span style=\"color: #808000; text-decoration-color: #808000\">request_counts</span>=<span style=\"color: #800080; text-decoration-color: #800080; font-weight: bold\">BatchRequestCounts</span><span style=\"font-weight: bold\">(</span><span style=\"color: #808000; text-decoration-color: #808000\">completed</span>=<span style=\"color: #008080; text-decoration-color: #008080; font-weight: bold\">951</span>, <span style=\"color: #808000; text-decoration-color: #808000\">failed</span>=<span style=\"color: #008080; text-decoration-color: #008080; font-weight: bold\">0</span>, <span style=\"color: #808000; text-decoration-color: #808000\">total</span>=<span style=\"color: #008080; text-decoration-color: #008080; font-weight: bold\">951</span><span style=\"font-weight: bold\">)</span>\n",
       "<span style=\"font-weight: bold\">)</span>\n",
       "</pre>\n"
      ],
      "text/plain": [
       "\u001b[1;35mBatch\u001b[0m\u001b[1m(\u001b[0m\n",
       "    \u001b[33mid\u001b[0m=\u001b[32m'batch_NNLNo6WHjJucrq8tDvAHlJQc'\u001b[0m,\n",
       "    \u001b[33mcompletion_window\u001b[0m=\u001b[32m'24h'\u001b[0m,\n",
       "    \u001b[33mcreated_at\u001b[0m=\u001b[1;36m1722802932\u001b[0m,\n",
       "    \u001b[33mendpoint\u001b[0m=\u001b[32m'/v1/chat/completions'\u001b[0m,\n",
       "    \u001b[33minput_file_id\u001b[0m=\u001b[32m'file-IS8Q5P15qMNEguOJ5vpApDDN'\u001b[0m,\n",
       "    \u001b[33mobject\u001b[0m=\u001b[32m'batch'\u001b[0m,\n",
       "    \u001b[33mstatus\u001b[0m=\u001b[32m'completed'\u001b[0m,\n",
       "    \u001b[33mcancelled_at\u001b[0m=\u001b[3;35mNone\u001b[0m,\n",
       "    \u001b[33mcancelling_at\u001b[0m=\u001b[3;35mNone\u001b[0m,\n",
       "    \u001b[33mcompleted_at\u001b[0m=\u001b[1;36m1722803077\u001b[0m,\n",
       "    \u001b[33merror_file_id\u001b[0m=\u001b[3;35mNone\u001b[0m,\n",
       "    \u001b[33merrors\u001b[0m=\u001b[3;35mNone\u001b[0m,\n",
       "    \u001b[33mexpired_at\u001b[0m=\u001b[3;35mNone\u001b[0m,\n",
       "    \u001b[33mexpires_at\u001b[0m=\u001b[1;36m1722889332\u001b[0m,\n",
       "    \u001b[33mfailed_at\u001b[0m=\u001b[3;35mNone\u001b[0m,\n",
       "    \u001b[33mfinalizing_at\u001b[0m=\u001b[1;36m1722803041\u001b[0m,\n",
       "    \u001b[33min_progress_at\u001b[0m=\u001b[1;36m1722802933\u001b[0m,\n",
       "    \u001b[33mmetadata\u001b[0m=\u001b[1m{\u001b[0m\u001b[32m'description'\u001b[0m: \u001b[32m'augment full data final'\u001b[0m\u001b[1m}\u001b[0m,\n",
       "    \u001b[33moutput_file_id\u001b[0m=\u001b[32m'file-C9xtiIFSqPQfQ1oUM5QTZxtQ'\u001b[0m,\n",
       "    \u001b[33mrequest_counts\u001b[0m=\u001b[1;35mBatchRequestCounts\u001b[0m\u001b[1m(\u001b[0m\u001b[33mcompleted\u001b[0m=\u001b[1;36m951\u001b[0m, \u001b[33mfailed\u001b[0m=\u001b[1;36m0\u001b[0m, \u001b[33mtotal\u001b[0m=\u001b[1;36m951\u001b[0m\u001b[1m)\u001b[0m\n",
       "\u001b[1m)\u001b[0m\n"
      ]
     },
     "metadata": {},
     "output_type": "display_data"
    }
   ],
   "source": [
    "print(client.batches.retrieve('batch_NNLNo6WHjJucrq8tDvAHlJQc'))"
   ]
  },
  {
   "cell_type": "code",
   "execution_count": 33,
   "id": "bb870b56-8bdf-4401-9991-0e2b7c1faabf",
   "metadata": {
    "tags": []
   },
   "outputs": [],
   "source": [
    "file_response = client.files.content('file-C9xtiIFSqPQfQ1oUM5QTZxtQ')"
   ]
  },
  {
   "cell_type": "code",
   "execution_count": 35,
   "id": "58156b5c-53ec-468e-9ae8-beb01808bab3",
   "metadata": {
    "tags": []
   },
   "outputs": [
    {
     "data": {
      "text/html": [
       "<pre style=\"white-space:pre;overflow-x:auto;line-height:normal;font-family:Menlo,'DejaVu Sans Mono',consolas,'Courier New',monospace\">Saving to ..<span style=\"color: #800080; text-decoration-color: #800080\">/../data/data_augmentation/gpt_augmentation/</span><span style=\"color: #ff00ff; text-decoration-color: #ff00ff\">final_full_data_5_examples.jsonl</span>\n",
       "</pre>\n"
      ],
      "text/plain": [
       "Saving to ..\u001b[35m/../data/data_augmentation/gpt_augmentation/\u001b[0m\u001b[95mfinal_full_data_5_examples.jsonl\u001b[0m\n"
      ]
     },
     "metadata": {},
     "output_type": "display_data"
    }
   ],
   "source": [
    "save_path = '../../data/data_augmentation/gpt_augmentation/final_full_data_5_examples.jsonl'\n",
    "\n",
    "if os.path.exists(save_path):\n",
    "    print('Path already exists!')\n",
    "\n",
    "else:\n",
    "    print(f'Saving to {save_path}')\n",
    "    with open(save_path, 'w') as f:\n",
    "        f.write(file_response.text)"
   ]
  },
  {
   "cell_type": "markdown",
   "id": "0b71c76e-a433-4336-a691-c5e48aca2952",
   "metadata": {},
   "source": [
    "# **Augmentation**"
   ]
  },
  {
   "cell_type": "code",
   "execution_count": 36,
   "id": "324742de-664f-45e2-b1f5-11b30cbbf164",
   "metadata": {
    "tags": []
   },
   "outputs": [
    {
     "data": {
      "text/html": [
       "<pre style=\"white-space:pre;overflow-x:auto;line-height:normal;font-family:Menlo,'DejaVu Sans Mono',consolas,'Courier New',monospace\"><span style=\"font-weight: bold\">{</span>\n",
       "    <span style=\"color: #008000; text-decoration-color: #008000\">'id'</span>: <span style=\"color: #008000; text-decoration-color: #008000\">'batch_req_123'</span>,\n",
       "    <span style=\"color: #008000; text-decoration-color: #008000\">'custom_id'</span>: <span style=\"color: #008000; text-decoration-color: #008000\">'request-2'</span>,\n",
       "    <span style=\"color: #008000; text-decoration-color: #008000\">'response'</span>: <span style=\"font-weight: bold\">{</span>\n",
       "        <span style=\"color: #008000; text-decoration-color: #008000\">'status_code'</span>: <span style=\"color: #008080; text-decoration-color: #008080; font-weight: bold\">200</span>,\n",
       "        <span style=\"color: #008000; text-decoration-color: #008000\">'request_id'</span>: <span style=\"color: #008000; text-decoration-color: #008000\">'req_123'</span>,\n",
       "        <span style=\"color: #008000; text-decoration-color: #008000\">'body'</span>: <span style=\"font-weight: bold\">{</span>\n",
       "            <span style=\"color: #008000; text-decoration-color: #008000\">'id'</span>: <span style=\"color: #008000; text-decoration-color: #008000\">'chatcmpl-123'</span>,\n",
       "            <span style=\"color: #008000; text-decoration-color: #008000\">'object'</span>: <span style=\"color: #008000; text-decoration-color: #008000\">'chat.completion'</span>,\n",
       "            <span style=\"color: #008000; text-decoration-color: #008000\">'created'</span>: <span style=\"color: #008080; text-decoration-color: #008080; font-weight: bold\">1711652795</span>,\n",
       "            <span style=\"color: #008000; text-decoration-color: #008000\">'model'</span>: <span style=\"color: #008000; text-decoration-color: #008000\">'gpt-3.5-turbo-0125'</span>,\n",
       "            <span style=\"color: #008000; text-decoration-color: #008000\">'choices'</span>: <span style=\"font-weight: bold\">[</span>\n",
       "                <span style=\"font-weight: bold\">{</span>\n",
       "                    <span style=\"color: #008000; text-decoration-color: #008000\">'index'</span>: <span style=\"color: #008080; text-decoration-color: #008080; font-weight: bold\">0</span>,\n",
       "                    <span style=\"color: #008000; text-decoration-color: #008000\">'message'</span>: <span style=\"font-weight: bold\">{</span><span style=\"color: #008000; text-decoration-color: #008000\">'role'</span>: <span style=\"color: #008000; text-decoration-color: #008000\">'assistant'</span>, <span style=\"color: #008000; text-decoration-color: #008000\">'content'</span>: <span style=\"color: #008000; text-decoration-color: #008000\">'Hello.'</span><span style=\"font-weight: bold\">}</span>,\n",
       "                    <span style=\"color: #008000; text-decoration-color: #008000\">'logprobs'</span>: <span style=\"color: #008000; text-decoration-color: #008000\">'null'</span>,\n",
       "                    <span style=\"color: #008000; text-decoration-color: #008000\">'finish_reason'</span>: <span style=\"color: #008000; text-decoration-color: #008000\">'stop'</span>\n",
       "                <span style=\"font-weight: bold\">}</span>\n",
       "            <span style=\"font-weight: bold\">]</span>,\n",
       "            <span style=\"color: #008000; text-decoration-color: #008000\">'usage'</span>: <span style=\"font-weight: bold\">{</span><span style=\"color: #008000; text-decoration-color: #008000\">'prompt_tokens'</span>: <span style=\"color: #008080; text-decoration-color: #008080; font-weight: bold\">22</span>, <span style=\"color: #008000; text-decoration-color: #008000\">'completion_tokens'</span>: <span style=\"color: #008080; text-decoration-color: #008080; font-weight: bold\">2</span>, <span style=\"color: #008000; text-decoration-color: #008000\">'total_tokens'</span>: <span style=\"color: #008080; text-decoration-color: #008080; font-weight: bold\">24</span><span style=\"font-weight: bold\">}</span>,\n",
       "            <span style=\"color: #008000; text-decoration-color: #008000\">'system_fingerprint'</span>: <span style=\"color: #008000; text-decoration-color: #008000\">'fp_123'</span>\n",
       "        <span style=\"font-weight: bold\">}</span>\n",
       "    <span style=\"font-weight: bold\">}</span>,\n",
       "    <span style=\"color: #008000; text-decoration-color: #008000\">'error'</span>: <span style=\"color: #008000; text-decoration-color: #008000\">'null'</span>\n",
       "<span style=\"font-weight: bold\">}</span>\n",
       "</pre>\n"
      ],
      "text/plain": [
       "\u001b[1m{\u001b[0m\n",
       "    \u001b[32m'id'\u001b[0m: \u001b[32m'batch_req_123'\u001b[0m,\n",
       "    \u001b[32m'custom_id'\u001b[0m: \u001b[32m'request-2'\u001b[0m,\n",
       "    \u001b[32m'response'\u001b[0m: \u001b[1m{\u001b[0m\n",
       "        \u001b[32m'status_code'\u001b[0m: \u001b[1;36m200\u001b[0m,\n",
       "        \u001b[32m'request_id'\u001b[0m: \u001b[32m'req_123'\u001b[0m,\n",
       "        \u001b[32m'body'\u001b[0m: \u001b[1m{\u001b[0m\n",
       "            \u001b[32m'id'\u001b[0m: \u001b[32m'chatcmpl-123'\u001b[0m,\n",
       "            \u001b[32m'object'\u001b[0m: \u001b[32m'chat.completion'\u001b[0m,\n",
       "            \u001b[32m'created'\u001b[0m: \u001b[1;36m1711652795\u001b[0m,\n",
       "            \u001b[32m'model'\u001b[0m: \u001b[32m'gpt-3.5-turbo-0125'\u001b[0m,\n",
       "            \u001b[32m'choices'\u001b[0m: \u001b[1m[\u001b[0m\n",
       "                \u001b[1m{\u001b[0m\n",
       "                    \u001b[32m'index'\u001b[0m: \u001b[1;36m0\u001b[0m,\n",
       "                    \u001b[32m'message'\u001b[0m: \u001b[1m{\u001b[0m\u001b[32m'role'\u001b[0m: \u001b[32m'assistant'\u001b[0m, \u001b[32m'content'\u001b[0m: \u001b[32m'Hello.'\u001b[0m\u001b[1m}\u001b[0m,\n",
       "                    \u001b[32m'logprobs'\u001b[0m: \u001b[32m'null'\u001b[0m,\n",
       "                    \u001b[32m'finish_reason'\u001b[0m: \u001b[32m'stop'\u001b[0m\n",
       "                \u001b[1m}\u001b[0m\n",
       "            \u001b[1m]\u001b[0m,\n",
       "            \u001b[32m'usage'\u001b[0m: \u001b[1m{\u001b[0m\u001b[32m'prompt_tokens'\u001b[0m: \u001b[1;36m22\u001b[0m, \u001b[32m'completion_tokens'\u001b[0m: \u001b[1;36m2\u001b[0m, \u001b[32m'total_tokens'\u001b[0m: \u001b[1;36m24\u001b[0m\u001b[1m}\u001b[0m,\n",
       "            \u001b[32m'system_fingerprint'\u001b[0m: \u001b[32m'fp_123'\u001b[0m\n",
       "        \u001b[1m}\u001b[0m\n",
       "    \u001b[1m}\u001b[0m,\n",
       "    \u001b[32m'error'\u001b[0m: \u001b[32m'null'\u001b[0m\n",
       "\u001b[1m}\u001b[0m\n"
      ]
     },
     "metadata": {},
     "output_type": "display_data"
    }
   ],
   "source": [
    "print({\"id\": \"batch_req_123\", \"custom_id\": \"request-2\", \"response\": {\"status_code\": 200, \"request_id\": \"req_123\", \"body\": {\"id\": \"chatcmpl-123\", \"object\": \"chat.completion\", \"created\": 1711652795, \"model\": \"gpt-3.5-turbo-0125\", \"choices\": [{\"index\": 0, \"message\": {\"role\": \"assistant\", \"content\": \"Hello.\"}, \"logprobs\": \"null\", \"finish_reason\": \"stop\"}], \"usage\": {\"prompt_tokens\": 22, \"completion_tokens\": 2, \"total_tokens\": 24}, \"system_fingerprint\": \"fp_123\"}}, \"error\": \"null\"})"
   ]
  },
  {
   "cell_type": "code",
   "execution_count": null,
   "id": "edc33250-926f-42e9-8694-709f1f5e4c47",
   "metadata": {},
   "outputs": [],
   "source": [
    "# ../../data/data_augmentation/gpt_augmentation/full_data_5_examples.jsonl"
   ]
  },
  {
   "cell_type": "code",
   "execution_count": 37,
   "id": "9431a932-19c0-46f6-b102-2d0af4df24fc",
   "metadata": {
    "tags": []
   },
   "outputs": [],
   "source": [
    "augmentation_data = {}\n",
    "\n",
    "with open(save_path) as f:\n",
    "    for line in f:\n",
    "        json_object = json.loads(line)\n",
    "        augmentation_data[json_object['custom_id']] = json.loads(json_object['response']['body']['choices'][0]['message']['content'])"
   ]
  },
  {
   "cell_type": "code",
   "execution_count": 39,
   "id": "5f4a9530-27c1-437f-9f37-dc4bff562de8",
   "metadata": {
    "tags": []
   },
   "outputs": [
    {
     "data": {
      "text/plain": [
       "{'example_1': 'أكثر شيء استمتعت به: الشرح الرائع للبروفيسور والمعرفة العميقة بالمادة',\n",
       " 'example_2': 'ما أحببته أكثر هو: قدرة البروفيسور على الشرح الممتاز وفهمه الواسع للمادة',\n",
       " 'example_3': 'الجزء الذي أعجبني كثيرًا كان: شرح البروفيسور الممتاز وخبرته الواسعة بالمادة',\n",
       " 'example_4': 'أكثر عنصر نال إعجابي: توضيحات البروفيسور المتميزة وإلمامه الشامل بالموضوع',\n",
       " 'example_5': 'أكثر شيء أحببته: البروفيسور يشرح بطريقة ممتازة ومعرفته بالمادة شاملة'}"
      ]
     },
     "execution_count": 39,
     "metadata": {},
     "output_type": "execute_result"
    }
   ],
   "source": [
    "(augmentation_data['5'])"
   ]
  },
  {
   "cell_type": "code",
   "execution_count": 41,
   "id": "663d6489-a83d-4276-a28c-7bd91cb384b1",
   "metadata": {
    "tags": []
   },
   "outputs": [],
   "source": [
    "original_data = {}\n",
    "with open(jsonl_path) as f:\n",
    "    for line in f:\n",
    "        json_object = json.loads(line)\n",
    "        original_data[json_object['custom_id']] = data.loc[int(json_object['custom_id']), 'text']"
   ]
  },
  {
   "cell_type": "code",
   "execution_count": 42,
   "id": "e331bbf9-b130-42d1-9cbb-4e471bcb73be",
   "metadata": {
    "tags": []
   },
   "outputs": [
    {
     "data": {
      "text/plain": [
       "'أكثر ما أعجبني: شرح البروفيسور ممتاز ومعرفة شاملة عن المادة'"
      ]
     },
     "execution_count": 42,
     "metadata": {},
     "output_type": "execute_result"
    }
   ],
   "source": [
    "original_data['5']"
   ]
  },
  {
   "cell_type": "code",
   "execution_count": 43,
   "id": "4a811b79-6612-4f5b-8099-6ff87f43fcdc",
   "metadata": {
    "tags": []
   },
   "outputs": [],
   "source": [
    "augmentation_data_text = {original_data[str(i)]: augmentation_data[str(i)] \n",
    "                          for i, row in data.iterrows() if row['text'] == original_data[str(i)]}"
   ]
  },
  {
   "cell_type": "code",
   "execution_count": 44,
   "id": "234c2097-a889-44c7-9fff-bb3ad3c96d5b",
   "metadata": {
    "tags": []
   },
   "outputs": [
    {
     "data": {
      "text/plain": [
       "951"
      ]
     },
     "execution_count": 44,
     "metadata": {},
     "output_type": "execute_result"
    }
   ],
   "source": [
    "len(augmentation_data_text)"
   ]
  },
  {
   "cell_type": "code",
   "execution_count": 45,
   "id": "a6496e3d-9cab-4aa3-a874-6ce37fb09dc3",
   "metadata": {
    "tags": []
   },
   "outputs": [
    {
     "data": {
      "text/plain": [
       "{'example_1': 'أكثر شيء استمتعت به: الشرح الرائع للبروفيسور والمعرفة العميقة بالمادة',\n",
       " 'example_2': 'ما أحببته أكثر هو: قدرة البروفيسور على الشرح الممتاز وفهمه الواسع للمادة',\n",
       " 'example_3': 'الجزء الذي أعجبني كثيرًا كان: شرح البروفيسور الممتاز وخبرته الواسعة بالمادة',\n",
       " 'example_4': 'أكثر عنصر نال إعجابي: توضيحات البروفيسور المتميزة وإلمامه الشامل بالموضوع',\n",
       " 'example_5': 'أكثر شيء أحببته: البروفيسور يشرح بطريقة ممتازة ومعرفته بالمادة شاملة'}"
      ]
     },
     "execution_count": 45,
     "metadata": {},
     "output_type": "execute_result"
    }
   ],
   "source": [
    "(augmentation_data_text['أكثر ما أعجبني: شرح البروفيسور ممتاز ومعرفة شاملة عن المادة'])"
   ]
  },
  {
   "cell_type": "code",
   "execution_count": 47,
   "id": "9f0e444c-bce0-4ee0-bae2-fe31005f44a3",
   "metadata": {
    "tags": []
   },
   "outputs": [
    {
     "data": {
      "text/html": [
       "<pre style=\"white-space:pre;overflow-x:auto;line-height:normal;font-family:Menlo,'DejaVu Sans Mono',consolas,'Courier New',monospace\">Saving to <span style=\"color: #008000; text-decoration-color: #008000\">\"../../data/data_augmentation/gpt_augmentation/final_augmentation_full_data_5_examples.json\"</span><span style=\"color: #808000; text-decoration-color: #808000\">...</span>\n",
       "</pre>\n"
      ],
      "text/plain": [
       "Saving to \u001b[32m\"../../data/data_augmentation/gpt_augmentation/final_augmentation_full_data_5_examples.json\"\u001b[0m\u001b[33m...\u001b[0m\n"
      ]
     },
     "metadata": {},
     "output_type": "display_data"
    }
   ],
   "source": [
    "# final_save_path = '../../data/data_augmentation/gpt_augmentation/augmentation_full_data_5_examples.json'\n",
    "final_save_path = '../../data/data_augmentation/gpt_augmentation/final_augmentation_full_data_5_examples.json'\n",
    "\n",
    "if os.path.exists(final_save_path):\n",
    "    print('Path already exists!')\n",
    "else:\n",
    "    print(f'Saving to \"{final_save_path}\"...')\n",
    "    with open(final_save_path, 'w') as f:\n",
    "        json.dump(augmentation_data_text, f)"
   ]
  },
  {
   "cell_type": "code",
   "execution_count": null,
   "id": "24706b18-93b6-4736-b521-9f07d6367c98",
   "metadata": {},
   "outputs": [],
   "source": []
  },
  {
   "cell_type": "code",
   "execution_count": null,
   "id": "cffe749b-8f17-4334-ab40-6bbefc590903",
   "metadata": {},
   "outputs": [],
   "source": []
  }
 ],
 "metadata": {
  "kernelspec": {
   "display_name": "Python 3 (ipykernel)",
   "language": "python",
   "name": "python3"
  },
  "language_info": {
   "codemirror_mode": {
    "name": "ipython",
    "version": 3
   },
   "file_extension": ".py",
   "mimetype": "text/x-python",
   "name": "python",
   "nbconvert_exporter": "python",
   "pygments_lexer": "ipython3",
   "version": "3.11.7"
  }
 },
 "nbformat": 4,
 "nbformat_minor": 5
}
