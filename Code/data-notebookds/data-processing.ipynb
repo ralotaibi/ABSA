{
 "cells": [
  {
   "cell_type": "code",
   "execution_count": 1,
   "metadata": {
    "tags": []
   },
   "outputs": [],
   "source": [
    "import pandas as pd\n",
    "import matplotlib.pyplot as plt\n",
    "from rich import print\n",
    "import numpy as np\n",
    "import json\n",
    "from langdetect import detect, LangDetectException, DetectorFactory\n",
    "from typing import List\n",
    "from arabert.preprocess import ArabertPreprocessor\n",
    "import re\n",
    "DetectorFactory.seed = 0\n",
    "from pyarabic.araby import strip_diacritics, normalize_hamza\n",
    "import matplotlib.pyplot as plt "
   ]
  },
  {
   "cell_type": "code",
   "execution_count": 2,
   "metadata": {},
   "outputs": [
    {
     "data": {
      "text/html": [
       "<div>\n",
       "<style scoped>\n",
       "    .dataframe tbody tr th:only-of-type {\n",
       "        vertical-align: middle;\n",
       "    }\n",
       "\n",
       "    .dataframe tbody tr th {\n",
       "        vertical-align: top;\n",
       "    }\n",
       "\n",
       "    .dataframe thead th {\n",
       "        text-align: right;\n",
       "    }\n",
       "</style>\n",
       "<table border=\"1\" class=\"dataframe\">\n",
       "  <thead>\n",
       "    <tr style=\"text-align: right;\">\n",
       "      <th></th>\n",
       "      <th>1-(مخطط المقرر واضح بالنسبة لي بما في ذلك المعلومات والمهارات التي صمم المقرر لتطويرها)- (The course outline (including the knowledge and skills the course was designed to develop) was made clear to me)</th>\n",
       "      <th>2-متطلبات اجتياز المقرر واضحة بالنسبة لي (بما في ذلك الواجبات التي يتم التقييم بناء عليها، وطرق التقييم))- (The things I had to do to succeed in the course, including assessment tasks and criteria for assessment, were made clear to me)</th>\n",
       "      <th>3-مصادر المساعدة في المقرر واضحة بالنسبة لي (بما في ذلك الساعات المكتبية لعضو هيئة التدريس، المراجع))- (Sources of help for me during the course including faculty office hours and reference material, were made clear to me)</th>\n",
       "      <th>4-(تنفيذ المقرر والتكاليف التي طُلبت مني متماشية مع مخطط المقرر)- (The conduct of the course and assignments I was asked to do were consistent with the course outline)</th>\n",
       "      <th>5-(كل ما يقدم في المقرر حديث ومفيد، (المراجع، الملخصات، وما شابهها))- (Course materials were of up to date and useful. (Texts, handouts, references etc.))</th>\n",
       "      <th>6-(المصادر التي احتجتها في هذا المقرر متوافرة)- (The resources I needed in this course (textbooks, library, computers etc.) were available when I needed them.)</th>\n",
       "      <th>7-(تم استخدام التقنية بشكل فعال)- (In this course, effective use was made of technology to support my learning)</th>\n",
       "      <th>8-(في هذا المقرر وجدت تشجيعاً لإلقاء الأسئلة وتطوير أفكاري)- (In this course I was encouraged to ask questions and develop my own ideas)</th>\n",
       "      <th>9-(في هذا المقرر شُجعت على تقديم أفضل ما عندي)- (In this course, I was inspired to do my best work)</th>\n",
       "      <th>10-(في هذا المقرر ساعدت الأشياء التي طُلبت مني (الأنشطة الصفية، المعامل، وغيرها) في تطوير معرفتي ومهاراتي التي يهدف المقرر لتعليمها)- (The things I had to do in this course (class activities, assignments, laboratories etc.) were helpful for developing the knowledge and skills the course was intended to teach)</th>\n",
       "      <th>...</th>\n",
       "      <th>28-(تتناسب طرق التدريس مع بيئة الفصول الافتراضية)- (Teaching methods adapted are appropriate for the virtual classroom environment)</th>\n",
       "      <th>29-(أجد أن بيئة الفصول الافتراضية محفزة للتعلم)- (I find that the virtual classroom is a motivating environment for learning)</th>\n",
       "      <th>30-(توفر أدلة للتدريب والمساعدة على استخدام التقنيات في الفصول الافتراضية)- (training and assistance guides and manuals on how .to use the tools are available in the virtual classroom)</th>\n",
       "      <th>31-(تتوفر المحاضرات مسجلة بشكل واضح)- (Recordings of the Lectures are available on the platform)</th>\n",
       "      <th>32-(تتناسب طرق التقييم مع بيئة الفصول الافتراضية)- (Assessment methods adapted are appropriate for the virtual classroom environment)</th>\n",
       "      <th>33-(بشكل عام أنا راض عن خدمات التعلم الإلكتروني والتعليم عن بعد)- (In general, I am satisfied with e-learning and distance education services)</th>\n",
       "      <th>34-(اقتراحات تود إضافتها)-(Suggestions to add)</th>\n",
       "      <th>35-(أكثر ما أعجبك في هذا المقرر)-What did you like most about this course</th>\n",
       "      <th>36-(أكثر ما لم يعجبك في هذا المقرر)-What did you dislike most about this course</th>\n",
       "      <th>37-(هل لديك اقتراحات لتحسين المقرر)-What suggestion(s) do you have to improve this course</th>\n",
       "    </tr>\n",
       "  </thead>\n",
       "  <tbody>\n",
       "    <tr>\n",
       "      <th>0</th>\n",
       "      <td>Strongly Agree-أوافق بشدة</td>\n",
       "      <td>Strongly Agree-أوافق بشدة</td>\n",
       "      <td>Strongly Agree-أوافق بشدة</td>\n",
       "      <td>Strongly Agree-أوافق بشدة</td>\n",
       "      <td>Strongly Agree-أوافق بشدة</td>\n",
       "      <td>Strongly Agree-أوافق بشدة</td>\n",
       "      <td>Strongly Agree-أوافق بشدة</td>\n",
       "      <td>Strongly Agree-أوافق بشدة</td>\n",
       "      <td>Strongly Agree-أوافق بشدة</td>\n",
       "      <td>Strongly Agree-أوافق بشدة</td>\n",
       "      <td>...</td>\n",
       "      <td>Strongly Agree-أوافق بشدة</td>\n",
       "      <td>Strongly Agree-أوافق بشدة</td>\n",
       "      <td>Strongly Agree-أوافق بشدة</td>\n",
       "      <td>Strongly Agree-أوافق بشدة</td>\n",
       "      <td>Strongly Agree-أوافق بشدة</td>\n",
       "      <td>Strongly Agree-أوافق بشدة</td>\n",
       "      <td>لايوجد</td>\n",
       "      <td>المقرر بشكل عام</td>\n",
       "      <td>لايوجد</td>\n",
       "      <td>لايوجد</td>\n",
       "    </tr>\n",
       "    <tr>\n",
       "      <th>1</th>\n",
       "      <td>Strongly Agree-أوافق بشدة</td>\n",
       "      <td>Strongly Agree-أوافق بشدة</td>\n",
       "      <td>Strongly Agree-أوافق بشدة</td>\n",
       "      <td>Strongly Agree-أوافق بشدة</td>\n",
       "      <td>Strongly Agree-أوافق بشدة</td>\n",
       "      <td>Strongly Agree-أوافق بشدة</td>\n",
       "      <td>Strongly Agree-أوافق بشدة</td>\n",
       "      <td>Strongly Agree-أوافق بشدة</td>\n",
       "      <td>Strongly Agree-أوافق بشدة</td>\n",
       "      <td>Strongly Agree-أوافق بشدة</td>\n",
       "      <td>...</td>\n",
       "      <td>Strongly Agree-أوافق بشدة</td>\n",
       "      <td>Strongly Agree-أوافق بشدة</td>\n",
       "      <td>Strongly Agree-أوافق بشدة</td>\n",
       "      <td>Strongly Agree-أوافق بشدة</td>\n",
       "      <td>Strongly Agree-أوافق بشدة</td>\n",
       "      <td>Strongly Agree-أوافق بشدة</td>\n",
       "      <td>لايوجد</td>\n",
       "      <td>المقرر بشكل عام</td>\n",
       "      <td>لايوجد</td>\n",
       "      <td>لايوجد</td>\n",
       "    </tr>\n",
       "    <tr>\n",
       "      <th>2</th>\n",
       "      <td>Strongly Agree-أوافق بشدة</td>\n",
       "      <td>Strongly Agree-أوافق بشدة</td>\n",
       "      <td>Strongly Agree-أوافق بشدة</td>\n",
       "      <td>Strongly Agree-أوافق بشدة</td>\n",
       "      <td>Strongly Agree-أوافق بشدة</td>\n",
       "      <td>Strongly Agree-أوافق بشدة</td>\n",
       "      <td>Strongly Agree-أوافق بشدة</td>\n",
       "      <td>Strongly Agree-أوافق بشدة</td>\n",
       "      <td>Strongly Agree-أوافق بشدة</td>\n",
       "      <td>Strongly Agree-أوافق بشدة</td>\n",
       "      <td>...</td>\n",
       "      <td>Strongly Agree-أوافق بشدة</td>\n",
       "      <td>Strongly Agree-أوافق بشدة</td>\n",
       "      <td>Strongly Agree-أوافق بشدة</td>\n",
       "      <td>Strongly Agree-أوافق بشدة</td>\n",
       "      <td>Strongly Agree-أوافق بشدة</td>\n",
       "      <td>Strongly Agree-أوافق بشدة</td>\n",
       "      <td>لايوجد</td>\n",
       "      <td>طريقة الشرح</td>\n",
       "      <td>لايوجد</td>\n",
       "      <td>لايوجد</td>\n",
       "    </tr>\n",
       "    <tr>\n",
       "      <th>3</th>\n",
       "      <td>Agree-أوافق</td>\n",
       "      <td>Agree-أوافق</td>\n",
       "      <td>Agree-أوافق</td>\n",
       "      <td>Agree-أوافق</td>\n",
       "      <td>Agree-أوافق</td>\n",
       "      <td>Agree-أوافق</td>\n",
       "      <td>Agree-أوافق</td>\n",
       "      <td>Agree-أوافق</td>\n",
       "      <td>Agree-أوافق</td>\n",
       "      <td>Agree-أوافق</td>\n",
       "      <td>...</td>\n",
       "      <td>Agree-أوافق</td>\n",
       "      <td>Agree-أوافق</td>\n",
       "      <td>Agree-أوافق</td>\n",
       "      <td>Agree-أوافق</td>\n",
       "      <td>Agree-أوافق</td>\n",
       "      <td>Agree-أوافق</td>\n",
       "      <td>-</td>\n",
       "      <td>-</td>\n",
       "      <td>-</td>\n",
       "      <td>-</td>\n",
       "    </tr>\n",
       "    <tr>\n",
       "      <th>4</th>\n",
       "      <td>Agree-أوافق</td>\n",
       "      <td>Agree-أوافق</td>\n",
       "      <td>Agree-أوافق</td>\n",
       "      <td>Agree-أوافق</td>\n",
       "      <td>Agree-أوافق</td>\n",
       "      <td>Agree-أوافق</td>\n",
       "      <td>Agree-أوافق</td>\n",
       "      <td>Agree-أوافق</td>\n",
       "      <td>Agree-أوافق</td>\n",
       "      <td>Agree-أوافق</td>\n",
       "      <td>...</td>\n",
       "      <td>Agree-أوافق</td>\n",
       "      <td>Agree-أوافق</td>\n",
       "      <td>Agree-أوافق</td>\n",
       "      <td>Agree-أوافق</td>\n",
       "      <td>Agree-أوافق</td>\n",
       "      <td>Agree-أوافق</td>\n",
       "      <td>-</td>\n",
       "      <td>-</td>\n",
       "      <td>-</td>\n",
       "      <td>-</td>\n",
       "    </tr>\n",
       "    <tr>\n",
       "      <th>5</th>\n",
       "      <td>Agree-أوافق</td>\n",
       "      <td>Agree-أوافق</td>\n",
       "      <td>Agree-أوافق</td>\n",
       "      <td>Agree-أوافق</td>\n",
       "      <td>Agree-أوافق</td>\n",
       "      <td>Agree-أوافق</td>\n",
       "      <td>Agree-أوافق</td>\n",
       "      <td>Agree-أوافق</td>\n",
       "      <td>Agree-أوافق</td>\n",
       "      <td>Agree-أوافق</td>\n",
       "      <td>...</td>\n",
       "      <td>Agree-أوافق</td>\n",
       "      <td>True Sometimes-أوافق إلى حد ما</td>\n",
       "      <td>Agree-أوافق</td>\n",
       "      <td>Agree-أوافق</td>\n",
       "      <td>Agree-أوافق</td>\n",
       "      <td>Agree-أوافق</td>\n",
       "      <td>-</td>\n",
       "      <td>-</td>\n",
       "      <td>-</td>\n",
       "      <td>-</td>\n",
       "    </tr>\n",
       "    <tr>\n",
       "      <th>6</th>\n",
       "      <td>Strongly Agree-أوافق بشدة</td>\n",
       "      <td>Strongly Agree-أوافق بشدة</td>\n",
       "      <td>Strongly Agree-أوافق بشدة</td>\n",
       "      <td>Strongly Agree-أوافق بشدة</td>\n",
       "      <td>Strongly Agree-أوافق بشدة</td>\n",
       "      <td>Strongly Agree-أوافق بشدة</td>\n",
       "      <td>Strongly Agree-أوافق بشدة</td>\n",
       "      <td>Strongly Agree-أوافق بشدة</td>\n",
       "      <td>Strongly Agree-أوافق بشدة</td>\n",
       "      <td>Strongly Agree-أوافق بشدة</td>\n",
       "      <td>...</td>\n",
       "      <td>Strongly Agree-أوافق بشدة</td>\n",
       "      <td>Strongly Agree-أوافق بشدة</td>\n",
       "      <td>Strongly Agree-أوافق بشدة</td>\n",
       "      <td>Strongly Agree-أوافق بشدة</td>\n",
       "      <td>Strongly Agree-أوافق بشدة</td>\n",
       "      <td>Strongly Agree-أوافق بشدة</td>\n",
       "      <td>لا</td>\n",
       "      <td>عضو التدريس ومحتوى المقرر</td>\n",
       "      <td>لايوجد</td>\n",
       "      <td>لايوجد</td>\n",
       "    </tr>\n",
       "    <tr>\n",
       "      <th>7</th>\n",
       "      <td>Disagree-لا أوافق</td>\n",
       "      <td>Disagree-لا أوافق</td>\n",
       "      <td>Disagree-لا أوافق</td>\n",
       "      <td>Disagree-لا أوافق</td>\n",
       "      <td>Disagree-لا أوافق</td>\n",
       "      <td>Disagree-لا أوافق</td>\n",
       "      <td>Disagree-لا أوافق</td>\n",
       "      <td>Disagree-لا أوافق</td>\n",
       "      <td>Disagree-لا أوافق</td>\n",
       "      <td>Disagree-لا أوافق</td>\n",
       "      <td>...</td>\n",
       "      <td>Disagree-لا أوافق</td>\n",
       "      <td>Disagree-لا أوافق</td>\n",
       "      <td>do not apply-لا ينطبق/ لا أستطيع الحكم عليه</td>\n",
       "      <td>Disagree-لا أوافق</td>\n",
       "      <td>do not apply-لا ينطبق/ لا أستطيع الحكم عليه</td>\n",
       "      <td>True Sometimes-أوافق إلى حد ما</td>\n",
       "      <td>تغيير الدكتوره</td>\n",
       "      <td>.</td>\n",
       "      <td>عدم تعاون الدكتوره ودرجتي النهائية</td>\n",
       "      <td>لا</td>\n",
       "    </tr>\n",
       "    <tr>\n",
       "      <th>8</th>\n",
       "      <td>Strongly Agree-أوافق بشدة</td>\n",
       "      <td>Strongly Agree-أوافق بشدة</td>\n",
       "      <td>Strongly Agree-أوافق بشدة</td>\n",
       "      <td>Strongly Agree-أوافق بشدة</td>\n",
       "      <td>Strongly Agree-أوافق بشدة</td>\n",
       "      <td>Strongly Agree-أوافق بشدة</td>\n",
       "      <td>Strongly Agree-أوافق بشدة</td>\n",
       "      <td>Strongly Agree-أوافق بشدة</td>\n",
       "      <td>Strongly Agree-أوافق بشدة</td>\n",
       "      <td>Strongly Agree-أوافق بشدة</td>\n",
       "      <td>...</td>\n",
       "      <td>Strongly Agree-أوافق بشدة</td>\n",
       "      <td>Disagree-لا أوافق</td>\n",
       "      <td>Agree-أوافق</td>\n",
       "      <td>Agree-أوافق</td>\n",
       "      <td>Agree-أوافق</td>\n",
       "      <td>True Sometimes-أوافق إلى حد ما</td>\n",
       "      <td>Na</td>\n",
       "      <td>Na</td>\n",
       "      <td>Na</td>\n",
       "      <td>Na</td>\n",
       "    </tr>\n",
       "    <tr>\n",
       "      <th>9</th>\n",
       "      <td>Strongly Agree-أوافق بشدة</td>\n",
       "      <td>Strongly Agree-أوافق بشدة</td>\n",
       "      <td>Strongly Agree-أوافق بشدة</td>\n",
       "      <td>Strongly Agree-أوافق بشدة</td>\n",
       "      <td>Strongly Agree-أوافق بشدة</td>\n",
       "      <td>Strongly Agree-أوافق بشدة</td>\n",
       "      <td>Strongly Agree-أوافق بشدة</td>\n",
       "      <td>Strongly Agree-أوافق بشدة</td>\n",
       "      <td>Strongly Agree-أوافق بشدة</td>\n",
       "      <td>Strongly Agree-أوافق بشدة</td>\n",
       "      <td>...</td>\n",
       "      <td>Strongly Agree-أوافق بشدة</td>\n",
       "      <td>Strongly Agree-أوافق بشدة</td>\n",
       "      <td>Strongly Agree-أوافق بشدة</td>\n",
       "      <td>Strongly Agree-أوافق بشدة</td>\n",
       "      <td>Strongly Agree-أوافق بشدة</td>\n",
       "      <td>Strongly Agree-أوافق بشدة</td>\n",
       "      <td>.</td>\n",
       "      <td>.</td>\n",
       "      <td>.</td>\n",
       "      <td>.</td>\n",
       "    </tr>\n",
       "  </tbody>\n",
       "</table>\n",
       "<p>10 rows × 37 columns</p>\n",
       "</div>"
      ],
      "text/plain": [
       "  1-(مخطط المقرر واضح بالنسبة لي بما في ذلك المعلومات والمهارات التي صمم المقرر لتطويرها)- (The course outline (including the knowledge and skills the course was designed to develop) was made clear to me)  \\\n",
       "0                          Strongly Agree-أوافق بشدة                                                                                                                                                           \n",
       "1                          Strongly Agree-أوافق بشدة                                                                                                                                                           \n",
       "2                          Strongly Agree-أوافق بشدة                                                                                                                                                           \n",
       "3                                        Agree-أوافق                                                                                                                                                           \n",
       "4                                        Agree-أوافق                                                                                                                                                           \n",
       "5                                        Agree-أوافق                                                                                                                                                           \n",
       "6                          Strongly Agree-أوافق بشدة                                                                                                                                                           \n",
       "7                                  Disagree-لا أوافق                                                                                                                                                           \n",
       "8                          Strongly Agree-أوافق بشدة                                                                                                                                                           \n",
       "9                          Strongly Agree-أوافق بشدة                                                                                                                                                           \n",
       "\n",
       "  2-متطلبات اجتياز المقرر واضحة بالنسبة لي (بما في ذلك الواجبات التي يتم التقييم بناء عليها، وطرق التقييم))- (The things I had to do to succeed in the course, including assessment tasks and criteria for assessment, were made clear to me)  \\\n",
       "0                          Strongly Agree-أوافق بشدة                                                                                                                                                                                            \n",
       "1                          Strongly Agree-أوافق بشدة                                                                                                                                                                                            \n",
       "2                          Strongly Agree-أوافق بشدة                                                                                                                                                                                            \n",
       "3                                        Agree-أوافق                                                                                                                                                                                            \n",
       "4                                        Agree-أوافق                                                                                                                                                                                            \n",
       "5                                        Agree-أوافق                                                                                                                                                                                            \n",
       "6                          Strongly Agree-أوافق بشدة                                                                                                                                                                                            \n",
       "7                                  Disagree-لا أوافق                                                                                                                                                                                            \n",
       "8                          Strongly Agree-أوافق بشدة                                                                                                                                                                                            \n",
       "9                          Strongly Agree-أوافق بشدة                                                                                                                                                                                            \n",
       "\n",
       "  3-مصادر المساعدة في المقرر واضحة بالنسبة لي (بما في ذلك الساعات المكتبية لعضو هيئة التدريس، المراجع))- (Sources of help for me during the course including faculty office hours and reference material, were made clear to me)  \\\n",
       "0                          Strongly Agree-أوافق بشدة                                                                                                                                                                               \n",
       "1                          Strongly Agree-أوافق بشدة                                                                                                                                                                               \n",
       "2                          Strongly Agree-أوافق بشدة                                                                                                                                                                               \n",
       "3                                        Agree-أوافق                                                                                                                                                                               \n",
       "4                                        Agree-أوافق                                                                                                                                                                               \n",
       "5                                        Agree-أوافق                                                                                                                                                                               \n",
       "6                          Strongly Agree-أوافق بشدة                                                                                                                                                                               \n",
       "7                                  Disagree-لا أوافق                                                                                                                                                                               \n",
       "8                          Strongly Agree-أوافق بشدة                                                                                                                                                                               \n",
       "9                          Strongly Agree-أوافق بشدة                                                                                                                                                                               \n",
       "\n",
       "  4-(تنفيذ المقرر والتكاليف التي طُلبت مني متماشية مع مخطط المقرر)- (The conduct of the course and assignments I was asked to do were consistent with the course outline)  \\\n",
       "0                          Strongly Agree-أوافق بشدة                                                                                                                        \n",
       "1                          Strongly Agree-أوافق بشدة                                                                                                                        \n",
       "2                          Strongly Agree-أوافق بشدة                                                                                                                        \n",
       "3                                        Agree-أوافق                                                                                                                        \n",
       "4                                        Agree-أوافق                                                                                                                        \n",
       "5                                        Agree-أوافق                                                                                                                        \n",
       "6                          Strongly Agree-أوافق بشدة                                                                                                                        \n",
       "7                                  Disagree-لا أوافق                                                                                                                        \n",
       "8                          Strongly Agree-أوافق بشدة                                                                                                                        \n",
       "9                          Strongly Agree-أوافق بشدة                                                                                                                        \n",
       "\n",
       "  5-(كل ما يقدم في المقرر حديث ومفيد، (المراجع، الملخصات، وما شابهها))- (Course materials were of up to date and useful. (Texts, handouts, references etc.))  \\\n",
       "0                          Strongly Agree-أوافق بشدة                                                                                                           \n",
       "1                          Strongly Agree-أوافق بشدة                                                                                                           \n",
       "2                          Strongly Agree-أوافق بشدة                                                                                                           \n",
       "3                                        Agree-أوافق                                                                                                           \n",
       "4                                        Agree-أوافق                                                                                                           \n",
       "5                                        Agree-أوافق                                                                                                           \n",
       "6                          Strongly Agree-أوافق بشدة                                                                                                           \n",
       "7                                  Disagree-لا أوافق                                                                                                           \n",
       "8                          Strongly Agree-أوافق بشدة                                                                                                           \n",
       "9                          Strongly Agree-أوافق بشدة                                                                                                           \n",
       "\n",
       "  6-(المصادر التي احتجتها في هذا المقرر متوافرة)- (The resources I needed in this course (textbooks, library, computers etc.) were available when I needed them.)  \\\n",
       "0                          Strongly Agree-أوافق بشدة                                                                                                                \n",
       "1                          Strongly Agree-أوافق بشدة                                                                                                                \n",
       "2                          Strongly Agree-أوافق بشدة                                                                                                                \n",
       "3                                        Agree-أوافق                                                                                                                \n",
       "4                                        Agree-أوافق                                                                                                                \n",
       "5                                        Agree-أوافق                                                                                                                \n",
       "6                          Strongly Agree-أوافق بشدة                                                                                                                \n",
       "7                                  Disagree-لا أوافق                                                                                                                \n",
       "8                          Strongly Agree-أوافق بشدة                                                                                                                \n",
       "9                          Strongly Agree-أوافق بشدة                                                                                                                \n",
       "\n",
       "  7-(تم استخدام التقنية بشكل فعال)- (In this course, effective use was made of technology to support my learning)  \\\n",
       "0                          Strongly Agree-أوافق بشدة                                                                \n",
       "1                          Strongly Agree-أوافق بشدة                                                                \n",
       "2                          Strongly Agree-أوافق بشدة                                                                \n",
       "3                                        Agree-أوافق                                                                \n",
       "4                                        Agree-أوافق                                                                \n",
       "5                                        Agree-أوافق                                                                \n",
       "6                          Strongly Agree-أوافق بشدة                                                                \n",
       "7                                  Disagree-لا أوافق                                                                \n",
       "8                          Strongly Agree-أوافق بشدة                                                                \n",
       "9                          Strongly Agree-أوافق بشدة                                                                \n",
       "\n",
       "  8-(في هذا المقرر وجدت تشجيعاً لإلقاء الأسئلة وتطوير أفكاري)- (In this course I was encouraged to ask questions and develop my own ideas)  \\\n",
       "0                          Strongly Agree-أوافق بشدة                                                                                         \n",
       "1                          Strongly Agree-أوافق بشدة                                                                                         \n",
       "2                          Strongly Agree-أوافق بشدة                                                                                         \n",
       "3                                        Agree-أوافق                                                                                         \n",
       "4                                        Agree-أوافق                                                                                         \n",
       "5                                        Agree-أوافق                                                                                         \n",
       "6                          Strongly Agree-أوافق بشدة                                                                                         \n",
       "7                                  Disagree-لا أوافق                                                                                         \n",
       "8                          Strongly Agree-أوافق بشدة                                                                                         \n",
       "9                          Strongly Agree-أوافق بشدة                                                                                         \n",
       "\n",
       "  9-(في هذا المقرر شُجعت على تقديم أفضل ما عندي)- (In this course, I was inspired to do my best work)  \\\n",
       "0                          Strongly Agree-أوافق بشدة                                                    \n",
       "1                          Strongly Agree-أوافق بشدة                                                    \n",
       "2                          Strongly Agree-أوافق بشدة                                                    \n",
       "3                                        Agree-أوافق                                                    \n",
       "4                                        Agree-أوافق                                                    \n",
       "5                                        Agree-أوافق                                                    \n",
       "6                          Strongly Agree-أوافق بشدة                                                    \n",
       "7                                  Disagree-لا أوافق                                                    \n",
       "8                          Strongly Agree-أوافق بشدة                                                    \n",
       "9                          Strongly Agree-أوافق بشدة                                                    \n",
       "\n",
       "  10-(في هذا المقرر ساعدت الأشياء التي طُلبت مني (الأنشطة الصفية، المعامل، وغيرها) في تطوير معرفتي ومهاراتي التي يهدف المقرر لتعليمها)- (The things I had to do in this course (class activities, assignments, laboratories etc.) were helpful for developing the knowledge and skills the course was intended to teach)  \\\n",
       "0                          Strongly Agree-أوافق بشدة                                                                                                                                                                                                                                                                       \n",
       "1                          Strongly Agree-أوافق بشدة                                                                                                                                                                                                                                                                       \n",
       "2                          Strongly Agree-أوافق بشدة                                                                                                                                                                                                                                                                       \n",
       "3                                        Agree-أوافق                                                                                                                                                                                                                                                                       \n",
       "4                                        Agree-أوافق                                                                                                                                                                                                                                                                       \n",
       "5                                        Agree-أوافق                                                                                                                                                                                                                                                                       \n",
       "6                          Strongly Agree-أوافق بشدة                                                                                                                                                                                                                                                                       \n",
       "7                                  Disagree-لا أوافق                                                                                                                                                                                                                                                                       \n",
       "8                          Strongly Agree-أوافق بشدة                                                                                                                                                                                                                                                                       \n",
       "9                          Strongly Agree-أوافق بشدة                                                                                                                                                                                                                                                                       \n",
       "\n",
       "   ...  \\\n",
       "0  ...   \n",
       "1  ...   \n",
       "2  ...   \n",
       "3  ...   \n",
       "4  ...   \n",
       "5  ...   \n",
       "6  ...   \n",
       "7  ...   \n",
       "8  ...   \n",
       "9  ...   \n",
       "\n",
       "  28-(تتناسب طرق التدريس مع بيئة الفصول الافتراضية)- (Teaching methods adapted are appropriate for the virtual classroom environment)  \\\n",
       "0                          Strongly Agree-أوافق بشدة                                                                                    \n",
       "1                          Strongly Agree-أوافق بشدة                                                                                    \n",
       "2                          Strongly Agree-أوافق بشدة                                                                                    \n",
       "3                                        Agree-أوافق                                                                                    \n",
       "4                                        Agree-أوافق                                                                                    \n",
       "5                                        Agree-أوافق                                                                                    \n",
       "6                          Strongly Agree-أوافق بشدة                                                                                    \n",
       "7                                  Disagree-لا أوافق                                                                                    \n",
       "8                          Strongly Agree-أوافق بشدة                                                                                    \n",
       "9                          Strongly Agree-أوافق بشدة                                                                                    \n",
       "\n",
       "  29-(أجد أن بيئة الفصول الافتراضية محفزة للتعلم)- (I find that the virtual classroom is a motivating environment for learning)  \\\n",
       "0                          Strongly Agree-أوافق بشدة                                                                              \n",
       "1                          Strongly Agree-أوافق بشدة                                                                              \n",
       "2                          Strongly Agree-أوافق بشدة                                                                              \n",
       "3                                        Agree-أوافق                                                                              \n",
       "4                                        Agree-أوافق                                                                              \n",
       "5                     True Sometimes-أوافق إلى حد ما                                                                              \n",
       "6                          Strongly Agree-أوافق بشدة                                                                              \n",
       "7                                  Disagree-لا أوافق                                                                              \n",
       "8                                  Disagree-لا أوافق                                                                              \n",
       "9                          Strongly Agree-أوافق بشدة                                                                              \n",
       "\n",
       "  30-(توفر أدلة للتدريب والمساعدة على استخدام التقنيات في الفصول الافتراضية)- (training and assistance guides and manuals on how .to use the tools are available in the virtual classroom)  \\\n",
       "0                          Strongly Agree-أوافق بشدة                                                                                                                                         \n",
       "1                          Strongly Agree-أوافق بشدة                                                                                                                                         \n",
       "2                          Strongly Agree-أوافق بشدة                                                                                                                                         \n",
       "3                                        Agree-أوافق                                                                                                                                         \n",
       "4                                        Agree-أوافق                                                                                                                                         \n",
       "5                                        Agree-أوافق                                                                                                                                         \n",
       "6                          Strongly Agree-أوافق بشدة                                                                                                                                         \n",
       "7        do not apply-لا ينطبق/ لا أستطيع الحكم عليه                                                                                                                                         \n",
       "8                                        Agree-أوافق                                                                                                                                         \n",
       "9                          Strongly Agree-أوافق بشدة                                                                                                                                         \n",
       "\n",
       "  31-(تتوفر المحاضرات مسجلة بشكل واضح)- (Recordings of the Lectures are available on the platform)  \\\n",
       "0                          Strongly Agree-أوافق بشدة                                                 \n",
       "1                          Strongly Agree-أوافق بشدة                                                 \n",
       "2                          Strongly Agree-أوافق بشدة                                                 \n",
       "3                                        Agree-أوافق                                                 \n",
       "4                                        Agree-أوافق                                                 \n",
       "5                                        Agree-أوافق                                                 \n",
       "6                          Strongly Agree-أوافق بشدة                                                 \n",
       "7                                  Disagree-لا أوافق                                                 \n",
       "8                                        Agree-أوافق                                                 \n",
       "9                          Strongly Agree-أوافق بشدة                                                 \n",
       "\n",
       "  32-(تتناسب طرق التقييم مع بيئة الفصول الافتراضية)- (Assessment methods adapted are appropriate for the virtual classroom environment)  \\\n",
       "0                          Strongly Agree-أوافق بشدة                                                                                      \n",
       "1                          Strongly Agree-أوافق بشدة                                                                                      \n",
       "2                          Strongly Agree-أوافق بشدة                                                                                      \n",
       "3                                        Agree-أوافق                                                                                      \n",
       "4                                        Agree-أوافق                                                                                      \n",
       "5                                        Agree-أوافق                                                                                      \n",
       "6                          Strongly Agree-أوافق بشدة                                                                                      \n",
       "7        do not apply-لا ينطبق/ لا أستطيع الحكم عليه                                                                                      \n",
       "8                                        Agree-أوافق                                                                                      \n",
       "9                          Strongly Agree-أوافق بشدة                                                                                      \n",
       "\n",
       "  33-(بشكل عام أنا راض عن خدمات التعلم الإلكتروني والتعليم عن بعد)- (In general, I am satisfied with e-learning and distance education services)  \\\n",
       "0                          Strongly Agree-أوافق بشدة                                                                                               \n",
       "1                          Strongly Agree-أوافق بشدة                                                                                               \n",
       "2                          Strongly Agree-أوافق بشدة                                                                                               \n",
       "3                                        Agree-أوافق                                                                                               \n",
       "4                                        Agree-أوافق                                                                                               \n",
       "5                                        Agree-أوافق                                                                                               \n",
       "6                          Strongly Agree-أوافق بشدة                                                                                               \n",
       "7                     True Sometimes-أوافق إلى حد ما                                                                                               \n",
       "8                     True Sometimes-أوافق إلى حد ما                                                                                               \n",
       "9                          Strongly Agree-أوافق بشدة                                                                                               \n",
       "\n",
       "  34-(اقتراحات تود إضافتها)-(Suggestions to add)  \\\n",
       "0                                         لايوجد   \n",
       "1                                         لايوجد   \n",
       "2                                         لايوجد   \n",
       "3                                              -   \n",
       "4                                              -   \n",
       "5                                              -   \n",
       "6                                             لا   \n",
       "7                                 تغيير الدكتوره   \n",
       "8                                             Na   \n",
       "9                                              .   \n",
       "\n",
       "  35-(أكثر ما أعجبك في هذا المقرر)-What did you like most about this course  \\\n",
       "0                                    المقرر بشكل عام                          \n",
       "1                                    المقرر بشكل عام                          \n",
       "2                                        طريقة الشرح                          \n",
       "3                                                  -                          \n",
       "4                                                  -                          \n",
       "5                                                  -                          \n",
       "6                          عضو التدريس ومحتوى المقرر                          \n",
       "7                                                  .                          \n",
       "8                                                 Na                          \n",
       "9                                                  .                          \n",
       "\n",
       "  36-(أكثر ما لم يعجبك في هذا المقرر)-What did you dislike most about this course  \\\n",
       "0                                             لايوجد                                \n",
       "1                                             لايوجد                                \n",
       "2                                             لايوجد                                \n",
       "3                                                  -                                \n",
       "4                                                  -                                \n",
       "5                                                  -                                \n",
       "6                                             لايوجد                                \n",
       "7                 عدم تعاون الدكتوره ودرجتي النهائية                                \n",
       "8                                                 Na                                \n",
       "9                                                  .                                \n",
       "\n",
       "  37-(هل لديك اقتراحات لتحسين المقرر)-What suggestion(s) do you have to improve this course  \n",
       "0                                             لايوجد                                         \n",
       "1                                             لايوجد                                         \n",
       "2                                             لايوجد                                         \n",
       "3                                                  -                                         \n",
       "4                                                  -                                         \n",
       "5                                                  -                                         \n",
       "6                                             لايوجد                                         \n",
       "7                                                 لا                                         \n",
       "8                                                 Na                                         \n",
       "9                                                  .                                         \n",
       "\n",
       "[10 rows x 37 columns]"
      ]
     },
     "execution_count": 2,
     "metadata": {},
     "output_type": "execute_result"
    }
   ],
   "source": [
    "data_path = '../../data/raw/Full FCIT data no names.xlsx'\n",
    "\n",
    "df = pd.read_excel(data_path)\n",
    "\n",
    "df.head(10)"
   ]
  },
  {
   "cell_type": "code",
   "execution_count": 3,
   "metadata": {},
   "outputs": [
    {
     "data": {
      "text/html": [
       "<div>\n",
       "<style scoped>\n",
       "    .dataframe tbody tr th:only-of-type {\n",
       "        vertical-align: middle;\n",
       "    }\n",
       "\n",
       "    .dataframe tbody tr th {\n",
       "        vertical-align: top;\n",
       "    }\n",
       "\n",
       "    .dataframe thead th {\n",
       "        text-align: right;\n",
       "    }\n",
       "</style>\n",
       "<table border=\"1\" class=\"dataframe\">\n",
       "  <thead>\n",
       "    <tr style=\"text-align: right;\">\n",
       "      <th></th>\n",
       "      <th>34-(اقتراحات تود إضافتها)-(Suggestions to add)</th>\n",
       "      <th>35-(أكثر ما أعجبك في هذا المقرر)-What did you like most about this course</th>\n",
       "      <th>36-(أكثر ما لم يعجبك في هذا المقرر)-What did you dislike most about this course</th>\n",
       "      <th>37-(هل لديك اقتراحات لتحسين المقرر)-What suggestion(s) do you have to improve this course</th>\n",
       "    </tr>\n",
       "  </thead>\n",
       "  <tbody>\n",
       "    <tr>\n",
       "      <th>3074</th>\n",
       "      <td>لايوجد</td>\n",
       "      <td>لايوجد</td>\n",
       "      <td>لايوجد</td>\n",
       "      <td>اضافة بعض الجزء العملي من المقرر</td>\n",
       "    </tr>\n",
       "    <tr>\n",
       "      <th>3075</th>\n",
       "      <td>Excellent</td>\n",
       "      <td>All</td>\n",
       "      <td>Nothing</td>\n",
       "      <td>No</td>\n",
       "    </tr>\n",
       "    <tr>\n",
       "      <th>3076</th>\n",
       "      <td>Its very nice and important course👍🏻</td>\n",
       "      <td>Every thing</td>\n",
       "      <td>Nothing</td>\n",
       "      <td>No</td>\n",
       "    </tr>\n",
       "    <tr>\n",
       "      <th>3077</th>\n",
       "      <td>لايوجد</td>\n",
       "      <td>المحتوى</td>\n",
       "      <td>بايوجد</td>\n",
       "      <td>لا</td>\n",
       "    </tr>\n",
       "    <tr>\n",
       "      <th>3078</th>\n",
       "      <td>Practical session</td>\n",
       "      <td>The values</td>\n",
       "      <td>Nothing</td>\n",
       "      <td>No</td>\n",
       "    </tr>\n",
       "  </tbody>\n",
       "</table>\n",
       "</div>"
      ],
      "text/plain": [
       "     34-(اقتراحات تود إضافتها)-(Suggestions to add)  \\\n",
       "3074                                         لايوجد   \n",
       "3075                                      Excellent   \n",
       "3076           Its very nice and important course👍🏻   \n",
       "3077                                         لايوجد   \n",
       "3078                              Practical session   \n",
       "\n",
       "     35-(أكثر ما أعجبك في هذا المقرر)-What did you like most about this course  \\\n",
       "3074                                             لايوجد                          \n",
       "3075                                                All                          \n",
       "3076                                        Every thing                          \n",
       "3077                                            المحتوى                          \n",
       "3078                                         The values                          \n",
       "\n",
       "     36-(أكثر ما لم يعجبك في هذا المقرر)-What did you dislike most about this course  \\\n",
       "3074                                             لايوجد                                \n",
       "3075                                            Nothing                                \n",
       "3076                                            Nothing                                \n",
       "3077                                             بايوجد                                \n",
       "3078                                            Nothing                                \n",
       "\n",
       "     37-(هل لديك اقتراحات لتحسين المقرر)-What suggestion(s) do you have to improve this course  \n",
       "3074                   اضافة بعض الجزء العملي من المقرر                                         \n",
       "3075                                                 No                                         \n",
       "3076                                                 No                                         \n",
       "3077                                                 لا                                         \n",
       "3078                                                 No                                         "
      ]
     },
     "execution_count": 3,
     "metadata": {},
     "output_type": "execute_result"
    }
   ],
   "source": [
    "# select the last 4 columns\n",
    "raw = df.iloc[:, -4:]\n",
    "raw.tail()"
   ]
  },
  {
   "cell_type": "code",
   "execution_count": 4,
   "metadata": {},
   "outputs": [
    {
     "name": "stdout",
     "output_type": "stream",
     "text": [
      "<class 'pandas.core.frame.DataFrame'>\n",
      "RangeIndex: 3079 entries, 0 to 3078\n",
      "Data columns (total 4 columns):\n",
      " #   Column                                                                                     Non-Null Count  Dtype \n",
      "---  ------                                                                                     --------------  ----- \n",
      " 0   34-(اقتراحات تود إضافتها)-(Suggestions to add)                                             3040 non-null   object\n",
      " 1   35-(أكثر ما أعجبك في هذا المقرر)-What did you like most about this course                  3052 non-null   object\n",
      " 2   36-(أكثر ما لم يعجبك في هذا المقرر)-What did you dislike most about this course            3044 non-null   object\n",
      " 3   37-(هل لديك اقتراحات لتحسين المقرر)-What suggestion(s) do you have to improve this course  3044 non-null   object\n",
      "dtypes: object(4)\n",
      "memory usage: 96.3+ KB\n"
     ]
    }
   ],
   "source": [
    "raw.info()"
   ]
  },
  {
   "cell_type": "code",
   "execution_count": 5,
   "metadata": {},
   "outputs": [
    {
     "data": {
      "text/html": [
       "<div>\n",
       "<style scoped>\n",
       "    .dataframe tbody tr th:only-of-type {\n",
       "        vertical-align: middle;\n",
       "    }\n",
       "\n",
       "    .dataframe tbody tr th {\n",
       "        vertical-align: top;\n",
       "    }\n",
       "\n",
       "    .dataframe thead th {\n",
       "        text-align: right;\n",
       "    }\n",
       "</style>\n",
       "<table border=\"1\" class=\"dataframe\">\n",
       "  <thead>\n",
       "    <tr style=\"text-align: right;\">\n",
       "      <th></th>\n",
       "      <th>add_suggestions</th>\n",
       "      <th>like</th>\n",
       "      <th>dislike</th>\n",
       "      <th>improve_course</th>\n",
       "    </tr>\n",
       "  </thead>\n",
       "  <tbody>\n",
       "    <tr>\n",
       "      <th>0</th>\n",
       "      <td>لايوجد</td>\n",
       "      <td>المقرر بشكل عام</td>\n",
       "      <td>لايوجد</td>\n",
       "      <td>لايوجد</td>\n",
       "    </tr>\n",
       "    <tr>\n",
       "      <th>1</th>\n",
       "      <td>لايوجد</td>\n",
       "      <td>المقرر بشكل عام</td>\n",
       "      <td>لايوجد</td>\n",
       "      <td>لايوجد</td>\n",
       "    </tr>\n",
       "    <tr>\n",
       "      <th>2</th>\n",
       "      <td>لايوجد</td>\n",
       "      <td>طريقة الشرح</td>\n",
       "      <td>لايوجد</td>\n",
       "      <td>لايوجد</td>\n",
       "    </tr>\n",
       "    <tr>\n",
       "      <th>3</th>\n",
       "      <td>-</td>\n",
       "      <td>-</td>\n",
       "      <td>-</td>\n",
       "      <td>-</td>\n",
       "    </tr>\n",
       "    <tr>\n",
       "      <th>4</th>\n",
       "      <td>-</td>\n",
       "      <td>-</td>\n",
       "      <td>-</td>\n",
       "      <td>-</td>\n",
       "    </tr>\n",
       "  </tbody>\n",
       "</table>\n",
       "</div>"
      ],
      "text/plain": [
       "  add_suggestions             like dislike improve_course\n",
       "0          لايوجد  المقرر بشكل عام  لايوجد         لايوجد\n",
       "1          لايوجد  المقرر بشكل عام  لايوجد         لايوجد\n",
       "2          لايوجد      طريقة الشرح  لايوجد         لايوجد\n",
       "3               -                -       -              -\n",
       "4               -                -       -              -"
      ]
     },
     "execution_count": 5,
     "metadata": {},
     "output_type": "execute_result"
    }
   ],
   "source": [
    "data = raw.copy()\n",
    "\n",
    "new_col_names = {\n",
    "    # 34-(اقتراحات تود إضافتها)-(Suggestions to add)\n",
    "    data.columns[0]: 'add_suggestions',\n",
    "    # 35-(أكثر ما أعجبك في هذا المقرر)-What did you like most about this course\n",
    "    data.columns[1]: 'like',\n",
    "    # 36-(أكثر ما لم يعجبك في هذا المقرر)-What did you dislike most about this course\n",
    "    data.columns[2]: 'dislike',\n",
    "    # 37-(هل لديك اقتراحات لتحسين المقرر)-What suggestion(s) do you have to improve this course\n",
    "    data.columns[3]: 'improve_course'\n",
    "}\n",
    "\n",
    "data = data.rename(columns=new_col_names)\n",
    "data.head()"
   ]
  },
  {
   "cell_type": "code",
   "execution_count": 6,
   "metadata": {},
   "outputs": [
    {
     "data": {
      "text/html": [
       "<pre style=\"white-space:pre;overflow-x:auto;line-height:normal;font-family:Menlo,'DejaVu Sans Mono',consolas,'Courier New',monospace\">add_suggestions    <span style=\"color: #008080; text-decoration-color: #008080; font-weight: bold\">39</span>\n",
       "like               <span style=\"color: #008080; text-decoration-color: #008080; font-weight: bold\">27</span>\n",
       "dislike            <span style=\"color: #008080; text-decoration-color: #008080; font-weight: bold\">35</span>\n",
       "improve_course     <span style=\"color: #008080; text-decoration-color: #008080; font-weight: bold\">35</span>\n",
       "dtype: int64\n",
       "</pre>\n"
      ],
      "text/plain": [
       "add_suggestions    \u001b[1;36m39\u001b[0m\n",
       "like               \u001b[1;36m27\u001b[0m\n",
       "dislike            \u001b[1;36m35\u001b[0m\n",
       "improve_course     \u001b[1;36m35\u001b[0m\n",
       "dtype: int64\n"
      ]
     },
     "metadata": {},
     "output_type": "display_data"
    },
    {
     "data": {
      "image/png": "[encoded data removed]",
      "text/plain": [
       "<Figure size 640x480 with 1 Axes>"
      ]
     },
     "metadata": {},
     "output_type": "display_data"
    }
   ],
   "source": [
    "def plot_nan_values(data, title=None):\n",
    "    print(data.isna().sum())\n",
    "    data.isna().sum().plot(kind='bar')\n",
    "    \n",
    "    if title:\n",
    "        plt.title(title)\n",
    "    else:\n",
    "        plt.title('Number of NaN values')\n",
    "    plt.show()\n",
    "\n",
    "plot_nan_values(data)"
   ]
  },
  {
   "cell_type": "markdown",
   "metadata": {},
   "source": [
    "# Process text"
   ]
  },
  {
   "cell_type": "code",
   "execution_count": 7,
   "metadata": {},
   "outputs": [],
   "source": [
    "def apply_fn(data, fn, columns, **kwargs):\n",
    "    \"\"\"Apply a function to multiple columns.\n",
    "\n",
    "    Args:\n",
    "        data (pd.DataFrame): pandas dataframe\n",
    "        fn (function): python function\n",
    "        columns (list): list of column names\n",
    "\n",
    "    Returns:\n",
    "        pd.DataFrame: pandas data frame after applying the function.\n",
    "    \"\"\"\n",
    "    data_c = data.copy()\n",
    "    for col in columns:\n",
    "        data_c[col] = data_c[col].apply(fn, **kwargs)\n",
    "    return data_c"
   ]
  },
  {
   "cell_type": "code",
   "execution_count": 8,
   "metadata": {},
   "outputs": [
    {
     "name": "stderr",
     "output_type": "stream",
     "text": [
      "[2024-06-03 01:26:48,437 - farasapy_logger - WARNING]: Be careful with large lines as they may break on interactive mode. You may switch to Standalone mode for such cases.\n"
     ]
    }
   ],
   "source": [
    "arabert_prep = ArabertPreprocessor(model_name=\"aubmindlab/bert-base-arabertv2\")"
   ]
  },
  {
   "cell_type": "code",
   "execution_count": 9,
   "metadata": {},
   "outputs": [],
   "source": [
    "def process_text(text):\n",
    "    if text is not np.nan:\n",
    "        text = str(text)\n",
    "        text = text.lower()\n",
    "        clean_text = text.replace(\"لايوجد\", \"لا يوجد\")\n",
    "\n",
    "        # do some general preprocessing using arabert\n",
    "        clean_text = arabert_prep.preprocess(clean_text)\n",
    "        clean_text = arabert_prep.unpreprocess(clean_text)\n",
    "\n",
    "        # replace line breakers with space\n",
    "        clean_text = clean_text.replace(\"\\n\", \" \")\n",
    "        # حذف الزخرفات المختلفة\n",
    "        clean_text = strip_diacritics(clean_text)\n",
    "        # توحيد الهمزة\n",
    "        # clean_text = normalize_hamza(clean_text, method=\"tasheel\")\n",
    "        # remove extra inner spaces\n",
    "        clean_text = re.sub(r\"\\s+\", \" \", clean_text)\n",
    "        # remove trailing white spaces\n",
    "        clean_text = clean_text.strip()\n",
    "\n",
    "        return clean_text\n",
    "    \n",
    "    else: \n",
    "        return np.nan"
   ]
  },
  {
   "cell_type": "code",
   "execution_count": 10,
   "metadata": {},
   "outputs": [],
   "source": [
    "data = apply_fn(data, process_text, data.columns)"
   ]
  },
  {
   "cell_type": "code",
   "execution_count": 11,
   "metadata": {},
   "outputs": [
    {
     "data": {
      "text/html": [
       "<div>\n",
       "<style scoped>\n",
       "    .dataframe tbody tr th:only-of-type {\n",
       "        vertical-align: middle;\n",
       "    }\n",
       "\n",
       "    .dataframe tbody tr th {\n",
       "        vertical-align: top;\n",
       "    }\n",
       "\n",
       "    .dataframe thead th {\n",
       "        text-align: right;\n",
       "    }\n",
       "</style>\n",
       "<table border=\"1\" class=\"dataframe\">\n",
       "  <thead>\n",
       "    <tr style=\"text-align: right;\">\n",
       "      <th></th>\n",
       "      <th>add_suggestions</th>\n",
       "      <th>like</th>\n",
       "      <th>dislike</th>\n",
       "      <th>improve_course</th>\n",
       "    </tr>\n",
       "  </thead>\n",
       "  <tbody>\n",
       "    <tr>\n",
       "      <th>0</th>\n",
       "      <td>لا يوجد</td>\n",
       "      <td>المقرر بشكل عام</td>\n",
       "      <td>لا يوجد</td>\n",
       "      <td>لا يوجد</td>\n",
       "    </tr>\n",
       "    <tr>\n",
       "      <th>1</th>\n",
       "      <td>لا يوجد</td>\n",
       "      <td>المقرر بشكل عام</td>\n",
       "      <td>لا يوجد</td>\n",
       "      <td>لا يوجد</td>\n",
       "    </tr>\n",
       "    <tr>\n",
       "      <th>2</th>\n",
       "      <td>لا يوجد</td>\n",
       "      <td>طريقة الشرح</td>\n",
       "      <td>لا يوجد</td>\n",
       "      <td>لا يوجد</td>\n",
       "    </tr>\n",
       "    <tr>\n",
       "      <th>3</th>\n",
       "      <td>-</td>\n",
       "      <td>-</td>\n",
       "      <td>-</td>\n",
       "      <td>-</td>\n",
       "    </tr>\n",
       "    <tr>\n",
       "      <th>4</th>\n",
       "      <td>-</td>\n",
       "      <td>-</td>\n",
       "      <td>-</td>\n",
       "      <td>-</td>\n",
       "    </tr>\n",
       "  </tbody>\n",
       "</table>\n",
       "</div>"
      ],
      "text/plain": [
       "  add_suggestions             like  dislike improve_course\n",
       "0         لا يوجد  المقرر بشكل عام  لا يوجد        لا يوجد\n",
       "1         لا يوجد  المقرر بشكل عام  لا يوجد        لا يوجد\n",
       "2         لا يوجد      طريقة الشرح  لا يوجد        لا يوجد\n",
       "3               -                -        -              -\n",
       "4               -                -        -              -"
      ]
     },
     "execution_count": 11,
     "metadata": {},
     "output_type": "execute_result"
    }
   ],
   "source": [
    "data.head()"
   ]
  },
  {
   "cell_type": "markdown",
   "metadata": {},
   "source": [
    "# Find most frequent values"
   ]
  },
  {
   "cell_type": "code",
   "execution_count": 12,
   "metadata": {},
   "outputs": [
    {
     "data": {
      "text/plain": [
       "لا يوجد    1345\n",
       ".           821\n",
       "-            97\n",
       "nothing      91\n",
       "no           63\n",
       "Name: add_suggestions, dtype: int64"
      ]
     },
     "execution_count": 12,
     "metadata": {},
     "output_type": "execute_result"
    }
   ],
   "source": [
    "data['add_suggestions'].value_counts().nlargest(5)"
   ]
  },
  {
   "cell_type": "code",
   "execution_count": 13,
   "metadata": {},
   "outputs": [],
   "source": [
    "# calculate most frequent values in each column\n",
    "topk = 15\n",
    "\n",
    "most_frequent_values = {\n",
    "    col_name: data[col_name].value_counts().nlargest(topk) for col_name in data.columns\n",
    "}"
   ]
  },
  {
   "cell_type": "code",
   "execution_count": 14,
   "metadata": {},
   "outputs": [
    {
     "data": {
      "text/html": [
       "<pre style=\"white-space:pre;overflow-x:auto;line-height:normal;font-family:Menlo,'DejaVu Sans Mono',consolas,'Courier New',monospace\">========================================\n",
       "</pre>\n"
      ],
      "text/plain": [
       "========================================\n"
      ]
     },
     "metadata": {},
     "output_type": "display_data"
    },
    {
     "data": {
      "text/html": [
       "<pre style=\"white-space:pre;overflow-x:auto;line-height:normal;font-family:Menlo,'DejaVu Sans Mono',consolas,'Courier New',monospace\">Most frequent values in <span style=\"font-weight: bold\">(</span>add_suggestions<span style=\"font-weight: bold\">)</span>\n",
       "</pre>\n"
      ],
      "text/plain": [
       "Most frequent values in \u001b[1m(\u001b[0madd_suggestions\u001b[1m)\u001b[0m\n"
      ]
     },
     "metadata": {},
     "output_type": "display_data"
    },
    {
     "data": {
      "text/html": [
       "<pre style=\"white-space:pre;overflow-x:auto;line-height:normal;font-family:Menlo,'DejaVu Sans Mono',consolas,'Courier New',monospace\">========================================\n",
       "</pre>\n"
      ],
      "text/plain": [
       "========================================\n"
      ]
     },
     "metadata": {},
     "output_type": "display_data"
    },
    {
     "data": {
      "text/html": [
       "<pre style=\"white-space:pre;overflow-x:auto;line-height:normal;font-family:Menlo,'DejaVu Sans Mono',consolas,'Courier New',monospace\">لا يوجد         <span style=\"color: #008080; text-decoration-color: #008080; font-weight: bold\">1345</span>\n",
       ".                <span style=\"color: #008080; text-decoration-color: #008080; font-weight: bold\">821</span>\n",
       "-                 <span style=\"color: #008080; text-decoration-color: #008080; font-weight: bold\">97</span>\n",
       "nothing           <span style=\"color: #008080; text-decoration-color: #008080; font-weight: bold\">91</span>\n",
       "no                <span style=\"color: #008080; text-decoration-color: #008080; font-weight: bold\">63</span>\n",
       "لا                <span style=\"color: #008080; text-decoration-color: #008080; font-weight: bold\">49</span>\n",
       "..                <span style=\"color: #008080; text-decoration-color: #008080; font-weight: bold\">36</span>\n",
       "none              <span style=\"color: #008080; text-decoration-color: #008080; font-weight: bold\">34</span>\n",
       "لا شيء            <span style=\"color: #008080; text-decoration-color: #008080; font-weight: bold\">24</span>\n",
       "non               <span style=\"color: #008080; text-decoration-color: #008080; font-weight: bold\">17</span>\n",
       "المادة رائعة      <span style=\"color: #008080; text-decoration-color: #008080; font-weight: bold\">13</span>\n",
       "لاشيء             <span style=\"color: #008080; text-decoration-color: #008080; font-weight: bold\">12</span>\n",
       "لاتوجد            <span style=\"color: #008080; text-decoration-color: #008080; font-weight: bold\">11</span>\n",
       "شكرا              <span style=\"color: #008080; text-decoration-color: #008080; font-weight: bold\">11</span>\n",
       "لاشي              <span style=\"color: #008080; text-decoration-color: #008080; font-weight: bold\">11</span>\n",
       "Name: add_suggestions, dtype: int64\n",
       "</pre>\n"
      ],
      "text/plain": [
       "لا يوجد         \u001b[1;36m1345\u001b[0m\n",
       ".                \u001b[1;36m821\u001b[0m\n",
       "-                 \u001b[1;36m97\u001b[0m\n",
       "nothing           \u001b[1;36m91\u001b[0m\n",
       "no                \u001b[1;36m63\u001b[0m\n",
       "لا                \u001b[1;36m49\u001b[0m\n",
       "..                \u001b[1;36m36\u001b[0m\n",
       "none              \u001b[1;36m34\u001b[0m\n",
       "لا شيء            \u001b[1;36m24\u001b[0m\n",
       "non               \u001b[1;36m17\u001b[0m\n",
       "المادة رائعة      \u001b[1;36m13\u001b[0m\n",
       "لاشيء             \u001b[1;36m12\u001b[0m\n",
       "لاتوجد            \u001b[1;36m11\u001b[0m\n",
       "شكرا              \u001b[1;36m11\u001b[0m\n",
       "لاشي              \u001b[1;36m11\u001b[0m\n",
       "Name: add_suggestions, dtype: int64\n"
      ]
     },
     "metadata": {},
     "output_type": "display_data"
    },
    {
     "data": {
      "text/html": [
       "<pre style=\"white-space:pre;overflow-x:auto;line-height:normal;font-family:Menlo,'DejaVu Sans Mono',consolas,'Courier New',monospace\">========================================\n",
       "</pre>\n"
      ],
      "text/plain": [
       "========================================\n"
      ]
     },
     "metadata": {},
     "output_type": "display_data"
    },
    {
     "data": {
      "text/html": [
       "<pre style=\"white-space:pre;overflow-x:auto;line-height:normal;font-family:Menlo,'DejaVu Sans Mono',consolas,'Courier New',monospace\">Most frequent values in <span style=\"font-weight: bold\">(</span>like<span style=\"font-weight: bold\">)</span>\n",
       "</pre>\n"
      ],
      "text/plain": [
       "Most frequent values in \u001b[1m(\u001b[0mlike\u001b[1m)\u001b[0m\n"
      ]
     },
     "metadata": {},
     "output_type": "display_data"
    },
    {
     "data": {
      "text/html": [
       "<pre style=\"white-space:pre;overflow-x:auto;line-height:normal;font-family:Menlo,'DejaVu Sans Mono',consolas,'Courier New',monospace\">========================================\n",
       "</pre>\n"
      ],
      "text/plain": [
       "========================================\n"
      ]
     },
     "metadata": {},
     "output_type": "display_data"
    },
    {
     "data": {
      "text/html": [
       "<pre style=\"white-space:pre;overflow-x:auto;line-height:normal;font-family:Menlo,'DejaVu Sans Mono',consolas,'Courier New',monospace\">لا يوجد         <span style=\"color: #008080; text-decoration-color: #008080; font-weight: bold\">922</span>\n",
       ".               <span style=\"color: #008080; text-decoration-color: #008080; font-weight: bold\">832</span>\n",
       "-                <span style=\"color: #008080; text-decoration-color: #008080; font-weight: bold\">81</span>\n",
       "everything       <span style=\"color: #008080; text-decoration-color: #008080; font-weight: bold\">51</span>\n",
       "..               <span style=\"color: #008080; text-decoration-color: #008080; font-weight: bold\">39</span>\n",
       "لا               <span style=\"color: #008080; text-decoration-color: #008080; font-weight: bold\">25</span>\n",
       "no               <span style=\"color: #008080; text-decoration-color: #008080; font-weight: bold\">23</span>\n",
       "none             <span style=\"color: #008080; text-decoration-color: #008080; font-weight: bold\">22</span>\n",
       "all              <span style=\"color: #008080; text-decoration-color: #008080; font-weight: bold\">17</span>\n",
       "كل شيء           <span style=\"color: #008080; text-decoration-color: #008080; font-weight: bold\">17</span>\n",
       "كل شي            <span style=\"color: #008080; text-decoration-color: #008080; font-weight: bold\">14</span>\n",
       "nothing          <span style=\"color: #008080; text-decoration-color: #008080; font-weight: bold\">14</span>\n",
       "لا شيء           <span style=\"color: #008080; text-decoration-color: #008080; font-weight: bold\">13</span>\n",
       "المادة رائعة     <span style=\"color: #008080; text-decoration-color: #008080; font-weight: bold\">13</span>\n",
       "كل شئ            <span style=\"color: #008080; text-decoration-color: #008080; font-weight: bold\">11</span>\n",
       "Name: like, dtype: int64\n",
       "</pre>\n"
      ],
      "text/plain": [
       "لا يوجد         \u001b[1;36m922\u001b[0m\n",
       ".               \u001b[1;36m832\u001b[0m\n",
       "-                \u001b[1;36m81\u001b[0m\n",
       "everything       \u001b[1;36m51\u001b[0m\n",
       "..               \u001b[1;36m39\u001b[0m\n",
       "لا               \u001b[1;36m25\u001b[0m\n",
       "no               \u001b[1;36m23\u001b[0m\n",
       "none             \u001b[1;36m22\u001b[0m\n",
       "all              \u001b[1;36m17\u001b[0m\n",
       "كل شيء           \u001b[1;36m17\u001b[0m\n",
       "كل شي            \u001b[1;36m14\u001b[0m\n",
       "nothing          \u001b[1;36m14\u001b[0m\n",
       "لا شيء           \u001b[1;36m13\u001b[0m\n",
       "المادة رائعة     \u001b[1;36m13\u001b[0m\n",
       "كل شئ            \u001b[1;36m11\u001b[0m\n",
       "Name: like, dtype: int64\n"
      ]
     },
     "metadata": {},
     "output_type": "display_data"
    },
    {
     "data": {
      "text/html": [
       "<pre style=\"white-space:pre;overflow-x:auto;line-height:normal;font-family:Menlo,'DejaVu Sans Mono',consolas,'Courier New',monospace\">========================================\n",
       "</pre>\n"
      ],
      "text/plain": [
       "========================================\n"
      ]
     },
     "metadata": {},
     "output_type": "display_data"
    },
    {
     "data": {
      "text/html": [
       "<pre style=\"white-space:pre;overflow-x:auto;line-height:normal;font-family:Menlo,'DejaVu Sans Mono',consolas,'Courier New',monospace\">Most frequent values in <span style=\"font-weight: bold\">(</span>dislike<span style=\"font-weight: bold\">)</span>\n",
       "</pre>\n"
      ],
      "text/plain": [
       "Most frequent values in \u001b[1m(\u001b[0mdislike\u001b[1m)\u001b[0m\n"
      ]
     },
     "metadata": {},
     "output_type": "display_data"
    },
    {
     "data": {
      "text/html": [
       "<pre style=\"white-space:pre;overflow-x:auto;line-height:normal;font-family:Menlo,'DejaVu Sans Mono',consolas,'Courier New',monospace\">========================================\n",
       "</pre>\n"
      ],
      "text/plain": [
       "========================================\n"
      ]
     },
     "metadata": {},
     "output_type": "display_data"
    },
    {
     "data": {
      "text/html": [
       "<pre style=\"white-space:pre;overflow-x:auto;line-height:normal;font-family:Menlo,'DejaVu Sans Mono',consolas,'Courier New',monospace\">لا يوجد          <span style=\"color: #008080; text-decoration-color: #008080; font-weight: bold\">1383</span>\n",
       ".                 <span style=\"color: #008080; text-decoration-color: #008080; font-weight: bold\">829</span>\n",
       "nothing           <span style=\"color: #008080; text-decoration-color: #008080; font-weight: bold\">120</span>\n",
       "-                  <span style=\"color: #008080; text-decoration-color: #008080; font-weight: bold\">97</span>\n",
       "..                 <span style=\"color: #008080; text-decoration-color: #008080; font-weight: bold\">39</span>\n",
       "لا                 <span style=\"color: #008080; text-decoration-color: #008080; font-weight: bold\">36</span>\n",
       "no                 <span style=\"color: #008080; text-decoration-color: #008080; font-weight: bold\">32</span>\n",
       "none               <span style=\"color: #008080; text-decoration-color: #008080; font-weight: bold\">29</span>\n",
       "لا شيء             <span style=\"color: #008080; text-decoration-color: #008080; font-weight: bold\">27</span>\n",
       "لاشيء              <span style=\"color: #008080; text-decoration-color: #008080; font-weight: bold\">20</span>\n",
       "لا شي              <span style=\"color: #008080; text-decoration-color: #008080; font-weight: bold\">18</span>\n",
       "non                <span style=\"color: #008080; text-decoration-color: #008080; font-weight: bold\">14</span>\n",
       "لاشي               <span style=\"color: #008080; text-decoration-color: #008080; font-weight: bold\">13</span>\n",
       "- -                 <span style=\"color: #008080; text-decoration-color: #008080; font-weight: bold\">9</span>\n",
       "المدة الزمنية       <span style=\"color: #008080; text-decoration-color: #008080; font-weight: bold\">9</span>\n",
       "Name: dislike, dtype: int64\n",
       "</pre>\n"
      ],
      "text/plain": [
       "لا يوجد          \u001b[1;36m1383\u001b[0m\n",
       ".                 \u001b[1;36m829\u001b[0m\n",
       "nothing           \u001b[1;36m120\u001b[0m\n",
       "-                  \u001b[1;36m97\u001b[0m\n",
       "..                 \u001b[1;36m39\u001b[0m\n",
       "لا                 \u001b[1;36m36\u001b[0m\n",
       "no                 \u001b[1;36m32\u001b[0m\n",
       "none               \u001b[1;36m29\u001b[0m\n",
       "لا شيء             \u001b[1;36m27\u001b[0m\n",
       "لاشيء              \u001b[1;36m20\u001b[0m\n",
       "لا شي              \u001b[1;36m18\u001b[0m\n",
       "non                \u001b[1;36m14\u001b[0m\n",
       "لاشي               \u001b[1;36m13\u001b[0m\n",
       "- -                 \u001b[1;36m9\u001b[0m\n",
       "المدة الزمنية       \u001b[1;36m9\u001b[0m\n",
       "Name: dislike, dtype: int64\n"
      ]
     },
     "metadata": {},
     "output_type": "display_data"
    },
    {
     "data": {
      "text/html": [
       "<pre style=\"white-space:pre;overflow-x:auto;line-height:normal;font-family:Menlo,'DejaVu Sans Mono',consolas,'Courier New',monospace\">========================================\n",
       "</pre>\n"
      ],
      "text/plain": [
       "========================================\n"
      ]
     },
     "metadata": {},
     "output_type": "display_data"
    },
    {
     "data": {
      "text/html": [
       "<pre style=\"white-space:pre;overflow-x:auto;line-height:normal;font-family:Menlo,'DejaVu Sans Mono',consolas,'Courier New',monospace\">Most frequent values in <span style=\"font-weight: bold\">(</span>improve_course<span style=\"font-weight: bold\">)</span>\n",
       "</pre>\n"
      ],
      "text/plain": [
       "Most frequent values in \u001b[1m(\u001b[0mimprove_course\u001b[1m)\u001b[0m\n"
      ]
     },
     "metadata": {},
     "output_type": "display_data"
    },
    {
     "data": {
      "text/html": [
       "<pre style=\"white-space:pre;overflow-x:auto;line-height:normal;font-family:Menlo,'DejaVu Sans Mono',consolas,'Courier New',monospace\">========================================\n",
       "</pre>\n"
      ],
      "text/plain": [
       "========================================\n"
      ]
     },
     "metadata": {},
     "output_type": "display_data"
    },
    {
     "data": {
      "text/html": [
       "<pre style=\"white-space:pre;overflow-x:auto;line-height:normal;font-family:Menlo,'DejaVu Sans Mono',consolas,'Courier New',monospace\">لا يوجد    <span style=\"color: #008080; text-decoration-color: #008080; font-weight: bold\">1313</span>\n",
       ".           <span style=\"color: #008080; text-decoration-color: #008080; font-weight: bold\">822</span>\n",
       "لا          <span style=\"color: #008080; text-decoration-color: #008080; font-weight: bold\">130</span>\n",
       "no          <span style=\"color: #008080; text-decoration-color: #008080; font-weight: bold\">130</span>\n",
       "-            <span style=\"color: #008080; text-decoration-color: #008080; font-weight: bold\">98</span>\n",
       "..           <span style=\"color: #008080; text-decoration-color: #008080; font-weight: bold\">42</span>\n",
       "nothing      <span style=\"color: #008080; text-decoration-color: #008080; font-weight: bold\">38</span>\n",
       "none         <span style=\"color: #008080; text-decoration-color: #008080; font-weight: bold\">22</span>\n",
       "non          <span style=\"color: #008080; text-decoration-color: #008080; font-weight: bold\">17</span>\n",
       "لا شي        <span style=\"color: #008080; text-decoration-color: #008080; font-weight: bold\">13</span>\n",
       "شكرا         <span style=\"color: #008080; text-decoration-color: #008080; font-weight: bold\">11</span>\n",
       "- -          <span style=\"color: #008080; text-decoration-color: #008080; font-weight: bold\">11</span>\n",
       "لاشيء         <span style=\"color: #008080; text-decoration-color: #008080; font-weight: bold\">8</span>\n",
       "<span style=\"color: #008080; text-decoration-color: #008080; font-weight: bold\">0</span>             <span style=\"color: #008080; text-decoration-color: #008080; font-weight: bold\">7</span>\n",
       "لاشي          <span style=\"color: #008080; text-decoration-color: #008080; font-weight: bold\">7</span>\n",
       "Name: improve_course, dtype: int64\n",
       "</pre>\n"
      ],
      "text/plain": [
       "لا يوجد    \u001b[1;36m1313\u001b[0m\n",
       ".           \u001b[1;36m822\u001b[0m\n",
       "لا          \u001b[1;36m130\u001b[0m\n",
       "no          \u001b[1;36m130\u001b[0m\n",
       "-            \u001b[1;36m98\u001b[0m\n",
       "..           \u001b[1;36m42\u001b[0m\n",
       "nothing      \u001b[1;36m38\u001b[0m\n",
       "none         \u001b[1;36m22\u001b[0m\n",
       "non          \u001b[1;36m17\u001b[0m\n",
       "لا شي        \u001b[1;36m13\u001b[0m\n",
       "شكرا         \u001b[1;36m11\u001b[0m\n",
       "- -          \u001b[1;36m11\u001b[0m\n",
       "لاشيء         \u001b[1;36m8\u001b[0m\n",
       "\u001b[1;36m0\u001b[0m             \u001b[1;36m7\u001b[0m\n",
       "لاشي          \u001b[1;36m7\u001b[0m\n",
       "Name: improve_course, dtype: int64\n"
      ]
     },
     "metadata": {},
     "output_type": "display_data"
    }
   ],
   "source": [
    "for k, v in most_frequent_values.items():\n",
    "    print('=='*20)\n",
    "    print(f'Most frequent values in ({k})')\n",
    "    print('=='*20)\n",
    "    print(v)"
   ]
  },
  {
   "cell_type": "code",
   "execution_count": 15,
   "metadata": {},
   "outputs": [
    {
     "data": {
      "image/png": "[encoded data removed]",
      "text/plain": [
       "<Figure size 1000x600 with 4 Axes>"
      ]
     },
     "metadata": {},
     "output_type": "display_data"
    }
   ],
   "source": [
    "# plot most frequent values\n",
    "plt.figure(figsize=(10, 6))\n",
    "plt.subplots_adjust(hspace=1)\n",
    "color_list = ['blue', 'green', 'red', 'purple']\n",
    "\n",
    "for i, (col_name, freq_values) in enumerate(most_frequent_values.items()):\n",
    "    plt.subplot(2, 2, i+1)\n",
    "    freq_values.plot(kind='bar', color=color_list[i])\n",
    "    plt.title(f'Most frequent ({col_name})')\n",
    "    plt.xlabel(col_name)\n",
    "    plt.ylabel('Frequency')\n",
    "    # plt.xticks(rotation=45)\n"
   ]
  },
  {
   "cell_type": "markdown",
   "metadata": {},
   "source": [
    "# Remove the most frequent values"
   ]
  },
  {
   "cell_type": "code",
   "execution_count": 16,
   "metadata": {},
   "outputs": [],
   "source": [
    "for col_name, freq_values in most_frequent_values.items():\n",
    "    data[col_name] = data[col_name].replace(freq_values.index.to_list(), np.nan)"
   ]
  },
  {
   "cell_type": "code",
   "execution_count": 17,
   "metadata": {},
   "outputs": [
    {
     "data": {
      "text/html": [
       "<div>\n",
       "<style scoped>\n",
       "    .dataframe tbody tr th:only-of-type {\n",
       "        vertical-align: middle;\n",
       "    }\n",
       "\n",
       "    .dataframe tbody tr th {\n",
       "        vertical-align: top;\n",
       "    }\n",
       "\n",
       "    .dataframe thead th {\n",
       "        text-align: right;\n",
       "    }\n",
       "</style>\n",
       "<table border=\"1\" class=\"dataframe\">\n",
       "  <thead>\n",
       "    <tr style=\"text-align: right;\">\n",
       "      <th></th>\n",
       "      <th>add_suggestions</th>\n",
       "      <th>like</th>\n",
       "      <th>dislike</th>\n",
       "      <th>improve_course</th>\n",
       "    </tr>\n",
       "  </thead>\n",
       "  <tbody>\n",
       "    <tr>\n",
       "      <th>2705</th>\n",
       "      <td>NaN</td>\n",
       "      <td>NaN</td>\n",
       "      <td>NaN</td>\n",
       "      <td>NaN</td>\n",
       "    </tr>\n",
       "    <tr>\n",
       "      <th>2635</th>\n",
       "      <td>NaN</td>\n",
       "      <td>NaN</td>\n",
       "      <td>NaN</td>\n",
       "      <td>NaN</td>\n",
       "    </tr>\n",
       "    <tr>\n",
       "      <th>1577</th>\n",
       "      <td>NaN</td>\n",
       "      <td>NaN</td>\n",
       "      <td>NaN</td>\n",
       "      <td>NaN</td>\n",
       "    </tr>\n",
       "    <tr>\n",
       "      <th>2376</th>\n",
       "      <td>NaN</td>\n",
       "      <td>NaN</td>\n",
       "      <td>لا شئ</td>\n",
       "      <td>زيادة الجانب العملي</td>\n",
       "    </tr>\n",
       "    <tr>\n",
       "      <th>2368</th>\n",
       "      <td>لا يوحد</td>\n",
       "      <td>التقنية المستخدمة</td>\n",
       "      <td>NaN</td>\n",
       "      <td>NaN</td>\n",
       "    </tr>\n",
       "    <tr>\n",
       "      <th>893</th>\n",
       "      <td>NaN</td>\n",
       "      <td>NaN</td>\n",
       "      <td>NaN</td>\n",
       "      <td>NaN</td>\n",
       "    </tr>\n",
       "    <tr>\n",
       "      <th>490</th>\n",
       "      <td>NaN</td>\n",
       "      <td>NaN</td>\n",
       "      <td>NaN</td>\n",
       "      <td>NaN</td>\n",
       "    </tr>\n",
       "    <tr>\n",
       "      <th>1040</th>\n",
       "      <td>NaN</td>\n",
       "      <td>NaN</td>\n",
       "      <td>NaN</td>\n",
       "      <td>NaN</td>\n",
       "    </tr>\n",
       "    <tr>\n",
       "      <th>1775</th>\n",
       "      <td>NaN</td>\n",
       "      <td>NaN</td>\n",
       "      <td>NaN</td>\n",
       "      <td>NaN</td>\n",
       "    </tr>\n",
       "    <tr>\n",
       "      <th>118</th>\n",
       "      <td>NaN</td>\n",
       "      <td>NaN</td>\n",
       "      <td>NaN</td>\n",
       "      <td>NaN</td>\n",
       "    </tr>\n",
       "  </tbody>\n",
       "</table>\n",
       "</div>"
      ],
      "text/plain": [
       "     add_suggestions               like dislike       improve_course\n",
       "2705             NaN                NaN     NaN                  NaN\n",
       "2635             NaN                NaN     NaN                  NaN\n",
       "1577             NaN                NaN     NaN                  NaN\n",
       "2376             NaN                NaN   لا شئ  زيادة الجانب العملي\n",
       "2368         لا يوحد  التقنية المستخدمة     NaN                  NaN\n",
       "893              NaN                NaN     NaN                  NaN\n",
       "490              NaN                NaN     NaN                  NaN\n",
       "1040             NaN                NaN     NaN                  NaN\n",
       "1775             NaN                NaN     NaN                  NaN\n",
       "118              NaN                NaN     NaN                  NaN"
      ]
     },
     "execution_count": 17,
     "metadata": {},
     "output_type": "execute_result"
    }
   ],
   "source": [
    "data.sample(10)"
   ]
  },
  {
   "cell_type": "code",
   "execution_count": 18,
   "metadata": {},
   "outputs": [
    {
     "data": {
      "text/html": [
       "<pre style=\"white-space:pre;overflow-x:auto;line-height:normal;font-family:Menlo,'DejaVu Sans Mono',consolas,'Courier New',monospace\">add_suggestions    <span style=\"color: #008080; text-decoration-color: #008080; font-weight: bold\">2674</span>\n",
       "like               <span style=\"color: #008080; text-decoration-color: #008080; font-weight: bold\">2121</span>\n",
       "dislike            <span style=\"color: #008080; text-decoration-color: #008080; font-weight: bold\">2710</span>\n",
       "improve_course     <span style=\"color: #008080; text-decoration-color: #008080; font-weight: bold\">2704</span>\n",
       "dtype: int64\n",
       "</pre>\n"
      ],
      "text/plain": [
       "add_suggestions    \u001b[1;36m2674\u001b[0m\n",
       "like               \u001b[1;36m2121\u001b[0m\n",
       "dislike            \u001b[1;36m2710\u001b[0m\n",
       "improve_course     \u001b[1;36m2704\u001b[0m\n",
       "dtype: int64\n"
      ]
     },
     "metadata": {},
     "output_type": "display_data"
    },
    {
     "data": {
      "image/png": "[encoded data removed]",
      "text/plain": [
       "<Figure size 640x480 with 1 Axes>"
      ]
     },
     "metadata": {},
     "output_type": "display_data"
    }
   ],
   "source": [
    "plot_nan_values(data, title='Number of NaN values after replacing most frequent values.')"
   ]
  },
  {
   "cell_type": "markdown",
   "metadata": {},
   "source": [
    "# Remove short strings"
   ]
  },
  {
   "cell_type": "code",
   "execution_count": 19,
   "metadata": {},
   "outputs": [],
   "source": [
    "short_words = []"
   ]
  },
  {
   "cell_type": "code",
   "execution_count": 20,
   "metadata": {},
   "outputs": [],
   "source": [
    "def remove_short_str(row, n_chars=5):\n",
    "    if len(str(row)) >= n_chars and row is not np.nan:\n",
    "        return row\n",
    "    \n",
    "    short_words.append(row)\n",
    "    return np.nan"
   ]
  },
  {
   "cell_type": "code",
   "execution_count": 21,
   "metadata": {},
   "outputs": [],
   "source": [
    "num_characters = 5\n",
    "\n",
    "data = apply_fn(data, remove_short_str, data.columns, n_chars=num_characters)"
   ]
  },
  {
   "cell_type": "code",
   "execution_count": 22,
   "metadata": {},
   "outputs": [
    {
     "data": {
      "text/html": [
       "<pre style=\"white-space:pre;overflow-x:auto;line-height:normal;font-family:Menlo,'DejaVu Sans Mono',consolas,'Courier New',monospace\">Number of short words in data: <span style=\"color: #008080; text-decoration-color: #008080; font-weight: bold\">10311</span>\n",
       "</pre>\n"
      ],
      "text/plain": [
       "Number of short words in data: \u001b[1;36m10311\u001b[0m\n"
      ]
     },
     "metadata": {},
     "output_type": "display_data"
    },
    {
     "data": {
      "text/html": [
       "<pre style=\"white-space:pre;overflow-x:auto;line-height:normal;font-family:Menlo,'DejaVu Sans Mono',consolas,'Courier New',monospace\">Number of unique short words: <span style=\"color: #008080; text-decoration-color: #008080; font-weight: bold\">26</span>\n",
       "</pre>\n"
      ],
      "text/plain": [
       "Number of unique short words: \u001b[1;36m26\u001b[0m\n"
      ]
     },
     "metadata": {},
     "output_type": "display_data"
    },
    {
     "data": {
      "text/html": [
       "<pre style=\"white-space:pre;overflow-x:auto;line-height:normal;font-family:Menlo,'DejaVu Sans Mono',consolas,'Courier New',monospace\"><span style=\"font-weight: bold\">{</span>\n",
       "    <span style=\"color: #008000; text-decoration-color: #008000\">'good'</span>,\n",
       "    <span style=\"color: #008000; text-decoration-color: #008000\">'ن'</span>,\n",
       "    <span style=\"color: #008000; text-decoration-color: #008000\">'…'</span>,\n",
       "    <span style=\"color: #008000; text-decoration-color: #008000\">'no.'</span>,\n",
       "    <span style=\"color: #008000; text-decoration-color: #008000\">'n'</span>,\n",
       "    <span style=\"color: #008000; text-decoration-color: #008000\">'،'</span>,\n",
       "    <span style=\"color: #008000; text-decoration-color: #008000\">'لاا'</span>,\n",
       "    <span style=\"color: #008000; text-decoration-color: #008000\">'nil'</span>,\n",
       "    <span style=\"color: #008000; text-decoration-color: #008000\">'،،'</span>,\n",
       "    <span style=\"color: #008000; text-decoration-color: #008000\">'na'</span>,\n",
       "    <span style=\"color: #008000; text-decoration-color: #008000\">'ح'</span>,\n",
       "    <span style=\"color: #008000; text-decoration-color: #008000\">'ث'</span>,\n",
       "    <span style=\"color: #008000; text-decoration-color: #008000\">'_'</span>,\n",
       "    <span style=\"color: #008000; text-decoration-color: #008000\">'- -'</span>,\n",
       "    <span style=\"color: #008000; text-decoration-color: #008000\">'all'</span>,\n",
       "    <span style=\"color: #008000; text-decoration-color: #008000\">'0'</span>,\n",
       "    <span style=\"color: #008000; text-decoration-color: #008000\">'للا'</span>,\n",
       "    <span style=\"color: #008000; text-decoration-color: #008000\">'لاشي'</span>,\n",
       "    <span style=\"color: #008000; text-decoration-color: #008000\">'ي'</span>,\n",
       "    nan,\n",
       "    <span style=\"color: #008000; text-decoration-color: #008000\">'جميل'</span>,\n",
       "    <span style=\"color: #008000; text-decoration-color: #008000\">'non'</span>,\n",
       "    <span style=\"color: #008000; text-decoration-color: #008000\">'ب'</span>,\n",
       "    <span style=\"color: #008000; text-decoration-color: #008000\">'الكل'</span>,\n",
       "    <span style=\"color: #008000; text-decoration-color: #008000\">'…….:'</span>,\n",
       "    <span style=\"color: #008000; text-decoration-color: #008000\">'رائع'</span>\n",
       "<span style=\"font-weight: bold\">}</span>\n",
       "</pre>\n"
      ],
      "text/plain": [
       "\u001b[1m{\u001b[0m\n",
       "    \u001b[32m'good'\u001b[0m,\n",
       "    \u001b[32m'ن'\u001b[0m,\n",
       "    \u001b[32m'…'\u001b[0m,\n",
       "    \u001b[32m'no.'\u001b[0m,\n",
       "    \u001b[32m'n'\u001b[0m,\n",
       "    \u001b[32m'،'\u001b[0m,\n",
       "    \u001b[32m'لاا'\u001b[0m,\n",
       "    \u001b[32m'nil'\u001b[0m,\n",
       "    \u001b[32m'،،'\u001b[0m,\n",
       "    \u001b[32m'na'\u001b[0m,\n",
       "    \u001b[32m'ح'\u001b[0m,\n",
       "    \u001b[32m'ث'\u001b[0m,\n",
       "    \u001b[32m'_'\u001b[0m,\n",
       "    \u001b[32m'- -'\u001b[0m,\n",
       "    \u001b[32m'all'\u001b[0m,\n",
       "    \u001b[32m'0'\u001b[0m,\n",
       "    \u001b[32m'للا'\u001b[0m,\n",
       "    \u001b[32m'لاشي'\u001b[0m,\n",
       "    \u001b[32m'ي'\u001b[0m,\n",
       "    nan,\n",
       "    \u001b[32m'جميل'\u001b[0m,\n",
       "    \u001b[32m'non'\u001b[0m,\n",
       "    \u001b[32m'ب'\u001b[0m,\n",
       "    \u001b[32m'الكل'\u001b[0m,\n",
       "    \u001b[32m'…….:'\u001b[0m,\n",
       "    \u001b[32m'رائع'\u001b[0m\n",
       "\u001b[1m}\u001b[0m\n"
      ]
     },
     "metadata": {},
     "output_type": "display_data"
    }
   ],
   "source": [
    "print('Number of short words in data:', len(short_words))\n",
    "print('Number of unique short words:', len(set(short_words)))\n",
    "print(set(short_words))\n"
   ]
  },
  {
   "cell_type": "code",
   "execution_count": 23,
   "metadata": {},
   "outputs": [
    {
     "data": {
      "text/html": [
       "<pre style=\"white-space:pre;overflow-x:auto;line-height:normal;font-family:Menlo,'DejaVu Sans Mono',consolas,'Courier New',monospace\">add_suggestions    <span style=\"color: #008080; text-decoration-color: #008080; font-weight: bold\">2703</span>\n",
       "like               <span style=\"color: #008080; text-decoration-color: #008080; font-weight: bold\">2159</span>\n",
       "dislike            <span style=\"color: #008080; text-decoration-color: #008080; font-weight: bold\">2728</span>\n",
       "improve_course     <span style=\"color: #008080; text-decoration-color: #008080; font-weight: bold\">2721</span>\n",
       "dtype: int64\n",
       "</pre>\n"
      ],
      "text/plain": [
       "add_suggestions    \u001b[1;36m2703\u001b[0m\n",
       "like               \u001b[1;36m2159\u001b[0m\n",
       "dislike            \u001b[1;36m2728\u001b[0m\n",
       "improve_course     \u001b[1;36m2721\u001b[0m\n",
       "dtype: int64\n"
      ]
     },
     "metadata": {},
     "output_type": "display_data"
    },
    {
     "data": {
      "image/png": "[encoded data removed]",
      "text/plain": [
       "<Figure size 640x480 with 1 Axes>"
      ]
     },
     "metadata": {},
     "output_type": "display_data"
    }
   ],
   "source": [
    "plot_nan_values(data)"
   ]
  },
  {
   "cell_type": "code",
   "execution_count": 24,
   "metadata": {},
   "outputs": [
    {
     "data": {
      "text/plain": [
       "pandas.core.frame.DataFrame"
      ]
     },
     "execution_count": 24,
     "metadata": {},
     "output_type": "execute_result"
    }
   ],
   "source": [
    "type(data)"
   ]
  },
  {
   "cell_type": "code",
   "execution_count": null,
   "metadata": {},
   "outputs": [],
   "source": []
  },
  {
   "cell_type": "markdown",
   "metadata": {},
   "source": [
    "# Remove duplicates and save processed data"
   ]
  },
  {
   "cell_type": "code",
   "execution_count": 25,
   "metadata": {},
   "outputs": [
    {
     "data": {
      "text/html": [
       "<pre style=\"white-space:pre;overflow-x:auto;line-height:normal;font-family:Menlo,'DejaVu Sans Mono',consolas,'Courier New',monospace\">Number of duplicated values in add_suggestions: <span style=\"color: #008080; text-decoration-color: #008080; font-weight: bold\">79</span>\n",
       "</pre>\n"
      ],
      "text/plain": [
       "Number of duplicated values in add_suggestions: \u001b[1;36m79\u001b[0m\n"
      ]
     },
     "metadata": {},
     "output_type": "display_data"
    },
    {
     "data": {
      "text/html": [
       "<pre style=\"white-space:pre;overflow-x:auto;line-height:normal;font-family:Menlo,'DejaVu Sans Mono',consolas,'Courier New',monospace\">Number of duplicated values in like: <span style=\"color: #008080; text-decoration-color: #008080; font-weight: bold\">141</span>\n",
       "</pre>\n"
      ],
      "text/plain": [
       "Number of duplicated values in like: \u001b[1;36m141\u001b[0m\n"
      ]
     },
     "metadata": {},
     "output_type": "display_data"
    },
    {
     "data": {
      "text/html": [
       "<pre style=\"white-space:pre;overflow-x:auto;line-height:normal;font-family:Menlo,'DejaVu Sans Mono',consolas,'Courier New',monospace\">Number of duplicated values in dislike: <span style=\"color: #008080; text-decoration-color: #008080; font-weight: bold\">38</span>\n",
       "</pre>\n"
      ],
      "text/plain": [
       "Number of duplicated values in dislike: \u001b[1;36m38\u001b[0m\n"
      ]
     },
     "metadata": {},
     "output_type": "display_data"
    },
    {
     "data": {
      "text/html": [
       "<pre style=\"white-space:pre;overflow-x:auto;line-height:normal;font-family:Menlo,'DejaVu Sans Mono',consolas,'Courier New',monospace\">Number of duplicated values in improve_course: <span style=\"color: #008080; text-decoration-color: #008080; font-weight: bold\">46</span>\n",
       "</pre>\n"
      ],
      "text/plain": [
       "Number of duplicated values in improve_course: \u001b[1;36m46\u001b[0m\n"
      ]
     },
     "metadata": {},
     "output_type": "display_data"
    }
   ],
   "source": [
    "# number of duplications\n",
    "for col in data.columns:\n",
    "    print(f'Number of duplicated values in {col}:', data[col].dropna().duplicated().sum())"
   ]
  },
  {
   "cell_type": "code",
   "execution_count": 26,
   "metadata": {},
   "outputs": [],
   "source": [
    "# np.nan\n",
    "processed_data = {\n",
    "    col_name: [value for value in data[col_name].dropna().drop_duplicates()] for col_name in data.columns\n",
    "}"
   ]
  },
  {
   "cell_type": "code",
   "execution_count": 27,
   "metadata": {},
   "outputs": [
    {
     "data": {
      "text/plain": [
       "['المقرر بشكل عام',\n",
       " 'طريقة الشرح',\n",
       " 'عضو التدريس ومحتوى المقرر',\n",
       " 'تطوير مهارات القيادة']"
      ]
     },
     "execution_count": 27,
     "metadata": {},
     "output_type": "execute_result"
    }
   ],
   "source": [
    "processed_data['like'][:4]"
   ]
  },
  {
   "cell_type": "code",
   "execution_count": 28,
   "metadata": {},
   "outputs": [],
   "source": [
    "save_path = '../../data/processed/porcessed_data.json'\n",
    "\n",
    "with open(save_path, 'w') as f:\n",
    "    json.dump(processed_data, f)"
   ]
  },
  {
   "cell_type": "code",
   "execution_count": 29,
   "metadata": {},
   "outputs": [
    {
     "data": {
      "text/html": [
       "<pre style=\"white-space:pre;overflow-x:auto;line-height:normal;font-family:Menlo,'DejaVu Sans Mono',consolas,'Courier New',monospace\"><span style=\"font-weight: bold\">(</span>add_suggestions<span style=\"font-weight: bold\">)</span> column has <span style=\"color: #008080; text-decoration-color: #008080; font-weight: bold\">297</span> sentences.\n",
       "</pre>\n"
      ],
      "text/plain": [
       "\u001b[1m(\u001b[0madd_suggestions\u001b[1m)\u001b[0m column has \u001b[1;36m297\u001b[0m sentences.\n"
      ]
     },
     "metadata": {},
     "output_type": "display_data"
    },
    {
     "data": {
      "text/html": [
       "<pre style=\"white-space:pre;overflow-x:auto;line-height:normal;font-family:Menlo,'DejaVu Sans Mono',consolas,'Courier New',monospace\"><span style=\"font-weight: bold\">(</span>like<span style=\"font-weight: bold\">)</span> column has <span style=\"color: #008080; text-decoration-color: #008080; font-weight: bold\">779</span> sentences.\n",
       "</pre>\n"
      ],
      "text/plain": [
       "\u001b[1m(\u001b[0mlike\u001b[1m)\u001b[0m column has \u001b[1;36m779\u001b[0m sentences.\n"
      ]
     },
     "metadata": {},
     "output_type": "display_data"
    },
    {
     "data": {
      "text/html": [
       "<pre style=\"white-space:pre;overflow-x:auto;line-height:normal;font-family:Menlo,'DejaVu Sans Mono',consolas,'Courier New',monospace\"><span style=\"font-weight: bold\">(</span>dislike<span style=\"font-weight: bold\">)</span> column has <span style=\"color: #008080; text-decoration-color: #008080; font-weight: bold\">313</span> sentences.\n",
       "</pre>\n"
      ],
      "text/plain": [
       "\u001b[1m(\u001b[0mdislike\u001b[1m)\u001b[0m column has \u001b[1;36m313\u001b[0m sentences.\n"
      ]
     },
     "metadata": {},
     "output_type": "display_data"
    },
    {
     "data": {
      "text/html": [
       "<pre style=\"white-space:pre;overflow-x:auto;line-height:normal;font-family:Menlo,'DejaVu Sans Mono',consolas,'Courier New',monospace\"><span style=\"font-weight: bold\">(</span>improve_course<span style=\"font-weight: bold\">)</span> column has <span style=\"color: #008080; text-decoration-color: #008080; font-weight: bold\">312</span> sentences.\n",
       "</pre>\n"
      ],
      "text/plain": [
       "\u001b[1m(\u001b[0mimprove_course\u001b[1m)\u001b[0m column has \u001b[1;36m312\u001b[0m sentences.\n"
      ]
     },
     "metadata": {},
     "output_type": "display_data"
    }
   ],
   "source": [
    "for k, v in processed_data.items():\n",
    "    print(f'({k}) column has {len(v)} sentences.')"
   ]
  },
  {
   "cell_type": "markdown",
   "metadata": {
    "tags": []
   },
   "source": [
    "# Plot sentence lengths"
   ]
  },
  {
   "cell_type": "code",
   "execution_count": 30,
   "metadata": {},
   "outputs": [
    {
     "data": {
      "text/html": [
       "<pre style=\"white-space:pre;overflow-x:auto;line-height:normal;font-family:Menlo,'DejaVu Sans Mono',consolas,'Courier New',monospace\"><span style=\"color: #008080; text-decoration-color: #008080; font-weight: bold\">1610</span>\n",
       "</pre>\n"
      ],
      "text/plain": [
       "\u001b[1;36m1610\u001b[0m\n"
      ]
     },
     "metadata": {},
     "output_type": "display_data"
    }
   ],
   "source": [
    "text = []\n",
    "for k, v in processed_data.items():\n",
    "    text.extend((v))\n",
    "\n",
    "text = sorted(set(text))\n",
    "print(len(text))"
   ]
  },
  {
   "cell_type": "code",
   "execution_count": 31,
   "metadata": {},
   "outputs": [],
   "source": [
    "text_length = [len(sentence.split()) for sentence in text]"
   ]
  },
  {
   "cell_type": "code",
   "execution_count": 32,
   "metadata": {},
   "outputs": [
    {
     "data": {
      "image/png": "[encoded data removed]",
      "text/plain": [
       "<Figure size 640x480 with 1 Axes>"
      ]
     },
     "metadata": {},
     "output_type": "display_data"
    }
   ],
   "source": [
    "plt.hist(text_length, bins=50, rwidth=0.8)\n",
    "plt.title('Distribution of sentence length.')\n",
    "plt.xlabel('length')\n",
    "plt.ylabel('frequency')\n",
    "\n",
    "percentile_90 = np.percentile(text_length, 90)\n",
    "plt.axvline(percentile_90, color='k', linestyle='--', label='90th Percentile')\n",
    "plt.legend()\n",
    "plt.show()"
   ]
  },
  {
   "cell_type": "code",
   "execution_count": null,
   "metadata": {},
   "outputs": [],
   "source": []
  }
 ],
 "metadata": {
  "kernelspec": {
   "display_name": "Python 3 (ipykernel)",
   "language": "python",
   "name": "python3"
  },
  "language_info": {
   "codemirror_mode": {
    "name": "ipython",
    "version": 3
   },
   "file_extension": ".py",
   "mimetype": "text/x-python",
   "name": "python",
   "nbconvert_exporter": "python",
   "pygments_lexer": "ipython3",
   "version": "3.11.7"
  }
 },
 "nbformat": 4,
 "nbformat_minor": 4
}
