{
 "cells": [
  {
   "cell_type": "code",
   "execution_count": 81,
   "metadata": {
    "tags": []
   },
   "outputs": [],
   "source": [
    "import pandas as pd\n",
    "import matplotlib.pyplot as plt\n",
    "from rich import print\n",
    "import numpy as np\n",
    "import json\n",
    "from typing import List\n",
    "from arabert.preprocess import ArabertPreprocessor\n",
    "import re\n",
    "from pyarabic.araby import strip_diacritics, normalize_hamza\n",
    "import matplotlib.pyplot as plt \n",
    "from matplotlib import rcParams\n",
    "from pathlib import Path\n",
    "import torch\n",
    "from transformers import AutoModelForSequenceClassification, AutoTokenizer\n",
    "from tqdm import tqdm\n",
    "import gc\n",
    "rcParams['font.family'] = 'DejaVu Sans'"
   ]
  },
  {
   "cell_type": "code",
   "execution_count": 2,
   "metadata": {
    "tags": []
   },
   "outputs": [
    {
     "name": "stdin",
     "output_type": "stream",
     "text": [
      "Enter data path.\n",
      "NOTE: data should contain the following column names:\n",
      "\t1. \"like\": what did you like most about this course?\n",
      "\t2. \"dislike\": what did you dislike most about this course?\n",
      "\t3. \"add_suggestions\": suggestions to add.\n",
      "\t4. \"improve_course\": What suggestion(s) do you have to improve this course?\n",
      " ../../data/raw/Full FCIT data no names_columns_renamed.xlsx\n"
     ]
    }
   ],
   "source": [
    "data_path = input(\n",
    "'Enter data path.\\nNOTE: data should contain the following column names:\\n\\t\\\n",
    "1. \"like\": what did you like most about this course?\\n\\t\\\n",
    "2. \"dislike\": what did you dislike most about this course?\\n\\t\\\n",
    "3. \"add_suggestions\": suggestions to add.\\n\\t\\\n",
    "4. \"improve_course\": What suggestion(s) do you have to improve this course?\\n'\n",
    ")"
   ]
  },
  {
   "cell_type": "code",
   "execution_count": 3,
   "metadata": {
    "tags": []
   },
   "outputs": [],
   "source": [
    "read_fn_dict = {\n",
    "    \".csv\": pd.read_csv,\n",
    "    \".xls\": pd.read_excel,\n",
    "    \".xlsx\": pd.read_excel,\n",
    "    \".json\": pd.read_json,\n",
    "    \".parquet\": pd.read_parquet\n",
    "}"
   ]
  },
  {
   "cell_type": "code",
   "execution_count": 4,
   "metadata": {
    "tags": []
   },
   "outputs": [],
   "source": [
    "def read_dataframe(data_path: str):\n",
    "    file_type = Path(data_path).suffix.lower()\n",
    "    \n",
    "    read_fn = read_fn_dict[file_type]\n",
    "    \n",
    "    return read_fn(data_path)"
   ]
  },
  {
   "cell_type": "code",
   "execution_count": 5,
   "metadata": {
    "tags": []
   },
   "outputs": [
    {
     "data": {
      "text/html": [
       "<div>\n",
       "<style scoped>\n",
       "    .dataframe tbody tr th:only-of-type {\n",
       "        vertical-align: middle;\n",
       "    }\n",
       "\n",
       "    .dataframe tbody tr th {\n",
       "        vertical-align: top;\n",
       "    }\n",
       "\n",
       "    .dataframe thead th {\n",
       "        text-align: right;\n",
       "    }\n",
       "</style>\n",
       "<table border=\"1\" class=\"dataframe\">\n",
       "  <thead>\n",
       "    <tr style=\"text-align: right;\">\n",
       "      <th></th>\n",
       "      <th>1-(مخطط المقرر واضح بالنسبة لي بما في ذلك المعلومات والمهارات التي صمم المقرر لتطويرها)- (The course outline (including the knowledge and skills the course was designed to develop) was made clear to me)</th>\n",
       "      <th>2-متطلبات اجتياز المقرر واضحة بالنسبة لي (بما في ذلك الواجبات التي يتم التقييم بناء عليها، وطرق التقييم))- (The things I had to do to succeed in the course, including assessment tasks and criteria for assessment, were made clear to me)</th>\n",
       "      <th>3-مصادر المساعدة في المقرر واضحة بالنسبة لي (بما في ذلك الساعات المكتبية لعضو هيئة التدريس، المراجع))- (Sources of help for me during the course including faculty office hours and reference material, were made clear to me)</th>\n",
       "      <th>4-(تنفيذ المقرر والتكاليف التي طُلبت مني متماشية مع مخطط المقرر)- (The conduct of the course and assignments I was asked to do were consistent with the course outline)</th>\n",
       "      <th>5-(كل ما يقدم في المقرر حديث ومفيد، (المراجع، الملخصات، وما شابهها))- (Course materials were of up to date and useful. (Texts, handouts, references etc.))</th>\n",
       "      <th>6-(المصادر التي احتجتها في هذا المقرر متوافرة)- (The resources I needed in this course (textbooks, library, computers etc.) were available when I needed them.)</th>\n",
       "      <th>7-(تم استخدام التقنية بشكل فعال)- (In this course, effective use was made of technology to support my learning)</th>\n",
       "      <th>8-(في هذا المقرر وجدت تشجيعاً لإلقاء الأسئلة وتطوير أفكاري)- (In this course I was encouraged to ask questions and develop my own ideas)</th>\n",
       "      <th>9-(في هذا المقرر شُجعت على تقديم أفضل ما عندي)- (In this course, I was inspired to do my best work)</th>\n",
       "      <th>10-(في هذا المقرر ساعدت الأشياء التي طُلبت مني (الأنشطة الصفية، المعامل، وغيرها) في تطوير معرفتي ومهاراتي التي يهدف المقرر لتعليمها)- (The things I had to do in this course (class activities, assignments, laboratories etc.) were helpful for developing the knowledge and skills the course was intended to teach)</th>\n",
       "      <th>...</th>\n",
       "      <th>28-(تتناسب طرق التدريس مع بيئة الفصول الافتراضية)- (Teaching methods adapted are appropriate for the virtual classroom environment)</th>\n",
       "      <th>29-(أجد أن بيئة الفصول الافتراضية محفزة للتعلم)- (I find that the virtual classroom is a motivating environment for learning)</th>\n",
       "      <th>30-(توفر أدلة للتدريب والمساعدة على استخدام التقنيات في الفصول الافتراضية)- (training and assistance guides and manuals on how .to use the tools are available in the virtual classroom)</th>\n",
       "      <th>31-(تتوفر المحاضرات مسجلة بشكل واضح)- (Recordings of the Lectures are available on the platform)</th>\n",
       "      <th>32-(تتناسب طرق التقييم مع بيئة الفصول الافتراضية)- (Assessment methods adapted are appropriate for the virtual classroom environment)</th>\n",
       "      <th>33-(بشكل عام أنا راض عن خدمات التعلم الإلكتروني والتعليم عن بعد)- (In general, I am satisfied with e-learning and distance education services)</th>\n",
       "      <th>add_suggestions</th>\n",
       "      <th>like</th>\n",
       "      <th>dislike</th>\n",
       "      <th>improve_course</th>\n",
       "    </tr>\n",
       "  </thead>\n",
       "  <tbody>\n",
       "    <tr>\n",
       "      <th>0</th>\n",
       "      <td>Strongly Agree-أوافق بشدة</td>\n",
       "      <td>Strongly Agree-أوافق بشدة</td>\n",
       "      <td>Strongly Agree-أوافق بشدة</td>\n",
       "      <td>Strongly Agree-أوافق بشدة</td>\n",
       "      <td>Strongly Agree-أوافق بشدة</td>\n",
       "      <td>Strongly Agree-أوافق بشدة</td>\n",
       "      <td>Strongly Agree-أوافق بشدة</td>\n",
       "      <td>Strongly Agree-أوافق بشدة</td>\n",
       "      <td>Strongly Agree-أوافق بشدة</td>\n",
       "      <td>Strongly Agree-أوافق بشدة</td>\n",
       "      <td>...</td>\n",
       "      <td>Strongly Agree-أوافق بشدة</td>\n",
       "      <td>Strongly Agree-أوافق بشدة</td>\n",
       "      <td>Strongly Agree-أوافق بشدة</td>\n",
       "      <td>Strongly Agree-أوافق بشدة</td>\n",
       "      <td>Strongly Agree-أوافق بشدة</td>\n",
       "      <td>Strongly Agree-أوافق بشدة</td>\n",
       "      <td>لايوجد</td>\n",
       "      <td>المقرر بشكل عام</td>\n",
       "      <td>لايوجد</td>\n",
       "      <td>لايوجد</td>\n",
       "    </tr>\n",
       "    <tr>\n",
       "      <th>1</th>\n",
       "      <td>Strongly Agree-أوافق بشدة</td>\n",
       "      <td>Strongly Agree-أوافق بشدة</td>\n",
       "      <td>Strongly Agree-أوافق بشدة</td>\n",
       "      <td>Strongly Agree-أوافق بشدة</td>\n",
       "      <td>Strongly Agree-أوافق بشدة</td>\n",
       "      <td>Strongly Agree-أوافق بشدة</td>\n",
       "      <td>Strongly Agree-أوافق بشدة</td>\n",
       "      <td>Strongly Agree-أوافق بشدة</td>\n",
       "      <td>Strongly Agree-أوافق بشدة</td>\n",
       "      <td>Strongly Agree-أوافق بشدة</td>\n",
       "      <td>...</td>\n",
       "      <td>Strongly Agree-أوافق بشدة</td>\n",
       "      <td>Strongly Agree-أوافق بشدة</td>\n",
       "      <td>Strongly Agree-أوافق بشدة</td>\n",
       "      <td>Strongly Agree-أوافق بشدة</td>\n",
       "      <td>Strongly Agree-أوافق بشدة</td>\n",
       "      <td>Strongly Agree-أوافق بشدة</td>\n",
       "      <td>لايوجد</td>\n",
       "      <td>المقرر بشكل عام</td>\n",
       "      <td>لايوجد</td>\n",
       "      <td>لايوجد</td>\n",
       "    </tr>\n",
       "    <tr>\n",
       "      <th>2</th>\n",
       "      <td>Strongly Agree-أوافق بشدة</td>\n",
       "      <td>Strongly Agree-أوافق بشدة</td>\n",
       "      <td>Strongly Agree-أوافق بشدة</td>\n",
       "      <td>Strongly Agree-أوافق بشدة</td>\n",
       "      <td>Strongly Agree-أوافق بشدة</td>\n",
       "      <td>Strongly Agree-أوافق بشدة</td>\n",
       "      <td>Strongly Agree-أوافق بشدة</td>\n",
       "      <td>Strongly Agree-أوافق بشدة</td>\n",
       "      <td>Strongly Agree-أوافق بشدة</td>\n",
       "      <td>Strongly Agree-أوافق بشدة</td>\n",
       "      <td>...</td>\n",
       "      <td>Strongly Agree-أوافق بشدة</td>\n",
       "      <td>Strongly Agree-أوافق بشدة</td>\n",
       "      <td>Strongly Agree-أوافق بشدة</td>\n",
       "      <td>Strongly Agree-أوافق بشدة</td>\n",
       "      <td>Strongly Agree-أوافق بشدة</td>\n",
       "      <td>Strongly Agree-أوافق بشدة</td>\n",
       "      <td>لايوجد</td>\n",
       "      <td>طريقة الشرح</td>\n",
       "      <td>لايوجد</td>\n",
       "      <td>لايوجد</td>\n",
       "    </tr>\n",
       "    <tr>\n",
       "      <th>3</th>\n",
       "      <td>Agree-أوافق</td>\n",
       "      <td>Agree-أوافق</td>\n",
       "      <td>Agree-أوافق</td>\n",
       "      <td>Agree-أوافق</td>\n",
       "      <td>Agree-أوافق</td>\n",
       "      <td>Agree-أوافق</td>\n",
       "      <td>Agree-أوافق</td>\n",
       "      <td>Agree-أوافق</td>\n",
       "      <td>Agree-أوافق</td>\n",
       "      <td>Agree-أوافق</td>\n",
       "      <td>...</td>\n",
       "      <td>Agree-أوافق</td>\n",
       "      <td>Agree-أوافق</td>\n",
       "      <td>Agree-أوافق</td>\n",
       "      <td>Agree-أوافق</td>\n",
       "      <td>Agree-أوافق</td>\n",
       "      <td>Agree-أوافق</td>\n",
       "      <td>-</td>\n",
       "      <td>-</td>\n",
       "      <td>-</td>\n",
       "      <td>-</td>\n",
       "    </tr>\n",
       "    <tr>\n",
       "      <th>4</th>\n",
       "      <td>Agree-أوافق</td>\n",
       "      <td>Agree-أوافق</td>\n",
       "      <td>Agree-أوافق</td>\n",
       "      <td>Agree-أوافق</td>\n",
       "      <td>Agree-أوافق</td>\n",
       "      <td>Agree-أوافق</td>\n",
       "      <td>Agree-أوافق</td>\n",
       "      <td>Agree-أوافق</td>\n",
       "      <td>Agree-أوافق</td>\n",
       "      <td>Agree-أوافق</td>\n",
       "      <td>...</td>\n",
       "      <td>Agree-أوافق</td>\n",
       "      <td>Agree-أوافق</td>\n",
       "      <td>Agree-أوافق</td>\n",
       "      <td>Agree-أوافق</td>\n",
       "      <td>Agree-أوافق</td>\n",
       "      <td>Agree-أوافق</td>\n",
       "      <td>-</td>\n",
       "      <td>-</td>\n",
       "      <td>-</td>\n",
       "      <td>-</td>\n",
       "    </tr>\n",
       "    <tr>\n",
       "      <th>5</th>\n",
       "      <td>Agree-أوافق</td>\n",
       "      <td>Agree-أوافق</td>\n",
       "      <td>Agree-أوافق</td>\n",
       "      <td>Agree-أوافق</td>\n",
       "      <td>Agree-أوافق</td>\n",
       "      <td>Agree-أوافق</td>\n",
       "      <td>Agree-أوافق</td>\n",
       "      <td>Agree-أوافق</td>\n",
       "      <td>Agree-أوافق</td>\n",
       "      <td>Agree-أوافق</td>\n",
       "      <td>...</td>\n",
       "      <td>Agree-أوافق</td>\n",
       "      <td>True Sometimes-أوافق إلى حد ما</td>\n",
       "      <td>Agree-أوافق</td>\n",
       "      <td>Agree-أوافق</td>\n",
       "      <td>Agree-أوافق</td>\n",
       "      <td>Agree-أوافق</td>\n",
       "      <td>-</td>\n",
       "      <td>-</td>\n",
       "      <td>-</td>\n",
       "      <td>-</td>\n",
       "    </tr>\n",
       "    <tr>\n",
       "      <th>6</th>\n",
       "      <td>Strongly Agree-أوافق بشدة</td>\n",
       "      <td>Strongly Agree-أوافق بشدة</td>\n",
       "      <td>Strongly Agree-أوافق بشدة</td>\n",
       "      <td>Strongly Agree-أوافق بشدة</td>\n",
       "      <td>Strongly Agree-أوافق بشدة</td>\n",
       "      <td>Strongly Agree-أوافق بشدة</td>\n",
       "      <td>Strongly Agree-أوافق بشدة</td>\n",
       "      <td>Strongly Agree-أوافق بشدة</td>\n",
       "      <td>Strongly Agree-أوافق بشدة</td>\n",
       "      <td>Strongly Agree-أوافق بشدة</td>\n",
       "      <td>...</td>\n",
       "      <td>Strongly Agree-أوافق بشدة</td>\n",
       "      <td>Strongly Agree-أوافق بشدة</td>\n",
       "      <td>Strongly Agree-أوافق بشدة</td>\n",
       "      <td>Strongly Agree-أوافق بشدة</td>\n",
       "      <td>Strongly Agree-أوافق بشدة</td>\n",
       "      <td>Strongly Agree-أوافق بشدة</td>\n",
       "      <td>لا</td>\n",
       "      <td>عضو التدريس ومحتوى المقرر</td>\n",
       "      <td>لايوجد</td>\n",
       "      <td>لايوجد</td>\n",
       "    </tr>\n",
       "    <tr>\n",
       "      <th>7</th>\n",
       "      <td>Disagree-لا أوافق</td>\n",
       "      <td>Disagree-لا أوافق</td>\n",
       "      <td>Disagree-لا أوافق</td>\n",
       "      <td>Disagree-لا أوافق</td>\n",
       "      <td>Disagree-لا أوافق</td>\n",
       "      <td>Disagree-لا أوافق</td>\n",
       "      <td>Disagree-لا أوافق</td>\n",
       "      <td>Disagree-لا أوافق</td>\n",
       "      <td>Disagree-لا أوافق</td>\n",
       "      <td>Disagree-لا أوافق</td>\n",
       "      <td>...</td>\n",
       "      <td>Disagree-لا أوافق</td>\n",
       "      <td>Disagree-لا أوافق</td>\n",
       "      <td>do not apply-لا ينطبق/ لا أستطيع الحكم عليه</td>\n",
       "      <td>Disagree-لا أوافق</td>\n",
       "      <td>do not apply-لا ينطبق/ لا أستطيع الحكم عليه</td>\n",
       "      <td>True Sometimes-أوافق إلى حد ما</td>\n",
       "      <td>تغيير الدكتوره</td>\n",
       "      <td>.</td>\n",
       "      <td>عدم تعاون الدكتوره ودرجتي النهائية</td>\n",
       "      <td>لا</td>\n",
       "    </tr>\n",
       "    <tr>\n",
       "      <th>8</th>\n",
       "      <td>Strongly Agree-أوافق بشدة</td>\n",
       "      <td>Strongly Agree-أوافق بشدة</td>\n",
       "      <td>Strongly Agree-أوافق بشدة</td>\n",
       "      <td>Strongly Agree-أوافق بشدة</td>\n",
       "      <td>Strongly Agree-أوافق بشدة</td>\n",
       "      <td>Strongly Agree-أوافق بشدة</td>\n",
       "      <td>Strongly Agree-أوافق بشدة</td>\n",
       "      <td>Strongly Agree-أوافق بشدة</td>\n",
       "      <td>Strongly Agree-أوافق بشدة</td>\n",
       "      <td>Strongly Agree-أوافق بشدة</td>\n",
       "      <td>...</td>\n",
       "      <td>Strongly Agree-أوافق بشدة</td>\n",
       "      <td>Disagree-لا أوافق</td>\n",
       "      <td>Agree-أوافق</td>\n",
       "      <td>Agree-أوافق</td>\n",
       "      <td>Agree-أوافق</td>\n",
       "      <td>True Sometimes-أوافق إلى حد ما</td>\n",
       "      <td>Na</td>\n",
       "      <td>Na</td>\n",
       "      <td>Na</td>\n",
       "      <td>Na</td>\n",
       "    </tr>\n",
       "    <tr>\n",
       "      <th>9</th>\n",
       "      <td>Strongly Agree-أوافق بشدة</td>\n",
       "      <td>Strongly Agree-أوافق بشدة</td>\n",
       "      <td>Strongly Agree-أوافق بشدة</td>\n",
       "      <td>Strongly Agree-أوافق بشدة</td>\n",
       "      <td>Strongly Agree-أوافق بشدة</td>\n",
       "      <td>Strongly Agree-أوافق بشدة</td>\n",
       "      <td>Strongly Agree-أوافق بشدة</td>\n",
       "      <td>Strongly Agree-أوافق بشدة</td>\n",
       "      <td>Strongly Agree-أوافق بشدة</td>\n",
       "      <td>Strongly Agree-أوافق بشدة</td>\n",
       "      <td>...</td>\n",
       "      <td>Strongly Agree-أوافق بشدة</td>\n",
       "      <td>Strongly Agree-أوافق بشدة</td>\n",
       "      <td>Strongly Agree-أوافق بشدة</td>\n",
       "      <td>Strongly Agree-أوافق بشدة</td>\n",
       "      <td>Strongly Agree-أوافق بشدة</td>\n",
       "      <td>Strongly Agree-أوافق بشدة</td>\n",
       "      <td>.</td>\n",
       "      <td>.</td>\n",
       "      <td>.</td>\n",
       "      <td>.</td>\n",
       "    </tr>\n",
       "  </tbody>\n",
       "</table>\n",
       "<p>10 rows × 37 columns</p>\n",
       "</div>"
      ],
      "text/plain": [
       "  1-(مخطط المقرر واضح بالنسبة لي بما في ذلك المعلومات والمهارات التي صمم المقرر لتطويرها)- (The course outline (including the knowledge and skills the course was designed to develop) was made clear to me)  \\\n",
       "0                          Strongly Agree-أوافق بشدة                                                                                                                                                           \n",
       "1                          Strongly Agree-أوافق بشدة                                                                                                                                                           \n",
       "2                          Strongly Agree-أوافق بشدة                                                                                                                                                           \n",
       "3                                        Agree-أوافق                                                                                                                                                           \n",
       "4                                        Agree-أوافق                                                                                                                                                           \n",
       "5                                        Agree-أوافق                                                                                                                                                           \n",
       "6                          Strongly Agree-أوافق بشدة                                                                                                                                                           \n",
       "7                                  Disagree-لا أوافق                                                                                                                                                           \n",
       "8                          Strongly Agree-أوافق بشدة                                                                                                                                                           \n",
       "9                          Strongly Agree-أوافق بشدة                                                                                                                                                           \n",
       "\n",
       "  2-متطلبات اجتياز المقرر واضحة بالنسبة لي (بما في ذلك الواجبات التي يتم التقييم بناء عليها، وطرق التقييم))- (The things I had to do to succeed in the course, including assessment tasks and criteria for assessment, were made clear to me)  \\\n",
       "0                          Strongly Agree-أوافق بشدة                                                                                                                                                                                            \n",
       "1                          Strongly Agree-أوافق بشدة                                                                                                                                                                                            \n",
       "2                          Strongly Agree-أوافق بشدة                                                                                                                                                                                            \n",
       "3                                        Agree-أوافق                                                                                                                                                                                            \n",
       "4                                        Agree-أوافق                                                                                                                                                                                            \n",
       "5                                        Agree-أوافق                                                                                                                                                                                            \n",
       "6                          Strongly Agree-أوافق بشدة                                                                                                                                                                                            \n",
       "7                                  Disagree-لا أوافق                                                                                                                                                                                            \n",
       "8                          Strongly Agree-أوافق بشدة                                                                                                                                                                                            \n",
       "9                          Strongly Agree-أوافق بشدة                                                                                                                                                                                            \n",
       "\n",
       "  3-مصادر المساعدة في المقرر واضحة بالنسبة لي (بما في ذلك الساعات المكتبية لعضو هيئة التدريس، المراجع))- (Sources of help for me during the course including faculty office hours and reference material, were made clear to me)  \\\n",
       "0                          Strongly Agree-أوافق بشدة                                                                                                                                                                               \n",
       "1                          Strongly Agree-أوافق بشدة                                                                                                                                                                               \n",
       "2                          Strongly Agree-أوافق بشدة                                                                                                                                                                               \n",
       "3                                        Agree-أوافق                                                                                                                                                                               \n",
       "4                                        Agree-أوافق                                                                                                                                                                               \n",
       "5                                        Agree-أوافق                                                                                                                                                                               \n",
       "6                          Strongly Agree-أوافق بشدة                                                                                                                                                                               \n",
       "7                                  Disagree-لا أوافق                                                                                                                                                                               \n",
       "8                          Strongly Agree-أوافق بشدة                                                                                                                                                                               \n",
       "9                          Strongly Agree-أوافق بشدة                                                                                                                                                                               \n",
       "\n",
       "  4-(تنفيذ المقرر والتكاليف التي طُلبت مني متماشية مع مخطط المقرر)- (The conduct of the course and assignments I was asked to do were consistent with the course outline)  \\\n",
       "0                          Strongly Agree-أوافق بشدة                                                                                                                        \n",
       "1                          Strongly Agree-أوافق بشدة                                                                                                                        \n",
       "2                          Strongly Agree-أوافق بشدة                                                                                                                        \n",
       "3                                        Agree-أوافق                                                                                                                        \n",
       "4                                        Agree-أوافق                                                                                                                        \n",
       "5                                        Agree-أوافق                                                                                                                        \n",
       "6                          Strongly Agree-أوافق بشدة                                                                                                                        \n",
       "7                                  Disagree-لا أوافق                                                                                                                        \n",
       "8                          Strongly Agree-أوافق بشدة                                                                                                                        \n",
       "9                          Strongly Agree-أوافق بشدة                                                                                                                        \n",
       "\n",
       "  5-(كل ما يقدم في المقرر حديث ومفيد، (المراجع، الملخصات، وما شابهها))- (Course materials were of up to date and useful. (Texts, handouts, references etc.))  \\\n",
       "0                          Strongly Agree-أوافق بشدة                                                                                                           \n",
       "1                          Strongly Agree-أوافق بشدة                                                                                                           \n",
       "2                          Strongly Agree-أوافق بشدة                                                                                                           \n",
       "3                                        Agree-أوافق                                                                                                           \n",
       "4                                        Agree-أوافق                                                                                                           \n",
       "5                                        Agree-أوافق                                                                                                           \n",
       "6                          Strongly Agree-أوافق بشدة                                                                                                           \n",
       "7                                  Disagree-لا أوافق                                                                                                           \n",
       "8                          Strongly Agree-أوافق بشدة                                                                                                           \n",
       "9                          Strongly Agree-أوافق بشدة                                                                                                           \n",
       "\n",
       "  6-(المصادر التي احتجتها في هذا المقرر متوافرة)- (The resources I needed in this course (textbooks, library, computers etc.) were available when I needed them.)  \\\n",
       "0                          Strongly Agree-أوافق بشدة                                                                                                                \n",
       "1                          Strongly Agree-أوافق بشدة                                                                                                                \n",
       "2                          Strongly Agree-أوافق بشدة                                                                                                                \n",
       "3                                        Agree-أوافق                                                                                                                \n",
       "4                                        Agree-أوافق                                                                                                                \n",
       "5                                        Agree-أوافق                                                                                                                \n",
       "6                          Strongly Agree-أوافق بشدة                                                                                                                \n",
       "7                                  Disagree-لا أوافق                                                                                                                \n",
       "8                          Strongly Agree-أوافق بشدة                                                                                                                \n",
       "9                          Strongly Agree-أوافق بشدة                                                                                                                \n",
       "\n",
       "  7-(تم استخدام التقنية بشكل فعال)- (In this course, effective use was made of technology to support my learning)  \\\n",
       "0                          Strongly Agree-أوافق بشدة                                                                \n",
       "1                          Strongly Agree-أوافق بشدة                                                                \n",
       "2                          Strongly Agree-أوافق بشدة                                                                \n",
       "3                                        Agree-أوافق                                                                \n",
       "4                                        Agree-أوافق                                                                \n",
       "5                                        Agree-أوافق                                                                \n",
       "6                          Strongly Agree-أوافق بشدة                                                                \n",
       "7                                  Disagree-لا أوافق                                                                \n",
       "8                          Strongly Agree-أوافق بشدة                                                                \n",
       "9                          Strongly Agree-أوافق بشدة                                                                \n",
       "\n",
       "  8-(في هذا المقرر وجدت تشجيعاً لإلقاء الأسئلة وتطوير أفكاري)- (In this course I was encouraged to ask questions and develop my own ideas)  \\\n",
       "0                          Strongly Agree-أوافق بشدة                                                                                         \n",
       "1                          Strongly Agree-أوافق بشدة                                                                                         \n",
       "2                          Strongly Agree-أوافق بشدة                                                                                         \n",
       "3                                        Agree-أوافق                                                                                         \n",
       "4                                        Agree-أوافق                                                                                         \n",
       "5                                        Agree-أوافق                                                                                         \n",
       "6                          Strongly Agree-أوافق بشدة                                                                                         \n",
       "7                                  Disagree-لا أوافق                                                                                         \n",
       "8                          Strongly Agree-أوافق بشدة                                                                                         \n",
       "9                          Strongly Agree-أوافق بشدة                                                                                         \n",
       "\n",
       "  9-(في هذا المقرر شُجعت على تقديم أفضل ما عندي)- (In this course, I was inspired to do my best work)  \\\n",
       "0                          Strongly Agree-أوافق بشدة                                                    \n",
       "1                          Strongly Agree-أوافق بشدة                                                    \n",
       "2                          Strongly Agree-أوافق بشدة                                                    \n",
       "3                                        Agree-أوافق                                                    \n",
       "4                                        Agree-أوافق                                                    \n",
       "5                                        Agree-أوافق                                                    \n",
       "6                          Strongly Agree-أوافق بشدة                                                    \n",
       "7                                  Disagree-لا أوافق                                                    \n",
       "8                          Strongly Agree-أوافق بشدة                                                    \n",
       "9                          Strongly Agree-أوافق بشدة                                                    \n",
       "\n",
       "  10-(في هذا المقرر ساعدت الأشياء التي طُلبت مني (الأنشطة الصفية، المعامل، وغيرها) في تطوير معرفتي ومهاراتي التي يهدف المقرر لتعليمها)- (The things I had to do in this course (class activities, assignments, laboratories etc.) were helpful for developing the knowledge and skills the course was intended to teach)  \\\n",
       "0                          Strongly Agree-أوافق بشدة                                                                                                                                                                                                                                                                       \n",
       "1                          Strongly Agree-أوافق بشدة                                                                                                                                                                                                                                                                       \n",
       "2                          Strongly Agree-أوافق بشدة                                                                                                                                                                                                                                                                       \n",
       "3                                        Agree-أوافق                                                                                                                                                                                                                                                                       \n",
       "4                                        Agree-أوافق                                                                                                                                                                                                                                                                       \n",
       "5                                        Agree-أوافق                                                                                                                                                                                                                                                                       \n",
       "6                          Strongly Agree-أوافق بشدة                                                                                                                                                                                                                                                                       \n",
       "7                                  Disagree-لا أوافق                                                                                                                                                                                                                                                                       \n",
       "8                          Strongly Agree-أوافق بشدة                                                                                                                                                                                                                                                                       \n",
       "9                          Strongly Agree-أوافق بشدة                                                                                                                                                                                                                                                                       \n",
       "\n",
       "   ...  \\\n",
       "0  ...   \n",
       "1  ...   \n",
       "2  ...   \n",
       "3  ...   \n",
       "4  ...   \n",
       "5  ...   \n",
       "6  ...   \n",
       "7  ...   \n",
       "8  ...   \n",
       "9  ...   \n",
       "\n",
       "  28-(تتناسب طرق التدريس مع بيئة الفصول الافتراضية)- (Teaching methods adapted are appropriate for the virtual classroom environment)  \\\n",
       "0                          Strongly Agree-أوافق بشدة                                                                                    \n",
       "1                          Strongly Agree-أوافق بشدة                                                                                    \n",
       "2                          Strongly Agree-أوافق بشدة                                                                                    \n",
       "3                                        Agree-أوافق                                                                                    \n",
       "4                                        Agree-أوافق                                                                                    \n",
       "5                                        Agree-أوافق                                                                                    \n",
       "6                          Strongly Agree-أوافق بشدة                                                                                    \n",
       "7                                  Disagree-لا أوافق                                                                                    \n",
       "8                          Strongly Agree-أوافق بشدة                                                                                    \n",
       "9                          Strongly Agree-أوافق بشدة                                                                                    \n",
       "\n",
       "  29-(أجد أن بيئة الفصول الافتراضية محفزة للتعلم)- (I find that the virtual classroom is a motivating environment for learning)  \\\n",
       "0                          Strongly Agree-أوافق بشدة                                                                              \n",
       "1                          Strongly Agree-أوافق بشدة                                                                              \n",
       "2                          Strongly Agree-أوافق بشدة                                                                              \n",
       "3                                        Agree-أوافق                                                                              \n",
       "4                                        Agree-أوافق                                                                              \n",
       "5                     True Sometimes-أوافق إلى حد ما                                                                              \n",
       "6                          Strongly Agree-أوافق بشدة                                                                              \n",
       "7                                  Disagree-لا أوافق                                                                              \n",
       "8                                  Disagree-لا أوافق                                                                              \n",
       "9                          Strongly Agree-أوافق بشدة                                                                              \n",
       "\n",
       "  30-(توفر أدلة للتدريب والمساعدة على استخدام التقنيات في الفصول الافتراضية)- (training and assistance guides and manuals on how .to use the tools are available in the virtual classroom)  \\\n",
       "0                          Strongly Agree-أوافق بشدة                                                                                                                                         \n",
       "1                          Strongly Agree-أوافق بشدة                                                                                                                                         \n",
       "2                          Strongly Agree-أوافق بشدة                                                                                                                                         \n",
       "3                                        Agree-أوافق                                                                                                                                         \n",
       "4                                        Agree-أوافق                                                                                                                                         \n",
       "5                                        Agree-أوافق                                                                                                                                         \n",
       "6                          Strongly Agree-أوافق بشدة                                                                                                                                         \n",
       "7        do not apply-لا ينطبق/ لا أستطيع الحكم عليه                                                                                                                                         \n",
       "8                                        Agree-أوافق                                                                                                                                         \n",
       "9                          Strongly Agree-أوافق بشدة                                                                                                                                         \n",
       "\n",
       "  31-(تتوفر المحاضرات مسجلة بشكل واضح)- (Recordings of the Lectures are available on the platform)  \\\n",
       "0                          Strongly Agree-أوافق بشدة                                                 \n",
       "1                          Strongly Agree-أوافق بشدة                                                 \n",
       "2                          Strongly Agree-أوافق بشدة                                                 \n",
       "3                                        Agree-أوافق                                                 \n",
       "4                                        Agree-أوافق                                                 \n",
       "5                                        Agree-أوافق                                                 \n",
       "6                          Strongly Agree-أوافق بشدة                                                 \n",
       "7                                  Disagree-لا أوافق                                                 \n",
       "8                                        Agree-أوافق                                                 \n",
       "9                          Strongly Agree-أوافق بشدة                                                 \n",
       "\n",
       "  32-(تتناسب طرق التقييم مع بيئة الفصول الافتراضية)- (Assessment methods adapted are appropriate for the virtual classroom environment)  \\\n",
       "0                          Strongly Agree-أوافق بشدة                                                                                      \n",
       "1                          Strongly Agree-أوافق بشدة                                                                                      \n",
       "2                          Strongly Agree-أوافق بشدة                                                                                      \n",
       "3                                        Agree-أوافق                                                                                      \n",
       "4                                        Agree-أوافق                                                                                      \n",
       "5                                        Agree-أوافق                                                                                      \n",
       "6                          Strongly Agree-أوافق بشدة                                                                                      \n",
       "7        do not apply-لا ينطبق/ لا أستطيع الحكم عليه                                                                                      \n",
       "8                                        Agree-أوافق                                                                                      \n",
       "9                          Strongly Agree-أوافق بشدة                                                                                      \n",
       "\n",
       "  33-(بشكل عام أنا راض عن خدمات التعلم الإلكتروني والتعليم عن بعد)- (In general, I am satisfied with e-learning and distance education services)  \\\n",
       "0                          Strongly Agree-أوافق بشدة                                                                                               \n",
       "1                          Strongly Agree-أوافق بشدة                                                                                               \n",
       "2                          Strongly Agree-أوافق بشدة                                                                                               \n",
       "3                                        Agree-أوافق                                                                                               \n",
       "4                                        Agree-أوافق                                                                                               \n",
       "5                                        Agree-أوافق                                                                                               \n",
       "6                          Strongly Agree-أوافق بشدة                                                                                               \n",
       "7                     True Sometimes-أوافق إلى حد ما                                                                                               \n",
       "8                     True Sometimes-أوافق إلى حد ما                                                                                               \n",
       "9                          Strongly Agree-أوافق بشدة                                                                                               \n",
       "\n",
       "  add_suggestions                       like  \\\n",
       "0          لايوجد            المقرر بشكل عام   \n",
       "1          لايوجد            المقرر بشكل عام   \n",
       "2          لايوجد                طريقة الشرح   \n",
       "3               -                          -   \n",
       "4               -                          -   \n",
       "5               -                          -   \n",
       "6              لا  عضو التدريس ومحتوى المقرر   \n",
       "7  تغيير الدكتوره                          .   \n",
       "8              Na                         Na   \n",
       "9               .                          .   \n",
       "\n",
       "                              dislike improve_course  \n",
       "0                              لايوجد         لايوجد  \n",
       "1                              لايوجد         لايوجد  \n",
       "2                              لايوجد         لايوجد  \n",
       "3                                   -              -  \n",
       "4                                   -              -  \n",
       "5                                   -              -  \n",
       "6                              لايوجد         لايوجد  \n",
       "7  عدم تعاون الدكتوره ودرجتي النهائية             لا  \n",
       "8                                  Na             Na  \n",
       "9                                   .              .  \n",
       "\n",
       "[10 rows x 37 columns]"
      ]
     },
     "execution_count": 5,
     "metadata": {},
     "output_type": "execute_result"
    }
   ],
   "source": [
    "df = read_dataframe(data_path)\n",
    "\n",
    "df.head(10)"
   ]
  },
  {
   "cell_type": "code",
   "execution_count": 6,
   "metadata": {
    "tags": []
   },
   "outputs": [
    {
     "data": {
      "text/html": [
       "<div>\n",
       "<style scoped>\n",
       "    .dataframe tbody tr th:only-of-type {\n",
       "        vertical-align: middle;\n",
       "    }\n",
       "\n",
       "    .dataframe tbody tr th {\n",
       "        vertical-align: top;\n",
       "    }\n",
       "\n",
       "    .dataframe thead th {\n",
       "        text-align: right;\n",
       "    }\n",
       "</style>\n",
       "<table border=\"1\" class=\"dataframe\">\n",
       "  <thead>\n",
       "    <tr style=\"text-align: right;\">\n",
       "      <th></th>\n",
       "      <th>like</th>\n",
       "      <th>dislike</th>\n",
       "      <th>add_suggestions</th>\n",
       "      <th>improve_course</th>\n",
       "    </tr>\n",
       "  </thead>\n",
       "  <tbody>\n",
       "    <tr>\n",
       "      <th>3074</th>\n",
       "      <td>لايوجد</td>\n",
       "      <td>لايوجد</td>\n",
       "      <td>لايوجد</td>\n",
       "      <td>اضافة بعض الجزء العملي من المقرر</td>\n",
       "    </tr>\n",
       "    <tr>\n",
       "      <th>3075</th>\n",
       "      <td>All</td>\n",
       "      <td>Nothing</td>\n",
       "      <td>Excellent</td>\n",
       "      <td>No</td>\n",
       "    </tr>\n",
       "    <tr>\n",
       "      <th>3076</th>\n",
       "      <td>Every thing</td>\n",
       "      <td>Nothing</td>\n",
       "      <td>Its very nice and important course👍🏻</td>\n",
       "      <td>No</td>\n",
       "    </tr>\n",
       "    <tr>\n",
       "      <th>3077</th>\n",
       "      <td>المحتوى</td>\n",
       "      <td>بايوجد</td>\n",
       "      <td>لايوجد</td>\n",
       "      <td>لا</td>\n",
       "    </tr>\n",
       "    <tr>\n",
       "      <th>3078</th>\n",
       "      <td>The values</td>\n",
       "      <td>Nothing</td>\n",
       "      <td>Practical session</td>\n",
       "      <td>No</td>\n",
       "    </tr>\n",
       "  </tbody>\n",
       "</table>\n",
       "</div>"
      ],
      "text/plain": [
       "             like  dislike                       add_suggestions  \\\n",
       "3074       لايوجد   لايوجد                                لايوجد   \n",
       "3075          All  Nothing                             Excellent   \n",
       "3076  Every thing  Nothing  Its very nice and important course👍🏻   \n",
       "3077      المحتوى   بايوجد                                لايوجد   \n",
       "3078   The values  Nothing                     Practical session   \n",
       "\n",
       "                        improve_course  \n",
       "3074  اضافة بعض الجزء العملي من المقرر  \n",
       "3075                                No  \n",
       "3076                                No  \n",
       "3077                                لا  \n",
       "3078                                No  "
      ]
     },
     "execution_count": 6,
     "metadata": {},
     "output_type": "execute_result"
    }
   ],
   "source": [
    "# select the 4 columns\n",
    "column_names = ['like', 'dislike', 'add_suggestions', 'improve_course']\n",
    "data = df[column_names]\n",
    "data.tail()"
   ]
  },
  {
   "cell_type": "code",
   "execution_count": 7,
   "metadata": {
    "tags": []
   },
   "outputs": [
    {
     "name": "stdout",
     "output_type": "stream",
     "text": [
      "<class 'pandas.core.frame.DataFrame'>\n",
      "RangeIndex: 3079 entries, 0 to 3078\n",
      "Data columns (total 4 columns):\n",
      " #   Column           Non-Null Count  Dtype \n",
      "---  ------           --------------  ----- \n",
      " 0   like             3052 non-null   object\n",
      " 1   dislike          3044 non-null   object\n",
      " 2   add_suggestions  3040 non-null   object\n",
      " 3   improve_course   3044 non-null   object\n",
      "dtypes: object(4)\n",
      "memory usage: 96.3+ KB\n"
     ]
    }
   ],
   "source": [
    "data.info()"
   ]
  },
  {
   "cell_type": "code",
   "execution_count": 8,
   "metadata": {
    "tags": []
   },
   "outputs": [
    {
     "data": {
      "text/html": [
       "<pre style=\"white-space:pre;overflow-x:auto;line-height:normal;font-family:Menlo,'DejaVu Sans Mono',consolas,'Courier New',monospace\">like               <span style=\"color: #008080; text-decoration-color: #008080; font-weight: bold\">27</span>\n",
       "dislike            <span style=\"color: #008080; text-decoration-color: #008080; font-weight: bold\">35</span>\n",
       "add_suggestions    <span style=\"color: #008080; text-decoration-color: #008080; font-weight: bold\">39</span>\n",
       "improve_course     <span style=\"color: #008080; text-decoration-color: #008080; font-weight: bold\">35</span>\n",
       "dtype: int64\n",
       "</pre>\n"
      ],
      "text/plain": [
       "like               \u001b[1;36m27\u001b[0m\n",
       "dislike            \u001b[1;36m35\u001b[0m\n",
       "add_suggestions    \u001b[1;36m39\u001b[0m\n",
       "improve_course     \u001b[1;36m35\u001b[0m\n",
       "dtype: int64\n"
      ]
     },
     "metadata": {},
     "output_type": "display_data"
    },
    {
     "data": {
      "image/png": "[encoded data removed]",
      "text/plain": [
       "<Figure size 640x480 with 1 Axes>"
      ]
     },
     "metadata": {},
     "output_type": "display_data"
    }
   ],
   "source": [
    "def plot_nan_values(data, title=None):\n",
    "    print(data.isna().sum())\n",
    "    data.isna().sum().plot(kind='bar')\n",
    "    \n",
    "    if title:\n",
    "        plt.title(title)\n",
    "    else:\n",
    "        plt.title('Number of NaN values')\n",
    "    plt.show()\n",
    "\n",
    "plot_nan_values(data)"
   ]
  },
  {
   "cell_type": "markdown",
   "metadata": {},
   "source": [
    "# Process text"
   ]
  },
  {
   "cell_type": "code",
   "execution_count": 9,
   "metadata": {
    "tags": []
   },
   "outputs": [],
   "source": [
    "def apply_fn(data, fn, columns, **kwargs):\n",
    "    \"\"\"Apply a function to multiple columns.\n",
    "\n",
    "    Args:\n",
    "        data (pd.DataFrame): pandas dataframe\n",
    "        fn (function): python function\n",
    "        columns (list): list of column names\n",
    "\n",
    "    Returns:\n",
    "        pd.DataFrame: pandas data frame after applying the function.\n",
    "    \"\"\"\n",
    "    data_c = data.copy()\n",
    "    for col in columns:\n",
    "        data_c[col] = data_c[col].apply(fn, **kwargs)\n",
    "    return data_c"
   ]
  },
  {
   "cell_type": "code",
   "execution_count": 10,
   "metadata": {
    "tags": []
   },
   "outputs": [
    {
     "name": "stderr",
     "output_type": "stream",
     "text": [
      "[2024-08-11 02:26:19,460 - farasapy_logger - WARNING]: Be careful with large lines as they may break on interactive mode. You may switch to Standalone mode for such cases.\n"
     ]
    }
   ],
   "source": [
    "arabert_prep = ArabertPreprocessor(model_name=\"aubmindlab/bert-base-arabertv2\")"
   ]
  },
  {
   "cell_type": "code",
   "execution_count": 11,
   "metadata": {
    "tags": []
   },
   "outputs": [],
   "source": [
    "def process_text(text):\n",
    "    if text is not np.nan:\n",
    "        text = str(text)\n",
    "        text = text.lower()\n",
    "        clean_text = text.replace(\"لايوجد\", \"لا يوجد\")\n",
    "\n",
    "        # do some general preprocessing using arabert\n",
    "        clean_text = arabert_prep.preprocess(clean_text)\n",
    "        clean_text = arabert_prep.unpreprocess(clean_text)\n",
    "\n",
    "        # replace line breakers with space\n",
    "        clean_text = clean_text.replace(\"\\n\", \" \")\n",
    "        # حذف الزخرفات المختلفة\n",
    "        clean_text = strip_diacritics(clean_text)\n",
    "        # توحيد الهمزة\n",
    "        # clean_text = normalize_hamza(clean_text, method=\"tasheel\")\n",
    "        # remove extra inner spaces\n",
    "        clean_text = re.sub(r\"\\s+\", \" \", clean_text)\n",
    "        # remove trailing white spaces\n",
    "        clean_text = clean_text.strip()\n",
    "\n",
    "        return clean_text\n",
    "    \n",
    "    else: \n",
    "        return np.nan"
   ]
  },
  {
   "cell_type": "code",
   "execution_count": 12,
   "metadata": {
    "tags": []
   },
   "outputs": [],
   "source": [
    "data = apply_fn(data, process_text, data.columns)"
   ]
  },
  {
   "cell_type": "code",
   "execution_count": 13,
   "metadata": {
    "tags": []
   },
   "outputs": [
    {
     "data": {
      "text/html": [
       "<div>\n",
       "<style scoped>\n",
       "    .dataframe tbody tr th:only-of-type {\n",
       "        vertical-align: middle;\n",
       "    }\n",
       "\n",
       "    .dataframe tbody tr th {\n",
       "        vertical-align: top;\n",
       "    }\n",
       "\n",
       "    .dataframe thead th {\n",
       "        text-align: right;\n",
       "    }\n",
       "</style>\n",
       "<table border=\"1\" class=\"dataframe\">\n",
       "  <thead>\n",
       "    <tr style=\"text-align: right;\">\n",
       "      <th></th>\n",
       "      <th>like</th>\n",
       "      <th>dislike</th>\n",
       "      <th>add_suggestions</th>\n",
       "      <th>improve_course</th>\n",
       "    </tr>\n",
       "  </thead>\n",
       "  <tbody>\n",
       "    <tr>\n",
       "      <th>0</th>\n",
       "      <td>المقرر بشكل عام</td>\n",
       "      <td>لا يوجد</td>\n",
       "      <td>لا يوجد</td>\n",
       "      <td>لا يوجد</td>\n",
       "    </tr>\n",
       "    <tr>\n",
       "      <th>1</th>\n",
       "      <td>المقرر بشكل عام</td>\n",
       "      <td>لا يوجد</td>\n",
       "      <td>لا يوجد</td>\n",
       "      <td>لا يوجد</td>\n",
       "    </tr>\n",
       "    <tr>\n",
       "      <th>2</th>\n",
       "      <td>طريقة الشرح</td>\n",
       "      <td>لا يوجد</td>\n",
       "      <td>لا يوجد</td>\n",
       "      <td>لا يوجد</td>\n",
       "    </tr>\n",
       "    <tr>\n",
       "      <th>3</th>\n",
       "      <td>-</td>\n",
       "      <td>-</td>\n",
       "      <td>-</td>\n",
       "      <td>-</td>\n",
       "    </tr>\n",
       "    <tr>\n",
       "      <th>4</th>\n",
       "      <td>-</td>\n",
       "      <td>-</td>\n",
       "      <td>-</td>\n",
       "      <td>-</td>\n",
       "    </tr>\n",
       "  </tbody>\n",
       "</table>\n",
       "</div>"
      ],
      "text/plain": [
       "              like  dislike add_suggestions improve_course\n",
       "0  المقرر بشكل عام  لا يوجد         لا يوجد        لا يوجد\n",
       "1  المقرر بشكل عام  لا يوجد         لا يوجد        لا يوجد\n",
       "2      طريقة الشرح  لا يوجد         لا يوجد        لا يوجد\n",
       "3                -        -               -              -\n",
       "4                -        -               -              -"
      ]
     },
     "execution_count": 13,
     "metadata": {},
     "output_type": "execute_result"
    }
   ],
   "source": [
    "data.head()"
   ]
  },
  {
   "cell_type": "markdown",
   "metadata": {},
   "source": [
    "# Find most frequent values"
   ]
  },
  {
   "cell_type": "code",
   "execution_count": 14,
   "metadata": {
    "tags": []
   },
   "outputs": [
    {
     "data": {
      "text/plain": [
       "لا يوجد    1345\n",
       ".           821\n",
       "-            97\n",
       "nothing      91\n",
       "no           63\n",
       "Name: add_suggestions, dtype: int64"
      ]
     },
     "execution_count": 14,
     "metadata": {},
     "output_type": "execute_result"
    }
   ],
   "source": [
    "data['add_suggestions'].value_counts().nlargest(5)"
   ]
  },
  {
   "cell_type": "code",
   "execution_count": 15,
   "metadata": {
    "tags": []
   },
   "outputs": [],
   "source": [
    "# calculate most frequent values in each column\n",
    "topk = 15\n",
    "\n",
    "most_frequent_values = {\n",
    "    col_name: data[col_name].value_counts().nlargest(topk) for col_name in data.columns\n",
    "}"
   ]
  },
  {
   "cell_type": "code",
   "execution_count": 16,
   "metadata": {
    "tags": []
   },
   "outputs": [
    {
     "data": {
      "text/html": [
       "<pre style=\"white-space:pre;overflow-x:auto;line-height:normal;font-family:Menlo,'DejaVu Sans Mono',consolas,'Courier New',monospace\">========================================\n",
       "</pre>\n"
      ],
      "text/plain": [
       "========================================\n"
      ]
     },
     "metadata": {},
     "output_type": "display_data"
    },
    {
     "data": {
      "text/html": [
       "<pre style=\"white-space:pre;overflow-x:auto;line-height:normal;font-family:Menlo,'DejaVu Sans Mono',consolas,'Courier New',monospace\">Most frequent values in <span style=\"font-weight: bold\">(</span>like<span style=\"font-weight: bold\">)</span>\n",
       "</pre>\n"
      ],
      "text/plain": [
       "Most frequent values in \u001b[1m(\u001b[0mlike\u001b[1m)\u001b[0m\n"
      ]
     },
     "metadata": {},
     "output_type": "display_data"
    },
    {
     "data": {
      "text/html": [
       "<pre style=\"white-space:pre;overflow-x:auto;line-height:normal;font-family:Menlo,'DejaVu Sans Mono',consolas,'Courier New',monospace\">========================================\n",
       "</pre>\n"
      ],
      "text/plain": [
       "========================================\n"
      ]
     },
     "metadata": {},
     "output_type": "display_data"
    },
    {
     "data": {
      "text/html": [
       "<pre style=\"white-space:pre;overflow-x:auto;line-height:normal;font-family:Menlo,'DejaVu Sans Mono',consolas,'Courier New',monospace\">لا يوجد         <span style=\"color: #008080; text-decoration-color: #008080; font-weight: bold\">922</span>\n",
       ".               <span style=\"color: #008080; text-decoration-color: #008080; font-weight: bold\">832</span>\n",
       "-                <span style=\"color: #008080; text-decoration-color: #008080; font-weight: bold\">81</span>\n",
       "everything       <span style=\"color: #008080; text-decoration-color: #008080; font-weight: bold\">51</span>\n",
       "..               <span style=\"color: #008080; text-decoration-color: #008080; font-weight: bold\">39</span>\n",
       "لا               <span style=\"color: #008080; text-decoration-color: #008080; font-weight: bold\">25</span>\n",
       "no               <span style=\"color: #008080; text-decoration-color: #008080; font-weight: bold\">23</span>\n",
       "none             <span style=\"color: #008080; text-decoration-color: #008080; font-weight: bold\">22</span>\n",
       "all              <span style=\"color: #008080; text-decoration-color: #008080; font-weight: bold\">17</span>\n",
       "كل شيء           <span style=\"color: #008080; text-decoration-color: #008080; font-weight: bold\">17</span>\n",
       "كل شي            <span style=\"color: #008080; text-decoration-color: #008080; font-weight: bold\">14</span>\n",
       "nothing          <span style=\"color: #008080; text-decoration-color: #008080; font-weight: bold\">14</span>\n",
       "لا شيء           <span style=\"color: #008080; text-decoration-color: #008080; font-weight: bold\">13</span>\n",
       "المادة رائعة     <span style=\"color: #008080; text-decoration-color: #008080; font-weight: bold\">13</span>\n",
       "كل شئ            <span style=\"color: #008080; text-decoration-color: #008080; font-weight: bold\">11</span>\n",
       "Name: like, dtype: int64\n",
       "</pre>\n"
      ],
      "text/plain": [
       "لا يوجد         \u001b[1;36m922\u001b[0m\n",
       ".               \u001b[1;36m832\u001b[0m\n",
       "-                \u001b[1;36m81\u001b[0m\n",
       "everything       \u001b[1;36m51\u001b[0m\n",
       "..               \u001b[1;36m39\u001b[0m\n",
       "لا               \u001b[1;36m25\u001b[0m\n",
       "no               \u001b[1;36m23\u001b[0m\n",
       "none             \u001b[1;36m22\u001b[0m\n",
       "all              \u001b[1;36m17\u001b[0m\n",
       "كل شيء           \u001b[1;36m17\u001b[0m\n",
       "كل شي            \u001b[1;36m14\u001b[0m\n",
       "nothing          \u001b[1;36m14\u001b[0m\n",
       "لا شيء           \u001b[1;36m13\u001b[0m\n",
       "المادة رائعة     \u001b[1;36m13\u001b[0m\n",
       "كل شئ            \u001b[1;36m11\u001b[0m\n",
       "Name: like, dtype: int64\n"
      ]
     },
     "metadata": {},
     "output_type": "display_data"
    },
    {
     "data": {
      "text/html": [
       "<pre style=\"white-space:pre;overflow-x:auto;line-height:normal;font-family:Menlo,'DejaVu Sans Mono',consolas,'Courier New',monospace\">========================================\n",
       "</pre>\n"
      ],
      "text/plain": [
       "========================================\n"
      ]
     },
     "metadata": {},
     "output_type": "display_data"
    },
    {
     "data": {
      "text/html": [
       "<pre style=\"white-space:pre;overflow-x:auto;line-height:normal;font-family:Menlo,'DejaVu Sans Mono',consolas,'Courier New',monospace\">Most frequent values in <span style=\"font-weight: bold\">(</span>dislike<span style=\"font-weight: bold\">)</span>\n",
       "</pre>\n"
      ],
      "text/plain": [
       "Most frequent values in \u001b[1m(\u001b[0mdislike\u001b[1m)\u001b[0m\n"
      ]
     },
     "metadata": {},
     "output_type": "display_data"
    },
    {
     "data": {
      "text/html": [
       "<pre style=\"white-space:pre;overflow-x:auto;line-height:normal;font-family:Menlo,'DejaVu Sans Mono',consolas,'Courier New',monospace\">========================================\n",
       "</pre>\n"
      ],
      "text/plain": [
       "========================================\n"
      ]
     },
     "metadata": {},
     "output_type": "display_data"
    },
    {
     "data": {
      "text/html": [
       "<pre style=\"white-space:pre;overflow-x:auto;line-height:normal;font-family:Menlo,'DejaVu Sans Mono',consolas,'Courier New',monospace\">لا يوجد          <span style=\"color: #008080; text-decoration-color: #008080; font-weight: bold\">1383</span>\n",
       ".                 <span style=\"color: #008080; text-decoration-color: #008080; font-weight: bold\">829</span>\n",
       "nothing           <span style=\"color: #008080; text-decoration-color: #008080; font-weight: bold\">120</span>\n",
       "-                  <span style=\"color: #008080; text-decoration-color: #008080; font-weight: bold\">97</span>\n",
       "..                 <span style=\"color: #008080; text-decoration-color: #008080; font-weight: bold\">39</span>\n",
       "لا                 <span style=\"color: #008080; text-decoration-color: #008080; font-weight: bold\">36</span>\n",
       "no                 <span style=\"color: #008080; text-decoration-color: #008080; font-weight: bold\">32</span>\n",
       "none               <span style=\"color: #008080; text-decoration-color: #008080; font-weight: bold\">29</span>\n",
       "لا شيء             <span style=\"color: #008080; text-decoration-color: #008080; font-weight: bold\">27</span>\n",
       "لاشيء              <span style=\"color: #008080; text-decoration-color: #008080; font-weight: bold\">20</span>\n",
       "لا شي              <span style=\"color: #008080; text-decoration-color: #008080; font-weight: bold\">18</span>\n",
       "non                <span style=\"color: #008080; text-decoration-color: #008080; font-weight: bold\">14</span>\n",
       "لاشي               <span style=\"color: #008080; text-decoration-color: #008080; font-weight: bold\">13</span>\n",
       "- -                 <span style=\"color: #008080; text-decoration-color: #008080; font-weight: bold\">9</span>\n",
       "المدة الزمنية       <span style=\"color: #008080; text-decoration-color: #008080; font-weight: bold\">9</span>\n",
       "Name: dislike, dtype: int64\n",
       "</pre>\n"
      ],
      "text/plain": [
       "لا يوجد          \u001b[1;36m1383\u001b[0m\n",
       ".                 \u001b[1;36m829\u001b[0m\n",
       "nothing           \u001b[1;36m120\u001b[0m\n",
       "-                  \u001b[1;36m97\u001b[0m\n",
       "..                 \u001b[1;36m39\u001b[0m\n",
       "لا                 \u001b[1;36m36\u001b[0m\n",
       "no                 \u001b[1;36m32\u001b[0m\n",
       "none               \u001b[1;36m29\u001b[0m\n",
       "لا شيء             \u001b[1;36m27\u001b[0m\n",
       "لاشيء              \u001b[1;36m20\u001b[0m\n",
       "لا شي              \u001b[1;36m18\u001b[0m\n",
       "non                \u001b[1;36m14\u001b[0m\n",
       "لاشي               \u001b[1;36m13\u001b[0m\n",
       "- -                 \u001b[1;36m9\u001b[0m\n",
       "المدة الزمنية       \u001b[1;36m9\u001b[0m\n",
       "Name: dislike, dtype: int64\n"
      ]
     },
     "metadata": {},
     "output_type": "display_data"
    },
    {
     "data": {
      "text/html": [
       "<pre style=\"white-space:pre;overflow-x:auto;line-height:normal;font-family:Menlo,'DejaVu Sans Mono',consolas,'Courier New',monospace\">========================================\n",
       "</pre>\n"
      ],
      "text/plain": [
       "========================================\n"
      ]
     },
     "metadata": {},
     "output_type": "display_data"
    },
    {
     "data": {
      "text/html": [
       "<pre style=\"white-space:pre;overflow-x:auto;line-height:normal;font-family:Menlo,'DejaVu Sans Mono',consolas,'Courier New',monospace\">Most frequent values in <span style=\"font-weight: bold\">(</span>add_suggestions<span style=\"font-weight: bold\">)</span>\n",
       "</pre>\n"
      ],
      "text/plain": [
       "Most frequent values in \u001b[1m(\u001b[0madd_suggestions\u001b[1m)\u001b[0m\n"
      ]
     },
     "metadata": {},
     "output_type": "display_data"
    },
    {
     "data": {
      "text/html": [
       "<pre style=\"white-space:pre;overflow-x:auto;line-height:normal;font-family:Menlo,'DejaVu Sans Mono',consolas,'Courier New',monospace\">========================================\n",
       "</pre>\n"
      ],
      "text/plain": [
       "========================================\n"
      ]
     },
     "metadata": {},
     "output_type": "display_data"
    },
    {
     "data": {
      "text/html": [
       "<pre style=\"white-space:pre;overflow-x:auto;line-height:normal;font-family:Menlo,'DejaVu Sans Mono',consolas,'Courier New',monospace\">لا يوجد         <span style=\"color: #008080; text-decoration-color: #008080; font-weight: bold\">1345</span>\n",
       ".                <span style=\"color: #008080; text-decoration-color: #008080; font-weight: bold\">821</span>\n",
       "-                 <span style=\"color: #008080; text-decoration-color: #008080; font-weight: bold\">97</span>\n",
       "nothing           <span style=\"color: #008080; text-decoration-color: #008080; font-weight: bold\">91</span>\n",
       "no                <span style=\"color: #008080; text-decoration-color: #008080; font-weight: bold\">63</span>\n",
       "لا                <span style=\"color: #008080; text-decoration-color: #008080; font-weight: bold\">49</span>\n",
       "..                <span style=\"color: #008080; text-decoration-color: #008080; font-weight: bold\">36</span>\n",
       "none              <span style=\"color: #008080; text-decoration-color: #008080; font-weight: bold\">34</span>\n",
       "لا شيء            <span style=\"color: #008080; text-decoration-color: #008080; font-weight: bold\">24</span>\n",
       "non               <span style=\"color: #008080; text-decoration-color: #008080; font-weight: bold\">17</span>\n",
       "المادة رائعة      <span style=\"color: #008080; text-decoration-color: #008080; font-weight: bold\">13</span>\n",
       "لاشيء             <span style=\"color: #008080; text-decoration-color: #008080; font-weight: bold\">12</span>\n",
       "لاتوجد            <span style=\"color: #008080; text-decoration-color: #008080; font-weight: bold\">11</span>\n",
       "شكرا              <span style=\"color: #008080; text-decoration-color: #008080; font-weight: bold\">11</span>\n",
       "لاشي              <span style=\"color: #008080; text-decoration-color: #008080; font-weight: bold\">11</span>\n",
       "Name: add_suggestions, dtype: int64\n",
       "</pre>\n"
      ],
      "text/plain": [
       "لا يوجد         \u001b[1;36m1345\u001b[0m\n",
       ".                \u001b[1;36m821\u001b[0m\n",
       "-                 \u001b[1;36m97\u001b[0m\n",
       "nothing           \u001b[1;36m91\u001b[0m\n",
       "no                \u001b[1;36m63\u001b[0m\n",
       "لا                \u001b[1;36m49\u001b[0m\n",
       "..                \u001b[1;36m36\u001b[0m\n",
       "none              \u001b[1;36m34\u001b[0m\n",
       "لا شيء            \u001b[1;36m24\u001b[0m\n",
       "non               \u001b[1;36m17\u001b[0m\n",
       "المادة رائعة      \u001b[1;36m13\u001b[0m\n",
       "لاشيء             \u001b[1;36m12\u001b[0m\n",
       "لاتوجد            \u001b[1;36m11\u001b[0m\n",
       "شكرا              \u001b[1;36m11\u001b[0m\n",
       "لاشي              \u001b[1;36m11\u001b[0m\n",
       "Name: add_suggestions, dtype: int64\n"
      ]
     },
     "metadata": {},
     "output_type": "display_data"
    },
    {
     "data": {
      "text/html": [
       "<pre style=\"white-space:pre;overflow-x:auto;line-height:normal;font-family:Menlo,'DejaVu Sans Mono',consolas,'Courier New',monospace\">========================================\n",
       "</pre>\n"
      ],
      "text/plain": [
       "========================================\n"
      ]
     },
     "metadata": {},
     "output_type": "display_data"
    },
    {
     "data": {
      "text/html": [
       "<pre style=\"white-space:pre;overflow-x:auto;line-height:normal;font-family:Menlo,'DejaVu Sans Mono',consolas,'Courier New',monospace\">Most frequent values in <span style=\"font-weight: bold\">(</span>improve_course<span style=\"font-weight: bold\">)</span>\n",
       "</pre>\n"
      ],
      "text/plain": [
       "Most frequent values in \u001b[1m(\u001b[0mimprove_course\u001b[1m)\u001b[0m\n"
      ]
     },
     "metadata": {},
     "output_type": "display_data"
    },
    {
     "data": {
      "text/html": [
       "<pre style=\"white-space:pre;overflow-x:auto;line-height:normal;font-family:Menlo,'DejaVu Sans Mono',consolas,'Courier New',monospace\">========================================\n",
       "</pre>\n"
      ],
      "text/plain": [
       "========================================\n"
      ]
     },
     "metadata": {},
     "output_type": "display_data"
    },
    {
     "data": {
      "text/html": [
       "<pre style=\"white-space:pre;overflow-x:auto;line-height:normal;font-family:Menlo,'DejaVu Sans Mono',consolas,'Courier New',monospace\">لا يوجد    <span style=\"color: #008080; text-decoration-color: #008080; font-weight: bold\">1313</span>\n",
       ".           <span style=\"color: #008080; text-decoration-color: #008080; font-weight: bold\">822</span>\n",
       "لا          <span style=\"color: #008080; text-decoration-color: #008080; font-weight: bold\">130</span>\n",
       "no          <span style=\"color: #008080; text-decoration-color: #008080; font-weight: bold\">130</span>\n",
       "-            <span style=\"color: #008080; text-decoration-color: #008080; font-weight: bold\">98</span>\n",
       "..           <span style=\"color: #008080; text-decoration-color: #008080; font-weight: bold\">42</span>\n",
       "nothing      <span style=\"color: #008080; text-decoration-color: #008080; font-weight: bold\">38</span>\n",
       "none         <span style=\"color: #008080; text-decoration-color: #008080; font-weight: bold\">22</span>\n",
       "non          <span style=\"color: #008080; text-decoration-color: #008080; font-weight: bold\">17</span>\n",
       "لا شي        <span style=\"color: #008080; text-decoration-color: #008080; font-weight: bold\">13</span>\n",
       "شكرا         <span style=\"color: #008080; text-decoration-color: #008080; font-weight: bold\">11</span>\n",
       "- -          <span style=\"color: #008080; text-decoration-color: #008080; font-weight: bold\">11</span>\n",
       "لاشيء         <span style=\"color: #008080; text-decoration-color: #008080; font-weight: bold\">8</span>\n",
       "<span style=\"color: #008080; text-decoration-color: #008080; font-weight: bold\">0</span>             <span style=\"color: #008080; text-decoration-color: #008080; font-weight: bold\">7</span>\n",
       "لاشي          <span style=\"color: #008080; text-decoration-color: #008080; font-weight: bold\">7</span>\n",
       "Name: improve_course, dtype: int64\n",
       "</pre>\n"
      ],
      "text/plain": [
       "لا يوجد    \u001b[1;36m1313\u001b[0m\n",
       ".           \u001b[1;36m822\u001b[0m\n",
       "لا          \u001b[1;36m130\u001b[0m\n",
       "no          \u001b[1;36m130\u001b[0m\n",
       "-            \u001b[1;36m98\u001b[0m\n",
       "..           \u001b[1;36m42\u001b[0m\n",
       "nothing      \u001b[1;36m38\u001b[0m\n",
       "none         \u001b[1;36m22\u001b[0m\n",
       "non          \u001b[1;36m17\u001b[0m\n",
       "لا شي        \u001b[1;36m13\u001b[0m\n",
       "شكرا         \u001b[1;36m11\u001b[0m\n",
       "- -          \u001b[1;36m11\u001b[0m\n",
       "لاشيء         \u001b[1;36m8\u001b[0m\n",
       "\u001b[1;36m0\u001b[0m             \u001b[1;36m7\u001b[0m\n",
       "لاشي          \u001b[1;36m7\u001b[0m\n",
       "Name: improve_course, dtype: int64\n"
      ]
     },
     "metadata": {},
     "output_type": "display_data"
    }
   ],
   "source": [
    "for k, v in most_frequent_values.items():\n",
    "    print('=='*20)\n",
    "    print(f'Most frequent values in ({k})')\n",
    "    print('=='*20)\n",
    "    print(v)"
   ]
  },
  {
   "cell_type": "code",
   "execution_count": 17,
   "metadata": {
    "tags": []
   },
   "outputs": [
    {
     "data": {
      "image/png": "[encoded data removed]",
      "text/plain": [
       "<Figure size 1000x600 with 4 Axes>"
      ]
     },
     "metadata": {},
     "output_type": "display_data"
    }
   ],
   "source": [
    "# plot most frequent values\n",
    "plt.figure(figsize=(10, 6))\n",
    "plt.subplots_adjust(hspace=1)\n",
    "color_list = ['blue', 'green', 'red', 'purple']\n",
    "\n",
    "for i, (col_name, freq_values) in enumerate(most_frequent_values.items()):\n",
    "    plt.subplot(2, 2, i+1)\n",
    "    freq_values.plot(kind='bar', color=color_list[i])\n",
    "    plt.title(f'Most frequent ({col_name})')\n",
    "    plt.xlabel(col_name)\n",
    "    plt.ylabel('Frequency')\n",
    "    # plt.xticks(rotation=45)\n"
   ]
  },
  {
   "cell_type": "markdown",
   "metadata": {},
   "source": [
    "# Remove the most frequent values"
   ]
  },
  {
   "cell_type": "code",
   "execution_count": 18,
   "metadata": {
    "tags": []
   },
   "outputs": [],
   "source": [
    "for col_name, freq_values in most_frequent_values.items():\n",
    "    data[col_name] = data[col_name].replace(freq_values.index.to_list(), np.nan)"
   ]
  },
  {
   "cell_type": "code",
   "execution_count": 19,
   "metadata": {
    "tags": []
   },
   "outputs": [
    {
     "data": {
      "text/html": [
       "<div>\n",
       "<style scoped>\n",
       "    .dataframe tbody tr th:only-of-type {\n",
       "        vertical-align: middle;\n",
       "    }\n",
       "\n",
       "    .dataframe tbody tr th {\n",
       "        vertical-align: top;\n",
       "    }\n",
       "\n",
       "    .dataframe thead th {\n",
       "        text-align: right;\n",
       "    }\n",
       "</style>\n",
       "<table border=\"1\" class=\"dataframe\">\n",
       "  <thead>\n",
       "    <tr style=\"text-align: right;\">\n",
       "      <th></th>\n",
       "      <th>like</th>\n",
       "      <th>dislike</th>\n",
       "      <th>add_suggestions</th>\n",
       "      <th>improve_course</th>\n",
       "    </tr>\n",
       "  </thead>\n",
       "  <tbody>\n",
       "    <tr>\n",
       "      <th>2987</th>\n",
       "      <td>الماده جميله</td>\n",
       "      <td>الدكتوره كانت سيئه التعامل جدا</td>\n",
       "      <td>دكتوره الماده سببتلي عقده وليست عادله</td>\n",
       "      <td>اقترح إعطاء دورات للدكاتره في حال لم تستطع إيص...</td>\n",
       "    </tr>\n",
       "    <tr>\n",
       "      <th>2326</th>\n",
       "      <td>بحكم عملي أستفدت من هذا المنهج العديد والعديد ...</td>\n",
       "      <td>NaN</td>\n",
       "      <td>لا يوجد وتم تغطية البرنامج بشكل رائع</td>\n",
       "      <td>NaN</td>\n",
       "    </tr>\n",
       "    <tr>\n",
       "      <th>2085</th>\n",
       "      <td>NaN</td>\n",
       "      <td>NaN</td>\n",
       "      <td>NaN</td>\n",
       "      <td>NaN</td>\n",
       "    </tr>\n",
       "    <tr>\n",
       "      <th>1110</th>\n",
       "      <td>NaN</td>\n",
       "      <td>NaN</td>\n",
       "      <td>NaN</td>\n",
       "      <td>NaN</td>\n",
       "    </tr>\n",
       "    <tr>\n",
       "      <th>446</th>\n",
       "      <td>NaN</td>\n",
       "      <td>NaN</td>\n",
       "      <td>NaN</td>\n",
       "      <td>NaN</td>\n",
       "    </tr>\n",
       "    <tr>\n",
       "      <th>2944</th>\n",
       "      <td>NaN</td>\n",
       "      <td>NaN</td>\n",
       "      <td>NaN</td>\n",
       "      <td>NaN</td>\n",
       "    </tr>\n",
       "    <tr>\n",
       "      <th>2554</th>\n",
       "      <td>لم يكن هناك واجب جماعي بذلك يجبر الطالب على ال...</td>\n",
       "      <td>تحديث الواجبات</td>\n",
       "      <td>تحديث الواجبات</td>\n",
       "      <td>NaN</td>\n",
       "    </tr>\n",
       "    <tr>\n",
       "      <th>578</th>\n",
       "      <td>NaN</td>\n",
       "      <td>NaN</td>\n",
       "      <td>NaN</td>\n",
       "      <td>NaN</td>\n",
       "    </tr>\n",
       "    <tr>\n",
       "      <th>174</th>\n",
       "      <td>assignment for course</td>\n",
       "      <td>no thing</td>\n",
       "      <td>no thing</td>\n",
       "      <td>no thing</td>\n",
       "    </tr>\n",
       "    <tr>\n",
       "      <th>339</th>\n",
       "      <td>NaN</td>\n",
       "      <td>NaN</td>\n",
       "      <td>NaN</td>\n",
       "      <td>NaN</td>\n",
       "    </tr>\n",
       "  </tbody>\n",
       "</table>\n",
       "</div>"
      ],
      "text/plain": [
       "                                                   like  \\\n",
       "2987                                       الماده جميله   \n",
       "2326  بحكم عملي أستفدت من هذا المنهج العديد والعديد ...   \n",
       "2085                                                NaN   \n",
       "1110                                                NaN   \n",
       "446                                                 NaN   \n",
       "2944                                                NaN   \n",
       "2554  لم يكن هناك واجب جماعي بذلك يجبر الطالب على ال...   \n",
       "578                                                 NaN   \n",
       "174                               assignment for course   \n",
       "339                                                 NaN   \n",
       "\n",
       "                             dislike                        add_suggestions  \\\n",
       "2987  الدكتوره كانت سيئه التعامل جدا  دكتوره الماده سببتلي عقده وليست عادله   \n",
       "2326                             NaN   لا يوجد وتم تغطية البرنامج بشكل رائع   \n",
       "2085                             NaN                                    NaN   \n",
       "1110                             NaN                                    NaN   \n",
       "446                              NaN                                    NaN   \n",
       "2944                             NaN                                    NaN   \n",
       "2554                  تحديث الواجبات                         تحديث الواجبات   \n",
       "578                              NaN                                    NaN   \n",
       "174                         no thing                               no thing   \n",
       "339                              NaN                                    NaN   \n",
       "\n",
       "                                         improve_course  \n",
       "2987  اقترح إعطاء دورات للدكاتره في حال لم تستطع إيص...  \n",
       "2326                                                NaN  \n",
       "2085                                                NaN  \n",
       "1110                                                NaN  \n",
       "446                                                 NaN  \n",
       "2944                                                NaN  \n",
       "2554                                                NaN  \n",
       "578                                                 NaN  \n",
       "174                                            no thing  \n",
       "339                                                 NaN  "
      ]
     },
     "execution_count": 19,
     "metadata": {},
     "output_type": "execute_result"
    }
   ],
   "source": [
    "data.sample(10)"
   ]
  },
  {
   "cell_type": "code",
   "execution_count": 20,
   "metadata": {
    "tags": []
   },
   "outputs": [
    {
     "data": {
      "text/html": [
       "<pre style=\"white-space:pre;overflow-x:auto;line-height:normal;font-family:Menlo,'DejaVu Sans Mono',consolas,'Courier New',monospace\">like               <span style=\"color: #008080; text-decoration-color: #008080; font-weight: bold\">2121</span>\n",
       "dislike            <span style=\"color: #008080; text-decoration-color: #008080; font-weight: bold\">2710</span>\n",
       "add_suggestions    <span style=\"color: #008080; text-decoration-color: #008080; font-weight: bold\">2674</span>\n",
       "improve_course     <span style=\"color: #008080; text-decoration-color: #008080; font-weight: bold\">2704</span>\n",
       "dtype: int64\n",
       "</pre>\n"
      ],
      "text/plain": [
       "like               \u001b[1;36m2121\u001b[0m\n",
       "dislike            \u001b[1;36m2710\u001b[0m\n",
       "add_suggestions    \u001b[1;36m2674\u001b[0m\n",
       "improve_course     \u001b[1;36m2704\u001b[0m\n",
       "dtype: int64\n"
      ]
     },
     "metadata": {},
     "output_type": "display_data"
    },
    {
     "data": {
      "image/png": "[encoded data removed]",
      "text/plain": [
       "<Figure size 640x480 with 1 Axes>"
      ]
     },
     "metadata": {},
     "output_type": "display_data"
    }
   ],
   "source": [
    "plot_nan_values(data, title='Number of NaN values after replacing most frequent values.')"
   ]
  },
  {
   "cell_type": "markdown",
   "metadata": {},
   "source": [
    "# Remove short strings"
   ]
  },
  {
   "cell_type": "code",
   "execution_count": 21,
   "metadata": {
    "tags": []
   },
   "outputs": [],
   "source": [
    "short_words = []"
   ]
  },
  {
   "cell_type": "code",
   "execution_count": 22,
   "metadata": {
    "tags": []
   },
   "outputs": [],
   "source": [
    "def remove_short_str(row, n_chars=5):\n",
    "    if len(str(row)) >= n_chars and row is not np.nan:\n",
    "        return row\n",
    "    \n",
    "    short_words.append(row)\n",
    "    return np.nan"
   ]
  },
  {
   "cell_type": "code",
   "execution_count": 23,
   "metadata": {
    "tags": []
   },
   "outputs": [],
   "source": [
    "num_characters = 5\n",
    "\n",
    "data = apply_fn(data, remove_short_str, data.columns, n_chars=num_characters)"
   ]
  },
  {
   "cell_type": "code",
   "execution_count": 24,
   "metadata": {
    "tags": []
   },
   "outputs": [
    {
     "data": {
      "text/html": [
       "<pre style=\"white-space:pre;overflow-x:auto;line-height:normal;font-family:Menlo,'DejaVu Sans Mono',consolas,'Courier New',monospace\">Number of short words in data: <span style=\"color: #008080; text-decoration-color: #008080; font-weight: bold\">102</span>\n",
       "</pre>\n"
      ],
      "text/plain": [
       "Number of short words in data: \u001b[1;36m102\u001b[0m\n"
      ]
     },
     "metadata": {},
     "output_type": "display_data"
    },
    {
     "data": {
      "text/html": [
       "<pre style=\"white-space:pre;overflow-x:auto;line-height:normal;font-family:Menlo,'DejaVu Sans Mono',consolas,'Courier New',monospace\">Number of unique short words: <span style=\"color: #008080; text-decoration-color: #008080; font-weight: bold\">25</span>\n",
       "</pre>\n"
      ],
      "text/plain": [
       "Number of unique short words: \u001b[1;36m25\u001b[0m\n"
      ]
     },
     "metadata": {},
     "output_type": "display_data"
    },
    {
     "data": {
      "text/html": [
       "<pre style=\"white-space:pre;overflow-x:auto;line-height:normal;font-family:Menlo,'DejaVu Sans Mono',consolas,'Courier New',monospace\"><span style=\"font-weight: bold\">{</span>\n",
       "    <span style=\"color: #008000; text-decoration-color: #008000\">'_'</span>,\n",
       "    <span style=\"color: #008000; text-decoration-color: #008000\">'ي'</span>,\n",
       "    <span style=\"color: #008000; text-decoration-color: #008000\">'- -'</span>,\n",
       "    <span style=\"color: #008000; text-decoration-color: #008000\">'0'</span>,\n",
       "    <span style=\"color: #008000; text-decoration-color: #008000\">'good'</span>,\n",
       "    nan,\n",
       "    <span style=\"color: #008000; text-decoration-color: #008000\">'na'</span>,\n",
       "    <span style=\"color: #008000; text-decoration-color: #008000\">'رائع'</span>,\n",
       "    <span style=\"color: #008000; text-decoration-color: #008000\">'n'</span>,\n",
       "    <span style=\"color: #008000; text-decoration-color: #008000\">'ث'</span>,\n",
       "    <span style=\"color: #008000; text-decoration-color: #008000\">'،'</span>,\n",
       "    <span style=\"color: #008000; text-decoration-color: #008000\">'…….:'</span>,\n",
       "    <span style=\"color: #008000; text-decoration-color: #008000\">'all'</span>,\n",
       "    <span style=\"color: #008000; text-decoration-color: #008000\">'جميل'</span>,\n",
       "    <span style=\"color: #008000; text-decoration-color: #008000\">'nil'</span>,\n",
       "    <span style=\"color: #008000; text-decoration-color: #008000\">'للا'</span>,\n",
       "    <span style=\"color: #008000; text-decoration-color: #008000\">'ن'</span>,\n",
       "    <span style=\"color: #008000; text-decoration-color: #008000\">'،،'</span>,\n",
       "    <span style=\"color: #008000; text-decoration-color: #008000\">'لاشي'</span>,\n",
       "    <span style=\"color: #008000; text-decoration-color: #008000\">'non'</span>,\n",
       "    <span style=\"color: #008000; text-decoration-color: #008000\">'…'</span>,\n",
       "    <span style=\"color: #008000; text-decoration-color: #008000\">'لاا'</span>,\n",
       "    <span style=\"color: #008000; text-decoration-color: #008000\">'no.'</span>,\n",
       "    <span style=\"color: #008000; text-decoration-color: #008000\">'ب'</span>,\n",
       "    <span style=\"color: #008000; text-decoration-color: #008000\">'ح'</span>,\n",
       "    <span style=\"color: #008000; text-decoration-color: #008000\">'الكل'</span>\n",
       "<span style=\"font-weight: bold\">}</span>\n",
       "</pre>\n"
      ],
      "text/plain": [
       "\u001b[1m{\u001b[0m\n",
       "    \u001b[32m'_'\u001b[0m,\n",
       "    \u001b[32m'ي'\u001b[0m,\n",
       "    \u001b[32m'- -'\u001b[0m,\n",
       "    \u001b[32m'0'\u001b[0m,\n",
       "    \u001b[32m'good'\u001b[0m,\n",
       "    nan,\n",
       "    \u001b[32m'na'\u001b[0m,\n",
       "    \u001b[32m'رائع'\u001b[0m,\n",
       "    \u001b[32m'n'\u001b[0m,\n",
       "    \u001b[32m'ث'\u001b[0m,\n",
       "    \u001b[32m'،'\u001b[0m,\n",
       "    \u001b[32m'…….:'\u001b[0m,\n",
       "    \u001b[32m'all'\u001b[0m,\n",
       "    \u001b[32m'جميل'\u001b[0m,\n",
       "    \u001b[32m'nil'\u001b[0m,\n",
       "    \u001b[32m'للا'\u001b[0m,\n",
       "    \u001b[32m'ن'\u001b[0m,\n",
       "    \u001b[32m'،،'\u001b[0m,\n",
       "    \u001b[32m'لاشي'\u001b[0m,\n",
       "    \u001b[32m'non'\u001b[0m,\n",
       "    \u001b[32m'…'\u001b[0m,\n",
       "    \u001b[32m'لاا'\u001b[0m,\n",
       "    \u001b[32m'no.'\u001b[0m,\n",
       "    \u001b[32m'ب'\u001b[0m,\n",
       "    \u001b[32m'ح'\u001b[0m,\n",
       "    \u001b[32m'الكل'\u001b[0m\n",
       "\u001b[1m}\u001b[0m\n"
      ]
     },
     "metadata": {},
     "output_type": "display_data"
    }
   ],
   "source": [
    "print('Number of short words in data:', len([item for item in short_words if item is not np.nan]))\n",
    "print('Number of unique short words:', len(set([item for item in short_words if item is not np.nan])))\n",
    "print(set(short_words))"
   ]
  },
  {
   "cell_type": "code",
   "execution_count": 25,
   "metadata": {
    "tags": []
   },
   "outputs": [
    {
     "data": {
      "text/plain": [
       "10209"
      ]
     },
     "execution_count": 25,
     "metadata": {},
     "output_type": "execute_result"
    }
   ],
   "source": [
    "short_words.count(np.nan)"
   ]
  },
  {
   "cell_type": "code",
   "execution_count": 26,
   "metadata": {
    "tags": []
   },
   "outputs": [
    {
     "data": {
      "text/html": [
       "<pre style=\"white-space:pre;overflow-x:auto;line-height:normal;font-family:Menlo,'DejaVu Sans Mono',consolas,'Courier New',monospace\"><span style=\"font-weight: bold\">[</span>\n",
       "    <span style=\"color: #008000; text-decoration-color: #008000\">'na'</span>,\n",
       "    <span style=\"color: #008000; text-decoration-color: #008000\">'،'</span>,\n",
       "    <span style=\"color: #008000; text-decoration-color: #008000\">'،'</span>,\n",
       "    <span style=\"color: #008000; text-decoration-color: #008000\">'،'</span>,\n",
       "    <span style=\"color: #008000; text-decoration-color: #008000\">'0'</span>,\n",
       "    <span style=\"color: #008000; text-decoration-color: #008000\">'0'</span>,\n",
       "    <span style=\"color: #008000; text-decoration-color: #008000\">'nil'</span>,\n",
       "    <span style=\"color: #008000; text-decoration-color: #008000\">'جميل'</span>,\n",
       "    <span style=\"color: #008000; text-decoration-color: #008000\">'non'</span>,\n",
       "    <span style=\"color: #008000; text-decoration-color: #008000\">'na'</span>,\n",
       "    <span style=\"color: #008000; text-decoration-color: #008000\">'ث'</span>,\n",
       "    <span style=\"color: #008000; text-decoration-color: #008000\">'ي'</span>,\n",
       "    <span style=\"color: #008000; text-decoration-color: #008000\">'ن'</span>,\n",
       "    <span style=\"color: #008000; text-decoration-color: #008000\">'- -'</span>,\n",
       "    <span style=\"color: #008000; text-decoration-color: #008000\">'الكل'</span>,\n",
       "    <span style=\"color: #008000; text-decoration-color: #008000\">'non'</span>,\n",
       "    <span style=\"color: #008000; text-decoration-color: #008000\">'non'</span>,\n",
       "    <span style=\"color: #008000; text-decoration-color: #008000\">'non'</span>,\n",
       "    <span style=\"color: #008000; text-decoration-color: #008000\">'non'</span>,\n",
       "    <span style=\"color: #008000; text-decoration-color: #008000\">'non'</span>,\n",
       "    <span style=\"color: #008000; text-decoration-color: #008000\">'good'</span>,\n",
       "    <span style=\"color: #008000; text-decoration-color: #008000\">'non'</span>,\n",
       "    <span style=\"color: #008000; text-decoration-color: #008000\">'non'</span>,\n",
       "    <span style=\"color: #008000; text-decoration-color: #008000\">'non'</span>,\n",
       "    <span style=\"color: #008000; text-decoration-color: #008000\">'- -'</span>,\n",
       "    <span style=\"color: #008000; text-decoration-color: #008000\">'- -'</span>,\n",
       "    <span style=\"color: #008000; text-decoration-color: #008000\">'- -'</span>,\n",
       "    <span style=\"color: #008000; text-decoration-color: #008000\">'لاشي'</span>,\n",
       "    <span style=\"color: #008000; text-decoration-color: #008000\">'- -'</span>,\n",
       "    <span style=\"color: #008000; text-decoration-color: #008000\">'- -'</span>,\n",
       "    <span style=\"color: #008000; text-decoration-color: #008000\">'0'</span>,\n",
       "    <span style=\"color: #008000; text-decoration-color: #008000\">'- -'</span>,\n",
       "    <span style=\"color: #008000; text-decoration-color: #008000\">'_'</span>,\n",
       "    <span style=\"color: #008000; text-decoration-color: #008000\">'0'</span>,\n",
       "    <span style=\"color: #008000; text-decoration-color: #008000\">'- -'</span>,\n",
       "    <span style=\"color: #008000; text-decoration-color: #008000\">'- -'</span>,\n",
       "    <span style=\"color: #008000; text-decoration-color: #008000\">'0'</span>,\n",
       "    <span style=\"color: #008000; text-decoration-color: #008000\">'- -'</span>,\n",
       "    <span style=\"color: #008000; text-decoration-color: #008000\">'na'</span>,\n",
       "    <span style=\"color: #008000; text-decoration-color: #008000\">'،'</span>,\n",
       "    <span style=\"color: #008000; text-decoration-color: #008000\">'0'</span>,\n",
       "    <span style=\"color: #008000; text-decoration-color: #008000\">'0'</span>,\n",
       "    <span style=\"color: #008000; text-decoration-color: #008000\">'nil'</span>,\n",
       "    <span style=\"color: #008000; text-decoration-color: #008000\">'nil'</span>,\n",
       "    <span style=\"color: #008000; text-decoration-color: #008000\">'na'</span>,\n",
       "    <span style=\"color: #008000; text-decoration-color: #008000\">'ث'</span>,\n",
       "    <span style=\"color: #008000; text-decoration-color: #008000\">'ي'</span>,\n",
       "    <span style=\"color: #008000; text-decoration-color: #008000\">'ن'</span>,\n",
       "    <span style=\"color: #008000; text-decoration-color: #008000\">'…'</span>,\n",
       "    <span style=\"color: #008000; text-decoration-color: #008000\">'all'</span>,\n",
       "    <span style=\"color: #008000; text-decoration-color: #008000\">'_'</span>,\n",
       "    <span style=\"color: #008000; text-decoration-color: #008000\">'0'</span>,\n",
       "    <span style=\"color: #008000; text-decoration-color: #008000\">'_'</span>,\n",
       "    <span style=\"color: #008000; text-decoration-color: #008000\">'_'</span>,\n",
       "    <span style=\"color: #008000; text-decoration-color: #008000\">'0'</span>,\n",
       "    <span style=\"color: #008000; text-decoration-color: #008000\">'0'</span>,\n",
       "    <span style=\"color: #008000; text-decoration-color: #008000\">'na'</span>,\n",
       "    <span style=\"color: #008000; text-decoration-color: #008000\">'- -'</span>,\n",
       "    <span style=\"color: #008000; text-decoration-color: #008000\">'…'</span>,\n",
       "    <span style=\"color: #008000; text-decoration-color: #008000\">'،'</span>,\n",
       "    <span style=\"color: #008000; text-decoration-color: #008000\">'،'</span>,\n",
       "    <span style=\"color: #008000; text-decoration-color: #008000\">'0'</span>,\n",
       "    <span style=\"color: #008000; text-decoration-color: #008000\">'nil'</span>,\n",
       "    <span style=\"color: #008000; text-decoration-color: #008000\">'nil'</span>,\n",
       "    <span style=\"color: #008000; text-decoration-color: #008000\">'na'</span>,\n",
       "    <span style=\"color: #008000; text-decoration-color: #008000\">'ب'</span>,\n",
       "    <span style=\"color: #008000; text-decoration-color: #008000\">'ي'</span>,\n",
       "    <span style=\"color: #008000; text-decoration-color: #008000\">'ن'</span>,\n",
       "    <span style=\"color: #008000; text-decoration-color: #008000\">'،،'</span>,\n",
       "    <span style=\"color: #008000; text-decoration-color: #008000\">'…….:'</span>,\n",
       "    <span style=\"color: #008000; text-decoration-color: #008000\">'للا'</span>,\n",
       "    <span style=\"color: #008000; text-decoration-color: #008000\">'رائع'</span>,\n",
       "    <span style=\"color: #008000; text-decoration-color: #008000\">'- -'</span>,\n",
       "    <span style=\"color: #008000; text-decoration-color: #008000\">'- -'</span>,\n",
       "    <span style=\"color: #008000; text-decoration-color: #008000\">'- -'</span>,\n",
       "    <span style=\"color: #008000; text-decoration-color: #008000\">'- -'</span>,\n",
       "    <span style=\"color: #008000; text-decoration-color: #008000\">'- -'</span>,\n",
       "    <span style=\"color: #008000; text-decoration-color: #008000\">'- -'</span>,\n",
       "    <span style=\"color: #008000; text-decoration-color: #008000\">'0'</span>,\n",
       "    <span style=\"color: #008000; text-decoration-color: #008000\">'- -'</span>,\n",
       "    <span style=\"color: #008000; text-decoration-color: #008000\">'- -'</span>,\n",
       "    <span style=\"color: #008000; text-decoration-color: #008000\">'_'</span>,\n",
       "    <span style=\"color: #008000; text-decoration-color: #008000\">'- -'</span>,\n",
       "    <span style=\"color: #008000; text-decoration-color: #008000\">'0'</span>,\n",
       "    <span style=\"color: #008000; text-decoration-color: #008000\">'0'</span>,\n",
       "    <span style=\"color: #008000; text-decoration-color: #008000\">'na'</span>,\n",
       "    <span style=\"color: #008000; text-decoration-color: #008000\">'،'</span>,\n",
       "    <span style=\"color: #008000; text-decoration-color: #008000\">'،'</span>,\n",
       "    <span style=\"color: #008000; text-decoration-color: #008000\">'nil'</span>,\n",
       "    <span style=\"color: #008000; text-decoration-color: #008000\">'nil'</span>,\n",
       "    <span style=\"color: #008000; text-decoration-color: #008000\">'nil'</span>,\n",
       "    <span style=\"color: #008000; text-decoration-color: #008000\">'na'</span>,\n",
       "    <span style=\"color: #008000; text-decoration-color: #008000\">'ث'</span>,\n",
       "    <span style=\"color: #008000; text-decoration-color: #008000\">'ي'</span>,\n",
       "    <span style=\"color: #008000; text-decoration-color: #008000\">'ن'</span>,\n",
       "    <span style=\"color: #008000; text-decoration-color: #008000\">'،،'</span>,\n",
       "    <span style=\"color: #008000; text-decoration-color: #008000\">'n'</span>,\n",
       "    <span style=\"color: #008000; text-decoration-color: #008000\">'لاا'</span>,\n",
       "    <span style=\"color: #008000; text-decoration-color: #008000\">'ح'</span>,\n",
       "    <span style=\"color: #008000; text-decoration-color: #008000\">'_'</span>,\n",
       "    <span style=\"color: #008000; text-decoration-color: #008000\">'_'</span>,\n",
       "    <span style=\"color: #008000; text-decoration-color: #008000\">'no.'</span>\n",
       "<span style=\"font-weight: bold\">]</span>\n",
       "</pre>\n"
      ],
      "text/plain": [
       "\u001b[1m[\u001b[0m\n",
       "    \u001b[32m'na'\u001b[0m,\n",
       "    \u001b[32m'،'\u001b[0m,\n",
       "    \u001b[32m'،'\u001b[0m,\n",
       "    \u001b[32m'،'\u001b[0m,\n",
       "    \u001b[32m'0'\u001b[0m,\n",
       "    \u001b[32m'0'\u001b[0m,\n",
       "    \u001b[32m'nil'\u001b[0m,\n",
       "    \u001b[32m'جميل'\u001b[0m,\n",
       "    \u001b[32m'non'\u001b[0m,\n",
       "    \u001b[32m'na'\u001b[0m,\n",
       "    \u001b[32m'ث'\u001b[0m,\n",
       "    \u001b[32m'ي'\u001b[0m,\n",
       "    \u001b[32m'ن'\u001b[0m,\n",
       "    \u001b[32m'- -'\u001b[0m,\n",
       "    \u001b[32m'الكل'\u001b[0m,\n",
       "    \u001b[32m'non'\u001b[0m,\n",
       "    \u001b[32m'non'\u001b[0m,\n",
       "    \u001b[32m'non'\u001b[0m,\n",
       "    \u001b[32m'non'\u001b[0m,\n",
       "    \u001b[32m'non'\u001b[0m,\n",
       "    \u001b[32m'good'\u001b[0m,\n",
       "    \u001b[32m'non'\u001b[0m,\n",
       "    \u001b[32m'non'\u001b[0m,\n",
       "    \u001b[32m'non'\u001b[0m,\n",
       "    \u001b[32m'- -'\u001b[0m,\n",
       "    \u001b[32m'- -'\u001b[0m,\n",
       "    \u001b[32m'- -'\u001b[0m,\n",
       "    \u001b[32m'لاشي'\u001b[0m,\n",
       "    \u001b[32m'- -'\u001b[0m,\n",
       "    \u001b[32m'- -'\u001b[0m,\n",
       "    \u001b[32m'0'\u001b[0m,\n",
       "    \u001b[32m'- -'\u001b[0m,\n",
       "    \u001b[32m'_'\u001b[0m,\n",
       "    \u001b[32m'0'\u001b[0m,\n",
       "    \u001b[32m'- -'\u001b[0m,\n",
       "    \u001b[32m'- -'\u001b[0m,\n",
       "    \u001b[32m'0'\u001b[0m,\n",
       "    \u001b[32m'- -'\u001b[0m,\n",
       "    \u001b[32m'na'\u001b[0m,\n",
       "    \u001b[32m'،'\u001b[0m,\n",
       "    \u001b[32m'0'\u001b[0m,\n",
       "    \u001b[32m'0'\u001b[0m,\n",
       "    \u001b[32m'nil'\u001b[0m,\n",
       "    \u001b[32m'nil'\u001b[0m,\n",
       "    \u001b[32m'na'\u001b[0m,\n",
       "    \u001b[32m'ث'\u001b[0m,\n",
       "    \u001b[32m'ي'\u001b[0m,\n",
       "    \u001b[32m'ن'\u001b[0m,\n",
       "    \u001b[32m'…'\u001b[0m,\n",
       "    \u001b[32m'all'\u001b[0m,\n",
       "    \u001b[32m'_'\u001b[0m,\n",
       "    \u001b[32m'0'\u001b[0m,\n",
       "    \u001b[32m'_'\u001b[0m,\n",
       "    \u001b[32m'_'\u001b[0m,\n",
       "    \u001b[32m'0'\u001b[0m,\n",
       "    \u001b[32m'0'\u001b[0m,\n",
       "    \u001b[32m'na'\u001b[0m,\n",
       "    \u001b[32m'- -'\u001b[0m,\n",
       "    \u001b[32m'…'\u001b[0m,\n",
       "    \u001b[32m'،'\u001b[0m,\n",
       "    \u001b[32m'،'\u001b[0m,\n",
       "    \u001b[32m'0'\u001b[0m,\n",
       "    \u001b[32m'nil'\u001b[0m,\n",
       "    \u001b[32m'nil'\u001b[0m,\n",
       "    \u001b[32m'na'\u001b[0m,\n",
       "    \u001b[32m'ب'\u001b[0m,\n",
       "    \u001b[32m'ي'\u001b[0m,\n",
       "    \u001b[32m'ن'\u001b[0m,\n",
       "    \u001b[32m'،،'\u001b[0m,\n",
       "    \u001b[32m'…….:'\u001b[0m,\n",
       "    \u001b[32m'للا'\u001b[0m,\n",
       "    \u001b[32m'رائع'\u001b[0m,\n",
       "    \u001b[32m'- -'\u001b[0m,\n",
       "    \u001b[32m'- -'\u001b[0m,\n",
       "    \u001b[32m'- -'\u001b[0m,\n",
       "    \u001b[32m'- -'\u001b[0m,\n",
       "    \u001b[32m'- -'\u001b[0m,\n",
       "    \u001b[32m'- -'\u001b[0m,\n",
       "    \u001b[32m'0'\u001b[0m,\n",
       "    \u001b[32m'- -'\u001b[0m,\n",
       "    \u001b[32m'- -'\u001b[0m,\n",
       "    \u001b[32m'_'\u001b[0m,\n",
       "    \u001b[32m'- -'\u001b[0m,\n",
       "    \u001b[32m'0'\u001b[0m,\n",
       "    \u001b[32m'0'\u001b[0m,\n",
       "    \u001b[32m'na'\u001b[0m,\n",
       "    \u001b[32m'،'\u001b[0m,\n",
       "    \u001b[32m'،'\u001b[0m,\n",
       "    \u001b[32m'nil'\u001b[0m,\n",
       "    \u001b[32m'nil'\u001b[0m,\n",
       "    \u001b[32m'nil'\u001b[0m,\n",
       "    \u001b[32m'na'\u001b[0m,\n",
       "    \u001b[32m'ث'\u001b[0m,\n",
       "    \u001b[32m'ي'\u001b[0m,\n",
       "    \u001b[32m'ن'\u001b[0m,\n",
       "    \u001b[32m'،،'\u001b[0m,\n",
       "    \u001b[32m'n'\u001b[0m,\n",
       "    \u001b[32m'لاا'\u001b[0m,\n",
       "    \u001b[32m'ح'\u001b[0m,\n",
       "    \u001b[32m'_'\u001b[0m,\n",
       "    \u001b[32m'_'\u001b[0m,\n",
       "    \u001b[32m'no.'\u001b[0m\n",
       "\u001b[1m]\u001b[0m\n"
      ]
     },
     "metadata": {},
     "output_type": "display_data"
    }
   ],
   "source": [
    "print([item for item in short_words if item is not np.nan])"
   ]
  },
  {
   "cell_type": "code",
   "execution_count": 27,
   "metadata": {
    "tags": []
   },
   "outputs": [
    {
     "data": {
      "text/html": [
       "<pre style=\"white-space:pre;overflow-x:auto;line-height:normal;font-family:Menlo,'DejaVu Sans Mono',consolas,'Courier New',monospace\">like               <span style=\"color: #008080; text-decoration-color: #008080; font-weight: bold\">2159</span>\n",
       "dislike            <span style=\"color: #008080; text-decoration-color: #008080; font-weight: bold\">2728</span>\n",
       "add_suggestions    <span style=\"color: #008080; text-decoration-color: #008080; font-weight: bold\">2703</span>\n",
       "improve_course     <span style=\"color: #008080; text-decoration-color: #008080; font-weight: bold\">2721</span>\n",
       "dtype: int64\n",
       "</pre>\n"
      ],
      "text/plain": [
       "like               \u001b[1;36m2159\u001b[0m\n",
       "dislike            \u001b[1;36m2728\u001b[0m\n",
       "add_suggestions    \u001b[1;36m2703\u001b[0m\n",
       "improve_course     \u001b[1;36m2721\u001b[0m\n",
       "dtype: int64\n"
      ]
     },
     "metadata": {},
     "output_type": "display_data"
    },
    {
     "data": {
      "image/png": "[encoded data removed]",
      "text/plain": [
       "<Figure size 640x480 with 1 Axes>"
      ]
     },
     "metadata": {},
     "output_type": "display_data"
    }
   ],
   "source": [
    "plot_nan_values(data)"
   ]
  },
  {
   "cell_type": "markdown",
   "metadata": {},
   "source": [
    "# Remove duplicates and save processed data"
   ]
  },
  {
   "cell_type": "code",
   "execution_count": 28,
   "metadata": {
    "tags": []
   },
   "outputs": [
    {
     "data": {
      "text/html": [
       "<pre style=\"white-space:pre;overflow-x:auto;line-height:normal;font-family:Menlo,'DejaVu Sans Mono',consolas,'Courier New',monospace\">Number of duplicated values in like: <span style=\"color: #008080; text-decoration-color: #008080; font-weight: bold\">141</span>\n",
       "</pre>\n"
      ],
      "text/plain": [
       "Number of duplicated values in like: \u001b[1;36m141\u001b[0m\n"
      ]
     },
     "metadata": {},
     "output_type": "display_data"
    },
    {
     "data": {
      "text/html": [
       "<pre style=\"white-space:pre;overflow-x:auto;line-height:normal;font-family:Menlo,'DejaVu Sans Mono',consolas,'Courier New',monospace\">Number of duplicated values in dislike: <span style=\"color: #008080; text-decoration-color: #008080; font-weight: bold\">38</span>\n",
       "</pre>\n"
      ],
      "text/plain": [
       "Number of duplicated values in dislike: \u001b[1;36m38\u001b[0m\n"
      ]
     },
     "metadata": {},
     "output_type": "display_data"
    },
    {
     "data": {
      "text/html": [
       "<pre style=\"white-space:pre;overflow-x:auto;line-height:normal;font-family:Menlo,'DejaVu Sans Mono',consolas,'Courier New',monospace\">Number of duplicated values in add_suggestions: <span style=\"color: #008080; text-decoration-color: #008080; font-weight: bold\">79</span>\n",
       "</pre>\n"
      ],
      "text/plain": [
       "Number of duplicated values in add_suggestions: \u001b[1;36m79\u001b[0m\n"
      ]
     },
     "metadata": {},
     "output_type": "display_data"
    },
    {
     "data": {
      "text/html": [
       "<pre style=\"white-space:pre;overflow-x:auto;line-height:normal;font-family:Menlo,'DejaVu Sans Mono',consolas,'Courier New',monospace\">Number of duplicated values in improve_course: <span style=\"color: #008080; text-decoration-color: #008080; font-weight: bold\">46</span>\n",
       "</pre>\n"
      ],
      "text/plain": [
       "Number of duplicated values in improve_course: \u001b[1;36m46\u001b[0m\n"
      ]
     },
     "metadata": {},
     "output_type": "display_data"
    }
   ],
   "source": [
    "# number of duplications\n",
    "for col in data.columns:\n",
    "    print(f'Number of duplicated values in {col}:', data[col].dropna().duplicated().sum())"
   ]
  },
  {
   "cell_type": "code",
   "execution_count": 29,
   "metadata": {
    "tags": []
   },
   "outputs": [],
   "source": [
    "# np.nan\n",
    "processed_data = {\n",
    "    col_name: [value for value in data[col_name].dropna().drop_duplicates()] for col_name in data.columns\n",
    "}"
   ]
  },
  {
   "cell_type": "code",
   "execution_count": 30,
   "metadata": {
    "tags": []
   },
   "outputs": [
    {
     "data": {
      "text/plain": [
       "['المقرر بشكل عام',\n",
       " 'طريقة الشرح',\n",
       " 'عضو التدريس ومحتوى المقرر',\n",
       " 'تطوير مهارات القيادة']"
      ]
     },
     "execution_count": 30,
     "metadata": {},
     "output_type": "execute_result"
    }
   ],
   "source": [
    "processed_data['like'][:4]"
   ]
  },
  {
   "cell_type": "code",
   "execution_count": 31,
   "metadata": {
    "tags": []
   },
   "outputs": [],
   "source": [
    "save_path = '../../data/processed/porcessed_data_final_pipeline.json'\n",
    "\n",
    "with open(save_path, 'w') as f:\n",
    "    json.dump(processed_data, f)"
   ]
  },
  {
   "cell_type": "code",
   "execution_count": 32,
   "metadata": {
    "tags": []
   },
   "outputs": [
    {
     "data": {
      "text/html": [
       "<pre style=\"white-space:pre;overflow-x:auto;line-height:normal;font-family:Menlo,'DejaVu Sans Mono',consolas,'Courier New',monospace\"><span style=\"font-weight: bold\">(</span>like<span style=\"font-weight: bold\">)</span> column has <span style=\"color: #008080; text-decoration-color: #008080; font-weight: bold\">779</span> sentences.\n",
       "</pre>\n"
      ],
      "text/plain": [
       "\u001b[1m(\u001b[0mlike\u001b[1m)\u001b[0m column has \u001b[1;36m779\u001b[0m sentences.\n"
      ]
     },
     "metadata": {},
     "output_type": "display_data"
    },
    {
     "data": {
      "text/html": [
       "<pre style=\"white-space:pre;overflow-x:auto;line-height:normal;font-family:Menlo,'DejaVu Sans Mono',consolas,'Courier New',monospace\"><span style=\"font-weight: bold\">(</span>dislike<span style=\"font-weight: bold\">)</span> column has <span style=\"color: #008080; text-decoration-color: #008080; font-weight: bold\">313</span> sentences.\n",
       "</pre>\n"
      ],
      "text/plain": [
       "\u001b[1m(\u001b[0mdislike\u001b[1m)\u001b[0m column has \u001b[1;36m313\u001b[0m sentences.\n"
      ]
     },
     "metadata": {},
     "output_type": "display_data"
    },
    {
     "data": {
      "text/html": [
       "<pre style=\"white-space:pre;overflow-x:auto;line-height:normal;font-family:Menlo,'DejaVu Sans Mono',consolas,'Courier New',monospace\"><span style=\"font-weight: bold\">(</span>add_suggestions<span style=\"font-weight: bold\">)</span> column has <span style=\"color: #008080; text-decoration-color: #008080; font-weight: bold\">297</span> sentences.\n",
       "</pre>\n"
      ],
      "text/plain": [
       "\u001b[1m(\u001b[0madd_suggestions\u001b[1m)\u001b[0m column has \u001b[1;36m297\u001b[0m sentences.\n"
      ]
     },
     "metadata": {},
     "output_type": "display_data"
    },
    {
     "data": {
      "text/html": [
       "<pre style=\"white-space:pre;overflow-x:auto;line-height:normal;font-family:Menlo,'DejaVu Sans Mono',consolas,'Courier New',monospace\"><span style=\"font-weight: bold\">(</span>improve_course<span style=\"font-weight: bold\">)</span> column has <span style=\"color: #008080; text-decoration-color: #008080; font-weight: bold\">312</span> sentences.\n",
       "</pre>\n"
      ],
      "text/plain": [
       "\u001b[1m(\u001b[0mimprove_course\u001b[1m)\u001b[0m column has \u001b[1;36m312\u001b[0m sentences.\n"
      ]
     },
     "metadata": {},
     "output_type": "display_data"
    }
   ],
   "source": [
    "for k, v in processed_data.items():\n",
    "    print(f'({k}) column has {len(v)} sentences.')"
   ]
  },
  {
   "cell_type": "code",
   "execution_count": 33,
   "metadata": {},
   "outputs": [],
   "source": [
    "text = []\n",
    "for k, v in processed_data.items():\n",
    "    text.extend([(k, t) for t in v])\n",
    "\n",
    "text = sorted(text, key=lambda x: x[1])  "
   ]
  },
  {
   "cell_type": "code",
   "execution_count": 34,
   "metadata": {
    "tags": []
   },
   "outputs": [
    {
     "data": {
      "text/plain": [
       "1701"
      ]
     },
     "execution_count": 34,
     "metadata": {},
     "output_type": "execute_result"
    }
   ],
   "source": [
    "len(text)"
   ]
  },
  {
   "cell_type": "code",
   "execution_count": 35,
   "metadata": {
    "tags": []
   },
   "outputs": [],
   "source": [
    "text_df = pd.DataFrame(text, columns=['column', 'text'])\n",
    "text_df = text_df.drop_duplicates(subset=['text'])"
   ]
  },
  {
   "cell_type": "code",
   "execution_count": 36,
   "metadata": {
    "tags": []
   },
   "outputs": [
    {
     "data": {
      "text/plain": [
       "1610"
      ]
     },
     "execution_count": 36,
     "metadata": {},
     "output_type": "execute_result"
    }
   ],
   "source": [
    "len(text_df)"
   ]
  },
  {
   "cell_type": "code",
   "execution_count": 37,
   "metadata": {
    "tags": []
   },
   "outputs": [],
   "source": [
    "random_state = 42"
   ]
  },
  {
   "cell_type": "code",
   "execution_count": 38,
   "metadata": {
    "tags": []
   },
   "outputs": [
    {
     "data": {
      "text/html": [
       "<div>\n",
       "<style scoped>\n",
       "    .dataframe tbody tr th:only-of-type {\n",
       "        vertical-align: middle;\n",
       "    }\n",
       "\n",
       "    .dataframe tbody tr th {\n",
       "        vertical-align: top;\n",
       "    }\n",
       "\n",
       "    .dataframe thead th {\n",
       "        text-align: right;\n",
       "    }\n",
       "</style>\n",
       "<table border=\"1\" class=\"dataframe\">\n",
       "  <thead>\n",
       "    <tr style=\"text-align: right;\">\n",
       "      <th></th>\n",
       "      <th>column</th>\n",
       "      <th>text</th>\n",
       "    </tr>\n",
       "  </thead>\n",
       "  <tbody>\n",
       "    <tr>\n",
       "      <th>0</th>\n",
       "      <td>like</td>\n",
       "      <td>- dr. emad is a professional in everything (ex...</td>\n",
       "    </tr>\n",
       "    <tr>\n",
       "      <th>1</th>\n",
       "      <td>improve_course</td>\n",
       "      <td>- إعطاء مشاريع صغيرة بدلا من مشروع كبير-يكون ا...</td>\n",
       "    </tr>\n",
       "    <tr>\n",
       "      <th>2</th>\n",
       "      <td>improve_course</td>\n",
       "      <td>- التركيز على إعطاء الطلبة خلفية جيدة عن تعلم ...</td>\n",
       "    </tr>\n",
       "    <tr>\n",
       "      <th>3</th>\n",
       "      <td>add_suggestions</td>\n",
       "      <td>- عمل منهج واضح بالنسبة للطلاب ومحدد-إيضاح طري...</td>\n",
       "    </tr>\n",
       "    <tr>\n",
       "      <th>5</th>\n",
       "      <td>like</td>\n",
       "      <td>1-the verity of tools that we used and applied...</td>\n",
       "    </tr>\n",
       "  </tbody>\n",
       "</table>\n",
       "</div>"
      ],
      "text/plain": [
       "            column                                               text\n",
       "0             like  - dr. emad is a professional in everything (ex...\n",
       "1   improve_course  - إعطاء مشاريع صغيرة بدلا من مشروع كبير-يكون ا...\n",
       "2   improve_course  - التركيز على إعطاء الطلبة خلفية جيدة عن تعلم ...\n",
       "3  add_suggestions  - عمل منهج واضح بالنسبة للطلاب ومحدد-إيضاح طري...\n",
       "5             like  1-the verity of tools that we used and applied..."
      ]
     },
     "execution_count": 38,
     "metadata": {},
     "output_type": "execute_result"
    }
   ],
   "source": [
    "text_df.head()"
   ]
  },
  {
   "cell_type": "code",
   "execution_count": 39,
   "metadata": {
    "tags": []
   },
   "outputs": [],
   "source": [
    "def add_prefix(row):\n",
    "    col_dict = {\n",
    "        'like': \"أكثر ما أعجبني:\",\n",
    "        'dislike':\"أكثر ما لم يعجبني:\",\n",
    "        'improve_course':\"اقتراحاتي للتحسين:\",\n",
    "        'add_suggestions': \"اقتراحاتي للإضافة:\"\n",
    "    }\n",
    "    \n",
    "    col_dict = {k: v.strip() + \" \" for k, v in col_dict.items()}\n",
    "    col_name = row['column']\n",
    "    \n",
    "    prefix = col_dict[col_name]\n",
    "    text = prefix + row['text']\n",
    "    \n",
    "    return text"
   ]
  },
  {
   "cell_type": "code",
   "execution_count": 40,
   "metadata": {
    "tags": []
   },
   "outputs": [],
   "source": [
    "text_df['text'] = text_df.apply(add_prefix, axis=1)"
   ]
  },
  {
   "cell_type": "code",
   "execution_count": 41,
   "metadata": {
    "tags": []
   },
   "outputs": [
    {
     "data": {
      "text/html": [
       "<div>\n",
       "<style scoped>\n",
       "    .dataframe tbody tr th:only-of-type {\n",
       "        vertical-align: middle;\n",
       "    }\n",
       "\n",
       "    .dataframe tbody tr th {\n",
       "        vertical-align: top;\n",
       "    }\n",
       "\n",
       "    .dataframe thead th {\n",
       "        text-align: right;\n",
       "    }\n",
       "</style>\n",
       "<table border=\"1\" class=\"dataframe\">\n",
       "  <thead>\n",
       "    <tr style=\"text-align: right;\">\n",
       "      <th></th>\n",
       "      <th>column</th>\n",
       "      <th>text</th>\n",
       "    </tr>\n",
       "  </thead>\n",
       "  <tbody>\n",
       "    <tr>\n",
       "      <th>0</th>\n",
       "      <td>like</td>\n",
       "      <td>أكثر ما أعجبني: - dr. emad is a professional i...</td>\n",
       "    </tr>\n",
       "    <tr>\n",
       "      <th>1</th>\n",
       "      <td>improve_course</td>\n",
       "      <td>اقتراحاتي للتحسين: - إعطاء مشاريع صغيرة بدلا م...</td>\n",
       "    </tr>\n",
       "    <tr>\n",
       "      <th>2</th>\n",
       "      <td>improve_course</td>\n",
       "      <td>اقتراحاتي للتحسين: - التركيز على إعطاء الطلبة ...</td>\n",
       "    </tr>\n",
       "    <tr>\n",
       "      <th>3</th>\n",
       "      <td>add_suggestions</td>\n",
       "      <td>اقتراحاتي للإضافة: - عمل منهج واضح بالنسبة للط...</td>\n",
       "    </tr>\n",
       "    <tr>\n",
       "      <th>5</th>\n",
       "      <td>like</td>\n",
       "      <td>أكثر ما أعجبني: 1-the verity of tools that we ...</td>\n",
       "    </tr>\n",
       "  </tbody>\n",
       "</table>\n",
       "</div>"
      ],
      "text/plain": [
       "            column                                               text\n",
       "0             like  أكثر ما أعجبني: - dr. emad is a professional i...\n",
       "1   improve_course  اقتراحاتي للتحسين: - إعطاء مشاريع صغيرة بدلا م...\n",
       "2   improve_course  اقتراحاتي للتحسين: - التركيز على إعطاء الطلبة ...\n",
       "3  add_suggestions  اقتراحاتي للإضافة: - عمل منهج واضح بالنسبة للط...\n",
       "5             like  أكثر ما أعجبني: 1-the verity of tools that we ..."
      ]
     },
     "execution_count": 41,
     "metadata": {},
     "output_type": "execute_result"
    }
   ],
   "source": [
    "text_df.head()"
   ]
  },
  {
   "cell_type": "code",
   "execution_count": 42,
   "metadata": {
    "tags": []
   },
   "outputs": [
    {
     "data": {
      "text/plain": [
       "device(type='cuda', index=0)"
      ]
     },
     "execution_count": 42,
     "metadata": {},
     "output_type": "execute_result"
    }
   ],
   "source": [
    "device = torch.device('cuda:0' if torch.cuda.is_available() else 'cpu')\n",
    "device"
   ]
  },
  {
   "cell_type": "code",
   "execution_count": 43,
   "metadata": {
    "tags": []
   },
   "outputs": [],
   "source": [
    "def batch_predict(texts, model_path, device, batch_size=64):\n",
    "    model = AutoModelForSequenceClassification.from_pretrained(model_path)\n",
    "    print(f'Moving model to {device}...')\n",
    "    model = model.to(device) # move model to device\n",
    "    print('Set model eval mode')\n",
    "    model = model.eval()\n",
    "    \n",
    "    label_names = model.config.id2label\n",
    "    print('label names:')\n",
    "    print(label_names)\n",
    "    tokenizer = AutoTokenizer.from_pretrained(model_path)\n",
    "    \n",
    "    predictions = []\n",
    "    for i in tqdm(range(0, len(texts), batch_size)):\n",
    "        batch_texts = texts[i: i+batch_size]\n",
    "        inputs = tokenizer(batch_texts, truncation=True, padding=True, return_tensors='pt')\n",
    "        # move inputs to device\n",
    "        inputs = {k: v.to(device) for k, v in inputs.items()}\n",
    "        \n",
    "        # disable gradient calculations\n",
    "        with torch.no_grad():\n",
    "            outputs = model(**inputs)\n",
    "            logits = outputs.logits\n",
    "            batch_predictions = logits.argmax(dim=-1).cpu().numpy()\n",
    "            predictions.extend(batch_predictions)\n",
    "            \n",
    "    \n",
    "    predicted_classes = [label_names[int(label)] for label in predictions]\n",
    "    return predicted_classes\n",
    "        "
   ]
  },
  {
   "cell_type": "code",
   "execution_count": 44,
   "metadata": {
    "tags": []
   },
   "outputs": [],
   "source": [
    "topics_model_dir = '../../models/model_topic/checkpoint-980/'\n",
    "sentiment_model_dir = '../../models/model_sentiment/checkpoint-476/'\n",
    "suggestions_model_dir = '../../models/model_suggestions/checkpoint-380/'"
   ]
  },
  {
   "cell_type": "code",
   "execution_count": 45,
   "metadata": {
    "tags": []
   },
   "outputs": [],
   "source": [
    "batch_size = 8"
   ]
  },
  {
   "cell_type": "code",
   "execution_count": 46,
   "metadata": {
    "tags": []
   },
   "outputs": [
    {
     "data": {
      "text/html": [
       "<pre style=\"white-space:pre;overflow-x:auto;line-height:normal;font-family:Menlo,'DejaVu Sans Mono',consolas,'Courier New',monospace\">Moving model to cu<span style=\"color: #00ff00; text-decoration-color: #00ff00; font-weight: bold\">da:0</span><span style=\"color: #808000; text-decoration-color: #808000\">...</span>\n",
       "</pre>\n"
      ],
      "text/plain": [
       "Moving model to cu\u001b[1;92mda:0\u001b[0m\u001b[33m...\u001b[0m\n"
      ]
     },
     "metadata": {},
     "output_type": "display_data"
    },
    {
     "data": {
      "text/html": [
       "<pre style=\"white-space:pre;overflow-x:auto;line-height:normal;font-family:Menlo,'DejaVu Sans Mono',consolas,'Courier New',monospace\">Set model eval mode\n",
       "</pre>\n"
      ],
      "text/plain": [
       "Set model eval mode\n"
      ]
     },
     "metadata": {},
     "output_type": "display_data"
    },
    {
     "data": {
      "text/html": [
       "<pre style=\"white-space:pre;overflow-x:auto;line-height:normal;font-family:Menlo,'DejaVu Sans Mono',consolas,'Courier New',monospace\">label names:\n",
       "</pre>\n"
      ],
      "text/plain": [
       "label names:\n"
      ]
     },
     "metadata": {},
     "output_type": "display_data"
    },
    {
     "data": {
      "text/html": [
       "<pre style=\"white-space:pre;overflow-x:auto;line-height:normal;font-family:Menlo,'DejaVu Sans Mono',consolas,'Courier New',monospace\"><span style=\"font-weight: bold\">{</span>\n",
       "    <span style=\"color: #008080; text-decoration-color: #008080; font-weight: bold\">0</span>: <span style=\"color: #008000; text-decoration-color: #008000\">'الجانب البحثي و الأوراق البحثية'</span>,\n",
       "    <span style=\"color: #008080; text-decoration-color: #008080; font-weight: bold\">1</span>: <span style=\"color: #008000; text-decoration-color: #008000\">'المتطلبات و المهام و الدرجات'</span>,\n",
       "    <span style=\"color: #008080; text-decoration-color: #008080; font-weight: bold\">2</span>: <span style=\"color: #008000; text-decoration-color: #008000\">'الوقت و الجدول'</span>,\n",
       "    <span style=\"color: #008080; text-decoration-color: #008080; font-weight: bold\">3</span>: <span style=\"color: #008000; text-decoration-color: #008000\">'دكتور المقرر'</span>,\n",
       "    <span style=\"color: #008080; text-decoration-color: #008080; font-weight: bold\">4</span>: <span style=\"color: #008000; text-decoration-color: #008000\">'سوق العمل'</span>,\n",
       "    <span style=\"color: #008080; text-decoration-color: #008080; font-weight: bold\">5</span>: <span style=\"color: #008000; text-decoration-color: #008000\">'طريقة تدريس و تقديم المادة'</span>,\n",
       "    <span style=\"color: #008080; text-decoration-color: #008080; font-weight: bold\">6</span>: <span style=\"color: #008000; text-decoration-color: #008000\">'غير محدد'</span>,\n",
       "    <span style=\"color: #008080; text-decoration-color: #008080; font-weight: bold\">7</span>: <span style=\"color: #008000; text-decoration-color: #008000\">'محتوى ومعلومات المقرر'</span>,\n",
       "    <span style=\"color: #008080; text-decoration-color: #008080; font-weight: bold\">8</span>: <span style=\"color: #008000; text-decoration-color: #008000\">'موازنة الجزء العملي مع الجزء النظري'</span>\n",
       "<span style=\"font-weight: bold\">}</span>\n",
       "</pre>\n"
      ],
      "text/plain": [
       "\u001b[1m{\u001b[0m\n",
       "    \u001b[1;36m0\u001b[0m: \u001b[32m'الجانب البحثي و الأوراق البحثية'\u001b[0m,\n",
       "    \u001b[1;36m1\u001b[0m: \u001b[32m'المتطلبات و المهام و الدرجات'\u001b[0m,\n",
       "    \u001b[1;36m2\u001b[0m: \u001b[32m'الوقت و الجدول'\u001b[0m,\n",
       "    \u001b[1;36m3\u001b[0m: \u001b[32m'دكتور المقرر'\u001b[0m,\n",
       "    \u001b[1;36m4\u001b[0m: \u001b[32m'سوق العمل'\u001b[0m,\n",
       "    \u001b[1;36m5\u001b[0m: \u001b[32m'طريقة تدريس و تقديم المادة'\u001b[0m,\n",
       "    \u001b[1;36m6\u001b[0m: \u001b[32m'غير محدد'\u001b[0m,\n",
       "    \u001b[1;36m7\u001b[0m: \u001b[32m'محتوى ومعلومات المقرر'\u001b[0m,\n",
       "    \u001b[1;36m8\u001b[0m: \u001b[32m'موازنة الجزء العملي مع الجزء النظري'\u001b[0m\n",
       "\u001b[1m}\u001b[0m\n"
      ]
     },
     "metadata": {},
     "output_type": "display_data"
    },
    {
     "name": "stderr",
     "output_type": "stream",
     "text": [
      "100%|██████████| 202/202 [00:12<00:00, 15.79it/s]\n"
     ]
    }
   ],
   "source": [
    "# predict topics\n",
    "text_df['topic'] = batch_predict(text_df['text'].tolist(), topics_model_dir, device, batch_size=batch_size)"
   ]
  },
  {
   "cell_type": "code",
   "execution_count": 48,
   "metadata": {
    "tags": []
   },
   "outputs": [
    {
     "data": {
      "text/plain": [
       "394"
      ]
     },
     "execution_count": 48,
     "metadata": {},
     "output_type": "execute_result"
    }
   ],
   "source": [
    "torch.cuda.empty_cache()\n",
    "gc.collect()"
   ]
  },
  {
   "cell_type": "code",
   "execution_count": 50,
   "metadata": {
    "tags": []
   },
   "outputs": [
    {
     "data": {
      "text/html": [
       "<pre style=\"white-space:pre;overflow-x:auto;line-height:normal;font-family:Menlo,'DejaVu Sans Mono',consolas,'Courier New',monospace\">Moving model to cu<span style=\"color: #00ff00; text-decoration-color: #00ff00; font-weight: bold\">da:0</span><span style=\"color: #808000; text-decoration-color: #808000\">...</span>\n",
       "</pre>\n"
      ],
      "text/plain": [
       "Moving model to cu\u001b[1;92mda:0\u001b[0m\u001b[33m...\u001b[0m\n"
      ]
     },
     "metadata": {},
     "output_type": "display_data"
    },
    {
     "data": {
      "text/html": [
       "<pre style=\"white-space:pre;overflow-x:auto;line-height:normal;font-family:Menlo,'DejaVu Sans Mono',consolas,'Courier New',monospace\">Set model eval mode\n",
       "</pre>\n"
      ],
      "text/plain": [
       "Set model eval mode\n"
      ]
     },
     "metadata": {},
     "output_type": "display_data"
    },
    {
     "data": {
      "text/html": [
       "<pre style=\"white-space:pre;overflow-x:auto;line-height:normal;font-family:Menlo,'DejaVu Sans Mono',consolas,'Courier New',monospace\">label names:\n",
       "</pre>\n"
      ],
      "text/plain": [
       "label names:\n"
      ]
     },
     "metadata": {},
     "output_type": "display_data"
    },
    {
     "data": {
      "text/html": [
       "<pre style=\"white-space:pre;overflow-x:auto;line-height:normal;font-family:Menlo,'DejaVu Sans Mono',consolas,'Courier New',monospace\"><span style=\"font-weight: bold\">{</span><span style=\"color: #008080; text-decoration-color: #008080; font-weight: bold\">0</span>: <span style=\"color: #008000; text-decoration-color: #008000\">'Negative'</span>, <span style=\"color: #008080; text-decoration-color: #008080; font-weight: bold\">1</span>: <span style=\"color: #008000; text-decoration-color: #008000\">'Neutral'</span>, <span style=\"color: #008080; text-decoration-color: #008080; font-weight: bold\">2</span>: <span style=\"color: #008000; text-decoration-color: #008000\">'Positive'</span><span style=\"font-weight: bold\">}</span>\n",
       "</pre>\n"
      ],
      "text/plain": [
       "\u001b[1m{\u001b[0m\u001b[1;36m0\u001b[0m: \u001b[32m'Negative'\u001b[0m, \u001b[1;36m1\u001b[0m: \u001b[32m'Neutral'\u001b[0m, \u001b[1;36m2\u001b[0m: \u001b[32m'Positive'\u001b[0m\u001b[1m}\u001b[0m\n"
      ]
     },
     "metadata": {},
     "output_type": "display_data"
    },
    {
     "name": "stderr",
     "output_type": "stream",
     "text": [
      "100%|██████████| 202/202 [00:12<00:00, 16.72it/s]\n"
     ]
    }
   ],
   "source": [
    "text_df['sentiment'] = batch_predict(text_df['text'].tolist(), sentiment_model_dir, device, batch_size=batch_size)"
   ]
  },
  {
   "cell_type": "code",
   "execution_count": 51,
   "metadata": {
    "tags": []
   },
   "outputs": [
    {
     "data": {
      "text/html": [
       "<pre style=\"white-space:pre;overflow-x:auto;line-height:normal;font-family:Menlo,'DejaVu Sans Mono',consolas,'Courier New',monospace\">Moving model to cu<span style=\"color: #00ff00; text-decoration-color: #00ff00; font-weight: bold\">da:0</span><span style=\"color: #808000; text-decoration-color: #808000\">...</span>\n",
       "</pre>\n"
      ],
      "text/plain": [
       "Moving model to cu\u001b[1;92mda:0\u001b[0m\u001b[33m...\u001b[0m\n"
      ]
     },
     "metadata": {},
     "output_type": "display_data"
    },
    {
     "data": {
      "text/html": [
       "<pre style=\"white-space:pre;overflow-x:auto;line-height:normal;font-family:Menlo,'DejaVu Sans Mono',consolas,'Courier New',monospace\">Set model eval mode\n",
       "</pre>\n"
      ],
      "text/plain": [
       "Set model eval mode\n"
      ]
     },
     "metadata": {},
     "output_type": "display_data"
    },
    {
     "data": {
      "text/html": [
       "<pre style=\"white-space:pre;overflow-x:auto;line-height:normal;font-family:Menlo,'DejaVu Sans Mono',consolas,'Courier New',monospace\">label names:\n",
       "</pre>\n"
      ],
      "text/plain": [
       "label names:\n"
      ]
     },
     "metadata": {},
     "output_type": "display_data"
    },
    {
     "data": {
      "text/html": [
       "<pre style=\"white-space:pre;overflow-x:auto;line-height:normal;font-family:Menlo,'DejaVu Sans Mono',consolas,'Courier New',monospace\"><span style=\"font-weight: bold\">{</span><span style=\"color: #008080; text-decoration-color: #008080; font-weight: bold\">0</span>: <span style=\"color: #008000; text-decoration-color: #008000\">'needs enhancements'</span>, <span style=\"color: #008080; text-decoration-color: #008080; font-weight: bold\">1</span>: <span style=\"color: #008000; text-decoration-color: #008000\">'needs to be added'</span>, <span style=\"color: #008080; text-decoration-color: #008080; font-weight: bold\">2</span>: <span style=\"color: #008000; text-decoration-color: #008000\">'needs to be removed'</span>, <span style=\"color: #008080; text-decoration-color: #008080; font-weight: bold\">3</span>: <span style=\"color: #008000; text-decoration-color: #008000\">'none'</span><span style=\"font-weight: bold\">}</span>\n",
       "</pre>\n"
      ],
      "text/plain": [
       "\u001b[1m{\u001b[0m\u001b[1;36m0\u001b[0m: \u001b[32m'needs enhancements'\u001b[0m, \u001b[1;36m1\u001b[0m: \u001b[32m'needs to be added'\u001b[0m, \u001b[1;36m2\u001b[0m: \u001b[32m'needs to be removed'\u001b[0m, \u001b[1;36m3\u001b[0m: \u001b[32m'none'\u001b[0m\u001b[1m}\u001b[0m\n"
      ]
     },
     "metadata": {},
     "output_type": "display_data"
    },
    {
     "name": "stderr",
     "output_type": "stream",
     "text": [
      "100%|██████████| 202/202 [00:11<00:00, 16.93it/s]\n"
     ]
    }
   ],
   "source": [
    "text_df['suggestion'] = batch_predict(text_df['text'].tolist(), suggestions_model_dir, device, batch_size=batch_size)"
   ]
  },
  {
   "cell_type": "code",
   "execution_count": 52,
   "metadata": {
    "tags": []
   },
   "outputs": [
    {
     "data": {
      "text/html": [
       "<div>\n",
       "<style scoped>\n",
       "    .dataframe tbody tr th:only-of-type {\n",
       "        vertical-align: middle;\n",
       "    }\n",
       "\n",
       "    .dataframe tbody tr th {\n",
       "        vertical-align: top;\n",
       "    }\n",
       "\n",
       "    .dataframe thead th {\n",
       "        text-align: right;\n",
       "    }\n",
       "</style>\n",
       "<table border=\"1\" class=\"dataframe\">\n",
       "  <thead>\n",
       "    <tr style=\"text-align: right;\">\n",
       "      <th></th>\n",
       "      <th>column</th>\n",
       "      <th>text</th>\n",
       "      <th>topic</th>\n",
       "      <th>sentiment</th>\n",
       "      <th>suggestion</th>\n",
       "    </tr>\n",
       "  </thead>\n",
       "  <tbody>\n",
       "    <tr>\n",
       "      <th>0</th>\n",
       "      <td>like</td>\n",
       "      <td>أكثر ما أعجبني: - dr. emad is a professional i...</td>\n",
       "      <td>دكتور المقرر</td>\n",
       "      <td>Positive</td>\n",
       "      <td>none</td>\n",
       "    </tr>\n",
       "    <tr>\n",
       "      <th>1</th>\n",
       "      <td>improve_course</td>\n",
       "      <td>اقتراحاتي للتحسين: - إعطاء مشاريع صغيرة بدلا م...</td>\n",
       "      <td>المتطلبات و المهام و الدرجات</td>\n",
       "      <td>Neutral</td>\n",
       "      <td>needs enhancements</td>\n",
       "    </tr>\n",
       "    <tr>\n",
       "      <th>2</th>\n",
       "      <td>improve_course</td>\n",
       "      <td>اقتراحاتي للتحسين: - التركيز على إعطاء الطلبة ...</td>\n",
       "      <td>طريقة تدريس و تقديم المادة</td>\n",
       "      <td>Neutral</td>\n",
       "      <td>needs enhancements</td>\n",
       "    </tr>\n",
       "    <tr>\n",
       "      <th>3</th>\n",
       "      <td>add_suggestions</td>\n",
       "      <td>اقتراحاتي للإضافة: - عمل منهج واضح بالنسبة للط...</td>\n",
       "      <td>المتطلبات و المهام و الدرجات</td>\n",
       "      <td>Neutral</td>\n",
       "      <td>needs to be added</td>\n",
       "    </tr>\n",
       "    <tr>\n",
       "      <th>5</th>\n",
       "      <td>like</td>\n",
       "      <td>أكثر ما أعجبني: 1-the verity of tools that we ...</td>\n",
       "      <td>طريقة تدريس و تقديم المادة</td>\n",
       "      <td>Positive</td>\n",
       "      <td>needs enhancements</td>\n",
       "    </tr>\n",
       "  </tbody>\n",
       "</table>\n",
       "</div>"
      ],
      "text/plain": [
       "            column                                               text  \\\n",
       "0             like  أكثر ما أعجبني: - dr. emad is a professional i...   \n",
       "1   improve_course  اقتراحاتي للتحسين: - إعطاء مشاريع صغيرة بدلا م...   \n",
       "2   improve_course  اقتراحاتي للتحسين: - التركيز على إعطاء الطلبة ...   \n",
       "3  add_suggestions  اقتراحاتي للإضافة: - عمل منهج واضح بالنسبة للط...   \n",
       "5             like  أكثر ما أعجبني: 1-the verity of tools that we ...   \n",
       "\n",
       "                          topic sentiment          suggestion  \n",
       "0                  دكتور المقرر  Positive                none  \n",
       "1  المتطلبات و المهام و الدرجات   Neutral  needs enhancements  \n",
       "2    طريقة تدريس و تقديم المادة   Neutral  needs enhancements  \n",
       "3  المتطلبات و المهام و الدرجات   Neutral   needs to be added  \n",
       "5    طريقة تدريس و تقديم المادة  Positive  needs enhancements  "
      ]
     },
     "execution_count": 52,
     "metadata": {},
     "output_type": "execute_result"
    }
   ],
   "source": [
    "text_df.head()"
   ]
  },
  {
   "cell_type": "code",
   "execution_count": 53,
   "metadata": {
    "tags": []
   },
   "outputs": [],
   "source": [
    "suggestions_columns = ['improve_course', 'add_suggestions']"
   ]
  },
  {
   "cell_type": "code",
   "execution_count": 57,
   "metadata": {
    "tags": []
   },
   "outputs": [
    {
     "name": "stderr",
     "output_type": "stream",
     "text": [
      "100%|██████████| 1610/1610 [00:00<00:00, 110495.62it/s]\n"
     ]
    }
   ],
   "source": [
    "# filter suggestions\n",
    "tqdm.pandas()\n",
    "text_df['suggestion'] = text_df.progress_apply(lambda row: row['suggestion'] if row['column'] in (suggestions_columns) else np.nan, axis=1)"
   ]
  },
  {
   "cell_type": "code",
   "execution_count": 173,
   "metadata": {
    "tags": []
   },
   "outputs": [],
   "source": [
    "sentiment_result = text_df.groupby(['topic', 'sentiment']).size().unstack(fill_value=0)#.reset_index()"
   ]
  },
  {
   "cell_type": "code",
   "execution_count": 174,
   "metadata": {
    "tags": []
   },
   "outputs": [
    {
     "data": {
      "text/html": [
       "<div>\n",
       "<style scoped>\n",
       "    .dataframe tbody tr th:only-of-type {\n",
       "        vertical-align: middle;\n",
       "    }\n",
       "\n",
       "    .dataframe tbody tr th {\n",
       "        vertical-align: top;\n",
       "    }\n",
       "\n",
       "    .dataframe thead th {\n",
       "        text-align: right;\n",
       "    }\n",
       "</style>\n",
       "<table border=\"1\" class=\"dataframe\">\n",
       "  <thead>\n",
       "    <tr style=\"text-align: right;\">\n",
       "      <th>sentiment</th>\n",
       "      <th>Negative</th>\n",
       "      <th>Neutral</th>\n",
       "      <th>Positive</th>\n",
       "    </tr>\n",
       "    <tr>\n",
       "      <th>topic</th>\n",
       "      <th></th>\n",
       "      <th></th>\n",
       "      <th></th>\n",
       "    </tr>\n",
       "  </thead>\n",
       "  <tbody>\n",
       "    <tr>\n",
       "      <th>الجانب البحثي و الأوراق البحثية</th>\n",
       "      <td>10</td>\n",
       "      <td>18</td>\n",
       "      <td>41</td>\n",
       "    </tr>\n",
       "    <tr>\n",
       "      <th>المتطلبات و المهام و الدرجات</th>\n",
       "      <td>75</td>\n",
       "      <td>27</td>\n",
       "      <td>36</td>\n",
       "    </tr>\n",
       "    <tr>\n",
       "      <th>الوقت و الجدول</th>\n",
       "      <td>45</td>\n",
       "      <td>29</td>\n",
       "      <td>2</td>\n",
       "    </tr>\n",
       "    <tr>\n",
       "      <th>دكتور المقرر</th>\n",
       "      <td>59</td>\n",
       "      <td>21</td>\n",
       "      <td>233</td>\n",
       "    </tr>\n",
       "    <tr>\n",
       "      <th>سوق العمل</th>\n",
       "      <td>3</td>\n",
       "      <td>12</td>\n",
       "      <td>33</td>\n",
       "    </tr>\n",
       "    <tr>\n",
       "      <th>طريقة تدريس و تقديم المادة</th>\n",
       "      <td>32</td>\n",
       "      <td>27</td>\n",
       "      <td>75</td>\n",
       "    </tr>\n",
       "    <tr>\n",
       "      <th>غير محدد</th>\n",
       "      <td>26</td>\n",
       "      <td>44</td>\n",
       "      <td>112</td>\n",
       "    </tr>\n",
       "    <tr>\n",
       "      <th>محتوى ومعلومات المقرر</th>\n",
       "      <td>65</td>\n",
       "      <td>56</td>\n",
       "      <td>265</td>\n",
       "    </tr>\n",
       "    <tr>\n",
       "      <th>موازنة الجزء العملي مع الجزء النظري</th>\n",
       "      <td>50</td>\n",
       "      <td>131</td>\n",
       "      <td>83</td>\n",
       "    </tr>\n",
       "  </tbody>\n",
       "</table>\n",
       "</div>"
      ],
      "text/plain": [
       "sentiment                            Negative  Neutral  Positive\n",
       "topic                                                           \n",
       "الجانب البحثي و الأوراق البحثية            10       18        41\n",
       "المتطلبات و المهام و الدرجات               75       27        36\n",
       "الوقت و الجدول                             45       29         2\n",
       "دكتور المقرر                               59       21       233\n",
       "سوق العمل                                   3       12        33\n",
       "طريقة تدريس و تقديم المادة                 32       27        75\n",
       "غير محدد                                   26       44       112\n",
       "محتوى ومعلومات المقرر                      65       56       265\n",
       "موازنة الجزء العملي مع الجزء النظري        50      131        83"
      ]
     },
     "execution_count": 174,
     "metadata": {},
     "output_type": "execute_result"
    }
   ],
   "source": [
    "# sentiment_result.columns = ['topic', 'Negative', 'Neutral', 'Positive']\n",
    "sentiment_result"
   ]
  },
  {
   "cell_type": "code",
   "execution_count": 176,
   "metadata": {
    "tags": []
   },
   "outputs": [],
   "source": [
    "###########################################################################\n",
    "## These English pseudo label names are just for demonstration purposes. ##\n",
    "###########################################################################\n",
    "en_topic_names = {\n",
    "    \"الجانب البحثي و الأوراق البحثية\": \"Research\",\n",
    "    \"المتطلبات و المهام و الدرجات\": \"Tasks\",\n",
    "    \"الوقت و الجدول\": \"Time Table\",\n",
    "    \"دكتور المقرر\": \"Doctor\",\n",
    "    \"سوق العمل\": \"Labor Market\",\n",
    "    \"طريقة تدريس و تقديم المادة\": \"Teaching Methods\",\n",
    "    \"غير محدد\": \"None\",\n",
    "    \"محتوى ومعلومات المقرر\": \"Curriculum\",\n",
    "    \"موازنة الجزء العملي مع الجزء النظري\": \"Practical\"\n",
    "}"
   ]
  },
  {
   "cell_type": "code",
   "execution_count": 191,
   "metadata": {
    "tags": []
   },
   "outputs": [],
   "source": [
    "def plot_result(result_df: pd.DataFrame, title, xlabel, ylabel, legend_title, figsize=(10, 8)):\n",
    "    # Plotting\n",
    "    result = result_df.copy()\n",
    "    result.index = [en_topic_names[x] for x in result.index.tolist()]\n",
    "    \n",
    "    \n",
    "    result.plot(kind='bar', figsize=figsize)\n",
    "\n",
    "    # Customize the plot\n",
    "    plt.title(title)\n",
    "    plt.xlabel(xlabel)\n",
    "    locs, xticks = plt.xticks()\n",
    "    \n",
    "    plt.ylabel(ylabel)\n",
    "    plt.xticks(rotation=45, ha='right')\n",
    "    plt.legend(title=legend_title)\n",
    "    plt.show()"
   ]
  },
  {
   "cell_type": "code",
   "execution_count": 195,
   "metadata": {
    "tags": []
   },
   "outputs": [],
   "source": [
    "figsize = (12, 8)"
   ]
  },
  {
   "cell_type": "code",
   "execution_count": 196,
   "metadata": {
    "tags": []
   },
   "outputs": [
    {
     "data": {
      "image/png": "[encoded data removed]",
      "text/plain": [
       "<Figure size 1200x800 with 1 Axes>"
      ]
     },
     "metadata": {},
     "output_type": "display_data"
    }
   ],
   "source": [
    "plot_result(sentiment_result, title='Sentiment Count by Topic', \n",
    "            xlabel='Topic', ylabel='Number of Examples', legend_title='Sentiment', figsize=figsize)"
   ]
  },
  {
   "cell_type": "code",
   "execution_count": 197,
   "metadata": {
    "tags": []
   },
   "outputs": [
    {
     "data": {
      "text/plain": [
       "538"
      ]
     },
     "execution_count": 197,
     "metadata": {},
     "output_type": "execute_result"
    }
   ],
   "source": [
    "suggestions_df = text_df.dropna()\n",
    "len(suggestions_df)"
   ]
  },
  {
   "cell_type": "code",
   "execution_count": 198,
   "metadata": {
    "tags": []
   },
   "outputs": [
    {
     "data": {
      "text/html": [
       "<div>\n",
       "<style scoped>\n",
       "    .dataframe tbody tr th:only-of-type {\n",
       "        vertical-align: middle;\n",
       "    }\n",
       "\n",
       "    .dataframe tbody tr th {\n",
       "        vertical-align: top;\n",
       "    }\n",
       "\n",
       "    .dataframe thead th {\n",
       "        text-align: right;\n",
       "    }\n",
       "</style>\n",
       "<table border=\"1\" class=\"dataframe\">\n",
       "  <thead>\n",
       "    <tr style=\"text-align: right;\">\n",
       "      <th></th>\n",
       "      <th>column</th>\n",
       "      <th>text</th>\n",
       "      <th>topic</th>\n",
       "      <th>sentiment</th>\n",
       "      <th>suggestion</th>\n",
       "    </tr>\n",
       "  </thead>\n",
       "  <tbody>\n",
       "    <tr>\n",
       "      <th>1</th>\n",
       "      <td>improve_course</td>\n",
       "      <td>اقتراحاتي للتحسين: - إعطاء مشاريع صغيرة بدلا م...</td>\n",
       "      <td>المتطلبات و المهام و الدرجات</td>\n",
       "      <td>Neutral</td>\n",
       "      <td>needs enhancements</td>\n",
       "    </tr>\n",
       "    <tr>\n",
       "      <th>2</th>\n",
       "      <td>improve_course</td>\n",
       "      <td>اقتراحاتي للتحسين: - التركيز على إعطاء الطلبة ...</td>\n",
       "      <td>طريقة تدريس و تقديم المادة</td>\n",
       "      <td>Neutral</td>\n",
       "      <td>needs enhancements</td>\n",
       "    </tr>\n",
       "    <tr>\n",
       "      <th>3</th>\n",
       "      <td>add_suggestions</td>\n",
       "      <td>اقتراحاتي للإضافة: - عمل منهج واضح بالنسبة للط...</td>\n",
       "      <td>المتطلبات و المهام و الدرجات</td>\n",
       "      <td>Neutral</td>\n",
       "      <td>needs to be added</td>\n",
       "    </tr>\n",
       "    <tr>\n",
       "      <th>6</th>\n",
       "      <td>improve_course</td>\n",
       "      <td>اقتراحاتي للتحسين: 1-التدريب على الأسئلة 2-الت...</td>\n",
       "      <td>موازنة الجزء العملي مع الجزء النظري</td>\n",
       "      <td>Neutral</td>\n",
       "      <td>needs enhancements</td>\n",
       "    </tr>\n",
       "    <tr>\n",
       "      <th>8</th>\n",
       "      <td>add_suggestions</td>\n",
       "      <td>اقتراحاتي للإضافة: 1-تحسين أسلوب دكتوره الماده...</td>\n",
       "      <td>دكتور المقرر</td>\n",
       "      <td>Neutral</td>\n",
       "      <td>needs to be added</td>\n",
       "    </tr>\n",
       "  </tbody>\n",
       "</table>\n",
       "</div>"
      ],
      "text/plain": [
       "            column                                               text  \\\n",
       "1   improve_course  اقتراحاتي للتحسين: - إعطاء مشاريع صغيرة بدلا م...   \n",
       "2   improve_course  اقتراحاتي للتحسين: - التركيز على إعطاء الطلبة ...   \n",
       "3  add_suggestions  اقتراحاتي للإضافة: - عمل منهج واضح بالنسبة للط...   \n",
       "6   improve_course  اقتراحاتي للتحسين: 1-التدريب على الأسئلة 2-الت...   \n",
       "8  add_suggestions  اقتراحاتي للإضافة: 1-تحسين أسلوب دكتوره الماده...   \n",
       "\n",
       "                                 topic sentiment          suggestion  \n",
       "1         المتطلبات و المهام و الدرجات   Neutral  needs enhancements  \n",
       "2           طريقة تدريس و تقديم المادة   Neutral  needs enhancements  \n",
       "3         المتطلبات و المهام و الدرجات   Neutral   needs to be added  \n",
       "6  موازنة الجزء العملي مع الجزء النظري   Neutral  needs enhancements  \n",
       "8                         دكتور المقرر   Neutral   needs to be added  "
      ]
     },
     "execution_count": 198,
     "metadata": {},
     "output_type": "execute_result"
    }
   ],
   "source": [
    "suggestions_df.head()"
   ]
  },
  {
   "cell_type": "code",
   "execution_count": 199,
   "metadata": {
    "tags": []
   },
   "outputs": [],
   "source": [
    "suggestions_result = text_df.groupby(['topic', 'suggestion']).size().unstack(fill_value=0)#.reset_index()"
   ]
  },
  {
   "cell_type": "code",
   "execution_count": 200,
   "metadata": {
    "tags": []
   },
   "outputs": [
    {
     "data": {
      "text/html": [
       "<div>\n",
       "<style scoped>\n",
       "    .dataframe tbody tr th:only-of-type {\n",
       "        vertical-align: middle;\n",
       "    }\n",
       "\n",
       "    .dataframe tbody tr th {\n",
       "        vertical-align: top;\n",
       "    }\n",
       "\n",
       "    .dataframe thead th {\n",
       "        text-align: right;\n",
       "    }\n",
       "</style>\n",
       "<table border=\"1\" class=\"dataframe\">\n",
       "  <thead>\n",
       "    <tr style=\"text-align: right;\">\n",
       "      <th>suggestion</th>\n",
       "      <th>needs enhancements</th>\n",
       "      <th>needs to be added</th>\n",
       "      <th>needs to be removed</th>\n",
       "      <th>none</th>\n",
       "    </tr>\n",
       "    <tr>\n",
       "      <th>topic</th>\n",
       "      <th></th>\n",
       "      <th></th>\n",
       "      <th></th>\n",
       "      <th></th>\n",
       "    </tr>\n",
       "  </thead>\n",
       "  <tbody>\n",
       "    <tr>\n",
       "      <th>الجانب البحثي و الأوراق البحثية</th>\n",
       "      <td>6</td>\n",
       "      <td>13</td>\n",
       "      <td>0</td>\n",
       "      <td>0</td>\n",
       "    </tr>\n",
       "    <tr>\n",
       "      <th>المتطلبات و المهام و الدرجات</th>\n",
       "      <td>19</td>\n",
       "      <td>16</td>\n",
       "      <td>3</td>\n",
       "      <td>0</td>\n",
       "    </tr>\n",
       "    <tr>\n",
       "      <th>الوقت و الجدول</th>\n",
       "      <td>16</td>\n",
       "      <td>16</td>\n",
       "      <td>1</td>\n",
       "      <td>0</td>\n",
       "    </tr>\n",
       "    <tr>\n",
       "      <th>دكتور المقرر</th>\n",
       "      <td>9</td>\n",
       "      <td>28</td>\n",
       "      <td>14</td>\n",
       "      <td>21</td>\n",
       "    </tr>\n",
       "    <tr>\n",
       "      <th>سوق العمل</th>\n",
       "      <td>3</td>\n",
       "      <td>10</td>\n",
       "      <td>0</td>\n",
       "      <td>0</td>\n",
       "    </tr>\n",
       "    <tr>\n",
       "      <th>طريقة تدريس و تقديم المادة</th>\n",
       "      <td>18</td>\n",
       "      <td>23</td>\n",
       "      <td>2</td>\n",
       "      <td>1</td>\n",
       "    </tr>\n",
       "    <tr>\n",
       "      <th>غير محدد</th>\n",
       "      <td>5</td>\n",
       "      <td>33</td>\n",
       "      <td>1</td>\n",
       "      <td>54</td>\n",
       "    </tr>\n",
       "    <tr>\n",
       "      <th>محتوى ومعلومات المقرر</th>\n",
       "      <td>24</td>\n",
       "      <td>55</td>\n",
       "      <td>2</td>\n",
       "      <td>3</td>\n",
       "    </tr>\n",
       "    <tr>\n",
       "      <th>موازنة الجزء العملي مع الجزء النظري</th>\n",
       "      <td>49</td>\n",
       "      <td>93</td>\n",
       "      <td>0</td>\n",
       "      <td>0</td>\n",
       "    </tr>\n",
       "  </tbody>\n",
       "</table>\n",
       "</div>"
      ],
      "text/plain": [
       "suggestion                           needs enhancements  needs to be added  \\\n",
       "topic                                                                        \n",
       "الجانب البحثي و الأوراق البحثية                       6                 13   \n",
       "المتطلبات و المهام و الدرجات                         19                 16   \n",
       "الوقت و الجدول                                       16                 16   \n",
       "دكتور المقرر                                          9                 28   \n",
       "سوق العمل                                             3                 10   \n",
       "طريقة تدريس و تقديم المادة                           18                 23   \n",
       "غير محدد                                              5                 33   \n",
       "محتوى ومعلومات المقرر                                24                 55   \n",
       "موازنة الجزء العملي مع الجزء النظري                  49                 93   \n",
       "\n",
       "suggestion                           needs to be removed  none  \n",
       "topic                                                           \n",
       "الجانب البحثي و الأوراق البحثية                        0     0  \n",
       "المتطلبات و المهام و الدرجات                           3     0  \n",
       "الوقت و الجدول                                         1     0  \n",
       "دكتور المقرر                                          14    21  \n",
       "سوق العمل                                              0     0  \n",
       "طريقة تدريس و تقديم المادة                             2     1  \n",
       "غير محدد                                               1    54  \n",
       "محتوى ومعلومات المقرر                                  2     3  \n",
       "موازنة الجزء العملي مع الجزء النظري                    0     0  "
      ]
     },
     "execution_count": 200,
     "metadata": {},
     "output_type": "execute_result"
    }
   ],
   "source": [
    "suggestions_result"
   ]
  },
  {
   "cell_type": "code",
   "execution_count": 201,
   "metadata": {
    "tags": []
   },
   "outputs": [
    {
     "data": {
      "image/png": "[encoded data removed]",
      "text/plain": [
       "<Figure size 1200x800 with 1 Axes>"
      ]
     },
     "metadata": {},
     "output_type": "display_data"
    }
   ],
   "source": [
    "plot_result(suggestions_result, title='Suggestion Count by Topic', \n",
    "            xlabel='Topic', ylabel='Number of Examples', legend_title='Suggestions', figsize=figsize)"
   ]
  },
  {
   "cell_type": "code",
   "execution_count": null,
   "metadata": {},
   "outputs": [],
   "source": []
  }
 ],
 "metadata": {
  "kernelspec": {
   "display_name": "Python 3 (ipykernel)",
   "language": "python",
   "name": "python3"
  },
  "language_info": {
   "codemirror_mode": {
    "name": "ipython",
    "version": 3
   },
   "file_extension": ".py",
   "mimetype": "text/x-python",
   "name": "python",
   "nbconvert_exporter": "python",
   "pygments_lexer": "ipython3",
   "version": "3.11.7"
  }
 },
 "nbformat": 4,
 "nbformat_minor": 4
}
